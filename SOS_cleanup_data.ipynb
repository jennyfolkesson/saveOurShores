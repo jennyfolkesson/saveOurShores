{
 "cells": [
  {
   "attachments": {
    "0b4905f1-0d21-4b9b-8ef4-d3e5300ddc11.png": {
     "image/png": "[encoded data removed]"
    }
   },
   "cell_type": "markdown",
   "id": "af6bbee6-4899-4434-a299-c33c8a61f553",
   "metadata": {},
   "source": [
    "![SOS-side-by-side-Logo_Digital-4.png](attachment:0b4905f1-0d21-4b9b-8ef4-d3e5300ddc11.png)\n",
    "\n",
    "# Visualizations of Save Our Shores Cleanup Data 2013-2022\n",
    "\n",
    "[Save Our Shores](https://saveourshores.org) (SOS) is a non-profit dedicated to ocean conservation in the Monterey Bay through education, advocacy, and beach cleanups. SOS organize many cleanup events every year, and they also coordinate over 60 cleanup sites around the Monterey Bay Marine National Sanctuary for the Annual Coastal Cleanup Day in September every year. For each event, data such as location, number of volunteers, duration, weight of trash and recycling, and types of items cleaned up are registered, and data has been collected since 2013.\n",
    "\n",
    "This creates a rich data set that can e.g. be used to help drive policy changes around single use plastic. NOAA used the SOS data, along with other data sets, in their recent report [\"Marine debris on the shoreline of Monterey Bay National Marine Sanctuary: An assessment of behaviors contributing to marine debris, categories & composition, spatial distribution, and predictor variables\"](https://marinedebris.noaa.gov/other-reports/marine-debris-shoreline-monterey-bay-national-marine-sanctuary-assessment-behaviors), where they analyzed what types of trash are most prevalent, what activities they stem from, as well as exploring predictors of marine debris and suggesting recommendations.\n",
    "\n",
    "A current focus for SOS is reducing cigarette butt waste, which is prevalent and negatively impacts our ecosystems. [Cigarette butts are made of single use plastic and don't help protect smokers from negative effects, which raises the question why they are tolerated](https://www.theguardian.com/environment/2022/aug/18/cigarette-butts-how-the-no-1-most-littered-objects-are-choking-our-coasts).\n",
    "\n",
    "The SOS data has been stored in 1-2 xslx files for each year, with a wide variety of item names, types and site names. Code for data cleanup and plots can be found [on GitHub](https://github.com/jennyfolkesson/cleanupShores).\n",
    "\n",
    "When possible, item categories have a similar stucture to those in NOAA's Monterey Bay National Marine Sanctuary Marine Debris report. There are some open questions, such as if items should be grouped by material or type, and what to do when the material is unknown. The code for categorizing items can be seen in the GitHub link above.\n",
    "\n",
    "This document will be updated with more graphs as the data is further explored."
   ]
  },
  {
   "cell_type": "code",
   "execution_count": 1,
   "id": "9254f721-fdfc-44c3-823a-c5382f174f41",
   "metadata": {},
   "outputs": [
    {
     "data": {
      "text/html": [
       "        <script type=\"text/javascript\">\n",
       "        window.PlotlyConfig = {MathJaxConfig: 'local'};\n",
       "        if (window.MathJax && window.MathJax.Hub && window.MathJax.Hub.Config) {window.MathJax.Hub.Config({SVG: {font: \"STIX-Web\"}});}\n",
       "        if (typeof require !== 'undefined') {\n",
       "        require.undef(\"plotly\");\n",
       "        requirejs.config({\n",
       "            paths: {\n",
       "                'plotly': ['https://cdn.plot.ly/plotly-2.34.0.min']\n",
       "            }\n",
       "        });\n",
       "        require(['plotly'], function(Plotly) {\n",
       "            window._Plotly = Plotly;\n",
       "        });\n",
       "        }\n",
       "        </script>\n",
       "        "
      ]
     },
     "metadata": {},
     "output_type": "display_data"
    }
   ],
   "source": [
    "import circlify\n",
    "import glob\n",
    "import numpy as np\n",
    "import os\n",
    "import pandas as pd\n",
    "import plotly\n",
    "import plotly.express as px\n",
    "import plotly.graph_objects as go\n",
    "from pprint import pprint\n",
    "import tabulate\n",
    "\n",
    "import cleanup as cleanup \n",
    "import graphs as graphs\n",
    "\n",
    "import plotly.io as pio\n",
    "from plotly.offline import init_notebook_mode\n",
    "\n",
    "pio.renderers.default = \"notebook_connected\"\n",
    "init_notebook_mode(connected=True)"
   ]
  },
  {
   "cell_type": "markdown",
   "id": "df8b8a90-7b26-41b5-8dcc-d658ba60d672",
   "metadata": {},
   "source": [
    "Read the file where data from all years are gathered, or create it if it is't in the directory already."
   ]
  },
  {
   "cell_type": "code",
   "execution_count": 2,
   "id": "a423a964-c918-47c0-8e35-84ebd8e07a2a",
   "metadata": {},
   "outputs": [],
   "source": [
    "data_dir = '/Users/jenny.folkesson/Data/SOS Cleanup Data 2013-2022'\n",
    "sos_data, col_config = cleanup.read_data(data_dir)"
   ]
  },
  {
   "cell_type": "markdown",
   "id": "22facbf0-54e6-48bb-9d57-6d70c4608b09",
   "metadata": {},
   "source": [
    "Below you can see the structure of the combined 2013-2022 data set. All the columns and the first five rows are on display."
   ]
  },
  {
   "cell_type": "code",
   "execution_count": 3,
   "id": "95098a54-9d6d-43fd-9ff4-f95d95613188",
   "metadata": {},
   "outputs": [
    {
     "data": {
      "text/html": [
       "<div>\n",
       "<style scoped>\n",
       "    .dataframe tbody tr th:only-of-type {\n",
       "        vertical-align: middle;\n",
       "    }\n",
       "\n",
       "    .dataframe tbody tr th {\n",
       "        vertical-align: top;\n",
       "    }\n",
       "\n",
       "    .dataframe thead th {\n",
       "        text-align: right;\n",
       "    }\n",
       "</style>\n",
       "<table border=\"1\" class=\"dataframe\">\n",
       "  <thead>\n",
       "    <tr style=\"text-align: right;\">\n",
       "      <th></th>\n",
       "      <th>Date</th>\n",
       "      <th>Cleanup Site</th>\n",
       "      <th>Data Collection</th>\n",
       "      <th>Duration (Hrs)</th>\n",
       "      <th>Adult Volunteers</th>\n",
       "      <th>Youth Volunteers</th>\n",
       "      <th>Trash (lbs)</th>\n",
       "      <th>Recycling (lbs)</th>\n",
       "      <th>County/City</th>\n",
       "      <th>Type Of Cleanup</th>\n",
       "      <th>...</th>\n",
       "      <th>Other</th>\n",
       "      <th>Nails</th>\n",
       "      <th>Cleaned Size (Sq Miles)</th>\n",
       "      <th>Foil</th>\n",
       "      <th>Bikes</th>\n",
       "      <th>Car Parts</th>\n",
       "      <th>Footwear</th>\n",
       "      <th>Beverage Bottles</th>\n",
       "      <th>Total Items</th>\n",
       "      <th>Total Volunteers</th>\n",
       "    </tr>\n",
       "  </thead>\n",
       "  <tbody>\n",
       "    <tr>\n",
       "      <th>0</th>\n",
       "      <td>2013-01-12</td>\n",
       "      <td>Del Monte Beach</td>\n",
       "      <td>NaN</td>\n",
       "      <td>2.0</td>\n",
       "      <td>35.0</td>\n",
       "      <td>NaN</td>\n",
       "      <td>119.0</td>\n",
       "      <td>28.0</td>\n",
       "      <td>Monterey/Monterey</td>\n",
       "      <td>NaN</td>\n",
       "      <td>...</td>\n",
       "      <td>50.0</td>\n",
       "      <td>6.0</td>\n",
       "      <td>0.0</td>\n",
       "      <td>16.0</td>\n",
       "      <td>2.0</td>\n",
       "      <td>0.0</td>\n",
       "      <td>1.0</td>\n",
       "      <td>NaN</td>\n",
       "      <td>3983.0</td>\n",
       "      <td>35.0</td>\n",
       "    </tr>\n",
       "    <tr>\n",
       "      <th>1</th>\n",
       "      <td>2013-01-12</td>\n",
       "      <td>Manresa State Beach</td>\n",
       "      <td>NaN</td>\n",
       "      <td>2.0</td>\n",
       "      <td>24.0</td>\n",
       "      <td>NaN</td>\n",
       "      <td>20.0</td>\n",
       "      <td>11.0</td>\n",
       "      <td>Watsonville/Santa Cruz County</td>\n",
       "      <td>NaN</td>\n",
       "      <td>...</td>\n",
       "      <td>24.0</td>\n",
       "      <td>33.0</td>\n",
       "      <td>2.0</td>\n",
       "      <td>109.0</td>\n",
       "      <td>0.0</td>\n",
       "      <td>0.0</td>\n",
       "      <td>59.0</td>\n",
       "      <td>NaN</td>\n",
       "      <td>6228.0</td>\n",
       "      <td>24.0</td>\n",
       "    </tr>\n",
       "    <tr>\n",
       "      <th>2</th>\n",
       "      <td>2013-01-18</td>\n",
       "      <td>New Brighton State Beach</td>\n",
       "      <td>NaN</td>\n",
       "      <td>2.0</td>\n",
       "      <td>32.0</td>\n",
       "      <td>NaN</td>\n",
       "      <td>5.0</td>\n",
       "      <td>0.0</td>\n",
       "      <td>Santa Cruz/Santa Cruz</td>\n",
       "      <td>NaN</td>\n",
       "      <td>...</td>\n",
       "      <td>3.0</td>\n",
       "      <td>0.0</td>\n",
       "      <td>1.0</td>\n",
       "      <td>6.0</td>\n",
       "      <td>0.0</td>\n",
       "      <td>2.0</td>\n",
       "      <td>0.0</td>\n",
       "      <td>NaN</td>\n",
       "      <td>100.0</td>\n",
       "      <td>32.0</td>\n",
       "    </tr>\n",
       "    <tr>\n",
       "      <th>3</th>\n",
       "      <td>2013-01-18</td>\n",
       "      <td>Seabright State Beach</td>\n",
       "      <td>NaN</td>\n",
       "      <td>2.0</td>\n",
       "      <td>40.0</td>\n",
       "      <td>NaN</td>\n",
       "      <td>40.0</td>\n",
       "      <td>20.0</td>\n",
       "      <td>Santa Cruz/Santa Cruz</td>\n",
       "      <td>NaN</td>\n",
       "      <td>...</td>\n",
       "      <td>19.0</td>\n",
       "      <td>0.0</td>\n",
       "      <td>0.0</td>\n",
       "      <td>1.0</td>\n",
       "      <td>3.0</td>\n",
       "      <td>0.0</td>\n",
       "      <td>3.0</td>\n",
       "      <td>NaN</td>\n",
       "      <td>395.0</td>\n",
       "      <td>40.0</td>\n",
       "    </tr>\n",
       "    <tr>\n",
       "      <th>4</th>\n",
       "      <td>2013-01-19</td>\n",
       "      <td>Seacliff State Beach</td>\n",
       "      <td>NaN</td>\n",
       "      <td>3.0</td>\n",
       "      <td>51.0</td>\n",
       "      <td>NaN</td>\n",
       "      <td>33.0</td>\n",
       "      <td>5.0</td>\n",
       "      <td>Aptos/Santa Cruz</td>\n",
       "      <td>NaN</td>\n",
       "      <td>...</td>\n",
       "      <td>11.0</td>\n",
       "      <td>2.0</td>\n",
       "      <td>2.0</td>\n",
       "      <td>35.0</td>\n",
       "      <td>0.0</td>\n",
       "      <td>0.0</td>\n",
       "      <td>4.0</td>\n",
       "      <td>NaN</td>\n",
       "      <td>2383.0</td>\n",
       "      <td>51.0</td>\n",
       "    </tr>\n",
       "  </tbody>\n",
       "</table>\n",
       "<p>5 rows × 61 columns</p>\n",
       "</div>"
      ],
      "text/plain": [
       "        Date              Cleanup Site Data Collection  Duration (Hrs)  \\\n",
       "0 2013-01-12           Del Monte Beach             NaN             2.0   \n",
       "1 2013-01-12       Manresa State Beach             NaN             2.0   \n",
       "2 2013-01-18  New Brighton State Beach             NaN             2.0   \n",
       "3 2013-01-18     Seabright State Beach             NaN             2.0   \n",
       "4 2013-01-19      Seacliff State Beach             NaN             3.0   \n",
       "\n",
       "   Adult Volunteers  Youth Volunteers  Trash (lbs)  Recycling (lbs)  \\\n",
       "0              35.0               NaN        119.0             28.0   \n",
       "1              24.0               NaN         20.0             11.0   \n",
       "2              32.0               NaN          5.0              0.0   \n",
       "3              40.0               NaN         40.0             20.0   \n",
       "4              51.0               NaN         33.0              5.0   \n",
       "\n",
       "                     County/City Type Of Cleanup  ...  Other  Nails  \\\n",
       "0              Monterey/Monterey             NaN  ...   50.0    6.0   \n",
       "1  Watsonville/Santa Cruz County             NaN  ...   24.0   33.0   \n",
       "2          Santa Cruz/Santa Cruz             NaN  ...    3.0    0.0   \n",
       "3          Santa Cruz/Santa Cruz             NaN  ...   19.0    0.0   \n",
       "4               Aptos/Santa Cruz             NaN  ...   11.0    2.0   \n",
       "\n",
       "   Cleaned Size (Sq Miles)   Foil  Bikes  Car Parts  Footwear  \\\n",
       "0                      0.0   16.0    2.0        0.0       1.0   \n",
       "1                      2.0  109.0    0.0        0.0      59.0   \n",
       "2                      1.0    6.0    0.0        2.0       0.0   \n",
       "3                      0.0    1.0    3.0        0.0       3.0   \n",
       "4                      2.0   35.0    0.0        0.0       4.0   \n",
       "\n",
       "   Beverage Bottles  Total Items  Total Volunteers  \n",
       "0               NaN       3983.0              35.0  \n",
       "1               NaN       6228.0              24.0  \n",
       "2               NaN        100.0              32.0  \n",
       "3               NaN        395.0              40.0  \n",
       "4               NaN       2383.0              51.0  \n",
       "\n",
       "[5 rows x 61 columns]"
      ]
     },
     "execution_count": 3,
     "metadata": {},
     "output_type": "execute_result"
    }
   ],
   "source": [
    "sos_data.head()"
   ]
  },
  {
   "cell_type": "markdown",
   "id": "52e28345-5d41-4d18-89c6-d4ad449a04dd",
   "metadata": {},
   "source": [
    "There's also a saved config file that describe the column names of the sos_data in further detail. For each column name, the following characteristics are listed:\n",
    "* potential sources from individual years\n",
    "* data type (datetime, str, int, float)\n",
    "* required (boolean)\n",
    "* material (plastic, wood, glass, metal, mixed). NA for non items\n",
    "* activity (Various, Eating/Drinking, Dumping/Disaster, 'Smoking', 'Hygiene')"
   ]
  },
  {
   "cell_type": "code",
   "execution_count": 4,
   "id": "6c22d93a-47f4-4451-a8c5-db8514decf3f",
   "metadata": {},
   "outputs": [
    {
     "data": {
      "text/html": [
       "<div>\n",
       "<style scoped>\n",
       "    .dataframe tbody tr th:only-of-type {\n",
       "        vertical-align: middle;\n",
       "    }\n",
       "\n",
       "    .dataframe tbody tr th {\n",
       "        vertical-align: top;\n",
       "    }\n",
       "\n",
       "    .dataframe thead th {\n",
       "        text-align: right;\n",
       "    }\n",
       "</style>\n",
       "<table border=\"1\" class=\"dataframe\">\n",
       "  <thead>\n",
       "    <tr style=\"text-align: right;\">\n",
       "      <th></th>\n",
       "      <th>name</th>\n",
       "      <th>sources</th>\n",
       "      <th>type</th>\n",
       "      <th>required</th>\n",
       "      <th>material</th>\n",
       "      <th>activity</th>\n",
       "    </tr>\n",
       "  </thead>\n",
       "  <tbody>\n",
       "    <tr>\n",
       "      <th>0</th>\n",
       "      <td>Date</td>\n",
       "      <td>['Date', 'Date Of Cleanup Event/Fecha', 'Clean...</td>\n",
       "      <td>datetime</td>\n",
       "      <td>True</td>\n",
       "      <td>NaN</td>\n",
       "      <td>NaN</td>\n",
       "    </tr>\n",
       "    <tr>\n",
       "      <th>1</th>\n",
       "      <td>Cleanup Site</td>\n",
       "      <td>['Cleanup Site', 'Cleanup Site/Sitio De Limpie...</td>\n",
       "      <td>str</td>\n",
       "      <td>True</td>\n",
       "      <td>NaN</td>\n",
       "      <td>NaN</td>\n",
       "    </tr>\n",
       "    <tr>\n",
       "      <th>2</th>\n",
       "      <td>Cleaned Size (Sq Miles)</td>\n",
       "      <td>['Cleaned Size (Sq Miles)', 'Estimated Size Of...</td>\n",
       "      <td>int</td>\n",
       "      <td>False</td>\n",
       "      <td>NaN</td>\n",
       "      <td>NaN</td>\n",
       "    </tr>\n",
       "    <tr>\n",
       "      <th>3</th>\n",
       "      <td>Data Collection</td>\n",
       "      <td>['Data Collection', 'Data Collection Method']</td>\n",
       "      <td>str</td>\n",
       "      <td>False</td>\n",
       "      <td>NaN</td>\n",
       "      <td>NaN</td>\n",
       "    </tr>\n",
       "    <tr>\n",
       "      <th>4</th>\n",
       "      <td>Duration (Hrs)</td>\n",
       "      <td>['Duration (Hrs)', 'Total Cleanup Duration (Hr...</td>\n",
       "      <td>int</td>\n",
       "      <td>True</td>\n",
       "      <td>NaN</td>\n",
       "      <td>NaN</td>\n",
       "    </tr>\n",
       "  </tbody>\n",
       "</table>\n",
       "</div>"
      ],
      "text/plain": [
       "                      name                                            sources  \\\n",
       "0                     Date  ['Date', 'Date Of Cleanup Event/Fecha', 'Clean...   \n",
       "1             Cleanup Site  ['Cleanup Site', 'Cleanup Site/Sitio De Limpie...   \n",
       "2  Cleaned Size (Sq Miles)  ['Cleaned Size (Sq Miles)', 'Estimated Size Of...   \n",
       "3          Data Collection      ['Data Collection', 'Data Collection Method']   \n",
       "4           Duration (Hrs)  ['Duration (Hrs)', 'Total Cleanup Duration (Hr...   \n",
       "\n",
       "       type  required material activity  \n",
       "0  datetime      True      NaN      NaN  \n",
       "1       str      True      NaN      NaN  \n",
       "2       int     False      NaN      NaN  \n",
       "3       str     False      NaN      NaN  \n",
       "4       int      True      NaN      NaN  "
      ]
     },
     "execution_count": 4,
     "metadata": {},
     "output_type": "execute_result"
    }
   ],
   "source": [
    "col_config.head()"
   ]
  },
  {
   "cell_type": "markdown",
   "id": "aa3045a9-cbdd-41e7-8268-ffa7cddeca86",
   "metadata": {},
   "source": [
    "## Number of Items Collected in 2023 Color Coded by Material\n",
    "\n",
    "This circle packing graph shows the total amount of items of the given categories that have been cleaned up by Save Our Shores from in 2023. The circle sizes correspond to the number of items. When circles are too small to display the text within them, the text has been removed, and you can instead hover over the circle to see the item category and number.\n",
    "The circles are color coded based on their material, with the categories Mixed, Wood, Glass, Metal and Plastic."
   ]
  },
  {
   "cell_type": "code",
   "execution_count": 5,
   "id": "9c469926-1592-4305-8002-fd40a2f5e583",
   "metadata": {},
   "outputs": [],
   "source": [
    "# Instantiate graph making object\n",
    "graph_maker = graphs.GraphMaker(data_dir, sos_data, col_config)"
   ]
  },
  {
   "cell_type": "code",
   "execution_count": 6,
   "id": "b484de63-e5e6-499f-8be0-d1c525d3a217",
   "metadata": {},
   "outputs": [
    {
     "data": {
      "application/vnd.plotly.v1+json": {
       "config": {
        "plotlyServerURL": "https://plot.ly"
       },
       "data": [
        {
         "marker": {
          "color": "grey",
          "opacity": 0.5,
          "size": 20,
          "symbol": "circle"
         },
         "mode": "markers",
         "name": "Mixed",
         "showlegend": true,
         "type": "scatter",
         "x": [
          null
         ],
         "y": [
          null
         ]
        },
        {
         "marker": {
          "color": "brown",
          "opacity": 0.5,
          "size": 20,
          "symbol": "circle"
         },
         "mode": "markers",
         "name": "Wood",
         "showlegend": true,
         "type": "scatter",
         "x": [
          null
         ],
         "y": [
          null
         ]
        },
        {
         "marker": {
          "color": "yellow",
          "opacity": 0.5,
          "size": 20,
          "symbol": "circle"
         },
         "mode": "markers",
         "name": "Glass",
         "showlegend": true,
         "type": "scatter",
         "x": [
          null
         ],
         "y": [
          null
         ]
        },
        {
         "marker": {
          "color": "orange",
          "opacity": 0.5,
          "size": 20,
          "symbol": "circle"
         },
         "mode": "markers",
         "name": "Metal",
         "showlegend": true,
         "type": "scatter",
         "x": [
          null
         ],
         "y": [
          null
         ]
        },
        {
         "marker": {
          "color": "red",
          "opacity": 0.5,
          "size": 20,
          "symbol": "circle"
         },
         "mode": "markers",
         "name": "Plastic",
         "showlegend": true,
         "type": "scatter",
         "x": [
          null
         ],
         "y": [
          null
         ]
        },
        {
         "marker": {
          "color": "pink",
          "opacity": 0.5,
          "size": 20,
          "symbol": "circle"
         },
         "mode": "markers",
         "name": "Cloth",
         "showlegend": true,
         "type": "scatter",
         "x": [
          null
         ],
         "y": [
          null
         ]
        }
       ],
       "layout": {
        "annotations": [
         {
          "font": {
           "size": 14
          },
          "hovertext": "Plastic Pieces <br> 484,100",
          "showarrow": false,
          "text": "Plastic Pieces <br> 484,100",
          "x": 0.5158839861042326,
          "y": -0.26939880646237685
         },
         {
          "font": {
           "size": 14
          },
          "hovertext": "Cigarette Butts <br> 439,358",
          "showarrow": false,
          "text": "Cigarette Butts <br> 439,358",
          "x": -0.30035129416614875,
          "y": -0.26939880646237685
         },
         {
          "font": {
           "size": 14
          },
          "hovertext": "Food Wrappers <br> 181,478",
          "showarrow": false,
          "text": "Food Wrappers <br> 181,478",
          "x": 0.09166986025514515,
          "y": 0.2542860890675068
         },
         {
          "font": {
           "size": 14
          },
          "hovertext": "Paper Pieces <br> 149,144",
          "showarrow": false,
          "text": "Paper Pieces <br> 149,144",
          "x": 0.09224961838169948,
          "y": -0.7624211439352994
         },
         {
          "font": {
           "size": 12
          },
          "hovertext": "Glass Pieces <br> 109,011",
          "showarrow": false,
          "text": "Glass Pieces <br> 109,011",
          "x": 0.5364821557052736,
          "y": 0.34662735398783934
         },
         {
          "font": {
           "size": 12
          },
          "hovertext": "Food Containers <br> 75,399",
          "showarrow": false,
          "text": "Food Containers <br> 75,399",
          "x": -0.32743796516778056,
          "y": 0.2931438514906019
         },
         {
          "font": {
           "size": 12
          },
          "hovertext": "Bottle Caps <br> 63,216",
          "showarrow": false,
          "text": "Bottle Caps <br> 63,216",
          "x": -0.1691851439205445,
          "y": 0.5666890188841618
         },
         {
          "font": {
           "size": 12
          },
          "hovertext": "Bottle Caps <br> 51,973",
          "showarrow": false,
          "text": "Bottle Caps <br> 51,973",
          "x": 0.30188240618384776,
          "y": 0.5862219837287524
         },
         {
          "font": {
           "size": 12
          },
          "hovertext": "Other <br> 50,386",
          "showarrow": false,
          "text": "Other <br> 50,386",
          "x": 0.06850574982468066,
          "y": 0.7255875400684548
         },
         {
          "font": {
           "size": 12
          },
          "hovertext": "Plastic Bags <br> 36,949",
          "showarrow": false,
          "text": "Plastic Bags <br> 36,949",
          "x": -0.5763271086264612,
          "y": 0.1638839173079765
         },
         {
          "font": {
           "size": 12
          },
          "hovertext": "Glass Bottles <br> 36,830",
          "showarrow": false,
          "text": "Glass Bottles <br> 36,830",
          "x": -0.435125779275848,
          "y": 0.5518964586974466
         },
         {
          "font": {
           "size": 12
          },
          "hovertext": "Cans <br> 32,992",
          "showarrow": false,
          "text": "Cans <br> 32,992",
          "x": -0.5886012502092592,
          "y": 0.3881567840361591
         },
         {
          "font": {
           "size": 12
          },
          "hovertext": "Straws <br> 31,081",
          "showarrow": false,
          "text": "Straws <br> 31,081",
          "x": -0.3451314361804594,
          "y": 0.7539781463701563
         },
         {
          "font": {
           "size": 8
          },
          "hovertext": "Paper/Cardboard <br> 26,233",
          "showarrow": false,
          "text": "Paper/Cardboard <br> 26,233",
          "x": -0.14617292139503746,
          "y": 0.8139815831199115
         },
         {
          "font": {
           "size": 8
          },
          "hovertext": "Packaging <br> 24,854",
          "showarrow": false,
          "text": "Packaging <br> 24,854",
          "x": -0.7113377891660628,
          "y": 0.0027769084221192838
         },
         {
          "font": {
           "size": 8
          },
          "hovertext": "Food Containers <br> 15,612",
          "showarrow": false,
          "text": "Food Containers <br> 15,612",
          "x": -0.7324555917411183,
          "y": 0.27312409529103837
         },
         {
          "font": {
           "size": 8
          },
          "hovertext": "Clothes <br> 15,213",
          "showarrow": false,
          "text": "Clothes <br> 15,213",
          "x": -0.623842165677006,
          "y": 0.5679620710742608
         },
         {
          "font": {
           "size": 8
          },
          "hovertext": "Fishing Gear <br> 11,726",
          "showarrow": false,
          "text": "Fishing Gear <br> 11,726",
          "x": -0.5116524925801671,
          "y": 0.7152103699470622
         },
         {
          "font": {
           "size": 8
          },
          "hovertext": "Tobacco <br> 11,097",
          "showarrow": false,
          "text": "Tobacco <br> 11,097",
          "x": -0.7821741487477727,
          "y": 0.14401108235198334
         },
         {
          "font": {
           "size": 8
          },
          "hovertext": "Balloons <br> 9,782",
          "showarrow": false,
          "text": "Balloons <br> 9,782",
          "x": -0.7562525933151933,
          "y": 0.40548891139024895
         },
         {
          "font": {
           "size": 8
          },
          "hovertext": "Nails <br> 9,534",
          "showarrow": false,
          "text": "Nails <br> 9,534",
          "x": -0.748882417185227,
          "y": 0.523340725788693
         },
         {
          "font": {
           "size": 8
          },
          "hovertext": "Wood Pieces <br> 9,055",
          "showarrow": false,
          "text": "Wood Pieces <br> 9,055",
          "x": -0.6327912443655328,
          "y": 0.698929074061515
         },
         {
          "font": {
           "size": 8
          },
          "hovertext": "Foil <br> 9,049",
          "showarrow": false,
          "text": "Foil <br> 9,049",
          "x": -0.8492166697450196,
          "y": 0.33515855485529145
         },
         {
          "font": {
           "size": 8
          },
          "hovertext": "Fireworks <br> 8,313",
          "showarrow": false,
          "text": "Fireworks <br> 8,313",
          "x": -0.7358496975675171,
          "y": -0.1446914905841523
         },
         {
          "font": {
           "size": 8
          },
          "hovertext": "Beach Gear <br> 8,086",
          "showarrow": false,
          "text": "Beach Gear <br> 8,086",
          "x": -0.8666929104025387,
          "y": 0.22536639884075665
         },
         {
          "font": {
           "size": 8
          },
          "hovertext": "Personal Hygiene <br> 7,349",
          "showarrow": false,
          "text": "Personal Hygiene <br> 7,349",
          "x": 0.09397300675231539,
          "y": -0.0531460376757583
         },
         {
          "font": {
           "size": 8
          },
          "hovertext": "Lighters <br> 5,726",
          "showarrow": false,
          "text": "",
          "x": 0.026491879111289484,
          "y": 0.5485517814840206
         },
         {
          "font": {
           "size": 8
          },
          "hovertext": "Bandaids <br> 4,319",
          "showarrow": false,
          "text": "",
          "x": 0.11143513890762591,
          "y": 0.549043106734602
         },
         {
          "font": {
           "size": 8
          },
          "hovertext": "Lids <br> 4,310",
          "showarrow": false,
          "text": "",
          "x": 0.3733152488329407,
          "y": 0.16526966308360053
         },
         {
          "font": {
           "size": 8
          },
          "hovertext": "Construction Materials <br> 4,176",
          "showarrow": false,
          "text": "",
          "x": -0.47719764699881484,
          "y": 0.8132109565397116
         },
         {
          "font": {
           "size": 8
          },
          "hovertext": "Utensils <br> 3,473",
          "showarrow": false,
          "text": "",
          "x": -0.18224930567669917,
          "y": 0.15504826150598033
         },
         {
          "font": {
           "size": 8
          },
          "hovertext": "Strapping Bands <br> 3,003",
          "showarrow": false,
          "text": "",
          "x": -0.721893572168135,
          "y": 0.6108585976846659
         },
         {
          "font": {
           "size": 8
          },
          "hovertext": "6-Pack Holders <br> 2,294",
          "showarrow": false,
          "text": "",
          "x": 0.32195671108214297,
          "y": 0.4217025995709592
         },
         {
          "font": {
           "size": 8
          },
          "hovertext": "PPE <br> 2,254",
          "showarrow": false,
          "text": "",
          "x": -0.26309366235961307,
          "y": 0.8604863760792577
         },
         {
          "font": {
           "size": 8
          },
          "hovertext": "Batteries <br> 2,241",
          "showarrow": false,
          "text": "",
          "x": -0.028101758854344065,
          "y": 0.8572439560468114
         },
         {
          "font": {
           "size": 8
          },
          "hovertext": "Bottles <br> 2,216",
          "showarrow": false,
          "text": "",
          "x": 0.23133449967528152,
          "y": 0.7356518322188976
         },
         {
          "font": {
           "size": 8
          },
          "hovertext": "Syringes <br> 2,059",
          "showarrow": false,
          "text": "",
          "x": -0.15907642279256806,
          "y": 0.3859181057056457
         },
         {
          "font": {
           "size": 8
          },
          "hovertext": "Footwear <br> 2,006",
          "showarrow": false,
          "text": "",
          "x": -0.43460940697134515,
          "y": 0.13398169434605717
         },
         {
          "font": {
           "size": 8
          },
          "hovertext": "Cigar Tips <br> 1,537",
          "showarrow": false,
          "text": "",
          "x": 0.09706940614087498,
          "y": -0.12814052986049013
         },
         {
          "font": {
           "size": 8
          },
          "hovertext": "Rope <br> 1,423",
          "showarrow": false,
          "text": "",
          "x": -0.5491798126477202,
          "y": 0.6295163832592887
         },
         {
          "font": {
           "size": 8
          },
          "hovertext": "Beverage Bottles <br> 1,413",
          "showarrow": false,
          "text": "",
          "x": -0.6760890674320896,
          "y": 0.4866095685869829
         },
         {
          "font": {
           "size": 8
          },
          "hovertext": "Tires <br> 684",
          "showarrow": false,
          "text": "",
          "x": -0.2311772770235949,
          "y": 0.14023570626716725
         },
         {
          "font": {
           "size": 8
          },
          "hovertext": "Bagged Pet Waste <br> 636",
          "showarrow": false,
          "text": "",
          "x": -0.14457551858112497,
          "y": 0.12133364137866483
         },
         {
          "font": {
           "size": 8
          },
          "hovertext": "Beverage Pouches <br> 625",
          "showarrow": false,
          "text": "",
          "x": -0.3054724181883222,
          "y": 0.47178755860648136
         },
         {
          "font": {
           "size": 8
          },
          "hovertext": "Appliances <br> 564",
          "showarrow": false,
          "text": "",
          "x": -0.45069831237916325,
          "y": 0.4232702893970014
         },
         {
          "font": {
           "size": 8
          },
          "hovertext": "E-Waste <br> 347",
          "showarrow": false,
          "text": "",
          "x": -0.17184955946928007,
          "y": 0.21053102206626226
         },
         {
          "font": {
           "size": 8
          },
          "hovertext": "Car Parts <br> 260",
          "showarrow": false,
          "text": "",
          "x": -0.15943615445362402,
          "y": 0.34089725117290315
         },
         {
          "font": {
           "size": 8
          },
          "hovertext": "Bikes <br> 199",
          "showarrow": false,
          "text": "",
          "x": -0.19152331592054558,
          "y": 0.40089456908313453
         }
        ],
        "autosize": false,
        "height": 1000,
        "plot_bgcolor": "rgba(0, 0, 0, 0)",
        "shapes": [
         {
          "fillcolor": "red",
          "line": {
           "width": 2
          },
          "opacity": 0.5,
          "type": "circle",
          "x0": 0.09787368020726839,
          "x1": 0.9338942920011968,
          "xref": "x",
          "y0": -0.6874091123593411,
          "y1": 0.14861149943458735,
          "yref": "y"
         },
         {
          "fillcolor": "red",
          "line": {
           "width": 2
          },
          "opacity": 0.5,
          "type": "circle",
          "x0": -0.698576268539566,
          "x1": 0.09787368020726844,
          "xref": "x",
          "y0": -0.6676237808357941,
          "y1": 0.12882616791104035,
          "yref": "y"
         },
         {
          "fillcolor": "red",
          "line": {
           "width": 2
          },
          "opacity": 0.5,
          "type": "circle",
          "x0": -0.16426604414664278,
          "x1": 0.34760576465693305,
          "xref": "x",
          "y0": -0.0016498153342811017,
          "y1": 0.5102219934692948,
          "yref": "y"
         },
         {
          "fillcolor": "brown",
          "line": {
           "width": 2
          },
          "opacity": 0.5,
          "type": "circle",
          "x0": -0.13976861568164778,
          "x1": 0.32426785244504674,
          "xref": "x",
          "y0": -0.9944393779986467,
          "y1": -0.530402909871952,
          "yref": "y"
         },
         {
          "fillcolor": "yellow",
          "line": {
           "width": 2
          },
          "opacity": 0.5,
          "type": "circle",
          "x0": 0.33812202513570166,
          "x1": 0.7348422862748455,
          "xref": "x",
          "y0": 0.14826722341826745,
          "y1": 0.5449874845574112,
          "yref": "y"
         },
         {
          "fillcolor": "red",
          "line": {
           "width": 2
          },
          "opacity": 0.5,
          "type": "circle",
          "x0": -0.4924073886382625,
          "x1": -0.1624685416972986,
          "xref": "x",
          "y0": 0.12817442802011994,
          "y1": 0.4581132749610839,
          "yref": "y"
         },
         {
          "fillcolor": "red",
          "line": {
           "width": 2
          },
          "opacity": 0.5,
          "type": "circle",
          "x0": -0.3202393177289369,
          "x1": -0.018130970112152173,
          "xref": "x",
          "y0": 0.4156348450757694,
          "y1": 0.7177431926925542,
          "yref": "y"
         },
         {
          "fillcolor": "orange",
          "line": {
           "width": 2
          },
          "opacity": 0.5,
          "type": "circle",
          "x0": 0.1649178745584048,
          "x1": 0.43884693780929074,
          "xref": "x",
          "y0": 0.4492574521033095,
          "y1": 0.7231865153541954,
          "yref": "y"
         },
         {
          "fillcolor": "grey",
          "line": {
           "width": 2
          },
          "opacity": 0.5,
          "type": "circle",
          "x0": -0.06635212753644129,
          "x1": 0.20336362718580261,
          "xref": "x",
          "y0": 0.5907296627073328,
          "y1": 0.8604454174295768,
          "yref": "y"
         },
         {
          "fillcolor": "red",
          "line": {
           "width": 2
          },
          "opacity": 0.5,
          "type": "circle",
          "x0": -0.6918107762719308,
          "x1": -0.4608434409809916,
          "xref": "x",
          "y0": 0.0484002496625069,
          "y1": 0.2793675849534461,
          "yref": "y"
         },
         {
          "fillcolor": "yellow",
          "line": {
           "width": 2
          },
          "opacity": 0.5,
          "type": "circle",
          "x0": -0.5504233303915868,
          "x1": -0.31982822816010925,
          "xref": "x",
          "y0": 0.43659890758170783,
          "y1": 0.6671940098131854,
          "yref": "y"
         },
         {
          "fillcolor": "orange",
          "line": {
           "width": 2
          },
          "opacity": 0.5,
          "type": "circle",
          "x0": -0.6977260714996969,
          "x1": -0.4794764289188216,
          "xref": "x",
          "y0": 0.2790319627457214,
          "y1": 0.4972816053265968,
          "yref": "y"
         },
         {
          "fillcolor": "red",
          "line": {
           "width": 2
          },
          "opacity": 0.5,
          "type": "circle",
          "x0": -0.4510486908120325,
          "x1": -0.23921418154888624,
          "xref": "x",
          "y0": 0.6480608917385831,
          "y1": 0.8598954010017295,
          "yref": "y"
         },
         {
          "fillcolor": "brown",
          "line": {
           "width": 2
          },
          "opacity": 0.5,
          "type": "circle",
          "x0": -0.24347972421513195,
          "x1": -0.04886611857494297,
          "xref": "x",
          "y0": 0.716674780299817,
          "y1": 0.911288385940006,
          "yref": "y"
         },
         {
          "fillcolor": "red",
          "line": {
           "width": 2
          },
          "opacity": 0.5,
          "type": "circle",
          "x0": -0.8060524853865234,
          "x1": -0.6166230929456022,
          "xref": "x",
          "y0": -0.09193778779834132,
          "y1": 0.09749160464257987,
          "yref": "y"
         },
         {
          "fillcolor": "brown",
          "line": {
           "width": 2
          },
          "opacity": 0.5,
          "type": "circle",
          "x0": -0.8075224940907413,
          "x1": -0.6573886893914953,
          "xref": "x",
          "y0": 0.19805719294141538,
          "y1": 0.34819099764066136,
          "yref": "y"
         },
         {
          "fillcolor": "pink",
          "line": {
           "width": 2
          },
          "opacity": 0.5,
          "type": "circle",
          "x0": -0.6979436071598372,
          "x1": -0.5497407241941749,
          "xref": "x",
          "y0": 0.4938606295914296,
          "y1": 0.6420635125570919,
          "yref": "y"
         },
         {
          "fillcolor": "grey",
          "line": {
           "width": 2
          },
          "opacity": 0.5,
          "type": "circle",
          "x0": -0.5767095129529513,
          "x1": -0.44659547220738294,
          "xref": "x",
          "y0": 0.6501533495742781,
          "y1": 0.7802673903198464,
          "yref": "y"
         },
         {
          "fillcolor": "grey",
          "line": {
           "width": 2
          },
          "opacity": 0.5,
          "type": "circle",
          "x0": -0.8454622427698908,
          "x1": -0.7188860547256546,
          "xref": "x",
          "y0": 0.08072298832986524,
          "y1": 0.20729917637410145,
          "yref": "y"
         },
         {
          "fillcolor": "red",
          "line": {
           "width": 2
          },
          "opacity": 0.5,
          "type": "circle",
          "x0": -0.8156726487900909,
          "x1": -0.6968325378402958,
          "xref": "x",
          "y0": 0.3460688559153514,
          "y1": 0.4649089668651465,
          "yref": "y"
         },
         {
          "fillcolor": "orange",
          "line": {
           "width": 2
          },
          "opacity": 0.5,
          "type": "circle",
          "x0": -0.8075444079882966,
          "x1": -0.6902204263821573,
          "xref": "x",
          "y0": 0.4646787349856233,
          "y1": 0.5820027165917626,
          "yref": "y"
         },
         {
          "fillcolor": "brown",
          "line": {
           "width": 2
          },
          "opacity": 0.5,
          "type": "circle",
          "x0": -0.6899621986132469,
          "x1": -0.5756202901178187,
          "xref": "x",
          "y0": 0.6417581198138009,
          "y1": 0.7561000283092292,
          "yref": "y"
         },
         {
          "fillcolor": "orange",
          "line": {
           "width": 2
          },
          "opacity": 0.5,
          "type": "circle",
          "x0": -0.9063671017735412,
          "x1": -0.7920662377164981,
          "xref": "x",
          "y0": 0.2780081228267699,
          "y1": 0.392308986883813,
          "yref": "y"
         },
         {
          "fillcolor": "grey",
          "line": {
           "width": 2
          },
          "opacity": 0.5,
          "type": "circle",
          "x0": -0.7906266812458196,
          "x1": -0.6810727138892145,
          "xref": "x",
          "y0": -0.1994684742624548,
          "y1": -0.0899145069058498,
          "yref": "y"
         },
         {
          "fillcolor": "grey",
          "line": {
           "width": 2
          },
          "opacity": 0.5,
          "type": "circle",
          "x0": -0.920716830226589,
          "x1": -0.8126689905784884,
          "xref": "x",
          "y0": 0.1713424790167064,
          "y1": 0.2793903186648069,
          "yref": "y"
         },
         {
          "fillcolor": "grey",
          "line": {
           "width": 2
          },
          "opacity": 0.5,
          "type": "circle",
          "x0": 0.04246815745076874,
          "x1": 0.14547785605386204,
          "xref": "x",
          "y0": -0.10465088697730494,
          "y1": -0.0016411883742116495,
          "yref": "y"
         },
         {
          "fillcolor": "grey",
          "line": {
           "width": 2
          },
          "opacity": 0.5,
          "type": "circle",
          "x0": -0.018969739634275323,
          "x1": 0.07195349785685429,
          "xref": "x",
          "y0": 0.5030901627384559,
          "y1": 0.5940134002295854,
          "yref": "y"
         },
         {
          "fillcolor": "grey",
          "line": {
           "width": 2
          },
          "opacity": 0.5,
          "type": "circle",
          "x0": 0.07195207691725689,
          "x1": 0.15091820089799493,
          "xref": "x",
          "y0": 0.509560044744233,
          "y1": 0.588526168724971,
          "yref": "y"
         },
         {
          "fillcolor": "red",
          "line": {
           "width": 2
          },
          "opacity": 0.5,
          "type": "circle",
          "x0": 0.33387334600797425,
          "x1": 0.41275715165790716,
          "xref": "x",
          "y0": 0.12582776025863407,
          "y1": 0.20471156590856698,
          "yref": "y"
         },
         {
          "fillcolor": "grey",
          "line": {
           "width": 2
          },
          "opacity": 0.5,
          "type": "circle",
          "x0": -0.5160215746219852,
          "x1": -0.4383737193756445,
          "xref": "x",
          "y0": 0.7743870289165413,
          "y1": 0.852034884162882,
          "yref": "y"
         },
         {
          "fillcolor": "red",
          "line": {
           "width": 2
          },
          "opacity": 0.5,
          "type": "circle",
          "x0": -0.2176548776972162,
          "x1": -0.14684373365618214,
          "xref": "x",
          "y0": 0.1196426894854633,
          "y1": 0.19045383352649736,
          "yref": "y"
         },
         {
          "fillcolor": "grey",
          "line": {
           "width": 2
          },
          "opacity": 0.5,
          "type": "circle",
          "x0": -0.7548163817227476,
          "x1": -0.6889707626135224,
          "xref": "x",
          "y0": 0.5779357881300533,
          "y1": 0.6437814072392785,
          "yref": "y"
         },
         {
          "fillcolor": "red",
          "line": {
           "width": 2
          },
          "opacity": 0.5,
          "type": "circle",
          "x0": 0.29318167144951474,
          "x1": 0.3507317507147712,
          "xref": "x",
          "y0": 0.39292755993833095,
          "y1": 0.4504776392035874,
          "yref": "y"
         },
         {
          "fillcolor": "grey",
          "line": {
           "width": 2
          },
          "opacity": 0.5,
          "type": "circle",
          "x0": -0.2916167265659802,
          "x1": -0.23457059815324593,
          "xref": "x",
          "y0": 0.8319633118728906,
          "y1": 0.8890094402856248,
          "yref": "y"
         },
         {
          "fillcolor": "grey",
          "line": {
           "width": 2
          },
          "opacity": 0.5,
          "type": "circle",
          "x0": -0.05654245038295209,
          "x1": 0.0003389326742639573,
          "xref": "x",
          "y0": 0.8288032645182033,
          "y1": 0.8856846475754194,
          "yref": "y"
         },
         {
          "fillcolor": "red",
          "line": {
           "width": 2
          },
          "opacity": 0.5,
          "type": "circle",
          "x0": 0.20305289145918648,
          "x1": 0.25961610789137657,
          "xref": "x",
          "y0": 0.7073702240028026,
          "y1": 0.7639334404349927,
          "yref": "y"
         },
         {
          "fillcolor": "grey",
          "line": {
           "width": 2
          },
          "opacity": 0.5,
          "type": "circle",
          "x0": -0.18633777520388406,
          "x1": -0.13181507038125206,
          "xref": "x",
          "y0": 0.3586567532943297,
          "y1": 0.4131794581169617,
          "yref": "y"
         },
         {
          "fillcolor": "grey",
          "line": {
           "width": 2
          },
          "opacity": 0.5,
          "type": "circle",
          "x0": -0.46152096276967847,
          "x1": -0.4076978511730118,
          "xref": "x",
          "y0": 0.10707013854772383,
          "y1": 0.1608932501443905,
          "yref": "y"
         },
         {
          "fillcolor": "grey",
          "line": {
           "width": 2
          },
          "opacity": 0.5,
          "type": "circle",
          "x0": 0.07351586785502887,
          "x1": 0.12062294442672108,
          "xref": "x",
          "y0": -0.15169406814633624,
          "y1": -0.10458699157464402,
          "yref": "y"
         },
         {
          "fillcolor": "grey",
          "line": {
           "width": 2
          },
          "opacity": 0.5,
          "type": "circle",
          "x0": -0.5718430357302229,
          "x1": -0.5265165895652175,
          "xref": "x",
          "y0": 0.606853160176786,
          "y1": 0.6521796063417914,
          "yref": "y"
         },
         {
          "fillcolor": "red",
          "line": {
           "width": 2
          },
          "opacity": 0.5,
          "type": "circle",
          "x0": -0.6986725182745226,
          "x1": -0.6535056165896567,
          "xref": "x",
          "y0": 0.46402611774455,
          "y1": 0.5091930194294159,
          "yref": "y"
         },
         {
          "fillcolor": "grey",
          "line": {
           "width": 2
          },
          "opacity": 0.5,
          "type": "circle",
          "x0": -0.24689271998542683,
          "x1": -0.21546183406176295,
          "xref": "x",
          "y0": 0.12452026330533532,
          "y1": 0.1559511492289992,
          "yref": "y"
         },
         {
          "fillcolor": "red",
          "line": {
           "width": 2
          },
          "opacity": 0.5,
          "type": "circle",
          "x0": -0.15972674476274748,
          "x1": -0.12942429239950246,
          "xref": "x",
          "y0": 0.10618241519704232,
          "y1": 0.13648486756028733,
          "yref": "y"
         },
         {
          "fillcolor": "red",
          "line": {
           "width": 2
          },
          "opacity": 0.5,
          "type": "circle",
          "x0": -0.3204920481244597,
          "x1": -0.29045278825218473,
          "xref": "x",
          "y0": 0.4567679286703439,
          "y1": 0.48680718854261884,
          "yref": "y"
         },
         {
          "fillcolor": "orange",
          "line": {
           "width": 2
          },
          "opacity": 0.5,
          "type": "circle",
          "x0": -0.46496617028975623,
          "x1": -0.43643045446857026,
          "xref": "x",
          "y0": 0.4090024314864084,
          "y1": 0.4375381473075944,
          "yref": "y"
         },
         {
          "fillcolor": "grey",
          "line": {
           "width": 2
          },
          "opacity": 0.5,
          "type": "circle",
          "x0": -0.1830409476831685,
          "x1": -0.16065817125539164,
          "xref": "x",
          "y0": 0.19933963385237383,
          "y1": 0.2217224102801507,
          "yref": "y"
         },
         {
          "fillcolor": "grey",
          "line": {
           "width": 2
          },
          "opacity": 0.5,
          "type": "circle",
          "x0": -0.16912352467996014,
          "x1": -0.1497487842272879,
          "xref": "x",
          "y0": 0.33120988094656706,
          "y1": 0.35058462139923924,
          "yref": "y"
         },
         {
          "fillcolor": "grey",
          "line": {
           "width": 2
          },
          "opacity": 0.5,
          "type": "circle",
          "x0": -0.1999984340814007,
          "x1": -0.18304819775969047,
          "xref": "x",
          "y0": 0.3924194509222794,
          "y1": 0.40936968724398964,
          "yref": "y"
         }
        ],
        "template": {
         "data": {
          "bar": [
           {
            "error_x": {
             "color": "#2a3f5f"
            },
            "error_y": {
             "color": "#2a3f5f"
            },
            "marker": {
             "line": {
              "color": "#E5ECF6",
              "width": 0.5
             },
             "pattern": {
              "fillmode": "overlay",
              "size": 10,
              "solidity": 0.2
             }
            },
            "type": "bar"
           }
          ],
          "barpolar": [
           {
            "marker": {
             "line": {
              "color": "#E5ECF6",
              "width": 0.5
             },
             "pattern": {
              "fillmode": "overlay",
              "size": 10,
              "solidity": 0.2
             }
            },
            "type": "barpolar"
           }
          ],
          "carpet": [
           {
            "aaxis": {
             "endlinecolor": "#2a3f5f",
             "gridcolor": "white",
             "linecolor": "white",
             "minorgridcolor": "white",
             "startlinecolor": "#2a3f5f"
            },
            "baxis": {
             "endlinecolor": "#2a3f5f",
             "gridcolor": "white",
             "linecolor": "white",
             "minorgridcolor": "white",
             "startlinecolor": "#2a3f5f"
            },
            "type": "carpet"
           }
          ],
          "choropleth": [
           {
            "colorbar": {
             "outlinewidth": 0,
             "ticks": ""
            },
            "type": "choropleth"
           }
          ],
          "contour": [
           {
            "colorbar": {
             "outlinewidth": 0,
             "ticks": ""
            },
            "colorscale": [
             [
              0,
              "#0d0887"
             ],
             [
              0.1111111111111111,
              "#46039f"
             ],
             [
              0.2222222222222222,
              "#7201a8"
             ],
             [
              0.3333333333333333,
              "#9c179e"
             ],
             [
              0.4444444444444444,
              "#bd3786"
             ],
             [
              0.5555555555555556,
              "#d8576b"
             ],
             [
              0.6666666666666666,
              "#ed7953"
             ],
             [
              0.7777777777777778,
              "#fb9f3a"
             ],
             [
              0.8888888888888888,
              "#fdca26"
             ],
             [
              1,
              "#f0f921"
             ]
            ],
            "type": "contour"
           }
          ],
          "contourcarpet": [
           {
            "colorbar": {
             "outlinewidth": 0,
             "ticks": ""
            },
            "type": "contourcarpet"
           }
          ],
          "heatmap": [
           {
            "colorbar": {
             "outlinewidth": 0,
             "ticks": ""
            },
            "colorscale": [
             [
              0,
              "#0d0887"
             ],
             [
              0.1111111111111111,
              "#46039f"
             ],
             [
              0.2222222222222222,
              "#7201a8"
             ],
             [
              0.3333333333333333,
              "#9c179e"
             ],
             [
              0.4444444444444444,
              "#bd3786"
             ],
             [
              0.5555555555555556,
              "#d8576b"
             ],
             [
              0.6666666666666666,
              "#ed7953"
             ],
             [
              0.7777777777777778,
              "#fb9f3a"
             ],
             [
              0.8888888888888888,
              "#fdca26"
             ],
             [
              1,
              "#f0f921"
             ]
            ],
            "type": "heatmap"
           }
          ],
          "heatmapgl": [
           {
            "colorbar": {
             "outlinewidth": 0,
             "ticks": ""
            },
            "colorscale": [
             [
              0,
              "#0d0887"
             ],
             [
              0.1111111111111111,
              "#46039f"
             ],
             [
              0.2222222222222222,
              "#7201a8"
             ],
             [
              0.3333333333333333,
              "#9c179e"
             ],
             [
              0.4444444444444444,
              "#bd3786"
             ],
             [
              0.5555555555555556,
              "#d8576b"
             ],
             [
              0.6666666666666666,
              "#ed7953"
             ],
             [
              0.7777777777777778,
              "#fb9f3a"
             ],
             [
              0.8888888888888888,
              "#fdca26"
             ],
             [
              1,
              "#f0f921"
             ]
            ],
            "type": "heatmapgl"
           }
          ],
          "histogram": [
           {
            "marker": {
             "pattern": {
              "fillmode": "overlay",
              "size": 10,
              "solidity": 0.2
             }
            },
            "type": "histogram"
           }
          ],
          "histogram2d": [
           {
            "colorbar": {
             "outlinewidth": 0,
             "ticks": ""
            },
            "colorscale": [
             [
              0,
              "#0d0887"
             ],
             [
              0.1111111111111111,
              "#46039f"
             ],
             [
              0.2222222222222222,
              "#7201a8"
             ],
             [
              0.3333333333333333,
              "#9c179e"
             ],
             [
              0.4444444444444444,
              "#bd3786"
             ],
             [
              0.5555555555555556,
              "#d8576b"
             ],
             [
              0.6666666666666666,
              "#ed7953"
             ],
             [
              0.7777777777777778,
              "#fb9f3a"
             ],
             [
              0.8888888888888888,
              "#fdca26"
             ],
             [
              1,
              "#f0f921"
             ]
            ],
            "type": "histogram2d"
           }
          ],
          "histogram2dcontour": [
           {
            "colorbar": {
             "outlinewidth": 0,
             "ticks": ""
            },
            "colorscale": [
             [
              0,
              "#0d0887"
             ],
             [
              0.1111111111111111,
              "#46039f"
             ],
             [
              0.2222222222222222,
              "#7201a8"
             ],
             [
              0.3333333333333333,
              "#9c179e"
             ],
             [
              0.4444444444444444,
              "#bd3786"
             ],
             [
              0.5555555555555556,
              "#d8576b"
             ],
             [
              0.6666666666666666,
              "#ed7953"
             ],
             [
              0.7777777777777778,
              "#fb9f3a"
             ],
             [
              0.8888888888888888,
              "#fdca26"
             ],
             [
              1,
              "#f0f921"
             ]
            ],
            "type": "histogram2dcontour"
           }
          ],
          "mesh3d": [
           {
            "colorbar": {
             "outlinewidth": 0,
             "ticks": ""
            },
            "type": "mesh3d"
           }
          ],
          "parcoords": [
           {
            "line": {
             "colorbar": {
              "outlinewidth": 0,
              "ticks": ""
             }
            },
            "type": "parcoords"
           }
          ],
          "pie": [
           {
            "automargin": true,
            "type": "pie"
           }
          ],
          "scatter": [
           {
            "fillpattern": {
             "fillmode": "overlay",
             "size": 10,
             "solidity": 0.2
            },
            "type": "scatter"
           }
          ],
          "scatter3d": [
           {
            "line": {
             "colorbar": {
              "outlinewidth": 0,
              "ticks": ""
             }
            },
            "marker": {
             "colorbar": {
              "outlinewidth": 0,
              "ticks": ""
             }
            },
            "type": "scatter3d"
           }
          ],
          "scattercarpet": [
           {
            "marker": {
             "colorbar": {
              "outlinewidth": 0,
              "ticks": ""
             }
            },
            "type": "scattercarpet"
           }
          ],
          "scattergeo": [
           {
            "marker": {
             "colorbar": {
              "outlinewidth": 0,
              "ticks": ""
             }
            },
            "type": "scattergeo"
           }
          ],
          "scattergl": [
           {
            "marker": {
             "colorbar": {
              "outlinewidth": 0,
              "ticks": ""
             }
            },
            "type": "scattergl"
           }
          ],
          "scattermapbox": [
           {
            "marker": {
             "colorbar": {
              "outlinewidth": 0,
              "ticks": ""
             }
            },
            "type": "scattermapbox"
           }
          ],
          "scatterpolar": [
           {
            "marker": {
             "colorbar": {
              "outlinewidth": 0,
              "ticks": ""
             }
            },
            "type": "scatterpolar"
           }
          ],
          "scatterpolargl": [
           {
            "marker": {
             "colorbar": {
              "outlinewidth": 0,
              "ticks": ""
             }
            },
            "type": "scatterpolargl"
           }
          ],
          "scatterternary": [
           {
            "marker": {
             "colorbar": {
              "outlinewidth": 0,
              "ticks": ""
             }
            },
            "type": "scatterternary"
           }
          ],
          "surface": [
           {
            "colorbar": {
             "outlinewidth": 0,
             "ticks": ""
            },
            "colorscale": [
             [
              0,
              "#0d0887"
             ],
             [
              0.1111111111111111,
              "#46039f"
             ],
             [
              0.2222222222222222,
              "#7201a8"
             ],
             [
              0.3333333333333333,
              "#9c179e"
             ],
             [
              0.4444444444444444,
              "#bd3786"
             ],
             [
              0.5555555555555556,
              "#d8576b"
             ],
             [
              0.6666666666666666,
              "#ed7953"
             ],
             [
              0.7777777777777778,
              "#fb9f3a"
             ],
             [
              0.8888888888888888,
              "#fdca26"
             ],
             [
              1,
              "#f0f921"
             ]
            ],
            "type": "surface"
           }
          ],
          "table": [
           {
            "cells": {
             "fill": {
              "color": "#EBF0F8"
             },
             "line": {
              "color": "white"
             }
            },
            "header": {
             "fill": {
              "color": "#C8D4E3"
             },
             "line": {
              "color": "white"
             }
            },
            "type": "table"
           }
          ]
         },
         "layout": {
          "annotationdefaults": {
           "arrowcolor": "#2a3f5f",
           "arrowhead": 0,
           "arrowwidth": 1
          },
          "autotypenumbers": "strict",
          "coloraxis": {
           "colorbar": {
            "outlinewidth": 0,
            "ticks": ""
           }
          },
          "colorscale": {
           "diverging": [
            [
             0,
             "#8e0152"
            ],
            [
             0.1,
             "#c51b7d"
            ],
            [
             0.2,
             "#de77ae"
            ],
            [
             0.3,
             "#f1b6da"
            ],
            [
             0.4,
             "#fde0ef"
            ],
            [
             0.5,
             "#f7f7f7"
            ],
            [
             0.6,
             "#e6f5d0"
            ],
            [
             0.7,
             "#b8e186"
            ],
            [
             0.8,
             "#7fbc41"
            ],
            [
             0.9,
             "#4d9221"
            ],
            [
             1,
             "#276419"
            ]
           ],
           "sequential": [
            [
             0,
             "#0d0887"
            ],
            [
             0.1111111111111111,
             "#46039f"
            ],
            [
             0.2222222222222222,
             "#7201a8"
            ],
            [
             0.3333333333333333,
             "#9c179e"
            ],
            [
             0.4444444444444444,
             "#bd3786"
            ],
            [
             0.5555555555555556,
             "#d8576b"
            ],
            [
             0.6666666666666666,
             "#ed7953"
            ],
            [
             0.7777777777777778,
             "#fb9f3a"
            ],
            [
             0.8888888888888888,
             "#fdca26"
            ],
            [
             1,
             "#f0f921"
            ]
           ],
           "sequentialminus": [
            [
             0,
             "#0d0887"
            ],
            [
             0.1111111111111111,
             "#46039f"
            ],
            [
             0.2222222222222222,
             "#7201a8"
            ],
            [
             0.3333333333333333,
             "#9c179e"
            ],
            [
             0.4444444444444444,
             "#bd3786"
            ],
            [
             0.5555555555555556,
             "#d8576b"
            ],
            [
             0.6666666666666666,
             "#ed7953"
            ],
            [
             0.7777777777777778,
             "#fb9f3a"
            ],
            [
             0.8888888888888888,
             "#fdca26"
            ],
            [
             1,
             "#f0f921"
            ]
           ]
          },
          "colorway": [
           "#636efa",
           "#EF553B",
           "#00cc96",
           "#ab63fa",
           "#FFA15A",
           "#19d3f3",
           "#FF6692",
           "#B6E880",
           "#FF97FF",
           "#FECB52"
          ],
          "font": {
           "color": "#2a3f5f"
          },
          "geo": {
           "bgcolor": "white",
           "lakecolor": "white",
           "landcolor": "#E5ECF6",
           "showlakes": true,
           "showland": true,
           "subunitcolor": "white"
          },
          "hoverlabel": {
           "align": "left"
          },
          "hovermode": "closest",
          "mapbox": {
           "style": "light"
          },
          "paper_bgcolor": "white",
          "plot_bgcolor": "#E5ECF6",
          "polar": {
           "angularaxis": {
            "gridcolor": "white",
            "linecolor": "white",
            "ticks": ""
           },
           "bgcolor": "#E5ECF6",
           "radialaxis": {
            "gridcolor": "white",
            "linecolor": "white",
            "ticks": ""
           }
          },
          "scene": {
           "xaxis": {
            "backgroundcolor": "#E5ECF6",
            "gridcolor": "white",
            "gridwidth": 2,
            "linecolor": "white",
            "showbackground": true,
            "ticks": "",
            "zerolinecolor": "white"
           },
           "yaxis": {
            "backgroundcolor": "#E5ECF6",
            "gridcolor": "white",
            "gridwidth": 2,
            "linecolor": "white",
            "showbackground": true,
            "ticks": "",
            "zerolinecolor": "white"
           },
           "zaxis": {
            "backgroundcolor": "#E5ECF6",
            "gridcolor": "white",
            "gridwidth": 2,
            "linecolor": "white",
            "showbackground": true,
            "ticks": "",
            "zerolinecolor": "white"
           }
          },
          "shapedefaults": {
           "line": {
            "color": "#2a3f5f"
           }
          },
          "ternary": {
           "aaxis": {
            "gridcolor": "white",
            "linecolor": "white",
            "ticks": ""
           },
           "baxis": {
            "gridcolor": "white",
            "linecolor": "white",
            "ticks": ""
           },
           "bgcolor": "#E5ECF6",
           "caxis": {
            "gridcolor": "white",
            "linecolor": "white",
            "ticks": ""
           }
          },
          "title": {
           "x": 0.05
          },
          "xaxis": {
           "automargin": true,
           "gridcolor": "white",
           "linecolor": "white",
           "ticks": "",
           "title": {
            "standoff": 15
           },
           "zerolinecolor": "white",
           "zerolinewidth": 2
          },
          "yaxis": {
           "automargin": true,
           "gridcolor": "white",
           "linecolor": "white",
           "ticks": "",
           "title": {
            "standoff": 15
           },
           "zerolinecolor": "white",
           "zerolinewidth": 2
          }
         }
        },
        "title": {
         "text": "Number of Debris Items Collected By Category and Material 2013-2023"
        },
        "width": 1000,
        "xaxis": {
         "range": [
          -1.05,
          1.05
         ],
         "showgrid": false,
         "showticklabels": false,
         "zeroline": false
        },
        "yaxis": {
         "range": [
          -1.05,
          1.05
         ],
         "showgrid": false,
         "showticklabels": false,
         "zeroline": false
        }
       }
      },
      "text/html": [
       "<div>                            <div id=\"4a6aab41-020b-4548-989e-b08c54b41803\" class=\"plotly-graph-div\" style=\"height:1000px; width:1000px;\"></div>            <script type=\"text/javascript\">                require([\"plotly\"], function(Plotly) {                    window.PLOTLYENV=window.PLOTLYENV || {};                                    if (document.getElementById(\"4a6aab41-020b-4548-989e-b08c54b41803\")) {                    Plotly.newPlot(                        \"4a6aab41-020b-4548-989e-b08c54b41803\",                        [{\"marker\":{\"color\":\"grey\",\"opacity\":0.5,\"size\":20,\"symbol\":\"circle\"},\"mode\":\"markers\",\"name\":\"Mixed\",\"x\":[null],\"y\":[null],\"type\":\"scatter\",\"showlegend\":true},{\"marker\":{\"color\":\"brown\",\"opacity\":0.5,\"size\":20,\"symbol\":\"circle\"},\"mode\":\"markers\",\"name\":\"Wood\",\"x\":[null],\"y\":[null],\"type\":\"scatter\",\"showlegend\":true},{\"marker\":{\"color\":\"yellow\",\"opacity\":0.5,\"size\":20,\"symbol\":\"circle\"},\"mode\":\"markers\",\"name\":\"Glass\",\"x\":[null],\"y\":[null],\"type\":\"scatter\",\"showlegend\":true},{\"marker\":{\"color\":\"orange\",\"opacity\":0.5,\"size\":20,\"symbol\":\"circle\"},\"mode\":\"markers\",\"name\":\"Metal\",\"x\":[null],\"y\":[null],\"type\":\"scatter\",\"showlegend\":true},{\"marker\":{\"color\":\"red\",\"opacity\":0.5,\"size\":20,\"symbol\":\"circle\"},\"mode\":\"markers\",\"name\":\"Plastic\",\"x\":[null],\"y\":[null],\"type\":\"scatter\",\"showlegend\":true},{\"marker\":{\"color\":\"pink\",\"opacity\":0.5,\"size\":20,\"symbol\":\"circle\"},\"mode\":\"markers\",\"name\":\"Cloth\",\"x\":[null],\"y\":[null],\"type\":\"scatter\",\"showlegend\":true}],                        {\"template\":{\"data\":{\"histogram2dcontour\":[{\"type\":\"histogram2dcontour\",\"colorbar\":{\"outlinewidth\":0,\"ticks\":\"\"},\"colorscale\":[[0.0,\"#0d0887\"],[0.1111111111111111,\"#46039f\"],[0.2222222222222222,\"#7201a8\"],[0.3333333333333333,\"#9c179e\"],[0.4444444444444444,\"#bd3786\"],[0.5555555555555556,\"#d8576b\"],[0.6666666666666666,\"#ed7953\"],[0.7777777777777778,\"#fb9f3a\"],[0.8888888888888888,\"#fdca26\"],[1.0,\"#f0f921\"]]}],\"choropleth\":[{\"type\":\"choropleth\",\"colorbar\":{\"outlinewidth\":0,\"ticks\":\"\"}}],\"histogram2d\":[{\"type\":\"histogram2d\",\"colorbar\":{\"outlinewidth\":0,\"ticks\":\"\"},\"colorscale\":[[0.0,\"#0d0887\"],[0.1111111111111111,\"#46039f\"],[0.2222222222222222,\"#7201a8\"],[0.3333333333333333,\"#9c179e\"],[0.4444444444444444,\"#bd3786\"],[0.5555555555555556,\"#d8576b\"],[0.6666666666666666,\"#ed7953\"],[0.7777777777777778,\"#fb9f3a\"],[0.8888888888888888,\"#fdca26\"],[1.0,\"#f0f921\"]]}],\"heatmap\":[{\"type\":\"heatmap\",\"colorbar\":{\"outlinewidth\":0,\"ticks\":\"\"},\"colorscale\":[[0.0,\"#0d0887\"],[0.1111111111111111,\"#46039f\"],[0.2222222222222222,\"#7201a8\"],[0.3333333333333333,\"#9c179e\"],[0.4444444444444444,\"#bd3786\"],[0.5555555555555556,\"#d8576b\"],[0.6666666666666666,\"#ed7953\"],[0.7777777777777778,\"#fb9f3a\"],[0.8888888888888888,\"#fdca26\"],[1.0,\"#f0f921\"]]}],\"heatmapgl\":[{\"type\":\"heatmapgl\",\"colorbar\":{\"outlinewidth\":0,\"ticks\":\"\"},\"colorscale\":[[0.0,\"#0d0887\"],[0.1111111111111111,\"#46039f\"],[0.2222222222222222,\"#7201a8\"],[0.3333333333333333,\"#9c179e\"],[0.4444444444444444,\"#bd3786\"],[0.5555555555555556,\"#d8576b\"],[0.6666666666666666,\"#ed7953\"],[0.7777777777777778,\"#fb9f3a\"],[0.8888888888888888,\"#fdca26\"],[1.0,\"#f0f921\"]]}],\"contourcarpet\":[{\"type\":\"contourcarpet\",\"colorbar\":{\"outlinewidth\":0,\"ticks\":\"\"}}],\"contour\":[{\"type\":\"contour\",\"colorbar\":{\"outlinewidth\":0,\"ticks\":\"\"},\"colorscale\":[[0.0,\"#0d0887\"],[0.1111111111111111,\"#46039f\"],[0.2222222222222222,\"#7201a8\"],[0.3333333333333333,\"#9c179e\"],[0.4444444444444444,\"#bd3786\"],[0.5555555555555556,\"#d8576b\"],[0.6666666666666666,\"#ed7953\"],[0.7777777777777778,\"#fb9f3a\"],[0.8888888888888888,\"#fdca26\"],[1.0,\"#f0f921\"]]}],\"surface\":[{\"type\":\"surface\",\"colorbar\":{\"outlinewidth\":0,\"ticks\":\"\"},\"colorscale\":[[0.0,\"#0d0887\"],[0.1111111111111111,\"#46039f\"],[0.2222222222222222,\"#7201a8\"],[0.3333333333333333,\"#9c179e\"],[0.4444444444444444,\"#bd3786\"],[0.5555555555555556,\"#d8576b\"],[0.6666666666666666,\"#ed7953\"],[0.7777777777777778,\"#fb9f3a\"],[0.8888888888888888,\"#fdca26\"],[1.0,\"#f0f921\"]]}],\"mesh3d\":[{\"type\":\"mesh3d\",\"colorbar\":{\"outlinewidth\":0,\"ticks\":\"\"}}],\"scatter\":[{\"fillpattern\":{\"fillmode\":\"overlay\",\"size\":10,\"solidity\":0.2},\"type\":\"scatter\"}],\"parcoords\":[{\"type\":\"parcoords\",\"line\":{\"colorbar\":{\"outlinewidth\":0,\"ticks\":\"\"}}}],\"scatterpolargl\":[{\"type\":\"scatterpolargl\",\"marker\":{\"colorbar\":{\"outlinewidth\":0,\"ticks\":\"\"}}}],\"bar\":[{\"error_x\":{\"color\":\"#2a3f5f\"},\"error_y\":{\"color\":\"#2a3f5f\"},\"marker\":{\"line\":{\"color\":\"#E5ECF6\",\"width\":0.5},\"pattern\":{\"fillmode\":\"overlay\",\"size\":10,\"solidity\":0.2}},\"type\":\"bar\"}],\"scattergeo\":[{\"type\":\"scattergeo\",\"marker\":{\"colorbar\":{\"outlinewidth\":0,\"ticks\":\"\"}}}],\"scatterpolar\":[{\"type\":\"scatterpolar\",\"marker\":{\"colorbar\":{\"outlinewidth\":0,\"ticks\":\"\"}}}],\"histogram\":[{\"marker\":{\"pattern\":{\"fillmode\":\"overlay\",\"size\":10,\"solidity\":0.2}},\"type\":\"histogram\"}],\"scattergl\":[{\"type\":\"scattergl\",\"marker\":{\"colorbar\":{\"outlinewidth\":0,\"ticks\":\"\"}}}],\"scatter3d\":[{\"type\":\"scatter3d\",\"line\":{\"colorbar\":{\"outlinewidth\":0,\"ticks\":\"\"}},\"marker\":{\"colorbar\":{\"outlinewidth\":0,\"ticks\":\"\"}}}],\"scattermapbox\":[{\"type\":\"scattermapbox\",\"marker\":{\"colorbar\":{\"outlinewidth\":0,\"ticks\":\"\"}}}],\"scatterternary\":[{\"type\":\"scatterternary\",\"marker\":{\"colorbar\":{\"outlinewidth\":0,\"ticks\":\"\"}}}],\"scattercarpet\":[{\"type\":\"scattercarpet\",\"marker\":{\"colorbar\":{\"outlinewidth\":0,\"ticks\":\"\"}}}],\"carpet\":[{\"aaxis\":{\"endlinecolor\":\"#2a3f5f\",\"gridcolor\":\"white\",\"linecolor\":\"white\",\"minorgridcolor\":\"white\",\"startlinecolor\":\"#2a3f5f\"},\"baxis\":{\"endlinecolor\":\"#2a3f5f\",\"gridcolor\":\"white\",\"linecolor\":\"white\",\"minorgridcolor\":\"white\",\"startlinecolor\":\"#2a3f5f\"},\"type\":\"carpet\"}],\"table\":[{\"cells\":{\"fill\":{\"color\":\"#EBF0F8\"},\"line\":{\"color\":\"white\"}},\"header\":{\"fill\":{\"color\":\"#C8D4E3\"},\"line\":{\"color\":\"white\"}},\"type\":\"table\"}],\"barpolar\":[{\"marker\":{\"line\":{\"color\":\"#E5ECF6\",\"width\":0.5},\"pattern\":{\"fillmode\":\"overlay\",\"size\":10,\"solidity\":0.2}},\"type\":\"barpolar\"}],\"pie\":[{\"automargin\":true,\"type\":\"pie\"}]},\"layout\":{\"autotypenumbers\":\"strict\",\"colorway\":[\"#636efa\",\"#EF553B\",\"#00cc96\",\"#ab63fa\",\"#FFA15A\",\"#19d3f3\",\"#FF6692\",\"#B6E880\",\"#FF97FF\",\"#FECB52\"],\"font\":{\"color\":\"#2a3f5f\"},\"hovermode\":\"closest\",\"hoverlabel\":{\"align\":\"left\"},\"paper_bgcolor\":\"white\",\"plot_bgcolor\":\"#E5ECF6\",\"polar\":{\"bgcolor\":\"#E5ECF6\",\"angularaxis\":{\"gridcolor\":\"white\",\"linecolor\":\"white\",\"ticks\":\"\"},\"radialaxis\":{\"gridcolor\":\"white\",\"linecolor\":\"white\",\"ticks\":\"\"}},\"ternary\":{\"bgcolor\":\"#E5ECF6\",\"aaxis\":{\"gridcolor\":\"white\",\"linecolor\":\"white\",\"ticks\":\"\"},\"baxis\":{\"gridcolor\":\"white\",\"linecolor\":\"white\",\"ticks\":\"\"},\"caxis\":{\"gridcolor\":\"white\",\"linecolor\":\"white\",\"ticks\":\"\"}},\"coloraxis\":{\"colorbar\":{\"outlinewidth\":0,\"ticks\":\"\"}},\"colorscale\":{\"sequential\":[[0.0,\"#0d0887\"],[0.1111111111111111,\"#46039f\"],[0.2222222222222222,\"#7201a8\"],[0.3333333333333333,\"#9c179e\"],[0.4444444444444444,\"#bd3786\"],[0.5555555555555556,\"#d8576b\"],[0.6666666666666666,\"#ed7953\"],[0.7777777777777778,\"#fb9f3a\"],[0.8888888888888888,\"#fdca26\"],[1.0,\"#f0f921\"]],\"sequentialminus\":[[0.0,\"#0d0887\"],[0.1111111111111111,\"#46039f\"],[0.2222222222222222,\"#7201a8\"],[0.3333333333333333,\"#9c179e\"],[0.4444444444444444,\"#bd3786\"],[0.5555555555555556,\"#d8576b\"],[0.6666666666666666,\"#ed7953\"],[0.7777777777777778,\"#fb9f3a\"],[0.8888888888888888,\"#fdca26\"],[1.0,\"#f0f921\"]],\"diverging\":[[0,\"#8e0152\"],[0.1,\"#c51b7d\"],[0.2,\"#de77ae\"],[0.3,\"#f1b6da\"],[0.4,\"#fde0ef\"],[0.5,\"#f7f7f7\"],[0.6,\"#e6f5d0\"],[0.7,\"#b8e186\"],[0.8,\"#7fbc41\"],[0.9,\"#4d9221\"],[1,\"#276419\"]]},\"xaxis\":{\"gridcolor\":\"white\",\"linecolor\":\"white\",\"ticks\":\"\",\"title\":{\"standoff\":15},\"zerolinecolor\":\"white\",\"automargin\":true,\"zerolinewidth\":2},\"yaxis\":{\"gridcolor\":\"white\",\"linecolor\":\"white\",\"ticks\":\"\",\"title\":{\"standoff\":15},\"zerolinecolor\":\"white\",\"automargin\":true,\"zerolinewidth\":2},\"scene\":{\"xaxis\":{\"backgroundcolor\":\"#E5ECF6\",\"gridcolor\":\"white\",\"linecolor\":\"white\",\"showbackground\":true,\"ticks\":\"\",\"zerolinecolor\":\"white\",\"gridwidth\":2},\"yaxis\":{\"backgroundcolor\":\"#E5ECF6\",\"gridcolor\":\"white\",\"linecolor\":\"white\",\"showbackground\":true,\"ticks\":\"\",\"zerolinecolor\":\"white\",\"gridwidth\":2},\"zaxis\":{\"backgroundcolor\":\"#E5ECF6\",\"gridcolor\":\"white\",\"linecolor\":\"white\",\"showbackground\":true,\"ticks\":\"\",\"zerolinecolor\":\"white\",\"gridwidth\":2}},\"shapedefaults\":{\"line\":{\"color\":\"#2a3f5f\"}},\"annotationdefaults\":{\"arrowcolor\":\"#2a3f5f\",\"arrowhead\":0,\"arrowwidth\":1},\"geo\":{\"bgcolor\":\"white\",\"landcolor\":\"#E5ECF6\",\"subunitcolor\":\"white\",\"showland\":true,\"showlakes\":true,\"lakecolor\":\"white\"},\"title\":{\"x\":0.05},\"mapbox\":{\"style\":\"light\"}}},\"xaxis\":{\"range\":[-1.05,1.05],\"showticklabels\":false,\"showgrid\":false,\"zeroline\":false},\"yaxis\":{\"range\":[-1.05,1.05],\"showticklabels\":false,\"showgrid\":false,\"zeroline\":false},\"shapes\":[{\"fillcolor\":\"red\",\"line\":{\"width\":2},\"opacity\":0.5,\"type\":\"circle\",\"x0\":0.09787368020726839,\"x1\":0.9338942920011968,\"xref\":\"x\",\"y0\":-0.6874091123593411,\"y1\":0.14861149943458735,\"yref\":\"y\"},{\"fillcolor\":\"red\",\"line\":{\"width\":2},\"opacity\":0.5,\"type\":\"circle\",\"x0\":-0.698576268539566,\"x1\":0.09787368020726844,\"xref\":\"x\",\"y0\":-0.6676237808357941,\"y1\":0.12882616791104035,\"yref\":\"y\"},{\"fillcolor\":\"red\",\"line\":{\"width\":2},\"opacity\":0.5,\"type\":\"circle\",\"x0\":-0.16426604414664278,\"x1\":0.34760576465693305,\"xref\":\"x\",\"y0\":-0.0016498153342811017,\"y1\":0.5102219934692948,\"yref\":\"y\"},{\"fillcolor\":\"brown\",\"line\":{\"width\":2},\"opacity\":0.5,\"type\":\"circle\",\"x0\":-0.13976861568164778,\"x1\":0.32426785244504674,\"xref\":\"x\",\"y0\":-0.9944393779986467,\"y1\":-0.530402909871952,\"yref\":\"y\"},{\"fillcolor\":\"yellow\",\"line\":{\"width\":2},\"opacity\":0.5,\"type\":\"circle\",\"x0\":0.33812202513570166,\"x1\":0.7348422862748455,\"xref\":\"x\",\"y0\":0.14826722341826745,\"y1\":0.5449874845574112,\"yref\":\"y\"},{\"fillcolor\":\"red\",\"line\":{\"width\":2},\"opacity\":0.5,\"type\":\"circle\",\"x0\":-0.4924073886382625,\"x1\":-0.1624685416972986,\"xref\":\"x\",\"y0\":0.12817442802011994,\"y1\":0.4581132749610839,\"yref\":\"y\"},{\"fillcolor\":\"red\",\"line\":{\"width\":2},\"opacity\":0.5,\"type\":\"circle\",\"x0\":-0.3202393177289369,\"x1\":-0.018130970112152173,\"xref\":\"x\",\"y0\":0.4156348450757694,\"y1\":0.7177431926925542,\"yref\":\"y\"},{\"fillcolor\":\"orange\",\"line\":{\"width\":2},\"opacity\":0.5,\"type\":\"circle\",\"x0\":0.1649178745584048,\"x1\":0.43884693780929074,\"xref\":\"x\",\"y0\":0.4492574521033095,\"y1\":0.7231865153541954,\"yref\":\"y\"},{\"fillcolor\":\"grey\",\"line\":{\"width\":2},\"opacity\":0.5,\"type\":\"circle\",\"x0\":-0.06635212753644129,\"x1\":0.20336362718580261,\"xref\":\"x\",\"y0\":0.5907296627073328,\"y1\":0.8604454174295768,\"yref\":\"y\"},{\"fillcolor\":\"red\",\"line\":{\"width\":2},\"opacity\":0.5,\"type\":\"circle\",\"x0\":-0.6918107762719308,\"x1\":-0.4608434409809916,\"xref\":\"x\",\"y0\":0.0484002496625069,\"y1\":0.2793675849534461,\"yref\":\"y\"},{\"fillcolor\":\"yellow\",\"line\":{\"width\":2},\"opacity\":0.5,\"type\":\"circle\",\"x0\":-0.5504233303915868,\"x1\":-0.31982822816010925,\"xref\":\"x\",\"y0\":0.43659890758170783,\"y1\":0.6671940098131854,\"yref\":\"y\"},{\"fillcolor\":\"orange\",\"line\":{\"width\":2},\"opacity\":0.5,\"type\":\"circle\",\"x0\":-0.6977260714996969,\"x1\":-0.4794764289188216,\"xref\":\"x\",\"y0\":0.2790319627457214,\"y1\":0.4972816053265968,\"yref\":\"y\"},{\"fillcolor\":\"red\",\"line\":{\"width\":2},\"opacity\":0.5,\"type\":\"circle\",\"x0\":-0.4510486908120325,\"x1\":-0.23921418154888624,\"xref\":\"x\",\"y0\":0.6480608917385831,\"y1\":0.8598954010017295,\"yref\":\"y\"},{\"fillcolor\":\"brown\",\"line\":{\"width\":2},\"opacity\":0.5,\"type\":\"circle\",\"x0\":-0.24347972421513195,\"x1\":-0.04886611857494297,\"xref\":\"x\",\"y0\":0.716674780299817,\"y1\":0.911288385940006,\"yref\":\"y\"},{\"fillcolor\":\"red\",\"line\":{\"width\":2},\"opacity\":0.5,\"type\":\"circle\",\"x0\":-0.8060524853865234,\"x1\":-0.6166230929456022,\"xref\":\"x\",\"y0\":-0.09193778779834132,\"y1\":0.09749160464257987,\"yref\":\"y\"},{\"fillcolor\":\"brown\",\"line\":{\"width\":2},\"opacity\":0.5,\"type\":\"circle\",\"x0\":-0.8075224940907413,\"x1\":-0.6573886893914953,\"xref\":\"x\",\"y0\":0.19805719294141538,\"y1\":0.34819099764066136,\"yref\":\"y\"},{\"fillcolor\":\"pink\",\"line\":{\"width\":2},\"opacity\":0.5,\"type\":\"circle\",\"x0\":-0.6979436071598372,\"x1\":-0.5497407241941749,\"xref\":\"x\",\"y0\":0.4938606295914296,\"y1\":0.6420635125570919,\"yref\":\"y\"},{\"fillcolor\":\"grey\",\"line\":{\"width\":2},\"opacity\":0.5,\"type\":\"circle\",\"x0\":-0.5767095129529513,\"x1\":-0.44659547220738294,\"xref\":\"x\",\"y0\":0.6501533495742781,\"y1\":0.7802673903198464,\"yref\":\"y\"},{\"fillcolor\":\"grey\",\"line\":{\"width\":2},\"opacity\":0.5,\"type\":\"circle\",\"x0\":-0.8454622427698908,\"x1\":-0.7188860547256546,\"xref\":\"x\",\"y0\":0.08072298832986524,\"y1\":0.20729917637410145,\"yref\":\"y\"},{\"fillcolor\":\"red\",\"line\":{\"width\":2},\"opacity\":0.5,\"type\":\"circle\",\"x0\":-0.8156726487900909,\"x1\":-0.6968325378402958,\"xref\":\"x\",\"y0\":0.3460688559153514,\"y1\":0.4649089668651465,\"yref\":\"y\"},{\"fillcolor\":\"orange\",\"line\":{\"width\":2},\"opacity\":0.5,\"type\":\"circle\",\"x0\":-0.8075444079882966,\"x1\":-0.6902204263821573,\"xref\":\"x\",\"y0\":0.4646787349856233,\"y1\":0.5820027165917626,\"yref\":\"y\"},{\"fillcolor\":\"brown\",\"line\":{\"width\":2},\"opacity\":0.5,\"type\":\"circle\",\"x0\":-0.6899621986132469,\"x1\":-0.5756202901178187,\"xref\":\"x\",\"y0\":0.6417581198138009,\"y1\":0.7561000283092292,\"yref\":\"y\"},{\"fillcolor\":\"orange\",\"line\":{\"width\":2},\"opacity\":0.5,\"type\":\"circle\",\"x0\":-0.9063671017735412,\"x1\":-0.7920662377164981,\"xref\":\"x\",\"y0\":0.2780081228267699,\"y1\":0.392308986883813,\"yref\":\"y\"},{\"fillcolor\":\"grey\",\"line\":{\"width\":2},\"opacity\":0.5,\"type\":\"circle\",\"x0\":-0.7906266812458196,\"x1\":-0.6810727138892145,\"xref\":\"x\",\"y0\":-0.1994684742624548,\"y1\":-0.0899145069058498,\"yref\":\"y\"},{\"fillcolor\":\"grey\",\"line\":{\"width\":2},\"opacity\":0.5,\"type\":\"circle\",\"x0\":-0.920716830226589,\"x1\":-0.8126689905784884,\"xref\":\"x\",\"y0\":0.1713424790167064,\"y1\":0.2793903186648069,\"yref\":\"y\"},{\"fillcolor\":\"grey\",\"line\":{\"width\":2},\"opacity\":0.5,\"type\":\"circle\",\"x0\":0.04246815745076874,\"x1\":0.14547785605386204,\"xref\":\"x\",\"y0\":-0.10465088697730494,\"y1\":-0.0016411883742116495,\"yref\":\"y\"},{\"fillcolor\":\"grey\",\"line\":{\"width\":2},\"opacity\":0.5,\"type\":\"circle\",\"x0\":-0.018969739634275323,\"x1\":0.07195349785685429,\"xref\":\"x\",\"y0\":0.5030901627384559,\"y1\":0.5940134002295854,\"yref\":\"y\"},{\"fillcolor\":\"grey\",\"line\":{\"width\":2},\"opacity\":0.5,\"type\":\"circle\",\"x0\":0.07195207691725689,\"x1\":0.15091820089799493,\"xref\":\"x\",\"y0\":0.509560044744233,\"y1\":0.588526168724971,\"yref\":\"y\"},{\"fillcolor\":\"red\",\"line\":{\"width\":2},\"opacity\":0.5,\"type\":\"circle\",\"x0\":0.33387334600797425,\"x1\":0.41275715165790716,\"xref\":\"x\",\"y0\":0.12582776025863407,\"y1\":0.20471156590856698,\"yref\":\"y\"},{\"fillcolor\":\"grey\",\"line\":{\"width\":2},\"opacity\":0.5,\"type\":\"circle\",\"x0\":-0.5160215746219852,\"x1\":-0.4383737193756445,\"xref\":\"x\",\"y0\":0.7743870289165413,\"y1\":0.852034884162882,\"yref\":\"y\"},{\"fillcolor\":\"red\",\"line\":{\"width\":2},\"opacity\":0.5,\"type\":\"circle\",\"x0\":-0.2176548776972162,\"x1\":-0.14684373365618214,\"xref\":\"x\",\"y0\":0.1196426894854633,\"y1\":0.19045383352649736,\"yref\":\"y\"},{\"fillcolor\":\"grey\",\"line\":{\"width\":2},\"opacity\":0.5,\"type\":\"circle\",\"x0\":-0.7548163817227476,\"x1\":-0.6889707626135224,\"xref\":\"x\",\"y0\":0.5779357881300533,\"y1\":0.6437814072392785,\"yref\":\"y\"},{\"fillcolor\":\"red\",\"line\":{\"width\":2},\"opacity\":0.5,\"type\":\"circle\",\"x0\":0.29318167144951474,\"x1\":0.3507317507147712,\"xref\":\"x\",\"y0\":0.39292755993833095,\"y1\":0.4504776392035874,\"yref\":\"y\"},{\"fillcolor\":\"grey\",\"line\":{\"width\":2},\"opacity\":0.5,\"type\":\"circle\",\"x0\":-0.2916167265659802,\"x1\":-0.23457059815324593,\"xref\":\"x\",\"y0\":0.8319633118728906,\"y1\":0.8890094402856248,\"yref\":\"y\"},{\"fillcolor\":\"grey\",\"line\":{\"width\":2},\"opacity\":0.5,\"type\":\"circle\",\"x0\":-0.05654245038295209,\"x1\":0.0003389326742639573,\"xref\":\"x\",\"y0\":0.8288032645182033,\"y1\":0.8856846475754194,\"yref\":\"y\"},{\"fillcolor\":\"red\",\"line\":{\"width\":2},\"opacity\":0.5,\"type\":\"circle\",\"x0\":0.20305289145918648,\"x1\":0.25961610789137657,\"xref\":\"x\",\"y0\":0.7073702240028026,\"y1\":0.7639334404349927,\"yref\":\"y\"},{\"fillcolor\":\"grey\",\"line\":{\"width\":2},\"opacity\":0.5,\"type\":\"circle\",\"x0\":-0.18633777520388406,\"x1\":-0.13181507038125206,\"xref\":\"x\",\"y0\":0.3586567532943297,\"y1\":0.4131794581169617,\"yref\":\"y\"},{\"fillcolor\":\"grey\",\"line\":{\"width\":2},\"opacity\":0.5,\"type\":\"circle\",\"x0\":-0.46152096276967847,\"x1\":-0.4076978511730118,\"xref\":\"x\",\"y0\":0.10707013854772383,\"y1\":0.1608932501443905,\"yref\":\"y\"},{\"fillcolor\":\"grey\",\"line\":{\"width\":2},\"opacity\":0.5,\"type\":\"circle\",\"x0\":0.07351586785502887,\"x1\":0.12062294442672108,\"xref\":\"x\",\"y0\":-0.15169406814633624,\"y1\":-0.10458699157464402,\"yref\":\"y\"},{\"fillcolor\":\"grey\",\"line\":{\"width\":2},\"opacity\":0.5,\"type\":\"circle\",\"x0\":-0.5718430357302229,\"x1\":-0.5265165895652175,\"xref\":\"x\",\"y0\":0.606853160176786,\"y1\":0.6521796063417914,\"yref\":\"y\"},{\"fillcolor\":\"red\",\"line\":{\"width\":2},\"opacity\":0.5,\"type\":\"circle\",\"x0\":-0.6986725182745226,\"x1\":-0.6535056165896567,\"xref\":\"x\",\"y0\":0.46402611774455,\"y1\":0.5091930194294159,\"yref\":\"y\"},{\"fillcolor\":\"grey\",\"line\":{\"width\":2},\"opacity\":0.5,\"type\":\"circle\",\"x0\":-0.24689271998542683,\"x1\":-0.21546183406176295,\"xref\":\"x\",\"y0\":0.12452026330533532,\"y1\":0.1559511492289992,\"yref\":\"y\"},{\"fillcolor\":\"red\",\"line\":{\"width\":2},\"opacity\":0.5,\"type\":\"circle\",\"x0\":-0.15972674476274748,\"x1\":-0.12942429239950246,\"xref\":\"x\",\"y0\":0.10618241519704232,\"y1\":0.13648486756028733,\"yref\":\"y\"},{\"fillcolor\":\"red\",\"line\":{\"width\":2},\"opacity\":0.5,\"type\":\"circle\",\"x0\":-0.3204920481244597,\"x1\":-0.29045278825218473,\"xref\":\"x\",\"y0\":0.4567679286703439,\"y1\":0.48680718854261884,\"yref\":\"y\"},{\"fillcolor\":\"orange\",\"line\":{\"width\":2},\"opacity\":0.5,\"type\":\"circle\",\"x0\":-0.46496617028975623,\"x1\":-0.43643045446857026,\"xref\":\"x\",\"y0\":0.4090024314864084,\"y1\":0.4375381473075944,\"yref\":\"y\"},{\"fillcolor\":\"grey\",\"line\":{\"width\":2},\"opacity\":0.5,\"type\":\"circle\",\"x0\":-0.1830409476831685,\"x1\":-0.16065817125539164,\"xref\":\"x\",\"y0\":0.19933963385237383,\"y1\":0.2217224102801507,\"yref\":\"y\"},{\"fillcolor\":\"grey\",\"line\":{\"width\":2},\"opacity\":0.5,\"type\":\"circle\",\"x0\":-0.16912352467996014,\"x1\":-0.1497487842272879,\"xref\":\"x\",\"y0\":0.33120988094656706,\"y1\":0.35058462139923924,\"yref\":\"y\"},{\"fillcolor\":\"grey\",\"line\":{\"width\":2},\"opacity\":0.5,\"type\":\"circle\",\"x0\":-0.1999984340814007,\"x1\":-0.18304819775969047,\"xref\":\"x\",\"y0\":0.3924194509222794,\"y1\":0.40936968724398964,\"yref\":\"y\"}],\"annotations\":[{\"font\":{\"size\":14},\"hovertext\":\"Plastic Pieces \\u003cbr\\u003e 484,100\",\"showarrow\":false,\"text\":\"Plastic Pieces \\u003cbr\\u003e 484,100\",\"x\":0.5158839861042326,\"y\":-0.26939880646237685},{\"font\":{\"size\":14},\"hovertext\":\"Cigarette Butts \\u003cbr\\u003e 439,358\",\"showarrow\":false,\"text\":\"Cigarette Butts \\u003cbr\\u003e 439,358\",\"x\":-0.30035129416614875,\"y\":-0.26939880646237685},{\"font\":{\"size\":14},\"hovertext\":\"Food Wrappers \\u003cbr\\u003e 181,478\",\"showarrow\":false,\"text\":\"Food Wrappers \\u003cbr\\u003e 181,478\",\"x\":0.09166986025514515,\"y\":0.2542860890675068},{\"font\":{\"size\":14},\"hovertext\":\"Paper Pieces \\u003cbr\\u003e 149,144\",\"showarrow\":false,\"text\":\"Paper Pieces \\u003cbr\\u003e 149,144\",\"x\":0.09224961838169948,\"y\":-0.7624211439352994},{\"font\":{\"size\":12},\"hovertext\":\"Glass Pieces \\u003cbr\\u003e 109,011\",\"showarrow\":false,\"text\":\"Glass Pieces \\u003cbr\\u003e 109,011\",\"x\":0.5364821557052736,\"y\":0.34662735398783934},{\"font\":{\"size\":12},\"hovertext\":\"Food Containers \\u003cbr\\u003e 75,399\",\"showarrow\":false,\"text\":\"Food Containers \\u003cbr\\u003e 75,399\",\"x\":-0.32743796516778056,\"y\":0.2931438514906019},{\"font\":{\"size\":12},\"hovertext\":\"Bottle Caps \\u003cbr\\u003e 63,216\",\"showarrow\":false,\"text\":\"Bottle Caps \\u003cbr\\u003e 63,216\",\"x\":-0.1691851439205445,\"y\":0.5666890188841618},{\"font\":{\"size\":12},\"hovertext\":\"Bottle Caps \\u003cbr\\u003e 51,973\",\"showarrow\":false,\"text\":\"Bottle Caps \\u003cbr\\u003e 51,973\",\"x\":0.30188240618384776,\"y\":0.5862219837287524},{\"font\":{\"size\":12},\"hovertext\":\"Other \\u003cbr\\u003e 50,386\",\"showarrow\":false,\"text\":\"Other \\u003cbr\\u003e 50,386\",\"x\":0.06850574982468066,\"y\":0.7255875400684548},{\"font\":{\"size\":12},\"hovertext\":\"Plastic Bags \\u003cbr\\u003e 36,949\",\"showarrow\":false,\"text\":\"Plastic Bags \\u003cbr\\u003e 36,949\",\"x\":-0.5763271086264612,\"y\":0.1638839173079765},{\"font\":{\"size\":12},\"hovertext\":\"Glass Bottles \\u003cbr\\u003e 36,830\",\"showarrow\":false,\"text\":\"Glass Bottles \\u003cbr\\u003e 36,830\",\"x\":-0.435125779275848,\"y\":0.5518964586974466},{\"font\":{\"size\":12},\"hovertext\":\"Cans \\u003cbr\\u003e 32,992\",\"showarrow\":false,\"text\":\"Cans \\u003cbr\\u003e 32,992\",\"x\":-0.5886012502092592,\"y\":0.3881567840361591},{\"font\":{\"size\":12},\"hovertext\":\"Straws \\u003cbr\\u003e 31,081\",\"showarrow\":false,\"text\":\"Straws \\u003cbr\\u003e 31,081\",\"x\":-0.3451314361804594,\"y\":0.7539781463701563},{\"font\":{\"size\":8},\"hovertext\":\"Paper\\u002fCardboard \\u003cbr\\u003e 26,233\",\"showarrow\":false,\"text\":\"Paper\\u002fCardboard \\u003cbr\\u003e 26,233\",\"x\":-0.14617292139503746,\"y\":0.8139815831199115},{\"font\":{\"size\":8},\"hovertext\":\"Packaging \\u003cbr\\u003e 24,854\",\"showarrow\":false,\"text\":\"Packaging \\u003cbr\\u003e 24,854\",\"x\":-0.7113377891660628,\"y\":0.0027769084221192838},{\"font\":{\"size\":8},\"hovertext\":\"Food Containers \\u003cbr\\u003e 15,612\",\"showarrow\":false,\"text\":\"Food Containers \\u003cbr\\u003e 15,612\",\"x\":-0.7324555917411183,\"y\":0.27312409529103837},{\"font\":{\"size\":8},\"hovertext\":\"Clothes \\u003cbr\\u003e 15,213\",\"showarrow\":false,\"text\":\"Clothes \\u003cbr\\u003e 15,213\",\"x\":-0.623842165677006,\"y\":0.5679620710742608},{\"font\":{\"size\":8},\"hovertext\":\"Fishing Gear \\u003cbr\\u003e 11,726\",\"showarrow\":false,\"text\":\"Fishing Gear \\u003cbr\\u003e 11,726\",\"x\":-0.5116524925801671,\"y\":0.7152103699470622},{\"font\":{\"size\":8},\"hovertext\":\"Tobacco \\u003cbr\\u003e 11,097\",\"showarrow\":false,\"text\":\"Tobacco \\u003cbr\\u003e 11,097\",\"x\":-0.7821741487477727,\"y\":0.14401108235198334},{\"font\":{\"size\":8},\"hovertext\":\"Balloons \\u003cbr\\u003e 9,782\",\"showarrow\":false,\"text\":\"Balloons \\u003cbr\\u003e 9,782\",\"x\":-0.7562525933151933,\"y\":0.40548891139024895},{\"font\":{\"size\":8},\"hovertext\":\"Nails \\u003cbr\\u003e 9,534\",\"showarrow\":false,\"text\":\"Nails \\u003cbr\\u003e 9,534\",\"x\":-0.748882417185227,\"y\":0.523340725788693},{\"font\":{\"size\":8},\"hovertext\":\"Wood Pieces \\u003cbr\\u003e 9,055\",\"showarrow\":false,\"text\":\"Wood Pieces \\u003cbr\\u003e 9,055\",\"x\":-0.6327912443655328,\"y\":0.698929074061515},{\"font\":{\"size\":8},\"hovertext\":\"Foil \\u003cbr\\u003e 9,049\",\"showarrow\":false,\"text\":\"Foil \\u003cbr\\u003e 9,049\",\"x\":-0.8492166697450196,\"y\":0.33515855485529145},{\"font\":{\"size\":8},\"hovertext\":\"Fireworks \\u003cbr\\u003e 8,313\",\"showarrow\":false,\"text\":\"Fireworks \\u003cbr\\u003e 8,313\",\"x\":-0.7358496975675171,\"y\":-0.1446914905841523},{\"font\":{\"size\":8},\"hovertext\":\"Beach Gear \\u003cbr\\u003e 8,086\",\"showarrow\":false,\"text\":\"Beach Gear \\u003cbr\\u003e 8,086\",\"x\":-0.8666929104025387,\"y\":0.22536639884075665},{\"font\":{\"size\":8},\"hovertext\":\"Personal Hygiene \\u003cbr\\u003e 7,349\",\"showarrow\":false,\"text\":\"Personal Hygiene \\u003cbr\\u003e 7,349\",\"x\":0.09397300675231539,\"y\":-0.0531460376757583},{\"font\":{\"size\":8},\"hovertext\":\"Lighters \\u003cbr\\u003e 5,726\",\"showarrow\":false,\"text\":\"\",\"x\":0.026491879111289484,\"y\":0.5485517814840206},{\"font\":{\"size\":8},\"hovertext\":\"Bandaids \\u003cbr\\u003e 4,319\",\"showarrow\":false,\"text\":\"\",\"x\":0.11143513890762591,\"y\":0.549043106734602},{\"font\":{\"size\":8},\"hovertext\":\"Lids \\u003cbr\\u003e 4,310\",\"showarrow\":false,\"text\":\"\",\"x\":0.3733152488329407,\"y\":0.16526966308360053},{\"font\":{\"size\":8},\"hovertext\":\"Construction Materials \\u003cbr\\u003e 4,176\",\"showarrow\":false,\"text\":\"\",\"x\":-0.47719764699881484,\"y\":0.8132109565397116},{\"font\":{\"size\":8},\"hovertext\":\"Utensils \\u003cbr\\u003e 3,473\",\"showarrow\":false,\"text\":\"\",\"x\":-0.18224930567669917,\"y\":0.15504826150598033},{\"font\":{\"size\":8},\"hovertext\":\"Strapping Bands \\u003cbr\\u003e 3,003\",\"showarrow\":false,\"text\":\"\",\"x\":-0.721893572168135,\"y\":0.6108585976846659},{\"font\":{\"size\":8},\"hovertext\":\"6-Pack Holders \\u003cbr\\u003e 2,294\",\"showarrow\":false,\"text\":\"\",\"x\":0.32195671108214297,\"y\":0.4217025995709592},{\"font\":{\"size\":8},\"hovertext\":\"PPE \\u003cbr\\u003e 2,254\",\"showarrow\":false,\"text\":\"\",\"x\":-0.26309366235961307,\"y\":0.8604863760792577},{\"font\":{\"size\":8},\"hovertext\":\"Batteries \\u003cbr\\u003e 2,241\",\"showarrow\":false,\"text\":\"\",\"x\":-0.028101758854344065,\"y\":0.8572439560468114},{\"font\":{\"size\":8},\"hovertext\":\"Bottles \\u003cbr\\u003e 2,216\",\"showarrow\":false,\"text\":\"\",\"x\":0.23133449967528152,\"y\":0.7356518322188976},{\"font\":{\"size\":8},\"hovertext\":\"Syringes \\u003cbr\\u003e 2,059\",\"showarrow\":false,\"text\":\"\",\"x\":-0.15907642279256806,\"y\":0.3859181057056457},{\"font\":{\"size\":8},\"hovertext\":\"Footwear \\u003cbr\\u003e 2,006\",\"showarrow\":false,\"text\":\"\",\"x\":-0.43460940697134515,\"y\":0.13398169434605717},{\"font\":{\"size\":8},\"hovertext\":\"Cigar Tips \\u003cbr\\u003e 1,537\",\"showarrow\":false,\"text\":\"\",\"x\":0.09706940614087498,\"y\":-0.12814052986049013},{\"font\":{\"size\":8},\"hovertext\":\"Rope \\u003cbr\\u003e 1,423\",\"showarrow\":false,\"text\":\"\",\"x\":-0.5491798126477202,\"y\":0.6295163832592887},{\"font\":{\"size\":8},\"hovertext\":\"Beverage Bottles \\u003cbr\\u003e 1,413\",\"showarrow\":false,\"text\":\"\",\"x\":-0.6760890674320896,\"y\":0.4866095685869829},{\"font\":{\"size\":8},\"hovertext\":\"Tires \\u003cbr\\u003e 684\",\"showarrow\":false,\"text\":\"\",\"x\":-0.2311772770235949,\"y\":0.14023570626716725},{\"font\":{\"size\":8},\"hovertext\":\"Bagged Pet Waste \\u003cbr\\u003e 636\",\"showarrow\":false,\"text\":\"\",\"x\":-0.14457551858112497,\"y\":0.12133364137866483},{\"font\":{\"size\":8},\"hovertext\":\"Beverage Pouches \\u003cbr\\u003e 625\",\"showarrow\":false,\"text\":\"\",\"x\":-0.3054724181883222,\"y\":0.47178755860648136},{\"font\":{\"size\":8},\"hovertext\":\"Appliances \\u003cbr\\u003e 564\",\"showarrow\":false,\"text\":\"\",\"x\":-0.45069831237916325,\"y\":0.4232702893970014},{\"font\":{\"size\":8},\"hovertext\":\"E-Waste \\u003cbr\\u003e 347\",\"showarrow\":false,\"text\":\"\",\"x\":-0.17184955946928007,\"y\":0.21053102206626226},{\"font\":{\"size\":8},\"hovertext\":\"Car Parts \\u003cbr\\u003e 260\",\"showarrow\":false,\"text\":\"\",\"x\":-0.15943615445362402,\"y\":0.34089725117290315},{\"font\":{\"size\":8},\"hovertext\":\"Bikes \\u003cbr\\u003e 199\",\"showarrow\":false,\"text\":\"\",\"x\":-0.19152331592054558,\"y\":0.40089456908313453}],\"autosize\":false,\"width\":1000,\"height\":1000,\"plot_bgcolor\":\"rgba(0,0,0,0)\",\"title\":{\"text\":\"Number of Debris Items Collected By Category and Material 2013-2023\"}},                        {\"responsive\": true}                    ).then(function(){\n",
       "                            \n",
       "var gd = document.getElementById('4a6aab41-020b-4548-989e-b08c54b41803');\n",
       "var x = new MutationObserver(function (mutations, observer) {{\n",
       "        var display = window.getComputedStyle(gd).display;\n",
       "        if (!display || display === 'none') {{\n",
       "            console.log([gd, 'removed!']);\n",
       "            Plotly.purge(gd);\n",
       "            observer.disconnect();\n",
       "        }}\n",
       "}});\n",
       "\n",
       "// Listen for the removal of the full notebook cells\n",
       "var notebookContainer = gd.closest('#notebook-container');\n",
       "if (notebookContainer) {{\n",
       "    x.observe(notebookContainer, {childList: true});\n",
       "}}\n",
       "\n",
       "// Listen for the clearing of the current output cell\n",
       "var outputEl = gd.closest('.output');\n",
       "if (outputEl) {{\n",
       "    x.observe(outputEl, {childList: true});\n",
       "}}\n",
       "\n",
       "                        })                };                });            </script>        </div>"
      ]
     },
     "metadata": {},
     "output_type": "display_data"
    }
   ],
   "source": [
    "# Get data from 2013-2023 and make circle packing graph\n",
    "fig = graph_maker.circle_packing_graph(plot_colors=None)\n",
    "fig.show()"
   ]
  },
  {
   "cell_type": "markdown",
   "id": "f1bbfb5e-801c-4151-8d86-44b03c2f40d3",
   "metadata": {},
   "source": [
    "The above graph is a circle packing graph which shows the total number of items cleaned up by Save Our Shores 2013-2023, binned into the most common categories and color coded by material. The size of the circle is proportional to the number of items cleaned up. In circles too small to fit the item name and quanitity inside, you can hover over the center of the circle to find that information. Circles with the same category name (e.g. Bottle Caps) are differentiated by material.\n",
    "\n",
    "As you can see, plastic (in red) is by far the most common material of the marine debris cleaned up by SOS. Mixed material items (gray) like food containers, bottle caps and personal hygiene most likely contain a fair amount of plastic as well."
   ]
  },
  {
   "cell_type": "markdown",
   "id": "68783a25-d5cf-43b2-bb1c-67b705fe4a3f",
   "metadata": {},
   "source": [
    "# Longitudinal Evaluation of Cleanup Items\n",
    "\n",
    "Here we'll look at the number of items cleaned up by year from 2013-2023. First, let's just look at bar plots of items collected over the years and number of volunteers over the years.\n",
    "In order to do that, we'll need to group the data by year. We'll also add a column for total number of volunteers, which was defined at number of adults * 0.5 * number of youths.\n",
    "\n",
    "## Total Number of Items by Debris Category"
   ]
  },
  {
   "cell_type": "code",
   "execution_count": 7,
   "id": "6f6954c3-7c9c-4e3b-bc76-3b7280bae752",
   "metadata": {},
   "outputs": [
    {
     "data": {
      "application/vnd.plotly.v1+json": {
       "config": {
        "plotlyServerURL": "https://plot.ly"
       },
       "data": [
        {
         "alignmentgroup": "True",
         "hovertemplate": "variable=Plastic Pieces<br>index=%{x}<br>value=%{y}<extra></extra>",
         "legendgroup": "Plastic Pieces",
         "marker": {
          "color": "#636efa",
          "pattern": {
           "shape": ""
          }
         },
         "name": "Plastic Pieces",
         "offsetgroup": "Plastic Pieces",
         "orientation": "v",
         "showlegend": true,
         "textposition": "auto",
         "type": "bar",
         "x": [
          2013,
          2014,
          2015,
          2016,
          2017,
          2018,
          2019,
          2020,
          2021,
          2022,
          2023
         ],
         "xaxis": "x",
         "y": [
          53236,
          71803,
          31440,
          43322,
          27785.5,
          40469,
          55116,
          14907,
          43820,
          47164,
          55038
         ],
         "yaxis": "y"
        },
        {
         "alignmentgroup": "True",
         "hovertemplate": "variable=Cigarette Butts<br>index=%{x}<br>value=%{y}<extra></extra>",
         "legendgroup": "Cigarette Butts",
         "marker": {
          "color": "#EF553B",
          "pattern": {
           "shape": ""
          }
         },
         "name": "Cigarette Butts",
         "offsetgroup": "Cigarette Butts",
         "orientation": "v",
         "showlegend": true,
         "textposition": "auto",
         "type": "bar",
         "x": [
          2013,
          2014,
          2015,
          2016,
          2017,
          2018,
          2019,
          2020,
          2021,
          2022,
          2023
         ],
         "xaxis": "x",
         "y": [
          81642,
          111884,
          56423,
          33684,
          21251,
          34815,
          24202,
          12380,
          18464,
          23115,
          21498
         ],
         "yaxis": "y"
        },
        {
         "alignmentgroup": "True",
         "hovertemplate": "variable=Food Wrappers<br>index=%{x}<br>value=%{y}<extra></extra>",
         "legendgroup": "Food Wrappers",
         "marker": {
          "color": "#00cc96",
          "pattern": {
           "shape": ""
          }
         },
         "name": "Food Wrappers",
         "offsetgroup": "Food Wrappers",
         "orientation": "v",
         "showlegend": true,
         "textposition": "auto",
         "type": "bar",
         "x": [
          2013,
          2014,
          2015,
          2016,
          2017,
          2018,
          2019,
          2020,
          2021,
          2022,
          2023
         ],
         "xaxis": "x",
         "y": [
          24397,
          28110,
          16142,
          12632,
          11425,
          16437,
          17333,
          6513,
          13373,
          18128,
          16988
         ],
         "yaxis": "y"
        },
        {
         "alignmentgroup": "True",
         "hovertemplate": "variable=Paper Pieces<br>index=%{x}<br>value=%{y}<extra></extra>",
         "legendgroup": "Paper Pieces",
         "marker": {
          "color": "#ab63fa",
          "pattern": {
           "shape": ""
          }
         },
         "name": "Paper Pieces",
         "offsetgroup": "Paper Pieces",
         "orientation": "v",
         "showlegend": true,
         "textposition": "auto",
         "type": "bar",
         "x": [
          2013,
          2014,
          2015,
          2016,
          2017,
          2018,
          2019,
          2020,
          2021,
          2022,
          2023
         ],
         "xaxis": "x",
         "y": [
          17242,
          23901,
          8493,
          6783,
          7043,
          15017,
          17738,
          4727,
          11733,
          19817,
          16650
         ],
         "yaxis": "y"
        },
        {
         "alignmentgroup": "True",
         "hovertemplate": "variable=Glass Pieces<br>index=%{x}<br>value=%{y}<extra></extra>",
         "legendgroup": "Glass Pieces",
         "marker": {
          "color": "#FFA15A",
          "pattern": {
           "shape": ""
          }
         },
         "name": "Glass Pieces",
         "offsetgroup": "Glass Pieces",
         "orientation": "v",
         "showlegend": true,
         "textposition": "auto",
         "type": "bar",
         "x": [
          2013,
          2014,
          2015,
          2016,
          2017,
          2018,
          2019,
          2020,
          2021,
          2022,
          2023
         ],
         "xaxis": "x",
         "y": [
          18196,
          20532,
          12865,
          13290,
          4103,
          8584,
          8823,
          1288,
          11356,
          5369,
          4605
         ],
         "yaxis": "y"
        },
        {
         "alignmentgroup": "True",
         "hovertemplate": "variable=Food Containers, Plastic<br>index=%{x}<br>value=%{y}<extra></extra>",
         "legendgroup": "Food Containers, Plastic",
         "marker": {
          "color": "#19d3f3",
          "pattern": {
           "shape": ""
          }
         },
         "name": "Food Containers, Plastic",
         "offsetgroup": "Food Containers, Plastic",
         "orientation": "v",
         "showlegend": true,
         "textposition": "auto",
         "type": "bar",
         "x": [
          2013,
          2014,
          2015,
          2016,
          2017,
          2018,
          2019,
          2020,
          2021,
          2022,
          2023
         ],
         "xaxis": "x",
         "y": [
          11813,
          13664,
          8029,
          6402,
          3214,
          3360,
          6039.5,
          2221,
          5356,
          8180,
          7121
         ],
         "yaxis": "y"
        },
        {
         "alignmentgroup": "True",
         "hovertemplate": "variable=Bottle Caps, Plastic<br>index=%{x}<br>value=%{y}<extra></extra>",
         "legendgroup": "Bottle Caps, Plastic",
         "marker": {
          "color": "#FF6692",
          "pattern": {
           "shape": ""
          }
         },
         "name": "Bottle Caps, Plastic",
         "offsetgroup": "Bottle Caps, Plastic",
         "orientation": "v",
         "showlegend": true,
         "textposition": "auto",
         "type": "bar",
         "x": [
          2013,
          2014,
          2015,
          2016,
          2017,
          2018,
          2019,
          2020,
          2021,
          2022,
          2023
         ],
         "xaxis": "x",
         "y": [
          10424,
          13438,
          7685,
          6716,
          3568,
          1486,
          4003,
          2039,
          4272,
          5222,
          4363
         ],
         "yaxis": "y"
        },
        {
         "alignmentgroup": "True",
         "hovertemplate": "variable=Bottle Caps<br>index=%{x}<br>value=%{y}<extra></extra>",
         "legendgroup": "Bottle Caps",
         "marker": {
          "color": "#B6E880",
          "pattern": {
           "shape": ""
          }
         },
         "name": "Bottle Caps",
         "offsetgroup": "Bottle Caps",
         "orientation": "v",
         "showlegend": true,
         "textposition": "auto",
         "type": "bar",
         "x": [
          2013,
          2014,
          2015,
          2016,
          2017,
          2018,
          2019,
          2020,
          2021,
          2022,
          2023
         ],
         "xaxis": "x",
         "y": [
          8151,
          10074,
          8585,
          4737,
          2890,
          3014,
          3327,
          1513,
          2838,
          4083,
          2761
         ],
         "yaxis": "y"
        },
        {
         "alignmentgroup": "True",
         "hovertemplate": "variable=Other<br>index=%{x}<br>value=%{y}<extra></extra>",
         "legendgroup": "Other",
         "marker": {
          "color": "#FF97FF",
          "pattern": {
           "shape": ""
          }
         },
         "name": "Other",
         "offsetgroup": "Other",
         "orientation": "v",
         "showlegend": true,
         "textposition": "auto",
         "type": "bar",
         "x": [
          2013,
          2014,
          2015,
          2016,
          2017,
          2018,
          2019,
          2020,
          2021,
          2022,
          2023
         ],
         "xaxis": "x",
         "y": [
          5015,
          9127,
          3985,
          2912,
          1977.5,
          2676,
          1595,
          7025,
          6608,
          7429,
          2037
         ],
         "yaxis": "y"
        },
        {
         "alignmentgroup": "True",
         "hovertemplate": "variable=Plastic Bags<br>index=%{x}<br>value=%{y}<extra></extra>",
         "legendgroup": "Plastic Bags",
         "marker": {
          "color": "#FECB52",
          "pattern": {
           "shape": ""
          }
         },
         "name": "Plastic Bags",
         "offsetgroup": "Plastic Bags",
         "orientation": "v",
         "showlegend": true,
         "textposition": "auto",
         "type": "bar",
         "x": [
          2013,
          2014,
          2015,
          2016,
          2017,
          2018,
          2019,
          2020,
          2021,
          2022,
          2023
         ],
         "xaxis": "x",
         "y": [
          7448,
          8479,
          4580,
          4120,
          1773,
          2311,
          1858,
          1102,
          1488,
          1644,
          2146
         ],
         "yaxis": "y"
        },
        {
         "alignmentgroup": "True",
         "hovertemplate": "variable=Glass Bottles<br>index=%{x}<br>value=%{y}<extra></extra>",
         "legendgroup": "Glass Bottles",
         "marker": {
          "color": "#636efa",
          "pattern": {
           "shape": ""
          }
         },
         "name": "Glass Bottles",
         "offsetgroup": "Glass Bottles",
         "orientation": "v",
         "showlegend": true,
         "textposition": "auto",
         "type": "bar",
         "x": [
          2013,
          2014,
          2015,
          2016,
          2017,
          2018,
          2019,
          2020,
          2021,
          2022,
          2023
         ],
         "xaxis": "x",
         "y": [
          5210,
          8923,
          5470,
          4165,
          2142,
          2933,
          1669,
          1010,
          1355,
          2238,
          1715
         ],
         "yaxis": "y"
        },
        {
         "alignmentgroup": "True",
         "hovertemplate": "variable=Cans<br>index=%{x}<br>value=%{y}<extra></extra>",
         "legendgroup": "Cans",
         "marker": {
          "color": "#EF553B",
          "pattern": {
           "shape": ""
          }
         },
         "name": "Cans",
         "offsetgroup": "Cans",
         "orientation": "v",
         "showlegend": true,
         "textposition": "auto",
         "type": "bar",
         "x": [
          2013,
          2014,
          2015,
          2016,
          2017,
          2018,
          2019,
          2020,
          2021,
          2022,
          2023
         ],
         "xaxis": "x",
         "y": [
          4064,
          6657,
          3007,
          2549,
          1621,
          4480,
          1802,
          1049,
          1967,
          2970,
          2826
         ],
         "yaxis": "y"
        },
        {
         "alignmentgroup": "True",
         "hovertemplate": "variable=Straws<br>index=%{x}<br>value=%{y}<extra></extra>",
         "legendgroup": "Straws",
         "marker": {
          "color": "#00cc96",
          "pattern": {
           "shape": ""
          }
         },
         "name": "Straws",
         "offsetgroup": "Straws",
         "orientation": "v",
         "showlegend": true,
         "textposition": "auto",
         "type": "bar",
         "x": [
          2013,
          2014,
          2015,
          2016,
          2017,
          2018,
          2019,
          2020,
          2021,
          2022,
          2023
         ],
         "xaxis": "x",
         "y": [
          5167,
          6001,
          3346,
          3089,
          2043,
          1997,
          1942,
          981,
          1851,
          2754,
          1910
         ],
         "yaxis": "y"
        },
        {
         "alignmentgroup": "True",
         "hovertemplate": "variable=Paper/Cardboard<br>index=%{x}<br>value=%{y}<extra></extra>",
         "legendgroup": "Paper/Cardboard",
         "marker": {
          "color": "#ab63fa",
          "pattern": {
           "shape": ""
          }
         },
         "name": "Paper/Cardboard",
         "offsetgroup": "Paper/Cardboard",
         "orientation": "v",
         "showlegend": true,
         "textposition": "auto",
         "type": "bar",
         "x": [
          2013,
          2014,
          2015,
          2016,
          2017,
          2018,
          2019,
          2020,
          2021,
          2022,
          2023
         ],
         "xaxis": "x",
         "y": [
          4518,
          5800,
          2788,
          2880,
          2123,
          2337,
          1102,
          326,
          1206,
          2300,
          853
         ],
         "yaxis": "y"
        },
        {
         "alignmentgroup": "True",
         "hovertemplate": "variable=Packaging<br>index=%{x}<br>value=%{y}<extra></extra>",
         "legendgroup": "Packaging",
         "marker": {
          "color": "#FFA15A",
          "pattern": {
           "shape": ""
          }
         },
         "name": "Packaging",
         "offsetgroup": "Packaging",
         "orientation": "v",
         "showlegend": true,
         "textposition": "auto",
         "type": "bar",
         "x": [
          2013,
          2014,
          2015,
          2016,
          2017,
          2018,
          2019,
          2020,
          2021,
          2022,
          2023
         ],
         "xaxis": "x",
         "y": [
          2297,
          3681,
          2625,
          1521,
          880,
          727,
          1199,
          572,
          1279,
          550,
          9523
         ],
         "yaxis": "y"
        },
        {
         "alignmentgroup": "True",
         "hovertemplate": "variable=Food Containers<br>index=%{x}<br>value=%{y}<extra></extra>",
         "legendgroup": "Food Containers",
         "marker": {
          "color": "#19d3f3",
          "pattern": {
           "shape": ""
          }
         },
         "name": "Food Containers",
         "offsetgroup": "Food Containers",
         "orientation": "v",
         "showlegend": true,
         "textposition": "auto",
         "type": "bar",
         "x": [
          2013,
          2014,
          2015,
          2016,
          2017,
          2018,
          2019,
          2020,
          2021,
          2022,
          2023
         ],
         "xaxis": "x",
         "y": [
          3340,
          3726,
          2083,
          2103,
          1053,
          1072,
          477,
          399,
          462,
          552,
          345
         ],
         "yaxis": "y"
        },
        {
         "alignmentgroup": "True",
         "hovertemplate": "variable=Clothes<br>index=%{x}<br>value=%{y}<extra></extra>",
         "legendgroup": "Clothes",
         "marker": {
          "color": "#FF6692",
          "pattern": {
           "shape": ""
          }
         },
         "name": "Clothes",
         "offsetgroup": "Clothes",
         "orientation": "v",
         "showlegend": true,
         "textposition": "auto",
         "type": "bar",
         "x": [
          2013,
          2014,
          2015,
          2016,
          2017,
          2018,
          2019,
          2020,
          2021,
          2022,
          2023
         ],
         "xaxis": "x",
         "y": [
          4809,
          2069,
          944,
          777,
          6,
          0,
          1017,
          479,
          1012,
          1672,
          2428
         ],
         "yaxis": "y"
        },
        {
         "alignmentgroup": "True",
         "hovertemplate": "variable=Fishing Gear<br>index=%{x}<br>value=%{y}<extra></extra>",
         "legendgroup": "Fishing Gear",
         "marker": {
          "color": "#B6E880",
          "pattern": {
           "shape": ""
          }
         },
         "name": "Fishing Gear",
         "offsetgroup": "Fishing Gear",
         "orientation": "v",
         "showlegend": true,
         "textposition": "auto",
         "type": "bar",
         "x": [
          2013,
          2014,
          2015,
          2016,
          2017,
          2018,
          2019,
          2020,
          2021,
          2022,
          2023
         ],
         "xaxis": "x",
         "y": [
          1288,
          2820,
          1827,
          1024,
          793,
          637,
          1129,
          193,
          545,
          791,
          679
         ],
         "yaxis": "y"
        },
        {
         "alignmentgroup": "True",
         "hovertemplate": "variable=Tobacco<br>index=%{x}<br>value=%{y}<extra></extra>",
         "legendgroup": "Tobacco",
         "marker": {
          "color": "#FF97FF",
          "pattern": {
           "shape": ""
          }
         },
         "name": "Tobacco",
         "offsetgroup": "Tobacco",
         "orientation": "v",
         "showlegend": true,
         "textposition": "auto",
         "type": "bar",
         "x": [
          2013,
          2014,
          2015,
          2016,
          2017,
          2018,
          2019,
          2020,
          2021,
          2022,
          2023
         ],
         "xaxis": "x",
         "y": [
          3524,
          2675,
          1931,
          691,
          155,
          148,
          453,
          394,
          552,
          362,
          212
         ],
         "yaxis": "y"
        },
        {
         "alignmentgroup": "True",
         "hovertemplate": "variable=Balloons<br>index=%{x}<br>value=%{y}<extra></extra>",
         "legendgroup": "Balloons",
         "marker": {
          "color": "#FECB52",
          "pattern": {
           "shape": ""
          }
         },
         "name": "Balloons",
         "offsetgroup": "Balloons",
         "orientation": "v",
         "showlegend": true,
         "textposition": "auto",
         "type": "bar",
         "x": [
          2013,
          2014,
          2015,
          2016,
          2017,
          2018,
          2019,
          2020,
          2021,
          2022,
          2023
         ],
         "xaxis": "x",
         "y": [
          1987,
          3151,
          956,
          947,
          347,
          558,
          368,
          162,
          427,
          446,
          433
         ],
         "yaxis": "y"
        },
        {
         "alignmentgroup": "True",
         "hovertemplate": "variable=Nails<br>index=%{x}<br>value=%{y}<extra></extra>",
         "legendgroup": "Nails",
         "marker": {
          "color": "#636efa",
          "pattern": {
           "shape": ""
          }
         },
         "name": "Nails",
         "offsetgroup": "Nails",
         "orientation": "v",
         "showlegend": true,
         "textposition": "auto",
         "type": "bar",
         "x": [
          2013,
          2014,
          2015,
          2016,
          2017,
          2018,
          2019,
          2020,
          2021,
          2022,
          2023
         ],
         "xaxis": "x",
         "y": [
          2325,
          3037,
          2081,
          621,
          111,
          1359,
          0,
          0,
          0,
          0,
          0
         ],
         "yaxis": "y"
        },
        {
         "alignmentgroup": "True",
         "hovertemplate": "variable=Wood Pieces<br>index=%{x}<br>value=%{y}<extra></extra>",
         "legendgroup": "Wood Pieces",
         "marker": {
          "color": "#EF553B",
          "pattern": {
           "shape": ""
          }
         },
         "name": "Wood Pieces",
         "offsetgroup": "Wood Pieces",
         "orientation": "v",
         "showlegend": true,
         "textposition": "auto",
         "type": "bar",
         "x": [
          2013,
          2014,
          2015,
          2016,
          2017,
          2018,
          2019,
          2020,
          2021,
          2022,
          2023
         ],
         "xaxis": "x",
         "y": [
          937.5,
          1236,
          1133,
          571,
          27,
          0,
          799,
          227,
          547,
          1130,
          2448
         ],
         "yaxis": "y"
        },
        {
         "alignmentgroup": "True",
         "hovertemplate": "variable=Foil<br>index=%{x}<br>value=%{y}<extra></extra>",
         "legendgroup": "Foil",
         "marker": {
          "color": "#00cc96",
          "pattern": {
           "shape": ""
          }
         },
         "name": "Foil",
         "offsetgroup": "Foil",
         "orientation": "v",
         "showlegend": true,
         "textposition": "auto",
         "type": "bar",
         "x": [
          2013,
          2014,
          2015,
          2016,
          2017,
          2018,
          2019,
          2020,
          2021,
          2022,
          2023
         ],
         "xaxis": "x",
         "y": [
          2478,
          3453,
          1697,
          1386,
          0,
          35,
          0,
          0,
          0,
          0,
          0
         ],
         "yaxis": "y"
        },
        {
         "alignmentgroup": "True",
         "hovertemplate": "variable=Fireworks<br>index=%{x}<br>value=%{y}<extra></extra>",
         "legendgroup": "Fireworks",
         "marker": {
          "color": "#ab63fa",
          "pattern": {
           "shape": ""
          }
         },
         "name": "Fireworks",
         "offsetgroup": "Fireworks",
         "orientation": "v",
         "showlegend": true,
         "textposition": "auto",
         "type": "bar",
         "x": [
          2013,
          2014,
          2015,
          2016,
          2017,
          2018,
          2019,
          2020,
          2021,
          2022,
          2023
         ],
         "xaxis": "x",
         "y": [
          3018,
          2031,
          1759,
          1051,
          152,
          151,
          55,
          1,
          42,
          51,
          2
         ],
         "yaxis": "y"
        },
        {
         "alignmentgroup": "True",
         "hovertemplate": "variable=Beach Gear<br>index=%{x}<br>value=%{y}<extra></extra>",
         "legendgroup": "Beach Gear",
         "marker": {
          "color": "#FFA15A",
          "pattern": {
           "shape": ""
          }
         },
         "name": "Beach Gear",
         "offsetgroup": "Beach Gear",
         "orientation": "v",
         "showlegend": true,
         "textposition": "auto",
         "type": "bar",
         "x": [
          2013,
          2014,
          2015,
          2016,
          2017,
          2018,
          2019,
          2020,
          2021,
          2022,
          2023
         ],
         "xaxis": "x",
         "y": [
          747,
          1244,
          444,
          347,
          235,
          706,
          648,
          638,
          965,
          1194,
          918
         ],
         "yaxis": "y"
        },
        {
         "alignmentgroup": "True",
         "hovertemplate": "variable=Personal Hygiene<br>index=%{x}<br>value=%{y}<extra></extra>",
         "legendgroup": "Personal Hygiene",
         "marker": {
          "color": "#19d3f3",
          "pattern": {
           "shape": ""
          }
         },
         "name": "Personal Hygiene",
         "offsetgroup": "Personal Hygiene",
         "orientation": "v",
         "showlegend": true,
         "textposition": "auto",
         "type": "bar",
         "x": [
          2013,
          2014,
          2015,
          2016,
          2017,
          2018,
          2019,
          2020,
          2021,
          2022,
          2023
         ],
         "xaxis": "x",
         "y": [
          768,
          968,
          789,
          945,
          615.5,
          377,
          541,
          346,
          601,
          806,
          593
         ],
         "yaxis": "y"
        },
        {
         "alignmentgroup": "True",
         "hovertemplate": "variable=Lighters<br>index=%{x}<br>value=%{y}<extra></extra>",
         "legendgroup": "Lighters",
         "marker": {
          "color": "#FF6692",
          "pattern": {
           "shape": ""
          }
         },
         "name": "Lighters",
         "offsetgroup": "Lighters",
         "orientation": "v",
         "showlegend": true,
         "textposition": "auto",
         "type": "bar",
         "x": [
          2013,
          2014,
          2015,
          2016,
          2017,
          2018,
          2019,
          2020,
          2021,
          2022,
          2023
         ],
         "xaxis": "x",
         "y": [
          2033,
          1018,
          526,
          353,
          200,
          235,
          162,
          50,
          125,
          665,
          359
         ],
         "yaxis": "y"
        },
        {
         "alignmentgroup": "True",
         "hovertemplate": "variable=Bandaids<br>index=%{x}<br>value=%{y}<extra></extra>",
         "legendgroup": "Bandaids",
         "marker": {
          "color": "#B6E880",
          "pattern": {
           "shape": ""
          }
         },
         "name": "Bandaids",
         "offsetgroup": "Bandaids",
         "orientation": "v",
         "showlegend": true,
         "textposition": "auto",
         "type": "bar",
         "x": [
          2013,
          2014,
          2015,
          2016,
          2017,
          2018,
          2019,
          2020,
          2021,
          2022,
          2023
         ],
         "xaxis": "x",
         "y": [
          737,
          899,
          363,
          248,
          316,
          349,
          356,
          86,
          270,
          418,
          277
         ],
         "yaxis": "y"
        },
        {
         "alignmentgroup": "True",
         "hovertemplate": "variable=Lids<br>index=%{x}<br>value=%{y}<extra></extra>",
         "legendgroup": "Lids",
         "marker": {
          "color": "#FF97FF",
          "pattern": {
           "shape": ""
          }
         },
         "name": "Lids",
         "offsetgroup": "Lids",
         "orientation": "v",
         "showlegend": true,
         "textposition": "auto",
         "type": "bar",
         "x": [
          2013,
          2014,
          2015,
          2016,
          2017,
          2018,
          2019,
          2020,
          2021,
          2022,
          2023
         ],
         "xaxis": "x",
         "y": [
          0,
          0,
          0,
          549,
          852,
          465,
          540,
          411,
          532,
          465,
          496
         ],
         "yaxis": "y"
        },
        {
         "alignmentgroup": "True",
         "hovertemplate": "variable=Construction Materials<br>index=%{x}<br>value=%{y}<extra></extra>",
         "legendgroup": "Construction Materials",
         "marker": {
          "color": "#FECB52",
          "pattern": {
           "shape": ""
          }
         },
         "name": "Construction Materials",
         "offsetgroup": "Construction Materials",
         "orientation": "v",
         "showlegend": true,
         "textposition": "auto",
         "type": "bar",
         "x": [
          2013,
          2014,
          2015,
          2016,
          2017,
          2018,
          2019,
          2020,
          2021,
          2022,
          2023
         ],
         "xaxis": "x",
         "y": [
          722,
          172,
          0,
          742,
          241,
          461,
          554,
          166,
          456,
          276,
          386
         ],
         "yaxis": "y"
        },
        {
         "alignmentgroup": "True",
         "hovertemplate": "variable=Utensils<br>index=%{x}<br>value=%{y}<extra></extra>",
         "legendgroup": "Utensils",
         "marker": {
          "color": "#636efa",
          "pattern": {
           "shape": ""
          }
         },
         "name": "Utensils",
         "offsetgroup": "Utensils",
         "orientation": "v",
         "showlegend": true,
         "textposition": "auto",
         "type": "bar",
         "x": [
          2013,
          2014,
          2015,
          2016,
          2017,
          2018,
          2019,
          2020,
          2021,
          2022,
          2023
         ],
         "xaxis": "x",
         "y": [
          0,
          0,
          0,
          426,
          474,
          389,
          292,
          453,
          360,
          434,
          645
         ],
         "yaxis": "y"
        },
        {
         "alignmentgroup": "True",
         "hovertemplate": "variable=Strapping Bands<br>index=%{x}<br>value=%{y}<extra></extra>",
         "legendgroup": "Strapping Bands",
         "marker": {
          "color": "#EF553B",
          "pattern": {
           "shape": ""
          }
         },
         "name": "Strapping Bands",
         "offsetgroup": "Strapping Bands",
         "orientation": "v",
         "showlegend": true,
         "textposition": "auto",
         "type": "bar",
         "x": [
          2013,
          2014,
          2015,
          2016,
          2017,
          2018,
          2019,
          2020,
          2021,
          2022,
          2023
         ],
         "xaxis": "x",
         "y": [
          581,
          65,
          1,
          431,
          193,
          255,
          271,
          208,
          326,
          399,
          273
         ],
         "yaxis": "y"
        },
        {
         "alignmentgroup": "True",
         "hovertemplate": "variable=6-Pack Holders<br>index=%{x}<br>value=%{y}<extra></extra>",
         "legendgroup": "6-Pack Holders",
         "marker": {
          "color": "#00cc96",
          "pattern": {
           "shape": ""
          }
         },
         "name": "6-Pack Holders",
         "offsetgroup": "6-Pack Holders",
         "orientation": "v",
         "showlegend": true,
         "textposition": "auto",
         "type": "bar",
         "x": [
          2013,
          2014,
          2015,
          2016,
          2017,
          2018,
          2019,
          2020,
          2021,
          2022,
          2023
         ],
         "xaxis": "x",
         "y": [
          624,
          909,
          301,
          130,
          45,
          34,
          77,
          0,
          36,
          97,
          41
         ],
         "yaxis": "y"
        },
        {
         "alignmentgroup": "True",
         "hovertemplate": "variable=PPE<br>index=%{x}<br>value=%{y}<extra></extra>",
         "legendgroup": "PPE",
         "marker": {
          "color": "#ab63fa",
          "pattern": {
           "shape": ""
          }
         },
         "name": "PPE",
         "offsetgroup": "PPE",
         "orientation": "v",
         "showlegend": true,
         "textposition": "auto",
         "type": "bar",
         "x": [
          2013,
          2014,
          2015,
          2016,
          2017,
          2018,
          2019,
          2020,
          2021,
          2022,
          2023
         ],
         "xaxis": "x",
         "y": [
          0,
          0,
          0,
          0,
          0,
          0,
          0,
          720,
          718,
          630,
          186
         ],
         "yaxis": "y"
        },
        {
         "alignmentgroup": "True",
         "hovertemplate": "variable=Batteries<br>index=%{x}<br>value=%{y}<extra></extra>",
         "legendgroup": "Batteries",
         "marker": {
          "color": "#FFA15A",
          "pattern": {
           "shape": ""
          }
         },
         "name": "Batteries",
         "offsetgroup": "Batteries",
         "orientation": "v",
         "showlegend": true,
         "textposition": "auto",
         "type": "bar",
         "x": [
          2013,
          2014,
          2015,
          2016,
          2017,
          2018,
          2019,
          2020,
          2021,
          2022,
          2023
         ],
         "xaxis": "x",
         "y": [
          245,
          219,
          167,
          224,
          453,
          148,
          77,
          32,
          68,
          125,
          483
         ],
         "yaxis": "y"
        },
        {
         "alignmentgroup": "True",
         "hovertemplate": "variable=Bottles, Plastic<br>index=%{x}<br>value=%{y}<extra></extra>",
         "legendgroup": "Bottles, Plastic",
         "marker": {
          "color": "#19d3f3",
          "pattern": {
           "shape": ""
          }
         },
         "name": "Bottles, Plastic",
         "offsetgroup": "Bottles, Plastic",
         "orientation": "v",
         "showlegend": true,
         "textposition": "auto",
         "type": "bar",
         "x": [
          2013,
          2014,
          2015,
          2016,
          2017,
          2018,
          2019,
          2020,
          2021,
          2022,
          2023
         ],
         "xaxis": "x",
         "y": [
          379,
          343,
          521,
          308,
          172,
          99,
          132,
          0,
          64,
          61,
          137
         ],
         "yaxis": "y"
        },
        {
         "alignmentgroup": "True",
         "hovertemplate": "variable=Syringes<br>index=%{x}<br>value=%{y}<extra></extra>",
         "legendgroup": "Syringes",
         "marker": {
          "color": "#FF6692",
          "pattern": {
           "shape": ""
          }
         },
         "name": "Syringes",
         "offsetgroup": "Syringes",
         "orientation": "v",
         "showlegend": true,
         "textposition": "auto",
         "type": "bar",
         "x": [
          2013,
          2014,
          2015,
          2016,
          2017,
          2018,
          2019,
          2020,
          2021,
          2022,
          2023
         ],
         "xaxis": "x",
         "y": [
          140,
          164,
          215,
          376,
          136,
          242,
          156,
          44,
          101,
          202,
          283
         ],
         "yaxis": "y"
        },
        {
         "alignmentgroup": "True",
         "hovertemplate": "variable=Footwear<br>index=%{x}<br>value=%{y}<extra></extra>",
         "legendgroup": "Footwear",
         "marker": {
          "color": "#B6E880",
          "pattern": {
           "shape": ""
          }
         },
         "name": "Footwear",
         "offsetgroup": "Footwear",
         "orientation": "v",
         "showlegend": true,
         "textposition": "auto",
         "type": "bar",
         "x": [
          2013,
          2014,
          2015,
          2016,
          2017,
          2018,
          2019,
          2020,
          2021,
          2022,
          2023
         ],
         "xaxis": "x",
         "y": [
          539,
          803.5,
          321,
          296,
          1,
          0,
          0,
          0,
          0,
          16,
          30
         ],
         "yaxis": "y"
        },
        {
         "alignmentgroup": "True",
         "hovertemplate": "variable=Cigar Tips<br>index=%{x}<br>value=%{y}<extra></extra>",
         "legendgroup": "Cigar Tips",
         "marker": {
          "color": "#FF97FF",
          "pattern": {
           "shape": ""
          }
         },
         "name": "Cigar Tips",
         "offsetgroup": "Cigar Tips",
         "orientation": "v",
         "showlegend": true,
         "textposition": "auto",
         "type": "bar",
         "x": [
          2013,
          2014,
          2015,
          2016,
          2017,
          2018,
          2019,
          2020,
          2021,
          2022,
          2023
         ],
         "xaxis": "x",
         "y": [
          0,
          183,
          4,
          359,
          171,
          204,
          278,
          1,
          196,
          128,
          13
         ],
         "yaxis": "y"
        },
        {
         "alignmentgroup": "True",
         "hovertemplate": "variable=Rope<br>index=%{x}<br>value=%{y}<extra></extra>",
         "legendgroup": "Rope",
         "marker": {
          "color": "#FECB52",
          "pattern": {
           "shape": ""
          }
         },
         "name": "Rope",
         "offsetgroup": "Rope",
         "orientation": "v",
         "showlegend": true,
         "textposition": "auto",
         "type": "bar",
         "x": [
          2013,
          2014,
          2015,
          2016,
          2017,
          2018,
          2019,
          2020,
          2021,
          2022,
          2023
         ],
         "xaxis": "x",
         "y": [
          0,
          0,
          71,
          572,
          126,
          136,
          296,
          7,
          148,
          64,
          3
         ],
         "yaxis": "y"
        },
        {
         "alignmentgroup": "True",
         "hovertemplate": "variable=Beverage Bottles<br>index=%{x}<br>value=%{y}<extra></extra>",
         "legendgroup": "Beverage Bottles",
         "marker": {
          "color": "#636efa",
          "pattern": {
           "shape": ""
          }
         },
         "name": "Beverage Bottles",
         "offsetgroup": "Beverage Bottles",
         "orientation": "v",
         "showlegend": true,
         "textposition": "auto",
         "type": "bar",
         "x": [
          2013,
          2014,
          2015,
          2016,
          2017,
          2018,
          2019,
          2020,
          2021,
          2022,
          2023
         ],
         "xaxis": "x",
         "y": [
          0,
          0,
          0,
          1413,
          0,
          0,
          0,
          0,
          0,
          0,
          0
         ],
         "yaxis": "y"
        },
        {
         "alignmentgroup": "True",
         "hovertemplate": "variable=Tires<br>index=%{x}<br>value=%{y}<extra></extra>",
         "legendgroup": "Tires",
         "marker": {
          "color": "#EF553B",
          "pattern": {
           "shape": ""
          }
         },
         "name": "Tires",
         "offsetgroup": "Tires",
         "orientation": "v",
         "showlegend": true,
         "textposition": "auto",
         "type": "bar",
         "x": [
          2013,
          2014,
          2015,
          2016,
          2017,
          2018,
          2019,
          2020,
          2021,
          2022,
          2023
         ],
         "xaxis": "x",
         "y": [
          112,
          195,
          108,
          71,
          48,
          35.25,
          37,
          21,
          19,
          27,
          11
         ],
         "yaxis": "y"
        },
        {
         "alignmentgroup": "True",
         "hovertemplate": "variable=Bagged Pet Waste<br>index=%{x}<br>value=%{y}<extra></extra>",
         "legendgroup": "Bagged Pet Waste",
         "marker": {
          "color": "#00cc96",
          "pattern": {
           "shape": ""
          }
         },
         "name": "Bagged Pet Waste",
         "offsetgroup": "Bagged Pet Waste",
         "orientation": "v",
         "showlegend": true,
         "textposition": "auto",
         "type": "bar",
         "x": [
          2013,
          2014,
          2015,
          2016,
          2017,
          2018,
          2019,
          2020,
          2021,
          2022,
          2023
         ],
         "xaxis": "x",
         "y": [
          111,
          0,
          0,
          0,
          0,
          0,
          0,
          70,
          159,
          169,
          127
         ],
         "yaxis": "y"
        },
        {
         "alignmentgroup": "True",
         "hovertemplate": "variable=Beverage Pouches<br>index=%{x}<br>value=%{y}<extra></extra>",
         "legendgroup": "Beverage Pouches",
         "marker": {
          "color": "#ab63fa",
          "pattern": {
           "shape": ""
          }
         },
         "name": "Beverage Pouches",
         "offsetgroup": "Beverage Pouches",
         "orientation": "v",
         "showlegend": true,
         "textposition": "auto",
         "type": "bar",
         "x": [
          2013,
          2014,
          2015,
          2016,
          2017,
          2018,
          2019,
          2020,
          2021,
          2022,
          2023
         ],
         "xaxis": "x",
         "y": [
          0,
          0,
          0,
          0,
          0,
          0,
          0,
          240,
          49,
          172,
          164
         ],
         "yaxis": "y"
        },
        {
         "alignmentgroup": "True",
         "hovertemplate": "variable=Appliances<br>index=%{x}<br>value=%{y}<extra></extra>",
         "legendgroup": "Appliances",
         "marker": {
          "color": "#FFA15A",
          "pattern": {
           "shape": ""
          }
         },
         "name": "Appliances",
         "offsetgroup": "Appliances",
         "orientation": "v",
         "showlegend": true,
         "textposition": "auto",
         "type": "bar",
         "x": [
          2013,
          2014,
          2015,
          2016,
          2017,
          2018,
          2019,
          2020,
          2021,
          2022,
          2023
         ],
         "xaxis": "x",
         "y": [
          147,
          127,
          46,
          64,
          42,
          18,
          23,
          0,
          22,
          5,
          70
         ],
         "yaxis": "y"
        },
        {
         "alignmentgroup": "True",
         "hovertemplate": "variable=E-Waste<br>index=%{x}<br>value=%{y}<extra></extra>",
         "legendgroup": "E-Waste",
         "marker": {
          "color": "#19d3f3",
          "pattern": {
           "shape": ""
          }
         },
         "name": "E-Waste",
         "offsetgroup": "E-Waste",
         "orientation": "v",
         "showlegend": true,
         "textposition": "auto",
         "type": "bar",
         "x": [
          2013,
          2014,
          2015,
          2016,
          2017,
          2018,
          2019,
          2020,
          2021,
          2022,
          2023
         ],
         "xaxis": "x",
         "y": [
          0,
          0,
          0,
          0,
          0,
          0,
          0,
          38,
          124,
          73,
          112
         ],
         "yaxis": "y"
        },
        {
         "alignmentgroup": "True",
         "hovertemplate": "variable=Car Parts<br>index=%{x}<br>value=%{y}<extra></extra>",
         "legendgroup": "Car Parts",
         "marker": {
          "color": "#FF6692",
          "pattern": {
           "shape": ""
          }
         },
         "name": "Car Parts",
         "offsetgroup": "Car Parts",
         "orientation": "v",
         "showlegend": true,
         "textposition": "auto",
         "type": "bar",
         "x": [
          2013,
          2014,
          2015,
          2016,
          2017,
          2018,
          2019,
          2020,
          2021,
          2022,
          2023
         ],
         "xaxis": "x",
         "y": [
          31,
          101,
          52,
          76,
          0,
          0,
          0,
          0,
          0,
          0,
          0
         ],
         "yaxis": "y"
        },
        {
         "alignmentgroup": "True",
         "hovertemplate": "variable=Bikes<br>index=%{x}<br>value=%{y}<extra></extra>",
         "legendgroup": "Bikes",
         "marker": {
          "color": "#B6E880",
          "pattern": {
           "shape": ""
          }
         },
         "name": "Bikes",
         "offsetgroup": "Bikes",
         "orientation": "v",
         "showlegend": true,
         "textposition": "auto",
         "type": "bar",
         "x": [
          2013,
          2014,
          2015,
          2016,
          2017,
          2018,
          2019,
          2020,
          2021,
          2022,
          2023
         ],
         "xaxis": "x",
         "y": [
          62,
          70,
          18,
          49,
          0,
          0,
          0,
          0,
          0,
          0,
          0
         ],
         "yaxis": "y"
        }
       ],
       "layout": {
        "autosize": false,
        "barmode": "relative",
        "height": 700,
        "legend": {
         "title": {
          "text": "Debris Category"
         },
         "tracegroupgap": 0
        },
        "margin": {
         "t": 60
        },
        "template": {
         "data": {
          "bar": [
           {
            "error_x": {
             "color": "#2a3f5f"
            },
            "error_y": {
             "color": "#2a3f5f"
            },
            "marker": {
             "line": {
              "color": "#E5ECF6",
              "width": 0.5
             },
             "pattern": {
              "fillmode": "overlay",
              "size": 10,
              "solidity": 0.2
             }
            },
            "type": "bar"
           }
          ],
          "barpolar": [
           {
            "marker": {
             "line": {
              "color": "#E5ECF6",
              "width": 0.5
             },
             "pattern": {
              "fillmode": "overlay",
              "size": 10,
              "solidity": 0.2
             }
            },
            "type": "barpolar"
           }
          ],
          "carpet": [
           {
            "aaxis": {
             "endlinecolor": "#2a3f5f",
             "gridcolor": "white",
             "linecolor": "white",
             "minorgridcolor": "white",
             "startlinecolor": "#2a3f5f"
            },
            "baxis": {
             "endlinecolor": "#2a3f5f",
             "gridcolor": "white",
             "linecolor": "white",
             "minorgridcolor": "white",
             "startlinecolor": "#2a3f5f"
            },
            "type": "carpet"
           }
          ],
          "choropleth": [
           {
            "colorbar": {
             "outlinewidth": 0,
             "ticks": ""
            },
            "type": "choropleth"
           }
          ],
          "contour": [
           {
            "colorbar": {
             "outlinewidth": 0,
             "ticks": ""
            },
            "colorscale": [
             [
              0,
              "#0d0887"
             ],
             [
              0.1111111111111111,
              "#46039f"
             ],
             [
              0.2222222222222222,
              "#7201a8"
             ],
             [
              0.3333333333333333,
              "#9c179e"
             ],
             [
              0.4444444444444444,
              "#bd3786"
             ],
             [
              0.5555555555555556,
              "#d8576b"
             ],
             [
              0.6666666666666666,
              "#ed7953"
             ],
             [
              0.7777777777777778,
              "#fb9f3a"
             ],
             [
              0.8888888888888888,
              "#fdca26"
             ],
             [
              1,
              "#f0f921"
             ]
            ],
            "type": "contour"
           }
          ],
          "contourcarpet": [
           {
            "colorbar": {
             "outlinewidth": 0,
             "ticks": ""
            },
            "type": "contourcarpet"
           }
          ],
          "heatmap": [
           {
            "colorbar": {
             "outlinewidth": 0,
             "ticks": ""
            },
            "colorscale": [
             [
              0,
              "#0d0887"
             ],
             [
              0.1111111111111111,
              "#46039f"
             ],
             [
              0.2222222222222222,
              "#7201a8"
             ],
             [
              0.3333333333333333,
              "#9c179e"
             ],
             [
              0.4444444444444444,
              "#bd3786"
             ],
             [
              0.5555555555555556,
              "#d8576b"
             ],
             [
              0.6666666666666666,
              "#ed7953"
             ],
             [
              0.7777777777777778,
              "#fb9f3a"
             ],
             [
              0.8888888888888888,
              "#fdca26"
             ],
             [
              1,
              "#f0f921"
             ]
            ],
            "type": "heatmap"
           }
          ],
          "heatmapgl": [
           {
            "colorbar": {
             "outlinewidth": 0,
             "ticks": ""
            },
            "colorscale": [
             [
              0,
              "#0d0887"
             ],
             [
              0.1111111111111111,
              "#46039f"
             ],
             [
              0.2222222222222222,
              "#7201a8"
             ],
             [
              0.3333333333333333,
              "#9c179e"
             ],
             [
              0.4444444444444444,
              "#bd3786"
             ],
             [
              0.5555555555555556,
              "#d8576b"
             ],
             [
              0.6666666666666666,
              "#ed7953"
             ],
             [
              0.7777777777777778,
              "#fb9f3a"
             ],
             [
              0.8888888888888888,
              "#fdca26"
             ],
             [
              1,
              "#f0f921"
             ]
            ],
            "type": "heatmapgl"
           }
          ],
          "histogram": [
           {
            "marker": {
             "pattern": {
              "fillmode": "overlay",
              "size": 10,
              "solidity": 0.2
             }
            },
            "type": "histogram"
           }
          ],
          "histogram2d": [
           {
            "colorbar": {
             "outlinewidth": 0,
             "ticks": ""
            },
            "colorscale": [
             [
              0,
              "#0d0887"
             ],
             [
              0.1111111111111111,
              "#46039f"
             ],
             [
              0.2222222222222222,
              "#7201a8"
             ],
             [
              0.3333333333333333,
              "#9c179e"
             ],
             [
              0.4444444444444444,
              "#bd3786"
             ],
             [
              0.5555555555555556,
              "#d8576b"
             ],
             [
              0.6666666666666666,
              "#ed7953"
             ],
             [
              0.7777777777777778,
              "#fb9f3a"
             ],
             [
              0.8888888888888888,
              "#fdca26"
             ],
             [
              1,
              "#f0f921"
             ]
            ],
            "type": "histogram2d"
           }
          ],
          "histogram2dcontour": [
           {
            "colorbar": {
             "outlinewidth": 0,
             "ticks": ""
            },
            "colorscale": [
             [
              0,
              "#0d0887"
             ],
             [
              0.1111111111111111,
              "#46039f"
             ],
             [
              0.2222222222222222,
              "#7201a8"
             ],
             [
              0.3333333333333333,
              "#9c179e"
             ],
             [
              0.4444444444444444,
              "#bd3786"
             ],
             [
              0.5555555555555556,
              "#d8576b"
             ],
             [
              0.6666666666666666,
              "#ed7953"
             ],
             [
              0.7777777777777778,
              "#fb9f3a"
             ],
             [
              0.8888888888888888,
              "#fdca26"
             ],
             [
              1,
              "#f0f921"
             ]
            ],
            "type": "histogram2dcontour"
           }
          ],
          "mesh3d": [
           {
            "colorbar": {
             "outlinewidth": 0,
             "ticks": ""
            },
            "type": "mesh3d"
           }
          ],
          "parcoords": [
           {
            "line": {
             "colorbar": {
              "outlinewidth": 0,
              "ticks": ""
             }
            },
            "type": "parcoords"
           }
          ],
          "pie": [
           {
            "automargin": true,
            "type": "pie"
           }
          ],
          "scatter": [
           {
            "fillpattern": {
             "fillmode": "overlay",
             "size": 10,
             "solidity": 0.2
            },
            "type": "scatter"
           }
          ],
          "scatter3d": [
           {
            "line": {
             "colorbar": {
              "outlinewidth": 0,
              "ticks": ""
             }
            },
            "marker": {
             "colorbar": {
              "outlinewidth": 0,
              "ticks": ""
             }
            },
            "type": "scatter3d"
           }
          ],
          "scattercarpet": [
           {
            "marker": {
             "colorbar": {
              "outlinewidth": 0,
              "ticks": ""
             }
            },
            "type": "scattercarpet"
           }
          ],
          "scattergeo": [
           {
            "marker": {
             "colorbar": {
              "outlinewidth": 0,
              "ticks": ""
             }
            },
            "type": "scattergeo"
           }
          ],
          "scattergl": [
           {
            "marker": {
             "colorbar": {
              "outlinewidth": 0,
              "ticks": ""
             }
            },
            "type": "scattergl"
           }
          ],
          "scattermapbox": [
           {
            "marker": {
             "colorbar": {
              "outlinewidth": 0,
              "ticks": ""
             }
            },
            "type": "scattermapbox"
           }
          ],
          "scatterpolar": [
           {
            "marker": {
             "colorbar": {
              "outlinewidth": 0,
              "ticks": ""
             }
            },
            "type": "scatterpolar"
           }
          ],
          "scatterpolargl": [
           {
            "marker": {
             "colorbar": {
              "outlinewidth": 0,
              "ticks": ""
             }
            },
            "type": "scatterpolargl"
           }
          ],
          "scatterternary": [
           {
            "marker": {
             "colorbar": {
              "outlinewidth": 0,
              "ticks": ""
             }
            },
            "type": "scatterternary"
           }
          ],
          "surface": [
           {
            "colorbar": {
             "outlinewidth": 0,
             "ticks": ""
            },
            "colorscale": [
             [
              0,
              "#0d0887"
             ],
             [
              0.1111111111111111,
              "#46039f"
             ],
             [
              0.2222222222222222,
              "#7201a8"
             ],
             [
              0.3333333333333333,
              "#9c179e"
             ],
             [
              0.4444444444444444,
              "#bd3786"
             ],
             [
              0.5555555555555556,
              "#d8576b"
             ],
             [
              0.6666666666666666,
              "#ed7953"
             ],
             [
              0.7777777777777778,
              "#fb9f3a"
             ],
             [
              0.8888888888888888,
              "#fdca26"
             ],
             [
              1,
              "#f0f921"
             ]
            ],
            "type": "surface"
           }
          ],
          "table": [
           {
            "cells": {
             "fill": {
              "color": "#EBF0F8"
             },
             "line": {
              "color": "white"
             }
            },
            "header": {
             "fill": {
              "color": "#C8D4E3"
             },
             "line": {
              "color": "white"
             }
            },
            "type": "table"
           }
          ]
         },
         "layout": {
          "annotationdefaults": {
           "arrowcolor": "#2a3f5f",
           "arrowhead": 0,
           "arrowwidth": 1
          },
          "autotypenumbers": "strict",
          "coloraxis": {
           "colorbar": {
            "outlinewidth": 0,
            "ticks": ""
           }
          },
          "colorscale": {
           "diverging": [
            [
             0,
             "#8e0152"
            ],
            [
             0.1,
             "#c51b7d"
            ],
            [
             0.2,
             "#de77ae"
            ],
            [
             0.3,
             "#f1b6da"
            ],
            [
             0.4,
             "#fde0ef"
            ],
            [
             0.5,
             "#f7f7f7"
            ],
            [
             0.6,
             "#e6f5d0"
            ],
            [
             0.7,
             "#b8e186"
            ],
            [
             0.8,
             "#7fbc41"
            ],
            [
             0.9,
             "#4d9221"
            ],
            [
             1,
             "#276419"
            ]
           ],
           "sequential": [
            [
             0,
             "#0d0887"
            ],
            [
             0.1111111111111111,
             "#46039f"
            ],
            [
             0.2222222222222222,
             "#7201a8"
            ],
            [
             0.3333333333333333,
             "#9c179e"
            ],
            [
             0.4444444444444444,
             "#bd3786"
            ],
            [
             0.5555555555555556,
             "#d8576b"
            ],
            [
             0.6666666666666666,
             "#ed7953"
            ],
            [
             0.7777777777777778,
             "#fb9f3a"
            ],
            [
             0.8888888888888888,
             "#fdca26"
            ],
            [
             1,
             "#f0f921"
            ]
           ],
           "sequentialminus": [
            [
             0,
             "#0d0887"
            ],
            [
             0.1111111111111111,
             "#46039f"
            ],
            [
             0.2222222222222222,
             "#7201a8"
            ],
            [
             0.3333333333333333,
             "#9c179e"
            ],
            [
             0.4444444444444444,
             "#bd3786"
            ],
            [
             0.5555555555555556,
             "#d8576b"
            ],
            [
             0.6666666666666666,
             "#ed7953"
            ],
            [
             0.7777777777777778,
             "#fb9f3a"
            ],
            [
             0.8888888888888888,
             "#fdca26"
            ],
            [
             1,
             "#f0f921"
            ]
           ]
          },
          "colorway": [
           "#636efa",
           "#EF553B",
           "#00cc96",
           "#ab63fa",
           "#FFA15A",
           "#19d3f3",
           "#FF6692",
           "#B6E880",
           "#FF97FF",
           "#FECB52"
          ],
          "font": {
           "color": "#2a3f5f"
          },
          "geo": {
           "bgcolor": "white",
           "lakecolor": "white",
           "landcolor": "#E5ECF6",
           "showlakes": true,
           "showland": true,
           "subunitcolor": "white"
          },
          "hoverlabel": {
           "align": "left"
          },
          "hovermode": "closest",
          "mapbox": {
           "style": "light"
          },
          "paper_bgcolor": "white",
          "plot_bgcolor": "#E5ECF6",
          "polar": {
           "angularaxis": {
            "gridcolor": "white",
            "linecolor": "white",
            "ticks": ""
           },
           "bgcolor": "#E5ECF6",
           "radialaxis": {
            "gridcolor": "white",
            "linecolor": "white",
            "ticks": ""
           }
          },
          "scene": {
           "xaxis": {
            "backgroundcolor": "#E5ECF6",
            "gridcolor": "white",
            "gridwidth": 2,
            "linecolor": "white",
            "showbackground": true,
            "ticks": "",
            "zerolinecolor": "white"
           },
           "yaxis": {
            "backgroundcolor": "#E5ECF6",
            "gridcolor": "white",
            "gridwidth": 2,
            "linecolor": "white",
            "showbackground": true,
            "ticks": "",
            "zerolinecolor": "white"
           },
           "zaxis": {
            "backgroundcolor": "#E5ECF6",
            "gridcolor": "white",
            "gridwidth": 2,
            "linecolor": "white",
            "showbackground": true,
            "ticks": "",
            "zerolinecolor": "white"
           }
          },
          "shapedefaults": {
           "line": {
            "color": "#2a3f5f"
           }
          },
          "ternary": {
           "aaxis": {
            "gridcolor": "white",
            "linecolor": "white",
            "ticks": ""
           },
           "baxis": {
            "gridcolor": "white",
            "linecolor": "white",
            "ticks": ""
           },
           "bgcolor": "#E5ECF6",
           "caxis": {
            "gridcolor": "white",
            "linecolor": "white",
            "ticks": ""
           }
          },
          "title": {
           "x": 0.05
          },
          "xaxis": {
           "automargin": true,
           "gridcolor": "white",
           "linecolor": "white",
           "ticks": "",
           "title": {
            "standoff": 15
           },
           "zerolinecolor": "white",
           "zerolinewidth": 2
          },
          "yaxis": {
           "automargin": true,
           "gridcolor": "white",
           "linecolor": "white",
           "ticks": "",
           "title": {
            "standoff": 15
           },
           "zerolinecolor": "white",
           "zerolinewidth": 2
          }
         }
        },
        "title": {
         "text": "Total Number of Debris Items Collected By Category, 2013-23"
        },
        "width": 1000,
        "xaxis": {
         "anchor": "y",
         "autorange": true,
         "domain": [
          0,
          1
         ],
         "range": [
          2012.5,
          2023.5
         ],
         "title": {
          "text": "Year"
         },
         "type": "linear"
        },
        "yaxis": {
         "anchor": "x",
         "autorange": true,
         "domain": [
          0,
          1
         ],
         "range": [
          0,
          393423.6842105263
         ],
         "title": {
          "text": "Number of Debris Items"
         },
         "type": "linear"
        }
       }
      },
      "text/html": [
       "<div>                            <div id=\"96c0bfb5-f5e1-40e2-98c2-b8be014f5ae4\" class=\"plotly-graph-div\" style=\"height:700px; width:1000px;\"></div>            <script type=\"text/javascript\">                require([\"plotly\"], function(Plotly) {                    window.PLOTLYENV=window.PLOTLYENV || {};                                    if (document.getElementById(\"96c0bfb5-f5e1-40e2-98c2-b8be014f5ae4\")) {                    Plotly.newPlot(                        \"96c0bfb5-f5e1-40e2-98c2-b8be014f5ae4\",                        [{\"alignmentgroup\":\"True\",\"hovertemplate\":\"variable=Plastic Pieces\\u003cbr\\u003eindex=%{x}\\u003cbr\\u003evalue=%{y}\\u003cextra\\u003e\\u003c\\u002fextra\\u003e\",\"legendgroup\":\"Plastic Pieces\",\"marker\":{\"color\":\"#636efa\",\"pattern\":{\"shape\":\"\"}},\"name\":\"Plastic Pieces\",\"offsetgroup\":\"Plastic Pieces\",\"orientation\":\"v\",\"showlegend\":true,\"textposition\":\"auto\",\"x\":[2013,2014,2015,2016,2017,2018,2019,2020,2021,2022,2023],\"xaxis\":\"x\",\"y\":[53236.0,71803.0,31440.0,43322.0,27785.5,40469.0,55116.0,14907.0,43820.0,47164.0,55038.0],\"yaxis\":\"y\",\"type\":\"bar\"},{\"alignmentgroup\":\"True\",\"hovertemplate\":\"variable=Cigarette Butts\\u003cbr\\u003eindex=%{x}\\u003cbr\\u003evalue=%{y}\\u003cextra\\u003e\\u003c\\u002fextra\\u003e\",\"legendgroup\":\"Cigarette Butts\",\"marker\":{\"color\":\"#EF553B\",\"pattern\":{\"shape\":\"\"}},\"name\":\"Cigarette Butts\",\"offsetgroup\":\"Cigarette Butts\",\"orientation\":\"v\",\"showlegend\":true,\"textposition\":\"auto\",\"x\":[2013,2014,2015,2016,2017,2018,2019,2020,2021,2022,2023],\"xaxis\":\"x\",\"y\":[81642.0,111884.0,56423.0,33684.0,21251.0,34815.0,24202.0,12380.0,18464.0,23115.0,21498.0],\"yaxis\":\"y\",\"type\":\"bar\"},{\"alignmentgroup\":\"True\",\"hovertemplate\":\"variable=Food Wrappers\\u003cbr\\u003eindex=%{x}\\u003cbr\\u003evalue=%{y}\\u003cextra\\u003e\\u003c\\u002fextra\\u003e\",\"legendgroup\":\"Food Wrappers\",\"marker\":{\"color\":\"#00cc96\",\"pattern\":{\"shape\":\"\"}},\"name\":\"Food Wrappers\",\"offsetgroup\":\"Food Wrappers\",\"orientation\":\"v\",\"showlegend\":true,\"textposition\":\"auto\",\"x\":[2013,2014,2015,2016,2017,2018,2019,2020,2021,2022,2023],\"xaxis\":\"x\",\"y\":[24397.0,28110.0,16142.0,12632.0,11425.0,16437.0,17333.0,6513.0,13373.0,18128.0,16988.0],\"yaxis\":\"y\",\"type\":\"bar\"},{\"alignmentgroup\":\"True\",\"hovertemplate\":\"variable=Paper Pieces\\u003cbr\\u003eindex=%{x}\\u003cbr\\u003evalue=%{y}\\u003cextra\\u003e\\u003c\\u002fextra\\u003e\",\"legendgroup\":\"Paper Pieces\",\"marker\":{\"color\":\"#ab63fa\",\"pattern\":{\"shape\":\"\"}},\"name\":\"Paper Pieces\",\"offsetgroup\":\"Paper Pieces\",\"orientation\":\"v\",\"showlegend\":true,\"textposition\":\"auto\",\"x\":[2013,2014,2015,2016,2017,2018,2019,2020,2021,2022,2023],\"xaxis\":\"x\",\"y\":[17242.0,23901.0,8493.0,6783.0,7043.0,15017.0,17738.0,4727.0,11733.0,19817.0,16650.0],\"yaxis\":\"y\",\"type\":\"bar\"},{\"alignmentgroup\":\"True\",\"hovertemplate\":\"variable=Glass Pieces\\u003cbr\\u003eindex=%{x}\\u003cbr\\u003evalue=%{y}\\u003cextra\\u003e\\u003c\\u002fextra\\u003e\",\"legendgroup\":\"Glass Pieces\",\"marker\":{\"color\":\"#FFA15A\",\"pattern\":{\"shape\":\"\"}},\"name\":\"Glass Pieces\",\"offsetgroup\":\"Glass Pieces\",\"orientation\":\"v\",\"showlegend\":true,\"textposition\":\"auto\",\"x\":[2013,2014,2015,2016,2017,2018,2019,2020,2021,2022,2023],\"xaxis\":\"x\",\"y\":[18196.0,20532.0,12865.0,13290.0,4103.0,8584.0,8823.0,1288.0,11356.0,5369.0,4605.0],\"yaxis\":\"y\",\"type\":\"bar\"},{\"alignmentgroup\":\"True\",\"hovertemplate\":\"variable=Food Containers, Plastic\\u003cbr\\u003eindex=%{x}\\u003cbr\\u003evalue=%{y}\\u003cextra\\u003e\\u003c\\u002fextra\\u003e\",\"legendgroup\":\"Food Containers, Plastic\",\"marker\":{\"color\":\"#19d3f3\",\"pattern\":{\"shape\":\"\"}},\"name\":\"Food Containers, Plastic\",\"offsetgroup\":\"Food Containers, Plastic\",\"orientation\":\"v\",\"showlegend\":true,\"textposition\":\"auto\",\"x\":[2013,2014,2015,2016,2017,2018,2019,2020,2021,2022,2023],\"xaxis\":\"x\",\"y\":[11813.0,13664.0,8029.0,6402.0,3214.0,3360.0,6039.5,2221.0,5356.0,8180.0,7121.0],\"yaxis\":\"y\",\"type\":\"bar\"},{\"alignmentgroup\":\"True\",\"hovertemplate\":\"variable=Bottle Caps, Plastic\\u003cbr\\u003eindex=%{x}\\u003cbr\\u003evalue=%{y}\\u003cextra\\u003e\\u003c\\u002fextra\\u003e\",\"legendgroup\":\"Bottle Caps, Plastic\",\"marker\":{\"color\":\"#FF6692\",\"pattern\":{\"shape\":\"\"}},\"name\":\"Bottle Caps, Plastic\",\"offsetgroup\":\"Bottle Caps, Plastic\",\"orientation\":\"v\",\"showlegend\":true,\"textposition\":\"auto\",\"x\":[2013,2014,2015,2016,2017,2018,2019,2020,2021,2022,2023],\"xaxis\":\"x\",\"y\":[10424.0,13438.0,7685.0,6716.0,3568.0,1486.0,4003.0,2039.0,4272.0,5222.0,4363.0],\"yaxis\":\"y\",\"type\":\"bar\"},{\"alignmentgroup\":\"True\",\"hovertemplate\":\"variable=Bottle Caps\\u003cbr\\u003eindex=%{x}\\u003cbr\\u003evalue=%{y}\\u003cextra\\u003e\\u003c\\u002fextra\\u003e\",\"legendgroup\":\"Bottle Caps\",\"marker\":{\"color\":\"#B6E880\",\"pattern\":{\"shape\":\"\"}},\"name\":\"Bottle Caps\",\"offsetgroup\":\"Bottle Caps\",\"orientation\":\"v\",\"showlegend\":true,\"textposition\":\"auto\",\"x\":[2013,2014,2015,2016,2017,2018,2019,2020,2021,2022,2023],\"xaxis\":\"x\",\"y\":[8151.0,10074.0,8585.0,4737.0,2890.0,3014.0,3327.0,1513.0,2838.0,4083.0,2761.0],\"yaxis\":\"y\",\"type\":\"bar\"},{\"alignmentgroup\":\"True\",\"hovertemplate\":\"variable=Other\\u003cbr\\u003eindex=%{x}\\u003cbr\\u003evalue=%{y}\\u003cextra\\u003e\\u003c\\u002fextra\\u003e\",\"legendgroup\":\"Other\",\"marker\":{\"color\":\"#FF97FF\",\"pattern\":{\"shape\":\"\"}},\"name\":\"Other\",\"offsetgroup\":\"Other\",\"orientation\":\"v\",\"showlegend\":true,\"textposition\":\"auto\",\"x\":[2013,2014,2015,2016,2017,2018,2019,2020,2021,2022,2023],\"xaxis\":\"x\",\"y\":[5015.0,9127.0,3985.0,2912.0,1977.5,2676.0,1595.0,7025.0,6608.0,7429.0,2037.0],\"yaxis\":\"y\",\"type\":\"bar\"},{\"alignmentgroup\":\"True\",\"hovertemplate\":\"variable=Plastic Bags\\u003cbr\\u003eindex=%{x}\\u003cbr\\u003evalue=%{y}\\u003cextra\\u003e\\u003c\\u002fextra\\u003e\",\"legendgroup\":\"Plastic Bags\",\"marker\":{\"color\":\"#FECB52\",\"pattern\":{\"shape\":\"\"}},\"name\":\"Plastic Bags\",\"offsetgroup\":\"Plastic Bags\",\"orientation\":\"v\",\"showlegend\":true,\"textposition\":\"auto\",\"x\":[2013,2014,2015,2016,2017,2018,2019,2020,2021,2022,2023],\"xaxis\":\"x\",\"y\":[7448.0,8479.0,4580.0,4120.0,1773.0,2311.0,1858.0,1102.0,1488.0,1644.0,2146.0],\"yaxis\":\"y\",\"type\":\"bar\"},{\"alignmentgroup\":\"True\",\"hovertemplate\":\"variable=Glass Bottles\\u003cbr\\u003eindex=%{x}\\u003cbr\\u003evalue=%{y}\\u003cextra\\u003e\\u003c\\u002fextra\\u003e\",\"legendgroup\":\"Glass Bottles\",\"marker\":{\"color\":\"#636efa\",\"pattern\":{\"shape\":\"\"}},\"name\":\"Glass Bottles\",\"offsetgroup\":\"Glass Bottles\",\"orientation\":\"v\",\"showlegend\":true,\"textposition\":\"auto\",\"x\":[2013,2014,2015,2016,2017,2018,2019,2020,2021,2022,2023],\"xaxis\":\"x\",\"y\":[5210.0,8923.0,5470.0,4165.0,2142.0,2933.0,1669.0,1010.0,1355.0,2238.0,1715.0],\"yaxis\":\"y\",\"type\":\"bar\"},{\"alignmentgroup\":\"True\",\"hovertemplate\":\"variable=Cans\\u003cbr\\u003eindex=%{x}\\u003cbr\\u003evalue=%{y}\\u003cextra\\u003e\\u003c\\u002fextra\\u003e\",\"legendgroup\":\"Cans\",\"marker\":{\"color\":\"#EF553B\",\"pattern\":{\"shape\":\"\"}},\"name\":\"Cans\",\"offsetgroup\":\"Cans\",\"orientation\":\"v\",\"showlegend\":true,\"textposition\":\"auto\",\"x\":[2013,2014,2015,2016,2017,2018,2019,2020,2021,2022,2023],\"xaxis\":\"x\",\"y\":[4064.0,6657.0,3007.0,2549.0,1621.0,4480.0,1802.0,1049.0,1967.0,2970.0,2826.0],\"yaxis\":\"y\",\"type\":\"bar\"},{\"alignmentgroup\":\"True\",\"hovertemplate\":\"variable=Straws\\u003cbr\\u003eindex=%{x}\\u003cbr\\u003evalue=%{y}\\u003cextra\\u003e\\u003c\\u002fextra\\u003e\",\"legendgroup\":\"Straws\",\"marker\":{\"color\":\"#00cc96\",\"pattern\":{\"shape\":\"\"}},\"name\":\"Straws\",\"offsetgroup\":\"Straws\",\"orientation\":\"v\",\"showlegend\":true,\"textposition\":\"auto\",\"x\":[2013,2014,2015,2016,2017,2018,2019,2020,2021,2022,2023],\"xaxis\":\"x\",\"y\":[5167.0,6001.0,3346.0,3089.0,2043.0,1997.0,1942.0,981.0,1851.0,2754.0,1910.0],\"yaxis\":\"y\",\"type\":\"bar\"},{\"alignmentgroup\":\"True\",\"hovertemplate\":\"variable=Paper\\u002fCardboard\\u003cbr\\u003eindex=%{x}\\u003cbr\\u003evalue=%{y}\\u003cextra\\u003e\\u003c\\u002fextra\\u003e\",\"legendgroup\":\"Paper\\u002fCardboard\",\"marker\":{\"color\":\"#ab63fa\",\"pattern\":{\"shape\":\"\"}},\"name\":\"Paper\\u002fCardboard\",\"offsetgroup\":\"Paper\\u002fCardboard\",\"orientation\":\"v\",\"showlegend\":true,\"textposition\":\"auto\",\"x\":[2013,2014,2015,2016,2017,2018,2019,2020,2021,2022,2023],\"xaxis\":\"x\",\"y\":[4518.0,5800.0,2788.0,2880.0,2123.0,2337.0,1102.0,326.0,1206.0,2300.0,853.0],\"yaxis\":\"y\",\"type\":\"bar\"},{\"alignmentgroup\":\"True\",\"hovertemplate\":\"variable=Packaging\\u003cbr\\u003eindex=%{x}\\u003cbr\\u003evalue=%{y}\\u003cextra\\u003e\\u003c\\u002fextra\\u003e\",\"legendgroup\":\"Packaging\",\"marker\":{\"color\":\"#FFA15A\",\"pattern\":{\"shape\":\"\"}},\"name\":\"Packaging\",\"offsetgroup\":\"Packaging\",\"orientation\":\"v\",\"showlegend\":true,\"textposition\":\"auto\",\"x\":[2013,2014,2015,2016,2017,2018,2019,2020,2021,2022,2023],\"xaxis\":\"x\",\"y\":[2297.0,3681.0,2625.0,1521.0,880.0,727.0,1199.0,572.0,1279.0,550.0,9523.0],\"yaxis\":\"y\",\"type\":\"bar\"},{\"alignmentgroup\":\"True\",\"hovertemplate\":\"variable=Food Containers\\u003cbr\\u003eindex=%{x}\\u003cbr\\u003evalue=%{y}\\u003cextra\\u003e\\u003c\\u002fextra\\u003e\",\"legendgroup\":\"Food Containers\",\"marker\":{\"color\":\"#19d3f3\",\"pattern\":{\"shape\":\"\"}},\"name\":\"Food Containers\",\"offsetgroup\":\"Food Containers\",\"orientation\":\"v\",\"showlegend\":true,\"textposition\":\"auto\",\"x\":[2013,2014,2015,2016,2017,2018,2019,2020,2021,2022,2023],\"xaxis\":\"x\",\"y\":[3340.0,3726.0,2083.0,2103.0,1053.0,1072.0,477.0,399.0,462.0,552.0,345.0],\"yaxis\":\"y\",\"type\":\"bar\"},{\"alignmentgroup\":\"True\",\"hovertemplate\":\"variable=Clothes\\u003cbr\\u003eindex=%{x}\\u003cbr\\u003evalue=%{y}\\u003cextra\\u003e\\u003c\\u002fextra\\u003e\",\"legendgroup\":\"Clothes\",\"marker\":{\"color\":\"#FF6692\",\"pattern\":{\"shape\":\"\"}},\"name\":\"Clothes\",\"offsetgroup\":\"Clothes\",\"orientation\":\"v\",\"showlegend\":true,\"textposition\":\"auto\",\"x\":[2013,2014,2015,2016,2017,2018,2019,2020,2021,2022,2023],\"xaxis\":\"x\",\"y\":[4809.0,2069.0,944.0,777.0,6.0,0.0,1017.0,479.0,1012.0,1672.0,2428.0],\"yaxis\":\"y\",\"type\":\"bar\"},{\"alignmentgroup\":\"True\",\"hovertemplate\":\"variable=Fishing Gear\\u003cbr\\u003eindex=%{x}\\u003cbr\\u003evalue=%{y}\\u003cextra\\u003e\\u003c\\u002fextra\\u003e\",\"legendgroup\":\"Fishing Gear\",\"marker\":{\"color\":\"#B6E880\",\"pattern\":{\"shape\":\"\"}},\"name\":\"Fishing Gear\",\"offsetgroup\":\"Fishing Gear\",\"orientation\":\"v\",\"showlegend\":true,\"textposition\":\"auto\",\"x\":[2013,2014,2015,2016,2017,2018,2019,2020,2021,2022,2023],\"xaxis\":\"x\",\"y\":[1288.0,2820.0,1827.0,1024.0,793.0,637.0,1129.0,193.0,545.0,791.0,679.0],\"yaxis\":\"y\",\"type\":\"bar\"},{\"alignmentgroup\":\"True\",\"hovertemplate\":\"variable=Tobacco\\u003cbr\\u003eindex=%{x}\\u003cbr\\u003evalue=%{y}\\u003cextra\\u003e\\u003c\\u002fextra\\u003e\",\"legendgroup\":\"Tobacco\",\"marker\":{\"color\":\"#FF97FF\",\"pattern\":{\"shape\":\"\"}},\"name\":\"Tobacco\",\"offsetgroup\":\"Tobacco\",\"orientation\":\"v\",\"showlegend\":true,\"textposition\":\"auto\",\"x\":[2013,2014,2015,2016,2017,2018,2019,2020,2021,2022,2023],\"xaxis\":\"x\",\"y\":[3524.0,2675.0,1931.0,691.0,155.0,148.0,453.0,394.0,552.0,362.0,212.0],\"yaxis\":\"y\",\"type\":\"bar\"},{\"alignmentgroup\":\"True\",\"hovertemplate\":\"variable=Balloons\\u003cbr\\u003eindex=%{x}\\u003cbr\\u003evalue=%{y}\\u003cextra\\u003e\\u003c\\u002fextra\\u003e\",\"legendgroup\":\"Balloons\",\"marker\":{\"color\":\"#FECB52\",\"pattern\":{\"shape\":\"\"}},\"name\":\"Balloons\",\"offsetgroup\":\"Balloons\",\"orientation\":\"v\",\"showlegend\":true,\"textposition\":\"auto\",\"x\":[2013,2014,2015,2016,2017,2018,2019,2020,2021,2022,2023],\"xaxis\":\"x\",\"y\":[1987.0,3151.0,956.0,947.0,347.0,558.0,368.0,162.0,427.0,446.0,433.0],\"yaxis\":\"y\",\"type\":\"bar\"},{\"alignmentgroup\":\"True\",\"hovertemplate\":\"variable=Nails\\u003cbr\\u003eindex=%{x}\\u003cbr\\u003evalue=%{y}\\u003cextra\\u003e\\u003c\\u002fextra\\u003e\",\"legendgroup\":\"Nails\",\"marker\":{\"color\":\"#636efa\",\"pattern\":{\"shape\":\"\"}},\"name\":\"Nails\",\"offsetgroup\":\"Nails\",\"orientation\":\"v\",\"showlegend\":true,\"textposition\":\"auto\",\"x\":[2013,2014,2015,2016,2017,2018,2019,2020,2021,2022,2023],\"xaxis\":\"x\",\"y\":[2325.0,3037.0,2081.0,621.0,111.0,1359.0,0.0,0.0,0.0,0.0,0.0],\"yaxis\":\"y\",\"type\":\"bar\"},{\"alignmentgroup\":\"True\",\"hovertemplate\":\"variable=Wood Pieces\\u003cbr\\u003eindex=%{x}\\u003cbr\\u003evalue=%{y}\\u003cextra\\u003e\\u003c\\u002fextra\\u003e\",\"legendgroup\":\"Wood Pieces\",\"marker\":{\"color\":\"#EF553B\",\"pattern\":{\"shape\":\"\"}},\"name\":\"Wood Pieces\",\"offsetgroup\":\"Wood Pieces\",\"orientation\":\"v\",\"showlegend\":true,\"textposition\":\"auto\",\"x\":[2013,2014,2015,2016,2017,2018,2019,2020,2021,2022,2023],\"xaxis\":\"x\",\"y\":[937.5,1236.0,1133.0,571.0,27.0,0.0,799.0,227.0,547.0,1130.0,2448.0],\"yaxis\":\"y\",\"type\":\"bar\"},{\"alignmentgroup\":\"True\",\"hovertemplate\":\"variable=Foil\\u003cbr\\u003eindex=%{x}\\u003cbr\\u003evalue=%{y}\\u003cextra\\u003e\\u003c\\u002fextra\\u003e\",\"legendgroup\":\"Foil\",\"marker\":{\"color\":\"#00cc96\",\"pattern\":{\"shape\":\"\"}},\"name\":\"Foil\",\"offsetgroup\":\"Foil\",\"orientation\":\"v\",\"showlegend\":true,\"textposition\":\"auto\",\"x\":[2013,2014,2015,2016,2017,2018,2019,2020,2021,2022,2023],\"xaxis\":\"x\",\"y\":[2478.0,3453.0,1697.0,1386.0,0.0,35.0,0.0,0.0,0.0,0.0,0.0],\"yaxis\":\"y\",\"type\":\"bar\"},{\"alignmentgroup\":\"True\",\"hovertemplate\":\"variable=Fireworks\\u003cbr\\u003eindex=%{x}\\u003cbr\\u003evalue=%{y}\\u003cextra\\u003e\\u003c\\u002fextra\\u003e\",\"legendgroup\":\"Fireworks\",\"marker\":{\"color\":\"#ab63fa\",\"pattern\":{\"shape\":\"\"}},\"name\":\"Fireworks\",\"offsetgroup\":\"Fireworks\",\"orientation\":\"v\",\"showlegend\":true,\"textposition\":\"auto\",\"x\":[2013,2014,2015,2016,2017,2018,2019,2020,2021,2022,2023],\"xaxis\":\"x\",\"y\":[3018.0,2031.0,1759.0,1051.0,152.0,151.0,55.0,1.0,42.0,51.0,2.0],\"yaxis\":\"y\",\"type\":\"bar\"},{\"alignmentgroup\":\"True\",\"hovertemplate\":\"variable=Beach Gear\\u003cbr\\u003eindex=%{x}\\u003cbr\\u003evalue=%{y}\\u003cextra\\u003e\\u003c\\u002fextra\\u003e\",\"legendgroup\":\"Beach Gear\",\"marker\":{\"color\":\"#FFA15A\",\"pattern\":{\"shape\":\"\"}},\"name\":\"Beach Gear\",\"offsetgroup\":\"Beach Gear\",\"orientation\":\"v\",\"showlegend\":true,\"textposition\":\"auto\",\"x\":[2013,2014,2015,2016,2017,2018,2019,2020,2021,2022,2023],\"xaxis\":\"x\",\"y\":[747.0,1244.0,444.0,347.0,235.0,706.0,648.0,638.0,965.0,1194.0,918.0],\"yaxis\":\"y\",\"type\":\"bar\"},{\"alignmentgroup\":\"True\",\"hovertemplate\":\"variable=Personal Hygiene\\u003cbr\\u003eindex=%{x}\\u003cbr\\u003evalue=%{y}\\u003cextra\\u003e\\u003c\\u002fextra\\u003e\",\"legendgroup\":\"Personal Hygiene\",\"marker\":{\"color\":\"#19d3f3\",\"pattern\":{\"shape\":\"\"}},\"name\":\"Personal Hygiene\",\"offsetgroup\":\"Personal Hygiene\",\"orientation\":\"v\",\"showlegend\":true,\"textposition\":\"auto\",\"x\":[2013,2014,2015,2016,2017,2018,2019,2020,2021,2022,2023],\"xaxis\":\"x\",\"y\":[768.0,968.0,789.0,945.0,615.5,377.0,541.0,346.0,601.0,806.0,593.0],\"yaxis\":\"y\",\"type\":\"bar\"},{\"alignmentgroup\":\"True\",\"hovertemplate\":\"variable=Lighters\\u003cbr\\u003eindex=%{x}\\u003cbr\\u003evalue=%{y}\\u003cextra\\u003e\\u003c\\u002fextra\\u003e\",\"legendgroup\":\"Lighters\",\"marker\":{\"color\":\"#FF6692\",\"pattern\":{\"shape\":\"\"}},\"name\":\"Lighters\",\"offsetgroup\":\"Lighters\",\"orientation\":\"v\",\"showlegend\":true,\"textposition\":\"auto\",\"x\":[2013,2014,2015,2016,2017,2018,2019,2020,2021,2022,2023],\"xaxis\":\"x\",\"y\":[2033.0,1018.0,526.0,353.0,200.0,235.0,162.0,50.0,125.0,665.0,359.0],\"yaxis\":\"y\",\"type\":\"bar\"},{\"alignmentgroup\":\"True\",\"hovertemplate\":\"variable=Bandaids\\u003cbr\\u003eindex=%{x}\\u003cbr\\u003evalue=%{y}\\u003cextra\\u003e\\u003c\\u002fextra\\u003e\",\"legendgroup\":\"Bandaids\",\"marker\":{\"color\":\"#B6E880\",\"pattern\":{\"shape\":\"\"}},\"name\":\"Bandaids\",\"offsetgroup\":\"Bandaids\",\"orientation\":\"v\",\"showlegend\":true,\"textposition\":\"auto\",\"x\":[2013,2014,2015,2016,2017,2018,2019,2020,2021,2022,2023],\"xaxis\":\"x\",\"y\":[737.0,899.0,363.0,248.0,316.0,349.0,356.0,86.0,270.0,418.0,277.0],\"yaxis\":\"y\",\"type\":\"bar\"},{\"alignmentgroup\":\"True\",\"hovertemplate\":\"variable=Lids\\u003cbr\\u003eindex=%{x}\\u003cbr\\u003evalue=%{y}\\u003cextra\\u003e\\u003c\\u002fextra\\u003e\",\"legendgroup\":\"Lids\",\"marker\":{\"color\":\"#FF97FF\",\"pattern\":{\"shape\":\"\"}},\"name\":\"Lids\",\"offsetgroup\":\"Lids\",\"orientation\":\"v\",\"showlegend\":true,\"textposition\":\"auto\",\"x\":[2013,2014,2015,2016,2017,2018,2019,2020,2021,2022,2023],\"xaxis\":\"x\",\"y\":[0.0,0.0,0.0,549.0,852.0,465.0,540.0,411.0,532.0,465.0,496.0],\"yaxis\":\"y\",\"type\":\"bar\"},{\"alignmentgroup\":\"True\",\"hovertemplate\":\"variable=Construction Materials\\u003cbr\\u003eindex=%{x}\\u003cbr\\u003evalue=%{y}\\u003cextra\\u003e\\u003c\\u002fextra\\u003e\",\"legendgroup\":\"Construction Materials\",\"marker\":{\"color\":\"#FECB52\",\"pattern\":{\"shape\":\"\"}},\"name\":\"Construction Materials\",\"offsetgroup\":\"Construction Materials\",\"orientation\":\"v\",\"showlegend\":true,\"textposition\":\"auto\",\"x\":[2013,2014,2015,2016,2017,2018,2019,2020,2021,2022,2023],\"xaxis\":\"x\",\"y\":[722.0,172.0,0.0,742.0,241.0,461.0,554.0,166.0,456.0,276.0,386.0],\"yaxis\":\"y\",\"type\":\"bar\"},{\"alignmentgroup\":\"True\",\"hovertemplate\":\"variable=Utensils\\u003cbr\\u003eindex=%{x}\\u003cbr\\u003evalue=%{y}\\u003cextra\\u003e\\u003c\\u002fextra\\u003e\",\"legendgroup\":\"Utensils\",\"marker\":{\"color\":\"#636efa\",\"pattern\":{\"shape\":\"\"}},\"name\":\"Utensils\",\"offsetgroup\":\"Utensils\",\"orientation\":\"v\",\"showlegend\":true,\"textposition\":\"auto\",\"x\":[2013,2014,2015,2016,2017,2018,2019,2020,2021,2022,2023],\"xaxis\":\"x\",\"y\":[0.0,0.0,0.0,426.0,474.0,389.0,292.0,453.0,360.0,434.0,645.0],\"yaxis\":\"y\",\"type\":\"bar\"},{\"alignmentgroup\":\"True\",\"hovertemplate\":\"variable=Strapping Bands\\u003cbr\\u003eindex=%{x}\\u003cbr\\u003evalue=%{y}\\u003cextra\\u003e\\u003c\\u002fextra\\u003e\",\"legendgroup\":\"Strapping Bands\",\"marker\":{\"color\":\"#EF553B\",\"pattern\":{\"shape\":\"\"}},\"name\":\"Strapping Bands\",\"offsetgroup\":\"Strapping Bands\",\"orientation\":\"v\",\"showlegend\":true,\"textposition\":\"auto\",\"x\":[2013,2014,2015,2016,2017,2018,2019,2020,2021,2022,2023],\"xaxis\":\"x\",\"y\":[581.0,65.0,1.0,431.0,193.0,255.0,271.0,208.0,326.0,399.0,273.0],\"yaxis\":\"y\",\"type\":\"bar\"},{\"alignmentgroup\":\"True\",\"hovertemplate\":\"variable=6-Pack Holders\\u003cbr\\u003eindex=%{x}\\u003cbr\\u003evalue=%{y}\\u003cextra\\u003e\\u003c\\u002fextra\\u003e\",\"legendgroup\":\"6-Pack Holders\",\"marker\":{\"color\":\"#00cc96\",\"pattern\":{\"shape\":\"\"}},\"name\":\"6-Pack Holders\",\"offsetgroup\":\"6-Pack Holders\",\"orientation\":\"v\",\"showlegend\":true,\"textposition\":\"auto\",\"x\":[2013,2014,2015,2016,2017,2018,2019,2020,2021,2022,2023],\"xaxis\":\"x\",\"y\":[624.0,909.0,301.0,130.0,45.0,34.0,77.0,0.0,36.0,97.0,41.0],\"yaxis\":\"y\",\"type\":\"bar\"},{\"alignmentgroup\":\"True\",\"hovertemplate\":\"variable=PPE\\u003cbr\\u003eindex=%{x}\\u003cbr\\u003evalue=%{y}\\u003cextra\\u003e\\u003c\\u002fextra\\u003e\",\"legendgroup\":\"PPE\",\"marker\":{\"color\":\"#ab63fa\",\"pattern\":{\"shape\":\"\"}},\"name\":\"PPE\",\"offsetgroup\":\"PPE\",\"orientation\":\"v\",\"showlegend\":true,\"textposition\":\"auto\",\"x\":[2013,2014,2015,2016,2017,2018,2019,2020,2021,2022,2023],\"xaxis\":\"x\",\"y\":[0.0,0.0,0.0,0.0,0.0,0.0,0.0,720.0,718.0,630.0,186.0],\"yaxis\":\"y\",\"type\":\"bar\"},{\"alignmentgroup\":\"True\",\"hovertemplate\":\"variable=Batteries\\u003cbr\\u003eindex=%{x}\\u003cbr\\u003evalue=%{y}\\u003cextra\\u003e\\u003c\\u002fextra\\u003e\",\"legendgroup\":\"Batteries\",\"marker\":{\"color\":\"#FFA15A\",\"pattern\":{\"shape\":\"\"}},\"name\":\"Batteries\",\"offsetgroup\":\"Batteries\",\"orientation\":\"v\",\"showlegend\":true,\"textposition\":\"auto\",\"x\":[2013,2014,2015,2016,2017,2018,2019,2020,2021,2022,2023],\"xaxis\":\"x\",\"y\":[245.0,219.0,167.0,224.0,453.0,148.0,77.0,32.0,68.0,125.0,483.0],\"yaxis\":\"y\",\"type\":\"bar\"},{\"alignmentgroup\":\"True\",\"hovertemplate\":\"variable=Bottles, Plastic\\u003cbr\\u003eindex=%{x}\\u003cbr\\u003evalue=%{y}\\u003cextra\\u003e\\u003c\\u002fextra\\u003e\",\"legendgroup\":\"Bottles, Plastic\",\"marker\":{\"color\":\"#19d3f3\",\"pattern\":{\"shape\":\"\"}},\"name\":\"Bottles, Plastic\",\"offsetgroup\":\"Bottles, Plastic\",\"orientation\":\"v\",\"showlegend\":true,\"textposition\":\"auto\",\"x\":[2013,2014,2015,2016,2017,2018,2019,2020,2021,2022,2023],\"xaxis\":\"x\",\"y\":[379.0,343.0,521.0,308.0,172.0,99.0,132.0,0.0,64.0,61.0,137.0],\"yaxis\":\"y\",\"type\":\"bar\"},{\"alignmentgroup\":\"True\",\"hovertemplate\":\"variable=Syringes\\u003cbr\\u003eindex=%{x}\\u003cbr\\u003evalue=%{y}\\u003cextra\\u003e\\u003c\\u002fextra\\u003e\",\"legendgroup\":\"Syringes\",\"marker\":{\"color\":\"#FF6692\",\"pattern\":{\"shape\":\"\"}},\"name\":\"Syringes\",\"offsetgroup\":\"Syringes\",\"orientation\":\"v\",\"showlegend\":true,\"textposition\":\"auto\",\"x\":[2013,2014,2015,2016,2017,2018,2019,2020,2021,2022,2023],\"xaxis\":\"x\",\"y\":[140.0,164.0,215.0,376.0,136.0,242.0,156.0,44.0,101.0,202.0,283.0],\"yaxis\":\"y\",\"type\":\"bar\"},{\"alignmentgroup\":\"True\",\"hovertemplate\":\"variable=Footwear\\u003cbr\\u003eindex=%{x}\\u003cbr\\u003evalue=%{y}\\u003cextra\\u003e\\u003c\\u002fextra\\u003e\",\"legendgroup\":\"Footwear\",\"marker\":{\"color\":\"#B6E880\",\"pattern\":{\"shape\":\"\"}},\"name\":\"Footwear\",\"offsetgroup\":\"Footwear\",\"orientation\":\"v\",\"showlegend\":true,\"textposition\":\"auto\",\"x\":[2013,2014,2015,2016,2017,2018,2019,2020,2021,2022,2023],\"xaxis\":\"x\",\"y\":[539.0,803.5,321.0,296.0,1.0,0.0,0.0,0.0,0.0,16.0,30.0],\"yaxis\":\"y\",\"type\":\"bar\"},{\"alignmentgroup\":\"True\",\"hovertemplate\":\"variable=Cigar Tips\\u003cbr\\u003eindex=%{x}\\u003cbr\\u003evalue=%{y}\\u003cextra\\u003e\\u003c\\u002fextra\\u003e\",\"legendgroup\":\"Cigar Tips\",\"marker\":{\"color\":\"#FF97FF\",\"pattern\":{\"shape\":\"\"}},\"name\":\"Cigar Tips\",\"offsetgroup\":\"Cigar Tips\",\"orientation\":\"v\",\"showlegend\":true,\"textposition\":\"auto\",\"x\":[2013,2014,2015,2016,2017,2018,2019,2020,2021,2022,2023],\"xaxis\":\"x\",\"y\":[0.0,183.0,4.0,359.0,171.0,204.0,278.0,1.0,196.0,128.0,13.0],\"yaxis\":\"y\",\"type\":\"bar\"},{\"alignmentgroup\":\"True\",\"hovertemplate\":\"variable=Rope\\u003cbr\\u003eindex=%{x}\\u003cbr\\u003evalue=%{y}\\u003cextra\\u003e\\u003c\\u002fextra\\u003e\",\"legendgroup\":\"Rope\",\"marker\":{\"color\":\"#FECB52\",\"pattern\":{\"shape\":\"\"}},\"name\":\"Rope\",\"offsetgroup\":\"Rope\",\"orientation\":\"v\",\"showlegend\":true,\"textposition\":\"auto\",\"x\":[2013,2014,2015,2016,2017,2018,2019,2020,2021,2022,2023],\"xaxis\":\"x\",\"y\":[0.0,0.0,71.0,572.0,126.0,136.0,296.0,7.0,148.0,64.0,3.0],\"yaxis\":\"y\",\"type\":\"bar\"},{\"alignmentgroup\":\"True\",\"hovertemplate\":\"variable=Beverage Bottles\\u003cbr\\u003eindex=%{x}\\u003cbr\\u003evalue=%{y}\\u003cextra\\u003e\\u003c\\u002fextra\\u003e\",\"legendgroup\":\"Beverage Bottles\",\"marker\":{\"color\":\"#636efa\",\"pattern\":{\"shape\":\"\"}},\"name\":\"Beverage Bottles\",\"offsetgroup\":\"Beverage Bottles\",\"orientation\":\"v\",\"showlegend\":true,\"textposition\":\"auto\",\"x\":[2013,2014,2015,2016,2017,2018,2019,2020,2021,2022,2023],\"xaxis\":\"x\",\"y\":[0.0,0.0,0.0,1413.0,0.0,0.0,0.0,0.0,0.0,0.0,0.0],\"yaxis\":\"y\",\"type\":\"bar\"},{\"alignmentgroup\":\"True\",\"hovertemplate\":\"variable=Tires\\u003cbr\\u003eindex=%{x}\\u003cbr\\u003evalue=%{y}\\u003cextra\\u003e\\u003c\\u002fextra\\u003e\",\"legendgroup\":\"Tires\",\"marker\":{\"color\":\"#EF553B\",\"pattern\":{\"shape\":\"\"}},\"name\":\"Tires\",\"offsetgroup\":\"Tires\",\"orientation\":\"v\",\"showlegend\":true,\"textposition\":\"auto\",\"x\":[2013,2014,2015,2016,2017,2018,2019,2020,2021,2022,2023],\"xaxis\":\"x\",\"y\":[112.0,195.0,108.0,71.0,48.0,35.25,37.0,21.0,19.0,27.0,11.0],\"yaxis\":\"y\",\"type\":\"bar\"},{\"alignmentgroup\":\"True\",\"hovertemplate\":\"variable=Bagged Pet Waste\\u003cbr\\u003eindex=%{x}\\u003cbr\\u003evalue=%{y}\\u003cextra\\u003e\\u003c\\u002fextra\\u003e\",\"legendgroup\":\"Bagged Pet Waste\",\"marker\":{\"color\":\"#00cc96\",\"pattern\":{\"shape\":\"\"}},\"name\":\"Bagged Pet Waste\",\"offsetgroup\":\"Bagged Pet Waste\",\"orientation\":\"v\",\"showlegend\":true,\"textposition\":\"auto\",\"x\":[2013,2014,2015,2016,2017,2018,2019,2020,2021,2022,2023],\"xaxis\":\"x\",\"y\":[111.0,0.0,0.0,0.0,0.0,0.0,0.0,70.0,159.0,169.0,127.0],\"yaxis\":\"y\",\"type\":\"bar\"},{\"alignmentgroup\":\"True\",\"hovertemplate\":\"variable=Beverage Pouches\\u003cbr\\u003eindex=%{x}\\u003cbr\\u003evalue=%{y}\\u003cextra\\u003e\\u003c\\u002fextra\\u003e\",\"legendgroup\":\"Beverage Pouches\",\"marker\":{\"color\":\"#ab63fa\",\"pattern\":{\"shape\":\"\"}},\"name\":\"Beverage Pouches\",\"offsetgroup\":\"Beverage Pouches\",\"orientation\":\"v\",\"showlegend\":true,\"textposition\":\"auto\",\"x\":[2013,2014,2015,2016,2017,2018,2019,2020,2021,2022,2023],\"xaxis\":\"x\",\"y\":[0.0,0.0,0.0,0.0,0.0,0.0,0.0,240.0,49.0,172.0,164.0],\"yaxis\":\"y\",\"type\":\"bar\"},{\"alignmentgroup\":\"True\",\"hovertemplate\":\"variable=Appliances\\u003cbr\\u003eindex=%{x}\\u003cbr\\u003evalue=%{y}\\u003cextra\\u003e\\u003c\\u002fextra\\u003e\",\"legendgroup\":\"Appliances\",\"marker\":{\"color\":\"#FFA15A\",\"pattern\":{\"shape\":\"\"}},\"name\":\"Appliances\",\"offsetgroup\":\"Appliances\",\"orientation\":\"v\",\"showlegend\":true,\"textposition\":\"auto\",\"x\":[2013,2014,2015,2016,2017,2018,2019,2020,2021,2022,2023],\"xaxis\":\"x\",\"y\":[147.0,127.0,46.0,64.0,42.0,18.0,23.0,0.0,22.0,5.0,70.0],\"yaxis\":\"y\",\"type\":\"bar\"},{\"alignmentgroup\":\"True\",\"hovertemplate\":\"variable=E-Waste\\u003cbr\\u003eindex=%{x}\\u003cbr\\u003evalue=%{y}\\u003cextra\\u003e\\u003c\\u002fextra\\u003e\",\"legendgroup\":\"E-Waste\",\"marker\":{\"color\":\"#19d3f3\",\"pattern\":{\"shape\":\"\"}},\"name\":\"E-Waste\",\"offsetgroup\":\"E-Waste\",\"orientation\":\"v\",\"showlegend\":true,\"textposition\":\"auto\",\"x\":[2013,2014,2015,2016,2017,2018,2019,2020,2021,2022,2023],\"xaxis\":\"x\",\"y\":[0.0,0.0,0.0,0.0,0.0,0.0,0.0,38.0,124.0,73.0,112.0],\"yaxis\":\"y\",\"type\":\"bar\"},{\"alignmentgroup\":\"True\",\"hovertemplate\":\"variable=Car Parts\\u003cbr\\u003eindex=%{x}\\u003cbr\\u003evalue=%{y}\\u003cextra\\u003e\\u003c\\u002fextra\\u003e\",\"legendgroup\":\"Car Parts\",\"marker\":{\"color\":\"#FF6692\",\"pattern\":{\"shape\":\"\"}},\"name\":\"Car Parts\",\"offsetgroup\":\"Car Parts\",\"orientation\":\"v\",\"showlegend\":true,\"textposition\":\"auto\",\"x\":[2013,2014,2015,2016,2017,2018,2019,2020,2021,2022,2023],\"xaxis\":\"x\",\"y\":[31.0,101.0,52.0,76.0,0.0,0.0,0.0,0.0,0.0,0.0,0.0],\"yaxis\":\"y\",\"type\":\"bar\"},{\"alignmentgroup\":\"True\",\"hovertemplate\":\"variable=Bikes\\u003cbr\\u003eindex=%{x}\\u003cbr\\u003evalue=%{y}\\u003cextra\\u003e\\u003c\\u002fextra\\u003e\",\"legendgroup\":\"Bikes\",\"marker\":{\"color\":\"#B6E880\",\"pattern\":{\"shape\":\"\"}},\"name\":\"Bikes\",\"offsetgroup\":\"Bikes\",\"orientation\":\"v\",\"showlegend\":true,\"textposition\":\"auto\",\"x\":[2013,2014,2015,2016,2017,2018,2019,2020,2021,2022,2023],\"xaxis\":\"x\",\"y\":[62.0,70.0,18.0,49.0,0.0,0.0,0.0,0.0,0.0,0.0,0.0],\"yaxis\":\"y\",\"type\":\"bar\"}],                        {\"template\":{\"data\":{\"histogram2dcontour\":[{\"type\":\"histogram2dcontour\",\"colorbar\":{\"outlinewidth\":0,\"ticks\":\"\"},\"colorscale\":[[0.0,\"#0d0887\"],[0.1111111111111111,\"#46039f\"],[0.2222222222222222,\"#7201a8\"],[0.3333333333333333,\"#9c179e\"],[0.4444444444444444,\"#bd3786\"],[0.5555555555555556,\"#d8576b\"],[0.6666666666666666,\"#ed7953\"],[0.7777777777777778,\"#fb9f3a\"],[0.8888888888888888,\"#fdca26\"],[1.0,\"#f0f921\"]]}],\"choropleth\":[{\"type\":\"choropleth\",\"colorbar\":{\"outlinewidth\":0,\"ticks\":\"\"}}],\"histogram2d\":[{\"type\":\"histogram2d\",\"colorbar\":{\"outlinewidth\":0,\"ticks\":\"\"},\"colorscale\":[[0.0,\"#0d0887\"],[0.1111111111111111,\"#46039f\"],[0.2222222222222222,\"#7201a8\"],[0.3333333333333333,\"#9c179e\"],[0.4444444444444444,\"#bd3786\"],[0.5555555555555556,\"#d8576b\"],[0.6666666666666666,\"#ed7953\"],[0.7777777777777778,\"#fb9f3a\"],[0.8888888888888888,\"#fdca26\"],[1.0,\"#f0f921\"]]}],\"heatmap\":[{\"type\":\"heatmap\",\"colorbar\":{\"outlinewidth\":0,\"ticks\":\"\"},\"colorscale\":[[0.0,\"#0d0887\"],[0.1111111111111111,\"#46039f\"],[0.2222222222222222,\"#7201a8\"],[0.3333333333333333,\"#9c179e\"],[0.4444444444444444,\"#bd3786\"],[0.5555555555555556,\"#d8576b\"],[0.6666666666666666,\"#ed7953\"],[0.7777777777777778,\"#fb9f3a\"],[0.8888888888888888,\"#fdca26\"],[1.0,\"#f0f921\"]]}],\"heatmapgl\":[{\"type\":\"heatmapgl\",\"colorbar\":{\"outlinewidth\":0,\"ticks\":\"\"},\"colorscale\":[[0.0,\"#0d0887\"],[0.1111111111111111,\"#46039f\"],[0.2222222222222222,\"#7201a8\"],[0.3333333333333333,\"#9c179e\"],[0.4444444444444444,\"#bd3786\"],[0.5555555555555556,\"#d8576b\"],[0.6666666666666666,\"#ed7953\"],[0.7777777777777778,\"#fb9f3a\"],[0.8888888888888888,\"#fdca26\"],[1.0,\"#f0f921\"]]}],\"contourcarpet\":[{\"type\":\"contourcarpet\",\"colorbar\":{\"outlinewidth\":0,\"ticks\":\"\"}}],\"contour\":[{\"type\":\"contour\",\"colorbar\":{\"outlinewidth\":0,\"ticks\":\"\"},\"colorscale\":[[0.0,\"#0d0887\"],[0.1111111111111111,\"#46039f\"],[0.2222222222222222,\"#7201a8\"],[0.3333333333333333,\"#9c179e\"],[0.4444444444444444,\"#bd3786\"],[0.5555555555555556,\"#d8576b\"],[0.6666666666666666,\"#ed7953\"],[0.7777777777777778,\"#fb9f3a\"],[0.8888888888888888,\"#fdca26\"],[1.0,\"#f0f921\"]]}],\"surface\":[{\"type\":\"surface\",\"colorbar\":{\"outlinewidth\":0,\"ticks\":\"\"},\"colorscale\":[[0.0,\"#0d0887\"],[0.1111111111111111,\"#46039f\"],[0.2222222222222222,\"#7201a8\"],[0.3333333333333333,\"#9c179e\"],[0.4444444444444444,\"#bd3786\"],[0.5555555555555556,\"#d8576b\"],[0.6666666666666666,\"#ed7953\"],[0.7777777777777778,\"#fb9f3a\"],[0.8888888888888888,\"#fdca26\"],[1.0,\"#f0f921\"]]}],\"mesh3d\":[{\"type\":\"mesh3d\",\"colorbar\":{\"outlinewidth\":0,\"ticks\":\"\"}}],\"scatter\":[{\"fillpattern\":{\"fillmode\":\"overlay\",\"size\":10,\"solidity\":0.2},\"type\":\"scatter\"}],\"parcoords\":[{\"type\":\"parcoords\",\"line\":{\"colorbar\":{\"outlinewidth\":0,\"ticks\":\"\"}}}],\"scatterpolargl\":[{\"type\":\"scatterpolargl\",\"marker\":{\"colorbar\":{\"outlinewidth\":0,\"ticks\":\"\"}}}],\"bar\":[{\"error_x\":{\"color\":\"#2a3f5f\"},\"error_y\":{\"color\":\"#2a3f5f\"},\"marker\":{\"line\":{\"color\":\"#E5ECF6\",\"width\":0.5},\"pattern\":{\"fillmode\":\"overlay\",\"size\":10,\"solidity\":0.2}},\"type\":\"bar\"}],\"scattergeo\":[{\"type\":\"scattergeo\",\"marker\":{\"colorbar\":{\"outlinewidth\":0,\"ticks\":\"\"}}}],\"scatterpolar\":[{\"type\":\"scatterpolar\",\"marker\":{\"colorbar\":{\"outlinewidth\":0,\"ticks\":\"\"}}}],\"histogram\":[{\"marker\":{\"pattern\":{\"fillmode\":\"overlay\",\"size\":10,\"solidity\":0.2}},\"type\":\"histogram\"}],\"scattergl\":[{\"type\":\"scattergl\",\"marker\":{\"colorbar\":{\"outlinewidth\":0,\"ticks\":\"\"}}}],\"scatter3d\":[{\"type\":\"scatter3d\",\"line\":{\"colorbar\":{\"outlinewidth\":0,\"ticks\":\"\"}},\"marker\":{\"colorbar\":{\"outlinewidth\":0,\"ticks\":\"\"}}}],\"scattermapbox\":[{\"type\":\"scattermapbox\",\"marker\":{\"colorbar\":{\"outlinewidth\":0,\"ticks\":\"\"}}}],\"scatterternary\":[{\"type\":\"scatterternary\",\"marker\":{\"colorbar\":{\"outlinewidth\":0,\"ticks\":\"\"}}}],\"scattercarpet\":[{\"type\":\"scattercarpet\",\"marker\":{\"colorbar\":{\"outlinewidth\":0,\"ticks\":\"\"}}}],\"carpet\":[{\"aaxis\":{\"endlinecolor\":\"#2a3f5f\",\"gridcolor\":\"white\",\"linecolor\":\"white\",\"minorgridcolor\":\"white\",\"startlinecolor\":\"#2a3f5f\"},\"baxis\":{\"endlinecolor\":\"#2a3f5f\",\"gridcolor\":\"white\",\"linecolor\":\"white\",\"minorgridcolor\":\"white\",\"startlinecolor\":\"#2a3f5f\"},\"type\":\"carpet\"}],\"table\":[{\"cells\":{\"fill\":{\"color\":\"#EBF0F8\"},\"line\":{\"color\":\"white\"}},\"header\":{\"fill\":{\"color\":\"#C8D4E3\"},\"line\":{\"color\":\"white\"}},\"type\":\"table\"}],\"barpolar\":[{\"marker\":{\"line\":{\"color\":\"#E5ECF6\",\"width\":0.5},\"pattern\":{\"fillmode\":\"overlay\",\"size\":10,\"solidity\":0.2}},\"type\":\"barpolar\"}],\"pie\":[{\"automargin\":true,\"type\":\"pie\"}]},\"layout\":{\"autotypenumbers\":\"strict\",\"colorway\":[\"#636efa\",\"#EF553B\",\"#00cc96\",\"#ab63fa\",\"#FFA15A\",\"#19d3f3\",\"#FF6692\",\"#B6E880\",\"#FF97FF\",\"#FECB52\"],\"font\":{\"color\":\"#2a3f5f\"},\"hovermode\":\"closest\",\"hoverlabel\":{\"align\":\"left\"},\"paper_bgcolor\":\"white\",\"plot_bgcolor\":\"#E5ECF6\",\"polar\":{\"bgcolor\":\"#E5ECF6\",\"angularaxis\":{\"gridcolor\":\"white\",\"linecolor\":\"white\",\"ticks\":\"\"},\"radialaxis\":{\"gridcolor\":\"white\",\"linecolor\":\"white\",\"ticks\":\"\"}},\"ternary\":{\"bgcolor\":\"#E5ECF6\",\"aaxis\":{\"gridcolor\":\"white\",\"linecolor\":\"white\",\"ticks\":\"\"},\"baxis\":{\"gridcolor\":\"white\",\"linecolor\":\"white\",\"ticks\":\"\"},\"caxis\":{\"gridcolor\":\"white\",\"linecolor\":\"white\",\"ticks\":\"\"}},\"coloraxis\":{\"colorbar\":{\"outlinewidth\":0,\"ticks\":\"\"}},\"colorscale\":{\"sequential\":[[0.0,\"#0d0887\"],[0.1111111111111111,\"#46039f\"],[0.2222222222222222,\"#7201a8\"],[0.3333333333333333,\"#9c179e\"],[0.4444444444444444,\"#bd3786\"],[0.5555555555555556,\"#d8576b\"],[0.6666666666666666,\"#ed7953\"],[0.7777777777777778,\"#fb9f3a\"],[0.8888888888888888,\"#fdca26\"],[1.0,\"#f0f921\"]],\"sequentialminus\":[[0.0,\"#0d0887\"],[0.1111111111111111,\"#46039f\"],[0.2222222222222222,\"#7201a8\"],[0.3333333333333333,\"#9c179e\"],[0.4444444444444444,\"#bd3786\"],[0.5555555555555556,\"#d8576b\"],[0.6666666666666666,\"#ed7953\"],[0.7777777777777778,\"#fb9f3a\"],[0.8888888888888888,\"#fdca26\"],[1.0,\"#f0f921\"]],\"diverging\":[[0,\"#8e0152\"],[0.1,\"#c51b7d\"],[0.2,\"#de77ae\"],[0.3,\"#f1b6da\"],[0.4,\"#fde0ef\"],[0.5,\"#f7f7f7\"],[0.6,\"#e6f5d0\"],[0.7,\"#b8e186\"],[0.8,\"#7fbc41\"],[0.9,\"#4d9221\"],[1,\"#276419\"]]},\"xaxis\":{\"gridcolor\":\"white\",\"linecolor\":\"white\",\"ticks\":\"\",\"title\":{\"standoff\":15},\"zerolinecolor\":\"white\",\"automargin\":true,\"zerolinewidth\":2},\"yaxis\":{\"gridcolor\":\"white\",\"linecolor\":\"white\",\"ticks\":\"\",\"title\":{\"standoff\":15},\"zerolinecolor\":\"white\",\"automargin\":true,\"zerolinewidth\":2},\"scene\":{\"xaxis\":{\"backgroundcolor\":\"#E5ECF6\",\"gridcolor\":\"white\",\"linecolor\":\"white\",\"showbackground\":true,\"ticks\":\"\",\"zerolinecolor\":\"white\",\"gridwidth\":2},\"yaxis\":{\"backgroundcolor\":\"#E5ECF6\",\"gridcolor\":\"white\",\"linecolor\":\"white\",\"showbackground\":true,\"ticks\":\"\",\"zerolinecolor\":\"white\",\"gridwidth\":2},\"zaxis\":{\"backgroundcolor\":\"#E5ECF6\",\"gridcolor\":\"white\",\"linecolor\":\"white\",\"showbackground\":true,\"ticks\":\"\",\"zerolinecolor\":\"white\",\"gridwidth\":2}},\"shapedefaults\":{\"line\":{\"color\":\"#2a3f5f\"}},\"annotationdefaults\":{\"arrowcolor\":\"#2a3f5f\",\"arrowhead\":0,\"arrowwidth\":1},\"geo\":{\"bgcolor\":\"white\",\"landcolor\":\"#E5ECF6\",\"subunitcolor\":\"white\",\"showland\":true,\"showlakes\":true,\"lakecolor\":\"white\"},\"title\":{\"x\":0.05},\"mapbox\":{\"style\":\"light\"}}},\"xaxis\":{\"anchor\":\"y\",\"domain\":[0.0,1.0],\"title\":{\"text\":\"Year\"}},\"yaxis\":{\"anchor\":\"x\",\"domain\":[0.0,1.0],\"title\":{\"text\":\"Number of Debris Items\"}},\"legend\":{\"title\":{\"text\":\"Debris Category\"},\"tracegroupgap\":0},\"margin\":{\"t\":60},\"barmode\":\"relative\",\"autosize\":false,\"width\":1000,\"height\":700,\"title\":{\"text\":\"Total Number of Debris Items Collected By Category, 2013-23\"}},                        {\"responsive\": true}                    ).then(function(){\n",
       "                            \n",
       "var gd = document.getElementById('96c0bfb5-f5e1-40e2-98c2-b8be014f5ae4');\n",
       "var x = new MutationObserver(function (mutations, observer) {{\n",
       "        var display = window.getComputedStyle(gd).display;\n",
       "        if (!display || display === 'none') {{\n",
       "            console.log([gd, 'removed!']);\n",
       "            Plotly.purge(gd);\n",
       "            observer.disconnect();\n",
       "        }}\n",
       "}});\n",
       "\n",
       "// Listen for the removal of the full notebook cells\n",
       "var notebookContainer = gd.closest('#notebook-container');\n",
       "if (notebookContainer) {{\n",
       "    x.observe(notebookContainer, {childList: true});\n",
       "}}\n",
       "\n",
       "// Listen for the clearing of the current output cell\n",
       "var outputEl = gd.closest('.output');\n",
       "if (outputEl) {{\n",
       "    x.observe(outputEl, {childList: true});\n",
       "}}\n",
       "\n",
       "                        })                };                });            </script>        </div>"
      ]
     },
     "metadata": {},
     "output_type": "display_data"
    }
   ],
   "source": [
    "# Bar plot of all trash items over the years\n",
    "fig = graph_maker.annual_total_bar()\n",
    "fig.show()"
   ]
  },
  {
   "cell_type": "markdown",
   "id": "46a94fbb-e79f-4669-9bbd-de2159cfb22e",
   "metadata": {},
   "source": [
    "The bar graph above shows the number of items cleaned up in the years 2013-2023 by category. You can click on the Item Category squares to the right to exclude/include categories in the graph.\n",
    "\n",
    "\n",
    "## Top 5 Trash Categories\n",
    "Below is the same bar plot as above but only the top 5 trash categories."
   ]
  },
  {
   "cell_type": "code",
   "execution_count": 8,
   "id": "9c4791de-7392-4b60-9c0f-584c84fc22a9",
   "metadata": {},
   "outputs": [
    {
     "data": {
      "application/vnd.plotly.v1+json": {
       "config": {
        "plotlyServerURL": "https://plot.ly"
       },
       "data": [
        {
         "alignmentgroup": "True",
         "hovertemplate": "variable=Plastic Pieces<br>index=%{x}<br>value=%{y}<extra></extra>",
         "legendgroup": "Plastic Pieces",
         "marker": {
          "color": "#636efa",
          "pattern": {
           "shape": ""
          }
         },
         "name": "Plastic Pieces",
         "offsetgroup": "Plastic Pieces",
         "orientation": "v",
         "showlegend": true,
         "textposition": "auto",
         "type": "bar",
         "x": [
          2013,
          2014,
          2015,
          2016,
          2017,
          2018,
          2019,
          2020,
          2021,
          2022,
          2023
         ],
         "xaxis": "x",
         "y": [
          53236,
          71803,
          31440,
          43322,
          27785.5,
          40469,
          55116,
          14907,
          43820,
          47164,
          55038
         ],
         "yaxis": "y"
        },
        {
         "alignmentgroup": "True",
         "hovertemplate": "variable=Cigarette Butts<br>index=%{x}<br>value=%{y}<extra></extra>",
         "legendgroup": "Cigarette Butts",
         "marker": {
          "color": "#EF553B",
          "pattern": {
           "shape": ""
          }
         },
         "name": "Cigarette Butts",
         "offsetgroup": "Cigarette Butts",
         "orientation": "v",
         "showlegend": true,
         "textposition": "auto",
         "type": "bar",
         "x": [
          2013,
          2014,
          2015,
          2016,
          2017,
          2018,
          2019,
          2020,
          2021,
          2022,
          2023
         ],
         "xaxis": "x",
         "y": [
          81642,
          111884,
          56423,
          33684,
          21251,
          34815,
          24202,
          12380,
          18464,
          23115,
          21498
         ],
         "yaxis": "y"
        },
        {
         "alignmentgroup": "True",
         "hovertemplate": "variable=Food Wrappers<br>index=%{x}<br>value=%{y}<extra></extra>",
         "legendgroup": "Food Wrappers",
         "marker": {
          "color": "#00cc96",
          "pattern": {
           "shape": ""
          }
         },
         "name": "Food Wrappers",
         "offsetgroup": "Food Wrappers",
         "orientation": "v",
         "showlegend": true,
         "textposition": "auto",
         "type": "bar",
         "x": [
          2013,
          2014,
          2015,
          2016,
          2017,
          2018,
          2019,
          2020,
          2021,
          2022,
          2023
         ],
         "xaxis": "x",
         "y": [
          24397,
          28110,
          16142,
          12632,
          11425,
          16437,
          17333,
          6513,
          13373,
          18128,
          16988
         ],
         "yaxis": "y"
        },
        {
         "alignmentgroup": "True",
         "hovertemplate": "variable=Paper Pieces<br>index=%{x}<br>value=%{y}<extra></extra>",
         "legendgroup": "Paper Pieces",
         "marker": {
          "color": "#ab63fa",
          "pattern": {
           "shape": ""
          }
         },
         "name": "Paper Pieces",
         "offsetgroup": "Paper Pieces",
         "orientation": "v",
         "showlegend": true,
         "textposition": "auto",
         "type": "bar",
         "x": [
          2013,
          2014,
          2015,
          2016,
          2017,
          2018,
          2019,
          2020,
          2021,
          2022,
          2023
         ],
         "xaxis": "x",
         "y": [
          17242,
          23901,
          8493,
          6783,
          7043,
          15017,
          17738,
          4727,
          11733,
          19817,
          16650
         ],
         "yaxis": "y"
        },
        {
         "alignmentgroup": "True",
         "hovertemplate": "variable=Glass Pieces<br>index=%{x}<br>value=%{y}<extra></extra>",
         "legendgroup": "Glass Pieces",
         "marker": {
          "color": "#FFA15A",
          "pattern": {
           "shape": ""
          }
         },
         "name": "Glass Pieces",
         "offsetgroup": "Glass Pieces",
         "orientation": "v",
         "showlegend": true,
         "textposition": "auto",
         "type": "bar",
         "x": [
          2013,
          2014,
          2015,
          2016,
          2017,
          2018,
          2019,
          2020,
          2021,
          2022,
          2023
         ],
         "xaxis": "x",
         "y": [
          18196,
          20532,
          12865,
          13290,
          4103,
          8584,
          8823,
          1288,
          11356,
          5369,
          4605
         ],
         "yaxis": "y"
        }
       ],
       "layout": {
        "autosize": false,
        "barmode": "relative",
        "height": 700,
        "legend": {
         "title": {
          "text": "Debris Category"
         },
         "tracegroupgap": 0
        },
        "margin": {
         "t": 60
        },
        "template": {
         "data": {
          "bar": [
           {
            "error_x": {
             "color": "#2a3f5f"
            },
            "error_y": {
             "color": "#2a3f5f"
            },
            "marker": {
             "line": {
              "color": "#E5ECF6",
              "width": 0.5
             },
             "pattern": {
              "fillmode": "overlay",
              "size": 10,
              "solidity": 0.2
             }
            },
            "type": "bar"
           }
          ],
          "barpolar": [
           {
            "marker": {
             "line": {
              "color": "#E5ECF6",
              "width": 0.5
             },
             "pattern": {
              "fillmode": "overlay",
              "size": 10,
              "solidity": 0.2
             }
            },
            "type": "barpolar"
           }
          ],
          "carpet": [
           {
            "aaxis": {
             "endlinecolor": "#2a3f5f",
             "gridcolor": "white",
             "linecolor": "white",
             "minorgridcolor": "white",
             "startlinecolor": "#2a3f5f"
            },
            "baxis": {
             "endlinecolor": "#2a3f5f",
             "gridcolor": "white",
             "linecolor": "white",
             "minorgridcolor": "white",
             "startlinecolor": "#2a3f5f"
            },
            "type": "carpet"
           }
          ],
          "choropleth": [
           {
            "colorbar": {
             "outlinewidth": 0,
             "ticks": ""
            },
            "type": "choropleth"
           }
          ],
          "contour": [
           {
            "colorbar": {
             "outlinewidth": 0,
             "ticks": ""
            },
            "colorscale": [
             [
              0,
              "#0d0887"
             ],
             [
              0.1111111111111111,
              "#46039f"
             ],
             [
              0.2222222222222222,
              "#7201a8"
             ],
             [
              0.3333333333333333,
              "#9c179e"
             ],
             [
              0.4444444444444444,
              "#bd3786"
             ],
             [
              0.5555555555555556,
              "#d8576b"
             ],
             [
              0.6666666666666666,
              "#ed7953"
             ],
             [
              0.7777777777777778,
              "#fb9f3a"
             ],
             [
              0.8888888888888888,
              "#fdca26"
             ],
             [
              1,
              "#f0f921"
             ]
            ],
            "type": "contour"
           }
          ],
          "contourcarpet": [
           {
            "colorbar": {
             "outlinewidth": 0,
             "ticks": ""
            },
            "type": "contourcarpet"
           }
          ],
          "heatmap": [
           {
            "colorbar": {
             "outlinewidth": 0,
             "ticks": ""
            },
            "colorscale": [
             [
              0,
              "#0d0887"
             ],
             [
              0.1111111111111111,
              "#46039f"
             ],
             [
              0.2222222222222222,
              "#7201a8"
             ],
             [
              0.3333333333333333,
              "#9c179e"
             ],
             [
              0.4444444444444444,
              "#bd3786"
             ],
             [
              0.5555555555555556,
              "#d8576b"
             ],
             [
              0.6666666666666666,
              "#ed7953"
             ],
             [
              0.7777777777777778,
              "#fb9f3a"
             ],
             [
              0.8888888888888888,
              "#fdca26"
             ],
             [
              1,
              "#f0f921"
             ]
            ],
            "type": "heatmap"
           }
          ],
          "heatmapgl": [
           {
            "colorbar": {
             "outlinewidth": 0,
             "ticks": ""
            },
            "colorscale": [
             [
              0,
              "#0d0887"
             ],
             [
              0.1111111111111111,
              "#46039f"
             ],
             [
              0.2222222222222222,
              "#7201a8"
             ],
             [
              0.3333333333333333,
              "#9c179e"
             ],
             [
              0.4444444444444444,
              "#bd3786"
             ],
             [
              0.5555555555555556,
              "#d8576b"
             ],
             [
              0.6666666666666666,
              "#ed7953"
             ],
             [
              0.7777777777777778,
              "#fb9f3a"
             ],
             [
              0.8888888888888888,
              "#fdca26"
             ],
             [
              1,
              "#f0f921"
             ]
            ],
            "type": "heatmapgl"
           }
          ],
          "histogram": [
           {
            "marker": {
             "pattern": {
              "fillmode": "overlay",
              "size": 10,
              "solidity": 0.2
             }
            },
            "type": "histogram"
           }
          ],
          "histogram2d": [
           {
            "colorbar": {
             "outlinewidth": 0,
             "ticks": ""
            },
            "colorscale": [
             [
              0,
              "#0d0887"
             ],
             [
              0.1111111111111111,
              "#46039f"
             ],
             [
              0.2222222222222222,
              "#7201a8"
             ],
             [
              0.3333333333333333,
              "#9c179e"
             ],
             [
              0.4444444444444444,
              "#bd3786"
             ],
             [
              0.5555555555555556,
              "#d8576b"
             ],
             [
              0.6666666666666666,
              "#ed7953"
             ],
             [
              0.7777777777777778,
              "#fb9f3a"
             ],
             [
              0.8888888888888888,
              "#fdca26"
             ],
             [
              1,
              "#f0f921"
             ]
            ],
            "type": "histogram2d"
           }
          ],
          "histogram2dcontour": [
           {
            "colorbar": {
             "outlinewidth": 0,
             "ticks": ""
            },
            "colorscale": [
             [
              0,
              "#0d0887"
             ],
             [
              0.1111111111111111,
              "#46039f"
             ],
             [
              0.2222222222222222,
              "#7201a8"
             ],
             [
              0.3333333333333333,
              "#9c179e"
             ],
             [
              0.4444444444444444,
              "#bd3786"
             ],
             [
              0.5555555555555556,
              "#d8576b"
             ],
             [
              0.6666666666666666,
              "#ed7953"
             ],
             [
              0.7777777777777778,
              "#fb9f3a"
             ],
             [
              0.8888888888888888,
              "#fdca26"
             ],
             [
              1,
              "#f0f921"
             ]
            ],
            "type": "histogram2dcontour"
           }
          ],
          "mesh3d": [
           {
            "colorbar": {
             "outlinewidth": 0,
             "ticks": ""
            },
            "type": "mesh3d"
           }
          ],
          "parcoords": [
           {
            "line": {
             "colorbar": {
              "outlinewidth": 0,
              "ticks": ""
             }
            },
            "type": "parcoords"
           }
          ],
          "pie": [
           {
            "automargin": true,
            "type": "pie"
           }
          ],
          "scatter": [
           {
            "fillpattern": {
             "fillmode": "overlay",
             "size": 10,
             "solidity": 0.2
            },
            "type": "scatter"
           }
          ],
          "scatter3d": [
           {
            "line": {
             "colorbar": {
              "outlinewidth": 0,
              "ticks": ""
             }
            },
            "marker": {
             "colorbar": {
              "outlinewidth": 0,
              "ticks": ""
             }
            },
            "type": "scatter3d"
           }
          ],
          "scattercarpet": [
           {
            "marker": {
             "colorbar": {
              "outlinewidth": 0,
              "ticks": ""
             }
            },
            "type": "scattercarpet"
           }
          ],
          "scattergeo": [
           {
            "marker": {
             "colorbar": {
              "outlinewidth": 0,
              "ticks": ""
             }
            },
            "type": "scattergeo"
           }
          ],
          "scattergl": [
           {
            "marker": {
             "colorbar": {
              "outlinewidth": 0,
              "ticks": ""
             }
            },
            "type": "scattergl"
           }
          ],
          "scattermapbox": [
           {
            "marker": {
             "colorbar": {
              "outlinewidth": 0,
              "ticks": ""
             }
            },
            "type": "scattermapbox"
           }
          ],
          "scatterpolar": [
           {
            "marker": {
             "colorbar": {
              "outlinewidth": 0,
              "ticks": ""
             }
            },
            "type": "scatterpolar"
           }
          ],
          "scatterpolargl": [
           {
            "marker": {
             "colorbar": {
              "outlinewidth": 0,
              "ticks": ""
             }
            },
            "type": "scatterpolargl"
           }
          ],
          "scatterternary": [
           {
            "marker": {
             "colorbar": {
              "outlinewidth": 0,
              "ticks": ""
             }
            },
            "type": "scatterternary"
           }
          ],
          "surface": [
           {
            "colorbar": {
             "outlinewidth": 0,
             "ticks": ""
            },
            "colorscale": [
             [
              0,
              "#0d0887"
             ],
             [
              0.1111111111111111,
              "#46039f"
             ],
             [
              0.2222222222222222,
              "#7201a8"
             ],
             [
              0.3333333333333333,
              "#9c179e"
             ],
             [
              0.4444444444444444,
              "#bd3786"
             ],
             [
              0.5555555555555556,
              "#d8576b"
             ],
             [
              0.6666666666666666,
              "#ed7953"
             ],
             [
              0.7777777777777778,
              "#fb9f3a"
             ],
             [
              0.8888888888888888,
              "#fdca26"
             ],
             [
              1,
              "#f0f921"
             ]
            ],
            "type": "surface"
           }
          ],
          "table": [
           {
            "cells": {
             "fill": {
              "color": "#EBF0F8"
             },
             "line": {
              "color": "white"
             }
            },
            "header": {
             "fill": {
              "color": "#C8D4E3"
             },
             "line": {
              "color": "white"
             }
            },
            "type": "table"
           }
          ]
         },
         "layout": {
          "annotationdefaults": {
           "arrowcolor": "#2a3f5f",
           "arrowhead": 0,
           "arrowwidth": 1
          },
          "autotypenumbers": "strict",
          "coloraxis": {
           "colorbar": {
            "outlinewidth": 0,
            "ticks": ""
           }
          },
          "colorscale": {
           "diverging": [
            [
             0,
             "#8e0152"
            ],
            [
             0.1,
             "#c51b7d"
            ],
            [
             0.2,
             "#de77ae"
            ],
            [
             0.3,
             "#f1b6da"
            ],
            [
             0.4,
             "#fde0ef"
            ],
            [
             0.5,
             "#f7f7f7"
            ],
            [
             0.6,
             "#e6f5d0"
            ],
            [
             0.7,
             "#b8e186"
            ],
            [
             0.8,
             "#7fbc41"
            ],
            [
             0.9,
             "#4d9221"
            ],
            [
             1,
             "#276419"
            ]
           ],
           "sequential": [
            [
             0,
             "#0d0887"
            ],
            [
             0.1111111111111111,
             "#46039f"
            ],
            [
             0.2222222222222222,
             "#7201a8"
            ],
            [
             0.3333333333333333,
             "#9c179e"
            ],
            [
             0.4444444444444444,
             "#bd3786"
            ],
            [
             0.5555555555555556,
             "#d8576b"
            ],
            [
             0.6666666666666666,
             "#ed7953"
            ],
            [
             0.7777777777777778,
             "#fb9f3a"
            ],
            [
             0.8888888888888888,
             "#fdca26"
            ],
            [
             1,
             "#f0f921"
            ]
           ],
           "sequentialminus": [
            [
             0,
             "#0d0887"
            ],
            [
             0.1111111111111111,
             "#46039f"
            ],
            [
             0.2222222222222222,
             "#7201a8"
            ],
            [
             0.3333333333333333,
             "#9c179e"
            ],
            [
             0.4444444444444444,
             "#bd3786"
            ],
            [
             0.5555555555555556,
             "#d8576b"
            ],
            [
             0.6666666666666666,
             "#ed7953"
            ],
            [
             0.7777777777777778,
             "#fb9f3a"
            ],
            [
             0.8888888888888888,
             "#fdca26"
            ],
            [
             1,
             "#f0f921"
            ]
           ]
          },
          "colorway": [
           "#636efa",
           "#EF553B",
           "#00cc96",
           "#ab63fa",
           "#FFA15A",
           "#19d3f3",
           "#FF6692",
           "#B6E880",
           "#FF97FF",
           "#FECB52"
          ],
          "font": {
           "color": "#2a3f5f"
          },
          "geo": {
           "bgcolor": "white",
           "lakecolor": "white",
           "landcolor": "#E5ECF6",
           "showlakes": true,
           "showland": true,
           "subunitcolor": "white"
          },
          "hoverlabel": {
           "align": "left"
          },
          "hovermode": "closest",
          "mapbox": {
           "style": "light"
          },
          "paper_bgcolor": "white",
          "plot_bgcolor": "#E5ECF6",
          "polar": {
           "angularaxis": {
            "gridcolor": "white",
            "linecolor": "white",
            "ticks": ""
           },
           "bgcolor": "#E5ECF6",
           "radialaxis": {
            "gridcolor": "white",
            "linecolor": "white",
            "ticks": ""
           }
          },
          "scene": {
           "xaxis": {
            "backgroundcolor": "#E5ECF6",
            "gridcolor": "white",
            "gridwidth": 2,
            "linecolor": "white",
            "showbackground": true,
            "ticks": "",
            "zerolinecolor": "white"
           },
           "yaxis": {
            "backgroundcolor": "#E5ECF6",
            "gridcolor": "white",
            "gridwidth": 2,
            "linecolor": "white",
            "showbackground": true,
            "ticks": "",
            "zerolinecolor": "white"
           },
           "zaxis": {
            "backgroundcolor": "#E5ECF6",
            "gridcolor": "white",
            "gridwidth": 2,
            "linecolor": "white",
            "showbackground": true,
            "ticks": "",
            "zerolinecolor": "white"
           }
          },
          "shapedefaults": {
           "line": {
            "color": "#2a3f5f"
           }
          },
          "ternary": {
           "aaxis": {
            "gridcolor": "white",
            "linecolor": "white",
            "ticks": ""
           },
           "baxis": {
            "gridcolor": "white",
            "linecolor": "white",
            "ticks": ""
           },
           "bgcolor": "#E5ECF6",
           "caxis": {
            "gridcolor": "white",
            "linecolor": "white",
            "ticks": ""
           }
          },
          "title": {
           "x": 0.05
          },
          "xaxis": {
           "automargin": true,
           "gridcolor": "white",
           "linecolor": "white",
           "ticks": "",
           "title": {
            "standoff": 15
           },
           "zerolinecolor": "white",
           "zerolinewidth": 2
          },
          "yaxis": {
           "automargin": true,
           "gridcolor": "white",
           "linecolor": "white",
           "ticks": "",
           "title": {
            "standoff": 15
           },
           "zerolinecolor": "white",
           "zerolinewidth": 2
          }
         }
        },
        "title": {
         "text": "Top 5 Number of Debris Items Collected By Category, 2013-23"
        },
        "width": 1000,
        "xaxis": {
         "anchor": "y",
         "autorange": true,
         "domain": [
          0,
          1
         ],
         "range": [
          2012.5,
          2023.5
         ],
         "title": {
          "text": "Year"
         },
         "type": "linear"
        },
        "yaxis": {
         "anchor": "x",
         "autorange": true,
         "domain": [
          0,
          1
         ],
         "range": [
          0,
          269715.7894736842
         ],
         "title": {
          "text": "Number of Debris Items"
         },
         "type": "linear"
        }
       }
      },
      "text/html": [
       "<div>                            <div id=\"cfe780f6-4b34-4bb0-912a-1dcf1494434f\" class=\"plotly-graph-div\" style=\"height:700px; width:1000px;\"></div>            <script type=\"text/javascript\">                require([\"plotly\"], function(Plotly) {                    window.PLOTLYENV=window.PLOTLYENV || {};                                    if (document.getElementById(\"cfe780f6-4b34-4bb0-912a-1dcf1494434f\")) {                    Plotly.newPlot(                        \"cfe780f6-4b34-4bb0-912a-1dcf1494434f\",                        [{\"alignmentgroup\":\"True\",\"hovertemplate\":\"variable=Plastic Pieces\\u003cbr\\u003eindex=%{x}\\u003cbr\\u003evalue=%{y}\\u003cextra\\u003e\\u003c\\u002fextra\\u003e\",\"legendgroup\":\"Plastic Pieces\",\"marker\":{\"color\":\"#636efa\",\"pattern\":{\"shape\":\"\"}},\"name\":\"Plastic Pieces\",\"offsetgroup\":\"Plastic Pieces\",\"orientation\":\"v\",\"showlegend\":true,\"textposition\":\"auto\",\"x\":[2013,2014,2015,2016,2017,2018,2019,2020,2021,2022,2023],\"xaxis\":\"x\",\"y\":[53236.0,71803.0,31440.0,43322.0,27785.5,40469.0,55116.0,14907.0,43820.0,47164.0,55038.0],\"yaxis\":\"y\",\"type\":\"bar\"},{\"alignmentgroup\":\"True\",\"hovertemplate\":\"variable=Cigarette Butts\\u003cbr\\u003eindex=%{x}\\u003cbr\\u003evalue=%{y}\\u003cextra\\u003e\\u003c\\u002fextra\\u003e\",\"legendgroup\":\"Cigarette Butts\",\"marker\":{\"color\":\"#EF553B\",\"pattern\":{\"shape\":\"\"}},\"name\":\"Cigarette Butts\",\"offsetgroup\":\"Cigarette Butts\",\"orientation\":\"v\",\"showlegend\":true,\"textposition\":\"auto\",\"x\":[2013,2014,2015,2016,2017,2018,2019,2020,2021,2022,2023],\"xaxis\":\"x\",\"y\":[81642.0,111884.0,56423.0,33684.0,21251.0,34815.0,24202.0,12380.0,18464.0,23115.0,21498.0],\"yaxis\":\"y\",\"type\":\"bar\"},{\"alignmentgroup\":\"True\",\"hovertemplate\":\"variable=Food Wrappers\\u003cbr\\u003eindex=%{x}\\u003cbr\\u003evalue=%{y}\\u003cextra\\u003e\\u003c\\u002fextra\\u003e\",\"legendgroup\":\"Food Wrappers\",\"marker\":{\"color\":\"#00cc96\",\"pattern\":{\"shape\":\"\"}},\"name\":\"Food Wrappers\",\"offsetgroup\":\"Food Wrappers\",\"orientation\":\"v\",\"showlegend\":true,\"textposition\":\"auto\",\"x\":[2013,2014,2015,2016,2017,2018,2019,2020,2021,2022,2023],\"xaxis\":\"x\",\"y\":[24397.0,28110.0,16142.0,12632.0,11425.0,16437.0,17333.0,6513.0,13373.0,18128.0,16988.0],\"yaxis\":\"y\",\"type\":\"bar\"},{\"alignmentgroup\":\"True\",\"hovertemplate\":\"variable=Paper Pieces\\u003cbr\\u003eindex=%{x}\\u003cbr\\u003evalue=%{y}\\u003cextra\\u003e\\u003c\\u002fextra\\u003e\",\"legendgroup\":\"Paper Pieces\",\"marker\":{\"color\":\"#ab63fa\",\"pattern\":{\"shape\":\"\"}},\"name\":\"Paper Pieces\",\"offsetgroup\":\"Paper Pieces\",\"orientation\":\"v\",\"showlegend\":true,\"textposition\":\"auto\",\"x\":[2013,2014,2015,2016,2017,2018,2019,2020,2021,2022,2023],\"xaxis\":\"x\",\"y\":[17242.0,23901.0,8493.0,6783.0,7043.0,15017.0,17738.0,4727.0,11733.0,19817.0,16650.0],\"yaxis\":\"y\",\"type\":\"bar\"},{\"alignmentgroup\":\"True\",\"hovertemplate\":\"variable=Glass Pieces\\u003cbr\\u003eindex=%{x}\\u003cbr\\u003evalue=%{y}\\u003cextra\\u003e\\u003c\\u002fextra\\u003e\",\"legendgroup\":\"Glass Pieces\",\"marker\":{\"color\":\"#FFA15A\",\"pattern\":{\"shape\":\"\"}},\"name\":\"Glass Pieces\",\"offsetgroup\":\"Glass Pieces\",\"orientation\":\"v\",\"showlegend\":true,\"textposition\":\"auto\",\"x\":[2013,2014,2015,2016,2017,2018,2019,2020,2021,2022,2023],\"xaxis\":\"x\",\"y\":[18196.0,20532.0,12865.0,13290.0,4103.0,8584.0,8823.0,1288.0,11356.0,5369.0,4605.0],\"yaxis\":\"y\",\"type\":\"bar\"}],                        {\"template\":{\"data\":{\"histogram2dcontour\":[{\"type\":\"histogram2dcontour\",\"colorbar\":{\"outlinewidth\":0,\"ticks\":\"\"},\"colorscale\":[[0.0,\"#0d0887\"],[0.1111111111111111,\"#46039f\"],[0.2222222222222222,\"#7201a8\"],[0.3333333333333333,\"#9c179e\"],[0.4444444444444444,\"#bd3786\"],[0.5555555555555556,\"#d8576b\"],[0.6666666666666666,\"#ed7953\"],[0.7777777777777778,\"#fb9f3a\"],[0.8888888888888888,\"#fdca26\"],[1.0,\"#f0f921\"]]}],\"choropleth\":[{\"type\":\"choropleth\",\"colorbar\":{\"outlinewidth\":0,\"ticks\":\"\"}}],\"histogram2d\":[{\"type\":\"histogram2d\",\"colorbar\":{\"outlinewidth\":0,\"ticks\":\"\"},\"colorscale\":[[0.0,\"#0d0887\"],[0.1111111111111111,\"#46039f\"],[0.2222222222222222,\"#7201a8\"],[0.3333333333333333,\"#9c179e\"],[0.4444444444444444,\"#bd3786\"],[0.5555555555555556,\"#d8576b\"],[0.6666666666666666,\"#ed7953\"],[0.7777777777777778,\"#fb9f3a\"],[0.8888888888888888,\"#fdca26\"],[1.0,\"#f0f921\"]]}],\"heatmap\":[{\"type\":\"heatmap\",\"colorbar\":{\"outlinewidth\":0,\"ticks\":\"\"},\"colorscale\":[[0.0,\"#0d0887\"],[0.1111111111111111,\"#46039f\"],[0.2222222222222222,\"#7201a8\"],[0.3333333333333333,\"#9c179e\"],[0.4444444444444444,\"#bd3786\"],[0.5555555555555556,\"#d8576b\"],[0.6666666666666666,\"#ed7953\"],[0.7777777777777778,\"#fb9f3a\"],[0.8888888888888888,\"#fdca26\"],[1.0,\"#f0f921\"]]}],\"heatmapgl\":[{\"type\":\"heatmapgl\",\"colorbar\":{\"outlinewidth\":0,\"ticks\":\"\"},\"colorscale\":[[0.0,\"#0d0887\"],[0.1111111111111111,\"#46039f\"],[0.2222222222222222,\"#7201a8\"],[0.3333333333333333,\"#9c179e\"],[0.4444444444444444,\"#bd3786\"],[0.5555555555555556,\"#d8576b\"],[0.6666666666666666,\"#ed7953\"],[0.7777777777777778,\"#fb9f3a\"],[0.8888888888888888,\"#fdca26\"],[1.0,\"#f0f921\"]]}],\"contourcarpet\":[{\"type\":\"contourcarpet\",\"colorbar\":{\"outlinewidth\":0,\"ticks\":\"\"}}],\"contour\":[{\"type\":\"contour\",\"colorbar\":{\"outlinewidth\":0,\"ticks\":\"\"},\"colorscale\":[[0.0,\"#0d0887\"],[0.1111111111111111,\"#46039f\"],[0.2222222222222222,\"#7201a8\"],[0.3333333333333333,\"#9c179e\"],[0.4444444444444444,\"#bd3786\"],[0.5555555555555556,\"#d8576b\"],[0.6666666666666666,\"#ed7953\"],[0.7777777777777778,\"#fb9f3a\"],[0.8888888888888888,\"#fdca26\"],[1.0,\"#f0f921\"]]}],\"surface\":[{\"type\":\"surface\",\"colorbar\":{\"outlinewidth\":0,\"ticks\":\"\"},\"colorscale\":[[0.0,\"#0d0887\"],[0.1111111111111111,\"#46039f\"],[0.2222222222222222,\"#7201a8\"],[0.3333333333333333,\"#9c179e\"],[0.4444444444444444,\"#bd3786\"],[0.5555555555555556,\"#d8576b\"],[0.6666666666666666,\"#ed7953\"],[0.7777777777777778,\"#fb9f3a\"],[0.8888888888888888,\"#fdca26\"],[1.0,\"#f0f921\"]]}],\"mesh3d\":[{\"type\":\"mesh3d\",\"colorbar\":{\"outlinewidth\":0,\"ticks\":\"\"}}],\"scatter\":[{\"fillpattern\":{\"fillmode\":\"overlay\",\"size\":10,\"solidity\":0.2},\"type\":\"scatter\"}],\"parcoords\":[{\"type\":\"parcoords\",\"line\":{\"colorbar\":{\"outlinewidth\":0,\"ticks\":\"\"}}}],\"scatterpolargl\":[{\"type\":\"scatterpolargl\",\"marker\":{\"colorbar\":{\"outlinewidth\":0,\"ticks\":\"\"}}}],\"bar\":[{\"error_x\":{\"color\":\"#2a3f5f\"},\"error_y\":{\"color\":\"#2a3f5f\"},\"marker\":{\"line\":{\"color\":\"#E5ECF6\",\"width\":0.5},\"pattern\":{\"fillmode\":\"overlay\",\"size\":10,\"solidity\":0.2}},\"type\":\"bar\"}],\"scattergeo\":[{\"type\":\"scattergeo\",\"marker\":{\"colorbar\":{\"outlinewidth\":0,\"ticks\":\"\"}}}],\"scatterpolar\":[{\"type\":\"scatterpolar\",\"marker\":{\"colorbar\":{\"outlinewidth\":0,\"ticks\":\"\"}}}],\"histogram\":[{\"marker\":{\"pattern\":{\"fillmode\":\"overlay\",\"size\":10,\"solidity\":0.2}},\"type\":\"histogram\"}],\"scattergl\":[{\"type\":\"scattergl\",\"marker\":{\"colorbar\":{\"outlinewidth\":0,\"ticks\":\"\"}}}],\"scatter3d\":[{\"type\":\"scatter3d\",\"line\":{\"colorbar\":{\"outlinewidth\":0,\"ticks\":\"\"}},\"marker\":{\"colorbar\":{\"outlinewidth\":0,\"ticks\":\"\"}}}],\"scattermapbox\":[{\"type\":\"scattermapbox\",\"marker\":{\"colorbar\":{\"outlinewidth\":0,\"ticks\":\"\"}}}],\"scatterternary\":[{\"type\":\"scatterternary\",\"marker\":{\"colorbar\":{\"outlinewidth\":0,\"ticks\":\"\"}}}],\"scattercarpet\":[{\"type\":\"scattercarpet\",\"marker\":{\"colorbar\":{\"outlinewidth\":0,\"ticks\":\"\"}}}],\"carpet\":[{\"aaxis\":{\"endlinecolor\":\"#2a3f5f\",\"gridcolor\":\"white\",\"linecolor\":\"white\",\"minorgridcolor\":\"white\",\"startlinecolor\":\"#2a3f5f\"},\"baxis\":{\"endlinecolor\":\"#2a3f5f\",\"gridcolor\":\"white\",\"linecolor\":\"white\",\"minorgridcolor\":\"white\",\"startlinecolor\":\"#2a3f5f\"},\"type\":\"carpet\"}],\"table\":[{\"cells\":{\"fill\":{\"color\":\"#EBF0F8\"},\"line\":{\"color\":\"white\"}},\"header\":{\"fill\":{\"color\":\"#C8D4E3\"},\"line\":{\"color\":\"white\"}},\"type\":\"table\"}],\"barpolar\":[{\"marker\":{\"line\":{\"color\":\"#E5ECF6\",\"width\":0.5},\"pattern\":{\"fillmode\":\"overlay\",\"size\":10,\"solidity\":0.2}},\"type\":\"barpolar\"}],\"pie\":[{\"automargin\":true,\"type\":\"pie\"}]},\"layout\":{\"autotypenumbers\":\"strict\",\"colorway\":[\"#636efa\",\"#EF553B\",\"#00cc96\",\"#ab63fa\",\"#FFA15A\",\"#19d3f3\",\"#FF6692\",\"#B6E880\",\"#FF97FF\",\"#FECB52\"],\"font\":{\"color\":\"#2a3f5f\"},\"hovermode\":\"closest\",\"hoverlabel\":{\"align\":\"left\"},\"paper_bgcolor\":\"white\",\"plot_bgcolor\":\"#E5ECF6\",\"polar\":{\"bgcolor\":\"#E5ECF6\",\"angularaxis\":{\"gridcolor\":\"white\",\"linecolor\":\"white\",\"ticks\":\"\"},\"radialaxis\":{\"gridcolor\":\"white\",\"linecolor\":\"white\",\"ticks\":\"\"}},\"ternary\":{\"bgcolor\":\"#E5ECF6\",\"aaxis\":{\"gridcolor\":\"white\",\"linecolor\":\"white\",\"ticks\":\"\"},\"baxis\":{\"gridcolor\":\"white\",\"linecolor\":\"white\",\"ticks\":\"\"},\"caxis\":{\"gridcolor\":\"white\",\"linecolor\":\"white\",\"ticks\":\"\"}},\"coloraxis\":{\"colorbar\":{\"outlinewidth\":0,\"ticks\":\"\"}},\"colorscale\":{\"sequential\":[[0.0,\"#0d0887\"],[0.1111111111111111,\"#46039f\"],[0.2222222222222222,\"#7201a8\"],[0.3333333333333333,\"#9c179e\"],[0.4444444444444444,\"#bd3786\"],[0.5555555555555556,\"#d8576b\"],[0.6666666666666666,\"#ed7953\"],[0.7777777777777778,\"#fb9f3a\"],[0.8888888888888888,\"#fdca26\"],[1.0,\"#f0f921\"]],\"sequentialminus\":[[0.0,\"#0d0887\"],[0.1111111111111111,\"#46039f\"],[0.2222222222222222,\"#7201a8\"],[0.3333333333333333,\"#9c179e\"],[0.4444444444444444,\"#bd3786\"],[0.5555555555555556,\"#d8576b\"],[0.6666666666666666,\"#ed7953\"],[0.7777777777777778,\"#fb9f3a\"],[0.8888888888888888,\"#fdca26\"],[1.0,\"#f0f921\"]],\"diverging\":[[0,\"#8e0152\"],[0.1,\"#c51b7d\"],[0.2,\"#de77ae\"],[0.3,\"#f1b6da\"],[0.4,\"#fde0ef\"],[0.5,\"#f7f7f7\"],[0.6,\"#e6f5d0\"],[0.7,\"#b8e186\"],[0.8,\"#7fbc41\"],[0.9,\"#4d9221\"],[1,\"#276419\"]]},\"xaxis\":{\"gridcolor\":\"white\",\"linecolor\":\"white\",\"ticks\":\"\",\"title\":{\"standoff\":15},\"zerolinecolor\":\"white\",\"automargin\":true,\"zerolinewidth\":2},\"yaxis\":{\"gridcolor\":\"white\",\"linecolor\":\"white\",\"ticks\":\"\",\"title\":{\"standoff\":15},\"zerolinecolor\":\"white\",\"automargin\":true,\"zerolinewidth\":2},\"scene\":{\"xaxis\":{\"backgroundcolor\":\"#E5ECF6\",\"gridcolor\":\"white\",\"linecolor\":\"white\",\"showbackground\":true,\"ticks\":\"\",\"zerolinecolor\":\"white\",\"gridwidth\":2},\"yaxis\":{\"backgroundcolor\":\"#E5ECF6\",\"gridcolor\":\"white\",\"linecolor\":\"white\",\"showbackground\":true,\"ticks\":\"\",\"zerolinecolor\":\"white\",\"gridwidth\":2},\"zaxis\":{\"backgroundcolor\":\"#E5ECF6\",\"gridcolor\":\"white\",\"linecolor\":\"white\",\"showbackground\":true,\"ticks\":\"\",\"zerolinecolor\":\"white\",\"gridwidth\":2}},\"shapedefaults\":{\"line\":{\"color\":\"#2a3f5f\"}},\"annotationdefaults\":{\"arrowcolor\":\"#2a3f5f\",\"arrowhead\":0,\"arrowwidth\":1},\"geo\":{\"bgcolor\":\"white\",\"landcolor\":\"#E5ECF6\",\"subunitcolor\":\"white\",\"showland\":true,\"showlakes\":true,\"lakecolor\":\"white\"},\"title\":{\"x\":0.05},\"mapbox\":{\"style\":\"light\"}}},\"xaxis\":{\"anchor\":\"y\",\"domain\":[0.0,1.0],\"title\":{\"text\":\"Year\"}},\"yaxis\":{\"anchor\":\"x\",\"domain\":[0.0,1.0],\"title\":{\"text\":\"Number of Debris Items\"}},\"legend\":{\"title\":{\"text\":\"Debris Category\"},\"tracegroupgap\":0},\"margin\":{\"t\":60},\"barmode\":\"relative\",\"autosize\":false,\"width\":1000,\"height\":700,\"title\":{\"text\":\"Top 5 Number of Debris Items Collected By Category, 2013-23\"}},                        {\"responsive\": true}                    ).then(function(){\n",
       "                            \n",
       "var gd = document.getElementById('cfe780f6-4b34-4bb0-912a-1dcf1494434f');\n",
       "var x = new MutationObserver(function (mutations, observer) {{\n",
       "        var display = window.getComputedStyle(gd).display;\n",
       "        if (!display || display === 'none') {{\n",
       "            console.log([gd, 'removed!']);\n",
       "            Plotly.purge(gd);\n",
       "            observer.disconnect();\n",
       "        }}\n",
       "}});\n",
       "\n",
       "// Listen for the removal of the full notebook cells\n",
       "var notebookContainer = gd.closest('#notebook-container');\n",
       "if (notebookContainer) {{\n",
       "    x.observe(notebookContainer, {childList: true});\n",
       "}}\n",
       "\n",
       "// Listen for the clearing of the current output cell\n",
       "var outputEl = gd.closest('.output');\n",
       "if (outputEl) {{\n",
       "    x.observe(outputEl, {childList: true});\n",
       "}}\n",
       "\n",
       "                        })                };                });            </script>        </div>"
      ]
     },
     "metadata": {},
     "output_type": "display_data"
    }
   ],
   "source": [
    "# Top 5 items over the years\n",
    "fig = graph_maker.annual_total_bar(item_nbr=5)\n",
    "fig.show()"
   ]
  },
  {
   "cell_type": "markdown",
   "id": "2be3fffa-977f-4e5f-8846-0ca0ea9981e4",
   "metadata": {},
   "source": [
    "## Total Number of Volunteers Each Year\n",
    "Plot the total number of volunteers over the years. Total volunteers are defined as Adult Volunteers + 0.5 * Youth Volunteers, just like in the NOAA marine debris report."
   ]
  },
  {
   "cell_type": "code",
   "execution_count": 9,
   "id": "2f4b4091-7b03-48ee-9e7b-892315171da8",
   "metadata": {},
   "outputs": [
    {
     "data": {
      "application/vnd.plotly.v1+json": {
       "config": {
        "plotlyServerURL": "https://plot.ly"
       },
       "data": [
        {
         "alignmentgroup": "True",
         "hovertemplate": "index=%{x}<br>Total Volunteers=%{y}<extra></extra>",
         "legendgroup": "",
         "marker": {
          "color": "#00b5e2",
          "pattern": {
           "shape": ""
          }
         },
         "name": "",
         "offsetgroup": "",
         "orientation": "v",
         "showlegend": false,
         "textposition": "auto",
         "type": "bar",
         "x": [
          2013,
          2014,
          2015,
          2016,
          2017,
          2018,
          2019,
          2020,
          2021,
          2022,
          2023
         ],
         "xaxis": "x",
         "y": [
          9184,
          9318,
          7715,
          6319,
          5594,
          5785,
          6392.5,
          1571.5,
          3027.5,
          3829,
          3965.5
         ],
         "yaxis": "y"
        }
       ],
       "layout": {
        "autosize": false,
        "barmode": "relative",
        "height": 400,
        "legend": {
         "tracegroupgap": 0
        },
        "template": {
         "data": {
          "bar": [
           {
            "error_x": {
             "color": "#2a3f5f"
            },
            "error_y": {
             "color": "#2a3f5f"
            },
            "marker": {
             "line": {
              "color": "#E5ECF6",
              "width": 0.5
             },
             "pattern": {
              "fillmode": "overlay",
              "size": 10,
              "solidity": 0.2
             }
            },
            "type": "bar"
           }
          ],
          "barpolar": [
           {
            "marker": {
             "line": {
              "color": "#E5ECF6",
              "width": 0.5
             },
             "pattern": {
              "fillmode": "overlay",
              "size": 10,
              "solidity": 0.2
             }
            },
            "type": "barpolar"
           }
          ],
          "carpet": [
           {
            "aaxis": {
             "endlinecolor": "#2a3f5f",
             "gridcolor": "white",
             "linecolor": "white",
             "minorgridcolor": "white",
             "startlinecolor": "#2a3f5f"
            },
            "baxis": {
             "endlinecolor": "#2a3f5f",
             "gridcolor": "white",
             "linecolor": "white",
             "minorgridcolor": "white",
             "startlinecolor": "#2a3f5f"
            },
            "type": "carpet"
           }
          ],
          "choropleth": [
           {
            "colorbar": {
             "outlinewidth": 0,
             "ticks": ""
            },
            "type": "choropleth"
           }
          ],
          "contour": [
           {
            "colorbar": {
             "outlinewidth": 0,
             "ticks": ""
            },
            "colorscale": [
             [
              0,
              "#0d0887"
             ],
             [
              0.1111111111111111,
              "#46039f"
             ],
             [
              0.2222222222222222,
              "#7201a8"
             ],
             [
              0.3333333333333333,
              "#9c179e"
             ],
             [
              0.4444444444444444,
              "#bd3786"
             ],
             [
              0.5555555555555556,
              "#d8576b"
             ],
             [
              0.6666666666666666,
              "#ed7953"
             ],
             [
              0.7777777777777778,
              "#fb9f3a"
             ],
             [
              0.8888888888888888,
              "#fdca26"
             ],
             [
              1,
              "#f0f921"
             ]
            ],
            "type": "contour"
           }
          ],
          "contourcarpet": [
           {
            "colorbar": {
             "outlinewidth": 0,
             "ticks": ""
            },
            "type": "contourcarpet"
           }
          ],
          "heatmap": [
           {
            "colorbar": {
             "outlinewidth": 0,
             "ticks": ""
            },
            "colorscale": [
             [
              0,
              "#0d0887"
             ],
             [
              0.1111111111111111,
              "#46039f"
             ],
             [
              0.2222222222222222,
              "#7201a8"
             ],
             [
              0.3333333333333333,
              "#9c179e"
             ],
             [
              0.4444444444444444,
              "#bd3786"
             ],
             [
              0.5555555555555556,
              "#d8576b"
             ],
             [
              0.6666666666666666,
              "#ed7953"
             ],
             [
              0.7777777777777778,
              "#fb9f3a"
             ],
             [
              0.8888888888888888,
              "#fdca26"
             ],
             [
              1,
              "#f0f921"
             ]
            ],
            "type": "heatmap"
           }
          ],
          "heatmapgl": [
           {
            "colorbar": {
             "outlinewidth": 0,
             "ticks": ""
            },
            "colorscale": [
             [
              0,
              "#0d0887"
             ],
             [
              0.1111111111111111,
              "#46039f"
             ],
             [
              0.2222222222222222,
              "#7201a8"
             ],
             [
              0.3333333333333333,
              "#9c179e"
             ],
             [
              0.4444444444444444,
              "#bd3786"
             ],
             [
              0.5555555555555556,
              "#d8576b"
             ],
             [
              0.6666666666666666,
              "#ed7953"
             ],
             [
              0.7777777777777778,
              "#fb9f3a"
             ],
             [
              0.8888888888888888,
              "#fdca26"
             ],
             [
              1,
              "#f0f921"
             ]
            ],
            "type": "heatmapgl"
           }
          ],
          "histogram": [
           {
            "marker": {
             "pattern": {
              "fillmode": "overlay",
              "size": 10,
              "solidity": 0.2
             }
            },
            "type": "histogram"
           }
          ],
          "histogram2d": [
           {
            "colorbar": {
             "outlinewidth": 0,
             "ticks": ""
            },
            "colorscale": [
             [
              0,
              "#0d0887"
             ],
             [
              0.1111111111111111,
              "#46039f"
             ],
             [
              0.2222222222222222,
              "#7201a8"
             ],
             [
              0.3333333333333333,
              "#9c179e"
             ],
             [
              0.4444444444444444,
              "#bd3786"
             ],
             [
              0.5555555555555556,
              "#d8576b"
             ],
             [
              0.6666666666666666,
              "#ed7953"
             ],
             [
              0.7777777777777778,
              "#fb9f3a"
             ],
             [
              0.8888888888888888,
              "#fdca26"
             ],
             [
              1,
              "#f0f921"
             ]
            ],
            "type": "histogram2d"
           }
          ],
          "histogram2dcontour": [
           {
            "colorbar": {
             "outlinewidth": 0,
             "ticks": ""
            },
            "colorscale": [
             [
              0,
              "#0d0887"
             ],
             [
              0.1111111111111111,
              "#46039f"
             ],
             [
              0.2222222222222222,
              "#7201a8"
             ],
             [
              0.3333333333333333,
              "#9c179e"
             ],
             [
              0.4444444444444444,
              "#bd3786"
             ],
             [
              0.5555555555555556,
              "#d8576b"
             ],
             [
              0.6666666666666666,
              "#ed7953"
             ],
             [
              0.7777777777777778,
              "#fb9f3a"
             ],
             [
              0.8888888888888888,
              "#fdca26"
             ],
             [
              1,
              "#f0f921"
             ]
            ],
            "type": "histogram2dcontour"
           }
          ],
          "mesh3d": [
           {
            "colorbar": {
             "outlinewidth": 0,
             "ticks": ""
            },
            "type": "mesh3d"
           }
          ],
          "parcoords": [
           {
            "line": {
             "colorbar": {
              "outlinewidth": 0,
              "ticks": ""
             }
            },
            "type": "parcoords"
           }
          ],
          "pie": [
           {
            "automargin": true,
            "type": "pie"
           }
          ],
          "scatter": [
           {
            "fillpattern": {
             "fillmode": "overlay",
             "size": 10,
             "solidity": 0.2
            },
            "type": "scatter"
           }
          ],
          "scatter3d": [
           {
            "line": {
             "colorbar": {
              "outlinewidth": 0,
              "ticks": ""
             }
            },
            "marker": {
             "colorbar": {
              "outlinewidth": 0,
              "ticks": ""
             }
            },
            "type": "scatter3d"
           }
          ],
          "scattercarpet": [
           {
            "marker": {
             "colorbar": {
              "outlinewidth": 0,
              "ticks": ""
             }
            },
            "type": "scattercarpet"
           }
          ],
          "scattergeo": [
           {
            "marker": {
             "colorbar": {
              "outlinewidth": 0,
              "ticks": ""
             }
            },
            "type": "scattergeo"
           }
          ],
          "scattergl": [
           {
            "marker": {
             "colorbar": {
              "outlinewidth": 0,
              "ticks": ""
             }
            },
            "type": "scattergl"
           }
          ],
          "scattermapbox": [
           {
            "marker": {
             "colorbar": {
              "outlinewidth": 0,
              "ticks": ""
             }
            },
            "type": "scattermapbox"
           }
          ],
          "scatterpolar": [
           {
            "marker": {
             "colorbar": {
              "outlinewidth": 0,
              "ticks": ""
             }
            },
            "type": "scatterpolar"
           }
          ],
          "scatterpolargl": [
           {
            "marker": {
             "colorbar": {
              "outlinewidth": 0,
              "ticks": ""
             }
            },
            "type": "scatterpolargl"
           }
          ],
          "scatterternary": [
           {
            "marker": {
             "colorbar": {
              "outlinewidth": 0,
              "ticks": ""
             }
            },
            "type": "scatterternary"
           }
          ],
          "surface": [
           {
            "colorbar": {
             "outlinewidth": 0,
             "ticks": ""
            },
            "colorscale": [
             [
              0,
              "#0d0887"
             ],
             [
              0.1111111111111111,
              "#46039f"
             ],
             [
              0.2222222222222222,
              "#7201a8"
             ],
             [
              0.3333333333333333,
              "#9c179e"
             ],
             [
              0.4444444444444444,
              "#bd3786"
             ],
             [
              0.5555555555555556,
              "#d8576b"
             ],
             [
              0.6666666666666666,
              "#ed7953"
             ],
             [
              0.7777777777777778,
              "#fb9f3a"
             ],
             [
              0.8888888888888888,
              "#fdca26"
             ],
             [
              1,
              "#f0f921"
             ]
            ],
            "type": "surface"
           }
          ],
          "table": [
           {
            "cells": {
             "fill": {
              "color": "#EBF0F8"
             },
             "line": {
              "color": "white"
             }
            },
            "header": {
             "fill": {
              "color": "#C8D4E3"
             },
             "line": {
              "color": "white"
             }
            },
            "type": "table"
           }
          ]
         },
         "layout": {
          "annotationdefaults": {
           "arrowcolor": "#2a3f5f",
           "arrowhead": 0,
           "arrowwidth": 1
          },
          "autotypenumbers": "strict",
          "coloraxis": {
           "colorbar": {
            "outlinewidth": 0,
            "ticks": ""
           }
          },
          "colorscale": {
           "diverging": [
            [
             0,
             "#8e0152"
            ],
            [
             0.1,
             "#c51b7d"
            ],
            [
             0.2,
             "#de77ae"
            ],
            [
             0.3,
             "#f1b6da"
            ],
            [
             0.4,
             "#fde0ef"
            ],
            [
             0.5,
             "#f7f7f7"
            ],
            [
             0.6,
             "#e6f5d0"
            ],
            [
             0.7,
             "#b8e186"
            ],
            [
             0.8,
             "#7fbc41"
            ],
            [
             0.9,
             "#4d9221"
            ],
            [
             1,
             "#276419"
            ]
           ],
           "sequential": [
            [
             0,
             "#0d0887"
            ],
            [
             0.1111111111111111,
             "#46039f"
            ],
            [
             0.2222222222222222,
             "#7201a8"
            ],
            [
             0.3333333333333333,
             "#9c179e"
            ],
            [
             0.4444444444444444,
             "#bd3786"
            ],
            [
             0.5555555555555556,
             "#d8576b"
            ],
            [
             0.6666666666666666,
             "#ed7953"
            ],
            [
             0.7777777777777778,
             "#fb9f3a"
            ],
            [
             0.8888888888888888,
             "#fdca26"
            ],
            [
             1,
             "#f0f921"
            ]
           ],
           "sequentialminus": [
            [
             0,
             "#0d0887"
            ],
            [
             0.1111111111111111,
             "#46039f"
            ],
            [
             0.2222222222222222,
             "#7201a8"
            ],
            [
             0.3333333333333333,
             "#9c179e"
            ],
            [
             0.4444444444444444,
             "#bd3786"
            ],
            [
             0.5555555555555556,
             "#d8576b"
            ],
            [
             0.6666666666666666,
             "#ed7953"
            ],
            [
             0.7777777777777778,
             "#fb9f3a"
            ],
            [
             0.8888888888888888,
             "#fdca26"
            ],
            [
             1,
             "#f0f921"
            ]
           ]
          },
          "colorway": [
           "#636efa",
           "#EF553B",
           "#00cc96",
           "#ab63fa",
           "#FFA15A",
           "#19d3f3",
           "#FF6692",
           "#B6E880",
           "#FF97FF",
           "#FECB52"
          ],
          "font": {
           "color": "#2a3f5f"
          },
          "geo": {
           "bgcolor": "white",
           "lakecolor": "white",
           "landcolor": "#E5ECF6",
           "showlakes": true,
           "showland": true,
           "subunitcolor": "white"
          },
          "hoverlabel": {
           "align": "left"
          },
          "hovermode": "closest",
          "mapbox": {
           "style": "light"
          },
          "paper_bgcolor": "white",
          "plot_bgcolor": "#E5ECF6",
          "polar": {
           "angularaxis": {
            "gridcolor": "white",
            "linecolor": "white",
            "ticks": ""
           },
           "bgcolor": "#E5ECF6",
           "radialaxis": {
            "gridcolor": "white",
            "linecolor": "white",
            "ticks": ""
           }
          },
          "scene": {
           "xaxis": {
            "backgroundcolor": "#E5ECF6",
            "gridcolor": "white",
            "gridwidth": 2,
            "linecolor": "white",
            "showbackground": true,
            "ticks": "",
            "zerolinecolor": "white"
           },
           "yaxis": {
            "backgroundcolor": "#E5ECF6",
            "gridcolor": "white",
            "gridwidth": 2,
            "linecolor": "white",
            "showbackground": true,
            "ticks": "",
            "zerolinecolor": "white"
           },
           "zaxis": {
            "backgroundcolor": "#E5ECF6",
            "gridcolor": "white",
            "gridwidth": 2,
            "linecolor": "white",
            "showbackground": true,
            "ticks": "",
            "zerolinecolor": "white"
           }
          },
          "shapedefaults": {
           "line": {
            "color": "#2a3f5f"
           }
          },
          "ternary": {
           "aaxis": {
            "gridcolor": "white",
            "linecolor": "white",
            "ticks": ""
           },
           "baxis": {
            "gridcolor": "white",
            "linecolor": "white",
            "ticks": ""
           },
           "bgcolor": "#E5ECF6",
           "caxis": {
            "gridcolor": "white",
            "linecolor": "white",
            "ticks": ""
           }
          },
          "title": {
           "x": 0.05
          },
          "xaxis": {
           "automargin": true,
           "gridcolor": "white",
           "linecolor": "white",
           "ticks": "",
           "title": {
            "standoff": 15
           },
           "zerolinecolor": "white",
           "zerolinewidth": 2
          },
          "yaxis": {
           "automargin": true,
           "gridcolor": "white",
           "linecolor": "white",
           "ticks": "",
           "title": {
            "standoff": 15
           },
           "zerolinecolor": "white",
           "zerolinewidth": 2
          }
         }
        },
        "title": {
         "text": "Total Number of Volunteers By Year"
        },
        "width": 850,
        "xaxis": {
         "anchor": "y",
         "autorange": true,
         "domain": [
          0,
          1
         ],
         "range": [
          2012.5,
          2023.5
         ],
         "title": {
          "text": "Year"
         },
         "type": "linear"
        },
        "yaxis": {
         "anchor": "x",
         "autorange": true,
         "domain": [
          0,
          1
         ],
         "range": [
          0,
          9808.421052631578
         ],
         "title": {
          "text": "Number of Volunteers"
         },
         "type": "linear"
        }
       }
      },
      "text/html": [
       "<div>                            <div id=\"4efa00e8-e409-4b3d-91b4-19f052dedfbb\" class=\"plotly-graph-div\" style=\"height:400px; width:850px;\"></div>            <script type=\"text/javascript\">                require([\"plotly\"], function(Plotly) {                    window.PLOTLYENV=window.PLOTLYENV || {};                                    if (document.getElementById(\"4efa00e8-e409-4b3d-91b4-19f052dedfbb\")) {                    Plotly.newPlot(                        \"4efa00e8-e409-4b3d-91b4-19f052dedfbb\",                        [{\"alignmentgroup\":\"True\",\"hovertemplate\":\"index=%{x}\\u003cbr\\u003eTotal Volunteers=%{y}\\u003cextra\\u003e\\u003c\\u002fextra\\u003e\",\"legendgroup\":\"\",\"marker\":{\"color\":\"#00b5e2\",\"pattern\":{\"shape\":\"\"}},\"name\":\"\",\"offsetgroup\":\"\",\"orientation\":\"v\",\"showlegend\":false,\"textposition\":\"auto\",\"x\":[2013,2014,2015,2016,2017,2018,2019,2020,2021,2022,2023],\"xaxis\":\"x\",\"y\":[9184.0,9318.0,7715.0,6319.0,5594.0,5785.0,6392.5,1571.5,3027.5,3829.0,3965.5],\"yaxis\":\"y\",\"type\":\"bar\"}],                        {\"template\":{\"data\":{\"histogram2dcontour\":[{\"type\":\"histogram2dcontour\",\"colorbar\":{\"outlinewidth\":0,\"ticks\":\"\"},\"colorscale\":[[0.0,\"#0d0887\"],[0.1111111111111111,\"#46039f\"],[0.2222222222222222,\"#7201a8\"],[0.3333333333333333,\"#9c179e\"],[0.4444444444444444,\"#bd3786\"],[0.5555555555555556,\"#d8576b\"],[0.6666666666666666,\"#ed7953\"],[0.7777777777777778,\"#fb9f3a\"],[0.8888888888888888,\"#fdca26\"],[1.0,\"#f0f921\"]]}],\"choropleth\":[{\"type\":\"choropleth\",\"colorbar\":{\"outlinewidth\":0,\"ticks\":\"\"}}],\"histogram2d\":[{\"type\":\"histogram2d\",\"colorbar\":{\"outlinewidth\":0,\"ticks\":\"\"},\"colorscale\":[[0.0,\"#0d0887\"],[0.1111111111111111,\"#46039f\"],[0.2222222222222222,\"#7201a8\"],[0.3333333333333333,\"#9c179e\"],[0.4444444444444444,\"#bd3786\"],[0.5555555555555556,\"#d8576b\"],[0.6666666666666666,\"#ed7953\"],[0.7777777777777778,\"#fb9f3a\"],[0.8888888888888888,\"#fdca26\"],[1.0,\"#f0f921\"]]}],\"heatmap\":[{\"type\":\"heatmap\",\"colorbar\":{\"outlinewidth\":0,\"ticks\":\"\"},\"colorscale\":[[0.0,\"#0d0887\"],[0.1111111111111111,\"#46039f\"],[0.2222222222222222,\"#7201a8\"],[0.3333333333333333,\"#9c179e\"],[0.4444444444444444,\"#bd3786\"],[0.5555555555555556,\"#d8576b\"],[0.6666666666666666,\"#ed7953\"],[0.7777777777777778,\"#fb9f3a\"],[0.8888888888888888,\"#fdca26\"],[1.0,\"#f0f921\"]]}],\"heatmapgl\":[{\"type\":\"heatmapgl\",\"colorbar\":{\"outlinewidth\":0,\"ticks\":\"\"},\"colorscale\":[[0.0,\"#0d0887\"],[0.1111111111111111,\"#46039f\"],[0.2222222222222222,\"#7201a8\"],[0.3333333333333333,\"#9c179e\"],[0.4444444444444444,\"#bd3786\"],[0.5555555555555556,\"#d8576b\"],[0.6666666666666666,\"#ed7953\"],[0.7777777777777778,\"#fb9f3a\"],[0.8888888888888888,\"#fdca26\"],[1.0,\"#f0f921\"]]}],\"contourcarpet\":[{\"type\":\"contourcarpet\",\"colorbar\":{\"outlinewidth\":0,\"ticks\":\"\"}}],\"contour\":[{\"type\":\"contour\",\"colorbar\":{\"outlinewidth\":0,\"ticks\":\"\"},\"colorscale\":[[0.0,\"#0d0887\"],[0.1111111111111111,\"#46039f\"],[0.2222222222222222,\"#7201a8\"],[0.3333333333333333,\"#9c179e\"],[0.4444444444444444,\"#bd3786\"],[0.5555555555555556,\"#d8576b\"],[0.6666666666666666,\"#ed7953\"],[0.7777777777777778,\"#fb9f3a\"],[0.8888888888888888,\"#fdca26\"],[1.0,\"#f0f921\"]]}],\"surface\":[{\"type\":\"surface\",\"colorbar\":{\"outlinewidth\":0,\"ticks\":\"\"},\"colorscale\":[[0.0,\"#0d0887\"],[0.1111111111111111,\"#46039f\"],[0.2222222222222222,\"#7201a8\"],[0.3333333333333333,\"#9c179e\"],[0.4444444444444444,\"#bd3786\"],[0.5555555555555556,\"#d8576b\"],[0.6666666666666666,\"#ed7953\"],[0.7777777777777778,\"#fb9f3a\"],[0.8888888888888888,\"#fdca26\"],[1.0,\"#f0f921\"]]}],\"mesh3d\":[{\"type\":\"mesh3d\",\"colorbar\":{\"outlinewidth\":0,\"ticks\":\"\"}}],\"scatter\":[{\"fillpattern\":{\"fillmode\":\"overlay\",\"size\":10,\"solidity\":0.2},\"type\":\"scatter\"}],\"parcoords\":[{\"type\":\"parcoords\",\"line\":{\"colorbar\":{\"outlinewidth\":0,\"ticks\":\"\"}}}],\"scatterpolargl\":[{\"type\":\"scatterpolargl\",\"marker\":{\"colorbar\":{\"outlinewidth\":0,\"ticks\":\"\"}}}],\"bar\":[{\"error_x\":{\"color\":\"#2a3f5f\"},\"error_y\":{\"color\":\"#2a3f5f\"},\"marker\":{\"line\":{\"color\":\"#E5ECF6\",\"width\":0.5},\"pattern\":{\"fillmode\":\"overlay\",\"size\":10,\"solidity\":0.2}},\"type\":\"bar\"}],\"scattergeo\":[{\"type\":\"scattergeo\",\"marker\":{\"colorbar\":{\"outlinewidth\":0,\"ticks\":\"\"}}}],\"scatterpolar\":[{\"type\":\"scatterpolar\",\"marker\":{\"colorbar\":{\"outlinewidth\":0,\"ticks\":\"\"}}}],\"histogram\":[{\"marker\":{\"pattern\":{\"fillmode\":\"overlay\",\"size\":10,\"solidity\":0.2}},\"type\":\"histogram\"}],\"scattergl\":[{\"type\":\"scattergl\",\"marker\":{\"colorbar\":{\"outlinewidth\":0,\"ticks\":\"\"}}}],\"scatter3d\":[{\"type\":\"scatter3d\",\"line\":{\"colorbar\":{\"outlinewidth\":0,\"ticks\":\"\"}},\"marker\":{\"colorbar\":{\"outlinewidth\":0,\"ticks\":\"\"}}}],\"scattermapbox\":[{\"type\":\"scattermapbox\",\"marker\":{\"colorbar\":{\"outlinewidth\":0,\"ticks\":\"\"}}}],\"scatterternary\":[{\"type\":\"scatterternary\",\"marker\":{\"colorbar\":{\"outlinewidth\":0,\"ticks\":\"\"}}}],\"scattercarpet\":[{\"type\":\"scattercarpet\",\"marker\":{\"colorbar\":{\"outlinewidth\":0,\"ticks\":\"\"}}}],\"carpet\":[{\"aaxis\":{\"endlinecolor\":\"#2a3f5f\",\"gridcolor\":\"white\",\"linecolor\":\"white\",\"minorgridcolor\":\"white\",\"startlinecolor\":\"#2a3f5f\"},\"baxis\":{\"endlinecolor\":\"#2a3f5f\",\"gridcolor\":\"white\",\"linecolor\":\"white\",\"minorgridcolor\":\"white\",\"startlinecolor\":\"#2a3f5f\"},\"type\":\"carpet\"}],\"table\":[{\"cells\":{\"fill\":{\"color\":\"#EBF0F8\"},\"line\":{\"color\":\"white\"}},\"header\":{\"fill\":{\"color\":\"#C8D4E3\"},\"line\":{\"color\":\"white\"}},\"type\":\"table\"}],\"barpolar\":[{\"marker\":{\"line\":{\"color\":\"#E5ECF6\",\"width\":0.5},\"pattern\":{\"fillmode\":\"overlay\",\"size\":10,\"solidity\":0.2}},\"type\":\"barpolar\"}],\"pie\":[{\"automargin\":true,\"type\":\"pie\"}]},\"layout\":{\"autotypenumbers\":\"strict\",\"colorway\":[\"#636efa\",\"#EF553B\",\"#00cc96\",\"#ab63fa\",\"#FFA15A\",\"#19d3f3\",\"#FF6692\",\"#B6E880\",\"#FF97FF\",\"#FECB52\"],\"font\":{\"color\":\"#2a3f5f\"},\"hovermode\":\"closest\",\"hoverlabel\":{\"align\":\"left\"},\"paper_bgcolor\":\"white\",\"plot_bgcolor\":\"#E5ECF6\",\"polar\":{\"bgcolor\":\"#E5ECF6\",\"angularaxis\":{\"gridcolor\":\"white\",\"linecolor\":\"white\",\"ticks\":\"\"},\"radialaxis\":{\"gridcolor\":\"white\",\"linecolor\":\"white\",\"ticks\":\"\"}},\"ternary\":{\"bgcolor\":\"#E5ECF6\",\"aaxis\":{\"gridcolor\":\"white\",\"linecolor\":\"white\",\"ticks\":\"\"},\"baxis\":{\"gridcolor\":\"white\",\"linecolor\":\"white\",\"ticks\":\"\"},\"caxis\":{\"gridcolor\":\"white\",\"linecolor\":\"white\",\"ticks\":\"\"}},\"coloraxis\":{\"colorbar\":{\"outlinewidth\":0,\"ticks\":\"\"}},\"colorscale\":{\"sequential\":[[0.0,\"#0d0887\"],[0.1111111111111111,\"#46039f\"],[0.2222222222222222,\"#7201a8\"],[0.3333333333333333,\"#9c179e\"],[0.4444444444444444,\"#bd3786\"],[0.5555555555555556,\"#d8576b\"],[0.6666666666666666,\"#ed7953\"],[0.7777777777777778,\"#fb9f3a\"],[0.8888888888888888,\"#fdca26\"],[1.0,\"#f0f921\"]],\"sequentialminus\":[[0.0,\"#0d0887\"],[0.1111111111111111,\"#46039f\"],[0.2222222222222222,\"#7201a8\"],[0.3333333333333333,\"#9c179e\"],[0.4444444444444444,\"#bd3786\"],[0.5555555555555556,\"#d8576b\"],[0.6666666666666666,\"#ed7953\"],[0.7777777777777778,\"#fb9f3a\"],[0.8888888888888888,\"#fdca26\"],[1.0,\"#f0f921\"]],\"diverging\":[[0,\"#8e0152\"],[0.1,\"#c51b7d\"],[0.2,\"#de77ae\"],[0.3,\"#f1b6da\"],[0.4,\"#fde0ef\"],[0.5,\"#f7f7f7\"],[0.6,\"#e6f5d0\"],[0.7,\"#b8e186\"],[0.8,\"#7fbc41\"],[0.9,\"#4d9221\"],[1,\"#276419\"]]},\"xaxis\":{\"gridcolor\":\"white\",\"linecolor\":\"white\",\"ticks\":\"\",\"title\":{\"standoff\":15},\"zerolinecolor\":\"white\",\"automargin\":true,\"zerolinewidth\":2},\"yaxis\":{\"gridcolor\":\"white\",\"linecolor\":\"white\",\"ticks\":\"\",\"title\":{\"standoff\":15},\"zerolinecolor\":\"white\",\"automargin\":true,\"zerolinewidth\":2},\"scene\":{\"xaxis\":{\"backgroundcolor\":\"#E5ECF6\",\"gridcolor\":\"white\",\"linecolor\":\"white\",\"showbackground\":true,\"ticks\":\"\",\"zerolinecolor\":\"white\",\"gridwidth\":2},\"yaxis\":{\"backgroundcolor\":\"#E5ECF6\",\"gridcolor\":\"white\",\"linecolor\":\"white\",\"showbackground\":true,\"ticks\":\"\",\"zerolinecolor\":\"white\",\"gridwidth\":2},\"zaxis\":{\"backgroundcolor\":\"#E5ECF6\",\"gridcolor\":\"white\",\"linecolor\":\"white\",\"showbackground\":true,\"ticks\":\"\",\"zerolinecolor\":\"white\",\"gridwidth\":2}},\"shapedefaults\":{\"line\":{\"color\":\"#2a3f5f\"}},\"annotationdefaults\":{\"arrowcolor\":\"#2a3f5f\",\"arrowhead\":0,\"arrowwidth\":1},\"geo\":{\"bgcolor\":\"white\",\"landcolor\":\"#E5ECF6\",\"subunitcolor\":\"white\",\"showland\":true,\"showlakes\":true,\"lakecolor\":\"white\"},\"title\":{\"x\":0.05},\"mapbox\":{\"style\":\"light\"}}},\"xaxis\":{\"anchor\":\"y\",\"domain\":[0.0,1.0],\"title\":{\"text\":\"Year\"}},\"yaxis\":{\"anchor\":\"x\",\"domain\":[0.0,1.0],\"title\":{\"text\":\"Number of Volunteers\"}},\"legend\":{\"tracegroupgap\":0},\"title\":{\"text\":\"Total Number of Volunteers By Year\"},\"barmode\":\"relative\",\"autosize\":false,\"width\":850,\"height\":400},                        {\"responsive\": true}                    ).then(function(){\n",
       "                            \n",
       "var gd = document.getElementById('4efa00e8-e409-4b3d-91b4-19f052dedfbb');\n",
       "var x = new MutationObserver(function (mutations, observer) {{\n",
       "        var display = window.getComputedStyle(gd).display;\n",
       "        if (!display || display === 'none') {{\n",
       "            console.log([gd, 'removed!']);\n",
       "            Plotly.purge(gd);\n",
       "            observer.disconnect();\n",
       "        }}\n",
       "}});\n",
       "\n",
       "// Listen for the removal of the full notebook cells\n",
       "var notebookContainer = gd.closest('#notebook-container');\n",
       "if (notebookContainer) {{\n",
       "    x.observe(notebookContainer, {childList: true});\n",
       "}}\n",
       "\n",
       "// Listen for the clearing of the current output cell\n",
       "var outputEl = gd.closest('.output');\n",
       "if (outputEl) {{\n",
       "    x.observe(outputEl, {childList: true});\n",
       "}}\n",
       "\n",
       "                        })                };                });            </script>        </div>"
      ]
     },
     "metadata": {},
     "output_type": "display_data"
    }
   ],
   "source": [
    "fig = graph_maker.annual_volunteers()\n",
    "fig.show()"
   ]
  },
  {
   "cell_type": "markdown",
   "id": "2d4ebf8b-59c1-4aff-bd38-254714570a84",
   "metadata": {},
   "source": [
    "The bar plot with all trash categories above looks pretty busy, and it's hard to compare sizes of different colors when they're stacked on top of each other. \n",
    "\n",
    "## Correlation Between Number of Volunteers and Number of Debris Items Collected\n",
    "It looks like total number of trash items and number of volunteers might be correlated, let's plot the number of items as a function of the number of volunteers. It makes sense that the more people are doing cleanup, the more things get cleaned up. We could multiply the number of hours of cleanup with the number of volunteers, but there seems to be some outliers in the Duration (hrs) data, so we'll skip that for now.\n",
    "Plotted below are the number of items vs number of volunteers, each summarized over a one year period."
   ]
  },
  {
   "cell_type": "code",
   "execution_count": 10,
   "id": "e7f5ab03-a7af-4530-b9f6-31637f3dce49",
   "metadata": {},
   "outputs": [
    {
     "data": {
      "application/vnd.plotly.v1+json": {
       "config": {
        "plotlyServerURL": "https://plot.ly"
       },
       "data": [
        {
         "hovertemplate": "Total Volunteers=%{x}<br>Total Items=%{y}<extra></extra>",
         "legendgroup": "",
         "marker": {
          "color": "#00b5e2",
          "symbol": "circle"
         },
         "mode": "markers",
         "name": "",
         "orientation": "v",
         "showlegend": false,
         "type": "scatter",
         "x": [
          9184,
          9318,
          7715,
          6319,
          5594,
          5785,
          6392.5,
          1571.5,
          3027.5,
          3829,
          3965.5
         ],
         "xaxis": "x",
         "y": [
          332781.15704775165,
          423425.296098422,
          238886.45106901496,
          196327.2238558562,
          125631.53,
          175872.71000000022,
          188400.2,
          71753.685,
          149862.35,
          184340.302,
          206611.35
         ],
         "yaxis": "y"
        },
        {
         "hovertemplate": "<b>OLS trendline</b><br>Total Items = 33.2886 * Total Volunteers + 18787.7<br>R<sup>2</sup>=0.719271<br><br>Total Volunteers=%{x}<br>Total Items=%{y} <b>(trend)</b><extra></extra>",
         "legendgroup": "",
         "marker": {
          "color": "#00b5e2",
          "symbol": "circle"
         },
         "mode": "lines",
         "name": "",
         "showlegend": false,
         "type": "scatter",
         "x": [
          1571.5,
          3027.5,
          3829,
          3965.5,
          5594,
          5785,
          6319,
          6392.5,
          7715,
          9184,
          9318
         ],
         "xaxis": "x",
         "y": [
          71100.72696524882,
          119568.9007931676,
          146249.69840517096,
          150793.58970153835,
          205004.04373915217,
          211362.1626959739,
          229138.26491033423,
          231584.9756083782,
          275609.1238827069,
          324510.0492626607,
          328970.7191067136
         ],
         "yaxis": "y"
        }
       ],
       "layout": {
        "autosize": false,
        "height": 500,
        "legend": {
         "tracegroupgap": 0
        },
        "template": {
         "data": {
          "bar": [
           {
            "error_x": {
             "color": "#2a3f5f"
            },
            "error_y": {
             "color": "#2a3f5f"
            },
            "marker": {
             "line": {
              "color": "#E5ECF6",
              "width": 0.5
             },
             "pattern": {
              "fillmode": "overlay",
              "size": 10,
              "solidity": 0.2
             }
            },
            "type": "bar"
           }
          ],
          "barpolar": [
           {
            "marker": {
             "line": {
              "color": "#E5ECF6",
              "width": 0.5
             },
             "pattern": {
              "fillmode": "overlay",
              "size": 10,
              "solidity": 0.2
             }
            },
            "type": "barpolar"
           }
          ],
          "carpet": [
           {
            "aaxis": {
             "endlinecolor": "#2a3f5f",
             "gridcolor": "white",
             "linecolor": "white",
             "minorgridcolor": "white",
             "startlinecolor": "#2a3f5f"
            },
            "baxis": {
             "endlinecolor": "#2a3f5f",
             "gridcolor": "white",
             "linecolor": "white",
             "minorgridcolor": "white",
             "startlinecolor": "#2a3f5f"
            },
            "type": "carpet"
           }
          ],
          "choropleth": [
           {
            "colorbar": {
             "outlinewidth": 0,
             "ticks": ""
            },
            "type": "choropleth"
           }
          ],
          "contour": [
           {
            "colorbar": {
             "outlinewidth": 0,
             "ticks": ""
            },
            "colorscale": [
             [
              0,
              "#0d0887"
             ],
             [
              0.1111111111111111,
              "#46039f"
             ],
             [
              0.2222222222222222,
              "#7201a8"
             ],
             [
              0.3333333333333333,
              "#9c179e"
             ],
             [
              0.4444444444444444,
              "#bd3786"
             ],
             [
              0.5555555555555556,
              "#d8576b"
             ],
             [
              0.6666666666666666,
              "#ed7953"
             ],
             [
              0.7777777777777778,
              "#fb9f3a"
             ],
             [
              0.8888888888888888,
              "#fdca26"
             ],
             [
              1,
              "#f0f921"
             ]
            ],
            "type": "contour"
           }
          ],
          "contourcarpet": [
           {
            "colorbar": {
             "outlinewidth": 0,
             "ticks": ""
            },
            "type": "contourcarpet"
           }
          ],
          "heatmap": [
           {
            "colorbar": {
             "outlinewidth": 0,
             "ticks": ""
            },
            "colorscale": [
             [
              0,
              "#0d0887"
             ],
             [
              0.1111111111111111,
              "#46039f"
             ],
             [
              0.2222222222222222,
              "#7201a8"
             ],
             [
              0.3333333333333333,
              "#9c179e"
             ],
             [
              0.4444444444444444,
              "#bd3786"
             ],
             [
              0.5555555555555556,
              "#d8576b"
             ],
             [
              0.6666666666666666,
              "#ed7953"
             ],
             [
              0.7777777777777778,
              "#fb9f3a"
             ],
             [
              0.8888888888888888,
              "#fdca26"
             ],
             [
              1,
              "#f0f921"
             ]
            ],
            "type": "heatmap"
           }
          ],
          "heatmapgl": [
           {
            "colorbar": {
             "outlinewidth": 0,
             "ticks": ""
            },
            "colorscale": [
             [
              0,
              "#0d0887"
             ],
             [
              0.1111111111111111,
              "#46039f"
             ],
             [
              0.2222222222222222,
              "#7201a8"
             ],
             [
              0.3333333333333333,
              "#9c179e"
             ],
             [
              0.4444444444444444,
              "#bd3786"
             ],
             [
              0.5555555555555556,
              "#d8576b"
             ],
             [
              0.6666666666666666,
              "#ed7953"
             ],
             [
              0.7777777777777778,
              "#fb9f3a"
             ],
             [
              0.8888888888888888,
              "#fdca26"
             ],
             [
              1,
              "#f0f921"
             ]
            ],
            "type": "heatmapgl"
           }
          ],
          "histogram": [
           {
            "marker": {
             "pattern": {
              "fillmode": "overlay",
              "size": 10,
              "solidity": 0.2
             }
            },
            "type": "histogram"
           }
          ],
          "histogram2d": [
           {
            "colorbar": {
             "outlinewidth": 0,
             "ticks": ""
            },
            "colorscale": [
             [
              0,
              "#0d0887"
             ],
             [
              0.1111111111111111,
              "#46039f"
             ],
             [
              0.2222222222222222,
              "#7201a8"
             ],
             [
              0.3333333333333333,
              "#9c179e"
             ],
             [
              0.4444444444444444,
              "#bd3786"
             ],
             [
              0.5555555555555556,
              "#d8576b"
             ],
             [
              0.6666666666666666,
              "#ed7953"
             ],
             [
              0.7777777777777778,
              "#fb9f3a"
             ],
             [
              0.8888888888888888,
              "#fdca26"
             ],
             [
              1,
              "#f0f921"
             ]
            ],
            "type": "histogram2d"
           }
          ],
          "histogram2dcontour": [
           {
            "colorbar": {
             "outlinewidth": 0,
             "ticks": ""
            },
            "colorscale": [
             [
              0,
              "#0d0887"
             ],
             [
              0.1111111111111111,
              "#46039f"
             ],
             [
              0.2222222222222222,
              "#7201a8"
             ],
             [
              0.3333333333333333,
              "#9c179e"
             ],
             [
              0.4444444444444444,
              "#bd3786"
             ],
             [
              0.5555555555555556,
              "#d8576b"
             ],
             [
              0.6666666666666666,
              "#ed7953"
             ],
             [
              0.7777777777777778,
              "#fb9f3a"
             ],
             [
              0.8888888888888888,
              "#fdca26"
             ],
             [
              1,
              "#f0f921"
             ]
            ],
            "type": "histogram2dcontour"
           }
          ],
          "mesh3d": [
           {
            "colorbar": {
             "outlinewidth": 0,
             "ticks": ""
            },
            "type": "mesh3d"
           }
          ],
          "parcoords": [
           {
            "line": {
             "colorbar": {
              "outlinewidth": 0,
              "ticks": ""
             }
            },
            "type": "parcoords"
           }
          ],
          "pie": [
           {
            "automargin": true,
            "type": "pie"
           }
          ],
          "scatter": [
           {
            "fillpattern": {
             "fillmode": "overlay",
             "size": 10,
             "solidity": 0.2
            },
            "type": "scatter"
           }
          ],
          "scatter3d": [
           {
            "line": {
             "colorbar": {
              "outlinewidth": 0,
              "ticks": ""
             }
            },
            "marker": {
             "colorbar": {
              "outlinewidth": 0,
              "ticks": ""
             }
            },
            "type": "scatter3d"
           }
          ],
          "scattercarpet": [
           {
            "marker": {
             "colorbar": {
              "outlinewidth": 0,
              "ticks": ""
             }
            },
            "type": "scattercarpet"
           }
          ],
          "scattergeo": [
           {
            "marker": {
             "colorbar": {
              "outlinewidth": 0,
              "ticks": ""
             }
            },
            "type": "scattergeo"
           }
          ],
          "scattergl": [
           {
            "marker": {
             "colorbar": {
              "outlinewidth": 0,
              "ticks": ""
             }
            },
            "type": "scattergl"
           }
          ],
          "scattermapbox": [
           {
            "marker": {
             "colorbar": {
              "outlinewidth": 0,
              "ticks": ""
             }
            },
            "type": "scattermapbox"
           }
          ],
          "scatterpolar": [
           {
            "marker": {
             "colorbar": {
              "outlinewidth": 0,
              "ticks": ""
             }
            },
            "type": "scatterpolar"
           }
          ],
          "scatterpolargl": [
           {
            "marker": {
             "colorbar": {
              "outlinewidth": 0,
              "ticks": ""
             }
            },
            "type": "scatterpolargl"
           }
          ],
          "scatterternary": [
           {
            "marker": {
             "colorbar": {
              "outlinewidth": 0,
              "ticks": ""
             }
            },
            "type": "scatterternary"
           }
          ],
          "surface": [
           {
            "colorbar": {
             "outlinewidth": 0,
             "ticks": ""
            },
            "colorscale": [
             [
              0,
              "#0d0887"
             ],
             [
              0.1111111111111111,
              "#46039f"
             ],
             [
              0.2222222222222222,
              "#7201a8"
             ],
             [
              0.3333333333333333,
              "#9c179e"
             ],
             [
              0.4444444444444444,
              "#bd3786"
             ],
             [
              0.5555555555555556,
              "#d8576b"
             ],
             [
              0.6666666666666666,
              "#ed7953"
             ],
             [
              0.7777777777777778,
              "#fb9f3a"
             ],
             [
              0.8888888888888888,
              "#fdca26"
             ],
             [
              1,
              "#f0f921"
             ]
            ],
            "type": "surface"
           }
          ],
          "table": [
           {
            "cells": {
             "fill": {
              "color": "#EBF0F8"
             },
             "line": {
              "color": "white"
             }
            },
            "header": {
             "fill": {
              "color": "#C8D4E3"
             },
             "line": {
              "color": "white"
             }
            },
            "type": "table"
           }
          ]
         },
         "layout": {
          "annotationdefaults": {
           "arrowcolor": "#2a3f5f",
           "arrowhead": 0,
           "arrowwidth": 1
          },
          "autotypenumbers": "strict",
          "coloraxis": {
           "colorbar": {
            "outlinewidth": 0,
            "ticks": ""
           }
          },
          "colorscale": {
           "diverging": [
            [
             0,
             "#8e0152"
            ],
            [
             0.1,
             "#c51b7d"
            ],
            [
             0.2,
             "#de77ae"
            ],
            [
             0.3,
             "#f1b6da"
            ],
            [
             0.4,
             "#fde0ef"
            ],
            [
             0.5,
             "#f7f7f7"
            ],
            [
             0.6,
             "#e6f5d0"
            ],
            [
             0.7,
             "#b8e186"
            ],
            [
             0.8,
             "#7fbc41"
            ],
            [
             0.9,
             "#4d9221"
            ],
            [
             1,
             "#276419"
            ]
           ],
           "sequential": [
            [
             0,
             "#0d0887"
            ],
            [
             0.1111111111111111,
             "#46039f"
            ],
            [
             0.2222222222222222,
             "#7201a8"
            ],
            [
             0.3333333333333333,
             "#9c179e"
            ],
            [
             0.4444444444444444,
             "#bd3786"
            ],
            [
             0.5555555555555556,
             "#d8576b"
            ],
            [
             0.6666666666666666,
             "#ed7953"
            ],
            [
             0.7777777777777778,
             "#fb9f3a"
            ],
            [
             0.8888888888888888,
             "#fdca26"
            ],
            [
             1,
             "#f0f921"
            ]
           ],
           "sequentialminus": [
            [
             0,
             "#0d0887"
            ],
            [
             0.1111111111111111,
             "#46039f"
            ],
            [
             0.2222222222222222,
             "#7201a8"
            ],
            [
             0.3333333333333333,
             "#9c179e"
            ],
            [
             0.4444444444444444,
             "#bd3786"
            ],
            [
             0.5555555555555556,
             "#d8576b"
            ],
            [
             0.6666666666666666,
             "#ed7953"
            ],
            [
             0.7777777777777778,
             "#fb9f3a"
            ],
            [
             0.8888888888888888,
             "#fdca26"
            ],
            [
             1,
             "#f0f921"
            ]
           ]
          },
          "colorway": [
           "#636efa",
           "#EF553B",
           "#00cc96",
           "#ab63fa",
           "#FFA15A",
           "#19d3f3",
           "#FF6692",
           "#B6E880",
           "#FF97FF",
           "#FECB52"
          ],
          "font": {
           "color": "#2a3f5f"
          },
          "geo": {
           "bgcolor": "white",
           "lakecolor": "white",
           "landcolor": "#E5ECF6",
           "showlakes": true,
           "showland": true,
           "subunitcolor": "white"
          },
          "hoverlabel": {
           "align": "left"
          },
          "hovermode": "closest",
          "mapbox": {
           "style": "light"
          },
          "paper_bgcolor": "white",
          "plot_bgcolor": "#E5ECF6",
          "polar": {
           "angularaxis": {
            "gridcolor": "white",
            "linecolor": "white",
            "ticks": ""
           },
           "bgcolor": "#E5ECF6",
           "radialaxis": {
            "gridcolor": "white",
            "linecolor": "white",
            "ticks": ""
           }
          },
          "scene": {
           "xaxis": {
            "backgroundcolor": "#E5ECF6",
            "gridcolor": "white",
            "gridwidth": 2,
            "linecolor": "white",
            "showbackground": true,
            "ticks": "",
            "zerolinecolor": "white"
           },
           "yaxis": {
            "backgroundcolor": "#E5ECF6",
            "gridcolor": "white",
            "gridwidth": 2,
            "linecolor": "white",
            "showbackground": true,
            "ticks": "",
            "zerolinecolor": "white"
           },
           "zaxis": {
            "backgroundcolor": "#E5ECF6",
            "gridcolor": "white",
            "gridwidth": 2,
            "linecolor": "white",
            "showbackground": true,
            "ticks": "",
            "zerolinecolor": "white"
           }
          },
          "shapedefaults": {
           "line": {
            "color": "#2a3f5f"
           }
          },
          "ternary": {
           "aaxis": {
            "gridcolor": "white",
            "linecolor": "white",
            "ticks": ""
           },
           "baxis": {
            "gridcolor": "white",
            "linecolor": "white",
            "ticks": ""
           },
           "bgcolor": "#E5ECF6",
           "caxis": {
            "gridcolor": "white",
            "linecolor": "white",
            "ticks": ""
           }
          },
          "title": {
           "x": 0.05
          },
          "xaxis": {
           "automargin": true,
           "gridcolor": "white",
           "linecolor": "white",
           "ticks": "",
           "title": {
            "standoff": 15
           },
           "zerolinecolor": "white",
           "zerolinewidth": 2
          },
          "yaxis": {
           "automargin": true,
           "gridcolor": "white",
           "linecolor": "white",
           "ticks": "",
           "title": {
            "standoff": 15
           },
           "zerolinecolor": "white",
           "zerolinewidth": 2
          }
         }
        },
        "title": {
         "text": "Number of Items vs Number of Volunteers"
        },
        "width": 800,
        "xaxis": {
         "anchor": "y",
         "autorange": true,
         "domain": [
          0,
          1
         ],
         "range": [
          1084.3630167106421,
          9805.136983289358
         ],
         "title": {
          "text": "Total Number of Volunteers"
         },
         "type": "linear"
        },
        "yaxis": {
         "anchor": "x",
         "autorange": true,
         "domain": [
          0,
          1
         ],
         "range": [
          46992.493131216266,
          448186.48796720576
         ],
         "title": {
          "text": "Total Number of Items"
         },
         "type": "linear"
        }
       }
      },
      "image/png": "[encoded data removed]",
      "text/html": [
       "<div>                            <div id=\"c609bc40-cafe-499d-9ba1-d9e1f19028e7\" class=\"plotly-graph-div\" style=\"height:500px; width:800px;\"></div>            <script type=\"text/javascript\">                require([\"plotly\"], function(Plotly) {                    window.PLOTLYENV=window.PLOTLYENV || {};                                    if (document.getElementById(\"c609bc40-cafe-499d-9ba1-d9e1f19028e7\")) {                    Plotly.newPlot(                        \"c609bc40-cafe-499d-9ba1-d9e1f19028e7\",                        [{\"hovertemplate\":\"Total Volunteers=%{x}\\u003cbr\\u003eTotal Items=%{y}\\u003cextra\\u003e\\u003c\\u002fextra\\u003e\",\"legendgroup\":\"\",\"marker\":{\"color\":\"#00b5e2\",\"symbol\":\"circle\"},\"mode\":\"markers\",\"name\":\"\",\"orientation\":\"v\",\"showlegend\":false,\"x\":[9184.0,9318.0,7715.0,6319.0,5594.0,5785.0,6392.5,1571.5,3027.5,3829.0,3965.5],\"xaxis\":\"x\",\"y\":[332781.15704775165,423425.296098422,238886.45106901496,196327.2238558562,125631.53,175872.71000000022,188400.2,71753.685,149862.35,184340.302,206611.35],\"yaxis\":\"y\",\"type\":\"scatter\"},{\"hovertemplate\":\"\\u003cb\\u003eOLS trendline\\u003c\\u002fb\\u003e\\u003cbr\\u003eTotal Items = 33.2886 * Total Volunteers + 18787.7\\u003cbr\\u003eR\\u003csup\\u003e2\\u003c\\u002fsup\\u003e=0.719271\\u003cbr\\u003e\\u003cbr\\u003eTotal Volunteers=%{x}\\u003cbr\\u003eTotal Items=%{y} \\u003cb\\u003e(trend)\\u003c\\u002fb\\u003e\\u003cextra\\u003e\\u003c\\u002fextra\\u003e\",\"legendgroup\":\"\",\"marker\":{\"color\":\"#00b5e2\",\"symbol\":\"circle\"},\"mode\":\"lines\",\"name\":\"\",\"showlegend\":false,\"x\":[1571.5,3027.5,3829.0,3965.5,5594.0,5785.0,6319.0,6392.5,7715.0,9184.0,9318.0],\"xaxis\":\"x\",\"y\":[71100.72696524882,119568.9007931676,146249.69840517096,150793.58970153835,205004.04373915217,211362.1626959739,229138.26491033423,231584.9756083782,275609.1238827069,324510.0492626607,328970.7191067136],\"yaxis\":\"y\",\"type\":\"scatter\"}],                        {\"template\":{\"data\":{\"histogram2dcontour\":[{\"type\":\"histogram2dcontour\",\"colorbar\":{\"outlinewidth\":0,\"ticks\":\"\"},\"colorscale\":[[0.0,\"#0d0887\"],[0.1111111111111111,\"#46039f\"],[0.2222222222222222,\"#7201a8\"],[0.3333333333333333,\"#9c179e\"],[0.4444444444444444,\"#bd3786\"],[0.5555555555555556,\"#d8576b\"],[0.6666666666666666,\"#ed7953\"],[0.7777777777777778,\"#fb9f3a\"],[0.8888888888888888,\"#fdca26\"],[1.0,\"#f0f921\"]]}],\"choropleth\":[{\"type\":\"choropleth\",\"colorbar\":{\"outlinewidth\":0,\"ticks\":\"\"}}],\"histogram2d\":[{\"type\":\"histogram2d\",\"colorbar\":{\"outlinewidth\":0,\"ticks\":\"\"},\"colorscale\":[[0.0,\"#0d0887\"],[0.1111111111111111,\"#46039f\"],[0.2222222222222222,\"#7201a8\"],[0.3333333333333333,\"#9c179e\"],[0.4444444444444444,\"#bd3786\"],[0.5555555555555556,\"#d8576b\"],[0.6666666666666666,\"#ed7953\"],[0.7777777777777778,\"#fb9f3a\"],[0.8888888888888888,\"#fdca26\"],[1.0,\"#f0f921\"]]}],\"heatmap\":[{\"type\":\"heatmap\",\"colorbar\":{\"outlinewidth\":0,\"ticks\":\"\"},\"colorscale\":[[0.0,\"#0d0887\"],[0.1111111111111111,\"#46039f\"],[0.2222222222222222,\"#7201a8\"],[0.3333333333333333,\"#9c179e\"],[0.4444444444444444,\"#bd3786\"],[0.5555555555555556,\"#d8576b\"],[0.6666666666666666,\"#ed7953\"],[0.7777777777777778,\"#fb9f3a\"],[0.8888888888888888,\"#fdca26\"],[1.0,\"#f0f921\"]]}],\"heatmapgl\":[{\"type\":\"heatmapgl\",\"colorbar\":{\"outlinewidth\":0,\"ticks\":\"\"},\"colorscale\":[[0.0,\"#0d0887\"],[0.1111111111111111,\"#46039f\"],[0.2222222222222222,\"#7201a8\"],[0.3333333333333333,\"#9c179e\"],[0.4444444444444444,\"#bd3786\"],[0.5555555555555556,\"#d8576b\"],[0.6666666666666666,\"#ed7953\"],[0.7777777777777778,\"#fb9f3a\"],[0.8888888888888888,\"#fdca26\"],[1.0,\"#f0f921\"]]}],\"contourcarpet\":[{\"type\":\"contourcarpet\",\"colorbar\":{\"outlinewidth\":0,\"ticks\":\"\"}}],\"contour\":[{\"type\":\"contour\",\"colorbar\":{\"outlinewidth\":0,\"ticks\":\"\"},\"colorscale\":[[0.0,\"#0d0887\"],[0.1111111111111111,\"#46039f\"],[0.2222222222222222,\"#7201a8\"],[0.3333333333333333,\"#9c179e\"],[0.4444444444444444,\"#bd3786\"],[0.5555555555555556,\"#d8576b\"],[0.6666666666666666,\"#ed7953\"],[0.7777777777777778,\"#fb9f3a\"],[0.8888888888888888,\"#fdca26\"],[1.0,\"#f0f921\"]]}],\"surface\":[{\"type\":\"surface\",\"colorbar\":{\"outlinewidth\":0,\"ticks\":\"\"},\"colorscale\":[[0.0,\"#0d0887\"],[0.1111111111111111,\"#46039f\"],[0.2222222222222222,\"#7201a8\"],[0.3333333333333333,\"#9c179e\"],[0.4444444444444444,\"#bd3786\"],[0.5555555555555556,\"#d8576b\"],[0.6666666666666666,\"#ed7953\"],[0.7777777777777778,\"#fb9f3a\"],[0.8888888888888888,\"#fdca26\"],[1.0,\"#f0f921\"]]}],\"mesh3d\":[{\"type\":\"mesh3d\",\"colorbar\":{\"outlinewidth\":0,\"ticks\":\"\"}}],\"scatter\":[{\"fillpattern\":{\"fillmode\":\"overlay\",\"size\":10,\"solidity\":0.2},\"type\":\"scatter\"}],\"parcoords\":[{\"type\":\"parcoords\",\"line\":{\"colorbar\":{\"outlinewidth\":0,\"ticks\":\"\"}}}],\"scatterpolargl\":[{\"type\":\"scatterpolargl\",\"marker\":{\"colorbar\":{\"outlinewidth\":0,\"ticks\":\"\"}}}],\"bar\":[{\"error_x\":{\"color\":\"#2a3f5f\"},\"error_y\":{\"color\":\"#2a3f5f\"},\"marker\":{\"line\":{\"color\":\"#E5ECF6\",\"width\":0.5},\"pattern\":{\"fillmode\":\"overlay\",\"size\":10,\"solidity\":0.2}},\"type\":\"bar\"}],\"scattergeo\":[{\"type\":\"scattergeo\",\"marker\":{\"colorbar\":{\"outlinewidth\":0,\"ticks\":\"\"}}}],\"scatterpolar\":[{\"type\":\"scatterpolar\",\"marker\":{\"colorbar\":{\"outlinewidth\":0,\"ticks\":\"\"}}}],\"histogram\":[{\"marker\":{\"pattern\":{\"fillmode\":\"overlay\",\"size\":10,\"solidity\":0.2}},\"type\":\"histogram\"}],\"scattergl\":[{\"type\":\"scattergl\",\"marker\":{\"colorbar\":{\"outlinewidth\":0,\"ticks\":\"\"}}}],\"scatter3d\":[{\"type\":\"scatter3d\",\"line\":{\"colorbar\":{\"outlinewidth\":0,\"ticks\":\"\"}},\"marker\":{\"colorbar\":{\"outlinewidth\":0,\"ticks\":\"\"}}}],\"scattermapbox\":[{\"type\":\"scattermapbox\",\"marker\":{\"colorbar\":{\"outlinewidth\":0,\"ticks\":\"\"}}}],\"scatterternary\":[{\"type\":\"scatterternary\",\"marker\":{\"colorbar\":{\"outlinewidth\":0,\"ticks\":\"\"}}}],\"scattercarpet\":[{\"type\":\"scattercarpet\",\"marker\":{\"colorbar\":{\"outlinewidth\":0,\"ticks\":\"\"}}}],\"carpet\":[{\"aaxis\":{\"endlinecolor\":\"#2a3f5f\",\"gridcolor\":\"white\",\"linecolor\":\"white\",\"minorgridcolor\":\"white\",\"startlinecolor\":\"#2a3f5f\"},\"baxis\":{\"endlinecolor\":\"#2a3f5f\",\"gridcolor\":\"white\",\"linecolor\":\"white\",\"minorgridcolor\":\"white\",\"startlinecolor\":\"#2a3f5f\"},\"type\":\"carpet\"}],\"table\":[{\"cells\":{\"fill\":{\"color\":\"#EBF0F8\"},\"line\":{\"color\":\"white\"}},\"header\":{\"fill\":{\"color\":\"#C8D4E3\"},\"line\":{\"color\":\"white\"}},\"type\":\"table\"}],\"barpolar\":[{\"marker\":{\"line\":{\"color\":\"#E5ECF6\",\"width\":0.5},\"pattern\":{\"fillmode\":\"overlay\",\"size\":10,\"solidity\":0.2}},\"type\":\"barpolar\"}],\"pie\":[{\"automargin\":true,\"type\":\"pie\"}]},\"layout\":{\"autotypenumbers\":\"strict\",\"colorway\":[\"#636efa\",\"#EF553B\",\"#00cc96\",\"#ab63fa\",\"#FFA15A\",\"#19d3f3\",\"#FF6692\",\"#B6E880\",\"#FF97FF\",\"#FECB52\"],\"font\":{\"color\":\"#2a3f5f\"},\"hovermode\":\"closest\",\"hoverlabel\":{\"align\":\"left\"},\"paper_bgcolor\":\"white\",\"plot_bgcolor\":\"#E5ECF6\",\"polar\":{\"bgcolor\":\"#E5ECF6\",\"angularaxis\":{\"gridcolor\":\"white\",\"linecolor\":\"white\",\"ticks\":\"\"},\"radialaxis\":{\"gridcolor\":\"white\",\"linecolor\":\"white\",\"ticks\":\"\"}},\"ternary\":{\"bgcolor\":\"#E5ECF6\",\"aaxis\":{\"gridcolor\":\"white\",\"linecolor\":\"white\",\"ticks\":\"\"},\"baxis\":{\"gridcolor\":\"white\",\"linecolor\":\"white\",\"ticks\":\"\"},\"caxis\":{\"gridcolor\":\"white\",\"linecolor\":\"white\",\"ticks\":\"\"}},\"coloraxis\":{\"colorbar\":{\"outlinewidth\":0,\"ticks\":\"\"}},\"colorscale\":{\"sequential\":[[0.0,\"#0d0887\"],[0.1111111111111111,\"#46039f\"],[0.2222222222222222,\"#7201a8\"],[0.3333333333333333,\"#9c179e\"],[0.4444444444444444,\"#bd3786\"],[0.5555555555555556,\"#d8576b\"],[0.6666666666666666,\"#ed7953\"],[0.7777777777777778,\"#fb9f3a\"],[0.8888888888888888,\"#fdca26\"],[1.0,\"#f0f921\"]],\"sequentialminus\":[[0.0,\"#0d0887\"],[0.1111111111111111,\"#46039f\"],[0.2222222222222222,\"#7201a8\"],[0.3333333333333333,\"#9c179e\"],[0.4444444444444444,\"#bd3786\"],[0.5555555555555556,\"#d8576b\"],[0.6666666666666666,\"#ed7953\"],[0.7777777777777778,\"#fb9f3a\"],[0.8888888888888888,\"#fdca26\"],[1.0,\"#f0f921\"]],\"diverging\":[[0,\"#8e0152\"],[0.1,\"#c51b7d\"],[0.2,\"#de77ae\"],[0.3,\"#f1b6da\"],[0.4,\"#fde0ef\"],[0.5,\"#f7f7f7\"],[0.6,\"#e6f5d0\"],[0.7,\"#b8e186\"],[0.8,\"#7fbc41\"],[0.9,\"#4d9221\"],[1,\"#276419\"]]},\"xaxis\":{\"gridcolor\":\"white\",\"linecolor\":\"white\",\"ticks\":\"\",\"title\":{\"standoff\":15},\"zerolinecolor\":\"white\",\"automargin\":true,\"zerolinewidth\":2},\"yaxis\":{\"gridcolor\":\"white\",\"linecolor\":\"white\",\"ticks\":\"\",\"title\":{\"standoff\":15},\"zerolinecolor\":\"white\",\"automargin\":true,\"zerolinewidth\":2},\"scene\":{\"xaxis\":{\"backgroundcolor\":\"#E5ECF6\",\"gridcolor\":\"white\",\"linecolor\":\"white\",\"showbackground\":true,\"ticks\":\"\",\"zerolinecolor\":\"white\",\"gridwidth\":2},\"yaxis\":{\"backgroundcolor\":\"#E5ECF6\",\"gridcolor\":\"white\",\"linecolor\":\"white\",\"showbackground\":true,\"ticks\":\"\",\"zerolinecolor\":\"white\",\"gridwidth\":2},\"zaxis\":{\"backgroundcolor\":\"#E5ECF6\",\"gridcolor\":\"white\",\"linecolor\":\"white\",\"showbackground\":true,\"ticks\":\"\",\"zerolinecolor\":\"white\",\"gridwidth\":2}},\"shapedefaults\":{\"line\":{\"color\":\"#2a3f5f\"}},\"annotationdefaults\":{\"arrowcolor\":\"#2a3f5f\",\"arrowhead\":0,\"arrowwidth\":1},\"geo\":{\"bgcolor\":\"white\",\"landcolor\":\"#E5ECF6\",\"subunitcolor\":\"white\",\"showland\":true,\"showlakes\":true,\"lakecolor\":\"white\"},\"title\":{\"x\":0.05},\"mapbox\":{\"style\":\"light\"}}},\"xaxis\":{\"anchor\":\"y\",\"domain\":[0.0,1.0],\"title\":{\"text\":\"Total Number of Volunteers\"}},\"yaxis\":{\"anchor\":\"x\",\"domain\":[0.0,1.0],\"title\":{\"text\":\"Total Number of Items\"}},\"legend\":{\"tracegroupgap\":0},\"title\":{\"text\":\"Number of Items vs Number of Volunteers\"},\"autosize\":false,\"width\":800,\"height\":500},                        {\"responsive\": true}                    ).then(function(){\n",
       "                            \n",
       "var gd = document.getElementById('c609bc40-cafe-499d-9ba1-d9e1f19028e7');\n",
       "var x = new MutationObserver(function (mutations, observer) {{\n",
       "        var display = window.getComputedStyle(gd).display;\n",
       "        if (!display || display === 'none') {{\n",
       "            console.log([gd, 'removed!']);\n",
       "            Plotly.purge(gd);\n",
       "            observer.disconnect();\n",
       "        }}\n",
       "}});\n",
       "\n",
       "// Listen for the removal of the full notebook cells\n",
       "var notebookContainer = gd.closest('#notebook-container');\n",
       "if (notebookContainer) {{\n",
       "    x.observe(notebookContainer, {childList: true});\n",
       "}}\n",
       "\n",
       "// Listen for the clearing of the current output cell\n",
       "var outputEl = gd.closest('.output');\n",
       "if (outputEl) {{\n",
       "    x.observe(outputEl, {childList: true});\n",
       "}}\n",
       "\n",
       "                        })                };                });            </script>        </div>"
      ]
     },
     "metadata": {},
     "output_type": "display_data"
    }
   ],
   "source": [
    "fig.data = []\n",
    "fig = px.scatter(graph_maker.annual_data, \n",
    "                 x='Total Volunteers', \n",
    "                 y='Total Items', \n",
    "                 trendline=\"ols\",\n",
    "                 title=\"Number of Items vs Number of Volunteers\",\n",
    "                )\n",
    "fig.update_layout(\n",
    "    autosize=False,\n",
    "    width=800,\n",
    "    height=500,\n",
    "    yaxis_title='Total Number of Items',\n",
    "    xaxis_title='Total Number of Volunteers',\n",
    ")\n",
    "fig.update_traces(marker_color=graphs.SOS_BLUE)\n",
    "fig.show()"
   ]
  },
  {
   "cell_type": "code",
   "execution_count": 11,
   "id": "95b8c781-2171-4042-b69c-0f71d50e2fd5",
   "metadata": {},
   "outputs": [
    {
     "data": {
      "text/html": [
       "<table>\n",
       "<tbody>\n",
       "<tr><td>         </td><td>                     </td></tr>\n",
       "<tr><td>R Squared</td><td>0.71927              </td></tr>\n",
       "<tr><td>p-value  </td><td>0.0009709816270428198</td></tr>\n",
       "<tr><td>f(x)     </td><td>33.3x + 18787.7      </td></tr>\n",
       "</tbody>\n",
       "</table>"
      ],
      "text/plain": [
       "'<table>\\n<tbody>\\n<tr><td>         </td><td>                     </td></tr>\\n<tr><td>R Squared</td><td>0.71927              </td></tr>\\n<tr><td>p-value  </td><td>0.0009709816270428198</td></tr>\\n<tr><td>f(x)     </td><td>33.3x + 18787.7      </td></tr>\\n</tbody>\\n</table>'"
      ]
     },
     "execution_count": 11,
     "metadata": {},
     "output_type": "execute_result"
    }
   ],
   "source": [
    "# Get correlation stats\n",
    "results = px.get_trendline_results(fig)\n",
    "\n",
    "stats = [[\"\", \"\"],\n",
    "         [\"R Squared\", \"\"],\n",
    "         [\"p-value\", \"\"],\n",
    "         [\"f(x)\", \"\"]]\n",
    "\n",
    "for idx in range(1):\n",
    "    stats[1][idx + 1] = \"{:.5f}\".format(results.px_fit_results[idx].rsquared)\n",
    "    stats[2][idx + 1] = \"{}\".format(results.px_fit_results[idx].pvalues[1])\n",
    "    params = results.px_fit_results[idx].params\n",
    "    stats[3][idx + 1] = \"{:.1f}x + {:.1f}\".format(params[1], params[0])\n",
    "\n",
    "table = tabulate.tabulate(stats, tablefmt='html')\n",
    "table"
   ]
  },
  {
   "cell_type": "markdown",
   "id": "62682438-955c-4ed6-9bea-6fab7b76a448",
   "metadata": {},
   "source": [
    "There's a significant correlation between number of volunteers and number of items collected for each year, which suggests that the number of items collected in a year might depend on the number of volunteers doing beach cleanups that year. \n",
    "The fewer debris items collected in 2020 may have been a result of fewer people being out during the pandemic, and not necessarily due to less littering.\n",
    "In NOAA's marine debris report, the variable with the strongest impact on the amount of marine debris was the number of collectors (here volunteers) in the Generalized Linear Mixed Model in Section 7. In fact, the effect was 7.5 times the variable (distance to river mouth) with the second stongest effect. This emphasizes just how strongly the number of debris items collected depends on the number of collectors.\n",
    "\n",
    "## Debris Items Per Volunteer Grouped by Category\n",
    "Now that we know that the number of debris items depends on number of volunteers, let's plot the number of debris items per volunteer over time. By dividing by number of volunteers we can to some extent factor out that effect. "
   ]
  },
  {
   "cell_type": "code",
   "execution_count": 12,
   "id": "589f512a-279f-44fc-bf17-c7f88acaf9ce",
   "metadata": {
    "scrolled": true
   },
   "outputs": [
    {
     "data": {
      "application/vnd.plotly.v1+json": {
       "config": {
        "plotlyServerURL": "https://plot.ly"
       },
       "data": [
        {
         "hovertemplate": "variable=Plastic Pieces<br>index=%{x}<br>value=%{y}<extra></extra>",
         "legendgroup": "Plastic Pieces",
         "line": {
          "color": "#636efa",
          "dash": "solid"
         },
         "marker": {
          "symbol": "circle"
         },
         "mode": "lines",
         "name": "Plastic Pieces",
         "orientation": "v",
         "showlegend": true,
         "type": "scatter",
         "x": [
          2013,
          2014,
          2015,
          2016,
          2017,
          2018,
          2019,
          2020,
          2021,
          2022,
          2023
         ],
         "xaxis": "x",
         "y": [
          5.796602787456446,
          7.705838162695858,
          4.075178224238496,
          6.855831618927046,
          4.967018233821952,
          6.995505617977528,
          8.621978881501759,
          9.485841552656698,
          14.473988439306359,
          12.317576390702534,
          13.879208170470307
         ],
         "yaxis": "y"
        },
        {
         "hovertemplate": "variable=Cigarette Butts<br>index=%{x}<br>value=%{y}<extra></extra>",
         "legendgroup": "Cigarette Butts",
         "line": {
          "color": "#EF553B",
          "dash": "solid"
         },
         "marker": {
          "symbol": "circle"
         },
         "mode": "lines",
         "name": "Cigarette Butts",
         "orientation": "v",
         "showlegend": true,
         "type": "scatter",
         "x": [
          2013,
          2014,
          2015,
          2016,
          2017,
          2018,
          2019,
          2020,
          2021,
          2022,
          2023
         ],
         "xaxis": "x",
         "y": [
          8.889590592334494,
          12.007297703369822,
          7.313415424497732,
          5.33059028327267,
          3.7988916696460495,
          6.018150388936906,
          3.7859992178333983,
          7.8778237352847595,
          6.098761354252684,
          6.036824236092975,
          5.421258353297188
         ],
         "yaxis": "y"
        },
        {
         "hovertemplate": "variable=Food Wrappers<br>index=%{x}<br>value=%{y}<extra></extra>",
         "legendgroup": "Food Wrappers",
         "line": {
          "color": "#00cc96",
          "dash": "solid"
         },
         "marker": {
          "symbol": "circle"
         },
         "mode": "lines",
         "name": "Food Wrappers",
         "orientation": "v",
         "showlegend": true,
         "type": "scatter",
         "x": [
          2013,
          2014,
          2015,
          2016,
          2017,
          2018,
          2019,
          2020,
          2021,
          2022,
          2023
         ],
         "xaxis": "x",
         "y": [
          2.656467770034843,
          3.016741790083709,
          2.092287751134154,
          1.9990504826713087,
          2.0423668215945656,
          2.841313742437338,
          2.7114587407117714,
          4.144447979637289,
          4.417175887696119,
          4.734395403499608,
          4.28394906064809
         ],
         "yaxis": "y"
        },
        {
         "hovertemplate": "variable=Paper Pieces<br>index=%{x}<br>value=%{y}<extra></extra>",
         "legendgroup": "Paper Pieces",
         "line": {
          "color": "#ab63fa",
          "dash": "solid"
         },
         "marker": {
          "symbol": "circle"
         },
         "mode": "lines",
         "name": "Paper Pieces",
         "orientation": "v",
         "showlegend": true,
         "type": "scatter",
         "x": [
          2013,
          2014,
          2015,
          2016,
          2017,
          2018,
          2019,
          2020,
          2021,
          2022,
          2023
         ],
         "xaxis": "x",
         "y": [
          1.8773954703832754,
          2.565035415325177,
          1.1008425145819831,
          1.0734293400854567,
          1.2590275294958884,
          2.5958513396715643,
          2.7748142354321472,
          3.0079541839007318,
          3.875474814203138,
          5.175502742230347,
          4.198713907451771
         ],
         "yaxis": "y"
        },
        {
         "hovertemplate": "variable=Glass Pieces<br>index=%{x}<br>value=%{y}<extra></extra>",
         "legendgroup": "Glass Pieces",
         "line": {
          "color": "#FFA15A",
          "dash": "solid"
         },
         "marker": {
          "symbol": "circle"
         },
         "mode": "lines",
         "name": "Glass Pieces",
         "orientation": "v",
         "showlegend": true,
         "type": "scatter",
         "x": [
          2013,
          2014,
          2015,
          2016,
          2017,
          2018,
          2019,
          2020,
          2021,
          2022,
          2023
         ],
         "xaxis": "x",
         "y": [
          1.9812717770034842,
          2.2034771410173857,
          1.6675307841866494,
          2.103180883051116,
          0.7334644261708974,
          1.4838375108038029,
          1.3802111849824013,
          0.8195991091314031,
          3.7509496284062758,
          1.4021937842778793,
          1.1612659185474719
         ],
         "yaxis": "y"
        },
        {
         "hovertemplate": "variable=Food Containers, Plastic<br>index=%{x}<br>value=%{y}<extra></extra>",
         "legendgroup": "Food Containers, Plastic",
         "line": {
          "color": "#19d3f3",
          "dash": "solid"
         },
         "marker": {
          "symbol": "circle"
         },
         "mode": "lines",
         "name": "Food Containers, Plastic",
         "orientation": "v",
         "showlegend": true,
         "type": "scatter",
         "x": [
          2013,
          2014,
          2015,
          2016,
          2017,
          2018,
          2019,
          2020,
          2021,
          2022,
          2023
         ],
         "xaxis": "x",
         "y": [
          1.2862587108013936,
          1.4664091006653788,
          1.040699935191186,
          1.0131349897135622,
          0.5745441544511977,
          0.5808124459809854,
          0.9447790379350802,
          1.4132993954820234,
          1.7691164327002478,
          2.136328022982502,
          1.7957382423401842
         ],
         "yaxis": "y"
        },
        {
         "hovertemplate": "variable=Bottle Caps, Plastic<br>index=%{x}<br>value=%{y}<extra></extra>",
         "legendgroup": "Bottle Caps, Plastic",
         "line": {
          "color": "#FF6692",
          "dash": "solid"
         },
         "marker": {
          "symbol": "circle"
         },
         "mode": "lines",
         "name": "Bottle Caps, Plastic",
         "orientation": "v",
         "showlegend": true,
         "type": "scatter",
         "x": [
          2013,
          2014,
          2015,
          2016,
          2017,
          2018,
          2019,
          2020,
          2021,
          2022,
          2023
         ],
         "xaxis": "x",
         "y": [
          1.1350174216027875,
          1.4421549688774415,
          0.9961114711600778,
          1.0628263965817377,
          0.6378262424025742,
          0.2568712186689715,
          0.6262025811497849,
          1.2974864778873687,
          1.411065235342692,
          1.363802559414991,
          1.1002395662589837
         ],
         "yaxis": "y"
        },
        {
         "hovertemplate": "variable=Bottle Caps<br>index=%{x}<br>value=%{y}<extra></extra>",
         "legendgroup": "Bottle Caps",
         "line": {
          "color": "#B6E880",
          "dash": "solid"
         },
         "marker": {
          "symbol": "circle"
         },
         "mode": "lines",
         "name": "Bottle Caps",
         "orientation": "v",
         "showlegend": true,
         "type": "scatter",
         "x": [
          2013,
          2014,
          2015,
          2016,
          2017,
          2018,
          2019,
          2020,
          2021,
          2022,
          2023
         ],
         "xaxis": "x",
         "y": [
          0.8875217770034843,
          1.0811332904056665,
          1.1127673363577446,
          0.7496439310017408,
          0.5166249553092599,
          0.5210025929127052,
          0.5204536566288619,
          0.9627744193445752,
          0.9374071015689512,
          1.0663358579263515,
          0.6962552011095701
         ],
         "yaxis": "y"
        },
        {
         "hovertemplate": "variable=Other<br>index=%{x}<br>value=%{y}<extra></extra>",
         "legendgroup": "Other",
         "line": {
          "color": "#FF97FF",
          "dash": "solid"
         },
         "marker": {
          "symbol": "circle"
         },
         "mode": "lines",
         "name": "Other",
         "orientation": "v",
         "showlegend": true,
         "type": "scatter",
         "x": [
          2013,
          2014,
          2015,
          2016,
          2017,
          2018,
          2019,
          2020,
          2021,
          2022,
          2023
         ],
         "xaxis": "x",
         "y": [
          0.546058362369338,
          0.9795020390641769,
          0.5165262475696695,
          0.460832410191486,
          0.3535037540221666,
          0.46257562662057045,
          0.24951114587407117,
          4.470251352211263,
          2.182658959537572,
          1.9401932619482893,
          0.5136804942630185
         ],
         "yaxis": "y"
        },
        {
         "hovertemplate": "variable=Plastic Bags<br>index=%{x}<br>value=%{y}<extra></extra>",
         "legendgroup": "Plastic Bags",
         "line": {
          "color": "#FECB52",
          "dash": "solid"
         },
         "marker": {
          "symbol": "circle"
         },
         "mode": "lines",
         "name": "Plastic Bags",
         "orientation": "v",
         "showlegend": true,
         "type": "scatter",
         "x": [
          2013,
          2014,
          2015,
          2016,
          2017,
          2018,
          2019,
          2020,
          2021,
          2022,
          2023
         ],
         "xaxis": "x",
         "y": [
          0.8109756097560976,
          0.9099592187164628,
          0.593648736228127,
          0.6520018990346573,
          0.31694672863782625,
          0.39948141745894555,
          0.2906531091122409,
          0.7012408526885141,
          0.49149463253509496,
          0.4293549229563855,
          0.5411675702937839
         ],
         "yaxis": "y"
        },
        {
         "hovertemplate": "variable=Glass Bottles<br>index=%{x}<br>value=%{y}<extra></extra>",
         "legendgroup": "Glass Bottles",
         "line": {
          "color": "#636efa",
          "dash": "solid"
         },
         "marker": {
          "symbol": "circle"
         },
         "mode": "lines",
         "name": "Glass Bottles",
         "orientation": "v",
         "showlegend": true,
         "type": "scatter",
         "x": [
          2013,
          2014,
          2015,
          2016,
          2017,
          2018,
          2019,
          2020,
          2021,
          2022,
          2023
         ],
         "xaxis": "x",
         "y": [
          0.5672909407665505,
          0.9576089289547113,
          0.7090084251458199,
          0.6591232789998418,
          0.38291026099392206,
          0.5070008643042351,
          0.2610872115760657,
          0.6426980591791283,
          0.4475639966969447,
          0.5844868111778532,
          0.4324801412180053
         ],
         "yaxis": "y"
        },
        {
         "hovertemplate": "variable=Cans<br>index=%{x}<br>value=%{y}<extra></extra>",
         "legendgroup": "Cans",
         "line": {
          "color": "#EF553B",
          "dash": "solid"
         },
         "marker": {
          "symbol": "circle"
         },
         "mode": "lines",
         "name": "Cans",
         "orientation": "v",
         "showlegend": true,
         "type": "scatter",
         "x": [
          2013,
          2014,
          2015,
          2016,
          2017,
          2018,
          2019,
          2020,
          2021,
          2022,
          2023
         ],
         "xaxis": "x",
         "y": [
          0.4425087108013937,
          0.7144236960721185,
          0.38976020738820477,
          0.40338661180566543,
          0.2897747586700036,
          0.7744165946413137,
          0.2818928431755964,
          0.6675151129494113,
          0.6497109826589595,
          0.7756594411073388,
          0.7126465767242466
         ],
         "yaxis": "y"
        },
        {
         "hovertemplate": "variable=Straws<br>index=%{x}<br>value=%{y}<extra></extra>",
         "legendgroup": "Straws",
         "line": {
          "color": "#00cc96",
          "dash": "solid"
         },
         "marker": {
          "symbol": "circle"
         },
         "mode": "lines",
         "name": "Straws",
         "orientation": "v",
         "showlegend": true,
         "type": "scatter",
         "x": [
          2013,
          2014,
          2015,
          2016,
          2017,
          2018,
          2019,
          2020,
          2021,
          2022,
          2023
         ],
         "xaxis": "x",
         "y": [
          0.5626088850174216,
          0.6440223223867783,
          0.433700583279326,
          0.4888431713878778,
          0.3652127279227744,
          0.34520311149524635,
          0.30379350801720767,
          0.6242443525294304,
          0.6113955408753097,
          0.7192478453904414,
          0.48165426806203504
         ],
         "yaxis": "y"
        },
        {
         "hovertemplate": "variable=Paper/Cardboard<br>index=%{x}<br>value=%{y}<extra></extra>",
         "legendgroup": "Paper/Cardboard",
         "line": {
          "color": "#ab63fa",
          "dash": "solid"
         },
         "marker": {
          "symbol": "circle"
         },
         "mode": "lines",
         "name": "Paper/Cardboard",
         "orientation": "v",
         "showlegend": true,
         "type": "scatter",
         "x": [
          2013,
          2014,
          2015,
          2016,
          2017,
          2018,
          2019,
          2020,
          2021,
          2022,
          2023
         ],
         "xaxis": "x",
         "y": [
          0.4919425087108014,
          0.6224511697789226,
          0.36137394685677254,
          0.4557683177717993,
          0.37951376474794424,
          0.4039757994814175,
          0.1723895189675401,
          0.20744511613108496,
          0.3983484723369116,
          0.6006790284669626,
          0.2151052830664481
         ],
         "yaxis": "y"
        },
        {
         "hovertemplate": "variable=Packaging<br>index=%{x}<br>value=%{y}<extra></extra>",
         "legendgroup": "Packaging",
         "line": {
          "color": "#FFA15A",
          "dash": "solid"
         },
         "marker": {
          "symbol": "circle"
         },
         "mode": "lines",
         "name": "Packaging",
         "orientation": "v",
         "showlegend": true,
         "type": "scatter",
         "x": [
          2013,
          2014,
          2015,
          2016,
          2017,
          2018,
          2019,
          2020,
          2021,
          2022,
          2023
         ],
         "xaxis": "x",
         "y": [
          0.2501088850174216,
          0.3950418544752093,
          0.3402462734931951,
          0.24070264282323153,
          0.15731140507686808,
          0.12566983578219534,
          0.18756355103637073,
          0.3639834552974865,
          0.42246077621800165,
          0.14364063724209977,
          2.401462615054848
         ],
         "yaxis": "y"
        },
        {
         "hovertemplate": "variable=Food Containers<br>index=%{x}<br>value=%{y}<extra></extra>",
         "legendgroup": "Food Containers",
         "line": {
          "color": "#19d3f3",
          "dash": "solid"
         },
         "marker": {
          "symbol": "circle"
         },
         "mode": "lines",
         "name": "Food Containers",
         "orientation": "v",
         "showlegend": true,
         "type": "scatter",
         "x": [
          2013,
          2014,
          2015,
          2016,
          2017,
          2018,
          2019,
          2020,
          2021,
          2022,
          2023
         ],
         "xaxis": "x",
         "y": [
          0.3636759581881533,
          0.39987121699935607,
          0.26999351911860014,
          0.33280582370628264,
          0.1882373972112978,
          0.1853068280034572,
          0.07461869378177552,
          0.25389755011135856,
          0.15260115606936417,
          0.14416296683207103,
          0.08700037826251418
         ],
         "yaxis": "y"
        },
        {
         "hovertemplate": "variable=Clothes<br>index=%{x}<br>value=%{y}<extra></extra>",
         "legendgroup": "Clothes",
         "line": {
          "color": "#FF6692",
          "dash": "solid"
         },
         "marker": {
          "symbol": "circle"
         },
         "mode": "lines",
         "name": "Clothes",
         "orientation": "v",
         "showlegend": true,
         "type": "scatter",
         "x": [
          2013,
          2014,
          2015,
          2016,
          2017,
          2018,
          2019,
          2020,
          2021,
          2022,
          2023
         ],
         "xaxis": "x",
         "y": [
          0.5236280487804879,
          0.22204335694355012,
          0.12235904082955282,
          0.1229624940655167,
          0.0010725777618877368,
          0,
          0.1590926867422761,
          0.304804327076042,
          0.3342691990090834,
          0.4366675372159833,
          0.6122809229605346
         ],
         "yaxis": "y"
        },
        {
         "hovertemplate": "variable=Fishing Gear<br>index=%{x}<br>value=%{y}<extra></extra>",
         "legendgroup": "Fishing Gear",
         "line": {
          "color": "#B6E880",
          "dash": "solid"
         },
         "marker": {
          "symbol": "circle"
         },
         "mode": "lines",
         "name": "Fishing Gear",
         "orientation": "v",
         "showlegend": true,
         "type": "scatter",
         "x": [
          2013,
          2014,
          2015,
          2016,
          2017,
          2018,
          2019,
          2020,
          2021,
          2022,
          2023
         ],
         "xaxis": "x",
         "y": [
          0.1402439024390244,
          0.3026400515132003,
          0.23681140635126377,
          0.1620509574299731,
          0.1417590275294959,
          0.1101123595505618,
          0.17661321861556512,
          0.12281259942729876,
          0.18001651527663087,
          0.20658135283363802,
          0.17122683142100617
         ],
         "yaxis": "y"
        },
        {
         "hovertemplate": "variable=Tobacco<br>index=%{x}<br>value=%{y}<extra></extra>",
         "legendgroup": "Tobacco",
         "line": {
          "color": "#FF97FF",
          "dash": "solid"
         },
         "marker": {
          "symbol": "circle"
         },
         "mode": "lines",
         "name": "Tobacco",
         "orientation": "v",
         "showlegend": true,
         "type": "scatter",
         "x": [
          2013,
          2014,
          2015,
          2016,
          2017,
          2018,
          2019,
          2020,
          2021,
          2022,
          2023
         ],
         "xaxis": "x",
         "y": [
          0.3837108013937282,
          0.2870787722687272,
          0.25029163966299417,
          0.1093527456876088,
          0.027708258848766536,
          0.025583405358686258,
          0.07086429409464216,
          0.25071587655106586,
          0.18232865400495457,
          0.09454165578480021,
          0.053461102004791324
         ],
         "yaxis": "y"
        },
        {
         "hovertemplate": "variable=Balloons<br>index=%{x}<br>value=%{y}<extra></extra>",
         "legendgroup": "Balloons",
         "line": {
          "color": "#FECB52",
          "dash": "solid"
         },
         "marker": {
          "symbol": "circle"
         },
         "mode": "lines",
         "name": "Balloons",
         "orientation": "v",
         "showlegend": true,
         "type": "scatter",
         "x": [
          2013,
          2014,
          2015,
          2016,
          2017,
          2018,
          2019,
          2020,
          2021,
          2022,
          2023
         ],
         "xaxis": "x",
         "y": [
          0.21635452961672474,
          0.33816269585748016,
          0.1239144523655217,
          0.14986548504510208,
          0.062030747229174114,
          0.09645635263612792,
          0.05756746186937818,
          0.10308622335348393,
          0.14104046242774568,
          0.11647949856359363,
          0.10919177909469172
         ],
         "yaxis": "y"
        },
        {
         "hovertemplate": "variable=Nails<br>index=%{x}<br>value=%{y}<extra></extra>",
         "legendgroup": "Nails",
         "line": {
          "color": "#636efa",
          "dash": "solid"
         },
         "marker": {
          "symbol": "circle"
         },
         "mode": "lines",
         "name": "Nails",
         "orientation": "v",
         "showlegend": true,
         "type": "scatter",
         "x": [
          2013,
          2014,
          2015,
          2016,
          2017,
          2018,
          2019,
          2020,
          2021,
          2022,
          2023
         ],
         "xaxis": "x",
         "y": [
          0.2531576655052265,
          0.32592831079630824,
          0.26973428386260534,
          0.09827504351954423,
          0.019842688594923132,
          0.23491789109766636,
          0,
          0,
          0,
          0,
          0
         ],
         "yaxis": "y"
        },
        {
         "hovertemplate": "variable=Wood Pieces<br>index=%{x}<br>value=%{y}<extra></extra>",
         "legendgroup": "Wood Pieces",
         "line": {
          "color": "#EF553B",
          "dash": "solid"
         },
         "marker": {
          "symbol": "circle"
         },
         "mode": "lines",
         "name": "Wood Pieces",
         "orientation": "v",
         "showlegend": true,
         "type": "scatter",
         "x": [
          2013,
          2014,
          2015,
          2016,
          2017,
          2018,
          2019,
          2020,
          2021,
          2022,
          2023
         ],
         "xaxis": "x",
         "y": [
          0.10207970383275261,
          0.13264649066323245,
          0.14685677252106286,
          0.09036239911378383,
          0.004826599928494816,
          0,
          0.12499022291748142,
          0.14444797963728923,
          0.18067712634186622,
          0.2951162183337686,
          0.6173244231496658
         ],
         "yaxis": "y"
        },
        {
         "hovertemplate": "variable=Foil<br>index=%{x}<br>value=%{y}<extra></extra>",
         "legendgroup": "Foil",
         "line": {
          "color": "#00cc96",
          "dash": "solid"
         },
         "marker": {
          "symbol": "circle"
         },
         "mode": "lines",
         "name": "Foil",
         "orientation": "v",
         "showlegend": true,
         "type": "scatter",
         "x": [
          2013,
          2014,
          2015,
          2016,
          2017,
          2018,
          2019,
          2020,
          2021,
          2022,
          2023
         ],
         "xaxis": "x",
         "y": [
          0.2698170731707317,
          0.3705730843528654,
          0.2199611147116008,
          0.21933850292767842,
          0,
          0.006050129645635264,
          0,
          0,
          0,
          0,
          0
         ],
         "yaxis": "y"
        },
        {
         "hovertemplate": "variable=Fireworks<br>index=%{x}<br>value=%{y}<extra></extra>",
         "legendgroup": "Fireworks",
         "line": {
          "color": "#ab63fa",
          "dash": "solid"
         },
         "marker": {
          "symbol": "circle"
         },
         "mode": "lines",
         "name": "Fireworks",
         "orientation": "v",
         "showlegend": true,
         "type": "scatter",
         "x": [
          2013,
          2014,
          2015,
          2016,
          2017,
          2018,
          2019,
          2020,
          2021,
          2022,
          2023
         ],
         "xaxis": "x",
         "y": [
          0.3286149825783972,
          0.21796522858982614,
          0.22799740764744006,
          0.1663237854090837,
          0.027171969967822666,
          0.02610198789974071,
          0.008603832616347283,
          0.0006363347120585428,
          0.013872832369942197,
          0.013319404544267433,
          0.0005043500189131257
         ],
         "yaxis": "y"
        },
        {
         "hovertemplate": "variable=Beach Gear<br>index=%{x}<br>value=%{y}<extra></extra>",
         "legendgroup": "Beach Gear",
         "line": {
          "color": "#FFA15A",
          "dash": "solid"
         },
         "marker": {
          "symbol": "circle"
         },
         "mode": "lines",
         "name": "Beach Gear",
         "orientation": "v",
         "showlegend": true,
         "type": "scatter",
         "x": [
          2013,
          2014,
          2015,
          2016,
          2017,
          2018,
          2019,
          2020,
          2021,
          2022,
          2023
         ],
         "xaxis": "x",
         "y": [
          0.08133710801393729,
          0.13350504400085855,
          0.057550226830849,
          0.05491375217597721,
          0.04200929567393636,
          0.12203975799481417,
          0.1013687915526007,
          0.4059815462933503,
          0.3187448389760528,
          0.3118307652128493,
          0.2314966586811247
         ],
         "yaxis": "y"
        },
        {
         "hovertemplate": "variable=Personal Hygiene<br>index=%{x}<br>value=%{y}<extra></extra>",
         "legendgroup": "Personal Hygiene",
         "line": {
          "color": "#19d3f3",
          "dash": "solid"
         },
         "marker": {
          "symbol": "circle"
         },
         "mode": "lines",
         "name": "Personal Hygiene",
         "orientation": "v",
         "showlegend": true,
         "type": "scatter",
         "x": [
          2013,
          2014,
          2015,
          2016,
          2017,
          2018,
          2019,
          2020,
          2021,
          2022,
          2023
         ],
         "xaxis": "x",
         "y": [
          0.08362369337979095,
          0.1038849538527581,
          0.10226830848995463,
          0.14954897926887165,
          0.11002860207365034,
          0.0651685393258427,
          0.08463042628079781,
          0.2201718103722558,
          0.1985136251032205,
          0.21049882475842258,
          0.14953978060774178
         ],
         "yaxis": "y"
        },
        {
         "hovertemplate": "variable=Lighters<br>index=%{x}<br>value=%{y}<extra></extra>",
         "legendgroup": "Lighters",
         "line": {
          "color": "#FF6692",
          "dash": "solid"
         },
         "marker": {
          "symbol": "circle"
         },
         "mode": "lines",
         "name": "Lighters",
         "orientation": "v",
         "showlegend": true,
         "type": "scatter",
         "x": [
          2013,
          2014,
          2015,
          2016,
          2017,
          2018,
          2019,
          2020,
          2021,
          2022,
          2023
         ],
         "xaxis": "x",
         "y": [
          0.22136324041811847,
          0.10925091221292123,
          0.06817887232663643,
          0.05586326950466846,
          0.03575259206292456,
          0.04062229904926534,
          0.025342197888150175,
          0.03181673560292714,
          0.04128819157720892,
          0.1736745886654479,
          0.09053082839490606
         ],
         "yaxis": "y"
        },
        {
         "hovertemplate": "variable=Bandaids<br>index=%{x}<br>value=%{y}<extra></extra>",
         "legendgroup": "Bandaids",
         "line": {
          "color": "#B6E880",
          "dash": "solid"
         },
         "marker": {
          "symbol": "circle"
         },
         "mode": "lines",
         "name": "Bandaids",
         "orientation": "v",
         "showlegend": true,
         "type": "scatter",
         "x": [
          2013,
          2014,
          2015,
          2016,
          2017,
          2018,
          2019,
          2020,
          2021,
          2022,
          2023
         ],
         "xaxis": "x",
         "y": [
          0.08024825783972125,
          0.09647993131573299,
          0.047051198963058975,
          0.03924671625257161,
          0.05648909545942081,
          0.060328435609334485,
          0.055690262025811496,
          0.05472478523703468,
          0.08918249380677126,
          0.10916688430399582,
          0.06985247761946792
         ],
         "yaxis": "y"
        },
        {
         "hovertemplate": "variable=Lids<br>index=%{x}<br>value=%{y}<extra></extra>",
         "legendgroup": "Lids",
         "line": {
          "color": "#FF97FF",
          "dash": "solid"
         },
         "marker": {
          "symbol": "circle"
         },
         "mode": "lines",
         "name": "Lids",
         "orientation": "v",
         "showlegend": true,
         "type": "scatter",
         "x": [
          2013,
          2014,
          2015,
          2016,
          2017,
          2018,
          2019,
          2020,
          2021,
          2022,
          2023
         ],
         "xaxis": "x",
         "y": [
          0,
          0,
          0,
          0.08688083557524925,
          0.15230604218805863,
          0.08038029386343994,
          0.0844739929605006,
          0.2615335666560611,
          0.17572254335260115,
          0.12144162966832071,
          0.12507880469045518
         ],
         "yaxis": "y"
        },
        {
         "hovertemplate": "variable=Construction Materials<br>index=%{x}<br>value=%{y}<extra></extra>",
         "legendgroup": "Construction Materials",
         "line": {
          "color": "#FECB52",
          "dash": "solid"
         },
         "marker": {
          "symbol": "circle"
         },
         "mode": "lines",
         "name": "Construction Materials",
         "orientation": "v",
         "showlegend": true,
         "type": "scatter",
         "x": [
          2013,
          2014,
          2015,
          2016,
          2017,
          2018,
          2019,
          2020,
          2021,
          2022,
          2023
         ],
         "xaxis": "x",
         "y": [
          0.07861498257839722,
          0.01845889675896115,
          0,
          0.11742364298148442,
          0.0430818734358241,
          0.07968885047536733,
          0.08666405944466171,
          0.1056315622017181,
          0.15061932287365815,
          0.07208148341603551,
          0.09733955365023327
         ],
         "yaxis": "y"
        },
        {
         "hovertemplate": "variable=Utensils<br>index=%{x}<br>value=%{y}<extra></extra>",
         "legendgroup": "Utensils",
         "line": {
          "color": "#636efa",
          "dash": "solid"
         },
         "marker": {
          "symbol": "circle"
         },
         "mode": "lines",
         "name": "Utensils",
         "orientation": "v",
         "showlegend": true,
         "type": "scatter",
         "x": [
          2013,
          2014,
          2015,
          2016,
          2017,
          2018,
          2019,
          2020,
          2021,
          2022,
          2023
         ],
         "xaxis": "x",
         "y": [
          0,
          0,
          0,
          0.06741573033707865,
          0.08473364318913121,
          0.0672428694900605,
          0.045678529526789205,
          0.2882596245625199,
          0.11890999174236168,
          0.113345521023766,
          0.16265288109948303
         ],
         "yaxis": "y"
        },
        {
         "hovertemplate": "variable=Strapping Bands<br>index=%{x}<br>value=%{y}<extra></extra>",
         "legendgroup": "Strapping Bands",
         "line": {
          "color": "#EF553B",
          "dash": "solid"
         },
         "marker": {
          "symbol": "circle"
         },
         "mode": "lines",
         "name": "Strapping Bands",
         "orientation": "v",
         "showlegend": true,
         "type": "scatter",
         "x": [
          2013,
          2014,
          2015,
          2016,
          2017,
          2018,
          2019,
          2020,
          2021,
          2022,
          2023
         ],
         "xaxis": "x",
         "y": [
          0.06326219512195122,
          0.006975745868212062,
          0.00012961762799740766,
          0.0682069947776547,
          0.034501251340722204,
          0.04407951598962835,
          0.042393429800547514,
          0.1323576201081769,
          0.10767960363336086,
          0.10420475319926874,
          0.06884377758164166
         ],
         "yaxis": "y"
        },
        {
         "hovertemplate": "variable=6-Pack Holders<br>index=%{x}<br>value=%{y}<extra></extra>",
         "legendgroup": "6-Pack Holders",
         "line": {
          "color": "#00cc96",
          "dash": "solid"
         },
         "marker": {
          "symbol": "circle"
         },
         "mode": "lines",
         "name": "6-Pack Holders",
         "orientation": "v",
         "showlegend": true,
         "type": "scatter",
         "x": [
          2013,
          2014,
          2015,
          2016,
          2017,
          2018,
          2019,
          2020,
          2021,
          2022,
          2023
         ],
         "xaxis": "x",
         "y": [
          0.06794425087108014,
          0.09755312298776561,
          0.0390149060272197,
          0.020572875454977053,
          0.008044333214158027,
          0.005877268798617113,
          0.012045365662886194,
          0,
          0.011890999174236168,
          0.025332985113606685,
          0.010339175387719076
         ],
         "yaxis": "y"
        },
        {
         "hovertemplate": "variable=PPE<br>index=%{x}<br>value=%{y}<extra></extra>",
         "legendgroup": "PPE",
         "line": {
          "color": "#ab63fa",
          "dash": "solid"
         },
         "marker": {
          "symbol": "circle"
         },
         "mode": "lines",
         "name": "PPE",
         "orientation": "v",
         "showlegend": true,
         "type": "scatter",
         "x": [
          2013,
          2014,
          2015,
          2016,
          2017,
          2018,
          2019,
          2020,
          2021,
          2022,
          2023
         ],
         "xaxis": "x",
         "y": [
          0,
          0,
          0,
          0,
          0,
          0,
          0,
          0.4581609926821508,
          0.23715937241948803,
          0.16453382084095064,
          0.04690455175892069
         ],
         "yaxis": "y"
        },
        {
         "hovertemplate": "variable=Batteries<br>index=%{x}<br>value=%{y}<extra></extra>",
         "legendgroup": "Batteries",
         "line": {
          "color": "#FFA15A",
          "dash": "solid"
         },
         "marker": {
          "symbol": "circle"
         },
         "mode": "lines",
         "name": "Batteries",
         "orientation": "v",
         "showlegend": true,
         "type": "scatter",
         "x": [
          2013,
          2014,
          2015,
          2016,
          2017,
          2018,
          2019,
          2020,
          2021,
          2022,
          2023
         ],
         "xaxis": "x",
         "y": [
          0.026676829268292682,
          0.02350289761751449,
          0.021646143875567077,
          0.03544864693780662,
          0.08097962102252414,
          0.025583405358686258,
          0.012045365662886194,
          0.02036271078587337,
          0.022460776218001653,
          0.03264559937320449,
          0.12180052956751986
         ],
         "yaxis": "y"
        },
        {
         "hovertemplate": "variable=Bottles, Plastic<br>index=%{x}<br>value=%{y}<extra></extra>",
         "legendgroup": "Bottles, Plastic",
         "line": {
          "color": "#19d3f3",
          "dash": "solid"
         },
         "marker": {
          "symbol": "circle"
         },
         "mode": "lines",
         "name": "Bottles, Plastic",
         "orientation": "v",
         "showlegend": true,
         "type": "scatter",
         "x": [
          2013,
          2014,
          2015,
          2016,
          2017,
          2018,
          2019,
          2020,
          2021,
          2022,
          2023
         ],
         "xaxis": "x",
         "y": [
          0.04126742160278746,
          0.03681047435071904,
          0.06753078418664939,
          0.04874188953948409,
          0.030747229174115123,
          0.01711322385479689,
          0.020649198279233477,
          0,
          0.021139554087530966,
          0.01593105249412379,
          0.034547976295549114
         ],
         "yaxis": "y"
        },
        {
         "hovertemplate": "variable=Syringes<br>index=%{x}<br>value=%{y}<extra></extra>",
         "legendgroup": "Syringes",
         "line": {
          "color": "#FF6692",
          "dash": "solid"
         },
         "marker": {
          "symbol": "circle"
         },
         "mode": "lines",
         "name": "Syringes",
         "orientation": "v",
         "showlegend": true,
         "type": "scatter",
         "x": [
          2013,
          2014,
          2015,
          2016,
          2017,
          2018,
          2019,
          2020,
          2021,
          2022,
          2023
         ],
         "xaxis": "x",
         "y": [
          0.01524390243902439,
          0.01760034342133505,
          0.027867790019442645,
          0.05950308593131825,
          0.0243117626027887,
          0.04183232497839239,
          0.024403597966366836,
          0.027998727330575884,
          0.03336085879438481,
          0.05275528858709846,
          0.07136552767620728
         ],
         "yaxis": "y"
        },
        {
         "hovertemplate": "variable=Footwear<br>index=%{x}<br>value=%{y}<extra></extra>",
         "legendgroup": "Footwear",
         "line": {
          "color": "#B6E880",
          "dash": "solid"
         },
         "marker": {
          "symbol": "circle"
         },
         "mode": "lines",
         "name": "Footwear",
         "orientation": "v",
         "showlegend": true,
         "type": "scatter",
         "x": [
          2013,
          2014,
          2015,
          2016,
          2017,
          2018,
          2019,
          2020,
          2021,
          2022,
          2023
         ],
         "xaxis": "x",
         "y": [
          0.0586890243902439,
          0.08623095084782142,
          0.04160725858716786,
          0.046842854882101596,
          0.0001787629603146228,
          0,
          0,
          0,
          0,
          0.004178636719770175,
          0.007565250283696885
         ],
         "yaxis": "y"
        },
        {
         "hovertemplate": "variable=Cigar Tips<br>index=%{x}<br>value=%{y}<extra></extra>",
         "legendgroup": "Cigar Tips",
         "line": {
          "color": "#FF97FF",
          "dash": "solid"
         },
         "marker": {
          "symbol": "circle"
         },
         "mode": "lines",
         "name": "Cigar Tips",
         "orientation": "v",
         "showlegend": true,
         "type": "scatter",
         "x": [
          2013,
          2014,
          2015,
          2016,
          2017,
          2018,
          2019,
          2020,
          2021,
          2022,
          2023
         ],
         "xaxis": "x",
         "y": [
          0,
          0.019639407598197038,
          0.0005184705119896306,
          0.05681278683335971,
          0.0305684662138005,
          0.03526361279170268,
          0.04348846304262808,
          0.0006363347120585428,
          0.06473988439306358,
          0.0334290937581614,
          0.003278275122935317
         ],
         "yaxis": "y"
        },
        {
         "hovertemplate": "variable=Rope<br>index=%{x}<br>value=%{y}<extra></extra>",
         "legendgroup": "Rope",
         "line": {
          "color": "#FECB52",
          "dash": "solid"
         },
         "marker": {
          "symbol": "circle"
         },
         "mode": "lines",
         "name": "Rope",
         "orientation": "v",
         "showlegend": true,
         "type": "scatter",
         "x": [
          2013,
          2014,
          2015,
          2016,
          2017,
          2018,
          2019,
          2020,
          2021,
          2022,
          2023
         ],
         "xaxis": "x",
         "y": [
          0,
          0,
          0.009202851587815943,
          0.09052065200189903,
          0.022524132999642475,
          0.023509075194468453,
          0.0463042628079781,
          0.004454342984409799,
          0.04888521882741536,
          0.0167145468790807,
          0.0007565250283696885
         ],
         "yaxis": "y"
        },
        {
         "hovertemplate": "variable=Beverage Bottles<br>index=%{x}<br>value=%{y}<extra></extra>",
         "legendgroup": "Beverage Bottles",
         "line": {
          "color": "#636efa",
          "dash": "solid"
         },
         "marker": {
          "symbol": "circle"
         },
         "mode": "lines",
         "name": "Beverage Bottles",
         "orientation": "v",
         "showlegend": true,
         "type": "scatter",
         "x": [
          2013,
          2014,
          2015,
          2016,
          2017,
          2018,
          2019,
          2020,
          2021,
          2022,
          2023
         ],
         "xaxis": "x",
         "y": [
          0,
          0,
          0,
          0.22361133090678906,
          0,
          0,
          0,
          0,
          0,
          0,
          0
         ],
         "yaxis": "y"
        },
        {
         "hovertemplate": "variable=Tires<br>index=%{x}<br>value=%{y}<extra></extra>",
         "legendgroup": "Tires",
         "line": {
          "color": "#EF553B",
          "dash": "solid"
         },
         "marker": {
          "symbol": "circle"
         },
         "mode": "lines",
         "name": "Tires",
         "orientation": "v",
         "showlegend": true,
         "type": "scatter",
         "x": [
          2013,
          2014,
          2015,
          2016,
          2017,
          2018,
          2019,
          2020,
          2021,
          2022,
          2023
         ],
         "xaxis": "x",
         "y": [
          0.012195121951219513,
          0.02092723760463619,
          0.013998703823720026,
          0.011235955056179775,
          0.008580622095101895,
          0.006093344857389801,
          0.0057880328509972625,
          0.013363028953229399,
          0.006275805119735756,
          0.00705144946461217,
          0.0027739251040221915
         ],
         "yaxis": "y"
        },
        {
         "hovertemplate": "variable=Bagged Pet Waste<br>index=%{x}<br>value=%{y}<extra></extra>",
         "legendgroup": "Bagged Pet Waste",
         "line": {
          "color": "#00cc96",
          "dash": "solid"
         },
         "marker": {
          "symbol": "circle"
         },
         "mode": "lines",
         "name": "Bagged Pet Waste",
         "orientation": "v",
         "showlegend": true,
         "type": "scatter",
         "x": [
          2013,
          2014,
          2015,
          2016,
          2017,
          2018,
          2019,
          2020,
          2021,
          2022,
          2023
         ],
         "xaxis": "x",
         "y": [
          0.012086236933797909,
          0,
          0,
          0,
          0,
          0,
          0,
          0.044543429844097995,
          0.052518579686209745,
          0.044136850352572476,
          0.032026226200983485
         ],
         "yaxis": "y"
        },
        {
         "hovertemplate": "variable=Beverage Pouches<br>index=%{x}<br>value=%{y}<extra></extra>",
         "legendgroup": "Beverage Pouches",
         "line": {
          "color": "#ab63fa",
          "dash": "solid"
         },
         "marker": {
          "symbol": "circle"
         },
         "mode": "lines",
         "name": "Beverage Pouches",
         "orientation": "v",
         "showlegend": true,
         "type": "scatter",
         "x": [
          2013,
          2014,
          2015,
          2016,
          2017,
          2018,
          2019,
          2020,
          2021,
          2022,
          2023
         ],
         "xaxis": "x",
         "y": [
          0,
          0,
          0,
          0,
          0,
          0,
          0,
          0.15272033089405027,
          0.016184971098265895,
          0.04492034473752938,
          0.041356701550876306
         ],
         "yaxis": "y"
        },
        {
         "hovertemplate": "variable=Appliances<br>index=%{x}<br>value=%{y}<extra></extra>",
         "legendgroup": "Appliances",
         "line": {
          "color": "#FFA15A",
          "dash": "solid"
         },
         "marker": {
          "symbol": "circle"
         },
         "mode": "lines",
         "name": "Appliances",
         "orientation": "v",
         "showlegend": true,
         "type": "scatter",
         "x": [
          2013,
          2014,
          2015,
          2016,
          2017,
          2018,
          2019,
          2020,
          2021,
          2022,
          2023
         ],
         "xaxis": "x",
         "y": [
          0.01600609756097561,
          0.013629534234814339,
          0.005962410887880752,
          0.01012818483937332,
          0.007508044333214158,
          0.003111495246326707,
          0.0035979663668361363,
          0,
          0.00726672171758877,
          0.0013058239749281796,
          0.0176522506619594
         ],
         "yaxis": "y"
        },
        {
         "hovertemplate": "variable=E-Waste<br>index=%{x}<br>value=%{y}<extra></extra>",
         "legendgroup": "E-Waste",
         "line": {
          "color": "#19d3f3",
          "dash": "solid"
         },
         "marker": {
          "symbol": "circle"
         },
         "mode": "lines",
         "name": "E-Waste",
         "orientation": "v",
         "showlegend": true,
         "type": "scatter",
         "x": [
          2013,
          2014,
          2015,
          2016,
          2017,
          2018,
          2019,
          2020,
          2021,
          2022,
          2023
         ],
         "xaxis": "x",
         "y": [
          0,
          0,
          0,
          0,
          0,
          0,
          0,
          0.024180719058224626,
          0.040957886044591246,
          0.01906503003395142,
          0.02824360105913504
         ],
         "yaxis": "y"
        },
        {
         "hovertemplate": "variable=Car Parts<br>index=%{x}<br>value=%{y}<extra></extra>",
         "legendgroup": "Car Parts",
         "line": {
          "color": "#FF6692",
          "dash": "solid"
         },
         "marker": {
          "symbol": "circle"
         },
         "mode": "lines",
         "name": "Car Parts",
         "orientation": "v",
         "showlegend": true,
         "type": "scatter",
         "x": [
          2013,
          2014,
          2015,
          2016,
          2017,
          2018,
          2019,
          2020,
          2021,
          2022,
          2023
         ],
         "xaxis": "x",
         "y": [
          0.0033754355400696864,
          0.010839235887529513,
          0.006740116655865198,
          0.012027219496755816,
          0,
          0,
          0,
          0,
          0,
          0,
          0
         ],
         "yaxis": "y"
        },
        {
         "hovertemplate": "variable=Bikes<br>index=%{x}<br>value=%{y}<extra></extra>",
         "legendgroup": "Bikes",
         "line": {
          "color": "#B6E880",
          "dash": "solid"
         },
         "marker": {
          "symbol": "circle"
         },
         "mode": "lines",
         "name": "Bikes",
         "orientation": "v",
         "showlegend": true,
         "type": "scatter",
         "x": [
          2013,
          2014,
          2015,
          2016,
          2017,
          2018,
          2019,
          2020,
          2021,
          2022,
          2023
         ],
         "xaxis": "x",
         "y": [
          0.006750871080139373,
          0.007512341704228375,
          0.0023331173039533378,
          0.007754391517645197,
          0,
          0,
          0,
          0,
          0,
          0,
          0
         ],
         "yaxis": "y"
        }
       ],
       "layout": {
        "autosize": false,
        "height": 700,
        "legend": {
         "title": {
          "text": "Debris Category"
         },
         "tracegroupgap": 0
        },
        "margin": {
         "t": 60
        },
        "template": {
         "data": {
          "bar": [
           {
            "error_x": {
             "color": "#2a3f5f"
            },
            "error_y": {
             "color": "#2a3f5f"
            },
            "marker": {
             "line": {
              "color": "#E5ECF6",
              "width": 0.5
             },
             "pattern": {
              "fillmode": "overlay",
              "size": 10,
              "solidity": 0.2
             }
            },
            "type": "bar"
           }
          ],
          "barpolar": [
           {
            "marker": {
             "line": {
              "color": "#E5ECF6",
              "width": 0.5
             },
             "pattern": {
              "fillmode": "overlay",
              "size": 10,
              "solidity": 0.2
             }
            },
            "type": "barpolar"
           }
          ],
          "carpet": [
           {
            "aaxis": {
             "endlinecolor": "#2a3f5f",
             "gridcolor": "white",
             "linecolor": "white",
             "minorgridcolor": "white",
             "startlinecolor": "#2a3f5f"
            },
            "baxis": {
             "endlinecolor": "#2a3f5f",
             "gridcolor": "white",
             "linecolor": "white",
             "minorgridcolor": "white",
             "startlinecolor": "#2a3f5f"
            },
            "type": "carpet"
           }
          ],
          "choropleth": [
           {
            "colorbar": {
             "outlinewidth": 0,
             "ticks": ""
            },
            "type": "choropleth"
           }
          ],
          "contour": [
           {
            "colorbar": {
             "outlinewidth": 0,
             "ticks": ""
            },
            "colorscale": [
             [
              0,
              "#0d0887"
             ],
             [
              0.1111111111111111,
              "#46039f"
             ],
             [
              0.2222222222222222,
              "#7201a8"
             ],
             [
              0.3333333333333333,
              "#9c179e"
             ],
             [
              0.4444444444444444,
              "#bd3786"
             ],
             [
              0.5555555555555556,
              "#d8576b"
             ],
             [
              0.6666666666666666,
              "#ed7953"
             ],
             [
              0.7777777777777778,
              "#fb9f3a"
             ],
             [
              0.8888888888888888,
              "#fdca26"
             ],
             [
              1,
              "#f0f921"
             ]
            ],
            "type": "contour"
           }
          ],
          "contourcarpet": [
           {
            "colorbar": {
             "outlinewidth": 0,
             "ticks": ""
            },
            "type": "contourcarpet"
           }
          ],
          "heatmap": [
           {
            "colorbar": {
             "outlinewidth": 0,
             "ticks": ""
            },
            "colorscale": [
             [
              0,
              "#0d0887"
             ],
             [
              0.1111111111111111,
              "#46039f"
             ],
             [
              0.2222222222222222,
              "#7201a8"
             ],
             [
              0.3333333333333333,
              "#9c179e"
             ],
             [
              0.4444444444444444,
              "#bd3786"
             ],
             [
              0.5555555555555556,
              "#d8576b"
             ],
             [
              0.6666666666666666,
              "#ed7953"
             ],
             [
              0.7777777777777778,
              "#fb9f3a"
             ],
             [
              0.8888888888888888,
              "#fdca26"
             ],
             [
              1,
              "#f0f921"
             ]
            ],
            "type": "heatmap"
           }
          ],
          "heatmapgl": [
           {
            "colorbar": {
             "outlinewidth": 0,
             "ticks": ""
            },
            "colorscale": [
             [
              0,
              "#0d0887"
             ],
             [
              0.1111111111111111,
              "#46039f"
             ],
             [
              0.2222222222222222,
              "#7201a8"
             ],
             [
              0.3333333333333333,
              "#9c179e"
             ],
             [
              0.4444444444444444,
              "#bd3786"
             ],
             [
              0.5555555555555556,
              "#d8576b"
             ],
             [
              0.6666666666666666,
              "#ed7953"
             ],
             [
              0.7777777777777778,
              "#fb9f3a"
             ],
             [
              0.8888888888888888,
              "#fdca26"
             ],
             [
              1,
              "#f0f921"
             ]
            ],
            "type": "heatmapgl"
           }
          ],
          "histogram": [
           {
            "marker": {
             "pattern": {
              "fillmode": "overlay",
              "size": 10,
              "solidity": 0.2
             }
            },
            "type": "histogram"
           }
          ],
          "histogram2d": [
           {
            "colorbar": {
             "outlinewidth": 0,
             "ticks": ""
            },
            "colorscale": [
             [
              0,
              "#0d0887"
             ],
             [
              0.1111111111111111,
              "#46039f"
             ],
             [
              0.2222222222222222,
              "#7201a8"
             ],
             [
              0.3333333333333333,
              "#9c179e"
             ],
             [
              0.4444444444444444,
              "#bd3786"
             ],
             [
              0.5555555555555556,
              "#d8576b"
             ],
             [
              0.6666666666666666,
              "#ed7953"
             ],
             [
              0.7777777777777778,
              "#fb9f3a"
             ],
             [
              0.8888888888888888,
              "#fdca26"
             ],
             [
              1,
              "#f0f921"
             ]
            ],
            "type": "histogram2d"
           }
          ],
          "histogram2dcontour": [
           {
            "colorbar": {
             "outlinewidth": 0,
             "ticks": ""
            },
            "colorscale": [
             [
              0,
              "#0d0887"
             ],
             [
              0.1111111111111111,
              "#46039f"
             ],
             [
              0.2222222222222222,
              "#7201a8"
             ],
             [
              0.3333333333333333,
              "#9c179e"
             ],
             [
              0.4444444444444444,
              "#bd3786"
             ],
             [
              0.5555555555555556,
              "#d8576b"
             ],
             [
              0.6666666666666666,
              "#ed7953"
             ],
             [
              0.7777777777777778,
              "#fb9f3a"
             ],
             [
              0.8888888888888888,
              "#fdca26"
             ],
             [
              1,
              "#f0f921"
             ]
            ],
            "type": "histogram2dcontour"
           }
          ],
          "mesh3d": [
           {
            "colorbar": {
             "outlinewidth": 0,
             "ticks": ""
            },
            "type": "mesh3d"
           }
          ],
          "parcoords": [
           {
            "line": {
             "colorbar": {
              "outlinewidth": 0,
              "ticks": ""
             }
            },
            "type": "parcoords"
           }
          ],
          "pie": [
           {
            "automargin": true,
            "type": "pie"
           }
          ],
          "scatter": [
           {
            "fillpattern": {
             "fillmode": "overlay",
             "size": 10,
             "solidity": 0.2
            },
            "type": "scatter"
           }
          ],
          "scatter3d": [
           {
            "line": {
             "colorbar": {
              "outlinewidth": 0,
              "ticks": ""
             }
            },
            "marker": {
             "colorbar": {
              "outlinewidth": 0,
              "ticks": ""
             }
            },
            "type": "scatter3d"
           }
          ],
          "scattercarpet": [
           {
            "marker": {
             "colorbar": {
              "outlinewidth": 0,
              "ticks": ""
             }
            },
            "type": "scattercarpet"
           }
          ],
          "scattergeo": [
           {
            "marker": {
             "colorbar": {
              "outlinewidth": 0,
              "ticks": ""
             }
            },
            "type": "scattergeo"
           }
          ],
          "scattergl": [
           {
            "marker": {
             "colorbar": {
              "outlinewidth": 0,
              "ticks": ""
             }
            },
            "type": "scattergl"
           }
          ],
          "scattermapbox": [
           {
            "marker": {
             "colorbar": {
              "outlinewidth": 0,
              "ticks": ""
             }
            },
            "type": "scattermapbox"
           }
          ],
          "scatterpolar": [
           {
            "marker": {
             "colorbar": {
              "outlinewidth": 0,
              "ticks": ""
             }
            },
            "type": "scatterpolar"
           }
          ],
          "scatterpolargl": [
           {
            "marker": {
             "colorbar": {
              "outlinewidth": 0,
              "ticks": ""
             }
            },
            "type": "scatterpolargl"
           }
          ],
          "scatterternary": [
           {
            "marker": {
             "colorbar": {
              "outlinewidth": 0,
              "ticks": ""
             }
            },
            "type": "scatterternary"
           }
          ],
          "surface": [
           {
            "colorbar": {
             "outlinewidth": 0,
             "ticks": ""
            },
            "colorscale": [
             [
              0,
              "#0d0887"
             ],
             [
              0.1111111111111111,
              "#46039f"
             ],
             [
              0.2222222222222222,
              "#7201a8"
             ],
             [
              0.3333333333333333,
              "#9c179e"
             ],
             [
              0.4444444444444444,
              "#bd3786"
             ],
             [
              0.5555555555555556,
              "#d8576b"
             ],
             [
              0.6666666666666666,
              "#ed7953"
             ],
             [
              0.7777777777777778,
              "#fb9f3a"
             ],
             [
              0.8888888888888888,
              "#fdca26"
             ],
             [
              1,
              "#f0f921"
             ]
            ],
            "type": "surface"
           }
          ],
          "table": [
           {
            "cells": {
             "fill": {
              "color": "#EBF0F8"
             },
             "line": {
              "color": "white"
             }
            },
            "header": {
             "fill": {
              "color": "#C8D4E3"
             },
             "line": {
              "color": "white"
             }
            },
            "type": "table"
           }
          ]
         },
         "layout": {
          "annotationdefaults": {
           "arrowcolor": "#2a3f5f",
           "arrowhead": 0,
           "arrowwidth": 1
          },
          "autotypenumbers": "strict",
          "coloraxis": {
           "colorbar": {
            "outlinewidth": 0,
            "ticks": ""
           }
          },
          "colorscale": {
           "diverging": [
            [
             0,
             "#8e0152"
            ],
            [
             0.1,
             "#c51b7d"
            ],
            [
             0.2,
             "#de77ae"
            ],
            [
             0.3,
             "#f1b6da"
            ],
            [
             0.4,
             "#fde0ef"
            ],
            [
             0.5,
             "#f7f7f7"
            ],
            [
             0.6,
             "#e6f5d0"
            ],
            [
             0.7,
             "#b8e186"
            ],
            [
             0.8,
             "#7fbc41"
            ],
            [
             0.9,
             "#4d9221"
            ],
            [
             1,
             "#276419"
            ]
           ],
           "sequential": [
            [
             0,
             "#0d0887"
            ],
            [
             0.1111111111111111,
             "#46039f"
            ],
            [
             0.2222222222222222,
             "#7201a8"
            ],
            [
             0.3333333333333333,
             "#9c179e"
            ],
            [
             0.4444444444444444,
             "#bd3786"
            ],
            [
             0.5555555555555556,
             "#d8576b"
            ],
            [
             0.6666666666666666,
             "#ed7953"
            ],
            [
             0.7777777777777778,
             "#fb9f3a"
            ],
            [
             0.8888888888888888,
             "#fdca26"
            ],
            [
             1,
             "#f0f921"
            ]
           ],
           "sequentialminus": [
            [
             0,
             "#0d0887"
            ],
            [
             0.1111111111111111,
             "#46039f"
            ],
            [
             0.2222222222222222,
             "#7201a8"
            ],
            [
             0.3333333333333333,
             "#9c179e"
            ],
            [
             0.4444444444444444,
             "#bd3786"
            ],
            [
             0.5555555555555556,
             "#d8576b"
            ],
            [
             0.6666666666666666,
             "#ed7953"
            ],
            [
             0.7777777777777778,
             "#fb9f3a"
            ],
            [
             0.8888888888888888,
             "#fdca26"
            ],
            [
             1,
             "#f0f921"
            ]
           ]
          },
          "colorway": [
           "#636efa",
           "#EF553B",
           "#00cc96",
           "#ab63fa",
           "#FFA15A",
           "#19d3f3",
           "#FF6692",
           "#B6E880",
           "#FF97FF",
           "#FECB52"
          ],
          "font": {
           "color": "#2a3f5f"
          },
          "geo": {
           "bgcolor": "white",
           "lakecolor": "white",
           "landcolor": "#E5ECF6",
           "showlakes": true,
           "showland": true,
           "subunitcolor": "white"
          },
          "hoverlabel": {
           "align": "left"
          },
          "hovermode": "closest",
          "mapbox": {
           "style": "light"
          },
          "paper_bgcolor": "white",
          "plot_bgcolor": "#E5ECF6",
          "polar": {
           "angularaxis": {
            "gridcolor": "white",
            "linecolor": "white",
            "ticks": ""
           },
           "bgcolor": "#E5ECF6",
           "radialaxis": {
            "gridcolor": "white",
            "linecolor": "white",
            "ticks": ""
           }
          },
          "scene": {
           "xaxis": {
            "backgroundcolor": "#E5ECF6",
            "gridcolor": "white",
            "gridwidth": 2,
            "linecolor": "white",
            "showbackground": true,
            "ticks": "",
            "zerolinecolor": "white"
           },
           "yaxis": {
            "backgroundcolor": "#E5ECF6",
            "gridcolor": "white",
            "gridwidth": 2,
            "linecolor": "white",
            "showbackground": true,
            "ticks": "",
            "zerolinecolor": "white"
           },
           "zaxis": {
            "backgroundcolor": "#E5ECF6",
            "gridcolor": "white",
            "gridwidth": 2,
            "linecolor": "white",
            "showbackground": true,
            "ticks": "",
            "zerolinecolor": "white"
           }
          },
          "shapedefaults": {
           "line": {
            "color": "#2a3f5f"
           }
          },
          "ternary": {
           "aaxis": {
            "gridcolor": "white",
            "linecolor": "white",
            "ticks": ""
           },
           "baxis": {
            "gridcolor": "white",
            "linecolor": "white",
            "ticks": ""
           },
           "bgcolor": "#E5ECF6",
           "caxis": {
            "gridcolor": "white",
            "linecolor": "white",
            "ticks": ""
           }
          },
          "title": {
           "x": 0.05
          },
          "xaxis": {
           "automargin": true,
           "gridcolor": "white",
           "linecolor": "white",
           "ticks": "",
           "title": {
            "standoff": 15
           },
           "zerolinecolor": "white",
           "zerolinewidth": 2
          },
          "yaxis": {
           "automargin": true,
           "gridcolor": "white",
           "linecolor": "white",
           "ticks": "",
           "title": {
            "standoff": 15
           },
           "zerolinecolor": "white",
           "zerolinewidth": 2
          }
         }
        },
        "title": {
         "text": "Debris Items Collected Per Volunteer For the Years 2013-23"
        },
        "width": 1000,
        "xaxis": {
         "anchor": "y",
         "autorange": true,
         "domain": [
          0,
          1
         ],
         "range": [
          2013,
          2023
         ],
         "title": {
          "text": "Year"
         },
         "type": "linear"
        },
        "yaxis": {
         "anchor": "x",
         "autorange": true,
         "domain": [
          0,
          1
         ],
         "range": [
          -0.8041104688503533,
          15.278098908156712
         ],
         "title": {
          "text": "Number of Items Per Volunteer"
         },
         "type": "linear"
        }
       }
      },
      "text/html": [
       "<div>                            <div id=\"2bf1d43f-7ed0-49ef-b9be-b7a501d485e7\" class=\"plotly-graph-div\" style=\"height:700px; width:1000px;\"></div>            <script type=\"text/javascript\">                require([\"plotly\"], function(Plotly) {                    window.PLOTLYENV=window.PLOTLYENV || {};                                    if (document.getElementById(\"2bf1d43f-7ed0-49ef-b9be-b7a501d485e7\")) {                    Plotly.newPlot(                        \"2bf1d43f-7ed0-49ef-b9be-b7a501d485e7\",                        [{\"hovertemplate\":\"variable=Plastic Pieces\\u003cbr\\u003eindex=%{x}\\u003cbr\\u003evalue=%{y}\\u003cextra\\u003e\\u003c\\u002fextra\\u003e\",\"legendgroup\":\"Plastic Pieces\",\"line\":{\"color\":\"#636efa\",\"dash\":\"solid\"},\"marker\":{\"symbol\":\"circle\"},\"mode\":\"lines\",\"name\":\"Plastic Pieces\",\"orientation\":\"v\",\"showlegend\":true,\"x\":[2013,2014,2015,2016,2017,2018,2019,2020,2021,2022,2023],\"xaxis\":\"x\",\"y\":[5.796602787456446,7.705838162695858,4.075178224238496,6.855831618927046,4.967018233821952,6.995505617977528,8.621978881501759,9.485841552656698,14.473988439306359,12.317576390702534,13.879208170470307],\"yaxis\":\"y\",\"type\":\"scatter\"},{\"hovertemplate\":\"variable=Cigarette Butts\\u003cbr\\u003eindex=%{x}\\u003cbr\\u003evalue=%{y}\\u003cextra\\u003e\\u003c\\u002fextra\\u003e\",\"legendgroup\":\"Cigarette Butts\",\"line\":{\"color\":\"#EF553B\",\"dash\":\"solid\"},\"marker\":{\"symbol\":\"circle\"},\"mode\":\"lines\",\"name\":\"Cigarette Butts\",\"orientation\":\"v\",\"showlegend\":true,\"x\":[2013,2014,2015,2016,2017,2018,2019,2020,2021,2022,2023],\"xaxis\":\"x\",\"y\":[8.889590592334494,12.007297703369822,7.313415424497732,5.33059028327267,3.7988916696460495,6.018150388936906,3.7859992178333983,7.8778237352847595,6.098761354252684,6.036824236092975,5.421258353297188],\"yaxis\":\"y\",\"type\":\"scatter\"},{\"hovertemplate\":\"variable=Food Wrappers\\u003cbr\\u003eindex=%{x}\\u003cbr\\u003evalue=%{y}\\u003cextra\\u003e\\u003c\\u002fextra\\u003e\",\"legendgroup\":\"Food Wrappers\",\"line\":{\"color\":\"#00cc96\",\"dash\":\"solid\"},\"marker\":{\"symbol\":\"circle\"},\"mode\":\"lines\",\"name\":\"Food Wrappers\",\"orientation\":\"v\",\"showlegend\":true,\"x\":[2013,2014,2015,2016,2017,2018,2019,2020,2021,2022,2023],\"xaxis\":\"x\",\"y\":[2.656467770034843,3.016741790083709,2.092287751134154,1.9990504826713087,2.0423668215945656,2.841313742437338,2.7114587407117714,4.144447979637289,4.417175887696119,4.734395403499608,4.28394906064809],\"yaxis\":\"y\",\"type\":\"scatter\"},{\"hovertemplate\":\"variable=Paper Pieces\\u003cbr\\u003eindex=%{x}\\u003cbr\\u003evalue=%{y}\\u003cextra\\u003e\\u003c\\u002fextra\\u003e\",\"legendgroup\":\"Paper Pieces\",\"line\":{\"color\":\"#ab63fa\",\"dash\":\"solid\"},\"marker\":{\"symbol\":\"circle\"},\"mode\":\"lines\",\"name\":\"Paper Pieces\",\"orientation\":\"v\",\"showlegend\":true,\"x\":[2013,2014,2015,2016,2017,2018,2019,2020,2021,2022,2023],\"xaxis\":\"x\",\"y\":[1.8773954703832754,2.565035415325177,1.1008425145819831,1.0734293400854567,1.2590275294958884,2.5958513396715643,2.7748142354321472,3.0079541839007318,3.875474814203138,5.175502742230347,4.198713907451771],\"yaxis\":\"y\",\"type\":\"scatter\"},{\"hovertemplate\":\"variable=Glass Pieces\\u003cbr\\u003eindex=%{x}\\u003cbr\\u003evalue=%{y}\\u003cextra\\u003e\\u003c\\u002fextra\\u003e\",\"legendgroup\":\"Glass Pieces\",\"line\":{\"color\":\"#FFA15A\",\"dash\":\"solid\"},\"marker\":{\"symbol\":\"circle\"},\"mode\":\"lines\",\"name\":\"Glass Pieces\",\"orientation\":\"v\",\"showlegend\":true,\"x\":[2013,2014,2015,2016,2017,2018,2019,2020,2021,2022,2023],\"xaxis\":\"x\",\"y\":[1.9812717770034842,2.2034771410173857,1.6675307841866494,2.103180883051116,0.7334644261708974,1.4838375108038029,1.3802111849824013,0.8195991091314031,3.7509496284062758,1.4021937842778793,1.1612659185474719],\"yaxis\":\"y\",\"type\":\"scatter\"},{\"hovertemplate\":\"variable=Food Containers, Plastic\\u003cbr\\u003eindex=%{x}\\u003cbr\\u003evalue=%{y}\\u003cextra\\u003e\\u003c\\u002fextra\\u003e\",\"legendgroup\":\"Food Containers, Plastic\",\"line\":{\"color\":\"#19d3f3\",\"dash\":\"solid\"},\"marker\":{\"symbol\":\"circle\"},\"mode\":\"lines\",\"name\":\"Food Containers, Plastic\",\"orientation\":\"v\",\"showlegend\":true,\"x\":[2013,2014,2015,2016,2017,2018,2019,2020,2021,2022,2023],\"xaxis\":\"x\",\"y\":[1.2862587108013936,1.4664091006653788,1.040699935191186,1.0131349897135622,0.5745441544511977,0.5808124459809854,0.9447790379350802,1.4132993954820234,1.7691164327002478,2.136328022982502,1.7957382423401842],\"yaxis\":\"y\",\"type\":\"scatter\"},{\"hovertemplate\":\"variable=Bottle Caps, Plastic\\u003cbr\\u003eindex=%{x}\\u003cbr\\u003evalue=%{y}\\u003cextra\\u003e\\u003c\\u002fextra\\u003e\",\"legendgroup\":\"Bottle Caps, Plastic\",\"line\":{\"color\":\"#FF6692\",\"dash\":\"solid\"},\"marker\":{\"symbol\":\"circle\"},\"mode\":\"lines\",\"name\":\"Bottle Caps, Plastic\",\"orientation\":\"v\",\"showlegend\":true,\"x\":[2013,2014,2015,2016,2017,2018,2019,2020,2021,2022,2023],\"xaxis\":\"x\",\"y\":[1.1350174216027875,1.4421549688774415,0.9961114711600778,1.0628263965817377,0.6378262424025742,0.2568712186689715,0.6262025811497849,1.2974864778873687,1.411065235342692,1.363802559414991,1.1002395662589837],\"yaxis\":\"y\",\"type\":\"scatter\"},{\"hovertemplate\":\"variable=Bottle Caps\\u003cbr\\u003eindex=%{x}\\u003cbr\\u003evalue=%{y}\\u003cextra\\u003e\\u003c\\u002fextra\\u003e\",\"legendgroup\":\"Bottle Caps\",\"line\":{\"color\":\"#B6E880\",\"dash\":\"solid\"},\"marker\":{\"symbol\":\"circle\"},\"mode\":\"lines\",\"name\":\"Bottle Caps\",\"orientation\":\"v\",\"showlegend\":true,\"x\":[2013,2014,2015,2016,2017,2018,2019,2020,2021,2022,2023],\"xaxis\":\"x\",\"y\":[0.8875217770034843,1.0811332904056665,1.1127673363577446,0.7496439310017408,0.5166249553092599,0.5210025929127052,0.5204536566288619,0.9627744193445752,0.9374071015689512,1.0663358579263515,0.6962552011095701],\"yaxis\":\"y\",\"type\":\"scatter\"},{\"hovertemplate\":\"variable=Other\\u003cbr\\u003eindex=%{x}\\u003cbr\\u003evalue=%{y}\\u003cextra\\u003e\\u003c\\u002fextra\\u003e\",\"legendgroup\":\"Other\",\"line\":{\"color\":\"#FF97FF\",\"dash\":\"solid\"},\"marker\":{\"symbol\":\"circle\"},\"mode\":\"lines\",\"name\":\"Other\",\"orientation\":\"v\",\"showlegend\":true,\"x\":[2013,2014,2015,2016,2017,2018,2019,2020,2021,2022,2023],\"xaxis\":\"x\",\"y\":[0.546058362369338,0.9795020390641769,0.5165262475696695,0.460832410191486,0.3535037540221666,0.46257562662057045,0.24951114587407117,4.470251352211263,2.182658959537572,1.9401932619482893,0.5136804942630185],\"yaxis\":\"y\",\"type\":\"scatter\"},{\"hovertemplate\":\"variable=Plastic Bags\\u003cbr\\u003eindex=%{x}\\u003cbr\\u003evalue=%{y}\\u003cextra\\u003e\\u003c\\u002fextra\\u003e\",\"legendgroup\":\"Plastic Bags\",\"line\":{\"color\":\"#FECB52\",\"dash\":\"solid\"},\"marker\":{\"symbol\":\"circle\"},\"mode\":\"lines\",\"name\":\"Plastic Bags\",\"orientation\":\"v\",\"showlegend\":true,\"x\":[2013,2014,2015,2016,2017,2018,2019,2020,2021,2022,2023],\"xaxis\":\"x\",\"y\":[0.8109756097560976,0.9099592187164628,0.593648736228127,0.6520018990346573,0.31694672863782625,0.39948141745894555,0.2906531091122409,0.7012408526885141,0.49149463253509496,0.4293549229563855,0.5411675702937839],\"yaxis\":\"y\",\"type\":\"scatter\"},{\"hovertemplate\":\"variable=Glass Bottles\\u003cbr\\u003eindex=%{x}\\u003cbr\\u003evalue=%{y}\\u003cextra\\u003e\\u003c\\u002fextra\\u003e\",\"legendgroup\":\"Glass Bottles\",\"line\":{\"color\":\"#636efa\",\"dash\":\"solid\"},\"marker\":{\"symbol\":\"circle\"},\"mode\":\"lines\",\"name\":\"Glass Bottles\",\"orientation\":\"v\",\"showlegend\":true,\"x\":[2013,2014,2015,2016,2017,2018,2019,2020,2021,2022,2023],\"xaxis\":\"x\",\"y\":[0.5672909407665505,0.9576089289547113,0.7090084251458199,0.6591232789998418,0.38291026099392206,0.5070008643042351,0.2610872115760657,0.6426980591791283,0.4475639966969447,0.5844868111778532,0.4324801412180053],\"yaxis\":\"y\",\"type\":\"scatter\"},{\"hovertemplate\":\"variable=Cans\\u003cbr\\u003eindex=%{x}\\u003cbr\\u003evalue=%{y}\\u003cextra\\u003e\\u003c\\u002fextra\\u003e\",\"legendgroup\":\"Cans\",\"line\":{\"color\":\"#EF553B\",\"dash\":\"solid\"},\"marker\":{\"symbol\":\"circle\"},\"mode\":\"lines\",\"name\":\"Cans\",\"orientation\":\"v\",\"showlegend\":true,\"x\":[2013,2014,2015,2016,2017,2018,2019,2020,2021,2022,2023],\"xaxis\":\"x\",\"y\":[0.4425087108013937,0.7144236960721185,0.38976020738820477,0.40338661180566543,0.2897747586700036,0.7744165946413137,0.2818928431755964,0.6675151129494113,0.6497109826589595,0.7756594411073388,0.7126465767242466],\"yaxis\":\"y\",\"type\":\"scatter\"},{\"hovertemplate\":\"variable=Straws\\u003cbr\\u003eindex=%{x}\\u003cbr\\u003evalue=%{y}\\u003cextra\\u003e\\u003c\\u002fextra\\u003e\",\"legendgroup\":\"Straws\",\"line\":{\"color\":\"#00cc96\",\"dash\":\"solid\"},\"marker\":{\"symbol\":\"circle\"},\"mode\":\"lines\",\"name\":\"Straws\",\"orientation\":\"v\",\"showlegend\":true,\"x\":[2013,2014,2015,2016,2017,2018,2019,2020,2021,2022,2023],\"xaxis\":\"x\",\"y\":[0.5626088850174216,0.6440223223867783,0.433700583279326,0.4888431713878778,0.3652127279227744,0.34520311149524635,0.30379350801720767,0.6242443525294304,0.6113955408753097,0.7192478453904414,0.48165426806203504],\"yaxis\":\"y\",\"type\":\"scatter\"},{\"hovertemplate\":\"variable=Paper\\u002fCardboard\\u003cbr\\u003eindex=%{x}\\u003cbr\\u003evalue=%{y}\\u003cextra\\u003e\\u003c\\u002fextra\\u003e\",\"legendgroup\":\"Paper\\u002fCardboard\",\"line\":{\"color\":\"#ab63fa\",\"dash\":\"solid\"},\"marker\":{\"symbol\":\"circle\"},\"mode\":\"lines\",\"name\":\"Paper\\u002fCardboard\",\"orientation\":\"v\",\"showlegend\":true,\"x\":[2013,2014,2015,2016,2017,2018,2019,2020,2021,2022,2023],\"xaxis\":\"x\",\"y\":[0.4919425087108014,0.6224511697789226,0.36137394685677254,0.4557683177717993,0.37951376474794424,0.4039757994814175,0.1723895189675401,0.20744511613108496,0.3983484723369116,0.6006790284669626,0.2151052830664481],\"yaxis\":\"y\",\"type\":\"scatter\"},{\"hovertemplate\":\"variable=Packaging\\u003cbr\\u003eindex=%{x}\\u003cbr\\u003evalue=%{y}\\u003cextra\\u003e\\u003c\\u002fextra\\u003e\",\"legendgroup\":\"Packaging\",\"line\":{\"color\":\"#FFA15A\",\"dash\":\"solid\"},\"marker\":{\"symbol\":\"circle\"},\"mode\":\"lines\",\"name\":\"Packaging\",\"orientation\":\"v\",\"showlegend\":true,\"x\":[2013,2014,2015,2016,2017,2018,2019,2020,2021,2022,2023],\"xaxis\":\"x\",\"y\":[0.2501088850174216,0.3950418544752093,0.3402462734931951,0.24070264282323153,0.15731140507686808,0.12566983578219534,0.18756355103637073,0.3639834552974865,0.42246077621800165,0.14364063724209977,2.401462615054848],\"yaxis\":\"y\",\"type\":\"scatter\"},{\"hovertemplate\":\"variable=Food Containers\\u003cbr\\u003eindex=%{x}\\u003cbr\\u003evalue=%{y}\\u003cextra\\u003e\\u003c\\u002fextra\\u003e\",\"legendgroup\":\"Food Containers\",\"line\":{\"color\":\"#19d3f3\",\"dash\":\"solid\"},\"marker\":{\"symbol\":\"circle\"},\"mode\":\"lines\",\"name\":\"Food Containers\",\"orientation\":\"v\",\"showlegend\":true,\"x\":[2013,2014,2015,2016,2017,2018,2019,2020,2021,2022,2023],\"xaxis\":\"x\",\"y\":[0.3636759581881533,0.39987121699935607,0.26999351911860014,0.33280582370628264,0.1882373972112978,0.1853068280034572,0.07461869378177552,0.25389755011135856,0.15260115606936417,0.14416296683207103,0.08700037826251418],\"yaxis\":\"y\",\"type\":\"scatter\"},{\"hovertemplate\":\"variable=Clothes\\u003cbr\\u003eindex=%{x}\\u003cbr\\u003evalue=%{y}\\u003cextra\\u003e\\u003c\\u002fextra\\u003e\",\"legendgroup\":\"Clothes\",\"line\":{\"color\":\"#FF6692\",\"dash\":\"solid\"},\"marker\":{\"symbol\":\"circle\"},\"mode\":\"lines\",\"name\":\"Clothes\",\"orientation\":\"v\",\"showlegend\":true,\"x\":[2013,2014,2015,2016,2017,2018,2019,2020,2021,2022,2023],\"xaxis\":\"x\",\"y\":[0.5236280487804879,0.22204335694355012,0.12235904082955282,0.1229624940655167,0.0010725777618877368,0.0,0.1590926867422761,0.304804327076042,0.3342691990090834,0.4366675372159833,0.6122809229605346],\"yaxis\":\"y\",\"type\":\"scatter\"},{\"hovertemplate\":\"variable=Fishing Gear\\u003cbr\\u003eindex=%{x}\\u003cbr\\u003evalue=%{y}\\u003cextra\\u003e\\u003c\\u002fextra\\u003e\",\"legendgroup\":\"Fishing Gear\",\"line\":{\"color\":\"#B6E880\",\"dash\":\"solid\"},\"marker\":{\"symbol\":\"circle\"},\"mode\":\"lines\",\"name\":\"Fishing Gear\",\"orientation\":\"v\",\"showlegend\":true,\"x\":[2013,2014,2015,2016,2017,2018,2019,2020,2021,2022,2023],\"xaxis\":\"x\",\"y\":[0.1402439024390244,0.3026400515132003,0.23681140635126377,0.1620509574299731,0.1417590275294959,0.1101123595505618,0.17661321861556512,0.12281259942729876,0.18001651527663087,0.20658135283363802,0.17122683142100617],\"yaxis\":\"y\",\"type\":\"scatter\"},{\"hovertemplate\":\"variable=Tobacco\\u003cbr\\u003eindex=%{x}\\u003cbr\\u003evalue=%{y}\\u003cextra\\u003e\\u003c\\u002fextra\\u003e\",\"legendgroup\":\"Tobacco\",\"line\":{\"color\":\"#FF97FF\",\"dash\":\"solid\"},\"marker\":{\"symbol\":\"circle\"},\"mode\":\"lines\",\"name\":\"Tobacco\",\"orientation\":\"v\",\"showlegend\":true,\"x\":[2013,2014,2015,2016,2017,2018,2019,2020,2021,2022,2023],\"xaxis\":\"x\",\"y\":[0.3837108013937282,0.2870787722687272,0.25029163966299417,0.1093527456876088,0.027708258848766536,0.025583405358686258,0.07086429409464216,0.25071587655106586,0.18232865400495457,0.09454165578480021,0.053461102004791324],\"yaxis\":\"y\",\"type\":\"scatter\"},{\"hovertemplate\":\"variable=Balloons\\u003cbr\\u003eindex=%{x}\\u003cbr\\u003evalue=%{y}\\u003cextra\\u003e\\u003c\\u002fextra\\u003e\",\"legendgroup\":\"Balloons\",\"line\":{\"color\":\"#FECB52\",\"dash\":\"solid\"},\"marker\":{\"symbol\":\"circle\"},\"mode\":\"lines\",\"name\":\"Balloons\",\"orientation\":\"v\",\"showlegend\":true,\"x\":[2013,2014,2015,2016,2017,2018,2019,2020,2021,2022,2023],\"xaxis\":\"x\",\"y\":[0.21635452961672474,0.33816269585748016,0.1239144523655217,0.14986548504510208,0.062030747229174114,0.09645635263612792,0.05756746186937818,0.10308622335348393,0.14104046242774568,0.11647949856359363,0.10919177909469172],\"yaxis\":\"y\",\"type\":\"scatter\"},{\"hovertemplate\":\"variable=Nails\\u003cbr\\u003eindex=%{x}\\u003cbr\\u003evalue=%{y}\\u003cextra\\u003e\\u003c\\u002fextra\\u003e\",\"legendgroup\":\"Nails\",\"line\":{\"color\":\"#636efa\",\"dash\":\"solid\"},\"marker\":{\"symbol\":\"circle\"},\"mode\":\"lines\",\"name\":\"Nails\",\"orientation\":\"v\",\"showlegend\":true,\"x\":[2013,2014,2015,2016,2017,2018,2019,2020,2021,2022,2023],\"xaxis\":\"x\",\"y\":[0.2531576655052265,0.32592831079630824,0.26973428386260534,0.09827504351954423,0.019842688594923132,0.23491789109766636,0.0,0.0,0.0,0.0,0.0],\"yaxis\":\"y\",\"type\":\"scatter\"},{\"hovertemplate\":\"variable=Wood Pieces\\u003cbr\\u003eindex=%{x}\\u003cbr\\u003evalue=%{y}\\u003cextra\\u003e\\u003c\\u002fextra\\u003e\",\"legendgroup\":\"Wood Pieces\",\"line\":{\"color\":\"#EF553B\",\"dash\":\"solid\"},\"marker\":{\"symbol\":\"circle\"},\"mode\":\"lines\",\"name\":\"Wood Pieces\",\"orientation\":\"v\",\"showlegend\":true,\"x\":[2013,2014,2015,2016,2017,2018,2019,2020,2021,2022,2023],\"xaxis\":\"x\",\"y\":[0.10207970383275261,0.13264649066323245,0.14685677252106286,0.09036239911378383,0.004826599928494816,0.0,0.12499022291748142,0.14444797963728923,0.18067712634186622,0.2951162183337686,0.6173244231496658],\"yaxis\":\"y\",\"type\":\"scatter\"},{\"hovertemplate\":\"variable=Foil\\u003cbr\\u003eindex=%{x}\\u003cbr\\u003evalue=%{y}\\u003cextra\\u003e\\u003c\\u002fextra\\u003e\",\"legendgroup\":\"Foil\",\"line\":{\"color\":\"#00cc96\",\"dash\":\"solid\"},\"marker\":{\"symbol\":\"circle\"},\"mode\":\"lines\",\"name\":\"Foil\",\"orientation\":\"v\",\"showlegend\":true,\"x\":[2013,2014,2015,2016,2017,2018,2019,2020,2021,2022,2023],\"xaxis\":\"x\",\"y\":[0.2698170731707317,0.3705730843528654,0.2199611147116008,0.21933850292767842,0.0,0.006050129645635264,0.0,0.0,0.0,0.0,0.0],\"yaxis\":\"y\",\"type\":\"scatter\"},{\"hovertemplate\":\"variable=Fireworks\\u003cbr\\u003eindex=%{x}\\u003cbr\\u003evalue=%{y}\\u003cextra\\u003e\\u003c\\u002fextra\\u003e\",\"legendgroup\":\"Fireworks\",\"line\":{\"color\":\"#ab63fa\",\"dash\":\"solid\"},\"marker\":{\"symbol\":\"circle\"},\"mode\":\"lines\",\"name\":\"Fireworks\",\"orientation\":\"v\",\"showlegend\":true,\"x\":[2013,2014,2015,2016,2017,2018,2019,2020,2021,2022,2023],\"xaxis\":\"x\",\"y\":[0.3286149825783972,0.21796522858982614,0.22799740764744006,0.1663237854090837,0.027171969967822666,0.02610198789974071,0.008603832616347283,0.0006363347120585428,0.013872832369942197,0.013319404544267433,0.0005043500189131257],\"yaxis\":\"y\",\"type\":\"scatter\"},{\"hovertemplate\":\"variable=Beach Gear\\u003cbr\\u003eindex=%{x}\\u003cbr\\u003evalue=%{y}\\u003cextra\\u003e\\u003c\\u002fextra\\u003e\",\"legendgroup\":\"Beach Gear\",\"line\":{\"color\":\"#FFA15A\",\"dash\":\"solid\"},\"marker\":{\"symbol\":\"circle\"},\"mode\":\"lines\",\"name\":\"Beach Gear\",\"orientation\":\"v\",\"showlegend\":true,\"x\":[2013,2014,2015,2016,2017,2018,2019,2020,2021,2022,2023],\"xaxis\":\"x\",\"y\":[0.08133710801393729,0.13350504400085855,0.057550226830849,0.05491375217597721,0.04200929567393636,0.12203975799481417,0.1013687915526007,0.4059815462933503,0.3187448389760528,0.3118307652128493,0.2314966586811247],\"yaxis\":\"y\",\"type\":\"scatter\"},{\"hovertemplate\":\"variable=Personal Hygiene\\u003cbr\\u003eindex=%{x}\\u003cbr\\u003evalue=%{y}\\u003cextra\\u003e\\u003c\\u002fextra\\u003e\",\"legendgroup\":\"Personal Hygiene\",\"line\":{\"color\":\"#19d3f3\",\"dash\":\"solid\"},\"marker\":{\"symbol\":\"circle\"},\"mode\":\"lines\",\"name\":\"Personal Hygiene\",\"orientation\":\"v\",\"showlegend\":true,\"x\":[2013,2014,2015,2016,2017,2018,2019,2020,2021,2022,2023],\"xaxis\":\"x\",\"y\":[0.08362369337979095,0.1038849538527581,0.10226830848995463,0.14954897926887165,0.11002860207365034,0.0651685393258427,0.08463042628079781,0.2201718103722558,0.1985136251032205,0.21049882475842258,0.14953978060774178],\"yaxis\":\"y\",\"type\":\"scatter\"},{\"hovertemplate\":\"variable=Lighters\\u003cbr\\u003eindex=%{x}\\u003cbr\\u003evalue=%{y}\\u003cextra\\u003e\\u003c\\u002fextra\\u003e\",\"legendgroup\":\"Lighters\",\"line\":{\"color\":\"#FF6692\",\"dash\":\"solid\"},\"marker\":{\"symbol\":\"circle\"},\"mode\":\"lines\",\"name\":\"Lighters\",\"orientation\":\"v\",\"showlegend\":true,\"x\":[2013,2014,2015,2016,2017,2018,2019,2020,2021,2022,2023],\"xaxis\":\"x\",\"y\":[0.22136324041811847,0.10925091221292123,0.06817887232663643,0.05586326950466846,0.03575259206292456,0.04062229904926534,0.025342197888150175,0.03181673560292714,0.04128819157720892,0.1736745886654479,0.09053082839490606],\"yaxis\":\"y\",\"type\":\"scatter\"},{\"hovertemplate\":\"variable=Bandaids\\u003cbr\\u003eindex=%{x}\\u003cbr\\u003evalue=%{y}\\u003cextra\\u003e\\u003c\\u002fextra\\u003e\",\"legendgroup\":\"Bandaids\",\"line\":{\"color\":\"#B6E880\",\"dash\":\"solid\"},\"marker\":{\"symbol\":\"circle\"},\"mode\":\"lines\",\"name\":\"Bandaids\",\"orientation\":\"v\",\"showlegend\":true,\"x\":[2013,2014,2015,2016,2017,2018,2019,2020,2021,2022,2023],\"xaxis\":\"x\",\"y\":[0.08024825783972125,0.09647993131573299,0.047051198963058975,0.03924671625257161,0.05648909545942081,0.060328435609334485,0.055690262025811496,0.05472478523703468,0.08918249380677126,0.10916688430399582,0.06985247761946792],\"yaxis\":\"y\",\"type\":\"scatter\"},{\"hovertemplate\":\"variable=Lids\\u003cbr\\u003eindex=%{x}\\u003cbr\\u003evalue=%{y}\\u003cextra\\u003e\\u003c\\u002fextra\\u003e\",\"legendgroup\":\"Lids\",\"line\":{\"color\":\"#FF97FF\",\"dash\":\"solid\"},\"marker\":{\"symbol\":\"circle\"},\"mode\":\"lines\",\"name\":\"Lids\",\"orientation\":\"v\",\"showlegend\":true,\"x\":[2013,2014,2015,2016,2017,2018,2019,2020,2021,2022,2023],\"xaxis\":\"x\",\"y\":[0.0,0.0,0.0,0.08688083557524925,0.15230604218805863,0.08038029386343994,0.0844739929605006,0.2615335666560611,0.17572254335260115,0.12144162966832071,0.12507880469045518],\"yaxis\":\"y\",\"type\":\"scatter\"},{\"hovertemplate\":\"variable=Construction Materials\\u003cbr\\u003eindex=%{x}\\u003cbr\\u003evalue=%{y}\\u003cextra\\u003e\\u003c\\u002fextra\\u003e\",\"legendgroup\":\"Construction Materials\",\"line\":{\"color\":\"#FECB52\",\"dash\":\"solid\"},\"marker\":{\"symbol\":\"circle\"},\"mode\":\"lines\",\"name\":\"Construction Materials\",\"orientation\":\"v\",\"showlegend\":true,\"x\":[2013,2014,2015,2016,2017,2018,2019,2020,2021,2022,2023],\"xaxis\":\"x\",\"y\":[0.07861498257839722,0.01845889675896115,0.0,0.11742364298148442,0.0430818734358241,0.07968885047536733,0.08666405944466171,0.1056315622017181,0.15061932287365815,0.07208148341603551,0.09733955365023327],\"yaxis\":\"y\",\"type\":\"scatter\"},{\"hovertemplate\":\"variable=Utensils\\u003cbr\\u003eindex=%{x}\\u003cbr\\u003evalue=%{y}\\u003cextra\\u003e\\u003c\\u002fextra\\u003e\",\"legendgroup\":\"Utensils\",\"line\":{\"color\":\"#636efa\",\"dash\":\"solid\"},\"marker\":{\"symbol\":\"circle\"},\"mode\":\"lines\",\"name\":\"Utensils\",\"orientation\":\"v\",\"showlegend\":true,\"x\":[2013,2014,2015,2016,2017,2018,2019,2020,2021,2022,2023],\"xaxis\":\"x\",\"y\":[0.0,0.0,0.0,0.06741573033707865,0.08473364318913121,0.0672428694900605,0.045678529526789205,0.2882596245625199,0.11890999174236168,0.113345521023766,0.16265288109948303],\"yaxis\":\"y\",\"type\":\"scatter\"},{\"hovertemplate\":\"variable=Strapping Bands\\u003cbr\\u003eindex=%{x}\\u003cbr\\u003evalue=%{y}\\u003cextra\\u003e\\u003c\\u002fextra\\u003e\",\"legendgroup\":\"Strapping Bands\",\"line\":{\"color\":\"#EF553B\",\"dash\":\"solid\"},\"marker\":{\"symbol\":\"circle\"},\"mode\":\"lines\",\"name\":\"Strapping Bands\",\"orientation\":\"v\",\"showlegend\":true,\"x\":[2013,2014,2015,2016,2017,2018,2019,2020,2021,2022,2023],\"xaxis\":\"x\",\"y\":[0.06326219512195122,0.006975745868212062,0.00012961762799740766,0.0682069947776547,0.034501251340722204,0.04407951598962835,0.042393429800547514,0.1323576201081769,0.10767960363336086,0.10420475319926874,0.06884377758164166],\"yaxis\":\"y\",\"type\":\"scatter\"},{\"hovertemplate\":\"variable=6-Pack Holders\\u003cbr\\u003eindex=%{x}\\u003cbr\\u003evalue=%{y}\\u003cextra\\u003e\\u003c\\u002fextra\\u003e\",\"legendgroup\":\"6-Pack Holders\",\"line\":{\"color\":\"#00cc96\",\"dash\":\"solid\"},\"marker\":{\"symbol\":\"circle\"},\"mode\":\"lines\",\"name\":\"6-Pack Holders\",\"orientation\":\"v\",\"showlegend\":true,\"x\":[2013,2014,2015,2016,2017,2018,2019,2020,2021,2022,2023],\"xaxis\":\"x\",\"y\":[0.06794425087108014,0.09755312298776561,0.0390149060272197,0.020572875454977053,0.008044333214158027,0.005877268798617113,0.012045365662886194,0.0,0.011890999174236168,0.025332985113606685,0.010339175387719076],\"yaxis\":\"y\",\"type\":\"scatter\"},{\"hovertemplate\":\"variable=PPE\\u003cbr\\u003eindex=%{x}\\u003cbr\\u003evalue=%{y}\\u003cextra\\u003e\\u003c\\u002fextra\\u003e\",\"legendgroup\":\"PPE\",\"line\":{\"color\":\"#ab63fa\",\"dash\":\"solid\"},\"marker\":{\"symbol\":\"circle\"},\"mode\":\"lines\",\"name\":\"PPE\",\"orientation\":\"v\",\"showlegend\":true,\"x\":[2013,2014,2015,2016,2017,2018,2019,2020,2021,2022,2023],\"xaxis\":\"x\",\"y\":[0.0,0.0,0.0,0.0,0.0,0.0,0.0,0.4581609926821508,0.23715937241948803,0.16453382084095064,0.04690455175892069],\"yaxis\":\"y\",\"type\":\"scatter\"},{\"hovertemplate\":\"variable=Batteries\\u003cbr\\u003eindex=%{x}\\u003cbr\\u003evalue=%{y}\\u003cextra\\u003e\\u003c\\u002fextra\\u003e\",\"legendgroup\":\"Batteries\",\"line\":{\"color\":\"#FFA15A\",\"dash\":\"solid\"},\"marker\":{\"symbol\":\"circle\"},\"mode\":\"lines\",\"name\":\"Batteries\",\"orientation\":\"v\",\"showlegend\":true,\"x\":[2013,2014,2015,2016,2017,2018,2019,2020,2021,2022,2023],\"xaxis\":\"x\",\"y\":[0.026676829268292682,0.02350289761751449,0.021646143875567077,0.03544864693780662,0.08097962102252414,0.025583405358686258,0.012045365662886194,0.02036271078587337,0.022460776218001653,0.03264559937320449,0.12180052956751986],\"yaxis\":\"y\",\"type\":\"scatter\"},{\"hovertemplate\":\"variable=Bottles, Plastic\\u003cbr\\u003eindex=%{x}\\u003cbr\\u003evalue=%{y}\\u003cextra\\u003e\\u003c\\u002fextra\\u003e\",\"legendgroup\":\"Bottles, Plastic\",\"line\":{\"color\":\"#19d3f3\",\"dash\":\"solid\"},\"marker\":{\"symbol\":\"circle\"},\"mode\":\"lines\",\"name\":\"Bottles, Plastic\",\"orientation\":\"v\",\"showlegend\":true,\"x\":[2013,2014,2015,2016,2017,2018,2019,2020,2021,2022,2023],\"xaxis\":\"x\",\"y\":[0.04126742160278746,0.03681047435071904,0.06753078418664939,0.04874188953948409,0.030747229174115123,0.01711322385479689,0.020649198279233477,0.0,0.021139554087530966,0.01593105249412379,0.034547976295549114],\"yaxis\":\"y\",\"type\":\"scatter\"},{\"hovertemplate\":\"variable=Syringes\\u003cbr\\u003eindex=%{x}\\u003cbr\\u003evalue=%{y}\\u003cextra\\u003e\\u003c\\u002fextra\\u003e\",\"legendgroup\":\"Syringes\",\"line\":{\"color\":\"#FF6692\",\"dash\":\"solid\"},\"marker\":{\"symbol\":\"circle\"},\"mode\":\"lines\",\"name\":\"Syringes\",\"orientation\":\"v\",\"showlegend\":true,\"x\":[2013,2014,2015,2016,2017,2018,2019,2020,2021,2022,2023],\"xaxis\":\"x\",\"y\":[0.01524390243902439,0.01760034342133505,0.027867790019442645,0.05950308593131825,0.0243117626027887,0.04183232497839239,0.024403597966366836,0.027998727330575884,0.03336085879438481,0.05275528858709846,0.07136552767620728],\"yaxis\":\"y\",\"type\":\"scatter\"},{\"hovertemplate\":\"variable=Footwear\\u003cbr\\u003eindex=%{x}\\u003cbr\\u003evalue=%{y}\\u003cextra\\u003e\\u003c\\u002fextra\\u003e\",\"legendgroup\":\"Footwear\",\"line\":{\"color\":\"#B6E880\",\"dash\":\"solid\"},\"marker\":{\"symbol\":\"circle\"},\"mode\":\"lines\",\"name\":\"Footwear\",\"orientation\":\"v\",\"showlegend\":true,\"x\":[2013,2014,2015,2016,2017,2018,2019,2020,2021,2022,2023],\"xaxis\":\"x\",\"y\":[0.0586890243902439,0.08623095084782142,0.04160725858716786,0.046842854882101596,0.0001787629603146228,0.0,0.0,0.0,0.0,0.004178636719770175,0.007565250283696885],\"yaxis\":\"y\",\"type\":\"scatter\"},{\"hovertemplate\":\"variable=Cigar Tips\\u003cbr\\u003eindex=%{x}\\u003cbr\\u003evalue=%{y}\\u003cextra\\u003e\\u003c\\u002fextra\\u003e\",\"legendgroup\":\"Cigar Tips\",\"line\":{\"color\":\"#FF97FF\",\"dash\":\"solid\"},\"marker\":{\"symbol\":\"circle\"},\"mode\":\"lines\",\"name\":\"Cigar Tips\",\"orientation\":\"v\",\"showlegend\":true,\"x\":[2013,2014,2015,2016,2017,2018,2019,2020,2021,2022,2023],\"xaxis\":\"x\",\"y\":[0.0,0.019639407598197038,0.0005184705119896306,0.05681278683335971,0.0305684662138005,0.03526361279170268,0.04348846304262808,0.0006363347120585428,0.06473988439306358,0.0334290937581614,0.003278275122935317],\"yaxis\":\"y\",\"type\":\"scatter\"},{\"hovertemplate\":\"variable=Rope\\u003cbr\\u003eindex=%{x}\\u003cbr\\u003evalue=%{y}\\u003cextra\\u003e\\u003c\\u002fextra\\u003e\",\"legendgroup\":\"Rope\",\"line\":{\"color\":\"#FECB52\",\"dash\":\"solid\"},\"marker\":{\"symbol\":\"circle\"},\"mode\":\"lines\",\"name\":\"Rope\",\"orientation\":\"v\",\"showlegend\":true,\"x\":[2013,2014,2015,2016,2017,2018,2019,2020,2021,2022,2023],\"xaxis\":\"x\",\"y\":[0.0,0.0,0.009202851587815943,0.09052065200189903,0.022524132999642475,0.023509075194468453,0.0463042628079781,0.004454342984409799,0.04888521882741536,0.0167145468790807,0.0007565250283696885],\"yaxis\":\"y\",\"type\":\"scatter\"},{\"hovertemplate\":\"variable=Beverage Bottles\\u003cbr\\u003eindex=%{x}\\u003cbr\\u003evalue=%{y}\\u003cextra\\u003e\\u003c\\u002fextra\\u003e\",\"legendgroup\":\"Beverage Bottles\",\"line\":{\"color\":\"#636efa\",\"dash\":\"solid\"},\"marker\":{\"symbol\":\"circle\"},\"mode\":\"lines\",\"name\":\"Beverage Bottles\",\"orientation\":\"v\",\"showlegend\":true,\"x\":[2013,2014,2015,2016,2017,2018,2019,2020,2021,2022,2023],\"xaxis\":\"x\",\"y\":[0.0,0.0,0.0,0.22361133090678906,0.0,0.0,0.0,0.0,0.0,0.0,0.0],\"yaxis\":\"y\",\"type\":\"scatter\"},{\"hovertemplate\":\"variable=Tires\\u003cbr\\u003eindex=%{x}\\u003cbr\\u003evalue=%{y}\\u003cextra\\u003e\\u003c\\u002fextra\\u003e\",\"legendgroup\":\"Tires\",\"line\":{\"color\":\"#EF553B\",\"dash\":\"solid\"},\"marker\":{\"symbol\":\"circle\"},\"mode\":\"lines\",\"name\":\"Tires\",\"orientation\":\"v\",\"showlegend\":true,\"x\":[2013,2014,2015,2016,2017,2018,2019,2020,2021,2022,2023],\"xaxis\":\"x\",\"y\":[0.012195121951219513,0.02092723760463619,0.013998703823720026,0.011235955056179775,0.008580622095101895,0.006093344857389801,0.0057880328509972625,0.013363028953229399,0.006275805119735756,0.00705144946461217,0.0027739251040221915],\"yaxis\":\"y\",\"type\":\"scatter\"},{\"hovertemplate\":\"variable=Bagged Pet Waste\\u003cbr\\u003eindex=%{x}\\u003cbr\\u003evalue=%{y}\\u003cextra\\u003e\\u003c\\u002fextra\\u003e\",\"legendgroup\":\"Bagged Pet Waste\",\"line\":{\"color\":\"#00cc96\",\"dash\":\"solid\"},\"marker\":{\"symbol\":\"circle\"},\"mode\":\"lines\",\"name\":\"Bagged Pet Waste\",\"orientation\":\"v\",\"showlegend\":true,\"x\":[2013,2014,2015,2016,2017,2018,2019,2020,2021,2022,2023],\"xaxis\":\"x\",\"y\":[0.012086236933797909,0.0,0.0,0.0,0.0,0.0,0.0,0.044543429844097995,0.052518579686209745,0.044136850352572476,0.032026226200983485],\"yaxis\":\"y\",\"type\":\"scatter\"},{\"hovertemplate\":\"variable=Beverage Pouches\\u003cbr\\u003eindex=%{x}\\u003cbr\\u003evalue=%{y}\\u003cextra\\u003e\\u003c\\u002fextra\\u003e\",\"legendgroup\":\"Beverage Pouches\",\"line\":{\"color\":\"#ab63fa\",\"dash\":\"solid\"},\"marker\":{\"symbol\":\"circle\"},\"mode\":\"lines\",\"name\":\"Beverage Pouches\",\"orientation\":\"v\",\"showlegend\":true,\"x\":[2013,2014,2015,2016,2017,2018,2019,2020,2021,2022,2023],\"xaxis\":\"x\",\"y\":[0.0,0.0,0.0,0.0,0.0,0.0,0.0,0.15272033089405027,0.016184971098265895,0.04492034473752938,0.041356701550876306],\"yaxis\":\"y\",\"type\":\"scatter\"},{\"hovertemplate\":\"variable=Appliances\\u003cbr\\u003eindex=%{x}\\u003cbr\\u003evalue=%{y}\\u003cextra\\u003e\\u003c\\u002fextra\\u003e\",\"legendgroup\":\"Appliances\",\"line\":{\"color\":\"#FFA15A\",\"dash\":\"solid\"},\"marker\":{\"symbol\":\"circle\"},\"mode\":\"lines\",\"name\":\"Appliances\",\"orientation\":\"v\",\"showlegend\":true,\"x\":[2013,2014,2015,2016,2017,2018,2019,2020,2021,2022,2023],\"xaxis\":\"x\",\"y\":[0.01600609756097561,0.013629534234814339,0.005962410887880752,0.01012818483937332,0.007508044333214158,0.003111495246326707,0.0035979663668361363,0.0,0.00726672171758877,0.0013058239749281796,0.0176522506619594],\"yaxis\":\"y\",\"type\":\"scatter\"},{\"hovertemplate\":\"variable=E-Waste\\u003cbr\\u003eindex=%{x}\\u003cbr\\u003evalue=%{y}\\u003cextra\\u003e\\u003c\\u002fextra\\u003e\",\"legendgroup\":\"E-Waste\",\"line\":{\"color\":\"#19d3f3\",\"dash\":\"solid\"},\"marker\":{\"symbol\":\"circle\"},\"mode\":\"lines\",\"name\":\"E-Waste\",\"orientation\":\"v\",\"showlegend\":true,\"x\":[2013,2014,2015,2016,2017,2018,2019,2020,2021,2022,2023],\"xaxis\":\"x\",\"y\":[0.0,0.0,0.0,0.0,0.0,0.0,0.0,0.024180719058224626,0.040957886044591246,0.01906503003395142,0.02824360105913504],\"yaxis\":\"y\",\"type\":\"scatter\"},{\"hovertemplate\":\"variable=Car Parts\\u003cbr\\u003eindex=%{x}\\u003cbr\\u003evalue=%{y}\\u003cextra\\u003e\\u003c\\u002fextra\\u003e\",\"legendgroup\":\"Car Parts\",\"line\":{\"color\":\"#FF6692\",\"dash\":\"solid\"},\"marker\":{\"symbol\":\"circle\"},\"mode\":\"lines\",\"name\":\"Car Parts\",\"orientation\":\"v\",\"showlegend\":true,\"x\":[2013,2014,2015,2016,2017,2018,2019,2020,2021,2022,2023],\"xaxis\":\"x\",\"y\":[0.0033754355400696864,0.010839235887529513,0.006740116655865198,0.012027219496755816,0.0,0.0,0.0,0.0,0.0,0.0,0.0],\"yaxis\":\"y\",\"type\":\"scatter\"},{\"hovertemplate\":\"variable=Bikes\\u003cbr\\u003eindex=%{x}\\u003cbr\\u003evalue=%{y}\\u003cextra\\u003e\\u003c\\u002fextra\\u003e\",\"legendgroup\":\"Bikes\",\"line\":{\"color\":\"#B6E880\",\"dash\":\"solid\"},\"marker\":{\"symbol\":\"circle\"},\"mode\":\"lines\",\"name\":\"Bikes\",\"orientation\":\"v\",\"showlegend\":true,\"x\":[2013,2014,2015,2016,2017,2018,2019,2020,2021,2022,2023],\"xaxis\":\"x\",\"y\":[0.006750871080139373,0.007512341704228375,0.0023331173039533378,0.007754391517645197,0.0,0.0,0.0,0.0,0.0,0.0,0.0],\"yaxis\":\"y\",\"type\":\"scatter\"}],                        {\"template\":{\"data\":{\"histogram2dcontour\":[{\"type\":\"histogram2dcontour\",\"colorbar\":{\"outlinewidth\":0,\"ticks\":\"\"},\"colorscale\":[[0.0,\"#0d0887\"],[0.1111111111111111,\"#46039f\"],[0.2222222222222222,\"#7201a8\"],[0.3333333333333333,\"#9c179e\"],[0.4444444444444444,\"#bd3786\"],[0.5555555555555556,\"#d8576b\"],[0.6666666666666666,\"#ed7953\"],[0.7777777777777778,\"#fb9f3a\"],[0.8888888888888888,\"#fdca26\"],[1.0,\"#f0f921\"]]}],\"choropleth\":[{\"type\":\"choropleth\",\"colorbar\":{\"outlinewidth\":0,\"ticks\":\"\"}}],\"histogram2d\":[{\"type\":\"histogram2d\",\"colorbar\":{\"outlinewidth\":0,\"ticks\":\"\"},\"colorscale\":[[0.0,\"#0d0887\"],[0.1111111111111111,\"#46039f\"],[0.2222222222222222,\"#7201a8\"],[0.3333333333333333,\"#9c179e\"],[0.4444444444444444,\"#bd3786\"],[0.5555555555555556,\"#d8576b\"],[0.6666666666666666,\"#ed7953\"],[0.7777777777777778,\"#fb9f3a\"],[0.8888888888888888,\"#fdca26\"],[1.0,\"#f0f921\"]]}],\"heatmap\":[{\"type\":\"heatmap\",\"colorbar\":{\"outlinewidth\":0,\"ticks\":\"\"},\"colorscale\":[[0.0,\"#0d0887\"],[0.1111111111111111,\"#46039f\"],[0.2222222222222222,\"#7201a8\"],[0.3333333333333333,\"#9c179e\"],[0.4444444444444444,\"#bd3786\"],[0.5555555555555556,\"#d8576b\"],[0.6666666666666666,\"#ed7953\"],[0.7777777777777778,\"#fb9f3a\"],[0.8888888888888888,\"#fdca26\"],[1.0,\"#f0f921\"]]}],\"heatmapgl\":[{\"type\":\"heatmapgl\",\"colorbar\":{\"outlinewidth\":0,\"ticks\":\"\"},\"colorscale\":[[0.0,\"#0d0887\"],[0.1111111111111111,\"#46039f\"],[0.2222222222222222,\"#7201a8\"],[0.3333333333333333,\"#9c179e\"],[0.4444444444444444,\"#bd3786\"],[0.5555555555555556,\"#d8576b\"],[0.6666666666666666,\"#ed7953\"],[0.7777777777777778,\"#fb9f3a\"],[0.8888888888888888,\"#fdca26\"],[1.0,\"#f0f921\"]]}],\"contourcarpet\":[{\"type\":\"contourcarpet\",\"colorbar\":{\"outlinewidth\":0,\"ticks\":\"\"}}],\"contour\":[{\"type\":\"contour\",\"colorbar\":{\"outlinewidth\":0,\"ticks\":\"\"},\"colorscale\":[[0.0,\"#0d0887\"],[0.1111111111111111,\"#46039f\"],[0.2222222222222222,\"#7201a8\"],[0.3333333333333333,\"#9c179e\"],[0.4444444444444444,\"#bd3786\"],[0.5555555555555556,\"#d8576b\"],[0.6666666666666666,\"#ed7953\"],[0.7777777777777778,\"#fb9f3a\"],[0.8888888888888888,\"#fdca26\"],[1.0,\"#f0f921\"]]}],\"surface\":[{\"type\":\"surface\",\"colorbar\":{\"outlinewidth\":0,\"ticks\":\"\"},\"colorscale\":[[0.0,\"#0d0887\"],[0.1111111111111111,\"#46039f\"],[0.2222222222222222,\"#7201a8\"],[0.3333333333333333,\"#9c179e\"],[0.4444444444444444,\"#bd3786\"],[0.5555555555555556,\"#d8576b\"],[0.6666666666666666,\"#ed7953\"],[0.7777777777777778,\"#fb9f3a\"],[0.8888888888888888,\"#fdca26\"],[1.0,\"#f0f921\"]]}],\"mesh3d\":[{\"type\":\"mesh3d\",\"colorbar\":{\"outlinewidth\":0,\"ticks\":\"\"}}],\"scatter\":[{\"fillpattern\":{\"fillmode\":\"overlay\",\"size\":10,\"solidity\":0.2},\"type\":\"scatter\"}],\"parcoords\":[{\"type\":\"parcoords\",\"line\":{\"colorbar\":{\"outlinewidth\":0,\"ticks\":\"\"}}}],\"scatterpolargl\":[{\"type\":\"scatterpolargl\",\"marker\":{\"colorbar\":{\"outlinewidth\":0,\"ticks\":\"\"}}}],\"bar\":[{\"error_x\":{\"color\":\"#2a3f5f\"},\"error_y\":{\"color\":\"#2a3f5f\"},\"marker\":{\"line\":{\"color\":\"#E5ECF6\",\"width\":0.5},\"pattern\":{\"fillmode\":\"overlay\",\"size\":10,\"solidity\":0.2}},\"type\":\"bar\"}],\"scattergeo\":[{\"type\":\"scattergeo\",\"marker\":{\"colorbar\":{\"outlinewidth\":0,\"ticks\":\"\"}}}],\"scatterpolar\":[{\"type\":\"scatterpolar\",\"marker\":{\"colorbar\":{\"outlinewidth\":0,\"ticks\":\"\"}}}],\"histogram\":[{\"marker\":{\"pattern\":{\"fillmode\":\"overlay\",\"size\":10,\"solidity\":0.2}},\"type\":\"histogram\"}],\"scattergl\":[{\"type\":\"scattergl\",\"marker\":{\"colorbar\":{\"outlinewidth\":0,\"ticks\":\"\"}}}],\"scatter3d\":[{\"type\":\"scatter3d\",\"line\":{\"colorbar\":{\"outlinewidth\":0,\"ticks\":\"\"}},\"marker\":{\"colorbar\":{\"outlinewidth\":0,\"ticks\":\"\"}}}],\"scattermapbox\":[{\"type\":\"scattermapbox\",\"marker\":{\"colorbar\":{\"outlinewidth\":0,\"ticks\":\"\"}}}],\"scatterternary\":[{\"type\":\"scatterternary\",\"marker\":{\"colorbar\":{\"outlinewidth\":0,\"ticks\":\"\"}}}],\"scattercarpet\":[{\"type\":\"scattercarpet\",\"marker\":{\"colorbar\":{\"outlinewidth\":0,\"ticks\":\"\"}}}],\"carpet\":[{\"aaxis\":{\"endlinecolor\":\"#2a3f5f\",\"gridcolor\":\"white\",\"linecolor\":\"white\",\"minorgridcolor\":\"white\",\"startlinecolor\":\"#2a3f5f\"},\"baxis\":{\"endlinecolor\":\"#2a3f5f\",\"gridcolor\":\"white\",\"linecolor\":\"white\",\"minorgridcolor\":\"white\",\"startlinecolor\":\"#2a3f5f\"},\"type\":\"carpet\"}],\"table\":[{\"cells\":{\"fill\":{\"color\":\"#EBF0F8\"},\"line\":{\"color\":\"white\"}},\"header\":{\"fill\":{\"color\":\"#C8D4E3\"},\"line\":{\"color\":\"white\"}},\"type\":\"table\"}],\"barpolar\":[{\"marker\":{\"line\":{\"color\":\"#E5ECF6\",\"width\":0.5},\"pattern\":{\"fillmode\":\"overlay\",\"size\":10,\"solidity\":0.2}},\"type\":\"barpolar\"}],\"pie\":[{\"automargin\":true,\"type\":\"pie\"}]},\"layout\":{\"autotypenumbers\":\"strict\",\"colorway\":[\"#636efa\",\"#EF553B\",\"#00cc96\",\"#ab63fa\",\"#FFA15A\",\"#19d3f3\",\"#FF6692\",\"#B6E880\",\"#FF97FF\",\"#FECB52\"],\"font\":{\"color\":\"#2a3f5f\"},\"hovermode\":\"closest\",\"hoverlabel\":{\"align\":\"left\"},\"paper_bgcolor\":\"white\",\"plot_bgcolor\":\"#E5ECF6\",\"polar\":{\"bgcolor\":\"#E5ECF6\",\"angularaxis\":{\"gridcolor\":\"white\",\"linecolor\":\"white\",\"ticks\":\"\"},\"radialaxis\":{\"gridcolor\":\"white\",\"linecolor\":\"white\",\"ticks\":\"\"}},\"ternary\":{\"bgcolor\":\"#E5ECF6\",\"aaxis\":{\"gridcolor\":\"white\",\"linecolor\":\"white\",\"ticks\":\"\"},\"baxis\":{\"gridcolor\":\"white\",\"linecolor\":\"white\",\"ticks\":\"\"},\"caxis\":{\"gridcolor\":\"white\",\"linecolor\":\"white\",\"ticks\":\"\"}},\"coloraxis\":{\"colorbar\":{\"outlinewidth\":0,\"ticks\":\"\"}},\"colorscale\":{\"sequential\":[[0.0,\"#0d0887\"],[0.1111111111111111,\"#46039f\"],[0.2222222222222222,\"#7201a8\"],[0.3333333333333333,\"#9c179e\"],[0.4444444444444444,\"#bd3786\"],[0.5555555555555556,\"#d8576b\"],[0.6666666666666666,\"#ed7953\"],[0.7777777777777778,\"#fb9f3a\"],[0.8888888888888888,\"#fdca26\"],[1.0,\"#f0f921\"]],\"sequentialminus\":[[0.0,\"#0d0887\"],[0.1111111111111111,\"#46039f\"],[0.2222222222222222,\"#7201a8\"],[0.3333333333333333,\"#9c179e\"],[0.4444444444444444,\"#bd3786\"],[0.5555555555555556,\"#d8576b\"],[0.6666666666666666,\"#ed7953\"],[0.7777777777777778,\"#fb9f3a\"],[0.8888888888888888,\"#fdca26\"],[1.0,\"#f0f921\"]],\"diverging\":[[0,\"#8e0152\"],[0.1,\"#c51b7d\"],[0.2,\"#de77ae\"],[0.3,\"#f1b6da\"],[0.4,\"#fde0ef\"],[0.5,\"#f7f7f7\"],[0.6,\"#e6f5d0\"],[0.7,\"#b8e186\"],[0.8,\"#7fbc41\"],[0.9,\"#4d9221\"],[1,\"#276419\"]]},\"xaxis\":{\"gridcolor\":\"white\",\"linecolor\":\"white\",\"ticks\":\"\",\"title\":{\"standoff\":15},\"zerolinecolor\":\"white\",\"automargin\":true,\"zerolinewidth\":2},\"yaxis\":{\"gridcolor\":\"white\",\"linecolor\":\"white\",\"ticks\":\"\",\"title\":{\"standoff\":15},\"zerolinecolor\":\"white\",\"automargin\":true,\"zerolinewidth\":2},\"scene\":{\"xaxis\":{\"backgroundcolor\":\"#E5ECF6\",\"gridcolor\":\"white\",\"linecolor\":\"white\",\"showbackground\":true,\"ticks\":\"\",\"zerolinecolor\":\"white\",\"gridwidth\":2},\"yaxis\":{\"backgroundcolor\":\"#E5ECF6\",\"gridcolor\":\"white\",\"linecolor\":\"white\",\"showbackground\":true,\"ticks\":\"\",\"zerolinecolor\":\"white\",\"gridwidth\":2},\"zaxis\":{\"backgroundcolor\":\"#E5ECF6\",\"gridcolor\":\"white\",\"linecolor\":\"white\",\"showbackground\":true,\"ticks\":\"\",\"zerolinecolor\":\"white\",\"gridwidth\":2}},\"shapedefaults\":{\"line\":{\"color\":\"#2a3f5f\"}},\"annotationdefaults\":{\"arrowcolor\":\"#2a3f5f\",\"arrowhead\":0,\"arrowwidth\":1},\"geo\":{\"bgcolor\":\"white\",\"landcolor\":\"#E5ECF6\",\"subunitcolor\":\"white\",\"showland\":true,\"showlakes\":true,\"lakecolor\":\"white\"},\"title\":{\"x\":0.05},\"mapbox\":{\"style\":\"light\"}}},\"xaxis\":{\"anchor\":\"y\",\"domain\":[0.0,1.0],\"title\":{\"text\":\"Year\"}},\"yaxis\":{\"anchor\":\"x\",\"domain\":[0.0,1.0],\"title\":{\"text\":\"Number of Items Per Volunteer\"}},\"legend\":{\"title\":{\"text\":\"Debris Category\"},\"tracegroupgap\":0},\"margin\":{\"t\":60},\"autosize\":false,\"width\":1000,\"height\":700,\"title\":{\"text\":\"Debris Items Collected Per Volunteer For the Years 2013-23\"}},                        {\"responsive\": true}                    ).then(function(){\n",
       "                            \n",
       "var gd = document.getElementById('2bf1d43f-7ed0-49ef-b9be-b7a501d485e7');\n",
       "var x = new MutationObserver(function (mutations, observer) {{\n",
       "        var display = window.getComputedStyle(gd).display;\n",
       "        if (!display || display === 'none') {{\n",
       "            console.log([gd, 'removed!']);\n",
       "            Plotly.purge(gd);\n",
       "            observer.disconnect();\n",
       "        }}\n",
       "}});\n",
       "\n",
       "// Listen for the removal of the full notebook cells\n",
       "var notebookContainer = gd.closest('#notebook-container');\n",
       "if (notebookContainer) {{\n",
       "    x.observe(notebookContainer, {childList: true});\n",
       "}}\n",
       "\n",
       "// Listen for the clearing of the current output cell\n",
       "var outputEl = gd.closest('.output');\n",
       "if (outputEl) {{\n",
       "    x.observe(outputEl, {childList: true});\n",
       "}}\n",
       "\n",
       "                        })                };                });            </script>        </div>"
      ]
     },
     "metadata": {},
     "output_type": "display_data"
    }
   ],
   "source": [
    "# Number of item per volunteer line graph 2013-23\n",
    "fig = graph_maker.item_per_volunteer()\n",
    "fig.show()"
   ]
  },
  {
   "cell_type": "markdown",
   "id": "784c1cf6-ea63-4eca-8f1a-0db9fe31d625",
   "metadata": {},
   "source": [
    "In the Top 5 Trash Categories graph, it looks like the number of cigarette butts have increased since 2020. But after dividing number of debris items by number of volunteers, it seems there might be a slight decreasing trend for cigarette butts from 2020 onwards. Unfortunately there seems to be an increasing number of plastic pieces on our shores.\n",
    "\n",
    "## Debris Items Grouped by Material\n",
    "We'll group our data by trash material and look what's the most common material that's littering our coastline. This graph is similar to Figure 14 in NOAA's marine debris report, but instead of showing percentages of total number of trash items, we're plotting number of debris items grouped by their material per volunteer. Somewhat different categories are used here: wood and paper are labeled just 'wood'."
   ]
  },
  {
   "cell_type": "code",
   "execution_count": 13,
   "id": "18f021a2-f0ff-4f0d-9b28-46006c1fc5f6",
   "metadata": {},
   "outputs": [
    {
     "data": {
      "application/vnd.plotly.v1+json": {
       "config": {
        "plotlyServerURL": "https://plot.ly"
       },
       "data": [
        {
         "hovertemplate": "material=Plastic<br>Year=%{x}<br>value=%{y}<extra></extra>",
         "legendgroup": "Plastic",
         "line": {
          "color": "#636efa",
          "dash": "solid"
         },
         "marker": {
          "symbol": "circle"
         },
         "mode": "lines",
         "name": "Plastic",
         "orientation": "v",
         "showlegend": true,
         "type": "scatter",
         "x": [
          2013,
          2014,
          2015,
          2016,
          2017,
          2018,
          2019,
          2020,
          2021,
          2022,
          2023
         ],
         "xaxis": "x",
         "y": [
          21.725283101045296,
          28.059991414466626,
          17.115748541801686,
          18.24006963127077,
          13.197979978548446,
          17.83007778738116,
          17.6928431755964,
          26.75851097677378,
          30.23286540049546,
          28.36275790023505,
          30.419871390745175
         ],
         "yaxis": "y"
        },
        {
         "hovertemplate": "material=Wood<br>Year=%{x}<br>value=%{y}<extra></extra>",
         "legendgroup": "Wood",
         "line": {
          "color": "#EF553B",
          "dash": "solid"
         },
         "marker": {
          "symbol": "circle"
         },
         "mode": "lines",
         "name": "Wood",
         "orientation": "v",
         "showlegend": true,
         "type": "scatter",
         "x": [
          2013,
          2014,
          2015,
          2016,
          2017,
          2018,
          2019,
          2020,
          2021,
          2022,
          2023
         ],
         "xaxis": "x",
         "y": [
          2.8350936411149825,
          3.720004292766688,
          1.8790667530784186,
          1.9523658806773225,
          1.8316052913836252,
          3.185133967156439,
          3.146812671098944,
          3.6137448297804644,
          4.60710156895128,
          6.21546095586315,
          5.118143991930399
         ],
         "yaxis": "y"
        },
        {
         "hovertemplate": "material=Mixed<br>Year=%{x}<br>value=%{y}<extra></extra>",
         "legendgroup": "Mixed",
         "line": {
          "color": "#00cc96",
          "dash": "solid"
         },
         "marker": {
          "symbol": "circle"
         },
         "mode": "lines",
         "name": "Mixed",
         "orientation": "v",
         "showlegend": true,
         "type": "scatter",
         "x": [
          2013,
          2014,
          2015,
          2016,
          2017,
          2018,
          2019,
          2020,
          2021,
          2022,
          2023
         ],
         "xaxis": "x",
         "y": [
          2.130008710801394,
          2.4419939901266368,
          1.6307193778353857,
          1.7039088463364456,
          1.0391490883089025,
          1.1685825410544513,
          1.0337113805240516,
          6.344257079223672,
          3.918744838976053,
          3.566466440323844,
          1.7291640398436514
         ],
         "yaxis": "y"
        },
        {
         "hovertemplate": "material=Glass<br>Year=%{x}<br>value=%{y}<extra></extra>",
         "legendgroup": "Glass",
         "line": {
          "color": "#ab63fa",
          "dash": "solid"
         },
         "marker": {
          "symbol": "circle"
         },
         "mode": "lines",
         "name": "Glass",
         "orientation": "v",
         "showlegend": true,
         "type": "scatter",
         "x": [
          2013,
          2014,
          2015,
          2016,
          2017,
          2018,
          2019,
          2020,
          2021,
          2022,
          2023
         ],
         "xaxis": "x",
         "y": [
          2.548562717770035,
          3.161086069972097,
          2.3765392093324693,
          2.762304162050958,
          1.1163746871648195,
          1.990838375108038,
          1.6412983965584669,
          1.4622971683105312,
          4.198513625103221,
          1.9866805954557325,
          1.5937460597654771
         ],
         "yaxis": "y"
        },
        {
         "hovertemplate": "material=Metal<br>Year=%{x}<br>value=%{y}<extra></extra>",
         "legendgroup": "Metal",
         "line": {
          "color": "#FFA15A",
          "dash": "solid"
         },
         "marker": {
          "symbol": "circle"
         },
         "mode": "lines",
         "name": "Metal",
         "orientation": "v",
         "showlegend": true,
         "type": "scatter",
         "x": [
          2013,
          2014,
          2015,
          2016,
          2017,
          2018,
          2019,
          2020,
          2021,
          2022,
          2023
         ],
         "xaxis": "x",
         "y": [
          1.8690113240418118,
          2.505687915861773,
          1.9981853532080363,
          1.4807722740940021,
          0.8337504469074007,
          1.5394987035436474,
          0.8059444661712944,
          1.6302895322939865,
          1.5943848059454995,
          1.8433011230086185,
          1.426554028495776
         ],
         "yaxis": "y"
        },
        {
         "hovertemplate": "material=Cloth<br>Year=%{x}<br>value=%{y}<extra></extra>",
         "legendgroup": "Cloth",
         "line": {
          "color": "#19d3f3",
          "dash": "solid"
         },
         "marker": {
          "symbol": "circle"
         },
         "mode": "lines",
         "name": "Cloth",
         "orientation": "v",
         "showlegend": true,
         "type": "scatter",
         "x": [
          2013,
          2014,
          2015,
          2016,
          2017,
          2018,
          2019,
          2020,
          2021,
          2022,
          2023
         ],
         "xaxis": "x",
         "y": [
          0.5236280487804879,
          0.22204335694355012,
          0.12235904082955282,
          0.1229624940655167,
          0.0010725777618877368,
          0,
          0.1590926867422761,
          0.304804327076042,
          0.3342691990090834,
          0.4366675372159833,
          0.6122809229605346
         ],
         "yaxis": "y"
        }
       ],
       "layout": {
        "autosize": false,
        "height": 700,
        "legend": {
         "title": {
          "text": "Material"
         },
         "tracegroupgap": 0
        },
        "margin": {
         "t": 60
        },
        "template": {
         "data": {
          "bar": [
           {
            "error_x": {
             "color": "#2a3f5f"
            },
            "error_y": {
             "color": "#2a3f5f"
            },
            "marker": {
             "line": {
              "color": "#E5ECF6",
              "width": 0.5
             },
             "pattern": {
              "fillmode": "overlay",
              "size": 10,
              "solidity": 0.2
             }
            },
            "type": "bar"
           }
          ],
          "barpolar": [
           {
            "marker": {
             "line": {
              "color": "#E5ECF6",
              "width": 0.5
             },
             "pattern": {
              "fillmode": "overlay",
              "size": 10,
              "solidity": 0.2
             }
            },
            "type": "barpolar"
           }
          ],
          "carpet": [
           {
            "aaxis": {
             "endlinecolor": "#2a3f5f",
             "gridcolor": "white",
             "linecolor": "white",
             "minorgridcolor": "white",
             "startlinecolor": "#2a3f5f"
            },
            "baxis": {
             "endlinecolor": "#2a3f5f",
             "gridcolor": "white",
             "linecolor": "white",
             "minorgridcolor": "white",
             "startlinecolor": "#2a3f5f"
            },
            "type": "carpet"
           }
          ],
          "choropleth": [
           {
            "colorbar": {
             "outlinewidth": 0,
             "ticks": ""
            },
            "type": "choropleth"
           }
          ],
          "contour": [
           {
            "colorbar": {
             "outlinewidth": 0,
             "ticks": ""
            },
            "colorscale": [
             [
              0,
              "#0d0887"
             ],
             [
              0.1111111111111111,
              "#46039f"
             ],
             [
              0.2222222222222222,
              "#7201a8"
             ],
             [
              0.3333333333333333,
              "#9c179e"
             ],
             [
              0.4444444444444444,
              "#bd3786"
             ],
             [
              0.5555555555555556,
              "#d8576b"
             ],
             [
              0.6666666666666666,
              "#ed7953"
             ],
             [
              0.7777777777777778,
              "#fb9f3a"
             ],
             [
              0.8888888888888888,
              "#fdca26"
             ],
             [
              1,
              "#f0f921"
             ]
            ],
            "type": "contour"
           }
          ],
          "contourcarpet": [
           {
            "colorbar": {
             "outlinewidth": 0,
             "ticks": ""
            },
            "type": "contourcarpet"
           }
          ],
          "heatmap": [
           {
            "colorbar": {
             "outlinewidth": 0,
             "ticks": ""
            },
            "colorscale": [
             [
              0,
              "#0d0887"
             ],
             [
              0.1111111111111111,
              "#46039f"
             ],
             [
              0.2222222222222222,
              "#7201a8"
             ],
             [
              0.3333333333333333,
              "#9c179e"
             ],
             [
              0.4444444444444444,
              "#bd3786"
             ],
             [
              0.5555555555555556,
              "#d8576b"
             ],
             [
              0.6666666666666666,
              "#ed7953"
             ],
             [
              0.7777777777777778,
              "#fb9f3a"
             ],
             [
              0.8888888888888888,
              "#fdca26"
             ],
             [
              1,
              "#f0f921"
             ]
            ],
            "type": "heatmap"
           }
          ],
          "heatmapgl": [
           {
            "colorbar": {
             "outlinewidth": 0,
             "ticks": ""
            },
            "colorscale": [
             [
              0,
              "#0d0887"
             ],
             [
              0.1111111111111111,
              "#46039f"
             ],
             [
              0.2222222222222222,
              "#7201a8"
             ],
             [
              0.3333333333333333,
              "#9c179e"
             ],
             [
              0.4444444444444444,
              "#bd3786"
             ],
             [
              0.5555555555555556,
              "#d8576b"
             ],
             [
              0.6666666666666666,
              "#ed7953"
             ],
             [
              0.7777777777777778,
              "#fb9f3a"
             ],
             [
              0.8888888888888888,
              "#fdca26"
             ],
             [
              1,
              "#f0f921"
             ]
            ],
            "type": "heatmapgl"
           }
          ],
          "histogram": [
           {
            "marker": {
             "pattern": {
              "fillmode": "overlay",
              "size": 10,
              "solidity": 0.2
             }
            },
            "type": "histogram"
           }
          ],
          "histogram2d": [
           {
            "colorbar": {
             "outlinewidth": 0,
             "ticks": ""
            },
            "colorscale": [
             [
              0,
              "#0d0887"
             ],
             [
              0.1111111111111111,
              "#46039f"
             ],
             [
              0.2222222222222222,
              "#7201a8"
             ],
             [
              0.3333333333333333,
              "#9c179e"
             ],
             [
              0.4444444444444444,
              "#bd3786"
             ],
             [
              0.5555555555555556,
              "#d8576b"
             ],
             [
              0.6666666666666666,
              "#ed7953"
             ],
             [
              0.7777777777777778,
              "#fb9f3a"
             ],
             [
              0.8888888888888888,
              "#fdca26"
             ],
             [
              1,
              "#f0f921"
             ]
            ],
            "type": "histogram2d"
           }
          ],
          "histogram2dcontour": [
           {
            "colorbar": {
             "outlinewidth": 0,
             "ticks": ""
            },
            "colorscale": [
             [
              0,
              "#0d0887"
             ],
             [
              0.1111111111111111,
              "#46039f"
             ],
             [
              0.2222222222222222,
              "#7201a8"
             ],
             [
              0.3333333333333333,
              "#9c179e"
             ],
             [
              0.4444444444444444,
              "#bd3786"
             ],
             [
              0.5555555555555556,
              "#d8576b"
             ],
             [
              0.6666666666666666,
              "#ed7953"
             ],
             [
              0.7777777777777778,
              "#fb9f3a"
             ],
             [
              0.8888888888888888,
              "#fdca26"
             ],
             [
              1,
              "#f0f921"
             ]
            ],
            "type": "histogram2dcontour"
           }
          ],
          "mesh3d": [
           {
            "colorbar": {
             "outlinewidth": 0,
             "ticks": ""
            },
            "type": "mesh3d"
           }
          ],
          "parcoords": [
           {
            "line": {
             "colorbar": {
              "outlinewidth": 0,
              "ticks": ""
             }
            },
            "type": "parcoords"
           }
          ],
          "pie": [
           {
            "automargin": true,
            "type": "pie"
           }
          ],
          "scatter": [
           {
            "fillpattern": {
             "fillmode": "overlay",
             "size": 10,
             "solidity": 0.2
            },
            "type": "scatter"
           }
          ],
          "scatter3d": [
           {
            "line": {
             "colorbar": {
              "outlinewidth": 0,
              "ticks": ""
             }
            },
            "marker": {
             "colorbar": {
              "outlinewidth": 0,
              "ticks": ""
             }
            },
            "type": "scatter3d"
           }
          ],
          "scattercarpet": [
           {
            "marker": {
             "colorbar": {
              "outlinewidth": 0,
              "ticks": ""
             }
            },
            "type": "scattercarpet"
           }
          ],
          "scattergeo": [
           {
            "marker": {
             "colorbar": {
              "outlinewidth": 0,
              "ticks": ""
             }
            },
            "type": "scattergeo"
           }
          ],
          "scattergl": [
           {
            "marker": {
             "colorbar": {
              "outlinewidth": 0,
              "ticks": ""
             }
            },
            "type": "scattergl"
           }
          ],
          "scattermapbox": [
           {
            "marker": {
             "colorbar": {
              "outlinewidth": 0,
              "ticks": ""
             }
            },
            "type": "scattermapbox"
           }
          ],
          "scatterpolar": [
           {
            "marker": {
             "colorbar": {
              "outlinewidth": 0,
              "ticks": ""
             }
            },
            "type": "scatterpolar"
           }
          ],
          "scatterpolargl": [
           {
            "marker": {
             "colorbar": {
              "outlinewidth": 0,
              "ticks": ""
             }
            },
            "type": "scatterpolargl"
           }
          ],
          "scatterternary": [
           {
            "marker": {
             "colorbar": {
              "outlinewidth": 0,
              "ticks": ""
             }
            },
            "type": "scatterternary"
           }
          ],
          "surface": [
           {
            "colorbar": {
             "outlinewidth": 0,
             "ticks": ""
            },
            "colorscale": [
             [
              0,
              "#0d0887"
             ],
             [
              0.1111111111111111,
              "#46039f"
             ],
             [
              0.2222222222222222,
              "#7201a8"
             ],
             [
              0.3333333333333333,
              "#9c179e"
             ],
             [
              0.4444444444444444,
              "#bd3786"
             ],
             [
              0.5555555555555556,
              "#d8576b"
             ],
             [
              0.6666666666666666,
              "#ed7953"
             ],
             [
              0.7777777777777778,
              "#fb9f3a"
             ],
             [
              0.8888888888888888,
              "#fdca26"
             ],
             [
              1,
              "#f0f921"
             ]
            ],
            "type": "surface"
           }
          ],
          "table": [
           {
            "cells": {
             "fill": {
              "color": "#EBF0F8"
             },
             "line": {
              "color": "white"
             }
            },
            "header": {
             "fill": {
              "color": "#C8D4E3"
             },
             "line": {
              "color": "white"
             }
            },
            "type": "table"
           }
          ]
         },
         "layout": {
          "annotationdefaults": {
           "arrowcolor": "#2a3f5f",
           "arrowhead": 0,
           "arrowwidth": 1
          },
          "autotypenumbers": "strict",
          "coloraxis": {
           "colorbar": {
            "outlinewidth": 0,
            "ticks": ""
           }
          },
          "colorscale": {
           "diverging": [
            [
             0,
             "#8e0152"
            ],
            [
             0.1,
             "#c51b7d"
            ],
            [
             0.2,
             "#de77ae"
            ],
            [
             0.3,
             "#f1b6da"
            ],
            [
             0.4,
             "#fde0ef"
            ],
            [
             0.5,
             "#f7f7f7"
            ],
            [
             0.6,
             "#e6f5d0"
            ],
            [
             0.7,
             "#b8e186"
            ],
            [
             0.8,
             "#7fbc41"
            ],
            [
             0.9,
             "#4d9221"
            ],
            [
             1,
             "#276419"
            ]
           ],
           "sequential": [
            [
             0,
             "#0d0887"
            ],
            [
             0.1111111111111111,
             "#46039f"
            ],
            [
             0.2222222222222222,
             "#7201a8"
            ],
            [
             0.3333333333333333,
             "#9c179e"
            ],
            [
             0.4444444444444444,
             "#bd3786"
            ],
            [
             0.5555555555555556,
             "#d8576b"
            ],
            [
             0.6666666666666666,
             "#ed7953"
            ],
            [
             0.7777777777777778,
             "#fb9f3a"
            ],
            [
             0.8888888888888888,
             "#fdca26"
            ],
            [
             1,
             "#f0f921"
            ]
           ],
           "sequentialminus": [
            [
             0,
             "#0d0887"
            ],
            [
             0.1111111111111111,
             "#46039f"
            ],
            [
             0.2222222222222222,
             "#7201a8"
            ],
            [
             0.3333333333333333,
             "#9c179e"
            ],
            [
             0.4444444444444444,
             "#bd3786"
            ],
            [
             0.5555555555555556,
             "#d8576b"
            ],
            [
             0.6666666666666666,
             "#ed7953"
            ],
            [
             0.7777777777777778,
             "#fb9f3a"
            ],
            [
             0.8888888888888888,
             "#fdca26"
            ],
            [
             1,
             "#f0f921"
            ]
           ]
          },
          "colorway": [
           "#636efa",
           "#EF553B",
           "#00cc96",
           "#ab63fa",
           "#FFA15A",
           "#19d3f3",
           "#FF6692",
           "#B6E880",
           "#FF97FF",
           "#FECB52"
          ],
          "font": {
           "color": "#2a3f5f"
          },
          "geo": {
           "bgcolor": "white",
           "lakecolor": "white",
           "landcolor": "#E5ECF6",
           "showlakes": true,
           "showland": true,
           "subunitcolor": "white"
          },
          "hoverlabel": {
           "align": "left"
          },
          "hovermode": "closest",
          "mapbox": {
           "style": "light"
          },
          "paper_bgcolor": "white",
          "plot_bgcolor": "#E5ECF6",
          "polar": {
           "angularaxis": {
            "gridcolor": "white",
            "linecolor": "white",
            "ticks": ""
           },
           "bgcolor": "#E5ECF6",
           "radialaxis": {
            "gridcolor": "white",
            "linecolor": "white",
            "ticks": ""
           }
          },
          "scene": {
           "xaxis": {
            "backgroundcolor": "#E5ECF6",
            "gridcolor": "white",
            "gridwidth": 2,
            "linecolor": "white",
            "showbackground": true,
            "ticks": "",
            "zerolinecolor": "white"
           },
           "yaxis": {
            "backgroundcolor": "#E5ECF6",
            "gridcolor": "white",
            "gridwidth": 2,
            "linecolor": "white",
            "showbackground": true,
            "ticks": "",
            "zerolinecolor": "white"
           },
           "zaxis": {
            "backgroundcolor": "#E5ECF6",
            "gridcolor": "white",
            "gridwidth": 2,
            "linecolor": "white",
            "showbackground": true,
            "ticks": "",
            "zerolinecolor": "white"
           }
          },
          "shapedefaults": {
           "line": {
            "color": "#2a3f5f"
           }
          },
          "ternary": {
           "aaxis": {
            "gridcolor": "white",
            "linecolor": "white",
            "ticks": ""
           },
           "baxis": {
            "gridcolor": "white",
            "linecolor": "white",
            "ticks": ""
           },
           "bgcolor": "#E5ECF6",
           "caxis": {
            "gridcolor": "white",
            "linecolor": "white",
            "ticks": ""
           }
          },
          "title": {
           "x": 0.05
          },
          "xaxis": {
           "automargin": true,
           "gridcolor": "white",
           "linecolor": "white",
           "ticks": "",
           "title": {
            "standoff": 15
           },
           "zerolinecolor": "white",
           "zerolinewidth": 2
          },
          "yaxis": {
           "automargin": true,
           "gridcolor": "white",
           "linecolor": "white",
           "ticks": "",
           "title": {
            "standoff": 15
           },
           "zerolinecolor": "white",
           "zerolinewidth": 2
          }
         }
        },
        "title": {
         "text": "Debris Items By Material Per Volunteer For the Years 2013-23"
        },
        "width": 1000,
        "xaxis": {
         "anchor": "y",
         "autorange": true,
         "domain": [
          0,
          1
         ],
         "range": [
          2013,
          2023
         ],
         "title": {
          "text": "Year"
         },
         "type": "linear"
        },
        "yaxis": {
         "anchor": "x",
         "autorange": true,
         "domain": [
          0,
          1
         ],
         "range": [
          -1.6899928550413987,
          32.109864245786575
         ],
         "title": {
          "text": "Number of Items Per Volunteer"
         },
         "type": "linear"
        }
       }
      },
      "text/html": [
       "<div>                            <div id=\"60f280fc-cb65-492e-8b31-a3757bce7158\" class=\"plotly-graph-div\" style=\"height:700px; width:1000px;\"></div>            <script type=\"text/javascript\">                require([\"plotly\"], function(Plotly) {                    window.PLOTLYENV=window.PLOTLYENV || {};                                    if (document.getElementById(\"60f280fc-cb65-492e-8b31-a3757bce7158\")) {                    Plotly.newPlot(                        \"60f280fc-cb65-492e-8b31-a3757bce7158\",                        [{\"hovertemplate\":\"material=Plastic\\u003cbr\\u003eYear=%{x}\\u003cbr\\u003evalue=%{y}\\u003cextra\\u003e\\u003c\\u002fextra\\u003e\",\"legendgroup\":\"Plastic\",\"line\":{\"color\":\"#636efa\",\"dash\":\"solid\"},\"marker\":{\"symbol\":\"circle\"},\"mode\":\"lines\",\"name\":\"Plastic\",\"orientation\":\"v\",\"showlegend\":true,\"x\":[2013,2014,2015,2016,2017,2018,2019,2020,2021,2022,2023],\"xaxis\":\"x\",\"y\":[21.725283101045296,28.059991414466626,17.115748541801686,18.24006963127077,13.197979978548446,17.83007778738116,17.6928431755964,26.75851097677378,30.23286540049546,28.36275790023505,30.419871390745175],\"yaxis\":\"y\",\"type\":\"scatter\"},{\"hovertemplate\":\"material=Wood\\u003cbr\\u003eYear=%{x}\\u003cbr\\u003evalue=%{y}\\u003cextra\\u003e\\u003c\\u002fextra\\u003e\",\"legendgroup\":\"Wood\",\"line\":{\"color\":\"#EF553B\",\"dash\":\"solid\"},\"marker\":{\"symbol\":\"circle\"},\"mode\":\"lines\",\"name\":\"Wood\",\"orientation\":\"v\",\"showlegend\":true,\"x\":[2013,2014,2015,2016,2017,2018,2019,2020,2021,2022,2023],\"xaxis\":\"x\",\"y\":[2.8350936411149825,3.720004292766688,1.8790667530784186,1.9523658806773225,1.8316052913836252,3.185133967156439,3.146812671098944,3.6137448297804644,4.60710156895128,6.21546095586315,5.118143991930399],\"yaxis\":\"y\",\"type\":\"scatter\"},{\"hovertemplate\":\"material=Mixed\\u003cbr\\u003eYear=%{x}\\u003cbr\\u003evalue=%{y}\\u003cextra\\u003e\\u003c\\u002fextra\\u003e\",\"legendgroup\":\"Mixed\",\"line\":{\"color\":\"#00cc96\",\"dash\":\"solid\"},\"marker\":{\"symbol\":\"circle\"},\"mode\":\"lines\",\"name\":\"Mixed\",\"orientation\":\"v\",\"showlegend\":true,\"x\":[2013,2014,2015,2016,2017,2018,2019,2020,2021,2022,2023],\"xaxis\":\"x\",\"y\":[2.130008710801394,2.4419939901266368,1.6307193778353857,1.7039088463364456,1.0391490883089025,1.1685825410544513,1.0337113805240516,6.344257079223672,3.918744838976053,3.566466440323844,1.7291640398436514],\"yaxis\":\"y\",\"type\":\"scatter\"},{\"hovertemplate\":\"material=Glass\\u003cbr\\u003eYear=%{x}\\u003cbr\\u003evalue=%{y}\\u003cextra\\u003e\\u003c\\u002fextra\\u003e\",\"legendgroup\":\"Glass\",\"line\":{\"color\":\"#ab63fa\",\"dash\":\"solid\"},\"marker\":{\"symbol\":\"circle\"},\"mode\":\"lines\",\"name\":\"Glass\",\"orientation\":\"v\",\"showlegend\":true,\"x\":[2013,2014,2015,2016,2017,2018,2019,2020,2021,2022,2023],\"xaxis\":\"x\",\"y\":[2.548562717770035,3.161086069972097,2.3765392093324693,2.762304162050958,1.1163746871648195,1.990838375108038,1.6412983965584669,1.4622971683105312,4.198513625103221,1.9866805954557325,1.5937460597654771],\"yaxis\":\"y\",\"type\":\"scatter\"},{\"hovertemplate\":\"material=Metal\\u003cbr\\u003eYear=%{x}\\u003cbr\\u003evalue=%{y}\\u003cextra\\u003e\\u003c\\u002fextra\\u003e\",\"legendgroup\":\"Metal\",\"line\":{\"color\":\"#FFA15A\",\"dash\":\"solid\"},\"marker\":{\"symbol\":\"circle\"},\"mode\":\"lines\",\"name\":\"Metal\",\"orientation\":\"v\",\"showlegend\":true,\"x\":[2013,2014,2015,2016,2017,2018,2019,2020,2021,2022,2023],\"xaxis\":\"x\",\"y\":[1.8690113240418118,2.505687915861773,1.9981853532080363,1.4807722740940021,0.8337504469074007,1.5394987035436474,0.8059444661712944,1.6302895322939865,1.5943848059454995,1.8433011230086185,1.426554028495776],\"yaxis\":\"y\",\"type\":\"scatter\"},{\"hovertemplate\":\"material=Cloth\\u003cbr\\u003eYear=%{x}\\u003cbr\\u003evalue=%{y}\\u003cextra\\u003e\\u003c\\u002fextra\\u003e\",\"legendgroup\":\"Cloth\",\"line\":{\"color\":\"#19d3f3\",\"dash\":\"solid\"},\"marker\":{\"symbol\":\"circle\"},\"mode\":\"lines\",\"name\":\"Cloth\",\"orientation\":\"v\",\"showlegend\":true,\"x\":[2013,2014,2015,2016,2017,2018,2019,2020,2021,2022,2023],\"xaxis\":\"x\",\"y\":[0.5236280487804879,0.22204335694355012,0.12235904082955282,0.1229624940655167,0.0010725777618877368,0.0,0.1590926867422761,0.304804327076042,0.3342691990090834,0.4366675372159833,0.6122809229605346],\"yaxis\":\"y\",\"type\":\"scatter\"}],                        {\"template\":{\"data\":{\"histogram2dcontour\":[{\"type\":\"histogram2dcontour\",\"colorbar\":{\"outlinewidth\":0,\"ticks\":\"\"},\"colorscale\":[[0.0,\"#0d0887\"],[0.1111111111111111,\"#46039f\"],[0.2222222222222222,\"#7201a8\"],[0.3333333333333333,\"#9c179e\"],[0.4444444444444444,\"#bd3786\"],[0.5555555555555556,\"#d8576b\"],[0.6666666666666666,\"#ed7953\"],[0.7777777777777778,\"#fb9f3a\"],[0.8888888888888888,\"#fdca26\"],[1.0,\"#f0f921\"]]}],\"choropleth\":[{\"type\":\"choropleth\",\"colorbar\":{\"outlinewidth\":0,\"ticks\":\"\"}}],\"histogram2d\":[{\"type\":\"histogram2d\",\"colorbar\":{\"outlinewidth\":0,\"ticks\":\"\"},\"colorscale\":[[0.0,\"#0d0887\"],[0.1111111111111111,\"#46039f\"],[0.2222222222222222,\"#7201a8\"],[0.3333333333333333,\"#9c179e\"],[0.4444444444444444,\"#bd3786\"],[0.5555555555555556,\"#d8576b\"],[0.6666666666666666,\"#ed7953\"],[0.7777777777777778,\"#fb9f3a\"],[0.8888888888888888,\"#fdca26\"],[1.0,\"#f0f921\"]]}],\"heatmap\":[{\"type\":\"heatmap\",\"colorbar\":{\"outlinewidth\":0,\"ticks\":\"\"},\"colorscale\":[[0.0,\"#0d0887\"],[0.1111111111111111,\"#46039f\"],[0.2222222222222222,\"#7201a8\"],[0.3333333333333333,\"#9c179e\"],[0.4444444444444444,\"#bd3786\"],[0.5555555555555556,\"#d8576b\"],[0.6666666666666666,\"#ed7953\"],[0.7777777777777778,\"#fb9f3a\"],[0.8888888888888888,\"#fdca26\"],[1.0,\"#f0f921\"]]}],\"heatmapgl\":[{\"type\":\"heatmapgl\",\"colorbar\":{\"outlinewidth\":0,\"ticks\":\"\"},\"colorscale\":[[0.0,\"#0d0887\"],[0.1111111111111111,\"#46039f\"],[0.2222222222222222,\"#7201a8\"],[0.3333333333333333,\"#9c179e\"],[0.4444444444444444,\"#bd3786\"],[0.5555555555555556,\"#d8576b\"],[0.6666666666666666,\"#ed7953\"],[0.7777777777777778,\"#fb9f3a\"],[0.8888888888888888,\"#fdca26\"],[1.0,\"#f0f921\"]]}],\"contourcarpet\":[{\"type\":\"contourcarpet\",\"colorbar\":{\"outlinewidth\":0,\"ticks\":\"\"}}],\"contour\":[{\"type\":\"contour\",\"colorbar\":{\"outlinewidth\":0,\"ticks\":\"\"},\"colorscale\":[[0.0,\"#0d0887\"],[0.1111111111111111,\"#46039f\"],[0.2222222222222222,\"#7201a8\"],[0.3333333333333333,\"#9c179e\"],[0.4444444444444444,\"#bd3786\"],[0.5555555555555556,\"#d8576b\"],[0.6666666666666666,\"#ed7953\"],[0.7777777777777778,\"#fb9f3a\"],[0.8888888888888888,\"#fdca26\"],[1.0,\"#f0f921\"]]}],\"surface\":[{\"type\":\"surface\",\"colorbar\":{\"outlinewidth\":0,\"ticks\":\"\"},\"colorscale\":[[0.0,\"#0d0887\"],[0.1111111111111111,\"#46039f\"],[0.2222222222222222,\"#7201a8\"],[0.3333333333333333,\"#9c179e\"],[0.4444444444444444,\"#bd3786\"],[0.5555555555555556,\"#d8576b\"],[0.6666666666666666,\"#ed7953\"],[0.7777777777777778,\"#fb9f3a\"],[0.8888888888888888,\"#fdca26\"],[1.0,\"#f0f921\"]]}],\"mesh3d\":[{\"type\":\"mesh3d\",\"colorbar\":{\"outlinewidth\":0,\"ticks\":\"\"}}],\"scatter\":[{\"fillpattern\":{\"fillmode\":\"overlay\",\"size\":10,\"solidity\":0.2},\"type\":\"scatter\"}],\"parcoords\":[{\"type\":\"parcoords\",\"line\":{\"colorbar\":{\"outlinewidth\":0,\"ticks\":\"\"}}}],\"scatterpolargl\":[{\"type\":\"scatterpolargl\",\"marker\":{\"colorbar\":{\"outlinewidth\":0,\"ticks\":\"\"}}}],\"bar\":[{\"error_x\":{\"color\":\"#2a3f5f\"},\"error_y\":{\"color\":\"#2a3f5f\"},\"marker\":{\"line\":{\"color\":\"#E5ECF6\",\"width\":0.5},\"pattern\":{\"fillmode\":\"overlay\",\"size\":10,\"solidity\":0.2}},\"type\":\"bar\"}],\"scattergeo\":[{\"type\":\"scattergeo\",\"marker\":{\"colorbar\":{\"outlinewidth\":0,\"ticks\":\"\"}}}],\"scatterpolar\":[{\"type\":\"scatterpolar\",\"marker\":{\"colorbar\":{\"outlinewidth\":0,\"ticks\":\"\"}}}],\"histogram\":[{\"marker\":{\"pattern\":{\"fillmode\":\"overlay\",\"size\":10,\"solidity\":0.2}},\"type\":\"histogram\"}],\"scattergl\":[{\"type\":\"scattergl\",\"marker\":{\"colorbar\":{\"outlinewidth\":0,\"ticks\":\"\"}}}],\"scatter3d\":[{\"type\":\"scatter3d\",\"line\":{\"colorbar\":{\"outlinewidth\":0,\"ticks\":\"\"}},\"marker\":{\"colorbar\":{\"outlinewidth\":0,\"ticks\":\"\"}}}],\"scattermapbox\":[{\"type\":\"scattermapbox\",\"marker\":{\"colorbar\":{\"outlinewidth\":0,\"ticks\":\"\"}}}],\"scatterternary\":[{\"type\":\"scatterternary\",\"marker\":{\"colorbar\":{\"outlinewidth\":0,\"ticks\":\"\"}}}],\"scattercarpet\":[{\"type\":\"scattercarpet\",\"marker\":{\"colorbar\":{\"outlinewidth\":0,\"ticks\":\"\"}}}],\"carpet\":[{\"aaxis\":{\"endlinecolor\":\"#2a3f5f\",\"gridcolor\":\"white\",\"linecolor\":\"white\",\"minorgridcolor\":\"white\",\"startlinecolor\":\"#2a3f5f\"},\"baxis\":{\"endlinecolor\":\"#2a3f5f\",\"gridcolor\":\"white\",\"linecolor\":\"white\",\"minorgridcolor\":\"white\",\"startlinecolor\":\"#2a3f5f\"},\"type\":\"carpet\"}],\"table\":[{\"cells\":{\"fill\":{\"color\":\"#EBF0F8\"},\"line\":{\"color\":\"white\"}},\"header\":{\"fill\":{\"color\":\"#C8D4E3\"},\"line\":{\"color\":\"white\"}},\"type\":\"table\"}],\"barpolar\":[{\"marker\":{\"line\":{\"color\":\"#E5ECF6\",\"width\":0.5},\"pattern\":{\"fillmode\":\"overlay\",\"size\":10,\"solidity\":0.2}},\"type\":\"barpolar\"}],\"pie\":[{\"automargin\":true,\"type\":\"pie\"}]},\"layout\":{\"autotypenumbers\":\"strict\",\"colorway\":[\"#636efa\",\"#EF553B\",\"#00cc96\",\"#ab63fa\",\"#FFA15A\",\"#19d3f3\",\"#FF6692\",\"#B6E880\",\"#FF97FF\",\"#FECB52\"],\"font\":{\"color\":\"#2a3f5f\"},\"hovermode\":\"closest\",\"hoverlabel\":{\"align\":\"left\"},\"paper_bgcolor\":\"white\",\"plot_bgcolor\":\"#E5ECF6\",\"polar\":{\"bgcolor\":\"#E5ECF6\",\"angularaxis\":{\"gridcolor\":\"white\",\"linecolor\":\"white\",\"ticks\":\"\"},\"radialaxis\":{\"gridcolor\":\"white\",\"linecolor\":\"white\",\"ticks\":\"\"}},\"ternary\":{\"bgcolor\":\"#E5ECF6\",\"aaxis\":{\"gridcolor\":\"white\",\"linecolor\":\"white\",\"ticks\":\"\"},\"baxis\":{\"gridcolor\":\"white\",\"linecolor\":\"white\",\"ticks\":\"\"},\"caxis\":{\"gridcolor\":\"white\",\"linecolor\":\"white\",\"ticks\":\"\"}},\"coloraxis\":{\"colorbar\":{\"outlinewidth\":0,\"ticks\":\"\"}},\"colorscale\":{\"sequential\":[[0.0,\"#0d0887\"],[0.1111111111111111,\"#46039f\"],[0.2222222222222222,\"#7201a8\"],[0.3333333333333333,\"#9c179e\"],[0.4444444444444444,\"#bd3786\"],[0.5555555555555556,\"#d8576b\"],[0.6666666666666666,\"#ed7953\"],[0.7777777777777778,\"#fb9f3a\"],[0.8888888888888888,\"#fdca26\"],[1.0,\"#f0f921\"]],\"sequentialminus\":[[0.0,\"#0d0887\"],[0.1111111111111111,\"#46039f\"],[0.2222222222222222,\"#7201a8\"],[0.3333333333333333,\"#9c179e\"],[0.4444444444444444,\"#bd3786\"],[0.5555555555555556,\"#d8576b\"],[0.6666666666666666,\"#ed7953\"],[0.7777777777777778,\"#fb9f3a\"],[0.8888888888888888,\"#fdca26\"],[1.0,\"#f0f921\"]],\"diverging\":[[0,\"#8e0152\"],[0.1,\"#c51b7d\"],[0.2,\"#de77ae\"],[0.3,\"#f1b6da\"],[0.4,\"#fde0ef\"],[0.5,\"#f7f7f7\"],[0.6,\"#e6f5d0\"],[0.7,\"#b8e186\"],[0.8,\"#7fbc41\"],[0.9,\"#4d9221\"],[1,\"#276419\"]]},\"xaxis\":{\"gridcolor\":\"white\",\"linecolor\":\"white\",\"ticks\":\"\",\"title\":{\"standoff\":15},\"zerolinecolor\":\"white\",\"automargin\":true,\"zerolinewidth\":2},\"yaxis\":{\"gridcolor\":\"white\",\"linecolor\":\"white\",\"ticks\":\"\",\"title\":{\"standoff\":15},\"zerolinecolor\":\"white\",\"automargin\":true,\"zerolinewidth\":2},\"scene\":{\"xaxis\":{\"backgroundcolor\":\"#E5ECF6\",\"gridcolor\":\"white\",\"linecolor\":\"white\",\"showbackground\":true,\"ticks\":\"\",\"zerolinecolor\":\"white\",\"gridwidth\":2},\"yaxis\":{\"backgroundcolor\":\"#E5ECF6\",\"gridcolor\":\"white\",\"linecolor\":\"white\",\"showbackground\":true,\"ticks\":\"\",\"zerolinecolor\":\"white\",\"gridwidth\":2},\"zaxis\":{\"backgroundcolor\":\"#E5ECF6\",\"gridcolor\":\"white\",\"linecolor\":\"white\",\"showbackground\":true,\"ticks\":\"\",\"zerolinecolor\":\"white\",\"gridwidth\":2}},\"shapedefaults\":{\"line\":{\"color\":\"#2a3f5f\"}},\"annotationdefaults\":{\"arrowcolor\":\"#2a3f5f\",\"arrowhead\":0,\"arrowwidth\":1},\"geo\":{\"bgcolor\":\"white\",\"landcolor\":\"#E5ECF6\",\"subunitcolor\":\"white\",\"showland\":true,\"showlakes\":true,\"lakecolor\":\"white\"},\"title\":{\"x\":0.05},\"mapbox\":{\"style\":\"light\"}}},\"xaxis\":{\"anchor\":\"y\",\"domain\":[0.0,1.0],\"title\":{\"text\":\"Year\"}},\"yaxis\":{\"anchor\":\"x\",\"domain\":[0.0,1.0],\"title\":{\"text\":\"Number of Items Per Volunteer\"}},\"legend\":{\"title\":{\"text\":\"Material\"},\"tracegroupgap\":0},\"margin\":{\"t\":60},\"autosize\":false,\"width\":1000,\"height\":700,\"title\":{\"text\":\"Debris Items By Material Per Volunteer For the Years 2013-23\"}},                        {\"responsive\": true}                    ).then(function(){\n",
       "                            \n",
       "var gd = document.getElementById('60f280fc-cb65-492e-8b31-a3757bce7158');\n",
       "var x = new MutationObserver(function (mutations, observer) {{\n",
       "        var display = window.getComputedStyle(gd).display;\n",
       "        if (!display || display === 'none') {{\n",
       "            console.log([gd, 'removed!']);\n",
       "            Plotly.purge(gd);\n",
       "            observer.disconnect();\n",
       "        }}\n",
       "}});\n",
       "\n",
       "// Listen for the removal of the full notebook cells\n",
       "var notebookContainer = gd.closest('#notebook-container');\n",
       "if (notebookContainer) {{\n",
       "    x.observe(notebookContainer, {childList: true});\n",
       "}}\n",
       "\n",
       "// Listen for the clearing of the current output cell\n",
       "var outputEl = gd.closest('.output');\n",
       "if (outputEl) {{\n",
       "    x.observe(outputEl, {childList: true});\n",
       "}}\n",
       "\n",
       "                        })                };                });            </script>        </div>"
      ]
     },
     "metadata": {},
     "output_type": "display_data"
    }
   ],
   "source": [
    "fig = graph_maker.material_per_volunteer()\n",
    "fig.show()"
   ]
  },
  {
   "cell_type": "markdown",
   "id": "ab264a33-a4a4-47b8-aa6c-2ffdf060e825",
   "metadata": {},
   "source": [
    "It seems that plastic is by far the most common debris material on our shorelines, and it may be increasing."
   ]
  },
  {
   "cell_type": "markdown",
   "id": "bd214727-fcf1-4f29-9ea3-083a21936c44",
   "metadata": {},
   "source": [
    "# Number of Debris Items and Number of Vounteers by Cleanup Site\n",
    "\n",
    "In the last section we looked at total number of items cleaned up over the years by Save Our Shores. Now we'll look at number of volunteers and number of items cleaned up by site.\n",
    "\n",
    "There may be some overlap of site names as there were multiple names and spellings for what appeared to be similar sites. Some sites were located by lon, lat coordinates instead of site names, and those are not yet included here.\n",
    "The code where site names are consolidated is here: https://github.com/jennyfolkesson/cleanupShores/blob/main/site_categories.yml"
   ]
  },
  {
   "cell_type": "markdown",
   "id": "8cb850f9-f909-42a5-b606-537fcc88f84d",
   "metadata": {},
   "source": [
    "Plot number of volunteers by cleanup site for the top 25 results over 2013-2023."
   ]
  },
  {
   "cell_type": "code",
   "execution_count": 14,
   "id": "1e203036-3cef-4487-9581-7a06a88798d0",
   "metadata": {},
   "outputs": [
    {
     "data": {
      "application/vnd.plotly.v1+json": {
       "config": {
        "plotlyServerURL": "https://plot.ly"
       },
       "data": [
        {
         "marker": {
          "color": "#00b5e2"
         },
         "name": "Total Cleanup Volunteers",
         "orientation": "h",
         "type": "bar",
         "x": [
          7884,
          3515,
          3486,
          3069,
          2884,
          2461,
          2137,
          1939,
          1444,
          1077,
          931,
          1274,
          1107,
          970,
          929,
          979,
          792,
          654,
          666,
          555,
          605,
          664,
          540,
          486,
          510
         ],
         "y": [
          "Cowell/Main Beach",
          "Del Monte Beach",
          "Seabright State Beach",
          "Seacliff State Beach",
          "Twin Lakes State Beach",
          "Capitola Beach",
          "Palm Beach State Park",
          "Natural Bridges State Beach",
          "Rio Del Mar State Beach",
          "Manresa State Beach",
          "Sunset State Beach",
          "Marina State Beach",
          "Panther State Beach",
          "Sunny Cove Beach",
          "Asilomar State Beach",
          "Fort Ord Dunes State Beach",
          "Hidden Beach",
          "Moss Landing State Beach",
          "New Brighton State Beach",
          "Corcoran Lagoon",
          "Moran Lake Beach",
          "Sand City Beach",
          "Blacks Beach",
          "Beer Can Beach",
          "Salinas River State Beach"
         ]
        }
       ],
       "layout": {
        "autosize": false,
        "height": 800,
        "template": {
         "data": {
          "bar": [
           {
            "error_x": {
             "color": "#2a3f5f"
            },
            "error_y": {
             "color": "#2a3f5f"
            },
            "marker": {
             "line": {
              "color": "#E5ECF6",
              "width": 0.5
             },
             "pattern": {
              "fillmode": "overlay",
              "size": 10,
              "solidity": 0.2
             }
            },
            "type": "bar"
           }
          ],
          "barpolar": [
           {
            "marker": {
             "line": {
              "color": "#E5ECF6",
              "width": 0.5
             },
             "pattern": {
              "fillmode": "overlay",
              "size": 10,
              "solidity": 0.2
             }
            },
            "type": "barpolar"
           }
          ],
          "carpet": [
           {
            "aaxis": {
             "endlinecolor": "#2a3f5f",
             "gridcolor": "white",
             "linecolor": "white",
             "minorgridcolor": "white",
             "startlinecolor": "#2a3f5f"
            },
            "baxis": {
             "endlinecolor": "#2a3f5f",
             "gridcolor": "white",
             "linecolor": "white",
             "minorgridcolor": "white",
             "startlinecolor": "#2a3f5f"
            },
            "type": "carpet"
           }
          ],
          "choropleth": [
           {
            "colorbar": {
             "outlinewidth": 0,
             "ticks": ""
            },
            "type": "choropleth"
           }
          ],
          "contour": [
           {
            "colorbar": {
             "outlinewidth": 0,
             "ticks": ""
            },
            "colorscale": [
             [
              0,
              "#0d0887"
             ],
             [
              0.1111111111111111,
              "#46039f"
             ],
             [
              0.2222222222222222,
              "#7201a8"
             ],
             [
              0.3333333333333333,
              "#9c179e"
             ],
             [
              0.4444444444444444,
              "#bd3786"
             ],
             [
              0.5555555555555556,
              "#d8576b"
             ],
             [
              0.6666666666666666,
              "#ed7953"
             ],
             [
              0.7777777777777778,
              "#fb9f3a"
             ],
             [
              0.8888888888888888,
              "#fdca26"
             ],
             [
              1,
              "#f0f921"
             ]
            ],
            "type": "contour"
           }
          ],
          "contourcarpet": [
           {
            "colorbar": {
             "outlinewidth": 0,
             "ticks": ""
            },
            "type": "contourcarpet"
           }
          ],
          "heatmap": [
           {
            "colorbar": {
             "outlinewidth": 0,
             "ticks": ""
            },
            "colorscale": [
             [
              0,
              "#0d0887"
             ],
             [
              0.1111111111111111,
              "#46039f"
             ],
             [
              0.2222222222222222,
              "#7201a8"
             ],
             [
              0.3333333333333333,
              "#9c179e"
             ],
             [
              0.4444444444444444,
              "#bd3786"
             ],
             [
              0.5555555555555556,
              "#d8576b"
             ],
             [
              0.6666666666666666,
              "#ed7953"
             ],
             [
              0.7777777777777778,
              "#fb9f3a"
             ],
             [
              0.8888888888888888,
              "#fdca26"
             ],
             [
              1,
              "#f0f921"
             ]
            ],
            "type": "heatmap"
           }
          ],
          "heatmapgl": [
           {
            "colorbar": {
             "outlinewidth": 0,
             "ticks": ""
            },
            "colorscale": [
             [
              0,
              "#0d0887"
             ],
             [
              0.1111111111111111,
              "#46039f"
             ],
             [
              0.2222222222222222,
              "#7201a8"
             ],
             [
              0.3333333333333333,
              "#9c179e"
             ],
             [
              0.4444444444444444,
              "#bd3786"
             ],
             [
              0.5555555555555556,
              "#d8576b"
             ],
             [
              0.6666666666666666,
              "#ed7953"
             ],
             [
              0.7777777777777778,
              "#fb9f3a"
             ],
             [
              0.8888888888888888,
              "#fdca26"
             ],
             [
              1,
              "#f0f921"
             ]
            ],
            "type": "heatmapgl"
           }
          ],
          "histogram": [
           {
            "marker": {
             "pattern": {
              "fillmode": "overlay",
              "size": 10,
              "solidity": 0.2
             }
            },
            "type": "histogram"
           }
          ],
          "histogram2d": [
           {
            "colorbar": {
             "outlinewidth": 0,
             "ticks": ""
            },
            "colorscale": [
             [
              0,
              "#0d0887"
             ],
             [
              0.1111111111111111,
              "#46039f"
             ],
             [
              0.2222222222222222,
              "#7201a8"
             ],
             [
              0.3333333333333333,
              "#9c179e"
             ],
             [
              0.4444444444444444,
              "#bd3786"
             ],
             [
              0.5555555555555556,
              "#d8576b"
             ],
             [
              0.6666666666666666,
              "#ed7953"
             ],
             [
              0.7777777777777778,
              "#fb9f3a"
             ],
             [
              0.8888888888888888,
              "#fdca26"
             ],
             [
              1,
              "#f0f921"
             ]
            ],
            "type": "histogram2d"
           }
          ],
          "histogram2dcontour": [
           {
            "colorbar": {
             "outlinewidth": 0,
             "ticks": ""
            },
            "colorscale": [
             [
              0,
              "#0d0887"
             ],
             [
              0.1111111111111111,
              "#46039f"
             ],
             [
              0.2222222222222222,
              "#7201a8"
             ],
             [
              0.3333333333333333,
              "#9c179e"
             ],
             [
              0.4444444444444444,
              "#bd3786"
             ],
             [
              0.5555555555555556,
              "#d8576b"
             ],
             [
              0.6666666666666666,
              "#ed7953"
             ],
             [
              0.7777777777777778,
              "#fb9f3a"
             ],
             [
              0.8888888888888888,
              "#fdca26"
             ],
             [
              1,
              "#f0f921"
             ]
            ],
            "type": "histogram2dcontour"
           }
          ],
          "mesh3d": [
           {
            "colorbar": {
             "outlinewidth": 0,
             "ticks": ""
            },
            "type": "mesh3d"
           }
          ],
          "parcoords": [
           {
            "line": {
             "colorbar": {
              "outlinewidth": 0,
              "ticks": ""
             }
            },
            "type": "parcoords"
           }
          ],
          "pie": [
           {
            "automargin": true,
            "type": "pie"
           }
          ],
          "scatter": [
           {
            "fillpattern": {
             "fillmode": "overlay",
             "size": 10,
             "solidity": 0.2
            },
            "type": "scatter"
           }
          ],
          "scatter3d": [
           {
            "line": {
             "colorbar": {
              "outlinewidth": 0,
              "ticks": ""
             }
            },
            "marker": {
             "colorbar": {
              "outlinewidth": 0,
              "ticks": ""
             }
            },
            "type": "scatter3d"
           }
          ],
          "scattercarpet": [
           {
            "marker": {
             "colorbar": {
              "outlinewidth": 0,
              "ticks": ""
             }
            },
            "type": "scattercarpet"
           }
          ],
          "scattergeo": [
           {
            "marker": {
             "colorbar": {
              "outlinewidth": 0,
              "ticks": ""
             }
            },
            "type": "scattergeo"
           }
          ],
          "scattergl": [
           {
            "marker": {
             "colorbar": {
              "outlinewidth": 0,
              "ticks": ""
             }
            },
            "type": "scattergl"
           }
          ],
          "scattermapbox": [
           {
            "marker": {
             "colorbar": {
              "outlinewidth": 0,
              "ticks": ""
             }
            },
            "type": "scattermapbox"
           }
          ],
          "scatterpolar": [
           {
            "marker": {
             "colorbar": {
              "outlinewidth": 0,
              "ticks": ""
             }
            },
            "type": "scatterpolar"
           }
          ],
          "scatterpolargl": [
           {
            "marker": {
             "colorbar": {
              "outlinewidth": 0,
              "ticks": ""
             }
            },
            "type": "scatterpolargl"
           }
          ],
          "scatterternary": [
           {
            "marker": {
             "colorbar": {
              "outlinewidth": 0,
              "ticks": ""
             }
            },
            "type": "scatterternary"
           }
          ],
          "surface": [
           {
            "colorbar": {
             "outlinewidth": 0,
             "ticks": ""
            },
            "colorscale": [
             [
              0,
              "#0d0887"
             ],
             [
              0.1111111111111111,
              "#46039f"
             ],
             [
              0.2222222222222222,
              "#7201a8"
             ],
             [
              0.3333333333333333,
              "#9c179e"
             ],
             [
              0.4444444444444444,
              "#bd3786"
             ],
             [
              0.5555555555555556,
              "#d8576b"
             ],
             [
              0.6666666666666666,
              "#ed7953"
             ],
             [
              0.7777777777777778,
              "#fb9f3a"
             ],
             [
              0.8888888888888888,
              "#fdca26"
             ],
             [
              1,
              "#f0f921"
             ]
            ],
            "type": "surface"
           }
          ],
          "table": [
           {
            "cells": {
             "fill": {
              "color": "#EBF0F8"
             },
             "line": {
              "color": "white"
             }
            },
            "header": {
             "fill": {
              "color": "#C8D4E3"
             },
             "line": {
              "color": "white"
             }
            },
            "type": "table"
           }
          ]
         },
         "layout": {
          "annotationdefaults": {
           "arrowcolor": "#2a3f5f",
           "arrowhead": 0,
           "arrowwidth": 1
          },
          "autotypenumbers": "strict",
          "coloraxis": {
           "colorbar": {
            "outlinewidth": 0,
            "ticks": ""
           }
          },
          "colorscale": {
           "diverging": [
            [
             0,
             "#8e0152"
            ],
            [
             0.1,
             "#c51b7d"
            ],
            [
             0.2,
             "#de77ae"
            ],
            [
             0.3,
             "#f1b6da"
            ],
            [
             0.4,
             "#fde0ef"
            ],
            [
             0.5,
             "#f7f7f7"
            ],
            [
             0.6,
             "#e6f5d0"
            ],
            [
             0.7,
             "#b8e186"
            ],
            [
             0.8,
             "#7fbc41"
            ],
            [
             0.9,
             "#4d9221"
            ],
            [
             1,
             "#276419"
            ]
           ],
           "sequential": [
            [
             0,
             "#0d0887"
            ],
            [
             0.1111111111111111,
             "#46039f"
            ],
            [
             0.2222222222222222,
             "#7201a8"
            ],
            [
             0.3333333333333333,
             "#9c179e"
            ],
            [
             0.4444444444444444,
             "#bd3786"
            ],
            [
             0.5555555555555556,
             "#d8576b"
            ],
            [
             0.6666666666666666,
             "#ed7953"
            ],
            [
             0.7777777777777778,
             "#fb9f3a"
            ],
            [
             0.8888888888888888,
             "#fdca26"
            ],
            [
             1,
             "#f0f921"
            ]
           ],
           "sequentialminus": [
            [
             0,
             "#0d0887"
            ],
            [
             0.1111111111111111,
             "#46039f"
            ],
            [
             0.2222222222222222,
             "#7201a8"
            ],
            [
             0.3333333333333333,
             "#9c179e"
            ],
            [
             0.4444444444444444,
             "#bd3786"
            ],
            [
             0.5555555555555556,
             "#d8576b"
            ],
            [
             0.6666666666666666,
             "#ed7953"
            ],
            [
             0.7777777777777778,
             "#fb9f3a"
            ],
            [
             0.8888888888888888,
             "#fdca26"
            ],
            [
             1,
             "#f0f921"
            ]
           ]
          },
          "colorway": [
           "#636efa",
           "#EF553B",
           "#00cc96",
           "#ab63fa",
           "#FFA15A",
           "#19d3f3",
           "#FF6692",
           "#B6E880",
           "#FF97FF",
           "#FECB52"
          ],
          "font": {
           "color": "#2a3f5f"
          },
          "geo": {
           "bgcolor": "white",
           "lakecolor": "white",
           "landcolor": "#E5ECF6",
           "showlakes": true,
           "showland": true,
           "subunitcolor": "white"
          },
          "hoverlabel": {
           "align": "left"
          },
          "hovermode": "closest",
          "mapbox": {
           "style": "light"
          },
          "paper_bgcolor": "white",
          "plot_bgcolor": "#E5ECF6",
          "polar": {
           "angularaxis": {
            "gridcolor": "white",
            "linecolor": "white",
            "ticks": ""
           },
           "bgcolor": "#E5ECF6",
           "radialaxis": {
            "gridcolor": "white",
            "linecolor": "white",
            "ticks": ""
           }
          },
          "scene": {
           "xaxis": {
            "backgroundcolor": "#E5ECF6",
            "gridcolor": "white",
            "gridwidth": 2,
            "linecolor": "white",
            "showbackground": true,
            "ticks": "",
            "zerolinecolor": "white"
           },
           "yaxis": {
            "backgroundcolor": "#E5ECF6",
            "gridcolor": "white",
            "gridwidth": 2,
            "linecolor": "white",
            "showbackground": true,
            "ticks": "",
            "zerolinecolor": "white"
           },
           "zaxis": {
            "backgroundcolor": "#E5ECF6",
            "gridcolor": "white",
            "gridwidth": 2,
            "linecolor": "white",
            "showbackground": true,
            "ticks": "",
            "zerolinecolor": "white"
           }
          },
          "shapedefaults": {
           "line": {
            "color": "#2a3f5f"
           }
          },
          "ternary": {
           "aaxis": {
            "gridcolor": "white",
            "linecolor": "white",
            "ticks": ""
           },
           "baxis": {
            "gridcolor": "white",
            "linecolor": "white",
            "ticks": ""
           },
           "bgcolor": "#E5ECF6",
           "caxis": {
            "gridcolor": "white",
            "linecolor": "white",
            "ticks": ""
           }
          },
          "title": {
           "x": 0.05
          },
          "xaxis": {
           "automargin": true,
           "gridcolor": "white",
           "linecolor": "white",
           "ticks": "",
           "title": {
            "standoff": 15
           },
           "zerolinecolor": "white",
           "zerolinewidth": 2
          },
          "yaxis": {
           "automargin": true,
           "gridcolor": "white",
           "linecolor": "white",
           "ticks": "",
           "title": {
            "standoff": 15
           },
           "zerolinecolor": "white",
           "zerolinewidth": 2
          }
         }
        },
        "title": {
         "text": "Top 25 Cleanup Sites by Number of Volunteers 2013-23"
        },
        "width": 1000,
        "xaxis": {
         "autorange": true,
         "range": [
          0,
          8298.947368421053
         ],
         "title": {
          "text": "Total Number of Volunteers"
         },
         "type": "linear"
        },
        "yaxis": {
         "autorange": true,
         "categoryorder": "total ascending",
         "range": [
          -0.5,
          24.5
         ],
         "title": {
          "text": "Cleanup site"
         },
         "type": "category"
        }
       }
      },
      "text/html": [
       "<div>                            <div id=\"29a1309f-bf2e-4e68-a2a2-f505ddc2258b\" class=\"plotly-graph-div\" style=\"height:800px; width:1000px;\"></div>            <script type=\"text/javascript\">                require([\"plotly\"], function(Plotly) {                    window.PLOTLYENV=window.PLOTLYENV || {};                                    if (document.getElementById(\"29a1309f-bf2e-4e68-a2a2-f505ddc2258b\")) {                    Plotly.newPlot(                        \"29a1309f-bf2e-4e68-a2a2-f505ddc2258b\",                        [{\"marker\":{\"color\":\"#00b5e2\"},\"name\":\"Total Cleanup Volunteers\",\"orientation\":\"h\",\"x\":[7884.0,3515.0,3486.0,3069.0,2884.0,2461.0,2137.0,1939.0,1444.0,1077.0,931.0,1274.0,1107.0,970.0,929.0,979.0,792.0,654.0,666.0,555.0,605.0,664.0,540.0,486.0,510.0],\"y\":[\"Cowell\\u002fMain Beach\",\"Del Monte Beach\",\"Seabright State Beach\",\"Seacliff State Beach\",\"Twin Lakes State Beach\",\"Capitola Beach\",\"Palm Beach State Park\",\"Natural Bridges State Beach\",\"Rio Del Mar State Beach\",\"Manresa State Beach\",\"Sunset State Beach\",\"Marina State Beach\",\"Panther State Beach\",\"Sunny Cove Beach\",\"Asilomar State Beach\",\"Fort Ord Dunes State Beach\",\"Hidden Beach\",\"Moss Landing State Beach\",\"New Brighton State Beach\",\"Corcoran Lagoon\",\"Moran Lake Beach\",\"Sand City Beach\",\"Blacks Beach\",\"Beer Can Beach\",\"Salinas River State Beach\"],\"type\":\"bar\"}],                        {\"template\":{\"data\":{\"histogram2dcontour\":[{\"type\":\"histogram2dcontour\",\"colorbar\":{\"outlinewidth\":0,\"ticks\":\"\"},\"colorscale\":[[0.0,\"#0d0887\"],[0.1111111111111111,\"#46039f\"],[0.2222222222222222,\"#7201a8\"],[0.3333333333333333,\"#9c179e\"],[0.4444444444444444,\"#bd3786\"],[0.5555555555555556,\"#d8576b\"],[0.6666666666666666,\"#ed7953\"],[0.7777777777777778,\"#fb9f3a\"],[0.8888888888888888,\"#fdca26\"],[1.0,\"#f0f921\"]]}],\"choropleth\":[{\"type\":\"choropleth\",\"colorbar\":{\"outlinewidth\":0,\"ticks\":\"\"}}],\"histogram2d\":[{\"type\":\"histogram2d\",\"colorbar\":{\"outlinewidth\":0,\"ticks\":\"\"},\"colorscale\":[[0.0,\"#0d0887\"],[0.1111111111111111,\"#46039f\"],[0.2222222222222222,\"#7201a8\"],[0.3333333333333333,\"#9c179e\"],[0.4444444444444444,\"#bd3786\"],[0.5555555555555556,\"#d8576b\"],[0.6666666666666666,\"#ed7953\"],[0.7777777777777778,\"#fb9f3a\"],[0.8888888888888888,\"#fdca26\"],[1.0,\"#f0f921\"]]}],\"heatmap\":[{\"type\":\"heatmap\",\"colorbar\":{\"outlinewidth\":0,\"ticks\":\"\"},\"colorscale\":[[0.0,\"#0d0887\"],[0.1111111111111111,\"#46039f\"],[0.2222222222222222,\"#7201a8\"],[0.3333333333333333,\"#9c179e\"],[0.4444444444444444,\"#bd3786\"],[0.5555555555555556,\"#d8576b\"],[0.6666666666666666,\"#ed7953\"],[0.7777777777777778,\"#fb9f3a\"],[0.8888888888888888,\"#fdca26\"],[1.0,\"#f0f921\"]]}],\"heatmapgl\":[{\"type\":\"heatmapgl\",\"colorbar\":{\"outlinewidth\":0,\"ticks\":\"\"},\"colorscale\":[[0.0,\"#0d0887\"],[0.1111111111111111,\"#46039f\"],[0.2222222222222222,\"#7201a8\"],[0.3333333333333333,\"#9c179e\"],[0.4444444444444444,\"#bd3786\"],[0.5555555555555556,\"#d8576b\"],[0.6666666666666666,\"#ed7953\"],[0.7777777777777778,\"#fb9f3a\"],[0.8888888888888888,\"#fdca26\"],[1.0,\"#f0f921\"]]}],\"contourcarpet\":[{\"type\":\"contourcarpet\",\"colorbar\":{\"outlinewidth\":0,\"ticks\":\"\"}}],\"contour\":[{\"type\":\"contour\",\"colorbar\":{\"outlinewidth\":0,\"ticks\":\"\"},\"colorscale\":[[0.0,\"#0d0887\"],[0.1111111111111111,\"#46039f\"],[0.2222222222222222,\"#7201a8\"],[0.3333333333333333,\"#9c179e\"],[0.4444444444444444,\"#bd3786\"],[0.5555555555555556,\"#d8576b\"],[0.6666666666666666,\"#ed7953\"],[0.7777777777777778,\"#fb9f3a\"],[0.8888888888888888,\"#fdca26\"],[1.0,\"#f0f921\"]]}],\"surface\":[{\"type\":\"surface\",\"colorbar\":{\"outlinewidth\":0,\"ticks\":\"\"},\"colorscale\":[[0.0,\"#0d0887\"],[0.1111111111111111,\"#46039f\"],[0.2222222222222222,\"#7201a8\"],[0.3333333333333333,\"#9c179e\"],[0.4444444444444444,\"#bd3786\"],[0.5555555555555556,\"#d8576b\"],[0.6666666666666666,\"#ed7953\"],[0.7777777777777778,\"#fb9f3a\"],[0.8888888888888888,\"#fdca26\"],[1.0,\"#f0f921\"]]}],\"mesh3d\":[{\"type\":\"mesh3d\",\"colorbar\":{\"outlinewidth\":0,\"ticks\":\"\"}}],\"scatter\":[{\"fillpattern\":{\"fillmode\":\"overlay\",\"size\":10,\"solidity\":0.2},\"type\":\"scatter\"}],\"parcoords\":[{\"type\":\"parcoords\",\"line\":{\"colorbar\":{\"outlinewidth\":0,\"ticks\":\"\"}}}],\"scatterpolargl\":[{\"type\":\"scatterpolargl\",\"marker\":{\"colorbar\":{\"outlinewidth\":0,\"ticks\":\"\"}}}],\"bar\":[{\"error_x\":{\"color\":\"#2a3f5f\"},\"error_y\":{\"color\":\"#2a3f5f\"},\"marker\":{\"line\":{\"color\":\"#E5ECF6\",\"width\":0.5},\"pattern\":{\"fillmode\":\"overlay\",\"size\":10,\"solidity\":0.2}},\"type\":\"bar\"}],\"scattergeo\":[{\"type\":\"scattergeo\",\"marker\":{\"colorbar\":{\"outlinewidth\":0,\"ticks\":\"\"}}}],\"scatterpolar\":[{\"type\":\"scatterpolar\",\"marker\":{\"colorbar\":{\"outlinewidth\":0,\"ticks\":\"\"}}}],\"histogram\":[{\"marker\":{\"pattern\":{\"fillmode\":\"overlay\",\"size\":10,\"solidity\":0.2}},\"type\":\"histogram\"}],\"scattergl\":[{\"type\":\"scattergl\",\"marker\":{\"colorbar\":{\"outlinewidth\":0,\"ticks\":\"\"}}}],\"scatter3d\":[{\"type\":\"scatter3d\",\"line\":{\"colorbar\":{\"outlinewidth\":0,\"ticks\":\"\"}},\"marker\":{\"colorbar\":{\"outlinewidth\":0,\"ticks\":\"\"}}}],\"scattermapbox\":[{\"type\":\"scattermapbox\",\"marker\":{\"colorbar\":{\"outlinewidth\":0,\"ticks\":\"\"}}}],\"scatterternary\":[{\"type\":\"scatterternary\",\"marker\":{\"colorbar\":{\"outlinewidth\":0,\"ticks\":\"\"}}}],\"scattercarpet\":[{\"type\":\"scattercarpet\",\"marker\":{\"colorbar\":{\"outlinewidth\":0,\"ticks\":\"\"}}}],\"carpet\":[{\"aaxis\":{\"endlinecolor\":\"#2a3f5f\",\"gridcolor\":\"white\",\"linecolor\":\"white\",\"minorgridcolor\":\"white\",\"startlinecolor\":\"#2a3f5f\"},\"baxis\":{\"endlinecolor\":\"#2a3f5f\",\"gridcolor\":\"white\",\"linecolor\":\"white\",\"minorgridcolor\":\"white\",\"startlinecolor\":\"#2a3f5f\"},\"type\":\"carpet\"}],\"table\":[{\"cells\":{\"fill\":{\"color\":\"#EBF0F8\"},\"line\":{\"color\":\"white\"}},\"header\":{\"fill\":{\"color\":\"#C8D4E3\"},\"line\":{\"color\":\"white\"}},\"type\":\"table\"}],\"barpolar\":[{\"marker\":{\"line\":{\"color\":\"#E5ECF6\",\"width\":0.5},\"pattern\":{\"fillmode\":\"overlay\",\"size\":10,\"solidity\":0.2}},\"type\":\"barpolar\"}],\"pie\":[{\"automargin\":true,\"type\":\"pie\"}]},\"layout\":{\"autotypenumbers\":\"strict\",\"colorway\":[\"#636efa\",\"#EF553B\",\"#00cc96\",\"#ab63fa\",\"#FFA15A\",\"#19d3f3\",\"#FF6692\",\"#B6E880\",\"#FF97FF\",\"#FECB52\"],\"font\":{\"color\":\"#2a3f5f\"},\"hovermode\":\"closest\",\"hoverlabel\":{\"align\":\"left\"},\"paper_bgcolor\":\"white\",\"plot_bgcolor\":\"#E5ECF6\",\"polar\":{\"bgcolor\":\"#E5ECF6\",\"angularaxis\":{\"gridcolor\":\"white\",\"linecolor\":\"white\",\"ticks\":\"\"},\"radialaxis\":{\"gridcolor\":\"white\",\"linecolor\":\"white\",\"ticks\":\"\"}},\"ternary\":{\"bgcolor\":\"#E5ECF6\",\"aaxis\":{\"gridcolor\":\"white\",\"linecolor\":\"white\",\"ticks\":\"\"},\"baxis\":{\"gridcolor\":\"white\",\"linecolor\":\"white\",\"ticks\":\"\"},\"caxis\":{\"gridcolor\":\"white\",\"linecolor\":\"white\",\"ticks\":\"\"}},\"coloraxis\":{\"colorbar\":{\"outlinewidth\":0,\"ticks\":\"\"}},\"colorscale\":{\"sequential\":[[0.0,\"#0d0887\"],[0.1111111111111111,\"#46039f\"],[0.2222222222222222,\"#7201a8\"],[0.3333333333333333,\"#9c179e\"],[0.4444444444444444,\"#bd3786\"],[0.5555555555555556,\"#d8576b\"],[0.6666666666666666,\"#ed7953\"],[0.7777777777777778,\"#fb9f3a\"],[0.8888888888888888,\"#fdca26\"],[1.0,\"#f0f921\"]],\"sequentialminus\":[[0.0,\"#0d0887\"],[0.1111111111111111,\"#46039f\"],[0.2222222222222222,\"#7201a8\"],[0.3333333333333333,\"#9c179e\"],[0.4444444444444444,\"#bd3786\"],[0.5555555555555556,\"#d8576b\"],[0.6666666666666666,\"#ed7953\"],[0.7777777777777778,\"#fb9f3a\"],[0.8888888888888888,\"#fdca26\"],[1.0,\"#f0f921\"]],\"diverging\":[[0,\"#8e0152\"],[0.1,\"#c51b7d\"],[0.2,\"#de77ae\"],[0.3,\"#f1b6da\"],[0.4,\"#fde0ef\"],[0.5,\"#f7f7f7\"],[0.6,\"#e6f5d0\"],[0.7,\"#b8e186\"],[0.8,\"#7fbc41\"],[0.9,\"#4d9221\"],[1,\"#276419\"]]},\"xaxis\":{\"gridcolor\":\"white\",\"linecolor\":\"white\",\"ticks\":\"\",\"title\":{\"standoff\":15},\"zerolinecolor\":\"white\",\"automargin\":true,\"zerolinewidth\":2},\"yaxis\":{\"gridcolor\":\"white\",\"linecolor\":\"white\",\"ticks\":\"\",\"title\":{\"standoff\":15},\"zerolinecolor\":\"white\",\"automargin\":true,\"zerolinewidth\":2},\"scene\":{\"xaxis\":{\"backgroundcolor\":\"#E5ECF6\",\"gridcolor\":\"white\",\"linecolor\":\"white\",\"showbackground\":true,\"ticks\":\"\",\"zerolinecolor\":\"white\",\"gridwidth\":2},\"yaxis\":{\"backgroundcolor\":\"#E5ECF6\",\"gridcolor\":\"white\",\"linecolor\":\"white\",\"showbackground\":true,\"ticks\":\"\",\"zerolinecolor\":\"white\",\"gridwidth\":2},\"zaxis\":{\"backgroundcolor\":\"#E5ECF6\",\"gridcolor\":\"white\",\"linecolor\":\"white\",\"showbackground\":true,\"ticks\":\"\",\"zerolinecolor\":\"white\",\"gridwidth\":2}},\"shapedefaults\":{\"line\":{\"color\":\"#2a3f5f\"}},\"annotationdefaults\":{\"arrowcolor\":\"#2a3f5f\",\"arrowhead\":0,\"arrowwidth\":1},\"geo\":{\"bgcolor\":\"white\",\"landcolor\":\"#E5ECF6\",\"subunitcolor\":\"white\",\"showland\":true,\"showlakes\":true,\"lakecolor\":\"white\"},\"title\":{\"x\":0.05},\"mapbox\":{\"style\":\"light\"}}},\"yaxis\":{\"title\":{\"text\":\"Cleanup site\"},\"categoryorder\":\"total ascending\"},\"autosize\":false,\"width\":1000,\"height\":800,\"title\":{\"text\":\"Top 25 Cleanup Sites by Number of Volunteers 2013-23\"},\"xaxis\":{\"title\":{\"text\":\"Total Number of Volunteers\"}}},                        {\"responsive\": true}                    ).then(function(){\n",
       "                            \n",
       "var gd = document.getElementById('29a1309f-bf2e-4e68-a2a2-f505ddc2258b');\n",
       "var x = new MutationObserver(function (mutations, observer) {{\n",
       "        var display = window.getComputedStyle(gd).display;\n",
       "        if (!display || display === 'none') {{\n",
       "            console.log([gd, 'removed!']);\n",
       "            Plotly.purge(gd);\n",
       "            observer.disconnect();\n",
       "        }}\n",
       "}});\n",
       "\n",
       "// Listen for the removal of the full notebook cells\n",
       "var notebookContainer = gd.closest('#notebook-container');\n",
       "if (notebookContainer) {{\n",
       "    x.observe(notebookContainer, {childList: true});\n",
       "}}\n",
       "\n",
       "// Listen for the clearing of the current output cell\n",
       "var outputEl = gd.closest('.output');\n",
       "if (outputEl) {{\n",
       "    x.observe(outputEl, {childList: true});\n",
       "}}\n",
       "\n",
       "                        })                };                });            </script>        </div>"
      ]
     },
     "metadata": {},
     "output_type": "display_data"
    }
   ],
   "source": [
    "fig = graph_maker.volunteers_by_site()\n",
    "fig.show()"
   ]
  },
  {
   "cell_type": "markdown",
   "id": "da781ab8-406f-4db1-8520-c9e70ff35d86",
   "metadata": {},
   "source": [
    "This figure shows the total number of volunteers that have been involved in a cleanup event 2013-2022 per cleanup site. Youth volunteers, when reported, are counted as half an adult volunteer in line with the NOAA Marine Debris Report. Only the top 25 "
   ]
  },
  {
   "cell_type": "code",
   "execution_count": 15,
   "id": "43871fc0-43f3-4419-9449-56d5e8caf50c",
   "metadata": {},
   "outputs": [
    {
     "data": {
      "application/vnd.plotly.v1+json": {
       "config": {
        "plotlyServerURL": "https://plot.ly"
       },
       "data": [
        {
         "marker": {
          "color": "#00b5e2"
         },
         "name": "Total Number of Items Cleaned Up",
         "orientation": "h",
         "type": "bar",
         "x": [
          413950.92889972206,
          157990.98855886413,
          129323.7544294295,
          104579.82482573307,
          89898.22666977467,
          75049.27354545455,
          71160.98359741297,
          59281.04190476191,
          58684.969226809226,
          55977.83072413799,
          46083.315714285716,
          42688.18666666667,
          41165,
          39843.23272727273,
          39516.078571428574,
          36593.88805952381,
          32709.902713032574,
          29883.48,
          27759.02947368421,
          26575.023999999998,
          26563.49349206349,
          26253.392145311223,
          26151.97435897436,
          25815.510000000002,
          24959.316304347827
         ],
         "y": [
          "Cowell/Main Beach",
          "Del Monte Beach",
          "Seabright State Beach",
          "Seacliff State Beach",
          "Twin Lakes State Beach",
          "Rio Del Mar State Beach",
          "Capitola Beach",
          "Sunny Cove Beach",
          "Panther State Beach",
          "Natural Bridges State Beach",
          "Moran Lake Beach",
          "Hidden Beach",
          "SLR @ Felker",
          "Beer Can Beach",
          "Corcoran Lagoon",
          "Palm Beach State Park",
          "Manresa State Beach",
          "SLR @ Soquel",
          "Sand City Beach",
          "Upper Carr Lake",
          "Lovers Point Beach",
          "Marina State Beach",
          "Elkhorn Slough",
          "West Struve Slough",
          "Fort Ord Dunes State Beach"
         ]
        }
       ],
       "layout": {
        "autosize": false,
        "height": 800,
        "template": {
         "data": {
          "bar": [
           {
            "error_x": {
             "color": "#2a3f5f"
            },
            "error_y": {
             "color": "#2a3f5f"
            },
            "marker": {
             "line": {
              "color": "#E5ECF6",
              "width": 0.5
             },
             "pattern": {
              "fillmode": "overlay",
              "size": 10,
              "solidity": 0.2
             }
            },
            "type": "bar"
           }
          ],
          "barpolar": [
           {
            "marker": {
             "line": {
              "color": "#E5ECF6",
              "width": 0.5
             },
             "pattern": {
              "fillmode": "overlay",
              "size": 10,
              "solidity": 0.2
             }
            },
            "type": "barpolar"
           }
          ],
          "carpet": [
           {
            "aaxis": {
             "endlinecolor": "#2a3f5f",
             "gridcolor": "white",
             "linecolor": "white",
             "minorgridcolor": "white",
             "startlinecolor": "#2a3f5f"
            },
            "baxis": {
             "endlinecolor": "#2a3f5f",
             "gridcolor": "white",
             "linecolor": "white",
             "minorgridcolor": "white",
             "startlinecolor": "#2a3f5f"
            },
            "type": "carpet"
           }
          ],
          "choropleth": [
           {
            "colorbar": {
             "outlinewidth": 0,
             "ticks": ""
            },
            "type": "choropleth"
           }
          ],
          "contour": [
           {
            "colorbar": {
             "outlinewidth": 0,
             "ticks": ""
            },
            "colorscale": [
             [
              0,
              "#0d0887"
             ],
             [
              0.1111111111111111,
              "#46039f"
             ],
             [
              0.2222222222222222,
              "#7201a8"
             ],
             [
              0.3333333333333333,
              "#9c179e"
             ],
             [
              0.4444444444444444,
              "#bd3786"
             ],
             [
              0.5555555555555556,
              "#d8576b"
             ],
             [
              0.6666666666666666,
              "#ed7953"
             ],
             [
              0.7777777777777778,
              "#fb9f3a"
             ],
             [
              0.8888888888888888,
              "#fdca26"
             ],
             [
              1,
              "#f0f921"
             ]
            ],
            "type": "contour"
           }
          ],
          "contourcarpet": [
           {
            "colorbar": {
             "outlinewidth": 0,
             "ticks": ""
            },
            "type": "contourcarpet"
           }
          ],
          "heatmap": [
           {
            "colorbar": {
             "outlinewidth": 0,
             "ticks": ""
            },
            "colorscale": [
             [
              0,
              "#0d0887"
             ],
             [
              0.1111111111111111,
              "#46039f"
             ],
             [
              0.2222222222222222,
              "#7201a8"
             ],
             [
              0.3333333333333333,
              "#9c179e"
             ],
             [
              0.4444444444444444,
              "#bd3786"
             ],
             [
              0.5555555555555556,
              "#d8576b"
             ],
             [
              0.6666666666666666,
              "#ed7953"
             ],
             [
              0.7777777777777778,
              "#fb9f3a"
             ],
             [
              0.8888888888888888,
              "#fdca26"
             ],
             [
              1,
              "#f0f921"
             ]
            ],
            "type": "heatmap"
           }
          ],
          "heatmapgl": [
           {
            "colorbar": {
             "outlinewidth": 0,
             "ticks": ""
            },
            "colorscale": [
             [
              0,
              "#0d0887"
             ],
             [
              0.1111111111111111,
              "#46039f"
             ],
             [
              0.2222222222222222,
              "#7201a8"
             ],
             [
              0.3333333333333333,
              "#9c179e"
             ],
             [
              0.4444444444444444,
              "#bd3786"
             ],
             [
              0.5555555555555556,
              "#d8576b"
             ],
             [
              0.6666666666666666,
              "#ed7953"
             ],
             [
              0.7777777777777778,
              "#fb9f3a"
             ],
             [
              0.8888888888888888,
              "#fdca26"
             ],
             [
              1,
              "#f0f921"
             ]
            ],
            "type": "heatmapgl"
           }
          ],
          "histogram": [
           {
            "marker": {
             "pattern": {
              "fillmode": "overlay",
              "size": 10,
              "solidity": 0.2
             }
            },
            "type": "histogram"
           }
          ],
          "histogram2d": [
           {
            "colorbar": {
             "outlinewidth": 0,
             "ticks": ""
            },
            "colorscale": [
             [
              0,
              "#0d0887"
             ],
             [
              0.1111111111111111,
              "#46039f"
             ],
             [
              0.2222222222222222,
              "#7201a8"
             ],
             [
              0.3333333333333333,
              "#9c179e"
             ],
             [
              0.4444444444444444,
              "#bd3786"
             ],
             [
              0.5555555555555556,
              "#d8576b"
             ],
             [
              0.6666666666666666,
              "#ed7953"
             ],
             [
              0.7777777777777778,
              "#fb9f3a"
             ],
             [
              0.8888888888888888,
              "#fdca26"
             ],
             [
              1,
              "#f0f921"
             ]
            ],
            "type": "histogram2d"
           }
          ],
          "histogram2dcontour": [
           {
            "colorbar": {
             "outlinewidth": 0,
             "ticks": ""
            },
            "colorscale": [
             [
              0,
              "#0d0887"
             ],
             [
              0.1111111111111111,
              "#46039f"
             ],
             [
              0.2222222222222222,
              "#7201a8"
             ],
             [
              0.3333333333333333,
              "#9c179e"
             ],
             [
              0.4444444444444444,
              "#bd3786"
             ],
             [
              0.5555555555555556,
              "#d8576b"
             ],
             [
              0.6666666666666666,
              "#ed7953"
             ],
             [
              0.7777777777777778,
              "#fb9f3a"
             ],
             [
              0.8888888888888888,
              "#fdca26"
             ],
             [
              1,
              "#f0f921"
             ]
            ],
            "type": "histogram2dcontour"
           }
          ],
          "mesh3d": [
           {
            "colorbar": {
             "outlinewidth": 0,
             "ticks": ""
            },
            "type": "mesh3d"
           }
          ],
          "parcoords": [
           {
            "line": {
             "colorbar": {
              "outlinewidth": 0,
              "ticks": ""
             }
            },
            "type": "parcoords"
           }
          ],
          "pie": [
           {
            "automargin": true,
            "type": "pie"
           }
          ],
          "scatter": [
           {
            "fillpattern": {
             "fillmode": "overlay",
             "size": 10,
             "solidity": 0.2
            },
            "type": "scatter"
           }
          ],
          "scatter3d": [
           {
            "line": {
             "colorbar": {
              "outlinewidth": 0,
              "ticks": ""
             }
            },
            "marker": {
             "colorbar": {
              "outlinewidth": 0,
              "ticks": ""
             }
            },
            "type": "scatter3d"
           }
          ],
          "scattercarpet": [
           {
            "marker": {
             "colorbar": {
              "outlinewidth": 0,
              "ticks": ""
             }
            },
            "type": "scattercarpet"
           }
          ],
          "scattergeo": [
           {
            "marker": {
             "colorbar": {
              "outlinewidth": 0,
              "ticks": ""
             }
            },
            "type": "scattergeo"
           }
          ],
          "scattergl": [
           {
            "marker": {
             "colorbar": {
              "outlinewidth": 0,
              "ticks": ""
             }
            },
            "type": "scattergl"
           }
          ],
          "scattermapbox": [
           {
            "marker": {
             "colorbar": {
              "outlinewidth": 0,
              "ticks": ""
             }
            },
            "type": "scattermapbox"
           }
          ],
          "scatterpolar": [
           {
            "marker": {
             "colorbar": {
              "outlinewidth": 0,
              "ticks": ""
             }
            },
            "type": "scatterpolar"
           }
          ],
          "scatterpolargl": [
           {
            "marker": {
             "colorbar": {
              "outlinewidth": 0,
              "ticks": ""
             }
            },
            "type": "scatterpolargl"
           }
          ],
          "scatterternary": [
           {
            "marker": {
             "colorbar": {
              "outlinewidth": 0,
              "ticks": ""
             }
            },
            "type": "scatterternary"
           }
          ],
          "surface": [
           {
            "colorbar": {
             "outlinewidth": 0,
             "ticks": ""
            },
            "colorscale": [
             [
              0,
              "#0d0887"
             ],
             [
              0.1111111111111111,
              "#46039f"
             ],
             [
              0.2222222222222222,
              "#7201a8"
             ],
             [
              0.3333333333333333,
              "#9c179e"
             ],
             [
              0.4444444444444444,
              "#bd3786"
             ],
             [
              0.5555555555555556,
              "#d8576b"
             ],
             [
              0.6666666666666666,
              "#ed7953"
             ],
             [
              0.7777777777777778,
              "#fb9f3a"
             ],
             [
              0.8888888888888888,
              "#fdca26"
             ],
             [
              1,
              "#f0f921"
             ]
            ],
            "type": "surface"
           }
          ],
          "table": [
           {
            "cells": {
             "fill": {
              "color": "#EBF0F8"
             },
             "line": {
              "color": "white"
             }
            },
            "header": {
             "fill": {
              "color": "#C8D4E3"
             },
             "line": {
              "color": "white"
             }
            },
            "type": "table"
           }
          ]
         },
         "layout": {
          "annotationdefaults": {
           "arrowcolor": "#2a3f5f",
           "arrowhead": 0,
           "arrowwidth": 1
          },
          "autotypenumbers": "strict",
          "coloraxis": {
           "colorbar": {
            "outlinewidth": 0,
            "ticks": ""
           }
          },
          "colorscale": {
           "diverging": [
            [
             0,
             "#8e0152"
            ],
            [
             0.1,
             "#c51b7d"
            ],
            [
             0.2,
             "#de77ae"
            ],
            [
             0.3,
             "#f1b6da"
            ],
            [
             0.4,
             "#fde0ef"
            ],
            [
             0.5,
             "#f7f7f7"
            ],
            [
             0.6,
             "#e6f5d0"
            ],
            [
             0.7,
             "#b8e186"
            ],
            [
             0.8,
             "#7fbc41"
            ],
            [
             0.9,
             "#4d9221"
            ],
            [
             1,
             "#276419"
            ]
           ],
           "sequential": [
            [
             0,
             "#0d0887"
            ],
            [
             0.1111111111111111,
             "#46039f"
            ],
            [
             0.2222222222222222,
             "#7201a8"
            ],
            [
             0.3333333333333333,
             "#9c179e"
            ],
            [
             0.4444444444444444,
             "#bd3786"
            ],
            [
             0.5555555555555556,
             "#d8576b"
            ],
            [
             0.6666666666666666,
             "#ed7953"
            ],
            [
             0.7777777777777778,
             "#fb9f3a"
            ],
            [
             0.8888888888888888,
             "#fdca26"
            ],
            [
             1,
             "#f0f921"
            ]
           ],
           "sequentialminus": [
            [
             0,
             "#0d0887"
            ],
            [
             0.1111111111111111,
             "#46039f"
            ],
            [
             0.2222222222222222,
             "#7201a8"
            ],
            [
             0.3333333333333333,
             "#9c179e"
            ],
            [
             0.4444444444444444,
             "#bd3786"
            ],
            [
             0.5555555555555556,
             "#d8576b"
            ],
            [
             0.6666666666666666,
             "#ed7953"
            ],
            [
             0.7777777777777778,
             "#fb9f3a"
            ],
            [
             0.8888888888888888,
             "#fdca26"
            ],
            [
             1,
             "#f0f921"
            ]
           ]
          },
          "colorway": [
           "#636efa",
           "#EF553B",
           "#00cc96",
           "#ab63fa",
           "#FFA15A",
           "#19d3f3",
           "#FF6692",
           "#B6E880",
           "#FF97FF",
           "#FECB52"
          ],
          "font": {
           "color": "#2a3f5f"
          },
          "geo": {
           "bgcolor": "white",
           "lakecolor": "white",
           "landcolor": "#E5ECF6",
           "showlakes": true,
           "showland": true,
           "subunitcolor": "white"
          },
          "hoverlabel": {
           "align": "left"
          },
          "hovermode": "closest",
          "mapbox": {
           "style": "light"
          },
          "paper_bgcolor": "white",
          "plot_bgcolor": "#E5ECF6",
          "polar": {
           "angularaxis": {
            "gridcolor": "white",
            "linecolor": "white",
            "ticks": ""
           },
           "bgcolor": "#E5ECF6",
           "radialaxis": {
            "gridcolor": "white",
            "linecolor": "white",
            "ticks": ""
           }
          },
          "scene": {
           "xaxis": {
            "backgroundcolor": "#E5ECF6",
            "gridcolor": "white",
            "gridwidth": 2,
            "linecolor": "white",
            "showbackground": true,
            "ticks": "",
            "zerolinecolor": "white"
           },
           "yaxis": {
            "backgroundcolor": "#E5ECF6",
            "gridcolor": "white",
            "gridwidth": 2,
            "linecolor": "white",
            "showbackground": true,
            "ticks": "",
            "zerolinecolor": "white"
           },
           "zaxis": {
            "backgroundcolor": "#E5ECF6",
            "gridcolor": "white",
            "gridwidth": 2,
            "linecolor": "white",
            "showbackground": true,
            "ticks": "",
            "zerolinecolor": "white"
           }
          },
          "shapedefaults": {
           "line": {
            "color": "#2a3f5f"
           }
          },
          "ternary": {
           "aaxis": {
            "gridcolor": "white",
            "linecolor": "white",
            "ticks": ""
           },
           "baxis": {
            "gridcolor": "white",
            "linecolor": "white",
            "ticks": ""
           },
           "bgcolor": "#E5ECF6",
           "caxis": {
            "gridcolor": "white",
            "linecolor": "white",
            "ticks": ""
           }
          },
          "title": {
           "x": 0.05
          },
          "xaxis": {
           "automargin": true,
           "gridcolor": "white",
           "linecolor": "white",
           "ticks": "",
           "title": {
            "standoff": 15
           },
           "zerolinecolor": "white",
           "zerolinewidth": 2
          },
          "yaxis": {
           "automargin": true,
           "gridcolor": "white",
           "linecolor": "white",
           "ticks": "",
           "title": {
            "standoff": 15
           },
           "zerolinecolor": "white",
           "zerolinewidth": 2
          }
         }
        },
        "title": {
         "text": "Top 25 Cleanup Sites By Number of Debris Items 2013-23"
        },
        "width": 1000,
        "xaxis": {
         "autorange": true,
         "range": [
          0,
          435737.81989444426
         ],
         "title": {
          "text": "Total Number of Items"
         },
         "type": "linear"
        },
        "yaxis": {
         "autorange": true,
         "categoryorder": "total ascending",
         "range": [
          -0.5,
          24.5
         ],
         "title": {
          "text": "Cleanup Site"
         },
         "type": "category"
        }
       }
      },
      "text/html": [
       "<div>                            <div id=\"b4c5cacf-4cdf-4cef-83b7-9a6300eb3a02\" class=\"plotly-graph-div\" style=\"height:800px; width:1000px;\"></div>            <script type=\"text/javascript\">                require([\"plotly\"], function(Plotly) {                    window.PLOTLYENV=window.PLOTLYENV || {};                                    if (document.getElementById(\"b4c5cacf-4cdf-4cef-83b7-9a6300eb3a02\")) {                    Plotly.newPlot(                        \"b4c5cacf-4cdf-4cef-83b7-9a6300eb3a02\",                        [{\"marker\":{\"color\":\"#00b5e2\"},\"name\":\"Total Number of Items Cleaned Up\",\"orientation\":\"h\",\"x\":[413950.92889972206,157990.98855886413,129323.7544294295,104579.82482573307,89898.22666977467,75049.27354545455,71160.98359741297,59281.04190476191,58684.969226809226,55977.83072413799,46083.315714285716,42688.18666666667,41165.0,39843.23272727273,39516.078571428574,36593.88805952381,32709.902713032574,29883.48,27759.02947368421,26575.023999999998,26563.49349206349,26253.392145311223,26151.97435897436,25815.510000000002,24959.316304347827],\"y\":[\"Cowell\\u002fMain Beach\",\"Del Monte Beach\",\"Seabright State Beach\",\"Seacliff State Beach\",\"Twin Lakes State Beach\",\"Rio Del Mar State Beach\",\"Capitola Beach\",\"Sunny Cove Beach\",\"Panther State Beach\",\"Natural Bridges State Beach\",\"Moran Lake Beach\",\"Hidden Beach\",\"SLR @ Felker\",\"Beer Can Beach\",\"Corcoran Lagoon\",\"Palm Beach State Park\",\"Manresa State Beach\",\"SLR @ Soquel\",\"Sand City Beach\",\"Upper Carr Lake\",\"Lovers Point Beach\",\"Marina State Beach\",\"Elkhorn Slough\",\"West Struve Slough\",\"Fort Ord Dunes State Beach\"],\"type\":\"bar\"}],                        {\"template\":{\"data\":{\"histogram2dcontour\":[{\"type\":\"histogram2dcontour\",\"colorbar\":{\"outlinewidth\":0,\"ticks\":\"\"},\"colorscale\":[[0.0,\"#0d0887\"],[0.1111111111111111,\"#46039f\"],[0.2222222222222222,\"#7201a8\"],[0.3333333333333333,\"#9c179e\"],[0.4444444444444444,\"#bd3786\"],[0.5555555555555556,\"#d8576b\"],[0.6666666666666666,\"#ed7953\"],[0.7777777777777778,\"#fb9f3a\"],[0.8888888888888888,\"#fdca26\"],[1.0,\"#f0f921\"]]}],\"choropleth\":[{\"type\":\"choropleth\",\"colorbar\":{\"outlinewidth\":0,\"ticks\":\"\"}}],\"histogram2d\":[{\"type\":\"histogram2d\",\"colorbar\":{\"outlinewidth\":0,\"ticks\":\"\"},\"colorscale\":[[0.0,\"#0d0887\"],[0.1111111111111111,\"#46039f\"],[0.2222222222222222,\"#7201a8\"],[0.3333333333333333,\"#9c179e\"],[0.4444444444444444,\"#bd3786\"],[0.5555555555555556,\"#d8576b\"],[0.6666666666666666,\"#ed7953\"],[0.7777777777777778,\"#fb9f3a\"],[0.8888888888888888,\"#fdca26\"],[1.0,\"#f0f921\"]]}],\"heatmap\":[{\"type\":\"heatmap\",\"colorbar\":{\"outlinewidth\":0,\"ticks\":\"\"},\"colorscale\":[[0.0,\"#0d0887\"],[0.1111111111111111,\"#46039f\"],[0.2222222222222222,\"#7201a8\"],[0.3333333333333333,\"#9c179e\"],[0.4444444444444444,\"#bd3786\"],[0.5555555555555556,\"#d8576b\"],[0.6666666666666666,\"#ed7953\"],[0.7777777777777778,\"#fb9f3a\"],[0.8888888888888888,\"#fdca26\"],[1.0,\"#f0f921\"]]}],\"heatmapgl\":[{\"type\":\"heatmapgl\",\"colorbar\":{\"outlinewidth\":0,\"ticks\":\"\"},\"colorscale\":[[0.0,\"#0d0887\"],[0.1111111111111111,\"#46039f\"],[0.2222222222222222,\"#7201a8\"],[0.3333333333333333,\"#9c179e\"],[0.4444444444444444,\"#bd3786\"],[0.5555555555555556,\"#d8576b\"],[0.6666666666666666,\"#ed7953\"],[0.7777777777777778,\"#fb9f3a\"],[0.8888888888888888,\"#fdca26\"],[1.0,\"#f0f921\"]]}],\"contourcarpet\":[{\"type\":\"contourcarpet\",\"colorbar\":{\"outlinewidth\":0,\"ticks\":\"\"}}],\"contour\":[{\"type\":\"contour\",\"colorbar\":{\"outlinewidth\":0,\"ticks\":\"\"},\"colorscale\":[[0.0,\"#0d0887\"],[0.1111111111111111,\"#46039f\"],[0.2222222222222222,\"#7201a8\"],[0.3333333333333333,\"#9c179e\"],[0.4444444444444444,\"#bd3786\"],[0.5555555555555556,\"#d8576b\"],[0.6666666666666666,\"#ed7953\"],[0.7777777777777778,\"#fb9f3a\"],[0.8888888888888888,\"#fdca26\"],[1.0,\"#f0f921\"]]}],\"surface\":[{\"type\":\"surface\",\"colorbar\":{\"outlinewidth\":0,\"ticks\":\"\"},\"colorscale\":[[0.0,\"#0d0887\"],[0.1111111111111111,\"#46039f\"],[0.2222222222222222,\"#7201a8\"],[0.3333333333333333,\"#9c179e\"],[0.4444444444444444,\"#bd3786\"],[0.5555555555555556,\"#d8576b\"],[0.6666666666666666,\"#ed7953\"],[0.7777777777777778,\"#fb9f3a\"],[0.8888888888888888,\"#fdca26\"],[1.0,\"#f0f921\"]]}],\"mesh3d\":[{\"type\":\"mesh3d\",\"colorbar\":{\"outlinewidth\":0,\"ticks\":\"\"}}],\"scatter\":[{\"fillpattern\":{\"fillmode\":\"overlay\",\"size\":10,\"solidity\":0.2},\"type\":\"scatter\"}],\"parcoords\":[{\"type\":\"parcoords\",\"line\":{\"colorbar\":{\"outlinewidth\":0,\"ticks\":\"\"}}}],\"scatterpolargl\":[{\"type\":\"scatterpolargl\",\"marker\":{\"colorbar\":{\"outlinewidth\":0,\"ticks\":\"\"}}}],\"bar\":[{\"error_x\":{\"color\":\"#2a3f5f\"},\"error_y\":{\"color\":\"#2a3f5f\"},\"marker\":{\"line\":{\"color\":\"#E5ECF6\",\"width\":0.5},\"pattern\":{\"fillmode\":\"overlay\",\"size\":10,\"solidity\":0.2}},\"type\":\"bar\"}],\"scattergeo\":[{\"type\":\"scattergeo\",\"marker\":{\"colorbar\":{\"outlinewidth\":0,\"ticks\":\"\"}}}],\"scatterpolar\":[{\"type\":\"scatterpolar\",\"marker\":{\"colorbar\":{\"outlinewidth\":0,\"ticks\":\"\"}}}],\"histogram\":[{\"marker\":{\"pattern\":{\"fillmode\":\"overlay\",\"size\":10,\"solidity\":0.2}},\"type\":\"histogram\"}],\"scattergl\":[{\"type\":\"scattergl\",\"marker\":{\"colorbar\":{\"outlinewidth\":0,\"ticks\":\"\"}}}],\"scatter3d\":[{\"type\":\"scatter3d\",\"line\":{\"colorbar\":{\"outlinewidth\":0,\"ticks\":\"\"}},\"marker\":{\"colorbar\":{\"outlinewidth\":0,\"ticks\":\"\"}}}],\"scattermapbox\":[{\"type\":\"scattermapbox\",\"marker\":{\"colorbar\":{\"outlinewidth\":0,\"ticks\":\"\"}}}],\"scatterternary\":[{\"type\":\"scatterternary\",\"marker\":{\"colorbar\":{\"outlinewidth\":0,\"ticks\":\"\"}}}],\"scattercarpet\":[{\"type\":\"scattercarpet\",\"marker\":{\"colorbar\":{\"outlinewidth\":0,\"ticks\":\"\"}}}],\"carpet\":[{\"aaxis\":{\"endlinecolor\":\"#2a3f5f\",\"gridcolor\":\"white\",\"linecolor\":\"white\",\"minorgridcolor\":\"white\",\"startlinecolor\":\"#2a3f5f\"},\"baxis\":{\"endlinecolor\":\"#2a3f5f\",\"gridcolor\":\"white\",\"linecolor\":\"white\",\"minorgridcolor\":\"white\",\"startlinecolor\":\"#2a3f5f\"},\"type\":\"carpet\"}],\"table\":[{\"cells\":{\"fill\":{\"color\":\"#EBF0F8\"},\"line\":{\"color\":\"white\"}},\"header\":{\"fill\":{\"color\":\"#C8D4E3\"},\"line\":{\"color\":\"white\"}},\"type\":\"table\"}],\"barpolar\":[{\"marker\":{\"line\":{\"color\":\"#E5ECF6\",\"width\":0.5},\"pattern\":{\"fillmode\":\"overlay\",\"size\":10,\"solidity\":0.2}},\"type\":\"barpolar\"}],\"pie\":[{\"automargin\":true,\"type\":\"pie\"}]},\"layout\":{\"autotypenumbers\":\"strict\",\"colorway\":[\"#636efa\",\"#EF553B\",\"#00cc96\",\"#ab63fa\",\"#FFA15A\",\"#19d3f3\",\"#FF6692\",\"#B6E880\",\"#FF97FF\",\"#FECB52\"],\"font\":{\"color\":\"#2a3f5f\"},\"hovermode\":\"closest\",\"hoverlabel\":{\"align\":\"left\"},\"paper_bgcolor\":\"white\",\"plot_bgcolor\":\"#E5ECF6\",\"polar\":{\"bgcolor\":\"#E5ECF6\",\"angularaxis\":{\"gridcolor\":\"white\",\"linecolor\":\"white\",\"ticks\":\"\"},\"radialaxis\":{\"gridcolor\":\"white\",\"linecolor\":\"white\",\"ticks\":\"\"}},\"ternary\":{\"bgcolor\":\"#E5ECF6\",\"aaxis\":{\"gridcolor\":\"white\",\"linecolor\":\"white\",\"ticks\":\"\"},\"baxis\":{\"gridcolor\":\"white\",\"linecolor\":\"white\",\"ticks\":\"\"},\"caxis\":{\"gridcolor\":\"white\",\"linecolor\":\"white\",\"ticks\":\"\"}},\"coloraxis\":{\"colorbar\":{\"outlinewidth\":0,\"ticks\":\"\"}},\"colorscale\":{\"sequential\":[[0.0,\"#0d0887\"],[0.1111111111111111,\"#46039f\"],[0.2222222222222222,\"#7201a8\"],[0.3333333333333333,\"#9c179e\"],[0.4444444444444444,\"#bd3786\"],[0.5555555555555556,\"#d8576b\"],[0.6666666666666666,\"#ed7953\"],[0.7777777777777778,\"#fb9f3a\"],[0.8888888888888888,\"#fdca26\"],[1.0,\"#f0f921\"]],\"sequentialminus\":[[0.0,\"#0d0887\"],[0.1111111111111111,\"#46039f\"],[0.2222222222222222,\"#7201a8\"],[0.3333333333333333,\"#9c179e\"],[0.4444444444444444,\"#bd3786\"],[0.5555555555555556,\"#d8576b\"],[0.6666666666666666,\"#ed7953\"],[0.7777777777777778,\"#fb9f3a\"],[0.8888888888888888,\"#fdca26\"],[1.0,\"#f0f921\"]],\"diverging\":[[0,\"#8e0152\"],[0.1,\"#c51b7d\"],[0.2,\"#de77ae\"],[0.3,\"#f1b6da\"],[0.4,\"#fde0ef\"],[0.5,\"#f7f7f7\"],[0.6,\"#e6f5d0\"],[0.7,\"#b8e186\"],[0.8,\"#7fbc41\"],[0.9,\"#4d9221\"],[1,\"#276419\"]]},\"xaxis\":{\"gridcolor\":\"white\",\"linecolor\":\"white\",\"ticks\":\"\",\"title\":{\"standoff\":15},\"zerolinecolor\":\"white\",\"automargin\":true,\"zerolinewidth\":2},\"yaxis\":{\"gridcolor\":\"white\",\"linecolor\":\"white\",\"ticks\":\"\",\"title\":{\"standoff\":15},\"zerolinecolor\":\"white\",\"automargin\":true,\"zerolinewidth\":2},\"scene\":{\"xaxis\":{\"backgroundcolor\":\"#E5ECF6\",\"gridcolor\":\"white\",\"linecolor\":\"white\",\"showbackground\":true,\"ticks\":\"\",\"zerolinecolor\":\"white\",\"gridwidth\":2},\"yaxis\":{\"backgroundcolor\":\"#E5ECF6\",\"gridcolor\":\"white\",\"linecolor\":\"white\",\"showbackground\":true,\"ticks\":\"\",\"zerolinecolor\":\"white\",\"gridwidth\":2},\"zaxis\":{\"backgroundcolor\":\"#E5ECF6\",\"gridcolor\":\"white\",\"linecolor\":\"white\",\"showbackground\":true,\"ticks\":\"\",\"zerolinecolor\":\"white\",\"gridwidth\":2}},\"shapedefaults\":{\"line\":{\"color\":\"#2a3f5f\"}},\"annotationdefaults\":{\"arrowcolor\":\"#2a3f5f\",\"arrowhead\":0,\"arrowwidth\":1},\"geo\":{\"bgcolor\":\"white\",\"landcolor\":\"#E5ECF6\",\"subunitcolor\":\"white\",\"showland\":true,\"showlakes\":true,\"lakecolor\":\"white\"},\"title\":{\"x\":0.05},\"mapbox\":{\"style\":\"light\"}}},\"yaxis\":{\"title\":{\"text\":\"Cleanup Site\"},\"categoryorder\":\"total ascending\"},\"autosize\":false,\"width\":1000,\"height\":800,\"title\":{\"text\":\"Top 25 Cleanup Sites By Number of Debris Items 2013-23\"},\"xaxis\":{\"title\":{\"text\":\"Total Number of Items\"}}},                        {\"responsive\": true}                    ).then(function(){\n",
       "                            \n",
       "var gd = document.getElementById('b4c5cacf-4cdf-4cef-83b7-9a6300eb3a02');\n",
       "var x = new MutationObserver(function (mutations, observer) {{\n",
       "        var display = window.getComputedStyle(gd).display;\n",
       "        if (!display || display === 'none') {{\n",
       "            console.log([gd, 'removed!']);\n",
       "            Plotly.purge(gd);\n",
       "            observer.disconnect();\n",
       "        }}\n",
       "}});\n",
       "\n",
       "// Listen for the removal of the full notebook cells\n",
       "var notebookContainer = gd.closest('#notebook-container');\n",
       "if (notebookContainer) {{\n",
       "    x.observe(notebookContainer, {childList: true});\n",
       "}}\n",
       "\n",
       "// Listen for the clearing of the current output cell\n",
       "var outputEl = gd.closest('.output');\n",
       "if (outputEl) {{\n",
       "    x.observe(outputEl, {childList: true});\n",
       "}}\n",
       "\n",
       "                        })                };                });            </script>        </div>"
      ]
     },
     "metadata": {},
     "output_type": "display_data"
    }
   ],
   "source": [
    "fig = graph_maker.items_by_site()\n",
    "fig.show()"
   ]
  },
  {
   "cell_type": "markdown",
   "id": "ebdc5ed3-3d6e-4466-a9e0-9f0f0b8de442",
   "metadata": {},
   "source": [
    "Total number of items cleaned up from 2013-2023 by cleanup site. Only top 25 results are displayed."
   ]
  },
  {
   "cell_type": "markdown",
   "id": "73e0d897-cfb4-4786-b52e-03f42b801514",
   "metadata": {},
   "source": [
    "# Smoking Debris\n",
    "\n",
    "The single most prevalent debris caused by recognizable item is by far cigarette butts. In this section, the influence of smoking in collected marine debris will be further explored.\n",
    "\n",
    "## Number of Cigarette Butts by Location 2013-2023\n",
    "\n",
    "The map below shows the number of cigarette butts cleaned up for each site which we have geographic coordinates for. Each circle represents a cleanup site and the size of the circle corresponds to the number of cigarette butts cleaned up."
   ]
  },
  {
   "cell_type": "code",
   "execution_count": 16,
   "id": "739c1223-0bb6-4b4c-995e-feab2bb858e0",
   "metadata": {
    "scrolled": true
   },
   "outputs": [
    {
     "data": {
      "application/vnd.plotly.v1+json": {
       "config": {
        "plotlyServerURL": "https://plot.ly"
       },
       "data": [
        {
         "customdata": [
          [
           "Cowell/Main Beach",
           88405
          ],
          [
           "Del Monte Beach",
           53254
          ],
          [
           "Seabright State Beach",
           22810
          ],
          [
           "Twin Lakes State Beach",
           15935
          ],
          [
           "Seacliff State Beach",
           15020
          ],
          [
           "SLR @ Felker",
           14329
          ],
          [
           "Sunny Cove Beach",
           13636
          ],
          [
           "Rio Del Mar State Beach",
           12119
          ],
          [
           "Lovers Point Beach",
           12007
          ],
          [
           "Capitola Beach",
           11619
          ],
          [
           "Moran Lake Beach",
           9544
          ],
          [
           "SLR @ Soquel",
           7664
          ],
          [
           "SLR",
           7101
          ],
          [
           "SLR @ Water",
           7065
          ],
          [
           "SLR @ Water",
           7065
          ],
          [
           "Natural Bridges State Beach",
           6304
          ],
          [
           "Corcoran Lagoon",
           5913
          ],
          [
           "Monterey State Beach",
           5838
          ],
          [
           "SLR @ Laurel",
           5737
          ],
          [
           "Panther State Beach",
           4795
          ],
          [
           "Sand City Beach",
           4591
          ],
          [
           "Asilomar State Beach",
           4274
          ],
          [
           "Marina State Beach",
           4058
          ],
          [
           "Palm Beach State Park",
           3803
          ],
          [
           "Mcabee State Beach",
           3757
          ],
          [
           "SLR @ Felton",
           3661
          ],
          [
           "SLR @ Felton",
           3661
          ],
          [
           "Hidden Beach",
           3623
          ],
          [
           "Felton Covered Bridge",
           3535
          ],
          [
           "SLR @ Riverside",
           3342
          ],
          [
           "Beer Can Beach",
           3263
          ],
          [
           "Lighthouse Field State Beach",
           3238
          ],
          [
           "SLR @ The Tannery Arts Center",
           3212
          ],
          [
           "SLR @ Fillmore",
           3145
          ],
          [
           "Pleasure Point Beaches",
           3008
          ],
          [
           "Moss Landing State Beach",
           2894
          ],
          [
           "SLR @ Ben Lomond",
           2696
          ],
          [
           "Carmel City Beach",
           2574
          ],
          [
           "Leona Creek",
           2284
          ],
          [
           "Manresa State Beach",
           2205
          ],
          [
           "Blacks Beach",
           2102
          ],
          [
           "SLR @ Mimi De Marta Park",
           2005
          ],
          [
           "New Brighton State Beach",
           1860
          ],
          [
           "Watsonville Slough",
           1782
          ],
          [
           "Sunset State Beach",
           1777
          ],
          [
           "Lompico Creek",
           1676
          ],
          [
           "Davenport Main Beach",
           1660
          ],
          [
           "SLR @ San Lorenzo Benchlands Park",
           1595
          ],
          [
           "SLR @ Slv Recycling Center",
           1573
          ],
          [
           "Pajaro River",
           1504
          ],
          [
           "Salinas River State Beach",
           1375
          ],
          [
           "Watsonville City Plaza",
           1336
          ],
          [
           "Upper Carr Lake",
           1271
          ],
          [
           "Main And Beach Gutters",
           1175
          ],
          [
           "Fort Ord Dunes State Beach",
           1165
          ],
          [
           "Casa Verde Beach",
           1140
          ],
          [
           "Bonny Doon State Beach",
           1132
          ],
          [
           "Work Memorial Park",
           1120
          ],
          [
           "Garrapata State Beach",
           1101
          ],
          [
           "Waddell State Beach",
           1050
          ],
          [
           "San Carlos Beach",
           1022
          ],
          [
           "Soquel Creek",
           989
          ],
          [
           "Salinas River National Wildlife Refuge",
           933
          ],
          [
           "Aptos Creek",
           921
          ],
          [
           "West Struve Slough",
           919
          ],
          [
           "Carmel River State Beach",
           867
          ],
          [
           "Harkins Slough",
           858
          ],
          [
           "Elkhorn Slough",
           842
          ],
          [
           "Davenport",
           806
          ],
          [
           "Fisherman's Wharf",
           716
          ],
          [
           "Woodrow State Beach",
           688
          ],
          [
           "Four-Mile State Beach",
           680
          ],
          [
           "Big Sur: Willow Creek, Mill Creek, Jade Cove, Sand Dollar Beach",
           652
          ],
          [
           "Natividad Creek Park",
           640
          ],
          [
           "Greyhound Rock Beach",
           629
          ],
          [
           "Monterey Bay Photo St.",
           622
          ],
          [
           "Carmel Beach",
           619
          ],
          [
           "Macabee State Beach",
           600
          ],
          [
           "Seascape Beach",
           590
          ],
          [
           "Boulder Creek Recycling Center",
           586
          ],
          [
           "Laguna Creek Beach",
           562
          ],
          [
           "Los Gatos Creek",
           527
          ],
          [
           "Scott Creek Beach",
           524
          ],
          [
           "Nan",
           483
          ],
          [
           "Davenport Landing Beach",
           461
          ],
          [
           "Casa Verde",
           445
          ],
          [
           "Monterey Peninsula Campus",
           440
          ],
          [
           "Bay View Campus",
           421
          ],
          [
           "Monastery Beach",
           359
          ],
          [
           "Shark Tooth Beach",
           332
          ],
          [
           "SLR Riveside - Mouth",
           332
          ],
          [
           "Struve Slough @ Ramsey Park",
           325
          ],
          [
           "Loch Lomond",
           321
          ],
          [
           "Mitchell's Cove Beach",
           288
          ],
          [
           "Wetlands Near Pajaro Valley High School",
           278
          ],
          [
           "Sky Park",
           270
          ],
          [
           "Zmudowski State Beach",
           263
          ],
          [
           "Boulder Creek",
           236
          ],
          [
           "Rail Trail",
           227
          ],
          [
           "San Lorenzo Valley High School",
           225
          ],
          [
           "Pillar Point Harbor Beach",
           222
          ],
          [
           "Ramsay Park",
           220
          ],
          [
           "3712555, -12211976",
           204
          ],
          [
           "SLR @ 3Rdnue - Rivermouth",
           195
          ],
          [
           "Nature Center Ramsey Park",
           193
          ],
          [
           "3696461, -12203826",
           182
          ],
          [
           "Ocean Beach",
           162
          ],
          [
           "Carbonera Creek",
           151
          ],
          [
           "?",
           149
          ],
          [
           "Shark Fin Cove",
           145
          ],
          [
           "Dog Beach",
           143
          ],
          [
           "3667816, -12161074",
           140
          ],
          [
           "Bayland'S Park/ Reserve Palo Alto",
           138
          ],
          [
           "Coyote Creek",
           135
          ],
          [
           "Willow Creek - Big Sur",
           128
          ],
          [
           "SLR @ The Mouth",
           115
          ],
          [
           "Carmel State Beach",
           112
          ],
          [
           "Ben Lomond",
           110
          ],
          [
           "36926242549172, -12177562752837",
           109
          ],
          [
           "West Lake",
           103
          ],
          [
           "Heritage Harbor Beach",
           100
          ],
          [
           "Westside Railroad Cleanup",
           98
          ],
          [
           "Navy Dunes",
           95
          ],
          [
           "Pacific Cleanup",
           88
          ],
          [
           "Other",
           85
          ],
          [
           "Struve Slough",
           72
          ],
          [
           "Mill Creek - Big Sur",
           72
          ],
          [
           "3697082, -12188786",
           71
          ],
          [
           "Westcliff Drive",
           70
          ],
          [
           "Sand Dollar Beach - Big Sur",
           69
          ],
          [
           "Salinas River At Sandholt Rd",
           67
          ],
          [
           "Rancho Moro Cojo Park",
           62
          ],
          [
           "West Beach Road Ditch Cleanup",
           61
          ],
          [
           "Bay View Elementary School",
           55
          ],
          [
           "Salinas River At Molera Road",
           55
          ],
          [
           "3693556, -12176723",
           48
          ],
          [
           "3659458, -12185013",
           47
          ],
          [
           "3661368, -12192439",
           46
          ],
          [
           "Pajaro Dunes Beach",
           45
          ],
          [
           "Upper Carr Lake, Salinas",
           43
          ],
          [
           "Bean Creek",
           38
          ],
          [
           "Salinas River Portrero Road",
           34
          ],
          [
           "3692203, -12176888",
           34
          ],
          [
           "Beach Flats Neighborhood",
           33
          ],
          [
           "Three-Mile State Beach",
           33
          ],
          [
           "369841, -12196154",
           31
          ],
          [
           "N08 Quadrant",
           31
          ],
          [
           "Downtown Santa Cruz",
           31
          ],
          [
           "Santa Cruz Wharf",
           29
          ],
          [
           "3698405, -12196159",
           28
          ],
          [
           "3659458, -12185009",
           27
          ],
          [
           "Pajaro Valley High School",
           24
          ],
          [
           "Watsonville High School",
           19
          ],
          [
           "369354, -12176707",
           19
          ],
          [
           "Heller Park",
           19
          ],
          [
           "3703656, -12202201",
           19
          ],
          [
           "Carmel Meadows/Ribera Beach",
           18
          ],
          [
           "EAHall Middle School",
           18
          ],
          [
           "3661387, -12192417",
           17
          ],
          [
           "Arroyo Seco",
           17
          ],
          [
           "Lakeview Campus",
           17
          ],
          [
           "3693604, -12174346",
           15
          ],
          [
           "369685, -12197296",
           13
          ],
          [
           "Andrew Molera State Park",
           11
          ],
          [
           "3693769, -12174271",
           11
          ],
          [
           "Campus Cleanup",
           11
          ],
          [
           "3659461, -12183997",
           11
          ],
          [
           "3693542, -12176694",
           10
          ],
          [
           "Santa Cruz Harbor",
           10
          ],
          [
           "Ano Nuevo State Beach",
           10
          ],
          [
           "3592611, -12037461",
           10
          ],
          [
           "SLR From Laurel St Bridge Towards Riverside Bridge",
           9
          ],
          [
           "3659458, -12185001",
           7
          ],
          [
           "36688612025127, -12181149818641",
           6
          ],
          [
           "Sdm Beach Flats",
           6
          ],
          [
           "SLR @ River Mouth - Leinbrandt",
           5
          ],
          [
           "SLR@ The Mat Laundry (Boulder Creek)",
           5
          ],
          [
           "3693537, -12176709",
           5
          ],
          [
           "3697048, -12204416",
           5
          ],
          [
           "Bradley Elementary",
           5
          ],
          [
           "Cave Near John'S",
           5
          ],
          [
           "3659462, -12185006",
           5
          ],
          [
           "EA Middle School Campus",
           5
          ],
          [
           "K Quadrants",
           5
          ],
          [
           "Gault Elementary School",
           5
          ],
          [
           "3696839, -121973",
           4
          ],
          [
           "Rodeo Creek",
           4
          ],
          [
           "3660012, -12193417",
           4
          ],
          [
           "3693647, -12174318",
           4
          ],
          [
           "3667801, -12161066",
           4
          ],
          [
           "Sdm Downtown Sc",
           4
          ],
          [
           "De La Veaga Park",
           4
          ],
          [
           "Point Lobos State Natural Reserve",
           4
          ],
          [
           "Downtown Montereys",
           4
          ],
          [
           "City Of Santa Cruz-Center & Beach St",
           3
          ],
          [
           "Harbor High Campus",
           3
          ],
          [
           "Sdm West Cliff",
           2
          ],
          [
           "Pebble Beach",
           2
          ],
          [
           "Pocket Beach",
           2
          ],
          [
           "3659461, -12185004",
           2
          ],
          [
           "3659463, -12185005",
           2
          ],
          [
           "3691017, -12174706",
           2
          ],
          [
           "3691706, -1218487",
           2
          ],
          [
           "3659456, -12185007",
           2
          ],
          [
           "3658674, -12186799",
           1
          ],
          [
           "3659456, -1218501",
           1
          ],
          [
           "3659449, -12185015",
           1
          ],
          [
           "De Laveaga Elementary School",
           1
          ],
          [
           "3697006, -12203877",
           1
          ],
          [
           "3693951, -12174165",
           1
          ],
          [
           "3690996, -12174697",
           1
          ],
          [
           "3661377, -12192423",
           1
          ],
          [
           "3668992, -12179212",
           1
          ],
          [
           "3659464, -12185005",
           1
          ],
          [
           "3675861, -12174762",
           1
          ],
          [
           "3659465, -12185003",
           1
          ],
          [
           "3659462, -12185011",
           1
          ],
          [
           "3643248, -12132069",
           1
          ],
          [
           "365785, -12172052",
           0
          ],
          [
           "365944, -12184317",
           0
          ],
          [
           "36586769104004, -1218784942627",
           0
          ],
          [
           "36592700958252, -12184306335449",
           0
          ],
          [
           "3659425, -12183985",
           0
          ],
          [
           "3659455, -12185008",
           0
          ],
          [
           "3659456, -12185004",
           0
          ],
          [
           "3659451, -12185016",
           0
          ],
          [
           "3659455, -12185004",
           0
          ],
          [
           "37070449829102, -12198534393311",
           0
          ],
          [
           "37062046051025, -12200630187988",
           0
          ],
          [
           "37047939300537, -12203140258789",
           0
          ],
          [
           "Big Sur Roving Cleanup",
           0
          ],
          [
           "Campus",
           0
          ],
          [
           "California State Beach At End Of Kelly",
           0
          ],
          [
           "Bradley Elementary School",
           0
          ],
          [
           "3659458, -12185002",
           0
          ],
          [
           "Watsonville Plaza",
           0
          ],
          [
           "City Of Santa Cruz-Laurel & Bay",
           0
          ],
          [
           "Valencia Elementary School Campus",
           0
          ],
          [
           "365199815, -1219388353",
           0
          ],
          [
           "36964340209961, -12203816223145",
           0
          ],
          [
           "36964336395264, -12203814697266",
           0
          ],
          [
           "36964168548584, -12203796386719",
           0
          ],
          [
           "3693997, -121741",
           0
          ],
          [
           "3693945, -12174175",
           0
          ],
          [
           "3693892, -12174209",
           0
          ],
          [
           "3697598, -12199806",
           0
          ],
          [
           "Monterey Hostel Cleanup",
           0
          ],
          [
           "3697349, -12200288",
           0
          ],
          [
           "3698277, -12197005",
           0
          ],
          [
           "36981407165527, -12201036834717",
           0
          ],
          [
           "372295083, -1221205902",
           0
          ],
          [
           "3696509, -12196174",
           0
          ],
          [
           "3696681, -12196282",
           0
          ],
          [
           "36969974517822, -12203875732422",
           0
          ],
          [
           "3697046, -12204418",
           0
          ],
          [
           "371243, -12204976",
           0
          ],
          [
           "3714847, -12212891",
           0
          ],
          [
           "37077921, -1220794613",
           0
          ],
          [
           "36964866638184, -12196340179443",
           0
          ],
          [
           "Alviso Marina",
           0
          ],
          [
           "3723216, -12209932",
           0
          ],
          [
           "Garra Pata State Beach",
           0
          ],
          [
           "Baylands, Palo Alto",
           0
          ],
          [
           "Half Moon Bay State Beach",
           0
          ],
          [
           "369871, -12195892",
           0
          ],
          [
           "36987216949463, -12193186950684",
           0
          ],
          [
           "36987224578857, -12193172454834",
           0
          ],
          [
           "3700711, -12202109",
           0
          ],
          [
           "36907543182373, -12177456665039",
           0
          ],
          [
           "36964527130127, -12203833770752",
           0
          ],
          [
           "3678381, -12187989",
           0
          ],
          [
           "3669003, -12179222",
           0
          ],
          [
           "3668134, -12162068",
           0
          ],
          [
           "3661367, -12192424",
           0
          ],
          [
           "366767374, -1217924971",
           0
          ],
          [
           "36925765449851, -1217751866063",
           0
          ],
          [
           "36600032806396, -12193447113037",
           0
          ],
          [
           "36601322174072, -12184586334229",
           0
          ],
          [
           "3660247, -12194593",
           0
          ],
          [
           "36927402496338, -12168284606934",
           0
          ],
          [
           "368225884, -1217765309",
           0
          ],
          [
           "3691475, -12179356",
           0
          ],
          [
           "36912663264848, -12175229918824",
           0
          ],
          [
           "36915027618408, -12179370117188",
           0
          ],
          [
           "36918753, -121743699",
           0
          ],
          [
           "3691988, -12176494",
           0
          ],
          [
           "3692163, -12175577",
           0
          ],
          [
           "3659464, -12185004",
           0
          ],
          [
           "3659462, -12185004",
           0
          ],
          [
           "365946, -12185018",
           0
          ],
          [
           "365946, -12185012",
           0
          ],
          [
           "Salinas River",
           0
          ],
          [
           "Salinas River @ Monte Rd",
           0
          ],
          [
           "3659459, -12185005",
           0
          ],
          [
           "3659474, -1218504",
           0
          ],
          [
           "365973885, -1218979244",
           0
          ],
          [
           "36596195220947, -12183684539795",
           0
          ],
          [
           "Soquel Elementary",
           0
          ],
          [
           "Sumner & Dolpin Beach",
           0
          ],
          [
           "364527343, -1216962434",
           0
          ],
          [
           "364796839, -1217324476",
           0
          ],
          [
           "3631416, -12124082",
           0
          ],
          [
           "36314129, -121240773",
           0
          ]
         ],
         "hovertemplate": "<b>%{hovertext}</b><br><br>Cigarette Butts=%{customdata[1]}<br>Latitude=%{lat}<br>Longitude=%{lon}<br>Cleanup Site=%{customdata[0]}<extra></extra>",
         "hovertext": [
          "Cowell/Main Beach",
          "Del Monte Beach",
          "Seabright State Beach",
          "Twin Lakes State Beach",
          "Seacliff State Beach",
          "SLR @ Felker",
          "Sunny Cove Beach",
          "Rio Del Mar State Beach",
          "Lovers Point Beach",
          "Capitola Beach",
          "Moran Lake Beach",
          "SLR @ Soquel",
          "SLR",
          "SLR @ Water",
          "SLR @ Water",
          "Natural Bridges State Beach",
          "Corcoran Lagoon",
          "Monterey State Beach",
          "SLR @ Laurel",
          "Panther State Beach",
          "Sand City Beach",
          "Asilomar State Beach",
          "Marina State Beach",
          "Palm Beach State Park",
          "Mcabee State Beach",
          "SLR @ Felton",
          "SLR @ Felton",
          "Hidden Beach",
          "Felton Covered Bridge",
          "SLR @ Riverside",
          "Beer Can Beach",
          "Lighthouse Field State Beach",
          "SLR @ The Tannery Arts Center",
          "SLR @ Fillmore",
          "Pleasure Point Beaches",
          "Moss Landing State Beach",
          "SLR @ Ben Lomond",
          "Carmel City Beach",
          "Leona Creek",
          "Manresa State Beach",
          "Blacks Beach",
          "SLR @ Mimi De Marta Park",
          "New Brighton State Beach",
          "Watsonville Slough",
          "Sunset State Beach",
          "Lompico Creek",
          "Davenport Main Beach",
          "SLR @ San Lorenzo Benchlands Park",
          "SLR @ Slv Recycling Center",
          "Pajaro River",
          "Salinas River State Beach",
          "Watsonville City Plaza",
          "Upper Carr Lake",
          "Main And Beach Gutters",
          "Fort Ord Dunes State Beach",
          "Casa Verde Beach",
          "Bonny Doon State Beach",
          "Work Memorial Park",
          "Garrapata State Beach",
          "Waddell State Beach",
          "San Carlos Beach",
          "Soquel Creek",
          "Salinas River National Wildlife Refuge",
          "Aptos Creek",
          "West Struve Slough",
          "Carmel River State Beach",
          "Harkins Slough",
          "Elkhorn Slough",
          "Davenport",
          "Fisherman's Wharf",
          "Woodrow State Beach",
          "Four-Mile State Beach",
          "Big Sur: Willow Creek, Mill Creek, Jade Cove, Sand Dollar Beach",
          "Natividad Creek Park",
          "Greyhound Rock Beach",
          "Monterey Bay Photo St.",
          "Carmel Beach",
          "Macabee State Beach",
          "Seascape Beach",
          "Boulder Creek Recycling Center",
          "Laguna Creek Beach",
          "Los Gatos Creek",
          "Scott Creek Beach",
          "Nan",
          "Davenport Landing Beach",
          "Casa Verde",
          "Monterey Peninsula Campus",
          "Bay View Campus",
          "Monastery Beach",
          "Shark Tooth Beach",
          "SLR Riveside - Mouth",
          "Struve Slough @ Ramsey Park",
          "Loch Lomond",
          "Mitchell's Cove Beach",
          "Wetlands Near Pajaro Valley High School",
          "Sky Park",
          "Zmudowski State Beach",
          "Boulder Creek",
          "Rail Trail",
          "San Lorenzo Valley High School",
          "Pillar Point Harbor Beach",
          "Ramsay Park",
          "3712555, -12211976",
          "SLR @ 3Rdnue - Rivermouth",
          "Nature Center Ramsey Park",
          "3696461, -12203826",
          "Ocean Beach",
          "Carbonera Creek",
          "?",
          "Shark Fin Cove",
          "Dog Beach",
          "3667816, -12161074",
          "Bayland'S Park/ Reserve Palo Alto",
          "Coyote Creek",
          "Willow Creek - Big Sur",
          "SLR @ The Mouth",
          "Carmel State Beach",
          "Ben Lomond",
          "36926242549172, -12177562752837",
          "West Lake",
          "Heritage Harbor Beach",
          "Westside Railroad Cleanup",
          "Navy Dunes",
          "Pacific Cleanup",
          "Other",
          "Struve Slough",
          "Mill Creek - Big Sur",
          "3697082, -12188786",
          "Westcliff Drive",
          "Sand Dollar Beach - Big Sur",
          "Salinas River At Sandholt Rd",
          "Rancho Moro Cojo Park",
          "West Beach Road Ditch Cleanup",
          "Bay View Elementary School",
          "Salinas River At Molera Road",
          "3693556, -12176723",
          "3659458, -12185013",
          "3661368, -12192439",
          "Pajaro Dunes Beach",
          "Upper Carr Lake, Salinas",
          "Bean Creek",
          "Salinas River Portrero Road",
          "3692203, -12176888",
          "Beach Flats Neighborhood",
          "Three-Mile State Beach",
          "369841, -12196154",
          "N08 Quadrant",
          "Downtown Santa Cruz",
          "Santa Cruz Wharf",
          "3698405, -12196159",
          "3659458, -12185009",
          "Pajaro Valley High School",
          "Watsonville High School",
          "369354, -12176707",
          "Heller Park",
          "3703656, -12202201",
          "Carmel Meadows/Ribera Beach",
          "EAHall Middle School",
          "3661387, -12192417",
          "Arroyo Seco",
          "Lakeview Campus",
          "3693604, -12174346",
          "369685, -12197296",
          "Andrew Molera State Park",
          "3693769, -12174271",
          "Campus Cleanup",
          "3659461, -12183997",
          "3693542, -12176694",
          "Santa Cruz Harbor",
          "Ano Nuevo State Beach",
          "3592611, -12037461",
          "SLR From Laurel St Bridge Towards Riverside Bridge",
          "3659458, -12185001",
          "36688612025127, -12181149818641",
          "Sdm Beach Flats",
          "SLR @ River Mouth - Leinbrandt",
          "SLR@ The Mat Laundry (Boulder Creek)",
          "3693537, -12176709",
          "3697048, -12204416",
          "Bradley Elementary",
          "Cave Near John'S",
          "3659462, -12185006",
          "EA Middle School Campus",
          "K Quadrants",
          "Gault Elementary School",
          "3696839, -121973",
          "Rodeo Creek",
          "3660012, -12193417",
          "3693647, -12174318",
          "3667801, -12161066",
          "Sdm Downtown Sc",
          "De La Veaga Park",
          "Point Lobos State Natural Reserve",
          "Downtown Montereys",
          "City Of Santa Cruz-Center & Beach St",
          "Harbor High Campus",
          "Sdm West Cliff",
          "Pebble Beach",
          "Pocket Beach",
          "3659461, -12185004",
          "3659463, -12185005",
          "3691017, -12174706",
          "3691706, -1218487",
          "3659456, -12185007",
          "3658674, -12186799",
          "3659456, -1218501",
          "3659449, -12185015",
          "De Laveaga Elementary School",
          "3697006, -12203877",
          "3693951, -12174165",
          "3690996, -12174697",
          "3661377, -12192423",
          "3668992, -12179212",
          "3659464, -12185005",
          "3675861, -12174762",
          "3659465, -12185003",
          "3659462, -12185011",
          "3643248, -12132069",
          "365785, -12172052",
          "365944, -12184317",
          "36586769104004, -1218784942627",
          "36592700958252, -12184306335449",
          "3659425, -12183985",
          "3659455, -12185008",
          "3659456, -12185004",
          "3659451, -12185016",
          "3659455, -12185004",
          "37070449829102, -12198534393311",
          "37062046051025, -12200630187988",
          "37047939300537, -12203140258789",
          "Big Sur Roving Cleanup",
          "Campus",
          "California State Beach At End Of Kelly",
          "Bradley Elementary School",
          "3659458, -12185002",
          "Watsonville Plaza",
          "City Of Santa Cruz-Laurel & Bay",
          "Valencia Elementary School Campus",
          "365199815, -1219388353",
          "36964340209961, -12203816223145",
          "36964336395264, -12203814697266",
          "36964168548584, -12203796386719",
          "3693997, -121741",
          "3693945, -12174175",
          "3693892, -12174209",
          "3697598, -12199806",
          "Monterey Hostel Cleanup",
          "3697349, -12200288",
          "3698277, -12197005",
          "36981407165527, -12201036834717",
          "372295083, -1221205902",
          "3696509, -12196174",
          "3696681, -12196282",
          "36969974517822, -12203875732422",
          "3697046, -12204418",
          "371243, -12204976",
          "3714847, -12212891",
          "37077921, -1220794613",
          "36964866638184, -12196340179443",
          "Alviso Marina",
          "3723216, -12209932",
          "Garra Pata State Beach",
          "Baylands, Palo Alto",
          "Half Moon Bay State Beach",
          "369871, -12195892",
          "36987216949463, -12193186950684",
          "36987224578857, -12193172454834",
          "3700711, -12202109",
          "36907543182373, -12177456665039",
          "36964527130127, -12203833770752",
          "3678381, -12187989",
          "3669003, -12179222",
          "3668134, -12162068",
          "3661367, -12192424",
          "366767374, -1217924971",
          "36925765449851, -1217751866063",
          "36600032806396, -12193447113037",
          "36601322174072, -12184586334229",
          "3660247, -12194593",
          "36927402496338, -12168284606934",
          "368225884, -1217765309",
          "3691475, -12179356",
          "36912663264848, -12175229918824",
          "36915027618408, -12179370117188",
          "36918753, -121743699",
          "3691988, -12176494",
          "3692163, -12175577",
          "3659464, -12185004",
          "3659462, -12185004",
          "365946, -12185018",
          "365946, -12185012",
          "Salinas River",
          "Salinas River @ Monte Rd",
          "3659459, -12185005",
          "3659474, -1218504",
          "365973885, -1218979244",
          "36596195220947, -12183684539795",
          "Soquel Elementary",
          "Sumner & Dolpin Beach",
          "364527343, -1216962434",
          "364796839, -1217324476",
          "3631416, -12124082",
          "36314129, -121240773"
         ],
         "lat": [
          36.962305,
          36.60201,
          36.964438,
          36.962677,
          36.971891,
          36.984475,
          36.960884,
          36.96787,
          36.6248,
          36.971921,
          36.957083,
          36.973195,
          null,
          36.978196,
          36.978196,
          36.949763,
          36.9596,
          36.611436,
          36.969741,
          36.992824,
          36.618691,
          36.618686,
          36.698341,
          36.868082,
          36.616076,
          37.048004,
          37.048004,
          36.961109,
          null,
          36.968169,
          36.954475,
          36.952211,
          36.988716,
          null,
          36.955772,
          36.810237,
          null,
          null,
          null,
          36.932315,
          36.960998,
          null,
          36.978719,
          null,
          36.897103,
          null,
          37.010897,
          null,
          null,
          36.885443328671926,
          36.775104,
          null,
          36.69066433255627,
          null,
          36.660205,
          null,
          37.000978,
          null,
          null,
          37.096936,
          36.609817,
          null,
          36.734808,
          null,
          36.91707497019236,
          36.53918,
          null,
          null,
          null,
          null,
          null,
          36.970173,
          null,
          null,
          37.080061,
          null,
          36.555114,
          null,
          36.949768,
          null,
          36.987194,
          null,
          37.039549,
          null,
          37.024969,
          null,
          null,
          null,
          36.522767,
          null,
          null,
          null,
          null,
          36.953012,
          null,
          null,
          36.836334,
          null,
          null,
          null,
          null,
          null,
          null,
          null,
          null,
          null,
          null,
          null,
          null,
          37.005665,
          null,
          null,
          null,
          null,
          null,
          null,
          null,
          null,
          null,
          null,
          null,
          null,
          null,
          null,
          null,
          null,
          null,
          null,
          null,
          null,
          null,
          null,
          null,
          null,
          null,
          null,
          null,
          null,
          null,
          null,
          null,
          null,
          null,
          null,
          36.966959,
          null,
          null,
          null,
          null,
          null,
          null,
          null,
          null,
          null,
          null,
          null,
          36.530625,
          null,
          null,
          null,
          null,
          null,
          null,
          null,
          null,
          null,
          null,
          null,
          null,
          37.11655,
          null,
          null,
          null,
          null,
          null,
          null,
          null,
          null,
          null,
          null,
          null,
          null,
          null,
          null,
          null,
          null,
          null,
          null,
          null,
          null,
          null,
          null,
          36.51047,
          null,
          null,
          null,
          null,
          null,
          null,
          null,
          null,
          null,
          null,
          null,
          null,
          null,
          null,
          null,
          null,
          null,
          null,
          null,
          null,
          null,
          null,
          null,
          null,
          null,
          null,
          null,
          null,
          null,
          null,
          null,
          null,
          null,
          null,
          null,
          null,
          null,
          null,
          null,
          null,
          null,
          null,
          null,
          null,
          null,
          null,
          null,
          null,
          null,
          null,
          null,
          null,
          null,
          null,
          null,
          null,
          null,
          null,
          null,
          null,
          null,
          null,
          null,
          null,
          null,
          null,
          null,
          null,
          null,
          null,
          null,
          null,
          null,
          null,
          null,
          null,
          null,
          null,
          null,
          null,
          null,
          null,
          null,
          null,
          null,
          null,
          null,
          null,
          null,
          null,
          null,
          null,
          null,
          null,
          null,
          null,
          null,
          null,
          null,
          null,
          null,
          null,
          null,
          null,
          null,
          null,
          null,
          null,
          null,
          null
         ],
         "legendgroup": "",
         "lon": [
          -122.023819,
          -121.88673,
          -122.008804,
          -122.000072,
          -121.913007,
          -122.027523,
          -121.989318,
          -121.90402,
          -121.916612,
          -121.950456,
          -121.978015,
          -122.023063,
          null,
          -122.02455,
          -122.02455,
          -122.056085,
          -121.98488,
          -121.857798,
          -122.022637,
          -122.168022,
          -121.850598,
          -121.940726,
          -121.808563,
          -121.818035,
          -121.899662,
          -122.068415,
          -122.068415,
          -121.887502,
          null,
          -122.018846,
          -121.883599,
          -122.028599,
          -122.028966,
          null,
          -121.971757,
          -121.788851,
          null,
          null,
          null,
          -121.860941,
          -121.993298,
          null,
          -121.938805,
          null,
          -121.83744,
          null,
          -122.195154,
          null,
          null,
          -121.78211202409427,
          -121.794414,
          null,
          -121.62564513649048,
          null,
          -121.821054,
          null,
          -122.18059,
          null,
          null,
          -122.279708,
          -121.895739,
          null,
          -121.793808,
          null,
          -121.7789256991053,
          -121.927783,
          null,
          null,
          null,
          null,
          null,
          -122.120231,
          null,
          null,
          -122.264715,
          null,
          -121.92969,
          null,
          -121.875685,
          null,
          -122.155298,
          null,
          -122.22808,
          null,
          -122.215595,
          null,
          null,
          null,
          -121.927121,
          null,
          null,
          null,
          null,
          -122.041471,
          null,
          null,
          -121.80149,
          null,
          null,
          null,
          null,
          null,
          null,
          null,
          null,
          null,
          null,
          null,
          null,
          -122.18551,
          null,
          null,
          null,
          null,
          null,
          null,
          null,
          null,
          null,
          null,
          null,
          null,
          null,
          null,
          null,
          null,
          null,
          null,
          null,
          null,
          null,
          null,
          null,
          null,
          null,
          null,
          null,
          null,
          null,
          null,
          null,
          null,
          null,
          null,
          -122.111374,
          null,
          null,
          null,
          null,
          null,
          null,
          null,
          null,
          null,
          null,
          null,
          -121.924332,
          null,
          null,
          null,
          null,
          null,
          null,
          null,
          null,
          null,
          null,
          null,
          null,
          -122.303806,
          null,
          null,
          null,
          null,
          null,
          null,
          null,
          null,
          null,
          null,
          null,
          null,
          null,
          null,
          null,
          null,
          null,
          null,
          null,
          null,
          null,
          null,
          -121.941397,
          null,
          null,
          null,
          null,
          null,
          null,
          null,
          null,
          null,
          null,
          null,
          null,
          null,
          null,
          null,
          null,
          null,
          null,
          null,
          null,
          null,
          null,
          null,
          null,
          null,
          null,
          null,
          null,
          null,
          null,
          null,
          null,
          null,
          null,
          null,
          null,
          null,
          null,
          null,
          null,
          null,
          null,
          null,
          null,
          null,
          null,
          null,
          null,
          null,
          null,
          null,
          null,
          null,
          null,
          null,
          null,
          null,
          null,
          null,
          null,
          null,
          null,
          null,
          null,
          null,
          null,
          null,
          null,
          null,
          null,
          null,
          null,
          null,
          null,
          null,
          null,
          null,
          null,
          null,
          null,
          null,
          null,
          null,
          null,
          null,
          null,
          null,
          null,
          null,
          null,
          null,
          null,
          null,
          null,
          null,
          null,
          null,
          null,
          null,
          null,
          null,
          null,
          null,
          null,
          null,
          null,
          null,
          null,
          null,
          null
         ],
         "marker": {
          "color": "fuchsia",
          "size": [
           88405,
           53254,
           22810,
           15935,
           15020,
           14329,
           13636,
           12119,
           12007,
           11619,
           9544,
           7664,
           7101,
           7065,
           7065,
           6304,
           5913,
           5838,
           5737,
           4795,
           4591,
           4274,
           4058,
           3803,
           3757,
           3661,
           3661,
           3623,
           3535,
           3342,
           3263,
           3238,
           3212,
           3145,
           3008,
           2894,
           2696,
           2574,
           2284,
           2205,
           2102,
           2005,
           1860,
           1782,
           1777,
           1676,
           1660,
           1595,
           1573,
           1504,
           1375,
           1336,
           1271,
           1175,
           1165,
           1140,
           1132,
           1120,
           1101,
           1050,
           1022,
           989,
           933,
           921,
           919,
           867,
           858,
           842,
           806,
           716,
           688,
           680,
           652,
           640,
           629,
           622,
           619,
           600,
           590,
           586,
           562,
           527,
           524,
           483,
           461,
           445,
           440,
           421,
           359,
           332,
           332,
           325,
           321,
           288,
           278,
           270,
           263,
           236,
           227,
           225,
           222,
           220,
           204,
           195,
           193,
           182,
           162,
           151,
           149,
           145,
           143,
           140,
           138,
           135,
           128,
           115,
           112,
           110,
           109,
           103,
           100,
           98,
           95,
           88,
           85,
           72,
           72,
           71,
           70,
           69,
           67,
           62,
           61,
           55,
           55,
           48,
           47,
           46,
           45,
           43,
           38,
           34,
           34,
           33,
           33,
           31,
           31,
           31,
           29,
           28,
           27,
           24,
           19,
           19,
           19,
           19,
           18,
           18,
           17,
           17,
           17,
           15,
           13,
           11,
           11,
           11,
           11,
           10,
           10,
           10,
           10,
           9,
           7,
           6,
           6,
           5,
           5,
           5,
           5,
           5,
           5,
           5,
           5,
           5,
           5,
           4,
           4,
           4,
           4,
           4,
           4,
           4,
           4,
           4,
           3,
           3,
           2,
           2,
           2,
           2,
           2,
           2,
           2,
           2,
           1,
           1,
           1,
           1,
           1,
           1,
           1,
           1,
           1,
           1,
           1,
           1,
           1,
           1,
           0,
           0,
           0,
           0,
           0,
           0,
           0,
           0,
           0,
           0,
           0,
           0,
           0,
           0,
           0,
           0,
           0,
           0,
           0,
           0,
           0,
           0,
           0,
           0,
           0,
           0,
           0,
           0,
           0,
           0,
           0,
           0,
           0,
           0,
           0,
           0,
           0,
           0,
           0,
           0,
           0,
           0,
           0,
           0,
           0,
           0,
           0,
           0,
           0,
           0,
           0,
           0,
           0,
           0,
           0,
           0,
           0,
           0,
           0,
           0,
           0,
           0,
           0,
           0,
           0,
           0,
           0,
           0,
           0,
           0,
           0,
           0,
           0,
           0,
           0,
           0,
           0,
           0,
           0,
           0,
           0,
           0,
           0,
           0,
           0
          ],
          "sizemode": "area",
          "sizeref": 221.0125
         },
         "mode": "markers",
         "name": "",
         "showlegend": false,
         "subplot": "mapbox",
         "type": "scattermapbox"
        }
       ],
       "layout": {
        "autosize": false,
        "height": 1000,
        "legend": {
         "itemsizing": "constant",
         "tracegroupgap": 0
        },
        "mapbox": {
         "bounds": {
          "east": -121.52564513649048,
          "north": 37.126549999999995,
          "south": 36.50047,
          "west": -122.40380599999999
         },
         "center": {
          "lat": 36.87602112113366,
          "lon": -121.97704296602683
         },
         "domain": {
          "x": [
           0,
           1
          ],
          "y": [
           0,
           1
          ]
         },
         "style": "carto-positron",
         "zoom": 8.4
        },
        "margin": {
         "b": 0.1,
         "l": 0.1,
         "r": 0.1,
         "t": 0.1
        },
        "template": {
         "data": {
          "bar": [
           {
            "error_x": {
             "color": "#2a3f5f"
            },
            "error_y": {
             "color": "#2a3f5f"
            },
            "marker": {
             "line": {
              "color": "#E5ECF6",
              "width": 0.5
             },
             "pattern": {
              "fillmode": "overlay",
              "size": 10,
              "solidity": 0.2
             }
            },
            "type": "bar"
           }
          ],
          "barpolar": [
           {
            "marker": {
             "line": {
              "color": "#E5ECF6",
              "width": 0.5
             },
             "pattern": {
              "fillmode": "overlay",
              "size": 10,
              "solidity": 0.2
             }
            },
            "type": "barpolar"
           }
          ],
          "carpet": [
           {
            "aaxis": {
             "endlinecolor": "#2a3f5f",
             "gridcolor": "white",
             "linecolor": "white",
             "minorgridcolor": "white",
             "startlinecolor": "#2a3f5f"
            },
            "baxis": {
             "endlinecolor": "#2a3f5f",
             "gridcolor": "white",
             "linecolor": "white",
             "minorgridcolor": "white",
             "startlinecolor": "#2a3f5f"
            },
            "type": "carpet"
           }
          ],
          "choropleth": [
           {
            "colorbar": {
             "outlinewidth": 0,
             "ticks": ""
            },
            "type": "choropleth"
           }
          ],
          "contour": [
           {
            "colorbar": {
             "outlinewidth": 0,
             "ticks": ""
            },
            "colorscale": [
             [
              0,
              "#0d0887"
             ],
             [
              0.1111111111111111,
              "#46039f"
             ],
             [
              0.2222222222222222,
              "#7201a8"
             ],
             [
              0.3333333333333333,
              "#9c179e"
             ],
             [
              0.4444444444444444,
              "#bd3786"
             ],
             [
              0.5555555555555556,
              "#d8576b"
             ],
             [
              0.6666666666666666,
              "#ed7953"
             ],
             [
              0.7777777777777778,
              "#fb9f3a"
             ],
             [
              0.8888888888888888,
              "#fdca26"
             ],
             [
              1,
              "#f0f921"
             ]
            ],
            "type": "contour"
           }
          ],
          "contourcarpet": [
           {
            "colorbar": {
             "outlinewidth": 0,
             "ticks": ""
            },
            "type": "contourcarpet"
           }
          ],
          "heatmap": [
           {
            "colorbar": {
             "outlinewidth": 0,
             "ticks": ""
            },
            "colorscale": [
             [
              0,
              "#0d0887"
             ],
             [
              0.1111111111111111,
              "#46039f"
             ],
             [
              0.2222222222222222,
              "#7201a8"
             ],
             [
              0.3333333333333333,
              "#9c179e"
             ],
             [
              0.4444444444444444,
              "#bd3786"
             ],
             [
              0.5555555555555556,
              "#d8576b"
             ],
             [
              0.6666666666666666,
              "#ed7953"
             ],
             [
              0.7777777777777778,
              "#fb9f3a"
             ],
             [
              0.8888888888888888,
              "#fdca26"
             ],
             [
              1,
              "#f0f921"
             ]
            ],
            "type": "heatmap"
           }
          ],
          "heatmapgl": [
           {
            "colorbar": {
             "outlinewidth": 0,
             "ticks": ""
            },
            "colorscale": [
             [
              0,
              "#0d0887"
             ],
             [
              0.1111111111111111,
              "#46039f"
             ],
             [
              0.2222222222222222,
              "#7201a8"
             ],
             [
              0.3333333333333333,
              "#9c179e"
             ],
             [
              0.4444444444444444,
              "#bd3786"
             ],
             [
              0.5555555555555556,
              "#d8576b"
             ],
             [
              0.6666666666666666,
              "#ed7953"
             ],
             [
              0.7777777777777778,
              "#fb9f3a"
             ],
             [
              0.8888888888888888,
              "#fdca26"
             ],
             [
              1,
              "#f0f921"
             ]
            ],
            "type": "heatmapgl"
           }
          ],
          "histogram": [
           {
            "marker": {
             "pattern": {
              "fillmode": "overlay",
              "size": 10,
              "solidity": 0.2
             }
            },
            "type": "histogram"
           }
          ],
          "histogram2d": [
           {
            "colorbar": {
             "outlinewidth": 0,
             "ticks": ""
            },
            "colorscale": [
             [
              0,
              "#0d0887"
             ],
             [
              0.1111111111111111,
              "#46039f"
             ],
             [
              0.2222222222222222,
              "#7201a8"
             ],
             [
              0.3333333333333333,
              "#9c179e"
             ],
             [
              0.4444444444444444,
              "#bd3786"
             ],
             [
              0.5555555555555556,
              "#d8576b"
             ],
             [
              0.6666666666666666,
              "#ed7953"
             ],
             [
              0.7777777777777778,
              "#fb9f3a"
             ],
             [
              0.8888888888888888,
              "#fdca26"
             ],
             [
              1,
              "#f0f921"
             ]
            ],
            "type": "histogram2d"
           }
          ],
          "histogram2dcontour": [
           {
            "colorbar": {
             "outlinewidth": 0,
             "ticks": ""
            },
            "colorscale": [
             [
              0,
              "#0d0887"
             ],
             [
              0.1111111111111111,
              "#46039f"
             ],
             [
              0.2222222222222222,
              "#7201a8"
             ],
             [
              0.3333333333333333,
              "#9c179e"
             ],
             [
              0.4444444444444444,
              "#bd3786"
             ],
             [
              0.5555555555555556,
              "#d8576b"
             ],
             [
              0.6666666666666666,
              "#ed7953"
             ],
             [
              0.7777777777777778,
              "#fb9f3a"
             ],
             [
              0.8888888888888888,
              "#fdca26"
             ],
             [
              1,
              "#f0f921"
             ]
            ],
            "type": "histogram2dcontour"
           }
          ],
          "mesh3d": [
           {
            "colorbar": {
             "outlinewidth": 0,
             "ticks": ""
            },
            "type": "mesh3d"
           }
          ],
          "parcoords": [
           {
            "line": {
             "colorbar": {
              "outlinewidth": 0,
              "ticks": ""
             }
            },
            "type": "parcoords"
           }
          ],
          "pie": [
           {
            "automargin": true,
            "type": "pie"
           }
          ],
          "scatter": [
           {
            "fillpattern": {
             "fillmode": "overlay",
             "size": 10,
             "solidity": 0.2
            },
            "type": "scatter"
           }
          ],
          "scatter3d": [
           {
            "line": {
             "colorbar": {
              "outlinewidth": 0,
              "ticks": ""
             }
            },
            "marker": {
             "colorbar": {
              "outlinewidth": 0,
              "ticks": ""
             }
            },
            "type": "scatter3d"
           }
          ],
          "scattercarpet": [
           {
            "marker": {
             "colorbar": {
              "outlinewidth": 0,
              "ticks": ""
             }
            },
            "type": "scattercarpet"
           }
          ],
          "scattergeo": [
           {
            "marker": {
             "colorbar": {
              "outlinewidth": 0,
              "ticks": ""
             }
            },
            "type": "scattergeo"
           }
          ],
          "scattergl": [
           {
            "marker": {
             "colorbar": {
              "outlinewidth": 0,
              "ticks": ""
             }
            },
            "type": "scattergl"
           }
          ],
          "scattermapbox": [
           {
            "marker": {
             "colorbar": {
              "outlinewidth": 0,
              "ticks": ""
             }
            },
            "type": "scattermapbox"
           }
          ],
          "scatterpolar": [
           {
            "marker": {
             "colorbar": {
              "outlinewidth": 0,
              "ticks": ""
             }
            },
            "type": "scatterpolar"
           }
          ],
          "scatterpolargl": [
           {
            "marker": {
             "colorbar": {
              "outlinewidth": 0,
              "ticks": ""
             }
            },
            "type": "scatterpolargl"
           }
          ],
          "scatterternary": [
           {
            "marker": {
             "colorbar": {
              "outlinewidth": 0,
              "ticks": ""
             }
            },
            "type": "scatterternary"
           }
          ],
          "surface": [
           {
            "colorbar": {
             "outlinewidth": 0,
             "ticks": ""
            },
            "colorscale": [
             [
              0,
              "#0d0887"
             ],
             [
              0.1111111111111111,
              "#46039f"
             ],
             [
              0.2222222222222222,
              "#7201a8"
             ],
             [
              0.3333333333333333,
              "#9c179e"
             ],
             [
              0.4444444444444444,
              "#bd3786"
             ],
             [
              0.5555555555555556,
              "#d8576b"
             ],
             [
              0.6666666666666666,
              "#ed7953"
             ],
             [
              0.7777777777777778,
              "#fb9f3a"
             ],
             [
              0.8888888888888888,
              "#fdca26"
             ],
             [
              1,
              "#f0f921"
             ]
            ],
            "type": "surface"
           }
          ],
          "table": [
           {
            "cells": {
             "fill": {
              "color": "#EBF0F8"
             },
             "line": {
              "color": "white"
             }
            },
            "header": {
             "fill": {
              "color": "#C8D4E3"
             },
             "line": {
              "color": "white"
             }
            },
            "type": "table"
           }
          ]
         },
         "layout": {
          "annotationdefaults": {
           "arrowcolor": "#2a3f5f",
           "arrowhead": 0,
           "arrowwidth": 1
          },
          "autotypenumbers": "strict",
          "coloraxis": {
           "colorbar": {
            "outlinewidth": 0,
            "ticks": ""
           }
          },
          "colorscale": {
           "diverging": [
            [
             0,
             "#8e0152"
            ],
            [
             0.1,
             "#c51b7d"
            ],
            [
             0.2,
             "#de77ae"
            ],
            [
             0.3,
             "#f1b6da"
            ],
            [
             0.4,
             "#fde0ef"
            ],
            [
             0.5,
             "#f7f7f7"
            ],
            [
             0.6,
             "#e6f5d0"
            ],
            [
             0.7,
             "#b8e186"
            ],
            [
             0.8,
             "#7fbc41"
            ],
            [
             0.9,
             "#4d9221"
            ],
            [
             1,
             "#276419"
            ]
           ],
           "sequential": [
            [
             0,
             "#0d0887"
            ],
            [
             0.1111111111111111,
             "#46039f"
            ],
            [
             0.2222222222222222,
             "#7201a8"
            ],
            [
             0.3333333333333333,
             "#9c179e"
            ],
            [
             0.4444444444444444,
             "#bd3786"
            ],
            [
             0.5555555555555556,
             "#d8576b"
            ],
            [
             0.6666666666666666,
             "#ed7953"
            ],
            [
             0.7777777777777778,
             "#fb9f3a"
            ],
            [
             0.8888888888888888,
             "#fdca26"
            ],
            [
             1,
             "#f0f921"
            ]
           ],
           "sequentialminus": [
            [
             0,
             "#0d0887"
            ],
            [
             0.1111111111111111,
             "#46039f"
            ],
            [
             0.2222222222222222,
             "#7201a8"
            ],
            [
             0.3333333333333333,
             "#9c179e"
            ],
            [
             0.4444444444444444,
             "#bd3786"
            ],
            [
             0.5555555555555556,
             "#d8576b"
            ],
            [
             0.6666666666666666,
             "#ed7953"
            ],
            [
             0.7777777777777778,
             "#fb9f3a"
            ],
            [
             0.8888888888888888,
             "#fdca26"
            ],
            [
             1,
             "#f0f921"
            ]
           ]
          },
          "colorway": [
           "#636efa",
           "#EF553B",
           "#00cc96",
           "#ab63fa",
           "#FFA15A",
           "#19d3f3",
           "#FF6692",
           "#B6E880",
           "#FF97FF",
           "#FECB52"
          ],
          "font": {
           "color": "#2a3f5f"
          },
          "geo": {
           "bgcolor": "white",
           "lakecolor": "white",
           "landcolor": "#E5ECF6",
           "showlakes": true,
           "showland": true,
           "subunitcolor": "white"
          },
          "hoverlabel": {
           "align": "left"
          },
          "hovermode": "closest",
          "mapbox": {
           "style": "light"
          },
          "paper_bgcolor": "white",
          "plot_bgcolor": "#E5ECF6",
          "polar": {
           "angularaxis": {
            "gridcolor": "white",
            "linecolor": "white",
            "ticks": ""
           },
           "bgcolor": "#E5ECF6",
           "radialaxis": {
            "gridcolor": "white",
            "linecolor": "white",
            "ticks": ""
           }
          },
          "scene": {
           "xaxis": {
            "backgroundcolor": "#E5ECF6",
            "gridcolor": "white",
            "gridwidth": 2,
            "linecolor": "white",
            "showbackground": true,
            "ticks": "",
            "zerolinecolor": "white"
           },
           "yaxis": {
            "backgroundcolor": "#E5ECF6",
            "gridcolor": "white",
            "gridwidth": 2,
            "linecolor": "white",
            "showbackground": true,
            "ticks": "",
            "zerolinecolor": "white"
           },
           "zaxis": {
            "backgroundcolor": "#E5ECF6",
            "gridcolor": "white",
            "gridwidth": 2,
            "linecolor": "white",
            "showbackground": true,
            "ticks": "",
            "zerolinecolor": "white"
           }
          },
          "shapedefaults": {
           "line": {
            "color": "#2a3f5f"
           }
          },
          "ternary": {
           "aaxis": {
            "gridcolor": "white",
            "linecolor": "white",
            "ticks": ""
           },
           "baxis": {
            "gridcolor": "white",
            "linecolor": "white",
            "ticks": ""
           },
           "bgcolor": "#E5ECF6",
           "caxis": {
            "gridcolor": "white",
            "linecolor": "white",
            "ticks": ""
           }
          },
          "title": {
           "x": 0.05
          },
          "xaxis": {
           "automargin": true,
           "gridcolor": "white",
           "linecolor": "white",
           "ticks": "",
           "title": {
            "standoff": 15
           },
           "zerolinecolor": "white",
           "zerolinewidth": 2
          },
          "yaxis": {
           "automargin": true,
           "gridcolor": "white",
           "linecolor": "white",
           "ticks": "",
           "title": {
            "standoff": 15
           },
           "zerolinecolor": "white",
           "zerolinewidth": 2
          }
         }
        },
        "width": 1000
       }
      },
      "text/html": [
       "<div>                            <div id=\"f6154afd-eae4-4f62-bf7b-a22e966a7ea9\" class=\"plotly-graph-div\" style=\"height:1000px; width:1000px;\"></div>            <script type=\"text/javascript\">                require([\"plotly\"], function(Plotly) {                    window.PLOTLYENV=window.PLOTLYENV || {};                                    if (document.getElementById(\"f6154afd-eae4-4f62-bf7b-a22e966a7ea9\")) {                    Plotly.newPlot(                        \"f6154afd-eae4-4f62-bf7b-a22e966a7ea9\",                        [{\"customdata\":[[\"Cowell\\u002fMain Beach\",88405.0],[\"Del Monte Beach\",53254.0],[\"Seabright State Beach\",22810.0],[\"Twin Lakes State Beach\",15935.0],[\"Seacliff State Beach\",15020.0],[\"SLR @ Felker\",14329.0],[\"Sunny Cove Beach\",13636.0],[\"Rio Del Mar State Beach\",12119.0],[\"Lovers Point Beach\",12007.0],[\"Capitola Beach\",11619.0],[\"Moran Lake Beach\",9544.0],[\"SLR @ Soquel\",7664.0],[\"SLR\",7101.0],[\"SLR @ Water\",7065.0],[\"SLR @ Water\",7065.0],[\"Natural Bridges State Beach\",6304.0],[\"Corcoran Lagoon\",5913.0],[\"Monterey State Beach\",5838.0],[\"SLR @ Laurel\",5737.0],[\"Panther State Beach\",4795.0],[\"Sand City Beach\",4591.0],[\"Asilomar State Beach\",4274.0],[\"Marina State Beach\",4058.0],[\"Palm Beach State Park\",3803.0],[\"Mcabee State Beach\",3757.0],[\"SLR @ Felton\",3661.0],[\"SLR @ Felton\",3661.0],[\"Hidden Beach\",3623.0],[\"Felton Covered Bridge\",3535.0],[\"SLR @ Riverside\",3342.0],[\"Beer Can Beach\",3263.0],[\"Lighthouse Field State Beach\",3238.0],[\"SLR @ The Tannery Arts Center\",3212.0],[\"SLR @ Fillmore\",3145.0],[\"Pleasure Point Beaches\",3008.0],[\"Moss Landing State Beach\",2894.0],[\"SLR @ Ben Lomond\",2696.0],[\"Carmel City Beach\",2574.0],[\"Leona Creek\",2284.0],[\"Manresa State Beach\",2205.0],[\"Blacks Beach\",2102.0],[\"SLR @ Mimi De Marta Park\",2005.0],[\"New Brighton State Beach\",1860.0],[\"Watsonville Slough\",1782.0],[\"Sunset State Beach\",1777.0],[\"Lompico Creek\",1676.0],[\"Davenport Main Beach\",1660.0],[\"SLR @ San Lorenzo Benchlands Park\",1595.0],[\"SLR @ Slv Recycling Center\",1573.0],[\"Pajaro River\",1504.0],[\"Salinas River State Beach\",1375.0],[\"Watsonville City Plaza\",1336.0],[\"Upper Carr Lake\",1271.0],[\"Main And Beach Gutters\",1175.0],[\"Fort Ord Dunes State Beach\",1165.0],[\"Casa Verde Beach\",1140.0],[\"Bonny Doon State Beach\",1132.0],[\"Work Memorial Park\",1120.0],[\"Garrapata State Beach\",1101.0],[\"Waddell State Beach\",1050.0],[\"San Carlos Beach\",1022.0],[\"Soquel Creek\",989.0],[\"Salinas River National Wildlife Refuge\",933.0],[\"Aptos Creek\",921.0],[\"West Struve Slough\",919.0],[\"Carmel River State Beach\",867.0],[\"Harkins Slough\",858.0],[\"Elkhorn Slough\",842.0],[\"Davenport\",806.0],[\"Fisherman's Wharf\",716.0],[\"Woodrow State Beach\",688.0],[\"Four-Mile State Beach\",680.0],[\"Big Sur: Willow Creek, Mill Creek, Jade Cove, Sand Dollar Beach\",652.0],[\"Natividad Creek Park\",640.0],[\"Greyhound Rock Beach\",629.0],[\"Monterey Bay Photo St.\",622.0],[\"Carmel Beach\",619.0],[\"Macabee State Beach\",600.0],[\"Seascape Beach\",590.0],[\"Boulder Creek Recycling Center\",586.0],[\"Laguna Creek Beach\",562.0],[\"Los Gatos Creek\",527.0],[\"Scott Creek Beach\",524.0],[\"Nan\",483.0],[\"Davenport Landing Beach\",461.0],[\"Casa Verde\",445.0],[\"Monterey Peninsula Campus\",440.0],[\"Bay View Campus\",421.0],[\"Monastery Beach\",359.0],[\"Shark Tooth Beach\",332.0],[\"SLR Riveside - Mouth\",332.0],[\"Struve Slough @ Ramsey Park\",325.0],[\"Loch Lomond\",321.0],[\"Mitchell's Cove Beach\",288.0],[\"Wetlands Near Pajaro Valley High School\",278.0],[\"Sky Park\",270.0],[\"Zmudowski State Beach\",263.0],[\"Boulder Creek\",236.0],[\"Rail Trail\",227.0],[\"San Lorenzo Valley High School\",225.0],[\"Pillar Point Harbor Beach\",222.0],[\"Ramsay Park\",220.0],[\"3712555, -12211976\",204.0],[\"SLR @ 3Rdnue - Rivermouth\",195.0],[\"Nature Center Ramsey Park\",193.0],[\"3696461, -12203826\",182.0],[\"Ocean Beach\",162.0],[\"Carbonera Creek\",151.0],[\"?\",149.0],[\"Shark Fin Cove\",145.0],[\"Dog Beach\",143.0],[\"3667816, -12161074\",140.0],[\"Bayland'S Park\\u002f Reserve Palo Alto\",138.0],[\"Coyote Creek\",135.0],[\"Willow Creek - Big Sur\",128.0],[\"SLR @ The Mouth\",115.0],[\"Carmel State Beach\",112.0],[\"Ben Lomond\",110.0],[\"36926242549172, -12177562752837\",109.0],[\"West Lake\",103.0],[\"Heritage Harbor Beach\",100.0],[\"Westside Railroad Cleanup\",98.0],[\"Navy Dunes\",95.0],[\"Pacific Cleanup\",88.0],[\"Other\",85.0],[\"Struve Slough\",72.0],[\"Mill Creek - Big Sur\",72.0],[\"3697082, -12188786\",71.0],[\"Westcliff Drive\",70.0],[\"Sand Dollar Beach - Big Sur\",69.0],[\"Salinas River At Sandholt Rd\",67.0],[\"Rancho Moro Cojo Park\",62.0],[\"West Beach Road Ditch Cleanup\",61.0],[\"Bay View Elementary School\",55.0],[\"Salinas River At Molera Road\",55.0],[\"3693556, -12176723\",48.0],[\"3659458, -12185013\",47.0],[\"3661368, -12192439\",46.0],[\"Pajaro Dunes Beach\",45.0],[\"Upper Carr Lake, Salinas\",43.0],[\"Bean Creek\",38.0],[\"Salinas River Portrero Road\",34.0],[\"3692203, -12176888\",34.0],[\"Beach Flats Neighborhood\",33.0],[\"Three-Mile State Beach\",33.0],[\"369841, -12196154\",31.0],[\"N08 Quadrant\",31.0],[\"Downtown Santa Cruz\",31.0],[\"Santa Cruz Wharf\",29.0],[\"3698405, -12196159\",28.0],[\"3659458, -12185009\",27.0],[\"Pajaro Valley High School\",24.0],[\"Watsonville High School\",19.0],[\"369354, -12176707\",19.0],[\"Heller Park\",19.0],[\"3703656, -12202201\",19.0],[\"Carmel Meadows\\u002fRibera Beach\",18.0],[\"EAHall Middle School\",18.0],[\"3661387, -12192417\",17.0],[\"Arroyo Seco\",17.0],[\"Lakeview Campus\",17.0],[\"3693604, -12174346\",15.0],[\"369685, -12197296\",13.0],[\"Andrew Molera State Park\",11.0],[\"3693769, -12174271\",11.0],[\"Campus Cleanup\",11.0],[\"3659461, -12183997\",11.0],[\"3693542, -12176694\",10.0],[\"Santa Cruz Harbor\",10.0],[\"Ano Nuevo State Beach\",10.0],[\"3592611, -12037461\",10.0],[\"SLR From Laurel St Bridge Towards Riverside Bridge\",9.0],[\"3659458, -12185001\",7.0],[\"36688612025127, -12181149818641\",6.0],[\"Sdm Beach Flats\",6.0],[\"SLR @ River Mouth - Leinbrandt\",5.0],[\"SLR@ The Mat Laundry (Boulder Creek)\",5.0],[\"3693537, -12176709\",5.0],[\"3697048, -12204416\",5.0],[\"Bradley Elementary\",5.0],[\"Cave Near John'S\",5.0],[\"3659462, -12185006\",5.0],[\"EA Middle School Campus\",5.0],[\"K Quadrants\",5.0],[\"Gault Elementary School\",5.0],[\"3696839, -121973\",4.0],[\"Rodeo Creek\",4.0],[\"3660012, -12193417\",4.0],[\"3693647, -12174318\",4.0],[\"3667801, -12161066\",4.0],[\"Sdm Downtown Sc\",4.0],[\"De La Veaga Park\",4.0],[\"Point Lobos State Natural Reserve\",4.0],[\"Downtown Montereys\",4.0],[\"City Of Santa Cruz-Center & Beach St\",3.0],[\"Harbor High Campus\",3.0],[\"Sdm West Cliff\",2.0],[\"Pebble Beach\",2.0],[\"Pocket Beach\",2.0],[\"3659461, -12185004\",2.0],[\"3659463, -12185005\",2.0],[\"3691017, -12174706\",2.0],[\"3691706, -1218487\",2.0],[\"3659456, -12185007\",2.0],[\"3658674, -12186799\",1.0],[\"3659456, -1218501\",1.0],[\"3659449, -12185015\",1.0],[\"De Laveaga Elementary School\",1.0],[\"3697006, -12203877\",1.0],[\"3693951, -12174165\",1.0],[\"3690996, -12174697\",1.0],[\"3661377, -12192423\",1.0],[\"3668992, -12179212\",1.0],[\"3659464, -12185005\",1.0],[\"3675861, -12174762\",1.0],[\"3659465, -12185003\",1.0],[\"3659462, -12185011\",1.0],[\"3643248, -12132069\",1.0],[\"365785, -12172052\",0.0],[\"365944, -12184317\",0.0],[\"36586769104004, -1218784942627\",0.0],[\"36592700958252, -12184306335449\",0.0],[\"3659425, -12183985\",0.0],[\"3659455, -12185008\",0.0],[\"3659456, -12185004\",0.0],[\"3659451, -12185016\",0.0],[\"3659455, -12185004\",0.0],[\"37070449829102, -12198534393311\",0.0],[\"37062046051025, -12200630187988\",0.0],[\"37047939300537, -12203140258789\",0.0],[\"Big Sur Roving Cleanup\",0.0],[\"Campus\",0.0],[\"California State Beach At End Of Kelly\",0.0],[\"Bradley Elementary School\",0.0],[\"3659458, -12185002\",0.0],[\"Watsonville Plaza\",0.0],[\"City Of Santa Cruz-Laurel & Bay\",0.0],[\"Valencia Elementary School Campus\",0.0],[\"365199815, -1219388353\",0.0],[\"36964340209961, -12203816223145\",0.0],[\"36964336395264, -12203814697266\",0.0],[\"36964168548584, -12203796386719\",0.0],[\"3693997, -121741\",0.0],[\"3693945, -12174175\",0.0],[\"3693892, -12174209\",0.0],[\"3697598, -12199806\",0.0],[\"Monterey Hostel Cleanup\",0.0],[\"3697349, -12200288\",0.0],[\"3698277, -12197005\",0.0],[\"36981407165527, -12201036834717\",0.0],[\"372295083, -1221205902\",0.0],[\"3696509, -12196174\",0.0],[\"3696681, -12196282\",0.0],[\"36969974517822, -12203875732422\",0.0],[\"3697046, -12204418\",0.0],[\"371243, -12204976\",0.0],[\"3714847, -12212891\",0.0],[\"37077921, -1220794613\",0.0],[\"36964866638184, -12196340179443\",0.0],[\"Alviso Marina\",0.0],[\"3723216, -12209932\",0.0],[\"Garra Pata State Beach\",0.0],[\"Baylands, Palo Alto\",0.0],[\"Half Moon Bay State Beach\",0.0],[\"369871, -12195892\",0.0],[\"36987216949463, -12193186950684\",0.0],[\"36987224578857, -12193172454834\",0.0],[\"3700711, -12202109\",0.0],[\"36907543182373, -12177456665039\",0.0],[\"36964527130127, -12203833770752\",0.0],[\"3678381, -12187989\",0.0],[\"3669003, -12179222\",0.0],[\"3668134, -12162068\",0.0],[\"3661367, -12192424\",0.0],[\"366767374, -1217924971\",0.0],[\"36925765449851, -1217751866063\",0.0],[\"36600032806396, -12193447113037\",0.0],[\"36601322174072, -12184586334229\",0.0],[\"3660247, -12194593\",0.0],[\"36927402496338, -12168284606934\",0.0],[\"368225884, -1217765309\",0.0],[\"3691475, -12179356\",0.0],[\"36912663264848, -12175229918824\",0.0],[\"36915027618408, -12179370117188\",0.0],[\"36918753, -121743699\",0.0],[\"3691988, -12176494\",0.0],[\"3692163, -12175577\",0.0],[\"3659464, -12185004\",0.0],[\"3659462, -12185004\",0.0],[\"365946, -12185018\",0.0],[\"365946, -12185012\",0.0],[\"Salinas River\",0.0],[\"Salinas River @ Monte Rd\",0.0],[\"3659459, -12185005\",0.0],[\"3659474, -1218504\",0.0],[\"365973885, -1218979244\",0.0],[\"36596195220947, -12183684539795\",0.0],[\"Soquel Elementary\",0.0],[\"Sumner & Dolpin Beach\",0.0],[\"364527343, -1216962434\",0.0],[\"364796839, -1217324476\",0.0],[\"3631416, -12124082\",0.0],[\"36314129, -121240773\",0.0]],\"hovertemplate\":\"\\u003cb\\u003e%{hovertext}\\u003c\\u002fb\\u003e\\u003cbr\\u003e\\u003cbr\\u003eCigarette Butts=%{customdata[1]}\\u003cbr\\u003eLatitude=%{lat}\\u003cbr\\u003eLongitude=%{lon}\\u003cbr\\u003eCleanup Site=%{customdata[0]}\\u003cextra\\u003e\\u003c\\u002fextra\\u003e\",\"hovertext\":[\"Cowell\\u002fMain Beach\",\"Del Monte Beach\",\"Seabright State Beach\",\"Twin Lakes State Beach\",\"Seacliff State Beach\",\"SLR @ Felker\",\"Sunny Cove Beach\",\"Rio Del Mar State Beach\",\"Lovers Point Beach\",\"Capitola Beach\",\"Moran Lake Beach\",\"SLR @ Soquel\",\"SLR\",\"SLR @ Water\",\"SLR @ Water\",\"Natural Bridges State Beach\",\"Corcoran Lagoon\",\"Monterey State Beach\",\"SLR @ Laurel\",\"Panther State Beach\",\"Sand City Beach\",\"Asilomar State Beach\",\"Marina State Beach\",\"Palm Beach State Park\",\"Mcabee State Beach\",\"SLR @ Felton\",\"SLR @ Felton\",\"Hidden Beach\",\"Felton Covered Bridge\",\"SLR @ Riverside\",\"Beer Can Beach\",\"Lighthouse Field State Beach\",\"SLR @ The Tannery Arts Center\",\"SLR @ Fillmore\",\"Pleasure Point Beaches\",\"Moss Landing State Beach\",\"SLR @ Ben Lomond\",\"Carmel City Beach\",\"Leona Creek\",\"Manresa State Beach\",\"Blacks Beach\",\"SLR @ Mimi De Marta Park\",\"New Brighton State Beach\",\"Watsonville Slough\",\"Sunset State Beach\",\"Lompico Creek\",\"Davenport Main Beach\",\"SLR @ San Lorenzo Benchlands Park\",\"SLR @ Slv Recycling Center\",\"Pajaro River\",\"Salinas River State Beach\",\"Watsonville City Plaza\",\"Upper Carr Lake\",\"Main And Beach Gutters\",\"Fort Ord Dunes State Beach\",\"Casa Verde Beach\",\"Bonny Doon State Beach\",\"Work Memorial Park\",\"Garrapata State Beach\",\"Waddell State Beach\",\"San Carlos Beach\",\"Soquel Creek\",\"Salinas River National Wildlife Refuge\",\"Aptos Creek\",\"West Struve Slough\",\"Carmel River State Beach\",\"Harkins Slough\",\"Elkhorn Slough\",\"Davenport\",\"Fisherman's Wharf\",\"Woodrow State Beach\",\"Four-Mile State Beach\",\"Big Sur: Willow Creek, Mill Creek, Jade Cove, Sand Dollar Beach\",\"Natividad Creek Park\",\"Greyhound Rock Beach\",\"Monterey Bay Photo St.\",\"Carmel Beach\",\"Macabee State Beach\",\"Seascape Beach\",\"Boulder Creek Recycling Center\",\"Laguna Creek Beach\",\"Los Gatos Creek\",\"Scott Creek Beach\",\"Nan\",\"Davenport Landing Beach\",\"Casa Verde\",\"Monterey Peninsula Campus\",\"Bay View Campus\",\"Monastery Beach\",\"Shark Tooth Beach\",\"SLR Riveside - Mouth\",\"Struve Slough @ Ramsey Park\",\"Loch Lomond\",\"Mitchell's Cove Beach\",\"Wetlands Near Pajaro Valley High School\",\"Sky Park\",\"Zmudowski State Beach\",\"Boulder Creek\",\"Rail Trail\",\"San Lorenzo Valley High School\",\"Pillar Point Harbor Beach\",\"Ramsay Park\",\"3712555, -12211976\",\"SLR @ 3Rdnue - Rivermouth\",\"Nature Center Ramsey Park\",\"3696461, -12203826\",\"Ocean Beach\",\"Carbonera Creek\",\"?\",\"Shark Fin Cove\",\"Dog Beach\",\"3667816, -12161074\",\"Bayland'S Park\\u002f Reserve Palo Alto\",\"Coyote Creek\",\"Willow Creek - Big Sur\",\"SLR @ The Mouth\",\"Carmel State Beach\",\"Ben Lomond\",\"36926242549172, -12177562752837\",\"West Lake\",\"Heritage Harbor Beach\",\"Westside Railroad Cleanup\",\"Navy Dunes\",\"Pacific Cleanup\",\"Other\",\"Struve Slough\",\"Mill Creek - Big Sur\",\"3697082, -12188786\",\"Westcliff Drive\",\"Sand Dollar Beach - Big Sur\",\"Salinas River At Sandholt Rd\",\"Rancho Moro Cojo Park\",\"West Beach Road Ditch Cleanup\",\"Bay View Elementary School\",\"Salinas River At Molera Road\",\"3693556, -12176723\",\"3659458, -12185013\",\"3661368, -12192439\",\"Pajaro Dunes Beach\",\"Upper Carr Lake, Salinas\",\"Bean Creek\",\"Salinas River Portrero Road\",\"3692203, -12176888\",\"Beach Flats Neighborhood\",\"Three-Mile State Beach\",\"369841, -12196154\",\"N08 Quadrant\",\"Downtown Santa Cruz\",\"Santa Cruz Wharf\",\"3698405, -12196159\",\"3659458, -12185009\",\"Pajaro Valley High School\",\"Watsonville High School\",\"369354, -12176707\",\"Heller Park\",\"3703656, -12202201\",\"Carmel Meadows\\u002fRibera Beach\",\"EAHall Middle School\",\"3661387, -12192417\",\"Arroyo Seco\",\"Lakeview Campus\",\"3693604, -12174346\",\"369685, -12197296\",\"Andrew Molera State Park\",\"3693769, -12174271\",\"Campus Cleanup\",\"3659461, -12183997\",\"3693542, -12176694\",\"Santa Cruz Harbor\",\"Ano Nuevo State Beach\",\"3592611, -12037461\",\"SLR From Laurel St Bridge Towards Riverside Bridge\",\"3659458, -12185001\",\"36688612025127, -12181149818641\",\"Sdm Beach Flats\",\"SLR @ River Mouth - Leinbrandt\",\"SLR@ The Mat Laundry (Boulder Creek)\",\"3693537, -12176709\",\"3697048, -12204416\",\"Bradley Elementary\",\"Cave Near John'S\",\"3659462, -12185006\",\"EA Middle School Campus\",\"K Quadrants\",\"Gault Elementary School\",\"3696839, -121973\",\"Rodeo Creek\",\"3660012, -12193417\",\"3693647, -12174318\",\"3667801, -12161066\",\"Sdm Downtown Sc\",\"De La Veaga Park\",\"Point Lobos State Natural Reserve\",\"Downtown Montereys\",\"City Of Santa Cruz-Center & Beach St\",\"Harbor High Campus\",\"Sdm West Cliff\",\"Pebble Beach\",\"Pocket Beach\",\"3659461, -12185004\",\"3659463, -12185005\",\"3691017, -12174706\",\"3691706, -1218487\",\"3659456, -12185007\",\"3658674, -12186799\",\"3659456, -1218501\",\"3659449, -12185015\",\"De Laveaga Elementary School\",\"3697006, -12203877\",\"3693951, -12174165\",\"3690996, -12174697\",\"3661377, -12192423\",\"3668992, -12179212\",\"3659464, -12185005\",\"3675861, -12174762\",\"3659465, -12185003\",\"3659462, -12185011\",\"3643248, -12132069\",\"365785, -12172052\",\"365944, -12184317\",\"36586769104004, -1218784942627\",\"36592700958252, -12184306335449\",\"3659425, -12183985\",\"3659455, -12185008\",\"3659456, -12185004\",\"3659451, -12185016\",\"3659455, -12185004\",\"37070449829102, -12198534393311\",\"37062046051025, -12200630187988\",\"37047939300537, -12203140258789\",\"Big Sur Roving Cleanup\",\"Campus\",\"California State Beach At End Of Kelly\",\"Bradley Elementary School\",\"3659458, -12185002\",\"Watsonville Plaza\",\"City Of Santa Cruz-Laurel & Bay\",\"Valencia Elementary School Campus\",\"365199815, -1219388353\",\"36964340209961, -12203816223145\",\"36964336395264, -12203814697266\",\"36964168548584, -12203796386719\",\"3693997, -121741\",\"3693945, -12174175\",\"3693892, -12174209\",\"3697598, -12199806\",\"Monterey Hostel Cleanup\",\"3697349, -12200288\",\"3698277, -12197005\",\"36981407165527, -12201036834717\",\"372295083, -1221205902\",\"3696509, -12196174\",\"3696681, -12196282\",\"36969974517822, -12203875732422\",\"3697046, -12204418\",\"371243, -12204976\",\"3714847, -12212891\",\"37077921, -1220794613\",\"36964866638184, -12196340179443\",\"Alviso Marina\",\"3723216, -12209932\",\"Garra Pata State Beach\",\"Baylands, Palo Alto\",\"Half Moon Bay State Beach\",\"369871, -12195892\",\"36987216949463, -12193186950684\",\"36987224578857, -12193172454834\",\"3700711, -12202109\",\"36907543182373, -12177456665039\",\"36964527130127, -12203833770752\",\"3678381, -12187989\",\"3669003, -12179222\",\"3668134, -12162068\",\"3661367, -12192424\",\"366767374, -1217924971\",\"36925765449851, -1217751866063\",\"36600032806396, -12193447113037\",\"36601322174072, -12184586334229\",\"3660247, -12194593\",\"36927402496338, -12168284606934\",\"368225884, -1217765309\",\"3691475, -12179356\",\"36912663264848, -12175229918824\",\"36915027618408, -12179370117188\",\"36918753, -121743699\",\"3691988, -12176494\",\"3692163, -12175577\",\"3659464, -12185004\",\"3659462, -12185004\",\"365946, -12185018\",\"365946, -12185012\",\"Salinas River\",\"Salinas River @ Monte Rd\",\"3659459, -12185005\",\"3659474, -1218504\",\"365973885, -1218979244\",\"36596195220947, -12183684539795\",\"Soquel Elementary\",\"Sumner & Dolpin Beach\",\"364527343, -1216962434\",\"364796839, -1217324476\",\"3631416, -12124082\",\"36314129, -121240773\"],\"lat\":[36.962305,36.60201,36.964438,36.962677,36.971891,36.984475,36.960884,36.96787,36.6248,36.971921,36.957083,36.973195,null,36.978196,36.978196,36.949763,36.9596,36.611436,36.969741,36.992824,36.618691,36.618686,36.698341,36.868082,36.616076,37.048004,37.048004,36.961109,null,36.968169,36.954475,36.952211,36.988716,null,36.955772,36.810237,null,null,null,36.932315,36.960998,null,36.978719,null,36.897103,null,37.010897,null,null,36.885443328671926,36.775104,null,36.69066433255627,null,36.660205,null,37.000978,null,null,37.096936,36.609817,null,36.734808,null,36.91707497019236,36.53918,null,null,null,null,null,36.970173,null,null,37.080061,null,36.555114,null,36.949768,null,36.987194,null,37.039549,null,37.024969,null,null,null,36.522767,null,null,null,null,36.953012,null,null,36.836334,null,null,null,null,null,null,null,null,null,null,null,null,37.005665,null,null,null,null,null,null,null,null,null,null,null,null,null,null,null,null,null,null,null,null,null,null,null,null,null,null,null,null,null,null,null,null,null,null,36.966959,null,null,null,null,null,null,null,null,null,null,null,36.530625,null,null,null,null,null,null,null,null,null,null,null,null,37.11655,null,null,null,null,null,null,null,null,null,null,null,null,null,null,null,null,null,null,null,null,null,null,36.51047,null,null,null,null,null,null,null,null,null,null,null,null,null,null,null,null,null,null,null,null,null,null,null,null,null,null,null,null,null,null,null,null,null,null,null,null,null,null,null,null,null,null,null,null,null,null,null,null,null,null,null,null,null,null,null,null,null,null,null,null,null,null,null,null,null,null,null,null,null,null,null,null,null,null,null,null,null,null,null,null,null,null,null,null,null,null,null,null,null,null,null,null,null,null,null,null,null,null,null,null,null,null,null,null,null,null,null,null,null,null],\"legendgroup\":\"\",\"lon\":[-122.023819,-121.88673,-122.008804,-122.000072,-121.913007,-122.027523,-121.989318,-121.90402,-121.916612,-121.950456,-121.978015,-122.023063,null,-122.02455,-122.02455,-122.056085,-121.98488,-121.857798,-122.022637,-122.168022,-121.850598,-121.940726,-121.808563,-121.818035,-121.899662,-122.068415,-122.068415,-121.887502,null,-122.018846,-121.883599,-122.028599,-122.028966,null,-121.971757,-121.788851,null,null,null,-121.860941,-121.993298,null,-121.938805,null,-121.83744,null,-122.195154,null,null,-121.78211202409427,-121.794414,null,-121.62564513649048,null,-121.821054,null,-122.18059,null,null,-122.279708,-121.895739,null,-121.793808,null,-121.7789256991053,-121.927783,null,null,null,null,null,-122.120231,null,null,-122.264715,null,-121.92969,null,-121.875685,null,-122.155298,null,-122.22808,null,-122.215595,null,null,null,-121.927121,null,null,null,null,-122.041471,null,null,-121.80149,null,null,null,null,null,null,null,null,null,null,null,null,-122.18551,null,null,null,null,null,null,null,null,null,null,null,null,null,null,null,null,null,null,null,null,null,null,null,null,null,null,null,null,null,null,null,null,null,null,-122.111374,null,null,null,null,null,null,null,null,null,null,null,-121.924332,null,null,null,null,null,null,null,null,null,null,null,null,-122.303806,null,null,null,null,null,null,null,null,null,null,null,null,null,null,null,null,null,null,null,null,null,null,-121.941397,null,null,null,null,null,null,null,null,null,null,null,null,null,null,null,null,null,null,null,null,null,null,null,null,null,null,null,null,null,null,null,null,null,null,null,null,null,null,null,null,null,null,null,null,null,null,null,null,null,null,null,null,null,null,null,null,null,null,null,null,null,null,null,null,null,null,null,null,null,null,null,null,null,null,null,null,null,null,null,null,null,null,null,null,null,null,null,null,null,null,null,null,null,null,null,null,null,null,null,null,null,null,null,null,null,null,null,null,null,null],\"marker\":{\"color\":\"fuchsia\",\"size\":[88405.0,53254.0,22810.0,15935.0,15020.0,14329.0,13636.0,12119.0,12007.0,11619.0,9544.0,7664.0,7101.0,7065.0,7065.0,6304.0,5913.0,5838.0,5737.0,4795.0,4591.0,4274.0,4058.0,3803.0,3757.0,3661.0,3661.0,3623.0,3535.0,3342.0,3263.0,3238.0,3212.0,3145.0,3008.0,2894.0,2696.0,2574.0,2284.0,2205.0,2102.0,2005.0,1860.0,1782.0,1777.0,1676.0,1660.0,1595.0,1573.0,1504.0,1375.0,1336.0,1271.0,1175.0,1165.0,1140.0,1132.0,1120.0,1101.0,1050.0,1022.0,989.0,933.0,921.0,919.0,867.0,858.0,842.0,806.0,716.0,688.0,680.0,652.0,640.0,629.0,622.0,619.0,600.0,590.0,586.0,562.0,527.0,524.0,483.0,461.0,445.0,440.0,421.0,359.0,332.0,332.0,325.0,321.0,288.0,278.0,270.0,263.0,236.0,227.0,225.0,222.0,220.0,204.0,195.0,193.0,182.0,162.0,151.0,149.0,145.0,143.0,140.0,138.0,135.0,128.0,115.0,112.0,110.0,109.0,103.0,100.0,98.0,95.0,88.0,85.0,72.0,72.0,71.0,70.0,69.0,67.0,62.0,61.0,55.0,55.0,48.0,47.0,46.0,45.0,43.0,38.0,34.0,34.0,33.0,33.0,31.0,31.0,31.0,29.0,28.0,27.0,24.0,19.0,19.0,19.0,19.0,18.0,18.0,17.0,17.0,17.0,15.0,13.0,11.0,11.0,11.0,11.0,10.0,10.0,10.0,10.0,9.0,7.0,6.0,6.0,5.0,5.0,5.0,5.0,5.0,5.0,5.0,5.0,5.0,5.0,4.0,4.0,4.0,4.0,4.0,4.0,4.0,4.0,4.0,3.0,3.0,2.0,2.0,2.0,2.0,2.0,2.0,2.0,2.0,1.0,1.0,1.0,1.0,1.0,1.0,1.0,1.0,1.0,1.0,1.0,1.0,1.0,1.0,0.0,0.0,0.0,0.0,0.0,0.0,0.0,0.0,0.0,0.0,0.0,0.0,0.0,0.0,0.0,0.0,0.0,0.0,0.0,0.0,0.0,0.0,0.0,0.0,0.0,0.0,0.0,0.0,0.0,0.0,0.0,0.0,0.0,0.0,0.0,0.0,0.0,0.0,0.0,0.0,0.0,0.0,0.0,0.0,0.0,0.0,0.0,0.0,0.0,0.0,0.0,0.0,0.0,0.0,0.0,0.0,0.0,0.0,0.0,0.0,0.0,0.0,0.0,0.0,0.0,0.0,0.0,0.0,0.0,0.0,0.0,0.0,0.0,0.0,0.0,0.0,0.0,0.0,0.0,0.0,0.0,0.0,0.0,0.0,0.0],\"sizemode\":\"area\",\"sizeref\":221.0125},\"mode\":\"markers\",\"name\":\"\",\"showlegend\":false,\"subplot\":\"mapbox\",\"type\":\"scattermapbox\"}],                        {\"template\":{\"data\":{\"histogram2dcontour\":[{\"type\":\"histogram2dcontour\",\"colorbar\":{\"outlinewidth\":0,\"ticks\":\"\"},\"colorscale\":[[0.0,\"#0d0887\"],[0.1111111111111111,\"#46039f\"],[0.2222222222222222,\"#7201a8\"],[0.3333333333333333,\"#9c179e\"],[0.4444444444444444,\"#bd3786\"],[0.5555555555555556,\"#d8576b\"],[0.6666666666666666,\"#ed7953\"],[0.7777777777777778,\"#fb9f3a\"],[0.8888888888888888,\"#fdca26\"],[1.0,\"#f0f921\"]]}],\"choropleth\":[{\"type\":\"choropleth\",\"colorbar\":{\"outlinewidth\":0,\"ticks\":\"\"}}],\"histogram2d\":[{\"type\":\"histogram2d\",\"colorbar\":{\"outlinewidth\":0,\"ticks\":\"\"},\"colorscale\":[[0.0,\"#0d0887\"],[0.1111111111111111,\"#46039f\"],[0.2222222222222222,\"#7201a8\"],[0.3333333333333333,\"#9c179e\"],[0.4444444444444444,\"#bd3786\"],[0.5555555555555556,\"#d8576b\"],[0.6666666666666666,\"#ed7953\"],[0.7777777777777778,\"#fb9f3a\"],[0.8888888888888888,\"#fdca26\"],[1.0,\"#f0f921\"]]}],\"heatmap\":[{\"type\":\"heatmap\",\"colorbar\":{\"outlinewidth\":0,\"ticks\":\"\"},\"colorscale\":[[0.0,\"#0d0887\"],[0.1111111111111111,\"#46039f\"],[0.2222222222222222,\"#7201a8\"],[0.3333333333333333,\"#9c179e\"],[0.4444444444444444,\"#bd3786\"],[0.5555555555555556,\"#d8576b\"],[0.6666666666666666,\"#ed7953\"],[0.7777777777777778,\"#fb9f3a\"],[0.8888888888888888,\"#fdca26\"],[1.0,\"#f0f921\"]]}],\"heatmapgl\":[{\"type\":\"heatmapgl\",\"colorbar\":{\"outlinewidth\":0,\"ticks\":\"\"},\"colorscale\":[[0.0,\"#0d0887\"],[0.1111111111111111,\"#46039f\"],[0.2222222222222222,\"#7201a8\"],[0.3333333333333333,\"#9c179e\"],[0.4444444444444444,\"#bd3786\"],[0.5555555555555556,\"#d8576b\"],[0.6666666666666666,\"#ed7953\"],[0.7777777777777778,\"#fb9f3a\"],[0.8888888888888888,\"#fdca26\"],[1.0,\"#f0f921\"]]}],\"contourcarpet\":[{\"type\":\"contourcarpet\",\"colorbar\":{\"outlinewidth\":0,\"ticks\":\"\"}}],\"contour\":[{\"type\":\"contour\",\"colorbar\":{\"outlinewidth\":0,\"ticks\":\"\"},\"colorscale\":[[0.0,\"#0d0887\"],[0.1111111111111111,\"#46039f\"],[0.2222222222222222,\"#7201a8\"],[0.3333333333333333,\"#9c179e\"],[0.4444444444444444,\"#bd3786\"],[0.5555555555555556,\"#d8576b\"],[0.6666666666666666,\"#ed7953\"],[0.7777777777777778,\"#fb9f3a\"],[0.8888888888888888,\"#fdca26\"],[1.0,\"#f0f921\"]]}],\"surface\":[{\"type\":\"surface\",\"colorbar\":{\"outlinewidth\":0,\"ticks\":\"\"},\"colorscale\":[[0.0,\"#0d0887\"],[0.1111111111111111,\"#46039f\"],[0.2222222222222222,\"#7201a8\"],[0.3333333333333333,\"#9c179e\"],[0.4444444444444444,\"#bd3786\"],[0.5555555555555556,\"#d8576b\"],[0.6666666666666666,\"#ed7953\"],[0.7777777777777778,\"#fb9f3a\"],[0.8888888888888888,\"#fdca26\"],[1.0,\"#f0f921\"]]}],\"mesh3d\":[{\"type\":\"mesh3d\",\"colorbar\":{\"outlinewidth\":0,\"ticks\":\"\"}}],\"scatter\":[{\"fillpattern\":{\"fillmode\":\"overlay\",\"size\":10,\"solidity\":0.2},\"type\":\"scatter\"}],\"parcoords\":[{\"type\":\"parcoords\",\"line\":{\"colorbar\":{\"outlinewidth\":0,\"ticks\":\"\"}}}],\"scatterpolargl\":[{\"type\":\"scatterpolargl\",\"marker\":{\"colorbar\":{\"outlinewidth\":0,\"ticks\":\"\"}}}],\"bar\":[{\"error_x\":{\"color\":\"#2a3f5f\"},\"error_y\":{\"color\":\"#2a3f5f\"},\"marker\":{\"line\":{\"color\":\"#E5ECF6\",\"width\":0.5},\"pattern\":{\"fillmode\":\"overlay\",\"size\":10,\"solidity\":0.2}},\"type\":\"bar\"}],\"scattergeo\":[{\"type\":\"scattergeo\",\"marker\":{\"colorbar\":{\"outlinewidth\":0,\"ticks\":\"\"}}}],\"scatterpolar\":[{\"type\":\"scatterpolar\",\"marker\":{\"colorbar\":{\"outlinewidth\":0,\"ticks\":\"\"}}}],\"histogram\":[{\"marker\":{\"pattern\":{\"fillmode\":\"overlay\",\"size\":10,\"solidity\":0.2}},\"type\":\"histogram\"}],\"scattergl\":[{\"type\":\"scattergl\",\"marker\":{\"colorbar\":{\"outlinewidth\":0,\"ticks\":\"\"}}}],\"scatter3d\":[{\"type\":\"scatter3d\",\"line\":{\"colorbar\":{\"outlinewidth\":0,\"ticks\":\"\"}},\"marker\":{\"colorbar\":{\"outlinewidth\":0,\"ticks\":\"\"}}}],\"scattermapbox\":[{\"type\":\"scattermapbox\",\"marker\":{\"colorbar\":{\"outlinewidth\":0,\"ticks\":\"\"}}}],\"scatterternary\":[{\"type\":\"scatterternary\",\"marker\":{\"colorbar\":{\"outlinewidth\":0,\"ticks\":\"\"}}}],\"scattercarpet\":[{\"type\":\"scattercarpet\",\"marker\":{\"colorbar\":{\"outlinewidth\":0,\"ticks\":\"\"}}}],\"carpet\":[{\"aaxis\":{\"endlinecolor\":\"#2a3f5f\",\"gridcolor\":\"white\",\"linecolor\":\"white\",\"minorgridcolor\":\"white\",\"startlinecolor\":\"#2a3f5f\"},\"baxis\":{\"endlinecolor\":\"#2a3f5f\",\"gridcolor\":\"white\",\"linecolor\":\"white\",\"minorgridcolor\":\"white\",\"startlinecolor\":\"#2a3f5f\"},\"type\":\"carpet\"}],\"table\":[{\"cells\":{\"fill\":{\"color\":\"#EBF0F8\"},\"line\":{\"color\":\"white\"}},\"header\":{\"fill\":{\"color\":\"#C8D4E3\"},\"line\":{\"color\":\"white\"}},\"type\":\"table\"}],\"barpolar\":[{\"marker\":{\"line\":{\"color\":\"#E5ECF6\",\"width\":0.5},\"pattern\":{\"fillmode\":\"overlay\",\"size\":10,\"solidity\":0.2}},\"type\":\"barpolar\"}],\"pie\":[{\"automargin\":true,\"type\":\"pie\"}]},\"layout\":{\"autotypenumbers\":\"strict\",\"colorway\":[\"#636efa\",\"#EF553B\",\"#00cc96\",\"#ab63fa\",\"#FFA15A\",\"#19d3f3\",\"#FF6692\",\"#B6E880\",\"#FF97FF\",\"#FECB52\"],\"font\":{\"color\":\"#2a3f5f\"},\"hovermode\":\"closest\",\"hoverlabel\":{\"align\":\"left\"},\"paper_bgcolor\":\"white\",\"plot_bgcolor\":\"#E5ECF6\",\"polar\":{\"bgcolor\":\"#E5ECF6\",\"angularaxis\":{\"gridcolor\":\"white\",\"linecolor\":\"white\",\"ticks\":\"\"},\"radialaxis\":{\"gridcolor\":\"white\",\"linecolor\":\"white\",\"ticks\":\"\"}},\"ternary\":{\"bgcolor\":\"#E5ECF6\",\"aaxis\":{\"gridcolor\":\"white\",\"linecolor\":\"white\",\"ticks\":\"\"},\"baxis\":{\"gridcolor\":\"white\",\"linecolor\":\"white\",\"ticks\":\"\"},\"caxis\":{\"gridcolor\":\"white\",\"linecolor\":\"white\",\"ticks\":\"\"}},\"coloraxis\":{\"colorbar\":{\"outlinewidth\":0,\"ticks\":\"\"}},\"colorscale\":{\"sequential\":[[0.0,\"#0d0887\"],[0.1111111111111111,\"#46039f\"],[0.2222222222222222,\"#7201a8\"],[0.3333333333333333,\"#9c179e\"],[0.4444444444444444,\"#bd3786\"],[0.5555555555555556,\"#d8576b\"],[0.6666666666666666,\"#ed7953\"],[0.7777777777777778,\"#fb9f3a\"],[0.8888888888888888,\"#fdca26\"],[1.0,\"#f0f921\"]],\"sequentialminus\":[[0.0,\"#0d0887\"],[0.1111111111111111,\"#46039f\"],[0.2222222222222222,\"#7201a8\"],[0.3333333333333333,\"#9c179e\"],[0.4444444444444444,\"#bd3786\"],[0.5555555555555556,\"#d8576b\"],[0.6666666666666666,\"#ed7953\"],[0.7777777777777778,\"#fb9f3a\"],[0.8888888888888888,\"#fdca26\"],[1.0,\"#f0f921\"]],\"diverging\":[[0,\"#8e0152\"],[0.1,\"#c51b7d\"],[0.2,\"#de77ae\"],[0.3,\"#f1b6da\"],[0.4,\"#fde0ef\"],[0.5,\"#f7f7f7\"],[0.6,\"#e6f5d0\"],[0.7,\"#b8e186\"],[0.8,\"#7fbc41\"],[0.9,\"#4d9221\"],[1,\"#276419\"]]},\"xaxis\":{\"gridcolor\":\"white\",\"linecolor\":\"white\",\"ticks\":\"\",\"title\":{\"standoff\":15},\"zerolinecolor\":\"white\",\"automargin\":true,\"zerolinewidth\":2},\"yaxis\":{\"gridcolor\":\"white\",\"linecolor\":\"white\",\"ticks\":\"\",\"title\":{\"standoff\":15},\"zerolinecolor\":\"white\",\"automargin\":true,\"zerolinewidth\":2},\"scene\":{\"xaxis\":{\"backgroundcolor\":\"#E5ECF6\",\"gridcolor\":\"white\",\"linecolor\":\"white\",\"showbackground\":true,\"ticks\":\"\",\"zerolinecolor\":\"white\",\"gridwidth\":2},\"yaxis\":{\"backgroundcolor\":\"#E5ECF6\",\"gridcolor\":\"white\",\"linecolor\":\"white\",\"showbackground\":true,\"ticks\":\"\",\"zerolinecolor\":\"white\",\"gridwidth\":2},\"zaxis\":{\"backgroundcolor\":\"#E5ECF6\",\"gridcolor\":\"white\",\"linecolor\":\"white\",\"showbackground\":true,\"ticks\":\"\",\"zerolinecolor\":\"white\",\"gridwidth\":2}},\"shapedefaults\":{\"line\":{\"color\":\"#2a3f5f\"}},\"annotationdefaults\":{\"arrowcolor\":\"#2a3f5f\",\"arrowhead\":0,\"arrowwidth\":1},\"geo\":{\"bgcolor\":\"white\",\"landcolor\":\"#E5ECF6\",\"subunitcolor\":\"white\",\"showland\":true,\"showlakes\":true,\"lakecolor\":\"white\"},\"title\":{\"x\":0.05},\"mapbox\":{\"style\":\"light\"}}},\"mapbox\":{\"domain\":{\"x\":[0.0,1.0],\"y\":[0.0,1.0]},\"center\":{\"lat\":36.87602112113366,\"lon\":-121.97704296602683},\"zoom\":8,\"style\":\"carto-positron\",\"bounds\":{\"west\":-122.40380599999999,\"east\":-121.52564513649048,\"south\":36.50047,\"north\":37.126549999999995}},\"legend\":{\"tracegroupgap\":0,\"itemsizing\":\"constant\"},\"margin\":{\"t\":0.1,\"r\":0.1,\"l\":0.1,\"b\":0.1},\"autosize\":false,\"width\":1000,\"height\":1000},                        {\"responsive\": true}                    ).then(function(){\n",
       "                            \n",
       "var gd = document.getElementById('f6154afd-eae4-4f62-bf7b-a22e966a7ea9');\n",
       "var x = new MutationObserver(function (mutations, observer) {{\n",
       "        var display = window.getComputedStyle(gd).display;\n",
       "        if (!display || display === 'none') {{\n",
       "            console.log([gd, 'removed!']);\n",
       "            Plotly.purge(gd);\n",
       "            observer.disconnect();\n",
       "        }}\n",
       "}});\n",
       "\n",
       "// Listen for the removal of the full notebook cells\n",
       "var notebookContainer = gd.closest('#notebook-container');\n",
       "if (notebookContainer) {{\n",
       "    x.observe(notebookContainer, {childList: true});\n",
       "}}\n",
       "\n",
       "// Listen for the clearing of the current output cell\n",
       "var outputEl = gd.closest('.output');\n",
       "if (outputEl) {{\n",
       "    x.observe(outputEl, {childList: true});\n",
       "}}\n",
       "\n",
       "                        })                };                });            </script>        </div>"
      ]
     },
     "metadata": {},
     "output_type": "display_data"
    }
   ],
   "source": [
    "fig = graph_maker.cigarette_map()\n",
    "fig.show()"
   ]
  },
  {
   "cell_type": "markdown",
   "id": "79ea4b97-16a6-4ec0-a9f5-db91b995abff",
   "metadata": {
    "jp-MarkdownHeadingCollapsed": true
   },
   "source": [
    "The map above shows the sites where cigarette butts were collected in the years 2013-2023. The circles (in fuchsia) are centered on the cleanup site, and the size of the circles correspond to the number of cigarette butts cleaned up from that site. You can hover over the circle to get more information, and you can zoom in and out on the map by sliding down and up with two fingers on your trackpad. SLR stands for San Lorenzo River.\n",
    "\n",
    "This plot is limited to sites with known coordinates, and coordinates successfully located with geopy. Cleanup sites that had coordinates provided for them are listed below.\n",
    "(Note: I merged Corcoran Lagoon at 20th and 26th Ave to Corcoran Lagoon, and I merged two Del Monte Beach locations into one)."
   ]
  },
  {
   "cell_type": "code",
   "execution_count": 17,
   "id": "9f55747f-aac9-4fbc-bc55-fa3a3010b256",
   "metadata": {},
   "outputs": [
    {
     "name": "stdout",
     "output_type": "stream",
     "text": [
      "Ano Nuevo State Beach\n",
      "Asilomar State Beach\n",
      "Beer Can Beach\n",
      "Blacks Beach\n",
      "Bonny Doon State Beach\n",
      "Capitola Beach\n",
      "Carmel Beach\n",
      "Carmel Meadows/Ribera Beach\n",
      "Carmel River State Beach\n",
      "Corcoran Lagoon\n",
      "Cowell/Main Beach\n",
      "Davenport Landing Beach\n",
      "Davenport Main Beach\n",
      "Del Monte Beach\n",
      "Fort Ord Dunes State Beach\n",
      "Four-Mile State Beach\n",
      "Greyhound Rock Beach\n",
      "Hidden Beach\n",
      "Laguna Creek Beach\n",
      "Lighthouse Field State Beach\n",
      "Lovers Point Beach\n",
      "Manresa State Beach\n",
      "Marina State Beach\n",
      "Mcabee State Beach\n",
      "Mitchell's Cove Beach\n",
      "Monastery Beach\n",
      "Monterey State Beach\n",
      "Moran Lake Beach\n",
      "Moss Landing State Beach\n",
      "Natural Bridges State Beach\n",
      "New Brighton State Beach\n",
      "Pajaro River\n",
      "Palm Beach State Park\n",
      "Panther State Beach\n",
      "Pleasure Point Beaches\n",
      "Point Lobos State Natural Reserve\n",
      "Rio Del Mar State Beach\n",
      "SLR @ Felker\n",
      "SLR @ Felton\n",
      "SLR @ Felton\n",
      "SLR @ Laurel\n",
      "SLR @ Riverside\n",
      "SLR @ Soquel\n",
      "SLR @ The Tannery Arts Center\n",
      "SLR @ Water\n",
      "SLR @ Water\n",
      "Salinas River National Wildlife Refuge\n",
      "Salinas River State Beach\n",
      "San Carlos Beach\n",
      "Sand City Beach\n",
      "Scott Creek Beach\n",
      "Seabright State Beach\n",
      "Seacliff State Beach\n",
      "Seascape Beach\n",
      "Seven-Mile Beach\n",
      "Shark Fin Cove\n",
      "Sunny Cove Beach\n",
      "Sunset State Beach\n",
      "Three-Mile State Beach\n",
      "Twin Lakes State Beach\n",
      "Upper Carr Lake\n",
      "Waddell State Beach\n",
      "West Struve Slough\n",
      "Zmudowski State Beach\n"
     ]
    }
   ],
   "source": [
    "coords = pd.read_csv(os.path.join(data_dir, 'cleanup_site_coordinates.csv'))\n",
    "print('\\n'.join(list(coords['Cleanup Site'])))"
   ]
  },
  {
   "cell_type": "markdown",
   "id": "9a4ea792-36cb-492d-a590-1d0e94e60bdc",
   "metadata": {},
   "source": [
    "## Debris Caused by Smoking, 2013-2023\n",
    "\n",
    "Let's look at the categories specifically related to smoking and see how they've changed over time. Since there is a correlation between number of items collected and number of volunteers, we'll look at number of items per volunteer for each year. The smoking related items in the data set are: **Cigarette Butts**, **Cigar Tips**, **E-Waste**, and **Tobacco**. The Tobacco category includes items such as packaging and wrappers. Since some data categories for some year were e.g. 'Other Tobacco (Packaging, Lighter, Etc.)' or 'Smoking, Tobacco, Vape Items (Not Butts)', this general Tobacco category may include some lighters and e-waste items."
   ]
  },
  {
   "cell_type": "code",
   "execution_count": 18,
   "id": "c67c68c0-a4e3-42ae-8ace-b45130e05b2e",
   "metadata": {},
   "outputs": [
    {
     "data": {
      "application/vnd.plotly.v1+json": {
       "config": {
        "plotlyServerURL": "https://plot.ly"
       },
       "data": [
        {
         "hovertemplate": "variable=Cigarette Butts<br>index=%{x}<br>value=%{y}<extra></extra>",
         "legendgroup": "Cigarette Butts",
         "line": {
          "color": "#636efa",
          "dash": "solid"
         },
         "marker": {
          "symbol": "circle"
         },
         "mode": "lines",
         "name": "Cigarette Butts",
         "orientation": "v",
         "showlegend": true,
         "type": "scatter",
         "x": [
          2013,
          2014,
          2015,
          2016,
          2017,
          2018,
          2019,
          2020,
          2021,
          2022,
          2023
         ],
         "xaxis": "x",
         "y": [
          8.889590592334494,
          12.007297703369822,
          7.313415424497732,
          5.33059028327267,
          3.7988916696460495,
          6.018150388936906,
          3.7859992178333983,
          7.8778237352847595,
          6.098761354252684,
          6.036824236092975,
          5.421258353297188
         ],
         "yaxis": "y"
        },
        {
         "hovertemplate": "variable=Cigar Tips<br>index=%{x}<br>value=%{y}<extra></extra>",
         "legendgroup": "Cigar Tips",
         "line": {
          "color": "#EF553B",
          "dash": "solid"
         },
         "marker": {
          "symbol": "circle"
         },
         "mode": "lines",
         "name": "Cigar Tips",
         "orientation": "v",
         "showlegend": true,
         "type": "scatter",
         "x": [
          2013,
          2014,
          2015,
          2016,
          2017,
          2018,
          2019,
          2020,
          2021,
          2022,
          2023
         ],
         "xaxis": "x",
         "y": [
          0,
          0.019639407598197038,
          0.0005184705119896306,
          0.05681278683335971,
          0.0305684662138005,
          0.03526361279170268,
          0.04348846304262808,
          0.0006363347120585428,
          0.06473988439306358,
          0.0334290937581614,
          0.003278275122935317
         ],
         "yaxis": "y"
        },
        {
         "hovertemplate": "variable=E-Waste<br>index=%{x}<br>value=%{y}<extra></extra>",
         "legendgroup": "E-Waste",
         "line": {
          "color": "#00cc96",
          "dash": "solid"
         },
         "marker": {
          "symbol": "circle"
         },
         "mode": "lines",
         "name": "E-Waste",
         "orientation": "v",
         "showlegend": true,
         "type": "scatter",
         "x": [
          2013,
          2014,
          2015,
          2016,
          2017,
          2018,
          2019,
          2020,
          2021,
          2022,
          2023
         ],
         "xaxis": "x",
         "y": [
          0,
          0,
          0,
          0,
          0,
          0,
          0,
          0.024180719058224626,
          0.040957886044591246,
          0.01906503003395142,
          0.02824360105913504
         ],
         "yaxis": "y"
        },
        {
         "hovertemplate": "variable=Tobacco<br>index=%{x}<br>value=%{y}<extra></extra>",
         "legendgroup": "Tobacco",
         "line": {
          "color": "#ab63fa",
          "dash": "solid"
         },
         "marker": {
          "symbol": "circle"
         },
         "mode": "lines",
         "name": "Tobacco",
         "orientation": "v",
         "showlegend": true,
         "type": "scatter",
         "x": [
          2013,
          2014,
          2015,
          2016,
          2017,
          2018,
          2019,
          2020,
          2021,
          2022,
          2023
         ],
         "xaxis": "x",
         "y": [
          0.3837108013937282,
          0.2870787722687272,
          0.25029163966299417,
          0.1093527456876088,
          0.027708258848766536,
          0.025583405358686258,
          0.07086429409464216,
          0.25071587655106586,
          0.18232865400495457,
          0.09454165578480021,
          0.053461102004791324
         ],
         "yaxis": "y"
        },
        {
         "hovertemplate": "variable=Lighters<br>index=%{x}<br>value=%{y}<extra></extra>",
         "legendgroup": "Lighters",
         "line": {
          "color": "#FFA15A",
          "dash": "solid"
         },
         "marker": {
          "symbol": "circle"
         },
         "mode": "lines",
         "name": "Lighters",
         "orientation": "v",
         "showlegend": true,
         "type": "scatter",
         "x": [
          2013,
          2014,
          2015,
          2016,
          2017,
          2018,
          2019,
          2020,
          2021,
          2022,
          2023
         ],
         "xaxis": "x",
         "y": [
          0.22136324041811847,
          0.10925091221292123,
          0.06817887232663643,
          0.05586326950466846,
          0.03575259206292456,
          0.04062229904926534,
          0.025342197888150175,
          0.03181673560292714,
          0.04128819157720892,
          0.1736745886654479,
          0.09053082839490606
         ],
         "yaxis": "y"
        }
       ],
       "layout": {
        "autosize": false,
        "height": 600,
        "legend": {
         "title": {
          "text": "Debris Category"
         },
         "tracegroupgap": 0
        },
        "margin": {
         "t": 60
        },
        "template": {
         "data": {
          "bar": [
           {
            "error_x": {
             "color": "#2a3f5f"
            },
            "error_y": {
             "color": "#2a3f5f"
            },
            "marker": {
             "line": {
              "color": "#E5ECF6",
              "width": 0.5
             },
             "pattern": {
              "fillmode": "overlay",
              "size": 10,
              "solidity": 0.2
             }
            },
            "type": "bar"
           }
          ],
          "barpolar": [
           {
            "marker": {
             "line": {
              "color": "#E5ECF6",
              "width": 0.5
             },
             "pattern": {
              "fillmode": "overlay",
              "size": 10,
              "solidity": 0.2
             }
            },
            "type": "barpolar"
           }
          ],
          "carpet": [
           {
            "aaxis": {
             "endlinecolor": "#2a3f5f",
             "gridcolor": "white",
             "linecolor": "white",
             "minorgridcolor": "white",
             "startlinecolor": "#2a3f5f"
            },
            "baxis": {
             "endlinecolor": "#2a3f5f",
             "gridcolor": "white",
             "linecolor": "white",
             "minorgridcolor": "white",
             "startlinecolor": "#2a3f5f"
            },
            "type": "carpet"
           }
          ],
          "choropleth": [
           {
            "colorbar": {
             "outlinewidth": 0,
             "ticks": ""
            },
            "type": "choropleth"
           }
          ],
          "contour": [
           {
            "colorbar": {
             "outlinewidth": 0,
             "ticks": ""
            },
            "colorscale": [
             [
              0,
              "#0d0887"
             ],
             [
              0.1111111111111111,
              "#46039f"
             ],
             [
              0.2222222222222222,
              "#7201a8"
             ],
             [
              0.3333333333333333,
              "#9c179e"
             ],
             [
              0.4444444444444444,
              "#bd3786"
             ],
             [
              0.5555555555555556,
              "#d8576b"
             ],
             [
              0.6666666666666666,
              "#ed7953"
             ],
             [
              0.7777777777777778,
              "#fb9f3a"
             ],
             [
              0.8888888888888888,
              "#fdca26"
             ],
             [
              1,
              "#f0f921"
             ]
            ],
            "type": "contour"
           }
          ],
          "contourcarpet": [
           {
            "colorbar": {
             "outlinewidth": 0,
             "ticks": ""
            },
            "type": "contourcarpet"
           }
          ],
          "heatmap": [
           {
            "colorbar": {
             "outlinewidth": 0,
             "ticks": ""
            },
            "colorscale": [
             [
              0,
              "#0d0887"
             ],
             [
              0.1111111111111111,
              "#46039f"
             ],
             [
              0.2222222222222222,
              "#7201a8"
             ],
             [
              0.3333333333333333,
              "#9c179e"
             ],
             [
              0.4444444444444444,
              "#bd3786"
             ],
             [
              0.5555555555555556,
              "#d8576b"
             ],
             [
              0.6666666666666666,
              "#ed7953"
             ],
             [
              0.7777777777777778,
              "#fb9f3a"
             ],
             [
              0.8888888888888888,
              "#fdca26"
             ],
             [
              1,
              "#f0f921"
             ]
            ],
            "type": "heatmap"
           }
          ],
          "heatmapgl": [
           {
            "colorbar": {
             "outlinewidth": 0,
             "ticks": ""
            },
            "colorscale": [
             [
              0,
              "#0d0887"
             ],
             [
              0.1111111111111111,
              "#46039f"
             ],
             [
              0.2222222222222222,
              "#7201a8"
             ],
             [
              0.3333333333333333,
              "#9c179e"
             ],
             [
              0.4444444444444444,
              "#bd3786"
             ],
             [
              0.5555555555555556,
              "#d8576b"
             ],
             [
              0.6666666666666666,
              "#ed7953"
             ],
             [
              0.7777777777777778,
              "#fb9f3a"
             ],
             [
              0.8888888888888888,
              "#fdca26"
             ],
             [
              1,
              "#f0f921"
             ]
            ],
            "type": "heatmapgl"
           }
          ],
          "histogram": [
           {
            "marker": {
             "pattern": {
              "fillmode": "overlay",
              "size": 10,
              "solidity": 0.2
             }
            },
            "type": "histogram"
           }
          ],
          "histogram2d": [
           {
            "colorbar": {
             "outlinewidth": 0,
             "ticks": ""
            },
            "colorscale": [
             [
              0,
              "#0d0887"
             ],
             [
              0.1111111111111111,
              "#46039f"
             ],
             [
              0.2222222222222222,
              "#7201a8"
             ],
             [
              0.3333333333333333,
              "#9c179e"
             ],
             [
              0.4444444444444444,
              "#bd3786"
             ],
             [
              0.5555555555555556,
              "#d8576b"
             ],
             [
              0.6666666666666666,
              "#ed7953"
             ],
             [
              0.7777777777777778,
              "#fb9f3a"
             ],
             [
              0.8888888888888888,
              "#fdca26"
             ],
             [
              1,
              "#f0f921"
             ]
            ],
            "type": "histogram2d"
           }
          ],
          "histogram2dcontour": [
           {
            "colorbar": {
             "outlinewidth": 0,
             "ticks": ""
            },
            "colorscale": [
             [
              0,
              "#0d0887"
             ],
             [
              0.1111111111111111,
              "#46039f"
             ],
             [
              0.2222222222222222,
              "#7201a8"
             ],
             [
              0.3333333333333333,
              "#9c179e"
             ],
             [
              0.4444444444444444,
              "#bd3786"
             ],
             [
              0.5555555555555556,
              "#d8576b"
             ],
             [
              0.6666666666666666,
              "#ed7953"
             ],
             [
              0.7777777777777778,
              "#fb9f3a"
             ],
             [
              0.8888888888888888,
              "#fdca26"
             ],
             [
              1,
              "#f0f921"
             ]
            ],
            "type": "histogram2dcontour"
           }
          ],
          "mesh3d": [
           {
            "colorbar": {
             "outlinewidth": 0,
             "ticks": ""
            },
            "type": "mesh3d"
           }
          ],
          "parcoords": [
           {
            "line": {
             "colorbar": {
              "outlinewidth": 0,
              "ticks": ""
             }
            },
            "type": "parcoords"
           }
          ],
          "pie": [
           {
            "automargin": true,
            "type": "pie"
           }
          ],
          "scatter": [
           {
            "fillpattern": {
             "fillmode": "overlay",
             "size": 10,
             "solidity": 0.2
            },
            "type": "scatter"
           }
          ],
          "scatter3d": [
           {
            "line": {
             "colorbar": {
              "outlinewidth": 0,
              "ticks": ""
             }
            },
            "marker": {
             "colorbar": {
              "outlinewidth": 0,
              "ticks": ""
             }
            },
            "type": "scatter3d"
           }
          ],
          "scattercarpet": [
           {
            "marker": {
             "colorbar": {
              "outlinewidth": 0,
              "ticks": ""
             }
            },
            "type": "scattercarpet"
           }
          ],
          "scattergeo": [
           {
            "marker": {
             "colorbar": {
              "outlinewidth": 0,
              "ticks": ""
             }
            },
            "type": "scattergeo"
           }
          ],
          "scattergl": [
           {
            "marker": {
             "colorbar": {
              "outlinewidth": 0,
              "ticks": ""
             }
            },
            "type": "scattergl"
           }
          ],
          "scattermapbox": [
           {
            "marker": {
             "colorbar": {
              "outlinewidth": 0,
              "ticks": ""
             }
            },
            "type": "scattermapbox"
           }
          ],
          "scatterpolar": [
           {
            "marker": {
             "colorbar": {
              "outlinewidth": 0,
              "ticks": ""
             }
            },
            "type": "scatterpolar"
           }
          ],
          "scatterpolargl": [
           {
            "marker": {
             "colorbar": {
              "outlinewidth": 0,
              "ticks": ""
             }
            },
            "type": "scatterpolargl"
           }
          ],
          "scatterternary": [
           {
            "marker": {
             "colorbar": {
              "outlinewidth": 0,
              "ticks": ""
             }
            },
            "type": "scatterternary"
           }
          ],
          "surface": [
           {
            "colorbar": {
             "outlinewidth": 0,
             "ticks": ""
            },
            "colorscale": [
             [
              0,
              "#0d0887"
             ],
             [
              0.1111111111111111,
              "#46039f"
             ],
             [
              0.2222222222222222,
              "#7201a8"
             ],
             [
              0.3333333333333333,
              "#9c179e"
             ],
             [
              0.4444444444444444,
              "#bd3786"
             ],
             [
              0.5555555555555556,
              "#d8576b"
             ],
             [
              0.6666666666666666,
              "#ed7953"
             ],
             [
              0.7777777777777778,
              "#fb9f3a"
             ],
             [
              0.8888888888888888,
              "#fdca26"
             ],
             [
              1,
              "#f0f921"
             ]
            ],
            "type": "surface"
           }
          ],
          "table": [
           {
            "cells": {
             "fill": {
              "color": "#EBF0F8"
             },
             "line": {
              "color": "white"
             }
            },
            "header": {
             "fill": {
              "color": "#C8D4E3"
             },
             "line": {
              "color": "white"
             }
            },
            "type": "table"
           }
          ]
         },
         "layout": {
          "annotationdefaults": {
           "arrowcolor": "#2a3f5f",
           "arrowhead": 0,
           "arrowwidth": 1
          },
          "autotypenumbers": "strict",
          "coloraxis": {
           "colorbar": {
            "outlinewidth": 0,
            "ticks": ""
           }
          },
          "colorscale": {
           "diverging": [
            [
             0,
             "#8e0152"
            ],
            [
             0.1,
             "#c51b7d"
            ],
            [
             0.2,
             "#de77ae"
            ],
            [
             0.3,
             "#f1b6da"
            ],
            [
             0.4,
             "#fde0ef"
            ],
            [
             0.5,
             "#f7f7f7"
            ],
            [
             0.6,
             "#e6f5d0"
            ],
            [
             0.7,
             "#b8e186"
            ],
            [
             0.8,
             "#7fbc41"
            ],
            [
             0.9,
             "#4d9221"
            ],
            [
             1,
             "#276419"
            ]
           ],
           "sequential": [
            [
             0,
             "#0d0887"
            ],
            [
             0.1111111111111111,
             "#46039f"
            ],
            [
             0.2222222222222222,
             "#7201a8"
            ],
            [
             0.3333333333333333,
             "#9c179e"
            ],
            [
             0.4444444444444444,
             "#bd3786"
            ],
            [
             0.5555555555555556,
             "#d8576b"
            ],
            [
             0.6666666666666666,
             "#ed7953"
            ],
            [
             0.7777777777777778,
             "#fb9f3a"
            ],
            [
             0.8888888888888888,
             "#fdca26"
            ],
            [
             1,
             "#f0f921"
            ]
           ],
           "sequentialminus": [
            [
             0,
             "#0d0887"
            ],
            [
             0.1111111111111111,
             "#46039f"
            ],
            [
             0.2222222222222222,
             "#7201a8"
            ],
            [
             0.3333333333333333,
             "#9c179e"
            ],
            [
             0.4444444444444444,
             "#bd3786"
            ],
            [
             0.5555555555555556,
             "#d8576b"
            ],
            [
             0.6666666666666666,
             "#ed7953"
            ],
            [
             0.7777777777777778,
             "#fb9f3a"
            ],
            [
             0.8888888888888888,
             "#fdca26"
            ],
            [
             1,
             "#f0f921"
            ]
           ]
          },
          "colorway": [
           "#636efa",
           "#EF553B",
           "#00cc96",
           "#ab63fa",
           "#FFA15A",
           "#19d3f3",
           "#FF6692",
           "#B6E880",
           "#FF97FF",
           "#FECB52"
          ],
          "font": {
           "color": "#2a3f5f"
          },
          "geo": {
           "bgcolor": "white",
           "lakecolor": "white",
           "landcolor": "#E5ECF6",
           "showlakes": true,
           "showland": true,
           "subunitcolor": "white"
          },
          "hoverlabel": {
           "align": "left"
          },
          "hovermode": "closest",
          "mapbox": {
           "style": "light"
          },
          "paper_bgcolor": "white",
          "plot_bgcolor": "#E5ECF6",
          "polar": {
           "angularaxis": {
            "gridcolor": "white",
            "linecolor": "white",
            "ticks": ""
           },
           "bgcolor": "#E5ECF6",
           "radialaxis": {
            "gridcolor": "white",
            "linecolor": "white",
            "ticks": ""
           }
          },
          "scene": {
           "xaxis": {
            "backgroundcolor": "#E5ECF6",
            "gridcolor": "white",
            "gridwidth": 2,
            "linecolor": "white",
            "showbackground": true,
            "ticks": "",
            "zerolinecolor": "white"
           },
           "yaxis": {
            "backgroundcolor": "#E5ECF6",
            "gridcolor": "white",
            "gridwidth": 2,
            "linecolor": "white",
            "showbackground": true,
            "ticks": "",
            "zerolinecolor": "white"
           },
           "zaxis": {
            "backgroundcolor": "#E5ECF6",
            "gridcolor": "white",
            "gridwidth": 2,
            "linecolor": "white",
            "showbackground": true,
            "ticks": "",
            "zerolinecolor": "white"
           }
          },
          "shapedefaults": {
           "line": {
            "color": "#2a3f5f"
           }
          },
          "ternary": {
           "aaxis": {
            "gridcolor": "white",
            "linecolor": "white",
            "ticks": ""
           },
           "baxis": {
            "gridcolor": "white",
            "linecolor": "white",
            "ticks": ""
           },
           "bgcolor": "#E5ECF6",
           "caxis": {
            "gridcolor": "white",
            "linecolor": "white",
            "ticks": ""
           }
          },
          "title": {
           "x": 0.05
          },
          "xaxis": {
           "automargin": true,
           "gridcolor": "white",
           "linecolor": "white",
           "ticks": "",
           "title": {
            "standoff": 15
           },
           "zerolinecolor": "white",
           "zerolinewidth": 2
          },
          "yaxis": {
           "automargin": true,
           "gridcolor": "white",
           "linecolor": "white",
           "ticks": "",
           "title": {
            "standoff": 15
           },
           "zerolinecolor": "white",
           "zerolinewidth": 2
          }
         }
        },
        "title": {
         "text": "Smoking Debris Items Per Volunteer"
        },
        "width": 1000,
        "xaxis": {
         "anchor": "y",
         "autorange": true,
         "domain": [
          0,
          1
         ],
         "range": [
          2013,
          2023
         ],
         "title": {
          "text": "Year"
         },
         "type": "linear"
        },
        "yaxis": {
         "anchor": "x",
         "autorange": true,
         "domain": [
          0,
          1
         ],
         "range": [
          -0.6670720946316567,
          12.674369798001479
         ],
         "title": {
          "text": "Number of Items Per Volunteer"
         },
         "type": "linear"
        }
       }
      },
      "text/html": [
       "<div>                            <div id=\"7432905b-11a1-47ea-aa76-572e2a8660cf\" class=\"plotly-graph-div\" style=\"height:600px; width:1000px;\"></div>            <script type=\"text/javascript\">                require([\"plotly\"], function(Plotly) {                    window.PLOTLYENV=window.PLOTLYENV || {};                                    if (document.getElementById(\"7432905b-11a1-47ea-aa76-572e2a8660cf\")) {                    Plotly.newPlot(                        \"7432905b-11a1-47ea-aa76-572e2a8660cf\",                        [{\"hovertemplate\":\"variable=Cigarette Butts\\u003cbr\\u003eindex=%{x}\\u003cbr\\u003evalue=%{y}\\u003cextra\\u003e\\u003c\\u002fextra\\u003e\",\"legendgroup\":\"Cigarette Butts\",\"line\":{\"color\":\"#636efa\",\"dash\":\"solid\"},\"marker\":{\"symbol\":\"circle\"},\"mode\":\"lines\",\"name\":\"Cigarette Butts\",\"orientation\":\"v\",\"showlegend\":true,\"x\":[2013,2014,2015,2016,2017,2018,2019,2020,2021,2022,2023],\"xaxis\":\"x\",\"y\":[8.889590592334494,12.007297703369822,7.313415424497732,5.33059028327267,3.7988916696460495,6.018150388936906,3.7859992178333983,7.8778237352847595,6.098761354252684,6.036824236092975,5.421258353297188],\"yaxis\":\"y\",\"type\":\"scatter\"},{\"hovertemplate\":\"variable=Cigar Tips\\u003cbr\\u003eindex=%{x}\\u003cbr\\u003evalue=%{y}\\u003cextra\\u003e\\u003c\\u002fextra\\u003e\",\"legendgroup\":\"Cigar Tips\",\"line\":{\"color\":\"#EF553B\",\"dash\":\"solid\"},\"marker\":{\"symbol\":\"circle\"},\"mode\":\"lines\",\"name\":\"Cigar Tips\",\"orientation\":\"v\",\"showlegend\":true,\"x\":[2013,2014,2015,2016,2017,2018,2019,2020,2021,2022,2023],\"xaxis\":\"x\",\"y\":[0.0,0.019639407598197038,0.0005184705119896306,0.05681278683335971,0.0305684662138005,0.03526361279170268,0.04348846304262808,0.0006363347120585428,0.06473988439306358,0.0334290937581614,0.003278275122935317],\"yaxis\":\"y\",\"type\":\"scatter\"},{\"hovertemplate\":\"variable=E-Waste\\u003cbr\\u003eindex=%{x}\\u003cbr\\u003evalue=%{y}\\u003cextra\\u003e\\u003c\\u002fextra\\u003e\",\"legendgroup\":\"E-Waste\",\"line\":{\"color\":\"#00cc96\",\"dash\":\"solid\"},\"marker\":{\"symbol\":\"circle\"},\"mode\":\"lines\",\"name\":\"E-Waste\",\"orientation\":\"v\",\"showlegend\":true,\"x\":[2013,2014,2015,2016,2017,2018,2019,2020,2021,2022,2023],\"xaxis\":\"x\",\"y\":[0.0,0.0,0.0,0.0,0.0,0.0,0.0,0.024180719058224626,0.040957886044591246,0.01906503003395142,0.02824360105913504],\"yaxis\":\"y\",\"type\":\"scatter\"},{\"hovertemplate\":\"variable=Tobacco\\u003cbr\\u003eindex=%{x}\\u003cbr\\u003evalue=%{y}\\u003cextra\\u003e\\u003c\\u002fextra\\u003e\",\"legendgroup\":\"Tobacco\",\"line\":{\"color\":\"#ab63fa\",\"dash\":\"solid\"},\"marker\":{\"symbol\":\"circle\"},\"mode\":\"lines\",\"name\":\"Tobacco\",\"orientation\":\"v\",\"showlegend\":true,\"x\":[2013,2014,2015,2016,2017,2018,2019,2020,2021,2022,2023],\"xaxis\":\"x\",\"y\":[0.3837108013937282,0.2870787722687272,0.25029163966299417,0.1093527456876088,0.027708258848766536,0.025583405358686258,0.07086429409464216,0.25071587655106586,0.18232865400495457,0.09454165578480021,0.053461102004791324],\"yaxis\":\"y\",\"type\":\"scatter\"},{\"hovertemplate\":\"variable=Lighters\\u003cbr\\u003eindex=%{x}\\u003cbr\\u003evalue=%{y}\\u003cextra\\u003e\\u003c\\u002fextra\\u003e\",\"legendgroup\":\"Lighters\",\"line\":{\"color\":\"#FFA15A\",\"dash\":\"solid\"},\"marker\":{\"symbol\":\"circle\"},\"mode\":\"lines\",\"name\":\"Lighters\",\"orientation\":\"v\",\"showlegend\":true,\"x\":[2013,2014,2015,2016,2017,2018,2019,2020,2021,2022,2023],\"xaxis\":\"x\",\"y\":[0.22136324041811847,0.10925091221292123,0.06817887232663643,0.05586326950466846,0.03575259206292456,0.04062229904926534,0.025342197888150175,0.03181673560292714,0.04128819157720892,0.1736745886654479,0.09053082839490606],\"yaxis\":\"y\",\"type\":\"scatter\"}],                        {\"template\":{\"data\":{\"histogram2dcontour\":[{\"type\":\"histogram2dcontour\",\"colorbar\":{\"outlinewidth\":0,\"ticks\":\"\"},\"colorscale\":[[0.0,\"#0d0887\"],[0.1111111111111111,\"#46039f\"],[0.2222222222222222,\"#7201a8\"],[0.3333333333333333,\"#9c179e\"],[0.4444444444444444,\"#bd3786\"],[0.5555555555555556,\"#d8576b\"],[0.6666666666666666,\"#ed7953\"],[0.7777777777777778,\"#fb9f3a\"],[0.8888888888888888,\"#fdca26\"],[1.0,\"#f0f921\"]]}],\"choropleth\":[{\"type\":\"choropleth\",\"colorbar\":{\"outlinewidth\":0,\"ticks\":\"\"}}],\"histogram2d\":[{\"type\":\"histogram2d\",\"colorbar\":{\"outlinewidth\":0,\"ticks\":\"\"},\"colorscale\":[[0.0,\"#0d0887\"],[0.1111111111111111,\"#46039f\"],[0.2222222222222222,\"#7201a8\"],[0.3333333333333333,\"#9c179e\"],[0.4444444444444444,\"#bd3786\"],[0.5555555555555556,\"#d8576b\"],[0.6666666666666666,\"#ed7953\"],[0.7777777777777778,\"#fb9f3a\"],[0.8888888888888888,\"#fdca26\"],[1.0,\"#f0f921\"]]}],\"heatmap\":[{\"type\":\"heatmap\",\"colorbar\":{\"outlinewidth\":0,\"ticks\":\"\"},\"colorscale\":[[0.0,\"#0d0887\"],[0.1111111111111111,\"#46039f\"],[0.2222222222222222,\"#7201a8\"],[0.3333333333333333,\"#9c179e\"],[0.4444444444444444,\"#bd3786\"],[0.5555555555555556,\"#d8576b\"],[0.6666666666666666,\"#ed7953\"],[0.7777777777777778,\"#fb9f3a\"],[0.8888888888888888,\"#fdca26\"],[1.0,\"#f0f921\"]]}],\"heatmapgl\":[{\"type\":\"heatmapgl\",\"colorbar\":{\"outlinewidth\":0,\"ticks\":\"\"},\"colorscale\":[[0.0,\"#0d0887\"],[0.1111111111111111,\"#46039f\"],[0.2222222222222222,\"#7201a8\"],[0.3333333333333333,\"#9c179e\"],[0.4444444444444444,\"#bd3786\"],[0.5555555555555556,\"#d8576b\"],[0.6666666666666666,\"#ed7953\"],[0.7777777777777778,\"#fb9f3a\"],[0.8888888888888888,\"#fdca26\"],[1.0,\"#f0f921\"]]}],\"contourcarpet\":[{\"type\":\"contourcarpet\",\"colorbar\":{\"outlinewidth\":0,\"ticks\":\"\"}}],\"contour\":[{\"type\":\"contour\",\"colorbar\":{\"outlinewidth\":0,\"ticks\":\"\"},\"colorscale\":[[0.0,\"#0d0887\"],[0.1111111111111111,\"#46039f\"],[0.2222222222222222,\"#7201a8\"],[0.3333333333333333,\"#9c179e\"],[0.4444444444444444,\"#bd3786\"],[0.5555555555555556,\"#d8576b\"],[0.6666666666666666,\"#ed7953\"],[0.7777777777777778,\"#fb9f3a\"],[0.8888888888888888,\"#fdca26\"],[1.0,\"#f0f921\"]]}],\"surface\":[{\"type\":\"surface\",\"colorbar\":{\"outlinewidth\":0,\"ticks\":\"\"},\"colorscale\":[[0.0,\"#0d0887\"],[0.1111111111111111,\"#46039f\"],[0.2222222222222222,\"#7201a8\"],[0.3333333333333333,\"#9c179e\"],[0.4444444444444444,\"#bd3786\"],[0.5555555555555556,\"#d8576b\"],[0.6666666666666666,\"#ed7953\"],[0.7777777777777778,\"#fb9f3a\"],[0.8888888888888888,\"#fdca26\"],[1.0,\"#f0f921\"]]}],\"mesh3d\":[{\"type\":\"mesh3d\",\"colorbar\":{\"outlinewidth\":0,\"ticks\":\"\"}}],\"scatter\":[{\"fillpattern\":{\"fillmode\":\"overlay\",\"size\":10,\"solidity\":0.2},\"type\":\"scatter\"}],\"parcoords\":[{\"type\":\"parcoords\",\"line\":{\"colorbar\":{\"outlinewidth\":0,\"ticks\":\"\"}}}],\"scatterpolargl\":[{\"type\":\"scatterpolargl\",\"marker\":{\"colorbar\":{\"outlinewidth\":0,\"ticks\":\"\"}}}],\"bar\":[{\"error_x\":{\"color\":\"#2a3f5f\"},\"error_y\":{\"color\":\"#2a3f5f\"},\"marker\":{\"line\":{\"color\":\"#E5ECF6\",\"width\":0.5},\"pattern\":{\"fillmode\":\"overlay\",\"size\":10,\"solidity\":0.2}},\"type\":\"bar\"}],\"scattergeo\":[{\"type\":\"scattergeo\",\"marker\":{\"colorbar\":{\"outlinewidth\":0,\"ticks\":\"\"}}}],\"scatterpolar\":[{\"type\":\"scatterpolar\",\"marker\":{\"colorbar\":{\"outlinewidth\":0,\"ticks\":\"\"}}}],\"histogram\":[{\"marker\":{\"pattern\":{\"fillmode\":\"overlay\",\"size\":10,\"solidity\":0.2}},\"type\":\"histogram\"}],\"scattergl\":[{\"type\":\"scattergl\",\"marker\":{\"colorbar\":{\"outlinewidth\":0,\"ticks\":\"\"}}}],\"scatter3d\":[{\"type\":\"scatter3d\",\"line\":{\"colorbar\":{\"outlinewidth\":0,\"ticks\":\"\"}},\"marker\":{\"colorbar\":{\"outlinewidth\":0,\"ticks\":\"\"}}}],\"scattermapbox\":[{\"type\":\"scattermapbox\",\"marker\":{\"colorbar\":{\"outlinewidth\":0,\"ticks\":\"\"}}}],\"scatterternary\":[{\"type\":\"scatterternary\",\"marker\":{\"colorbar\":{\"outlinewidth\":0,\"ticks\":\"\"}}}],\"scattercarpet\":[{\"type\":\"scattercarpet\",\"marker\":{\"colorbar\":{\"outlinewidth\":0,\"ticks\":\"\"}}}],\"carpet\":[{\"aaxis\":{\"endlinecolor\":\"#2a3f5f\",\"gridcolor\":\"white\",\"linecolor\":\"white\",\"minorgridcolor\":\"white\",\"startlinecolor\":\"#2a3f5f\"},\"baxis\":{\"endlinecolor\":\"#2a3f5f\",\"gridcolor\":\"white\",\"linecolor\":\"white\",\"minorgridcolor\":\"white\",\"startlinecolor\":\"#2a3f5f\"},\"type\":\"carpet\"}],\"table\":[{\"cells\":{\"fill\":{\"color\":\"#EBF0F8\"},\"line\":{\"color\":\"white\"}},\"header\":{\"fill\":{\"color\":\"#C8D4E3\"},\"line\":{\"color\":\"white\"}},\"type\":\"table\"}],\"barpolar\":[{\"marker\":{\"line\":{\"color\":\"#E5ECF6\",\"width\":0.5},\"pattern\":{\"fillmode\":\"overlay\",\"size\":10,\"solidity\":0.2}},\"type\":\"barpolar\"}],\"pie\":[{\"automargin\":true,\"type\":\"pie\"}]},\"layout\":{\"autotypenumbers\":\"strict\",\"colorway\":[\"#636efa\",\"#EF553B\",\"#00cc96\",\"#ab63fa\",\"#FFA15A\",\"#19d3f3\",\"#FF6692\",\"#B6E880\",\"#FF97FF\",\"#FECB52\"],\"font\":{\"color\":\"#2a3f5f\"},\"hovermode\":\"closest\",\"hoverlabel\":{\"align\":\"left\"},\"paper_bgcolor\":\"white\",\"plot_bgcolor\":\"#E5ECF6\",\"polar\":{\"bgcolor\":\"#E5ECF6\",\"angularaxis\":{\"gridcolor\":\"white\",\"linecolor\":\"white\",\"ticks\":\"\"},\"radialaxis\":{\"gridcolor\":\"white\",\"linecolor\":\"white\",\"ticks\":\"\"}},\"ternary\":{\"bgcolor\":\"#E5ECF6\",\"aaxis\":{\"gridcolor\":\"white\",\"linecolor\":\"white\",\"ticks\":\"\"},\"baxis\":{\"gridcolor\":\"white\",\"linecolor\":\"white\",\"ticks\":\"\"},\"caxis\":{\"gridcolor\":\"white\",\"linecolor\":\"white\",\"ticks\":\"\"}},\"coloraxis\":{\"colorbar\":{\"outlinewidth\":0,\"ticks\":\"\"}},\"colorscale\":{\"sequential\":[[0.0,\"#0d0887\"],[0.1111111111111111,\"#46039f\"],[0.2222222222222222,\"#7201a8\"],[0.3333333333333333,\"#9c179e\"],[0.4444444444444444,\"#bd3786\"],[0.5555555555555556,\"#d8576b\"],[0.6666666666666666,\"#ed7953\"],[0.7777777777777778,\"#fb9f3a\"],[0.8888888888888888,\"#fdca26\"],[1.0,\"#f0f921\"]],\"sequentialminus\":[[0.0,\"#0d0887\"],[0.1111111111111111,\"#46039f\"],[0.2222222222222222,\"#7201a8\"],[0.3333333333333333,\"#9c179e\"],[0.4444444444444444,\"#bd3786\"],[0.5555555555555556,\"#d8576b\"],[0.6666666666666666,\"#ed7953\"],[0.7777777777777778,\"#fb9f3a\"],[0.8888888888888888,\"#fdca26\"],[1.0,\"#f0f921\"]],\"diverging\":[[0,\"#8e0152\"],[0.1,\"#c51b7d\"],[0.2,\"#de77ae\"],[0.3,\"#f1b6da\"],[0.4,\"#fde0ef\"],[0.5,\"#f7f7f7\"],[0.6,\"#e6f5d0\"],[0.7,\"#b8e186\"],[0.8,\"#7fbc41\"],[0.9,\"#4d9221\"],[1,\"#276419\"]]},\"xaxis\":{\"gridcolor\":\"white\",\"linecolor\":\"white\",\"ticks\":\"\",\"title\":{\"standoff\":15},\"zerolinecolor\":\"white\",\"automargin\":true,\"zerolinewidth\":2},\"yaxis\":{\"gridcolor\":\"white\",\"linecolor\":\"white\",\"ticks\":\"\",\"title\":{\"standoff\":15},\"zerolinecolor\":\"white\",\"automargin\":true,\"zerolinewidth\":2},\"scene\":{\"xaxis\":{\"backgroundcolor\":\"#E5ECF6\",\"gridcolor\":\"white\",\"linecolor\":\"white\",\"showbackground\":true,\"ticks\":\"\",\"zerolinecolor\":\"white\",\"gridwidth\":2},\"yaxis\":{\"backgroundcolor\":\"#E5ECF6\",\"gridcolor\":\"white\",\"linecolor\":\"white\",\"showbackground\":true,\"ticks\":\"\",\"zerolinecolor\":\"white\",\"gridwidth\":2},\"zaxis\":{\"backgroundcolor\":\"#E5ECF6\",\"gridcolor\":\"white\",\"linecolor\":\"white\",\"showbackground\":true,\"ticks\":\"\",\"zerolinecolor\":\"white\",\"gridwidth\":2}},\"shapedefaults\":{\"line\":{\"color\":\"#2a3f5f\"}},\"annotationdefaults\":{\"arrowcolor\":\"#2a3f5f\",\"arrowhead\":0,\"arrowwidth\":1},\"geo\":{\"bgcolor\":\"white\",\"landcolor\":\"#E5ECF6\",\"subunitcolor\":\"white\",\"showland\":true,\"showlakes\":true,\"lakecolor\":\"white\"},\"title\":{\"x\":0.05},\"mapbox\":{\"style\":\"light\"}}},\"xaxis\":{\"anchor\":\"y\",\"domain\":[0.0,1.0],\"title\":{\"text\":\"Year\"}},\"yaxis\":{\"anchor\":\"x\",\"domain\":[0.0,1.0],\"title\":{\"text\":\"Number of Items Per Volunteer\"}},\"legend\":{\"title\":{\"text\":\"Debris Category\"},\"tracegroupgap\":0},\"margin\":{\"t\":60},\"autosize\":false,\"width\":1000,\"height\":600,\"title\":{\"text\":\"Smoking Debris Items Per Volunteer\"}},                        {\"responsive\": true}                    ).then(function(){\n",
       "                            \n",
       "var gd = document.getElementById('7432905b-11a1-47ea-aa76-572e2a8660cf');\n",
       "var x = new MutationObserver(function (mutations, observer) {{\n",
       "        var display = window.getComputedStyle(gd).display;\n",
       "        if (!display || display === 'none') {{\n",
       "            console.log([gd, 'removed!']);\n",
       "            Plotly.purge(gd);\n",
       "            observer.disconnect();\n",
       "        }}\n",
       "}});\n",
       "\n",
       "// Listen for the removal of the full notebook cells\n",
       "var notebookContainer = gd.closest('#notebook-container');\n",
       "if (notebookContainer) {{\n",
       "    x.observe(notebookContainer, {childList: true});\n",
       "}}\n",
       "\n",
       "// Listen for the clearing of the current output cell\n",
       "var outputEl = gd.closest('.output');\n",
       "if (outputEl) {{\n",
       "    x.observe(outputEl, {childList: true});\n",
       "}}\n",
       "\n",
       "                        })                };                });            </script>        </div>"
      ]
     },
     "metadata": {},
     "output_type": "display_data"
    }
   ],
   "source": [
    "fig = graph_maker.smoking_line_graph()\n",
    "fig.show()"
   ]
  },
  {
   "cell_type": "markdown",
   "id": "4b5f1fb1-80aa-4ad4-976c-8b84d9b11a09",
   "metadata": {},
   "source": [
    "Cigarette butts is by far the worst polluter among smoking categories and the second worst overall after plastic pieces.\n",
    "\n",
    "## Smoking Ban on State Beaches\n",
    "\n",
    "In 2020, a smoking ban on state beaches took effect. Here we separate the data into state beaches and not state beaches and look at the number of cigarette butts cleaned up per volunteer. The separation was made by searching for the keywords 'Beach' and 'State', so the cleanup site names needs to be verified to make sure 'State' is in the name if it's a state beach. Capitola and Cowell/Main beaches were excluded from the dataset since I believe there's been a ban on smoking there since 2004."
   ]
  },
  {
   "cell_type": "code",
   "execution_count": 19,
   "id": "3695e579-5c1c-437e-adf3-c4b70a9c776b",
   "metadata": {},
   "outputs": [
    {
     "data": {
      "application/vnd.plotly.v1+json": {
       "config": {
        "plotlyServerURL": "https://plot.ly"
       },
       "data": [
        {
         "name": "State",
         "type": "scatter",
         "x": [
          2013,
          2014,
          2015,
          2016,
          2017,
          2018,
          2019,
          2020,
          2021,
          2022,
          2023
         ],
         "y": [
          6.590542832909245,
          6.299226139294927,
          3.4372980910425843,
          2.3624377380603576,
          1.7949693510885647,
          3.5520149953139644,
          2.286088808782566,
          5.535580524344569,
          4.581896551724138,
          3.2661436330718163,
          2.3851216022889843
         ]
        },
        {
         "name": "Not State",
         "type": "scatter",
         "x": [
          2013,
          2014,
          2015,
          2016,
          2017,
          2018,
          2019,
          2020,
          2021,
          2022,
          2023
         ],
         "y": [
          11.840796019900498,
          19.451906659077974,
          10.767527675276753,
          10.10135135135135,
          3.6899791231732775,
          7.180982820615261,
          6.961980548187444,
          9.336557059961315,
          8.283112582781458,
          5.779670641680863,
          5.61340206185567
         ]
        }
       ],
       "layout": {
        "annotations": [
         {
          "showarrow": false,
          "text": "Smoking Ban",
          "x": 2019.5,
          "xanchor": "left",
          "xref": "x",
          "y": 1,
          "yanchor": "top",
          "yref": "y domain"
         }
        ],
        "autosize": false,
        "height": 600,
        "legend": {
         "title": {
          "text": "Beach Type"
         }
        },
        "shapes": [
         {
          "line": {
           "dash": "dot"
          },
          "type": "line",
          "x0": 2019.5,
          "x1": 2019.5,
          "xref": "x",
          "y0": 0,
          "y1": 1,
          "yref": "y domain"
         }
        ],
        "template": {
         "data": {
          "bar": [
           {
            "error_x": {
             "color": "#2a3f5f"
            },
            "error_y": {
             "color": "#2a3f5f"
            },
            "marker": {
             "line": {
              "color": "#E5ECF6",
              "width": 0.5
             },
             "pattern": {
              "fillmode": "overlay",
              "size": 10,
              "solidity": 0.2
             }
            },
            "type": "bar"
           }
          ],
          "barpolar": [
           {
            "marker": {
             "line": {
              "color": "#E5ECF6",
              "width": 0.5
             },
             "pattern": {
              "fillmode": "overlay",
              "size": 10,
              "solidity": 0.2
             }
            },
            "type": "barpolar"
           }
          ],
          "carpet": [
           {
            "aaxis": {
             "endlinecolor": "#2a3f5f",
             "gridcolor": "white",
             "linecolor": "white",
             "minorgridcolor": "white",
             "startlinecolor": "#2a3f5f"
            },
            "baxis": {
             "endlinecolor": "#2a3f5f",
             "gridcolor": "white",
             "linecolor": "white",
             "minorgridcolor": "white",
             "startlinecolor": "#2a3f5f"
            },
            "type": "carpet"
           }
          ],
          "choropleth": [
           {
            "colorbar": {
             "outlinewidth": 0,
             "ticks": ""
            },
            "type": "choropleth"
           }
          ],
          "contour": [
           {
            "colorbar": {
             "outlinewidth": 0,
             "ticks": ""
            },
            "colorscale": [
             [
              0,
              "#0d0887"
             ],
             [
              0.1111111111111111,
              "#46039f"
             ],
             [
              0.2222222222222222,
              "#7201a8"
             ],
             [
              0.3333333333333333,
              "#9c179e"
             ],
             [
              0.4444444444444444,
              "#bd3786"
             ],
             [
              0.5555555555555556,
              "#d8576b"
             ],
             [
              0.6666666666666666,
              "#ed7953"
             ],
             [
              0.7777777777777778,
              "#fb9f3a"
             ],
             [
              0.8888888888888888,
              "#fdca26"
             ],
             [
              1,
              "#f0f921"
             ]
            ],
            "type": "contour"
           }
          ],
          "contourcarpet": [
           {
            "colorbar": {
             "outlinewidth": 0,
             "ticks": ""
            },
            "type": "contourcarpet"
           }
          ],
          "heatmap": [
           {
            "colorbar": {
             "outlinewidth": 0,
             "ticks": ""
            },
            "colorscale": [
             [
              0,
              "#0d0887"
             ],
             [
              0.1111111111111111,
              "#46039f"
             ],
             [
              0.2222222222222222,
              "#7201a8"
             ],
             [
              0.3333333333333333,
              "#9c179e"
             ],
             [
              0.4444444444444444,
              "#bd3786"
             ],
             [
              0.5555555555555556,
              "#d8576b"
             ],
             [
              0.6666666666666666,
              "#ed7953"
             ],
             [
              0.7777777777777778,
              "#fb9f3a"
             ],
             [
              0.8888888888888888,
              "#fdca26"
             ],
             [
              1,
              "#f0f921"
             ]
            ],
            "type": "heatmap"
           }
          ],
          "heatmapgl": [
           {
            "colorbar": {
             "outlinewidth": 0,
             "ticks": ""
            },
            "colorscale": [
             [
              0,
              "#0d0887"
             ],
             [
              0.1111111111111111,
              "#46039f"
             ],
             [
              0.2222222222222222,
              "#7201a8"
             ],
             [
              0.3333333333333333,
              "#9c179e"
             ],
             [
              0.4444444444444444,
              "#bd3786"
             ],
             [
              0.5555555555555556,
              "#d8576b"
             ],
             [
              0.6666666666666666,
              "#ed7953"
             ],
             [
              0.7777777777777778,
              "#fb9f3a"
             ],
             [
              0.8888888888888888,
              "#fdca26"
             ],
             [
              1,
              "#f0f921"
             ]
            ],
            "type": "heatmapgl"
           }
          ],
          "histogram": [
           {
            "marker": {
             "pattern": {
              "fillmode": "overlay",
              "size": 10,
              "solidity": 0.2
             }
            },
            "type": "histogram"
           }
          ],
          "histogram2d": [
           {
            "colorbar": {
             "outlinewidth": 0,
             "ticks": ""
            },
            "colorscale": [
             [
              0,
              "#0d0887"
             ],
             [
              0.1111111111111111,
              "#46039f"
             ],
             [
              0.2222222222222222,
              "#7201a8"
             ],
             [
              0.3333333333333333,
              "#9c179e"
             ],
             [
              0.4444444444444444,
              "#bd3786"
             ],
             [
              0.5555555555555556,
              "#d8576b"
             ],
             [
              0.6666666666666666,
              "#ed7953"
             ],
             [
              0.7777777777777778,
              "#fb9f3a"
             ],
             [
              0.8888888888888888,
              "#fdca26"
             ],
             [
              1,
              "#f0f921"
             ]
            ],
            "type": "histogram2d"
           }
          ],
          "histogram2dcontour": [
           {
            "colorbar": {
             "outlinewidth": 0,
             "ticks": ""
            },
            "colorscale": [
             [
              0,
              "#0d0887"
             ],
             [
              0.1111111111111111,
              "#46039f"
             ],
             [
              0.2222222222222222,
              "#7201a8"
             ],
             [
              0.3333333333333333,
              "#9c179e"
             ],
             [
              0.4444444444444444,
              "#bd3786"
             ],
             [
              0.5555555555555556,
              "#d8576b"
             ],
             [
              0.6666666666666666,
              "#ed7953"
             ],
             [
              0.7777777777777778,
              "#fb9f3a"
             ],
             [
              0.8888888888888888,
              "#fdca26"
             ],
             [
              1,
              "#f0f921"
             ]
            ],
            "type": "histogram2dcontour"
           }
          ],
          "mesh3d": [
           {
            "colorbar": {
             "outlinewidth": 0,
             "ticks": ""
            },
            "type": "mesh3d"
           }
          ],
          "parcoords": [
           {
            "line": {
             "colorbar": {
              "outlinewidth": 0,
              "ticks": ""
             }
            },
            "type": "parcoords"
           }
          ],
          "pie": [
           {
            "automargin": true,
            "type": "pie"
           }
          ],
          "scatter": [
           {
            "fillpattern": {
             "fillmode": "overlay",
             "size": 10,
             "solidity": 0.2
            },
            "type": "scatter"
           }
          ],
          "scatter3d": [
           {
            "line": {
             "colorbar": {
              "outlinewidth": 0,
              "ticks": ""
             }
            },
            "marker": {
             "colorbar": {
              "outlinewidth": 0,
              "ticks": ""
             }
            },
            "type": "scatter3d"
           }
          ],
          "scattercarpet": [
           {
            "marker": {
             "colorbar": {
              "outlinewidth": 0,
              "ticks": ""
             }
            },
            "type": "scattercarpet"
           }
          ],
          "scattergeo": [
           {
            "marker": {
             "colorbar": {
              "outlinewidth": 0,
              "ticks": ""
             }
            },
            "type": "scattergeo"
           }
          ],
          "scattergl": [
           {
            "marker": {
             "colorbar": {
              "outlinewidth": 0,
              "ticks": ""
             }
            },
            "type": "scattergl"
           }
          ],
          "scattermapbox": [
           {
            "marker": {
             "colorbar": {
              "outlinewidth": 0,
              "ticks": ""
             }
            },
            "type": "scattermapbox"
           }
          ],
          "scatterpolar": [
           {
            "marker": {
             "colorbar": {
              "outlinewidth": 0,
              "ticks": ""
             }
            },
            "type": "scatterpolar"
           }
          ],
          "scatterpolargl": [
           {
            "marker": {
             "colorbar": {
              "outlinewidth": 0,
              "ticks": ""
             }
            },
            "type": "scatterpolargl"
           }
          ],
          "scatterternary": [
           {
            "marker": {
             "colorbar": {
              "outlinewidth": 0,
              "ticks": ""
             }
            },
            "type": "scatterternary"
           }
          ],
          "surface": [
           {
            "colorbar": {
             "outlinewidth": 0,
             "ticks": ""
            },
            "colorscale": [
             [
              0,
              "#0d0887"
             ],
             [
              0.1111111111111111,
              "#46039f"
             ],
             [
              0.2222222222222222,
              "#7201a8"
             ],
             [
              0.3333333333333333,
              "#9c179e"
             ],
             [
              0.4444444444444444,
              "#bd3786"
             ],
             [
              0.5555555555555556,
              "#d8576b"
             ],
             [
              0.6666666666666666,
              "#ed7953"
             ],
             [
              0.7777777777777778,
              "#fb9f3a"
             ],
             [
              0.8888888888888888,
              "#fdca26"
             ],
             [
              1,
              "#f0f921"
             ]
            ],
            "type": "surface"
           }
          ],
          "table": [
           {
            "cells": {
             "fill": {
              "color": "#EBF0F8"
             },
             "line": {
              "color": "white"
             }
            },
            "header": {
             "fill": {
              "color": "#C8D4E3"
             },
             "line": {
              "color": "white"
             }
            },
            "type": "table"
           }
          ]
         },
         "layout": {
          "annotationdefaults": {
           "arrowcolor": "#2a3f5f",
           "arrowhead": 0,
           "arrowwidth": 1
          },
          "autotypenumbers": "strict",
          "coloraxis": {
           "colorbar": {
            "outlinewidth": 0,
            "ticks": ""
           }
          },
          "colorscale": {
           "diverging": [
            [
             0,
             "#8e0152"
            ],
            [
             0.1,
             "#c51b7d"
            ],
            [
             0.2,
             "#de77ae"
            ],
            [
             0.3,
             "#f1b6da"
            ],
            [
             0.4,
             "#fde0ef"
            ],
            [
             0.5,
             "#f7f7f7"
            ],
            [
             0.6,
             "#e6f5d0"
            ],
            [
             0.7,
             "#b8e186"
            ],
            [
             0.8,
             "#7fbc41"
            ],
            [
             0.9,
             "#4d9221"
            ],
            [
             1,
             "#276419"
            ]
           ],
           "sequential": [
            [
             0,
             "#0d0887"
            ],
            [
             0.1111111111111111,
             "#46039f"
            ],
            [
             0.2222222222222222,
             "#7201a8"
            ],
            [
             0.3333333333333333,
             "#9c179e"
            ],
            [
             0.4444444444444444,
             "#bd3786"
            ],
            [
             0.5555555555555556,
             "#d8576b"
            ],
            [
             0.6666666666666666,
             "#ed7953"
            ],
            [
             0.7777777777777778,
             "#fb9f3a"
            ],
            [
             0.8888888888888888,
             "#fdca26"
            ],
            [
             1,
             "#f0f921"
            ]
           ],
           "sequentialminus": [
            [
             0,
             "#0d0887"
            ],
            [
             0.1111111111111111,
             "#46039f"
            ],
            [
             0.2222222222222222,
             "#7201a8"
            ],
            [
             0.3333333333333333,
             "#9c179e"
            ],
            [
             0.4444444444444444,
             "#bd3786"
            ],
            [
             0.5555555555555556,
             "#d8576b"
            ],
            [
             0.6666666666666666,
             "#ed7953"
            ],
            [
             0.7777777777777778,
             "#fb9f3a"
            ],
            [
             0.8888888888888888,
             "#fdca26"
            ],
            [
             1,
             "#f0f921"
            ]
           ]
          },
          "colorway": [
           "#636efa",
           "#EF553B",
           "#00cc96",
           "#ab63fa",
           "#FFA15A",
           "#19d3f3",
           "#FF6692",
           "#B6E880",
           "#FF97FF",
           "#FECB52"
          ],
          "font": {
           "color": "#2a3f5f"
          },
          "geo": {
           "bgcolor": "white",
           "lakecolor": "white",
           "landcolor": "#E5ECF6",
           "showlakes": true,
           "showland": true,
           "subunitcolor": "white"
          },
          "hoverlabel": {
           "align": "left"
          },
          "hovermode": "closest",
          "mapbox": {
           "style": "light"
          },
          "paper_bgcolor": "white",
          "plot_bgcolor": "#E5ECF6",
          "polar": {
           "angularaxis": {
            "gridcolor": "white",
            "linecolor": "white",
            "ticks": ""
           },
           "bgcolor": "#E5ECF6",
           "radialaxis": {
            "gridcolor": "white",
            "linecolor": "white",
            "ticks": ""
           }
          },
          "scene": {
           "xaxis": {
            "backgroundcolor": "#E5ECF6",
            "gridcolor": "white",
            "gridwidth": 2,
            "linecolor": "white",
            "showbackground": true,
            "ticks": "",
            "zerolinecolor": "white"
           },
           "yaxis": {
            "backgroundcolor": "#E5ECF6",
            "gridcolor": "white",
            "gridwidth": 2,
            "linecolor": "white",
            "showbackground": true,
            "ticks": "",
            "zerolinecolor": "white"
           },
           "zaxis": {
            "backgroundcolor": "#E5ECF6",
            "gridcolor": "white",
            "gridwidth": 2,
            "linecolor": "white",
            "showbackground": true,
            "ticks": "",
            "zerolinecolor": "white"
           }
          },
          "shapedefaults": {
           "line": {
            "color": "#2a3f5f"
           }
          },
          "ternary": {
           "aaxis": {
            "gridcolor": "white",
            "linecolor": "white",
            "ticks": ""
           },
           "baxis": {
            "gridcolor": "white",
            "linecolor": "white",
            "ticks": ""
           },
           "bgcolor": "#E5ECF6",
           "caxis": {
            "gridcolor": "white",
            "linecolor": "white",
            "ticks": ""
           }
          },
          "title": {
           "x": 0.05
          },
          "xaxis": {
           "automargin": true,
           "gridcolor": "white",
           "linecolor": "white",
           "ticks": "",
           "title": {
            "standoff": 15
           },
           "zerolinecolor": "white",
           "zerolinewidth": 2
          },
          "yaxis": {
           "automargin": true,
           "gridcolor": "white",
           "linecolor": "white",
           "ticks": "",
           "title": {
            "standoff": 15
           },
           "zerolinecolor": "white",
           "zerolinewidth": 2
          }
         }
        },
        "title": {
         "text": "Cigarette Butts Per Volunteer on State vs Not State Beaches"
        },
        "width": 1000,
        "xaxis": {
         "autorange": true,
         "range": [
          2012.3851409052093,
          2023.6148590947907
         ],
         "title": {
          "text": "Year"
         },
         "type": "linear"
        },
        "yaxis": {
         "autorange": true,
         "range": [
          0.6154573446844138,
          20.631418665482123
         ],
         "title": {
          "text": "Cigarette Butts Per Volunteer"
         },
         "type": "linear"
        }
       }
      },
      "text/html": [
       "<div>                            <div id=\"6081a43e-a497-4217-b3ae-e309eab4e152\" class=\"plotly-graph-div\" style=\"height:600px; width:1000px;\"></div>            <script type=\"text/javascript\">                require([\"plotly\"], function(Plotly) {                    window.PLOTLYENV=window.PLOTLYENV || {};                                    if (document.getElementById(\"6081a43e-a497-4217-b3ae-e309eab4e152\")) {                    Plotly.newPlot(                        \"6081a43e-a497-4217-b3ae-e309eab4e152\",                        [{\"name\":\"State\",\"x\":[2013,2014,2015,2016,2017,2018,2019,2020,2021,2022,2023],\"y\":[6.590542832909245,6.299226139294927,3.4372980910425843,2.3624377380603576,1.7949693510885647,3.5520149953139644,2.286088808782566,5.535580524344569,4.581896551724138,3.2661436330718163,2.3851216022889843],\"type\":\"scatter\"},{\"name\":\"Not State\",\"x\":[2013,2014,2015,2016,2017,2018,2019,2020,2021,2022,2023],\"y\":[11.840796019900498,19.451906659077974,10.767527675276753,10.10135135135135,3.6899791231732775,7.180982820615261,6.961980548187444,9.336557059961315,8.283112582781458,5.779670641680863,5.61340206185567],\"type\":\"scatter\"}],                        {\"template\":{\"data\":{\"histogram2dcontour\":[{\"type\":\"histogram2dcontour\",\"colorbar\":{\"outlinewidth\":0,\"ticks\":\"\"},\"colorscale\":[[0.0,\"#0d0887\"],[0.1111111111111111,\"#46039f\"],[0.2222222222222222,\"#7201a8\"],[0.3333333333333333,\"#9c179e\"],[0.4444444444444444,\"#bd3786\"],[0.5555555555555556,\"#d8576b\"],[0.6666666666666666,\"#ed7953\"],[0.7777777777777778,\"#fb9f3a\"],[0.8888888888888888,\"#fdca26\"],[1.0,\"#f0f921\"]]}],\"choropleth\":[{\"type\":\"choropleth\",\"colorbar\":{\"outlinewidth\":0,\"ticks\":\"\"}}],\"histogram2d\":[{\"type\":\"histogram2d\",\"colorbar\":{\"outlinewidth\":0,\"ticks\":\"\"},\"colorscale\":[[0.0,\"#0d0887\"],[0.1111111111111111,\"#46039f\"],[0.2222222222222222,\"#7201a8\"],[0.3333333333333333,\"#9c179e\"],[0.4444444444444444,\"#bd3786\"],[0.5555555555555556,\"#d8576b\"],[0.6666666666666666,\"#ed7953\"],[0.7777777777777778,\"#fb9f3a\"],[0.8888888888888888,\"#fdca26\"],[1.0,\"#f0f921\"]]}],\"heatmap\":[{\"type\":\"heatmap\",\"colorbar\":{\"outlinewidth\":0,\"ticks\":\"\"},\"colorscale\":[[0.0,\"#0d0887\"],[0.1111111111111111,\"#46039f\"],[0.2222222222222222,\"#7201a8\"],[0.3333333333333333,\"#9c179e\"],[0.4444444444444444,\"#bd3786\"],[0.5555555555555556,\"#d8576b\"],[0.6666666666666666,\"#ed7953\"],[0.7777777777777778,\"#fb9f3a\"],[0.8888888888888888,\"#fdca26\"],[1.0,\"#f0f921\"]]}],\"heatmapgl\":[{\"type\":\"heatmapgl\",\"colorbar\":{\"outlinewidth\":0,\"ticks\":\"\"},\"colorscale\":[[0.0,\"#0d0887\"],[0.1111111111111111,\"#46039f\"],[0.2222222222222222,\"#7201a8\"],[0.3333333333333333,\"#9c179e\"],[0.4444444444444444,\"#bd3786\"],[0.5555555555555556,\"#d8576b\"],[0.6666666666666666,\"#ed7953\"],[0.7777777777777778,\"#fb9f3a\"],[0.8888888888888888,\"#fdca26\"],[1.0,\"#f0f921\"]]}],\"contourcarpet\":[{\"type\":\"contourcarpet\",\"colorbar\":{\"outlinewidth\":0,\"ticks\":\"\"}}],\"contour\":[{\"type\":\"contour\",\"colorbar\":{\"outlinewidth\":0,\"ticks\":\"\"},\"colorscale\":[[0.0,\"#0d0887\"],[0.1111111111111111,\"#46039f\"],[0.2222222222222222,\"#7201a8\"],[0.3333333333333333,\"#9c179e\"],[0.4444444444444444,\"#bd3786\"],[0.5555555555555556,\"#d8576b\"],[0.6666666666666666,\"#ed7953\"],[0.7777777777777778,\"#fb9f3a\"],[0.8888888888888888,\"#fdca26\"],[1.0,\"#f0f921\"]]}],\"surface\":[{\"type\":\"surface\",\"colorbar\":{\"outlinewidth\":0,\"ticks\":\"\"},\"colorscale\":[[0.0,\"#0d0887\"],[0.1111111111111111,\"#46039f\"],[0.2222222222222222,\"#7201a8\"],[0.3333333333333333,\"#9c179e\"],[0.4444444444444444,\"#bd3786\"],[0.5555555555555556,\"#d8576b\"],[0.6666666666666666,\"#ed7953\"],[0.7777777777777778,\"#fb9f3a\"],[0.8888888888888888,\"#fdca26\"],[1.0,\"#f0f921\"]]}],\"mesh3d\":[{\"type\":\"mesh3d\",\"colorbar\":{\"outlinewidth\":0,\"ticks\":\"\"}}],\"scatter\":[{\"fillpattern\":{\"fillmode\":\"overlay\",\"size\":10,\"solidity\":0.2},\"type\":\"scatter\"}],\"parcoords\":[{\"type\":\"parcoords\",\"line\":{\"colorbar\":{\"outlinewidth\":0,\"ticks\":\"\"}}}],\"scatterpolargl\":[{\"type\":\"scatterpolargl\",\"marker\":{\"colorbar\":{\"outlinewidth\":0,\"ticks\":\"\"}}}],\"bar\":[{\"error_x\":{\"color\":\"#2a3f5f\"},\"error_y\":{\"color\":\"#2a3f5f\"},\"marker\":{\"line\":{\"color\":\"#E5ECF6\",\"width\":0.5},\"pattern\":{\"fillmode\":\"overlay\",\"size\":10,\"solidity\":0.2}},\"type\":\"bar\"}],\"scattergeo\":[{\"type\":\"scattergeo\",\"marker\":{\"colorbar\":{\"outlinewidth\":0,\"ticks\":\"\"}}}],\"scatterpolar\":[{\"type\":\"scatterpolar\",\"marker\":{\"colorbar\":{\"outlinewidth\":0,\"ticks\":\"\"}}}],\"histogram\":[{\"marker\":{\"pattern\":{\"fillmode\":\"overlay\",\"size\":10,\"solidity\":0.2}},\"type\":\"histogram\"}],\"scattergl\":[{\"type\":\"scattergl\",\"marker\":{\"colorbar\":{\"outlinewidth\":0,\"ticks\":\"\"}}}],\"scatter3d\":[{\"type\":\"scatter3d\",\"line\":{\"colorbar\":{\"outlinewidth\":0,\"ticks\":\"\"}},\"marker\":{\"colorbar\":{\"outlinewidth\":0,\"ticks\":\"\"}}}],\"scattermapbox\":[{\"type\":\"scattermapbox\",\"marker\":{\"colorbar\":{\"outlinewidth\":0,\"ticks\":\"\"}}}],\"scatterternary\":[{\"type\":\"scatterternary\",\"marker\":{\"colorbar\":{\"outlinewidth\":0,\"ticks\":\"\"}}}],\"scattercarpet\":[{\"type\":\"scattercarpet\",\"marker\":{\"colorbar\":{\"outlinewidth\":0,\"ticks\":\"\"}}}],\"carpet\":[{\"aaxis\":{\"endlinecolor\":\"#2a3f5f\",\"gridcolor\":\"white\",\"linecolor\":\"white\",\"minorgridcolor\":\"white\",\"startlinecolor\":\"#2a3f5f\"},\"baxis\":{\"endlinecolor\":\"#2a3f5f\",\"gridcolor\":\"white\",\"linecolor\":\"white\",\"minorgridcolor\":\"white\",\"startlinecolor\":\"#2a3f5f\"},\"type\":\"carpet\"}],\"table\":[{\"cells\":{\"fill\":{\"color\":\"#EBF0F8\"},\"line\":{\"color\":\"white\"}},\"header\":{\"fill\":{\"color\":\"#C8D4E3\"},\"line\":{\"color\":\"white\"}},\"type\":\"table\"}],\"barpolar\":[{\"marker\":{\"line\":{\"color\":\"#E5ECF6\",\"width\":0.5},\"pattern\":{\"fillmode\":\"overlay\",\"size\":10,\"solidity\":0.2}},\"type\":\"barpolar\"}],\"pie\":[{\"automargin\":true,\"type\":\"pie\"}]},\"layout\":{\"autotypenumbers\":\"strict\",\"colorway\":[\"#636efa\",\"#EF553B\",\"#00cc96\",\"#ab63fa\",\"#FFA15A\",\"#19d3f3\",\"#FF6692\",\"#B6E880\",\"#FF97FF\",\"#FECB52\"],\"font\":{\"color\":\"#2a3f5f\"},\"hovermode\":\"closest\",\"hoverlabel\":{\"align\":\"left\"},\"paper_bgcolor\":\"white\",\"plot_bgcolor\":\"#E5ECF6\",\"polar\":{\"bgcolor\":\"#E5ECF6\",\"angularaxis\":{\"gridcolor\":\"white\",\"linecolor\":\"white\",\"ticks\":\"\"},\"radialaxis\":{\"gridcolor\":\"white\",\"linecolor\":\"white\",\"ticks\":\"\"}},\"ternary\":{\"bgcolor\":\"#E5ECF6\",\"aaxis\":{\"gridcolor\":\"white\",\"linecolor\":\"white\",\"ticks\":\"\"},\"baxis\":{\"gridcolor\":\"white\",\"linecolor\":\"white\",\"ticks\":\"\"},\"caxis\":{\"gridcolor\":\"white\",\"linecolor\":\"white\",\"ticks\":\"\"}},\"coloraxis\":{\"colorbar\":{\"outlinewidth\":0,\"ticks\":\"\"}},\"colorscale\":{\"sequential\":[[0.0,\"#0d0887\"],[0.1111111111111111,\"#46039f\"],[0.2222222222222222,\"#7201a8\"],[0.3333333333333333,\"#9c179e\"],[0.4444444444444444,\"#bd3786\"],[0.5555555555555556,\"#d8576b\"],[0.6666666666666666,\"#ed7953\"],[0.7777777777777778,\"#fb9f3a\"],[0.8888888888888888,\"#fdca26\"],[1.0,\"#f0f921\"]],\"sequentialminus\":[[0.0,\"#0d0887\"],[0.1111111111111111,\"#46039f\"],[0.2222222222222222,\"#7201a8\"],[0.3333333333333333,\"#9c179e\"],[0.4444444444444444,\"#bd3786\"],[0.5555555555555556,\"#d8576b\"],[0.6666666666666666,\"#ed7953\"],[0.7777777777777778,\"#fb9f3a\"],[0.8888888888888888,\"#fdca26\"],[1.0,\"#f0f921\"]],\"diverging\":[[0,\"#8e0152\"],[0.1,\"#c51b7d\"],[0.2,\"#de77ae\"],[0.3,\"#f1b6da\"],[0.4,\"#fde0ef\"],[0.5,\"#f7f7f7\"],[0.6,\"#e6f5d0\"],[0.7,\"#b8e186\"],[0.8,\"#7fbc41\"],[0.9,\"#4d9221\"],[1,\"#276419\"]]},\"xaxis\":{\"gridcolor\":\"white\",\"linecolor\":\"white\",\"ticks\":\"\",\"title\":{\"standoff\":15},\"zerolinecolor\":\"white\",\"automargin\":true,\"zerolinewidth\":2},\"yaxis\":{\"gridcolor\":\"white\",\"linecolor\":\"white\",\"ticks\":\"\",\"title\":{\"standoff\":15},\"zerolinecolor\":\"white\",\"automargin\":true,\"zerolinewidth\":2},\"scene\":{\"xaxis\":{\"backgroundcolor\":\"#E5ECF6\",\"gridcolor\":\"white\",\"linecolor\":\"white\",\"showbackground\":true,\"ticks\":\"\",\"zerolinecolor\":\"white\",\"gridwidth\":2},\"yaxis\":{\"backgroundcolor\":\"#E5ECF6\",\"gridcolor\":\"white\",\"linecolor\":\"white\",\"showbackground\":true,\"ticks\":\"\",\"zerolinecolor\":\"white\",\"gridwidth\":2},\"zaxis\":{\"backgroundcolor\":\"#E5ECF6\",\"gridcolor\":\"white\",\"linecolor\":\"white\",\"showbackground\":true,\"ticks\":\"\",\"zerolinecolor\":\"white\",\"gridwidth\":2}},\"shapedefaults\":{\"line\":{\"color\":\"#2a3f5f\"}},\"annotationdefaults\":{\"arrowcolor\":\"#2a3f5f\",\"arrowhead\":0,\"arrowwidth\":1},\"geo\":{\"bgcolor\":\"white\",\"landcolor\":\"#E5ECF6\",\"subunitcolor\":\"white\",\"showland\":true,\"showlakes\":true,\"lakecolor\":\"white\"},\"title\":{\"x\":0.05},\"mapbox\":{\"style\":\"light\"}}},\"autosize\":false,\"width\":1000,\"height\":600,\"title\":{\"text\":\"Cigarette Butts Per Volunteer on State vs Not State Beaches\"},\"yaxis\":{\"title\":{\"text\":\"Cigarette Butts Per Volunteer\"}},\"xaxis\":{\"title\":{\"text\":\"Year\"}},\"legend\":{\"title\":{\"text\":\"Beach Type\"}},\"shapes\":[{\"line\":{\"dash\":\"dot\"},\"type\":\"line\",\"x0\":2019.5,\"x1\":2019.5,\"xref\":\"x\",\"y0\":0,\"y1\":1,\"yref\":\"y domain\"}],\"annotations\":[{\"showarrow\":false,\"text\":\"Smoking Ban\",\"x\":2019.5,\"xanchor\":\"left\",\"xref\":\"x\",\"y\":1,\"yanchor\":\"top\",\"yref\":\"y domain\"}]},                        {\"responsive\": true}                    ).then(function(){\n",
       "                            \n",
       "var gd = document.getElementById('6081a43e-a497-4217-b3ae-e309eab4e152');\n",
       "var x = new MutationObserver(function (mutations, observer) {{\n",
       "        var display = window.getComputedStyle(gd).display;\n",
       "        if (!display || display === 'none') {{\n",
       "            console.log([gd, 'removed!']);\n",
       "            Plotly.purge(gd);\n",
       "            observer.disconnect();\n",
       "        }}\n",
       "}});\n",
       "\n",
       "// Listen for the removal of the full notebook cells\n",
       "var notebookContainer = gd.closest('#notebook-container');\n",
       "if (notebookContainer) {{\n",
       "    x.observe(notebookContainer, {childList: true});\n",
       "}}\n",
       "\n",
       "// Listen for the clearing of the current output cell\n",
       "var outputEl = gd.closest('.output');\n",
       "if (outputEl) {{\n",
       "    x.observe(outputEl, {childList: true});\n",
       "}}\n",
       "\n",
       "                        })                };                });            </script>        </div>"
      ]
     },
     "metadata": {},
     "output_type": "display_data"
    }
   ],
   "source": [
    "fig = graph_maker.smoking_state_beaches()\n",
    "fig.show()"
   ]
  },
  {
   "cell_type": "markdown",
   "id": "425b3f9e-faf5-4727-a769-9ae56208de7e",
   "metadata": {},
   "source": [
    "The dotted vertical line in the figure above is placed in between the aggregate results from 2019 and 2020 since the smoking ban on state beaches came into effect at the beginning of 2020. \n",
    "2020 was an unusual year and it's hard to tell what the effects of COVID-19 was on this data. But it looks like we may be seeing a decrease in the number of cigarette butts on both state beaches and otherwise after 2020, with fewer number of cigarette butts found on state beaches.\n",
    "What I don't know if state beaches are being cleaned up by state employees or other organizations, and if so, if they report the number of debris items they collect."
   ]
  },
  {
   "cell_type": "markdown",
   "id": "cb4dc8d6-18b2-4785-b06f-416d0fd4ad11",
   "metadata": {},
   "source": [
    "# Debris Organized by Activity 2013-2023\n",
    "\n",
    "In [NOAA's marine debris report](https://marinedebris.noaa.gov/other-reports/marine-debris-shoreline-monterey-bay-national-marine-sanctuary-assessment-behaviors-contributing-marine-debris-categories-composition-spatial-distribution-and-predictor-variables), in Section 3, trash is organized into the following activities:\n",
    "\n",
    "* **Eating & Drinking:** Trash categories associated with eating and drinking include utensils and plates, take-out food containers, bottles, straws, and wrappers.\n",
    "* **Smoking:** Trash left behind from smoking cigarettes, cigars, and vaping included butts, packaging, containers, and other smoking items.\n",
    "* **Personal Hygiene:** Items include any personal protective or sanitary products such as masks, gloves, condoms, tampons, diapers and syringes.\n",
    "* **Recreation:** Items associated with recreation on the beach or elsewhere (other than fishing) include balloons, toys, clothing, and dog waste bags.\n",
    "* **Dumping and Disaster:** Industrial and household waste dumping includes trash that may originate from unintentional or illegal dumping. This category also includes items resulting from storm damage, coastal erosion, or degrading harbors. Items include appliances, construction\n",
    "material, and tires.\n",
    "* **Various:** Trash that could have originated from any one of the other six activities but could not be identified with a specific activity. Examples include packaging, caps and bottles that may not have contained beverages, and fragmented pieces of plastic, glass, or metal.\n",
    "\n",
    "Here, Figure 10 in Section 3 of NOAA's report is recreated with SOS data only. The pie chart in the report is replaced with a bar chart for (in my opinion) more easily interpretable results. Activity names are sligthy modified to **Eating/Drinking**, **Smoking**, **Hygiene**, **Recreation**, **Dumping/Disaster** and **Various**."
   ]
  },
  {
   "cell_type": "code",
   "execution_count": 20,
   "id": "2da02119-96ec-4c2b-8c49-164d6681cbb4",
   "metadata": {},
   "outputs": [
    {
     "data": {
      "application/vnd.plotly.v1+json": {
       "config": {
        "plotlyServerURL": "https://plot.ly"
       },
       "data": [
        {
         "alignmentgroup": "True",
         "cliponaxis": false,
         "hovertemplate": "name=%{text}<br>activity=%{x}<br>count=%{y}<extra></extra>",
         "legendgroup": "Plastic Pieces",
         "marker": {
          "color": "#636efa",
          "pattern": {
           "shape": ""
          }
         },
         "name": "Plastic Pieces",
         "offsetgroup": "Plastic Pieces",
         "orientation": "v",
         "showlegend": true,
         "text": [
          "Plastic Pieces"
         ],
         "textangle": 0,
         "textfont": {
          "size": 10
         },
         "textposition": "inside",
         "type": "bar",
         "x": [
          "Various"
         ],
         "xaxis": "x",
         "y": [
          484100.5
         ],
         "yaxis": "y"
        },
        {
         "alignmentgroup": "True",
         "cliponaxis": false,
         "hovertemplate": "name=%{text}<br>activity=%{x}<br>count=%{y}<extra></extra>",
         "legendgroup": "Cigarette Butts",
         "marker": {
          "color": "#EF553B",
          "pattern": {
           "shape": ""
          }
         },
         "name": "Cigarette Butts",
         "offsetgroup": "Cigarette Butts",
         "orientation": "v",
         "showlegend": true,
         "text": [
          "Cigarette Butts"
         ],
         "textangle": 0,
         "textfont": {
          "size": 10
         },
         "textposition": "inside",
         "type": "bar",
         "x": [
          "Smoking"
         ],
         "xaxis": "x",
         "y": [
          439358
         ],
         "yaxis": "y"
        },
        {
         "alignmentgroup": "True",
         "cliponaxis": false,
         "hovertemplate": "name=%{text}<br>activity=%{x}<br>count=%{y}<extra></extra>",
         "legendgroup": "Food Wrappers",
         "marker": {
          "color": "#00cc96",
          "pattern": {
           "shape": ""
          }
         },
         "name": "Food Wrappers",
         "offsetgroup": "Food Wrappers",
         "orientation": "v",
         "showlegend": true,
         "text": [
          "Food Wrappers"
         ],
         "textangle": 0,
         "textfont": {
          "size": 10
         },
         "textposition": "inside",
         "type": "bar",
         "x": [
          "Eating/Drinking"
         ],
         "xaxis": "x",
         "y": [
          181478
         ],
         "yaxis": "y"
        },
        {
         "alignmentgroup": "True",
         "cliponaxis": false,
         "hovertemplate": "name=%{text}<br>activity=%{x}<br>count=%{y}<extra></extra>",
         "legendgroup": "Paper Pieces",
         "marker": {
          "color": "#ab63fa",
          "pattern": {
           "shape": ""
          }
         },
         "name": "Paper Pieces",
         "offsetgroup": "Paper Pieces",
         "orientation": "v",
         "showlegend": true,
         "text": [
          "Paper Pieces"
         ],
         "textangle": 0,
         "textfont": {
          "size": 10
         },
         "textposition": "inside",
         "type": "bar",
         "x": [
          "Various"
         ],
         "xaxis": "x",
         "y": [
          149144
         ],
         "yaxis": "y"
        },
        {
         "alignmentgroup": "True",
         "cliponaxis": false,
         "hovertemplate": "name=%{text}<br>activity=%{x}<br>count=%{y}<extra></extra>",
         "legendgroup": "Glass Pieces",
         "marker": {
          "color": "#FFA15A",
          "pattern": {
           "shape": ""
          }
         },
         "name": "Glass Pieces",
         "offsetgroup": "Glass Pieces",
         "orientation": "v",
         "showlegend": true,
         "text": [
          "Glass Pieces"
         ],
         "textangle": 0,
         "textfont": {
          "size": 10
         },
         "textposition": "inside",
         "type": "bar",
         "x": [
          "Various"
         ],
         "xaxis": "x",
         "y": [
          109011
         ],
         "yaxis": "y"
        },
        {
         "alignmentgroup": "True",
         "cliponaxis": false,
         "hovertemplate": "name=%{text}<br>activity=%{x}<br>count=%{y}<extra></extra>",
         "legendgroup": "Food Containers, Plastic",
         "marker": {
          "color": "#19d3f3",
          "pattern": {
           "shape": ""
          }
         },
         "name": "Food Containers, Plastic",
         "offsetgroup": "Food Containers, Plastic",
         "orientation": "v",
         "showlegend": true,
         "text": [
          "Food Containers, Plastic"
         ],
         "textangle": 0,
         "textfont": {
          "size": 10
         },
         "textposition": "inside",
         "type": "bar",
         "x": [
          "Eating/Drinking"
         ],
         "xaxis": "x",
         "y": [
          75399.5
         ],
         "yaxis": "y"
        },
        {
         "alignmentgroup": "True",
         "cliponaxis": false,
         "hovertemplate": "name=%{text}<br>activity=%{x}<br>count=%{y}<extra></extra>",
         "legendgroup": "Bottle Caps, Plastic",
         "marker": {
          "color": "#FF6692",
          "pattern": {
           "shape": ""
          }
         },
         "name": "Bottle Caps, Plastic",
         "offsetgroup": "Bottle Caps, Plastic",
         "orientation": "v",
         "showlegend": true,
         "text": [
          "Bottle Caps, Plastic"
         ],
         "textangle": 0,
         "textfont": {
          "size": 10
         },
         "textposition": "inside",
         "type": "bar",
         "x": [
          "Eating/Drinking"
         ],
         "xaxis": "x",
         "y": [
          63216
         ],
         "yaxis": "y"
        },
        {
         "alignmentgroup": "True",
         "cliponaxis": false,
         "hovertemplate": "name=%{text}<br>activity=%{x}<br>count=%{y}<extra></extra>",
         "legendgroup": "Bottle Caps",
         "marker": {
          "color": "#B6E880",
          "pattern": {
           "shape": ""
          }
         },
         "name": "Bottle Caps",
         "offsetgroup": "Bottle Caps",
         "orientation": "v",
         "showlegend": true,
         "text": [
          "Bottle Caps"
         ],
         "textangle": 0,
         "textfont": {
          "size": 10
         },
         "textposition": "inside",
         "type": "bar",
         "x": [
          "Eating/Drinking"
         ],
         "xaxis": "x",
         "y": [
          51973
         ],
         "yaxis": "y"
        },
        {
         "alignmentgroup": "True",
         "cliponaxis": false,
         "hovertemplate": "name=%{text}<br>activity=%{x}<br>count=%{y}<extra></extra>",
         "legendgroup": "Other",
         "marker": {
          "color": "#FF97FF",
          "pattern": {
           "shape": ""
          }
         },
         "name": "Other",
         "offsetgroup": "Other",
         "orientation": "v",
         "showlegend": true,
         "text": [
          "Other"
         ],
         "textangle": 0,
         "textfont": {
          "size": 10
         },
         "textposition": "inside",
         "type": "bar",
         "x": [
          "Various"
         ],
         "xaxis": "x",
         "y": [
          50386.5
         ],
         "yaxis": "y"
        },
        {
         "alignmentgroup": "True",
         "cliponaxis": false,
         "hovertemplate": "name=%{text}<br>activity=%{x}<br>count=%{y}<extra></extra>",
         "legendgroup": "Plastic Bags",
         "marker": {
          "color": "#FECB52",
          "pattern": {
           "shape": ""
          }
         },
         "name": "Plastic Bags",
         "offsetgroup": "Plastic Bags",
         "orientation": "v",
         "showlegend": true,
         "text": [
          "Plastic Bags"
         ],
         "textangle": 0,
         "textfont": {
          "size": 10
         },
         "textposition": "inside",
         "type": "bar",
         "x": [
          "Eating/Drinking"
         ],
         "xaxis": "x",
         "y": [
          36949
         ],
         "yaxis": "y"
        },
        {
         "alignmentgroup": "True",
         "cliponaxis": false,
         "hovertemplate": "name=%{text}<br>activity=%{x}<br>count=%{y}<extra></extra>",
         "legendgroup": "Glass Bottles",
         "marker": {
          "color": "#636efa",
          "pattern": {
           "shape": ""
          }
         },
         "name": "Glass Bottles",
         "offsetgroup": "Glass Bottles",
         "orientation": "v",
         "showlegend": true,
         "text": [
          "Glass Bottles"
         ],
         "textangle": 0,
         "textfont": {
          "size": 10
         },
         "textposition": "inside",
         "type": "bar",
         "x": [
          "Eating/Drinking"
         ],
         "xaxis": "x",
         "y": [
          36830
         ],
         "yaxis": "y"
        },
        {
         "alignmentgroup": "True",
         "cliponaxis": false,
         "hovertemplate": "name=%{text}<br>activity=%{x}<br>count=%{y}<extra></extra>",
         "legendgroup": "Cans",
         "marker": {
          "color": "#EF553B",
          "pattern": {
           "shape": ""
          }
         },
         "name": "Cans",
         "offsetgroup": "Cans",
         "orientation": "v",
         "showlegend": true,
         "text": [
          "Cans"
         ],
         "textangle": 0,
         "textfont": {
          "size": 10
         },
         "textposition": "inside",
         "type": "bar",
         "x": [
          "Eating/Drinking"
         ],
         "xaxis": "x",
         "y": [
          32992
         ],
         "yaxis": "y"
        },
        {
         "alignmentgroup": "True",
         "cliponaxis": false,
         "hovertemplate": "name=%{text}<br>activity=%{x}<br>count=%{y}<extra></extra>",
         "legendgroup": "Straws",
         "marker": {
          "color": "#00cc96",
          "pattern": {
           "shape": ""
          }
         },
         "name": "Straws",
         "offsetgroup": "Straws",
         "orientation": "v",
         "showlegend": true,
         "text": [
          "Straws"
         ],
         "textangle": 0,
         "textfont": {
          "size": 10
         },
         "textposition": "inside",
         "type": "bar",
         "x": [
          "Eating/Drinking"
         ],
         "xaxis": "x",
         "y": [
          31081
         ],
         "yaxis": "y"
        },
        {
         "alignmentgroup": "True",
         "cliponaxis": false,
         "hovertemplate": "name=%{text}<br>activity=%{x}<br>count=%{y}<extra></extra>",
         "legendgroup": "Paper/Cardboard",
         "marker": {
          "color": "#ab63fa",
          "pattern": {
           "shape": ""
          }
         },
         "name": "Paper/Cardboard",
         "offsetgroup": "Paper/Cardboard",
         "orientation": "v",
         "showlegend": true,
         "text": [
          "Paper/Cardboard"
         ],
         "textangle": 0,
         "textfont": {
          "size": 10
         },
         "textposition": "inside",
         "type": "bar",
         "x": [
          "Various"
         ],
         "xaxis": "x",
         "y": [
          26233
         ],
         "yaxis": "y"
        },
        {
         "alignmentgroup": "True",
         "cliponaxis": false,
         "hovertemplate": "name=%{text}<br>activity=%{x}<br>count=%{y}<extra></extra>",
         "legendgroup": "Packaging",
         "marker": {
          "color": "#FFA15A",
          "pattern": {
           "shape": ""
          }
         },
         "name": "Packaging",
         "offsetgroup": "Packaging",
         "orientation": "v",
         "showlegend": true,
         "text": [
          "Packaging"
         ],
         "textangle": 0,
         "textfont": {
          "size": 10
         },
         "textposition": "inside",
         "type": "bar",
         "x": [
          "Various"
         ],
         "xaxis": "x",
         "y": [
          24854
         ],
         "yaxis": "y"
        },
        {
         "alignmentgroup": "True",
         "cliponaxis": false,
         "hovertemplate": "name=%{text}<br>activity=%{x}<br>count=%{y}<extra></extra>",
         "legendgroup": "Food Containers",
         "marker": {
          "color": "#19d3f3",
          "pattern": {
           "shape": ""
          }
         },
         "name": "Food Containers",
         "offsetgroup": "Food Containers",
         "orientation": "v",
         "showlegend": true,
         "text": [
          "Food Containers"
         ],
         "textangle": 0,
         "textfont": {
          "size": 10
         },
         "textposition": "inside",
         "type": "bar",
         "x": [
          "Eating/Drinking"
         ],
         "xaxis": "x",
         "y": [
          15612
         ],
         "yaxis": "y"
        },
        {
         "alignmentgroup": "True",
         "cliponaxis": false,
         "hovertemplate": "name=%{text}<br>activity=%{x}<br>count=%{y}<extra></extra>",
         "legendgroup": "Clothes",
         "marker": {
          "color": "#FF6692",
          "pattern": {
           "shape": ""
          }
         },
         "name": "Clothes",
         "offsetgroup": "Clothes",
         "orientation": "v",
         "showlegend": true,
         "text": [
          "Clothes"
         ],
         "textangle": 0,
         "textfont": {
          "size": 10
         },
         "textposition": "inside",
         "type": "bar",
         "x": [
          "Recreation"
         ],
         "xaxis": "x",
         "y": [
          15213
         ],
         "yaxis": "y"
        },
        {
         "alignmentgroup": "True",
         "cliponaxis": false,
         "hovertemplate": "name=%{text}<br>activity=%{x}<br>count=%{y}<extra></extra>",
         "legendgroup": "Fishing Gear",
         "marker": {
          "color": "#B6E880",
          "pattern": {
           "shape": ""
          }
         },
         "name": "Fishing Gear",
         "offsetgroup": "Fishing Gear",
         "orientation": "v",
         "showlegend": true,
         "text": [
          "Fishing Gear"
         ],
         "textangle": 0,
         "textfont": {
          "size": 10
         },
         "textposition": "inside",
         "type": "bar",
         "x": [
          "Fishing"
         ],
         "xaxis": "x",
         "y": [
          11726
         ],
         "yaxis": "y"
        },
        {
         "alignmentgroup": "True",
         "cliponaxis": false,
         "hovertemplate": "name=%{text}<br>activity=%{x}<br>count=%{y}<extra></extra>",
         "legendgroup": "Tobacco",
         "marker": {
          "color": "#FF97FF",
          "pattern": {
           "shape": ""
          }
         },
         "name": "Tobacco",
         "offsetgroup": "Tobacco",
         "orientation": "v",
         "showlegend": true,
         "text": [
          "Tobacco"
         ],
         "textangle": 0,
         "textfont": {
          "size": 10
         },
         "textposition": "inside",
         "type": "bar",
         "x": [
          "Smoking"
         ],
         "xaxis": "x",
         "y": [
          11097
         ],
         "yaxis": "y"
        },
        {
         "alignmentgroup": "True",
         "cliponaxis": false,
         "hovertemplate": "name=%{text}<br>activity=%{x}<br>count=%{y}<extra></extra>",
         "legendgroup": "Balloons",
         "marker": {
          "color": "#FECB52",
          "pattern": {
           "shape": ""
          }
         },
         "name": "Balloons",
         "offsetgroup": "Balloons",
         "orientation": "v",
         "showlegend": true,
         "text": [
          "Balloons"
         ],
         "textangle": 0,
         "textfont": {
          "size": 10
         },
         "textposition": "inside",
         "type": "bar",
         "x": [
          "Recreation"
         ],
         "xaxis": "x",
         "y": [
          9782
         ],
         "yaxis": "y"
        },
        {
         "alignmentgroup": "True",
         "cliponaxis": false,
         "hovertemplate": "name=%{text}<br>activity=%{x}<br>count=%{y}<extra></extra>",
         "legendgroup": "Nails",
         "marker": {
          "color": "#636efa",
          "pattern": {
           "shape": ""
          }
         },
         "name": "Nails",
         "offsetgroup": "Nails",
         "orientation": "v",
         "showlegend": true,
         "text": [
          "Nails"
         ],
         "textangle": 0,
         "textfont": {
          "size": 10
         },
         "textposition": "inside",
         "type": "bar",
         "x": [
          "Dumping/Disaster"
         ],
         "xaxis": "x",
         "y": [
          9534
         ],
         "yaxis": "y"
        },
        {
         "alignmentgroup": "True",
         "cliponaxis": false,
         "hovertemplate": "name=%{text}<br>activity=%{x}<br>count=%{y}<extra></extra>",
         "legendgroup": "Wood Pieces",
         "marker": {
          "color": "#EF553B",
          "pattern": {
           "shape": ""
          }
         },
         "name": "Wood Pieces",
         "offsetgroup": "Wood Pieces",
         "orientation": "v",
         "showlegend": true,
         "text": [
          "Wood Pieces"
         ],
         "textangle": 0,
         "textfont": {
          "size": 10
         },
         "textposition": "inside",
         "type": "bar",
         "x": [
          "Dumping/Disaster"
         ],
         "xaxis": "x",
         "y": [
          9055.5
         ],
         "yaxis": "y"
        },
        {
         "alignmentgroup": "True",
         "cliponaxis": false,
         "hovertemplate": "name=%{text}<br>activity=%{x}<br>count=%{y}<extra></extra>",
         "legendgroup": "Foil",
         "marker": {
          "color": "#00cc96",
          "pattern": {
           "shape": ""
          }
         },
         "name": "Foil",
         "offsetgroup": "Foil",
         "orientation": "v",
         "showlegend": true,
         "text": [
          "Foil"
         ],
         "textangle": 0,
         "textfont": {
          "size": 10
         },
         "textposition": "inside",
         "type": "bar",
         "x": [
          "Various"
         ],
         "xaxis": "x",
         "y": [
          9049
         ],
         "yaxis": "y"
        },
        {
         "alignmentgroup": "True",
         "cliponaxis": false,
         "hovertemplate": "name=%{text}<br>activity=%{x}<br>count=%{y}<extra></extra>",
         "legendgroup": "Fireworks",
         "marker": {
          "color": "#ab63fa",
          "pattern": {
           "shape": ""
          }
         },
         "name": "Fireworks",
         "offsetgroup": "Fireworks",
         "orientation": "v",
         "showlegend": true,
         "text": [
          "Fireworks"
         ],
         "textangle": 0,
         "textfont": {
          "size": 10
         },
         "textposition": "inside",
         "type": "bar",
         "x": [
          "Recreation"
         ],
         "xaxis": "x",
         "y": [
          8313
         ],
         "yaxis": "y"
        },
        {
         "alignmentgroup": "True",
         "cliponaxis": false,
         "hovertemplate": "name=%{text}<br>activity=%{x}<br>count=%{y}<extra></extra>",
         "legendgroup": "Beach Gear",
         "marker": {
          "color": "#FFA15A",
          "pattern": {
           "shape": ""
          }
         },
         "name": "Beach Gear",
         "offsetgroup": "Beach Gear",
         "orientation": "v",
         "showlegend": true,
         "text": [
          "Beach Gear"
         ],
         "textangle": 0,
         "textfont": {
          "size": 10
         },
         "textposition": "inside",
         "type": "bar",
         "x": [
          "Recreation"
         ],
         "xaxis": "x",
         "y": [
          8086
         ],
         "yaxis": "y"
        },
        {
         "alignmentgroup": "True",
         "cliponaxis": false,
         "hovertemplate": "name=%{text}<br>activity=%{x}<br>count=%{y}<extra></extra>",
         "legendgroup": "Personal Hygiene",
         "marker": {
          "color": "#19d3f3",
          "pattern": {
           "shape": ""
          }
         },
         "name": "Personal Hygiene",
         "offsetgroup": "Personal Hygiene",
         "orientation": "v",
         "showlegend": true,
         "text": [
          "Personal Hygiene"
         ],
         "textangle": 0,
         "textfont": {
          "size": 10
         },
         "textposition": "inside",
         "type": "bar",
         "x": [
          "Hygiene"
         ],
         "xaxis": "x",
         "y": [
          7349.5
         ],
         "yaxis": "y"
        },
        {
         "alignmentgroup": "True",
         "cliponaxis": false,
         "hovertemplate": "name=%{text}<br>activity=%{x}<br>count=%{y}<extra></extra>",
         "legendgroup": "Lighters",
         "marker": {
          "color": "#FF6692",
          "pattern": {
           "shape": ""
          }
         },
         "name": "Lighters",
         "offsetgroup": "Lighters",
         "orientation": "v",
         "showlegend": true,
         "text": [
          "Lighters"
         ],
         "textangle": 0,
         "textfont": {
          "size": 10
         },
         "textposition": "inside",
         "type": "bar",
         "x": [
          "Smoking"
         ],
         "xaxis": "x",
         "y": [
          5726
         ],
         "yaxis": "y"
        },
        {
         "alignmentgroup": "True",
         "cliponaxis": false,
         "hovertemplate": "name=%{text}<br>activity=%{x}<br>count=%{y}<extra></extra>",
         "legendgroup": "Bandaids",
         "marker": {
          "color": "#B6E880",
          "pattern": {
           "shape": ""
          }
         },
         "name": "Bandaids",
         "offsetgroup": "Bandaids",
         "orientation": "v",
         "showlegend": true,
         "text": [
          "Bandaids"
         ],
         "textangle": 0,
         "textfont": {
          "size": 10
         },
         "textposition": "inside",
         "type": "bar",
         "x": [
          "Hygiene"
         ],
         "xaxis": "x",
         "y": [
          4319
         ],
         "yaxis": "y"
        },
        {
         "alignmentgroup": "True",
         "cliponaxis": false,
         "hovertemplate": "name=%{text}<br>activity=%{x}<br>count=%{y}<extra></extra>",
         "legendgroup": "Lids",
         "marker": {
          "color": "#FF97FF",
          "pattern": {
           "shape": ""
          }
         },
         "name": "Lids",
         "offsetgroup": "Lids",
         "orientation": "v",
         "showlegend": true,
         "text": [
          "Lids"
         ],
         "textangle": 0,
         "textfont": {
          "size": 10
         },
         "textposition": "inside",
         "type": "bar",
         "x": [
          "Eating/Drinking"
         ],
         "xaxis": "x",
         "y": [
          4310
         ],
         "yaxis": "y"
        },
        {
         "alignmentgroup": "True",
         "cliponaxis": false,
         "hovertemplate": "name=%{text}<br>activity=%{x}<br>count=%{y}<extra></extra>",
         "legendgroup": "Construction Materials",
         "marker": {
          "color": "#FECB52",
          "pattern": {
           "shape": ""
          }
         },
         "name": "Construction Materials",
         "offsetgroup": "Construction Materials",
         "orientation": "v",
         "showlegend": true,
         "text": [
          "Construction Materials"
         ],
         "textangle": 0,
         "textfont": {
          "size": 10
         },
         "textposition": "inside",
         "type": "bar",
         "x": [
          "Dumping/Disaster"
         ],
         "xaxis": "x",
         "y": [
          4176
         ],
         "yaxis": "y"
        },
        {
         "alignmentgroup": "True",
         "cliponaxis": false,
         "hovertemplate": "name=%{text}<br>activity=%{x}<br>count=%{y}<extra></extra>",
         "legendgroup": "Utensils",
         "marker": {
          "color": "#636efa",
          "pattern": {
           "shape": ""
          }
         },
         "name": "Utensils",
         "offsetgroup": "Utensils",
         "orientation": "v",
         "showlegend": true,
         "text": [
          "Utensils"
         ],
         "textangle": 0,
         "textfont": {
          "size": 10
         },
         "textposition": "inside",
         "type": "bar",
         "x": [
          "Eating/Drinking"
         ],
         "xaxis": "x",
         "y": [
          3473
         ],
         "yaxis": "y"
        },
        {
         "alignmentgroup": "True",
         "cliponaxis": false,
         "hovertemplate": "name=%{text}<br>activity=%{x}<br>count=%{y}<extra></extra>",
         "legendgroup": "Strapping Bands",
         "marker": {
          "color": "#EF553B",
          "pattern": {
           "shape": ""
          }
         },
         "name": "Strapping Bands",
         "offsetgroup": "Strapping Bands",
         "orientation": "v",
         "showlegend": true,
         "text": [
          "Strapping Bands"
         ],
         "textangle": 0,
         "textfont": {
          "size": 10
         },
         "textposition": "inside",
         "type": "bar",
         "x": [
          "Various"
         ],
         "xaxis": "x",
         "y": [
          3003
         ],
         "yaxis": "y"
        },
        {
         "alignmentgroup": "True",
         "cliponaxis": false,
         "hovertemplate": "name=%{text}<br>activity=%{x}<br>count=%{y}<extra></extra>",
         "legendgroup": "6-Pack Holders",
         "marker": {
          "color": "#00cc96",
          "pattern": {
           "shape": ""
          }
         },
         "name": "6-Pack Holders",
         "offsetgroup": "6-Pack Holders",
         "orientation": "v",
         "showlegend": true,
         "text": [
          "6-Pack Holders"
         ],
         "textangle": 0,
         "textfont": {
          "size": 10
         },
         "textposition": "inside",
         "type": "bar",
         "x": [
          "Eating/Drinking"
         ],
         "xaxis": "x",
         "y": [
          2294
         ],
         "yaxis": "y"
        },
        {
         "alignmentgroup": "True",
         "cliponaxis": false,
         "hovertemplate": "name=%{text}<br>activity=%{x}<br>count=%{y}<extra></extra>",
         "legendgroup": "PPE",
         "marker": {
          "color": "#ab63fa",
          "pattern": {
           "shape": ""
          }
         },
         "name": "PPE",
         "offsetgroup": "PPE",
         "orientation": "v",
         "showlegend": true,
         "text": [
          "PPE"
         ],
         "textangle": 0,
         "textfont": {
          "size": 10
         },
         "textposition": "inside",
         "type": "bar",
         "x": [
          "Hygiene"
         ],
         "xaxis": "x",
         "y": [
          2254
         ],
         "yaxis": "y"
        },
        {
         "alignmentgroup": "True",
         "cliponaxis": false,
         "hovertemplate": "name=%{text}<br>activity=%{x}<br>count=%{y}<extra></extra>",
         "legendgroup": "Batteries",
         "marker": {
          "color": "#FFA15A",
          "pattern": {
           "shape": ""
          }
         },
         "name": "Batteries",
         "offsetgroup": "Batteries",
         "orientation": "v",
         "showlegend": true,
         "text": [
          "Batteries"
         ],
         "textangle": 0,
         "textfont": {
          "size": 10
         },
         "textposition": "inside",
         "type": "bar",
         "x": [
          "Dumping/Disaster"
         ],
         "xaxis": "x",
         "y": [
          2241
         ],
         "yaxis": "y"
        },
        {
         "alignmentgroup": "True",
         "cliponaxis": false,
         "hovertemplate": "name=%{text}<br>activity=%{x}<br>count=%{y}<extra></extra>",
         "legendgroup": "Bottles, Plastic",
         "marker": {
          "color": "#19d3f3",
          "pattern": {
           "shape": ""
          }
         },
         "name": "Bottles, Plastic",
         "offsetgroup": "Bottles, Plastic",
         "orientation": "v",
         "showlegend": true,
         "text": [
          "Bottles, Plastic"
         ],
         "textangle": 0,
         "textfont": {
          "size": 10
         },
         "textposition": "inside",
         "type": "bar",
         "x": [
          "Various"
         ],
         "xaxis": "x",
         "y": [
          2216
         ],
         "yaxis": "y"
        },
        {
         "alignmentgroup": "True",
         "cliponaxis": false,
         "hovertemplate": "name=%{text}<br>activity=%{x}<br>count=%{y}<extra></extra>",
         "legendgroup": "Syringes",
         "marker": {
          "color": "#FF6692",
          "pattern": {
           "shape": ""
          }
         },
         "name": "Syringes",
         "offsetgroup": "Syringes",
         "orientation": "v",
         "showlegend": true,
         "text": [
          "Syringes"
         ],
         "textangle": 0,
         "textfont": {
          "size": 10
         },
         "textposition": "inside",
         "type": "bar",
         "x": [
          "Hygiene"
         ],
         "xaxis": "x",
         "y": [
          2059
         ],
         "yaxis": "y"
        },
        {
         "alignmentgroup": "True",
         "cliponaxis": false,
         "hovertemplate": "name=%{text}<br>activity=%{x}<br>count=%{y}<extra></extra>",
         "legendgroup": "Footwear",
         "marker": {
          "color": "#B6E880",
          "pattern": {
           "shape": ""
          }
         },
         "name": "Footwear",
         "offsetgroup": "Footwear",
         "orientation": "v",
         "showlegend": true,
         "text": [
          "Footwear"
         ],
         "textangle": 0,
         "textfont": {
          "size": 10
         },
         "textposition": "inside",
         "type": "bar",
         "x": [
          "Recreation"
         ],
         "xaxis": "x",
         "y": [
          2006.5
         ],
         "yaxis": "y"
        },
        {
         "alignmentgroup": "True",
         "cliponaxis": false,
         "hovertemplate": "name=%{text}<br>activity=%{x}<br>count=%{y}<extra></extra>",
         "legendgroup": "Cigar Tips",
         "marker": {
          "color": "#FF97FF",
          "pattern": {
           "shape": ""
          }
         },
         "name": "Cigar Tips",
         "offsetgroup": "Cigar Tips",
         "orientation": "v",
         "showlegend": true,
         "text": [
          "Cigar Tips"
         ],
         "textangle": 0,
         "textfont": {
          "size": 10
         },
         "textposition": "inside",
         "type": "bar",
         "x": [
          "Smoking"
         ],
         "xaxis": "x",
         "y": [
          1537
         ],
         "yaxis": "y"
        },
        {
         "alignmentgroup": "True",
         "cliponaxis": false,
         "hovertemplate": "name=%{text}<br>activity=%{x}<br>count=%{y}<extra></extra>",
         "legendgroup": "Rope",
         "marker": {
          "color": "#FECB52",
          "pattern": {
           "shape": ""
          }
         },
         "name": "Rope",
         "offsetgroup": "Rope",
         "orientation": "v",
         "showlegend": true,
         "text": [
          "Rope"
         ],
         "textangle": 0,
         "textfont": {
          "size": 10
         },
         "textposition": "inside",
         "type": "bar",
         "x": [
          "Various"
         ],
         "xaxis": "x",
         "y": [
          1423
         ],
         "yaxis": "y"
        },
        {
         "alignmentgroup": "True",
         "cliponaxis": false,
         "hovertemplate": "name=%{text}<br>activity=%{x}<br>count=%{y}<extra></extra>",
         "legendgroup": "Beverage Bottles",
         "marker": {
          "color": "#636efa",
          "pattern": {
           "shape": ""
          }
         },
         "name": "Beverage Bottles",
         "offsetgroup": "Beverage Bottles",
         "orientation": "v",
         "showlegend": true,
         "text": [
          "Beverage Bottles"
         ],
         "textangle": 0,
         "textfont": {
          "size": 10
         },
         "textposition": "inside",
         "type": "bar",
         "x": [
          "Eating/Drinking"
         ],
         "xaxis": "x",
         "y": [
          1413
         ],
         "yaxis": "y"
        },
        {
         "alignmentgroup": "True",
         "cliponaxis": false,
         "hovertemplate": "name=%{text}<br>activity=%{x}<br>count=%{y}<extra></extra>",
         "legendgroup": "Tires",
         "marker": {
          "color": "#EF553B",
          "pattern": {
           "shape": ""
          }
         },
         "name": "Tires",
         "offsetgroup": "Tires",
         "orientation": "v",
         "showlegend": true,
         "text": [
          "Tires"
         ],
         "textangle": 0,
         "textfont": {
          "size": 10
         },
         "textposition": "inside",
         "type": "bar",
         "x": [
          "Dumping/Disaster"
         ],
         "xaxis": "x",
         "y": [
          684.25
         ],
         "yaxis": "y"
        },
        {
         "alignmentgroup": "True",
         "cliponaxis": false,
         "hovertemplate": "name=%{text}<br>activity=%{x}<br>count=%{y}<extra></extra>",
         "legendgroup": "Bagged Pet Waste",
         "marker": {
          "color": "#00cc96",
          "pattern": {
           "shape": ""
          }
         },
         "name": "Bagged Pet Waste",
         "offsetgroup": "Bagged Pet Waste",
         "orientation": "v",
         "showlegend": true,
         "text": [
          "Bagged Pet Waste"
         ],
         "textangle": 0,
         "textfont": {
          "size": 10
         },
         "textposition": "inside",
         "type": "bar",
         "x": [
          "Recreation"
         ],
         "xaxis": "x",
         "y": [
          636
         ],
         "yaxis": "y"
        },
        {
         "alignmentgroup": "True",
         "cliponaxis": false,
         "hovertemplate": "name=%{text}<br>activity=%{x}<br>count=%{y}<extra></extra>",
         "legendgroup": "Beverage Pouches",
         "marker": {
          "color": "#ab63fa",
          "pattern": {
           "shape": ""
          }
         },
         "name": "Beverage Pouches",
         "offsetgroup": "Beverage Pouches",
         "orientation": "v",
         "showlegend": true,
         "text": [
          "Beverage Pouches"
         ],
         "textangle": 0,
         "textfont": {
          "size": 10
         },
         "textposition": "inside",
         "type": "bar",
         "x": [
          "Eating/Drinking"
         ],
         "xaxis": "x",
         "y": [
          625
         ],
         "yaxis": "y"
        },
        {
         "alignmentgroup": "True",
         "cliponaxis": false,
         "hovertemplate": "name=%{text}<br>activity=%{x}<br>count=%{y}<extra></extra>",
         "legendgroup": "Appliances",
         "marker": {
          "color": "#FFA15A",
          "pattern": {
           "shape": ""
          }
         },
         "name": "Appliances",
         "offsetgroup": "Appliances",
         "orientation": "v",
         "showlegend": true,
         "text": [
          "Appliances"
         ],
         "textangle": 0,
         "textfont": {
          "size": 10
         },
         "textposition": "inside",
         "type": "bar",
         "x": [
          "Dumping/Disaster"
         ],
         "xaxis": "x",
         "y": [
          564
         ],
         "yaxis": "y"
        },
        {
         "alignmentgroup": "True",
         "cliponaxis": false,
         "hovertemplate": "name=%{text}<br>activity=%{x}<br>count=%{y}<extra></extra>",
         "legendgroup": "E-Waste",
         "marker": {
          "color": "#19d3f3",
          "pattern": {
           "shape": ""
          }
         },
         "name": "E-Waste",
         "offsetgroup": "E-Waste",
         "orientation": "v",
         "showlegend": true,
         "text": [
          "E-Waste"
         ],
         "textangle": 0,
         "textfont": {
          "size": 10
         },
         "textposition": "inside",
         "type": "bar",
         "x": [
          "Smoking"
         ],
         "xaxis": "x",
         "y": [
          347
         ],
         "yaxis": "y"
        },
        {
         "alignmentgroup": "True",
         "cliponaxis": false,
         "hovertemplate": "name=%{text}<br>activity=%{x}<br>count=%{y}<extra></extra>",
         "legendgroup": "Car Parts",
         "marker": {
          "color": "#FF6692",
          "pattern": {
           "shape": ""
          }
         },
         "name": "Car Parts",
         "offsetgroup": "Car Parts",
         "orientation": "v",
         "showlegend": true,
         "text": [
          "Car Parts"
         ],
         "textangle": 0,
         "textfont": {
          "size": 10
         },
         "textposition": "inside",
         "type": "bar",
         "x": [
          "Dumping/Disaster"
         ],
         "xaxis": "x",
         "y": [
          260
         ],
         "yaxis": "y"
        },
        {
         "alignmentgroup": "True",
         "cliponaxis": false,
         "hovertemplate": "name=%{text}<br>activity=%{x}<br>count=%{y}<extra></extra>",
         "legendgroup": "Bikes",
         "marker": {
          "color": "#B6E880",
          "pattern": {
           "shape": ""
          }
         },
         "name": "Bikes",
         "offsetgroup": "Bikes",
         "orientation": "v",
         "showlegend": true,
         "text": [
          "Bikes"
         ],
         "textangle": 0,
         "textfont": {
          "size": 10
         },
         "textposition": "inside",
         "type": "bar",
         "x": [
          "Recreation"
         ],
         "xaxis": "x",
         "y": [
          199
         ],
         "yaxis": "y"
        }
       ],
       "layout": {
        "autosize": false,
        "barmode": "relative",
        "height": 700,
        "legend": {
         "title": {
          "text": "Debris Category"
         },
         "tracegroupgap": 0
        },
        "margin": {
         "t": 60
        },
        "template": {
         "data": {
          "bar": [
           {
            "error_x": {
             "color": "#2a3f5f"
            },
            "error_y": {
             "color": "#2a3f5f"
            },
            "marker": {
             "line": {
              "color": "#E5ECF6",
              "width": 0.5
             },
             "pattern": {
              "fillmode": "overlay",
              "size": 10,
              "solidity": 0.2
             }
            },
            "type": "bar"
           }
          ],
          "barpolar": [
           {
            "marker": {
             "line": {
              "color": "#E5ECF6",
              "width": 0.5
             },
             "pattern": {
              "fillmode": "overlay",
              "size": 10,
              "solidity": 0.2
             }
            },
            "type": "barpolar"
           }
          ],
          "carpet": [
           {
            "aaxis": {
             "endlinecolor": "#2a3f5f",
             "gridcolor": "white",
             "linecolor": "white",
             "minorgridcolor": "white",
             "startlinecolor": "#2a3f5f"
            },
            "baxis": {
             "endlinecolor": "#2a3f5f",
             "gridcolor": "white",
             "linecolor": "white",
             "minorgridcolor": "white",
             "startlinecolor": "#2a3f5f"
            },
            "type": "carpet"
           }
          ],
          "choropleth": [
           {
            "colorbar": {
             "outlinewidth": 0,
             "ticks": ""
            },
            "type": "choropleth"
           }
          ],
          "contour": [
           {
            "colorbar": {
             "outlinewidth": 0,
             "ticks": ""
            },
            "colorscale": [
             [
              0,
              "#0d0887"
             ],
             [
              0.1111111111111111,
              "#46039f"
             ],
             [
              0.2222222222222222,
              "#7201a8"
             ],
             [
              0.3333333333333333,
              "#9c179e"
             ],
             [
              0.4444444444444444,
              "#bd3786"
             ],
             [
              0.5555555555555556,
              "#d8576b"
             ],
             [
              0.6666666666666666,
              "#ed7953"
             ],
             [
              0.7777777777777778,
              "#fb9f3a"
             ],
             [
              0.8888888888888888,
              "#fdca26"
             ],
             [
              1,
              "#f0f921"
             ]
            ],
            "type": "contour"
           }
          ],
          "contourcarpet": [
           {
            "colorbar": {
             "outlinewidth": 0,
             "ticks": ""
            },
            "type": "contourcarpet"
           }
          ],
          "heatmap": [
           {
            "colorbar": {
             "outlinewidth": 0,
             "ticks": ""
            },
            "colorscale": [
             [
              0,
              "#0d0887"
             ],
             [
              0.1111111111111111,
              "#46039f"
             ],
             [
              0.2222222222222222,
              "#7201a8"
             ],
             [
              0.3333333333333333,
              "#9c179e"
             ],
             [
              0.4444444444444444,
              "#bd3786"
             ],
             [
              0.5555555555555556,
              "#d8576b"
             ],
             [
              0.6666666666666666,
              "#ed7953"
             ],
             [
              0.7777777777777778,
              "#fb9f3a"
             ],
             [
              0.8888888888888888,
              "#fdca26"
             ],
             [
              1,
              "#f0f921"
             ]
            ],
            "type": "heatmap"
           }
          ],
          "heatmapgl": [
           {
            "colorbar": {
             "outlinewidth": 0,
             "ticks": ""
            },
            "colorscale": [
             [
              0,
              "#0d0887"
             ],
             [
              0.1111111111111111,
              "#46039f"
             ],
             [
              0.2222222222222222,
              "#7201a8"
             ],
             [
              0.3333333333333333,
              "#9c179e"
             ],
             [
              0.4444444444444444,
              "#bd3786"
             ],
             [
              0.5555555555555556,
              "#d8576b"
             ],
             [
              0.6666666666666666,
              "#ed7953"
             ],
             [
              0.7777777777777778,
              "#fb9f3a"
             ],
             [
              0.8888888888888888,
              "#fdca26"
             ],
             [
              1,
              "#f0f921"
             ]
            ],
            "type": "heatmapgl"
           }
          ],
          "histogram": [
           {
            "marker": {
             "pattern": {
              "fillmode": "overlay",
              "size": 10,
              "solidity": 0.2
             }
            },
            "type": "histogram"
           }
          ],
          "histogram2d": [
           {
            "colorbar": {
             "outlinewidth": 0,
             "ticks": ""
            },
            "colorscale": [
             [
              0,
              "#0d0887"
             ],
             [
              0.1111111111111111,
              "#46039f"
             ],
             [
              0.2222222222222222,
              "#7201a8"
             ],
             [
              0.3333333333333333,
              "#9c179e"
             ],
             [
              0.4444444444444444,
              "#bd3786"
             ],
             [
              0.5555555555555556,
              "#d8576b"
             ],
             [
              0.6666666666666666,
              "#ed7953"
             ],
             [
              0.7777777777777778,
              "#fb9f3a"
             ],
             [
              0.8888888888888888,
              "#fdca26"
             ],
             [
              1,
              "#f0f921"
             ]
            ],
            "type": "histogram2d"
           }
          ],
          "histogram2dcontour": [
           {
            "colorbar": {
             "outlinewidth": 0,
             "ticks": ""
            },
            "colorscale": [
             [
              0,
              "#0d0887"
             ],
             [
              0.1111111111111111,
              "#46039f"
             ],
             [
              0.2222222222222222,
              "#7201a8"
             ],
             [
              0.3333333333333333,
              "#9c179e"
             ],
             [
              0.4444444444444444,
              "#bd3786"
             ],
             [
              0.5555555555555556,
              "#d8576b"
             ],
             [
              0.6666666666666666,
              "#ed7953"
             ],
             [
              0.7777777777777778,
              "#fb9f3a"
             ],
             [
              0.8888888888888888,
              "#fdca26"
             ],
             [
              1,
              "#f0f921"
             ]
            ],
            "type": "histogram2dcontour"
           }
          ],
          "mesh3d": [
           {
            "colorbar": {
             "outlinewidth": 0,
             "ticks": ""
            },
            "type": "mesh3d"
           }
          ],
          "parcoords": [
           {
            "line": {
             "colorbar": {
              "outlinewidth": 0,
              "ticks": ""
             }
            },
            "type": "parcoords"
           }
          ],
          "pie": [
           {
            "automargin": true,
            "type": "pie"
           }
          ],
          "scatter": [
           {
            "fillpattern": {
             "fillmode": "overlay",
             "size": 10,
             "solidity": 0.2
            },
            "type": "scatter"
           }
          ],
          "scatter3d": [
           {
            "line": {
             "colorbar": {
              "outlinewidth": 0,
              "ticks": ""
             }
            },
            "marker": {
             "colorbar": {
              "outlinewidth": 0,
              "ticks": ""
             }
            },
            "type": "scatter3d"
           }
          ],
          "scattercarpet": [
           {
            "marker": {
             "colorbar": {
              "outlinewidth": 0,
              "ticks": ""
             }
            },
            "type": "scattercarpet"
           }
          ],
          "scattergeo": [
           {
            "marker": {
             "colorbar": {
              "outlinewidth": 0,
              "ticks": ""
             }
            },
            "type": "scattergeo"
           }
          ],
          "scattergl": [
           {
            "marker": {
             "colorbar": {
              "outlinewidth": 0,
              "ticks": ""
             }
            },
            "type": "scattergl"
           }
          ],
          "scattermapbox": [
           {
            "marker": {
             "colorbar": {
              "outlinewidth": 0,
              "ticks": ""
             }
            },
            "type": "scattermapbox"
           }
          ],
          "scatterpolar": [
           {
            "marker": {
             "colorbar": {
              "outlinewidth": 0,
              "ticks": ""
             }
            },
            "type": "scatterpolar"
           }
          ],
          "scatterpolargl": [
           {
            "marker": {
             "colorbar": {
              "outlinewidth": 0,
              "ticks": ""
             }
            },
            "type": "scatterpolargl"
           }
          ],
          "scatterternary": [
           {
            "marker": {
             "colorbar": {
              "outlinewidth": 0,
              "ticks": ""
             }
            },
            "type": "scatterternary"
           }
          ],
          "surface": [
           {
            "colorbar": {
             "outlinewidth": 0,
             "ticks": ""
            },
            "colorscale": [
             [
              0,
              "#0d0887"
             ],
             [
              0.1111111111111111,
              "#46039f"
             ],
             [
              0.2222222222222222,
              "#7201a8"
             ],
             [
              0.3333333333333333,
              "#9c179e"
             ],
             [
              0.4444444444444444,
              "#bd3786"
             ],
             [
              0.5555555555555556,
              "#d8576b"
             ],
             [
              0.6666666666666666,
              "#ed7953"
             ],
             [
              0.7777777777777778,
              "#fb9f3a"
             ],
             [
              0.8888888888888888,
              "#fdca26"
             ],
             [
              1,
              "#f0f921"
             ]
            ],
            "type": "surface"
           }
          ],
          "table": [
           {
            "cells": {
             "fill": {
              "color": "#EBF0F8"
             },
             "line": {
              "color": "white"
             }
            },
            "header": {
             "fill": {
              "color": "#C8D4E3"
             },
             "line": {
              "color": "white"
             }
            },
            "type": "table"
           }
          ]
         },
         "layout": {
          "annotationdefaults": {
           "arrowcolor": "#2a3f5f",
           "arrowhead": 0,
           "arrowwidth": 1
          },
          "autotypenumbers": "strict",
          "coloraxis": {
           "colorbar": {
            "outlinewidth": 0,
            "ticks": ""
           }
          },
          "colorscale": {
           "diverging": [
            [
             0,
             "#8e0152"
            ],
            [
             0.1,
             "#c51b7d"
            ],
            [
             0.2,
             "#de77ae"
            ],
            [
             0.3,
             "#f1b6da"
            ],
            [
             0.4,
             "#fde0ef"
            ],
            [
             0.5,
             "#f7f7f7"
            ],
            [
             0.6,
             "#e6f5d0"
            ],
            [
             0.7,
             "#b8e186"
            ],
            [
             0.8,
             "#7fbc41"
            ],
            [
             0.9,
             "#4d9221"
            ],
            [
             1,
             "#276419"
            ]
           ],
           "sequential": [
            [
             0,
             "#0d0887"
            ],
            [
             0.1111111111111111,
             "#46039f"
            ],
            [
             0.2222222222222222,
             "#7201a8"
            ],
            [
             0.3333333333333333,
             "#9c179e"
            ],
            [
             0.4444444444444444,
             "#bd3786"
            ],
            [
             0.5555555555555556,
             "#d8576b"
            ],
            [
             0.6666666666666666,
             "#ed7953"
            ],
            [
             0.7777777777777778,
             "#fb9f3a"
            ],
            [
             0.8888888888888888,
             "#fdca26"
            ],
            [
             1,
             "#f0f921"
            ]
           ],
           "sequentialminus": [
            [
             0,
             "#0d0887"
            ],
            [
             0.1111111111111111,
             "#46039f"
            ],
            [
             0.2222222222222222,
             "#7201a8"
            ],
            [
             0.3333333333333333,
             "#9c179e"
            ],
            [
             0.4444444444444444,
             "#bd3786"
            ],
            [
             0.5555555555555556,
             "#d8576b"
            ],
            [
             0.6666666666666666,
             "#ed7953"
            ],
            [
             0.7777777777777778,
             "#fb9f3a"
            ],
            [
             0.8888888888888888,
             "#fdca26"
            ],
            [
             1,
             "#f0f921"
            ]
           ]
          },
          "colorway": [
           "#636efa",
           "#EF553B",
           "#00cc96",
           "#ab63fa",
           "#FFA15A",
           "#19d3f3",
           "#FF6692",
           "#B6E880",
           "#FF97FF",
           "#FECB52"
          ],
          "font": {
           "color": "#2a3f5f"
          },
          "geo": {
           "bgcolor": "white",
           "lakecolor": "white",
           "landcolor": "#E5ECF6",
           "showlakes": true,
           "showland": true,
           "subunitcolor": "white"
          },
          "hoverlabel": {
           "align": "left"
          },
          "hovermode": "closest",
          "mapbox": {
           "style": "light"
          },
          "paper_bgcolor": "white",
          "plot_bgcolor": "#E5ECF6",
          "polar": {
           "angularaxis": {
            "gridcolor": "white",
            "linecolor": "white",
            "ticks": ""
           },
           "bgcolor": "#E5ECF6",
           "radialaxis": {
            "gridcolor": "white",
            "linecolor": "white",
            "ticks": ""
           }
          },
          "scene": {
           "xaxis": {
            "backgroundcolor": "#E5ECF6",
            "gridcolor": "white",
            "gridwidth": 2,
            "linecolor": "white",
            "showbackground": true,
            "ticks": "",
            "zerolinecolor": "white"
           },
           "yaxis": {
            "backgroundcolor": "#E5ECF6",
            "gridcolor": "white",
            "gridwidth": 2,
            "linecolor": "white",
            "showbackground": true,
            "ticks": "",
            "zerolinecolor": "white"
           },
           "zaxis": {
            "backgroundcolor": "#E5ECF6",
            "gridcolor": "white",
            "gridwidth": 2,
            "linecolor": "white",
            "showbackground": true,
            "ticks": "",
            "zerolinecolor": "white"
           }
          },
          "shapedefaults": {
           "line": {
            "color": "#2a3f5f"
           }
          },
          "ternary": {
           "aaxis": {
            "gridcolor": "white",
            "linecolor": "white",
            "ticks": ""
           },
           "baxis": {
            "gridcolor": "white",
            "linecolor": "white",
            "ticks": ""
           },
           "bgcolor": "#E5ECF6",
           "caxis": {
            "gridcolor": "white",
            "linecolor": "white",
            "ticks": ""
           }
          },
          "title": {
           "x": 0.05
          },
          "xaxis": {
           "automargin": true,
           "gridcolor": "white",
           "linecolor": "white",
           "ticks": "",
           "title": {
            "standoff": 15
           },
           "zerolinecolor": "white",
           "zerolinewidth": 2
          },
          "yaxis": {
           "automargin": true,
           "gridcolor": "white",
           "linecolor": "white",
           "ticks": "",
           "title": {
            "standoff": 15
           },
           "zerolinecolor": "white",
           "zerolinewidth": 2
          }
         }
        },
        "title": {
         "text": "Number of Debris Items Collected By Activity, 2013-23"
        },
        "width": 1000,
        "xaxis": {
         "anchor": "y",
         "autorange": true,
         "categoryorder": "total descending",
         "domain": [
          0,
          1
         ],
         "range": [
          -0.5,
          6.5
         ],
         "title": {
          "text": "Activity"
         },
         "type": "category"
        },
        "yaxis": {
         "anchor": "x",
         "autorange": true,
         "domain": [
          0,
          1
         ],
         "range": [
          0,
          904652.6315789474
         ],
         "title": {
          "text": "Total Number of Items"
         },
         "type": "linear"
        }
       }
      },
      "text/html": [
       "<div>                            <div id=\"2922f52c-9a39-40cb-910a-88e7f3b960c8\" class=\"plotly-graph-div\" style=\"height:700px; width:1000px;\"></div>            <script type=\"text/javascript\">                require([\"plotly\"], function(Plotly) {                    window.PLOTLYENV=window.PLOTLYENV || {};                                    if (document.getElementById(\"2922f52c-9a39-40cb-910a-88e7f3b960c8\")) {                    Plotly.newPlot(                        \"2922f52c-9a39-40cb-910a-88e7f3b960c8\",                        [{\"alignmentgroup\":\"True\",\"hovertemplate\":\"name=%{text}\\u003cbr\\u003eactivity=%{x}\\u003cbr\\u003ecount=%{y}\\u003cextra\\u003e\\u003c\\u002fextra\\u003e\",\"legendgroup\":\"Plastic Pieces\",\"marker\":{\"color\":\"#636efa\",\"pattern\":{\"shape\":\"\"}},\"name\":\"Plastic Pieces\",\"offsetgroup\":\"Plastic Pieces\",\"orientation\":\"v\",\"showlegend\":true,\"text\":[\"Plastic Pieces\"],\"textposition\":\"inside\",\"x\":[\"Various\"],\"xaxis\":\"x\",\"y\":[484100.5],\"yaxis\":\"y\",\"type\":\"bar\",\"textfont\":{\"size\":10},\"cliponaxis\":false,\"textangle\":0},{\"alignmentgroup\":\"True\",\"hovertemplate\":\"name=%{text}\\u003cbr\\u003eactivity=%{x}\\u003cbr\\u003ecount=%{y}\\u003cextra\\u003e\\u003c\\u002fextra\\u003e\",\"legendgroup\":\"Cigarette Butts\",\"marker\":{\"color\":\"#EF553B\",\"pattern\":{\"shape\":\"\"}},\"name\":\"Cigarette Butts\",\"offsetgroup\":\"Cigarette Butts\",\"orientation\":\"v\",\"showlegend\":true,\"text\":[\"Cigarette Butts\"],\"textposition\":\"inside\",\"x\":[\"Smoking\"],\"xaxis\":\"x\",\"y\":[439358.0],\"yaxis\":\"y\",\"type\":\"bar\",\"textfont\":{\"size\":10},\"cliponaxis\":false,\"textangle\":0},{\"alignmentgroup\":\"True\",\"hovertemplate\":\"name=%{text}\\u003cbr\\u003eactivity=%{x}\\u003cbr\\u003ecount=%{y}\\u003cextra\\u003e\\u003c\\u002fextra\\u003e\",\"legendgroup\":\"Food Wrappers\",\"marker\":{\"color\":\"#00cc96\",\"pattern\":{\"shape\":\"\"}},\"name\":\"Food Wrappers\",\"offsetgroup\":\"Food Wrappers\",\"orientation\":\"v\",\"showlegend\":true,\"text\":[\"Food Wrappers\"],\"textposition\":\"inside\",\"x\":[\"Eating\\u002fDrinking\"],\"xaxis\":\"x\",\"y\":[181478.0],\"yaxis\":\"y\",\"type\":\"bar\",\"textfont\":{\"size\":10},\"cliponaxis\":false,\"textangle\":0},{\"alignmentgroup\":\"True\",\"hovertemplate\":\"name=%{text}\\u003cbr\\u003eactivity=%{x}\\u003cbr\\u003ecount=%{y}\\u003cextra\\u003e\\u003c\\u002fextra\\u003e\",\"legendgroup\":\"Paper Pieces\",\"marker\":{\"color\":\"#ab63fa\",\"pattern\":{\"shape\":\"\"}},\"name\":\"Paper Pieces\",\"offsetgroup\":\"Paper Pieces\",\"orientation\":\"v\",\"showlegend\":true,\"text\":[\"Paper Pieces\"],\"textposition\":\"inside\",\"x\":[\"Various\"],\"xaxis\":\"x\",\"y\":[149144.0],\"yaxis\":\"y\",\"type\":\"bar\",\"textfont\":{\"size\":10},\"cliponaxis\":false,\"textangle\":0},{\"alignmentgroup\":\"True\",\"hovertemplate\":\"name=%{text}\\u003cbr\\u003eactivity=%{x}\\u003cbr\\u003ecount=%{y}\\u003cextra\\u003e\\u003c\\u002fextra\\u003e\",\"legendgroup\":\"Glass Pieces\",\"marker\":{\"color\":\"#FFA15A\",\"pattern\":{\"shape\":\"\"}},\"name\":\"Glass Pieces\",\"offsetgroup\":\"Glass Pieces\",\"orientation\":\"v\",\"showlegend\":true,\"text\":[\"Glass Pieces\"],\"textposition\":\"inside\",\"x\":[\"Various\"],\"xaxis\":\"x\",\"y\":[109011.0],\"yaxis\":\"y\",\"type\":\"bar\",\"textfont\":{\"size\":10},\"cliponaxis\":false,\"textangle\":0},{\"alignmentgroup\":\"True\",\"hovertemplate\":\"name=%{text}\\u003cbr\\u003eactivity=%{x}\\u003cbr\\u003ecount=%{y}\\u003cextra\\u003e\\u003c\\u002fextra\\u003e\",\"legendgroup\":\"Food Containers, Plastic\",\"marker\":{\"color\":\"#19d3f3\",\"pattern\":{\"shape\":\"\"}},\"name\":\"Food Containers, Plastic\",\"offsetgroup\":\"Food Containers, Plastic\",\"orientation\":\"v\",\"showlegend\":true,\"text\":[\"Food Containers, Plastic\"],\"textposition\":\"inside\",\"x\":[\"Eating\\u002fDrinking\"],\"xaxis\":\"x\",\"y\":[75399.5],\"yaxis\":\"y\",\"type\":\"bar\",\"textfont\":{\"size\":10},\"cliponaxis\":false,\"textangle\":0},{\"alignmentgroup\":\"True\",\"hovertemplate\":\"name=%{text}\\u003cbr\\u003eactivity=%{x}\\u003cbr\\u003ecount=%{y}\\u003cextra\\u003e\\u003c\\u002fextra\\u003e\",\"legendgroup\":\"Bottle Caps, Plastic\",\"marker\":{\"color\":\"#FF6692\",\"pattern\":{\"shape\":\"\"}},\"name\":\"Bottle Caps, Plastic\",\"offsetgroup\":\"Bottle Caps, Plastic\",\"orientation\":\"v\",\"showlegend\":true,\"text\":[\"Bottle Caps, Plastic\"],\"textposition\":\"inside\",\"x\":[\"Eating\\u002fDrinking\"],\"xaxis\":\"x\",\"y\":[63216.0],\"yaxis\":\"y\",\"type\":\"bar\",\"textfont\":{\"size\":10},\"cliponaxis\":false,\"textangle\":0},{\"alignmentgroup\":\"True\",\"hovertemplate\":\"name=%{text}\\u003cbr\\u003eactivity=%{x}\\u003cbr\\u003ecount=%{y}\\u003cextra\\u003e\\u003c\\u002fextra\\u003e\",\"legendgroup\":\"Bottle Caps\",\"marker\":{\"color\":\"#B6E880\",\"pattern\":{\"shape\":\"\"}},\"name\":\"Bottle Caps\",\"offsetgroup\":\"Bottle Caps\",\"orientation\":\"v\",\"showlegend\":true,\"text\":[\"Bottle Caps\"],\"textposition\":\"inside\",\"x\":[\"Eating\\u002fDrinking\"],\"xaxis\":\"x\",\"y\":[51973.0],\"yaxis\":\"y\",\"type\":\"bar\",\"textfont\":{\"size\":10},\"cliponaxis\":false,\"textangle\":0},{\"alignmentgroup\":\"True\",\"hovertemplate\":\"name=%{text}\\u003cbr\\u003eactivity=%{x}\\u003cbr\\u003ecount=%{y}\\u003cextra\\u003e\\u003c\\u002fextra\\u003e\",\"legendgroup\":\"Other\",\"marker\":{\"color\":\"#FF97FF\",\"pattern\":{\"shape\":\"\"}},\"name\":\"Other\",\"offsetgroup\":\"Other\",\"orientation\":\"v\",\"showlegend\":true,\"text\":[\"Other\"],\"textposition\":\"inside\",\"x\":[\"Various\"],\"xaxis\":\"x\",\"y\":[50386.5],\"yaxis\":\"y\",\"type\":\"bar\",\"textfont\":{\"size\":10},\"cliponaxis\":false,\"textangle\":0},{\"alignmentgroup\":\"True\",\"hovertemplate\":\"name=%{text}\\u003cbr\\u003eactivity=%{x}\\u003cbr\\u003ecount=%{y}\\u003cextra\\u003e\\u003c\\u002fextra\\u003e\",\"legendgroup\":\"Plastic Bags\",\"marker\":{\"color\":\"#FECB52\",\"pattern\":{\"shape\":\"\"}},\"name\":\"Plastic Bags\",\"offsetgroup\":\"Plastic Bags\",\"orientation\":\"v\",\"showlegend\":true,\"text\":[\"Plastic Bags\"],\"textposition\":\"inside\",\"x\":[\"Eating\\u002fDrinking\"],\"xaxis\":\"x\",\"y\":[36949.0],\"yaxis\":\"y\",\"type\":\"bar\",\"textfont\":{\"size\":10},\"cliponaxis\":false,\"textangle\":0},{\"alignmentgroup\":\"True\",\"hovertemplate\":\"name=%{text}\\u003cbr\\u003eactivity=%{x}\\u003cbr\\u003ecount=%{y}\\u003cextra\\u003e\\u003c\\u002fextra\\u003e\",\"legendgroup\":\"Glass Bottles\",\"marker\":{\"color\":\"#636efa\",\"pattern\":{\"shape\":\"\"}},\"name\":\"Glass Bottles\",\"offsetgroup\":\"Glass Bottles\",\"orientation\":\"v\",\"showlegend\":true,\"text\":[\"Glass Bottles\"],\"textposition\":\"inside\",\"x\":[\"Eating\\u002fDrinking\"],\"xaxis\":\"x\",\"y\":[36830.0],\"yaxis\":\"y\",\"type\":\"bar\",\"textfont\":{\"size\":10},\"cliponaxis\":false,\"textangle\":0},{\"alignmentgroup\":\"True\",\"hovertemplate\":\"name=%{text}\\u003cbr\\u003eactivity=%{x}\\u003cbr\\u003ecount=%{y}\\u003cextra\\u003e\\u003c\\u002fextra\\u003e\",\"legendgroup\":\"Cans\",\"marker\":{\"color\":\"#EF553B\",\"pattern\":{\"shape\":\"\"}},\"name\":\"Cans\",\"offsetgroup\":\"Cans\",\"orientation\":\"v\",\"showlegend\":true,\"text\":[\"Cans\"],\"textposition\":\"inside\",\"x\":[\"Eating\\u002fDrinking\"],\"xaxis\":\"x\",\"y\":[32992.0],\"yaxis\":\"y\",\"type\":\"bar\",\"textfont\":{\"size\":10},\"cliponaxis\":false,\"textangle\":0},{\"alignmentgroup\":\"True\",\"hovertemplate\":\"name=%{text}\\u003cbr\\u003eactivity=%{x}\\u003cbr\\u003ecount=%{y}\\u003cextra\\u003e\\u003c\\u002fextra\\u003e\",\"legendgroup\":\"Straws\",\"marker\":{\"color\":\"#00cc96\",\"pattern\":{\"shape\":\"\"}},\"name\":\"Straws\",\"offsetgroup\":\"Straws\",\"orientation\":\"v\",\"showlegend\":true,\"text\":[\"Straws\"],\"textposition\":\"inside\",\"x\":[\"Eating\\u002fDrinking\"],\"xaxis\":\"x\",\"y\":[31081.0],\"yaxis\":\"y\",\"type\":\"bar\",\"textfont\":{\"size\":10},\"cliponaxis\":false,\"textangle\":0},{\"alignmentgroup\":\"True\",\"hovertemplate\":\"name=%{text}\\u003cbr\\u003eactivity=%{x}\\u003cbr\\u003ecount=%{y}\\u003cextra\\u003e\\u003c\\u002fextra\\u003e\",\"legendgroup\":\"Paper\\u002fCardboard\",\"marker\":{\"color\":\"#ab63fa\",\"pattern\":{\"shape\":\"\"}},\"name\":\"Paper\\u002fCardboard\",\"offsetgroup\":\"Paper\\u002fCardboard\",\"orientation\":\"v\",\"showlegend\":true,\"text\":[\"Paper\\u002fCardboard\"],\"textposition\":\"inside\",\"x\":[\"Various\"],\"xaxis\":\"x\",\"y\":[26233.0],\"yaxis\":\"y\",\"type\":\"bar\",\"textfont\":{\"size\":10},\"cliponaxis\":false,\"textangle\":0},{\"alignmentgroup\":\"True\",\"hovertemplate\":\"name=%{text}\\u003cbr\\u003eactivity=%{x}\\u003cbr\\u003ecount=%{y}\\u003cextra\\u003e\\u003c\\u002fextra\\u003e\",\"legendgroup\":\"Packaging\",\"marker\":{\"color\":\"#FFA15A\",\"pattern\":{\"shape\":\"\"}},\"name\":\"Packaging\",\"offsetgroup\":\"Packaging\",\"orientation\":\"v\",\"showlegend\":true,\"text\":[\"Packaging\"],\"textposition\":\"inside\",\"x\":[\"Various\"],\"xaxis\":\"x\",\"y\":[24854.0],\"yaxis\":\"y\",\"type\":\"bar\",\"textfont\":{\"size\":10},\"cliponaxis\":false,\"textangle\":0},{\"alignmentgroup\":\"True\",\"hovertemplate\":\"name=%{text}\\u003cbr\\u003eactivity=%{x}\\u003cbr\\u003ecount=%{y}\\u003cextra\\u003e\\u003c\\u002fextra\\u003e\",\"legendgroup\":\"Food Containers\",\"marker\":{\"color\":\"#19d3f3\",\"pattern\":{\"shape\":\"\"}},\"name\":\"Food Containers\",\"offsetgroup\":\"Food Containers\",\"orientation\":\"v\",\"showlegend\":true,\"text\":[\"Food Containers\"],\"textposition\":\"inside\",\"x\":[\"Eating\\u002fDrinking\"],\"xaxis\":\"x\",\"y\":[15612.0],\"yaxis\":\"y\",\"type\":\"bar\",\"textfont\":{\"size\":10},\"cliponaxis\":false,\"textangle\":0},{\"alignmentgroup\":\"True\",\"hovertemplate\":\"name=%{text}\\u003cbr\\u003eactivity=%{x}\\u003cbr\\u003ecount=%{y}\\u003cextra\\u003e\\u003c\\u002fextra\\u003e\",\"legendgroup\":\"Clothes\",\"marker\":{\"color\":\"#FF6692\",\"pattern\":{\"shape\":\"\"}},\"name\":\"Clothes\",\"offsetgroup\":\"Clothes\",\"orientation\":\"v\",\"showlegend\":true,\"text\":[\"Clothes\"],\"textposition\":\"inside\",\"x\":[\"Recreation\"],\"xaxis\":\"x\",\"y\":[15213.0],\"yaxis\":\"y\",\"type\":\"bar\",\"textfont\":{\"size\":10},\"cliponaxis\":false,\"textangle\":0},{\"alignmentgroup\":\"True\",\"hovertemplate\":\"name=%{text}\\u003cbr\\u003eactivity=%{x}\\u003cbr\\u003ecount=%{y}\\u003cextra\\u003e\\u003c\\u002fextra\\u003e\",\"legendgroup\":\"Fishing Gear\",\"marker\":{\"color\":\"#B6E880\",\"pattern\":{\"shape\":\"\"}},\"name\":\"Fishing Gear\",\"offsetgroup\":\"Fishing Gear\",\"orientation\":\"v\",\"showlegend\":true,\"text\":[\"Fishing Gear\"],\"textposition\":\"inside\",\"x\":[\"Fishing\"],\"xaxis\":\"x\",\"y\":[11726.0],\"yaxis\":\"y\",\"type\":\"bar\",\"textfont\":{\"size\":10},\"cliponaxis\":false,\"textangle\":0},{\"alignmentgroup\":\"True\",\"hovertemplate\":\"name=%{text}\\u003cbr\\u003eactivity=%{x}\\u003cbr\\u003ecount=%{y}\\u003cextra\\u003e\\u003c\\u002fextra\\u003e\",\"legendgroup\":\"Tobacco\",\"marker\":{\"color\":\"#FF97FF\",\"pattern\":{\"shape\":\"\"}},\"name\":\"Tobacco\",\"offsetgroup\":\"Tobacco\",\"orientation\":\"v\",\"showlegend\":true,\"text\":[\"Tobacco\"],\"textposition\":\"inside\",\"x\":[\"Smoking\"],\"xaxis\":\"x\",\"y\":[11097.0],\"yaxis\":\"y\",\"type\":\"bar\",\"textfont\":{\"size\":10},\"cliponaxis\":false,\"textangle\":0},{\"alignmentgroup\":\"True\",\"hovertemplate\":\"name=%{text}\\u003cbr\\u003eactivity=%{x}\\u003cbr\\u003ecount=%{y}\\u003cextra\\u003e\\u003c\\u002fextra\\u003e\",\"legendgroup\":\"Balloons\",\"marker\":{\"color\":\"#FECB52\",\"pattern\":{\"shape\":\"\"}},\"name\":\"Balloons\",\"offsetgroup\":\"Balloons\",\"orientation\":\"v\",\"showlegend\":true,\"text\":[\"Balloons\"],\"textposition\":\"inside\",\"x\":[\"Recreation\"],\"xaxis\":\"x\",\"y\":[9782.0],\"yaxis\":\"y\",\"type\":\"bar\",\"textfont\":{\"size\":10},\"cliponaxis\":false,\"textangle\":0},{\"alignmentgroup\":\"True\",\"hovertemplate\":\"name=%{text}\\u003cbr\\u003eactivity=%{x}\\u003cbr\\u003ecount=%{y}\\u003cextra\\u003e\\u003c\\u002fextra\\u003e\",\"legendgroup\":\"Nails\",\"marker\":{\"color\":\"#636efa\",\"pattern\":{\"shape\":\"\"}},\"name\":\"Nails\",\"offsetgroup\":\"Nails\",\"orientation\":\"v\",\"showlegend\":true,\"text\":[\"Nails\"],\"textposition\":\"inside\",\"x\":[\"Dumping\\u002fDisaster\"],\"xaxis\":\"x\",\"y\":[9534.0],\"yaxis\":\"y\",\"type\":\"bar\",\"textfont\":{\"size\":10},\"cliponaxis\":false,\"textangle\":0},{\"alignmentgroup\":\"True\",\"hovertemplate\":\"name=%{text}\\u003cbr\\u003eactivity=%{x}\\u003cbr\\u003ecount=%{y}\\u003cextra\\u003e\\u003c\\u002fextra\\u003e\",\"legendgroup\":\"Wood Pieces\",\"marker\":{\"color\":\"#EF553B\",\"pattern\":{\"shape\":\"\"}},\"name\":\"Wood Pieces\",\"offsetgroup\":\"Wood Pieces\",\"orientation\":\"v\",\"showlegend\":true,\"text\":[\"Wood Pieces\"],\"textposition\":\"inside\",\"x\":[\"Dumping\\u002fDisaster\"],\"xaxis\":\"x\",\"y\":[9055.5],\"yaxis\":\"y\",\"type\":\"bar\",\"textfont\":{\"size\":10},\"cliponaxis\":false,\"textangle\":0},{\"alignmentgroup\":\"True\",\"hovertemplate\":\"name=%{text}\\u003cbr\\u003eactivity=%{x}\\u003cbr\\u003ecount=%{y}\\u003cextra\\u003e\\u003c\\u002fextra\\u003e\",\"legendgroup\":\"Foil\",\"marker\":{\"color\":\"#00cc96\",\"pattern\":{\"shape\":\"\"}},\"name\":\"Foil\",\"offsetgroup\":\"Foil\",\"orientation\":\"v\",\"showlegend\":true,\"text\":[\"Foil\"],\"textposition\":\"inside\",\"x\":[\"Various\"],\"xaxis\":\"x\",\"y\":[9049.0],\"yaxis\":\"y\",\"type\":\"bar\",\"textfont\":{\"size\":10},\"cliponaxis\":false,\"textangle\":0},{\"alignmentgroup\":\"True\",\"hovertemplate\":\"name=%{text}\\u003cbr\\u003eactivity=%{x}\\u003cbr\\u003ecount=%{y}\\u003cextra\\u003e\\u003c\\u002fextra\\u003e\",\"legendgroup\":\"Fireworks\",\"marker\":{\"color\":\"#ab63fa\",\"pattern\":{\"shape\":\"\"}},\"name\":\"Fireworks\",\"offsetgroup\":\"Fireworks\",\"orientation\":\"v\",\"showlegend\":true,\"text\":[\"Fireworks\"],\"textposition\":\"inside\",\"x\":[\"Recreation\"],\"xaxis\":\"x\",\"y\":[8313.0],\"yaxis\":\"y\",\"type\":\"bar\",\"textfont\":{\"size\":10},\"cliponaxis\":false,\"textangle\":0},{\"alignmentgroup\":\"True\",\"hovertemplate\":\"name=%{text}\\u003cbr\\u003eactivity=%{x}\\u003cbr\\u003ecount=%{y}\\u003cextra\\u003e\\u003c\\u002fextra\\u003e\",\"legendgroup\":\"Beach Gear\",\"marker\":{\"color\":\"#FFA15A\",\"pattern\":{\"shape\":\"\"}},\"name\":\"Beach Gear\",\"offsetgroup\":\"Beach Gear\",\"orientation\":\"v\",\"showlegend\":true,\"text\":[\"Beach Gear\"],\"textposition\":\"inside\",\"x\":[\"Recreation\"],\"xaxis\":\"x\",\"y\":[8086.0],\"yaxis\":\"y\",\"type\":\"bar\",\"textfont\":{\"size\":10},\"cliponaxis\":false,\"textangle\":0},{\"alignmentgroup\":\"True\",\"hovertemplate\":\"name=%{text}\\u003cbr\\u003eactivity=%{x}\\u003cbr\\u003ecount=%{y}\\u003cextra\\u003e\\u003c\\u002fextra\\u003e\",\"legendgroup\":\"Personal Hygiene\",\"marker\":{\"color\":\"#19d3f3\",\"pattern\":{\"shape\":\"\"}},\"name\":\"Personal Hygiene\",\"offsetgroup\":\"Personal Hygiene\",\"orientation\":\"v\",\"showlegend\":true,\"text\":[\"Personal Hygiene\"],\"textposition\":\"inside\",\"x\":[\"Hygiene\"],\"xaxis\":\"x\",\"y\":[7349.5],\"yaxis\":\"y\",\"type\":\"bar\",\"textfont\":{\"size\":10},\"cliponaxis\":false,\"textangle\":0},{\"alignmentgroup\":\"True\",\"hovertemplate\":\"name=%{text}\\u003cbr\\u003eactivity=%{x}\\u003cbr\\u003ecount=%{y}\\u003cextra\\u003e\\u003c\\u002fextra\\u003e\",\"legendgroup\":\"Lighters\",\"marker\":{\"color\":\"#FF6692\",\"pattern\":{\"shape\":\"\"}},\"name\":\"Lighters\",\"offsetgroup\":\"Lighters\",\"orientation\":\"v\",\"showlegend\":true,\"text\":[\"Lighters\"],\"textposition\":\"inside\",\"x\":[\"Smoking\"],\"xaxis\":\"x\",\"y\":[5726.0],\"yaxis\":\"y\",\"type\":\"bar\",\"textfont\":{\"size\":10},\"cliponaxis\":false,\"textangle\":0},{\"alignmentgroup\":\"True\",\"hovertemplate\":\"name=%{text}\\u003cbr\\u003eactivity=%{x}\\u003cbr\\u003ecount=%{y}\\u003cextra\\u003e\\u003c\\u002fextra\\u003e\",\"legendgroup\":\"Bandaids\",\"marker\":{\"color\":\"#B6E880\",\"pattern\":{\"shape\":\"\"}},\"name\":\"Bandaids\",\"offsetgroup\":\"Bandaids\",\"orientation\":\"v\",\"showlegend\":true,\"text\":[\"Bandaids\"],\"textposition\":\"inside\",\"x\":[\"Hygiene\"],\"xaxis\":\"x\",\"y\":[4319.0],\"yaxis\":\"y\",\"type\":\"bar\",\"textfont\":{\"size\":10},\"cliponaxis\":false,\"textangle\":0},{\"alignmentgroup\":\"True\",\"hovertemplate\":\"name=%{text}\\u003cbr\\u003eactivity=%{x}\\u003cbr\\u003ecount=%{y}\\u003cextra\\u003e\\u003c\\u002fextra\\u003e\",\"legendgroup\":\"Lids\",\"marker\":{\"color\":\"#FF97FF\",\"pattern\":{\"shape\":\"\"}},\"name\":\"Lids\",\"offsetgroup\":\"Lids\",\"orientation\":\"v\",\"showlegend\":true,\"text\":[\"Lids\"],\"textposition\":\"inside\",\"x\":[\"Eating\\u002fDrinking\"],\"xaxis\":\"x\",\"y\":[4310.0],\"yaxis\":\"y\",\"type\":\"bar\",\"textfont\":{\"size\":10},\"cliponaxis\":false,\"textangle\":0},{\"alignmentgroup\":\"True\",\"hovertemplate\":\"name=%{text}\\u003cbr\\u003eactivity=%{x}\\u003cbr\\u003ecount=%{y}\\u003cextra\\u003e\\u003c\\u002fextra\\u003e\",\"legendgroup\":\"Construction Materials\",\"marker\":{\"color\":\"#FECB52\",\"pattern\":{\"shape\":\"\"}},\"name\":\"Construction Materials\",\"offsetgroup\":\"Construction Materials\",\"orientation\":\"v\",\"showlegend\":true,\"text\":[\"Construction Materials\"],\"textposition\":\"inside\",\"x\":[\"Dumping\\u002fDisaster\"],\"xaxis\":\"x\",\"y\":[4176.0],\"yaxis\":\"y\",\"type\":\"bar\",\"textfont\":{\"size\":10},\"cliponaxis\":false,\"textangle\":0},{\"alignmentgroup\":\"True\",\"hovertemplate\":\"name=%{text}\\u003cbr\\u003eactivity=%{x}\\u003cbr\\u003ecount=%{y}\\u003cextra\\u003e\\u003c\\u002fextra\\u003e\",\"legendgroup\":\"Utensils\",\"marker\":{\"color\":\"#636efa\",\"pattern\":{\"shape\":\"\"}},\"name\":\"Utensils\",\"offsetgroup\":\"Utensils\",\"orientation\":\"v\",\"showlegend\":true,\"text\":[\"Utensils\"],\"textposition\":\"inside\",\"x\":[\"Eating\\u002fDrinking\"],\"xaxis\":\"x\",\"y\":[3473.0],\"yaxis\":\"y\",\"type\":\"bar\",\"textfont\":{\"size\":10},\"cliponaxis\":false,\"textangle\":0},{\"alignmentgroup\":\"True\",\"hovertemplate\":\"name=%{text}\\u003cbr\\u003eactivity=%{x}\\u003cbr\\u003ecount=%{y}\\u003cextra\\u003e\\u003c\\u002fextra\\u003e\",\"legendgroup\":\"Strapping Bands\",\"marker\":{\"color\":\"#EF553B\",\"pattern\":{\"shape\":\"\"}},\"name\":\"Strapping Bands\",\"offsetgroup\":\"Strapping Bands\",\"orientation\":\"v\",\"showlegend\":true,\"text\":[\"Strapping Bands\"],\"textposition\":\"inside\",\"x\":[\"Various\"],\"xaxis\":\"x\",\"y\":[3003.0],\"yaxis\":\"y\",\"type\":\"bar\",\"textfont\":{\"size\":10},\"cliponaxis\":false,\"textangle\":0},{\"alignmentgroup\":\"True\",\"hovertemplate\":\"name=%{text}\\u003cbr\\u003eactivity=%{x}\\u003cbr\\u003ecount=%{y}\\u003cextra\\u003e\\u003c\\u002fextra\\u003e\",\"legendgroup\":\"6-Pack Holders\",\"marker\":{\"color\":\"#00cc96\",\"pattern\":{\"shape\":\"\"}},\"name\":\"6-Pack Holders\",\"offsetgroup\":\"6-Pack Holders\",\"orientation\":\"v\",\"showlegend\":true,\"text\":[\"6-Pack Holders\"],\"textposition\":\"inside\",\"x\":[\"Eating\\u002fDrinking\"],\"xaxis\":\"x\",\"y\":[2294.0],\"yaxis\":\"y\",\"type\":\"bar\",\"textfont\":{\"size\":10},\"cliponaxis\":false,\"textangle\":0},{\"alignmentgroup\":\"True\",\"hovertemplate\":\"name=%{text}\\u003cbr\\u003eactivity=%{x}\\u003cbr\\u003ecount=%{y}\\u003cextra\\u003e\\u003c\\u002fextra\\u003e\",\"legendgroup\":\"PPE\",\"marker\":{\"color\":\"#ab63fa\",\"pattern\":{\"shape\":\"\"}},\"name\":\"PPE\",\"offsetgroup\":\"PPE\",\"orientation\":\"v\",\"showlegend\":true,\"text\":[\"PPE\"],\"textposition\":\"inside\",\"x\":[\"Hygiene\"],\"xaxis\":\"x\",\"y\":[2254.0],\"yaxis\":\"y\",\"type\":\"bar\",\"textfont\":{\"size\":10},\"cliponaxis\":false,\"textangle\":0},{\"alignmentgroup\":\"True\",\"hovertemplate\":\"name=%{text}\\u003cbr\\u003eactivity=%{x}\\u003cbr\\u003ecount=%{y}\\u003cextra\\u003e\\u003c\\u002fextra\\u003e\",\"legendgroup\":\"Batteries\",\"marker\":{\"color\":\"#FFA15A\",\"pattern\":{\"shape\":\"\"}},\"name\":\"Batteries\",\"offsetgroup\":\"Batteries\",\"orientation\":\"v\",\"showlegend\":true,\"text\":[\"Batteries\"],\"textposition\":\"inside\",\"x\":[\"Dumping\\u002fDisaster\"],\"xaxis\":\"x\",\"y\":[2241.0],\"yaxis\":\"y\",\"type\":\"bar\",\"textfont\":{\"size\":10},\"cliponaxis\":false,\"textangle\":0},{\"alignmentgroup\":\"True\",\"hovertemplate\":\"name=%{text}\\u003cbr\\u003eactivity=%{x}\\u003cbr\\u003ecount=%{y}\\u003cextra\\u003e\\u003c\\u002fextra\\u003e\",\"legendgroup\":\"Bottles, Plastic\",\"marker\":{\"color\":\"#19d3f3\",\"pattern\":{\"shape\":\"\"}},\"name\":\"Bottles, Plastic\",\"offsetgroup\":\"Bottles, Plastic\",\"orientation\":\"v\",\"showlegend\":true,\"text\":[\"Bottles, Plastic\"],\"textposition\":\"inside\",\"x\":[\"Various\"],\"xaxis\":\"x\",\"y\":[2216.0],\"yaxis\":\"y\",\"type\":\"bar\",\"textfont\":{\"size\":10},\"cliponaxis\":false,\"textangle\":0},{\"alignmentgroup\":\"True\",\"hovertemplate\":\"name=%{text}\\u003cbr\\u003eactivity=%{x}\\u003cbr\\u003ecount=%{y}\\u003cextra\\u003e\\u003c\\u002fextra\\u003e\",\"legendgroup\":\"Syringes\",\"marker\":{\"color\":\"#FF6692\",\"pattern\":{\"shape\":\"\"}},\"name\":\"Syringes\",\"offsetgroup\":\"Syringes\",\"orientation\":\"v\",\"showlegend\":true,\"text\":[\"Syringes\"],\"textposition\":\"inside\",\"x\":[\"Hygiene\"],\"xaxis\":\"x\",\"y\":[2059.0],\"yaxis\":\"y\",\"type\":\"bar\",\"textfont\":{\"size\":10},\"cliponaxis\":false,\"textangle\":0},{\"alignmentgroup\":\"True\",\"hovertemplate\":\"name=%{text}\\u003cbr\\u003eactivity=%{x}\\u003cbr\\u003ecount=%{y}\\u003cextra\\u003e\\u003c\\u002fextra\\u003e\",\"legendgroup\":\"Footwear\",\"marker\":{\"color\":\"#B6E880\",\"pattern\":{\"shape\":\"\"}},\"name\":\"Footwear\",\"offsetgroup\":\"Footwear\",\"orientation\":\"v\",\"showlegend\":true,\"text\":[\"Footwear\"],\"textposition\":\"inside\",\"x\":[\"Recreation\"],\"xaxis\":\"x\",\"y\":[2006.5],\"yaxis\":\"y\",\"type\":\"bar\",\"textfont\":{\"size\":10},\"cliponaxis\":false,\"textangle\":0},{\"alignmentgroup\":\"True\",\"hovertemplate\":\"name=%{text}\\u003cbr\\u003eactivity=%{x}\\u003cbr\\u003ecount=%{y}\\u003cextra\\u003e\\u003c\\u002fextra\\u003e\",\"legendgroup\":\"Cigar Tips\",\"marker\":{\"color\":\"#FF97FF\",\"pattern\":{\"shape\":\"\"}},\"name\":\"Cigar Tips\",\"offsetgroup\":\"Cigar Tips\",\"orientation\":\"v\",\"showlegend\":true,\"text\":[\"Cigar Tips\"],\"textposition\":\"inside\",\"x\":[\"Smoking\"],\"xaxis\":\"x\",\"y\":[1537.0],\"yaxis\":\"y\",\"type\":\"bar\",\"textfont\":{\"size\":10},\"cliponaxis\":false,\"textangle\":0},{\"alignmentgroup\":\"True\",\"hovertemplate\":\"name=%{text}\\u003cbr\\u003eactivity=%{x}\\u003cbr\\u003ecount=%{y}\\u003cextra\\u003e\\u003c\\u002fextra\\u003e\",\"legendgroup\":\"Rope\",\"marker\":{\"color\":\"#FECB52\",\"pattern\":{\"shape\":\"\"}},\"name\":\"Rope\",\"offsetgroup\":\"Rope\",\"orientation\":\"v\",\"showlegend\":true,\"text\":[\"Rope\"],\"textposition\":\"inside\",\"x\":[\"Various\"],\"xaxis\":\"x\",\"y\":[1423.0],\"yaxis\":\"y\",\"type\":\"bar\",\"textfont\":{\"size\":10},\"cliponaxis\":false,\"textangle\":0},{\"alignmentgroup\":\"True\",\"hovertemplate\":\"name=%{text}\\u003cbr\\u003eactivity=%{x}\\u003cbr\\u003ecount=%{y}\\u003cextra\\u003e\\u003c\\u002fextra\\u003e\",\"legendgroup\":\"Beverage Bottles\",\"marker\":{\"color\":\"#636efa\",\"pattern\":{\"shape\":\"\"}},\"name\":\"Beverage Bottles\",\"offsetgroup\":\"Beverage Bottles\",\"orientation\":\"v\",\"showlegend\":true,\"text\":[\"Beverage Bottles\"],\"textposition\":\"inside\",\"x\":[\"Eating\\u002fDrinking\"],\"xaxis\":\"x\",\"y\":[1413.0],\"yaxis\":\"y\",\"type\":\"bar\",\"textfont\":{\"size\":10},\"cliponaxis\":false,\"textangle\":0},{\"alignmentgroup\":\"True\",\"hovertemplate\":\"name=%{text}\\u003cbr\\u003eactivity=%{x}\\u003cbr\\u003ecount=%{y}\\u003cextra\\u003e\\u003c\\u002fextra\\u003e\",\"legendgroup\":\"Tires\",\"marker\":{\"color\":\"#EF553B\",\"pattern\":{\"shape\":\"\"}},\"name\":\"Tires\",\"offsetgroup\":\"Tires\",\"orientation\":\"v\",\"showlegend\":true,\"text\":[\"Tires\"],\"textposition\":\"inside\",\"x\":[\"Dumping\\u002fDisaster\"],\"xaxis\":\"x\",\"y\":[684.25],\"yaxis\":\"y\",\"type\":\"bar\",\"textfont\":{\"size\":10},\"cliponaxis\":false,\"textangle\":0},{\"alignmentgroup\":\"True\",\"hovertemplate\":\"name=%{text}\\u003cbr\\u003eactivity=%{x}\\u003cbr\\u003ecount=%{y}\\u003cextra\\u003e\\u003c\\u002fextra\\u003e\",\"legendgroup\":\"Bagged Pet Waste\",\"marker\":{\"color\":\"#00cc96\",\"pattern\":{\"shape\":\"\"}},\"name\":\"Bagged Pet Waste\",\"offsetgroup\":\"Bagged Pet Waste\",\"orientation\":\"v\",\"showlegend\":true,\"text\":[\"Bagged Pet Waste\"],\"textposition\":\"inside\",\"x\":[\"Recreation\"],\"xaxis\":\"x\",\"y\":[636.0],\"yaxis\":\"y\",\"type\":\"bar\",\"textfont\":{\"size\":10},\"cliponaxis\":false,\"textangle\":0},{\"alignmentgroup\":\"True\",\"hovertemplate\":\"name=%{text}\\u003cbr\\u003eactivity=%{x}\\u003cbr\\u003ecount=%{y}\\u003cextra\\u003e\\u003c\\u002fextra\\u003e\",\"legendgroup\":\"Beverage Pouches\",\"marker\":{\"color\":\"#ab63fa\",\"pattern\":{\"shape\":\"\"}},\"name\":\"Beverage Pouches\",\"offsetgroup\":\"Beverage Pouches\",\"orientation\":\"v\",\"showlegend\":true,\"text\":[\"Beverage Pouches\"],\"textposition\":\"inside\",\"x\":[\"Eating\\u002fDrinking\"],\"xaxis\":\"x\",\"y\":[625.0],\"yaxis\":\"y\",\"type\":\"bar\",\"textfont\":{\"size\":10},\"cliponaxis\":false,\"textangle\":0},{\"alignmentgroup\":\"True\",\"hovertemplate\":\"name=%{text}\\u003cbr\\u003eactivity=%{x}\\u003cbr\\u003ecount=%{y}\\u003cextra\\u003e\\u003c\\u002fextra\\u003e\",\"legendgroup\":\"Appliances\",\"marker\":{\"color\":\"#FFA15A\",\"pattern\":{\"shape\":\"\"}},\"name\":\"Appliances\",\"offsetgroup\":\"Appliances\",\"orientation\":\"v\",\"showlegend\":true,\"text\":[\"Appliances\"],\"textposition\":\"inside\",\"x\":[\"Dumping\\u002fDisaster\"],\"xaxis\":\"x\",\"y\":[564.0],\"yaxis\":\"y\",\"type\":\"bar\",\"textfont\":{\"size\":10},\"cliponaxis\":false,\"textangle\":0},{\"alignmentgroup\":\"True\",\"hovertemplate\":\"name=%{text}\\u003cbr\\u003eactivity=%{x}\\u003cbr\\u003ecount=%{y}\\u003cextra\\u003e\\u003c\\u002fextra\\u003e\",\"legendgroup\":\"E-Waste\",\"marker\":{\"color\":\"#19d3f3\",\"pattern\":{\"shape\":\"\"}},\"name\":\"E-Waste\",\"offsetgroup\":\"E-Waste\",\"orientation\":\"v\",\"showlegend\":true,\"text\":[\"E-Waste\"],\"textposition\":\"inside\",\"x\":[\"Smoking\"],\"xaxis\":\"x\",\"y\":[347.0],\"yaxis\":\"y\",\"type\":\"bar\",\"textfont\":{\"size\":10},\"cliponaxis\":false,\"textangle\":0},{\"alignmentgroup\":\"True\",\"hovertemplate\":\"name=%{text}\\u003cbr\\u003eactivity=%{x}\\u003cbr\\u003ecount=%{y}\\u003cextra\\u003e\\u003c\\u002fextra\\u003e\",\"legendgroup\":\"Car Parts\",\"marker\":{\"color\":\"#FF6692\",\"pattern\":{\"shape\":\"\"}},\"name\":\"Car Parts\",\"offsetgroup\":\"Car Parts\",\"orientation\":\"v\",\"showlegend\":true,\"text\":[\"Car Parts\"],\"textposition\":\"inside\",\"x\":[\"Dumping\\u002fDisaster\"],\"xaxis\":\"x\",\"y\":[260.0],\"yaxis\":\"y\",\"type\":\"bar\",\"textfont\":{\"size\":10},\"cliponaxis\":false,\"textangle\":0},{\"alignmentgroup\":\"True\",\"hovertemplate\":\"name=%{text}\\u003cbr\\u003eactivity=%{x}\\u003cbr\\u003ecount=%{y}\\u003cextra\\u003e\\u003c\\u002fextra\\u003e\",\"legendgroup\":\"Bikes\",\"marker\":{\"color\":\"#B6E880\",\"pattern\":{\"shape\":\"\"}},\"name\":\"Bikes\",\"offsetgroup\":\"Bikes\",\"orientation\":\"v\",\"showlegend\":true,\"text\":[\"Bikes\"],\"textposition\":\"inside\",\"x\":[\"Recreation\"],\"xaxis\":\"x\",\"y\":[199.0],\"yaxis\":\"y\",\"type\":\"bar\",\"textfont\":{\"size\":10},\"cliponaxis\":false,\"textangle\":0}],                        {\"template\":{\"data\":{\"histogram2dcontour\":[{\"type\":\"histogram2dcontour\",\"colorbar\":{\"outlinewidth\":0,\"ticks\":\"\"},\"colorscale\":[[0.0,\"#0d0887\"],[0.1111111111111111,\"#46039f\"],[0.2222222222222222,\"#7201a8\"],[0.3333333333333333,\"#9c179e\"],[0.4444444444444444,\"#bd3786\"],[0.5555555555555556,\"#d8576b\"],[0.6666666666666666,\"#ed7953\"],[0.7777777777777778,\"#fb9f3a\"],[0.8888888888888888,\"#fdca26\"],[1.0,\"#f0f921\"]]}],\"choropleth\":[{\"type\":\"choropleth\",\"colorbar\":{\"outlinewidth\":0,\"ticks\":\"\"}}],\"histogram2d\":[{\"type\":\"histogram2d\",\"colorbar\":{\"outlinewidth\":0,\"ticks\":\"\"},\"colorscale\":[[0.0,\"#0d0887\"],[0.1111111111111111,\"#46039f\"],[0.2222222222222222,\"#7201a8\"],[0.3333333333333333,\"#9c179e\"],[0.4444444444444444,\"#bd3786\"],[0.5555555555555556,\"#d8576b\"],[0.6666666666666666,\"#ed7953\"],[0.7777777777777778,\"#fb9f3a\"],[0.8888888888888888,\"#fdca26\"],[1.0,\"#f0f921\"]]}],\"heatmap\":[{\"type\":\"heatmap\",\"colorbar\":{\"outlinewidth\":0,\"ticks\":\"\"},\"colorscale\":[[0.0,\"#0d0887\"],[0.1111111111111111,\"#46039f\"],[0.2222222222222222,\"#7201a8\"],[0.3333333333333333,\"#9c179e\"],[0.4444444444444444,\"#bd3786\"],[0.5555555555555556,\"#d8576b\"],[0.6666666666666666,\"#ed7953\"],[0.7777777777777778,\"#fb9f3a\"],[0.8888888888888888,\"#fdca26\"],[1.0,\"#f0f921\"]]}],\"heatmapgl\":[{\"type\":\"heatmapgl\",\"colorbar\":{\"outlinewidth\":0,\"ticks\":\"\"},\"colorscale\":[[0.0,\"#0d0887\"],[0.1111111111111111,\"#46039f\"],[0.2222222222222222,\"#7201a8\"],[0.3333333333333333,\"#9c179e\"],[0.4444444444444444,\"#bd3786\"],[0.5555555555555556,\"#d8576b\"],[0.6666666666666666,\"#ed7953\"],[0.7777777777777778,\"#fb9f3a\"],[0.8888888888888888,\"#fdca26\"],[1.0,\"#f0f921\"]]}],\"contourcarpet\":[{\"type\":\"contourcarpet\",\"colorbar\":{\"outlinewidth\":0,\"ticks\":\"\"}}],\"contour\":[{\"type\":\"contour\",\"colorbar\":{\"outlinewidth\":0,\"ticks\":\"\"},\"colorscale\":[[0.0,\"#0d0887\"],[0.1111111111111111,\"#46039f\"],[0.2222222222222222,\"#7201a8\"],[0.3333333333333333,\"#9c179e\"],[0.4444444444444444,\"#bd3786\"],[0.5555555555555556,\"#d8576b\"],[0.6666666666666666,\"#ed7953\"],[0.7777777777777778,\"#fb9f3a\"],[0.8888888888888888,\"#fdca26\"],[1.0,\"#f0f921\"]]}],\"surface\":[{\"type\":\"surface\",\"colorbar\":{\"outlinewidth\":0,\"ticks\":\"\"},\"colorscale\":[[0.0,\"#0d0887\"],[0.1111111111111111,\"#46039f\"],[0.2222222222222222,\"#7201a8\"],[0.3333333333333333,\"#9c179e\"],[0.4444444444444444,\"#bd3786\"],[0.5555555555555556,\"#d8576b\"],[0.6666666666666666,\"#ed7953\"],[0.7777777777777778,\"#fb9f3a\"],[0.8888888888888888,\"#fdca26\"],[1.0,\"#f0f921\"]]}],\"mesh3d\":[{\"type\":\"mesh3d\",\"colorbar\":{\"outlinewidth\":0,\"ticks\":\"\"}}],\"scatter\":[{\"fillpattern\":{\"fillmode\":\"overlay\",\"size\":10,\"solidity\":0.2},\"type\":\"scatter\"}],\"parcoords\":[{\"type\":\"parcoords\",\"line\":{\"colorbar\":{\"outlinewidth\":0,\"ticks\":\"\"}}}],\"scatterpolargl\":[{\"type\":\"scatterpolargl\",\"marker\":{\"colorbar\":{\"outlinewidth\":0,\"ticks\":\"\"}}}],\"bar\":[{\"error_x\":{\"color\":\"#2a3f5f\"},\"error_y\":{\"color\":\"#2a3f5f\"},\"marker\":{\"line\":{\"color\":\"#E5ECF6\",\"width\":0.5},\"pattern\":{\"fillmode\":\"overlay\",\"size\":10,\"solidity\":0.2}},\"type\":\"bar\"}],\"scattergeo\":[{\"type\":\"scattergeo\",\"marker\":{\"colorbar\":{\"outlinewidth\":0,\"ticks\":\"\"}}}],\"scatterpolar\":[{\"type\":\"scatterpolar\",\"marker\":{\"colorbar\":{\"outlinewidth\":0,\"ticks\":\"\"}}}],\"histogram\":[{\"marker\":{\"pattern\":{\"fillmode\":\"overlay\",\"size\":10,\"solidity\":0.2}},\"type\":\"histogram\"}],\"scattergl\":[{\"type\":\"scattergl\",\"marker\":{\"colorbar\":{\"outlinewidth\":0,\"ticks\":\"\"}}}],\"scatter3d\":[{\"type\":\"scatter3d\",\"line\":{\"colorbar\":{\"outlinewidth\":0,\"ticks\":\"\"}},\"marker\":{\"colorbar\":{\"outlinewidth\":0,\"ticks\":\"\"}}}],\"scattermapbox\":[{\"type\":\"scattermapbox\",\"marker\":{\"colorbar\":{\"outlinewidth\":0,\"ticks\":\"\"}}}],\"scatterternary\":[{\"type\":\"scatterternary\",\"marker\":{\"colorbar\":{\"outlinewidth\":0,\"ticks\":\"\"}}}],\"scattercarpet\":[{\"type\":\"scattercarpet\",\"marker\":{\"colorbar\":{\"outlinewidth\":0,\"ticks\":\"\"}}}],\"carpet\":[{\"aaxis\":{\"endlinecolor\":\"#2a3f5f\",\"gridcolor\":\"white\",\"linecolor\":\"white\",\"minorgridcolor\":\"white\",\"startlinecolor\":\"#2a3f5f\"},\"baxis\":{\"endlinecolor\":\"#2a3f5f\",\"gridcolor\":\"white\",\"linecolor\":\"white\",\"minorgridcolor\":\"white\",\"startlinecolor\":\"#2a3f5f\"},\"type\":\"carpet\"}],\"table\":[{\"cells\":{\"fill\":{\"color\":\"#EBF0F8\"},\"line\":{\"color\":\"white\"}},\"header\":{\"fill\":{\"color\":\"#C8D4E3\"},\"line\":{\"color\":\"white\"}},\"type\":\"table\"}],\"barpolar\":[{\"marker\":{\"line\":{\"color\":\"#E5ECF6\",\"width\":0.5},\"pattern\":{\"fillmode\":\"overlay\",\"size\":10,\"solidity\":0.2}},\"type\":\"barpolar\"}],\"pie\":[{\"automargin\":true,\"type\":\"pie\"}]},\"layout\":{\"autotypenumbers\":\"strict\",\"colorway\":[\"#636efa\",\"#EF553B\",\"#00cc96\",\"#ab63fa\",\"#FFA15A\",\"#19d3f3\",\"#FF6692\",\"#B6E880\",\"#FF97FF\",\"#FECB52\"],\"font\":{\"color\":\"#2a3f5f\"},\"hovermode\":\"closest\",\"hoverlabel\":{\"align\":\"left\"},\"paper_bgcolor\":\"white\",\"plot_bgcolor\":\"#E5ECF6\",\"polar\":{\"bgcolor\":\"#E5ECF6\",\"angularaxis\":{\"gridcolor\":\"white\",\"linecolor\":\"white\",\"ticks\":\"\"},\"radialaxis\":{\"gridcolor\":\"white\",\"linecolor\":\"white\",\"ticks\":\"\"}},\"ternary\":{\"bgcolor\":\"#E5ECF6\",\"aaxis\":{\"gridcolor\":\"white\",\"linecolor\":\"white\",\"ticks\":\"\"},\"baxis\":{\"gridcolor\":\"white\",\"linecolor\":\"white\",\"ticks\":\"\"},\"caxis\":{\"gridcolor\":\"white\",\"linecolor\":\"white\",\"ticks\":\"\"}},\"coloraxis\":{\"colorbar\":{\"outlinewidth\":0,\"ticks\":\"\"}},\"colorscale\":{\"sequential\":[[0.0,\"#0d0887\"],[0.1111111111111111,\"#46039f\"],[0.2222222222222222,\"#7201a8\"],[0.3333333333333333,\"#9c179e\"],[0.4444444444444444,\"#bd3786\"],[0.5555555555555556,\"#d8576b\"],[0.6666666666666666,\"#ed7953\"],[0.7777777777777778,\"#fb9f3a\"],[0.8888888888888888,\"#fdca26\"],[1.0,\"#f0f921\"]],\"sequentialminus\":[[0.0,\"#0d0887\"],[0.1111111111111111,\"#46039f\"],[0.2222222222222222,\"#7201a8\"],[0.3333333333333333,\"#9c179e\"],[0.4444444444444444,\"#bd3786\"],[0.5555555555555556,\"#d8576b\"],[0.6666666666666666,\"#ed7953\"],[0.7777777777777778,\"#fb9f3a\"],[0.8888888888888888,\"#fdca26\"],[1.0,\"#f0f921\"]],\"diverging\":[[0,\"#8e0152\"],[0.1,\"#c51b7d\"],[0.2,\"#de77ae\"],[0.3,\"#f1b6da\"],[0.4,\"#fde0ef\"],[0.5,\"#f7f7f7\"],[0.6,\"#e6f5d0\"],[0.7,\"#b8e186\"],[0.8,\"#7fbc41\"],[0.9,\"#4d9221\"],[1,\"#276419\"]]},\"xaxis\":{\"gridcolor\":\"white\",\"linecolor\":\"white\",\"ticks\":\"\",\"title\":{\"standoff\":15},\"zerolinecolor\":\"white\",\"automargin\":true,\"zerolinewidth\":2},\"yaxis\":{\"gridcolor\":\"white\",\"linecolor\":\"white\",\"ticks\":\"\",\"title\":{\"standoff\":15},\"zerolinecolor\":\"white\",\"automargin\":true,\"zerolinewidth\":2},\"scene\":{\"xaxis\":{\"backgroundcolor\":\"#E5ECF6\",\"gridcolor\":\"white\",\"linecolor\":\"white\",\"showbackground\":true,\"ticks\":\"\",\"zerolinecolor\":\"white\",\"gridwidth\":2},\"yaxis\":{\"backgroundcolor\":\"#E5ECF6\",\"gridcolor\":\"white\",\"linecolor\":\"white\",\"showbackground\":true,\"ticks\":\"\",\"zerolinecolor\":\"white\",\"gridwidth\":2},\"zaxis\":{\"backgroundcolor\":\"#E5ECF6\",\"gridcolor\":\"white\",\"linecolor\":\"white\",\"showbackground\":true,\"ticks\":\"\",\"zerolinecolor\":\"white\",\"gridwidth\":2}},\"shapedefaults\":{\"line\":{\"color\":\"#2a3f5f\"}},\"annotationdefaults\":{\"arrowcolor\":\"#2a3f5f\",\"arrowhead\":0,\"arrowwidth\":1},\"geo\":{\"bgcolor\":\"white\",\"landcolor\":\"#E5ECF6\",\"subunitcolor\":\"white\",\"showland\":true,\"showlakes\":true,\"lakecolor\":\"white\"},\"title\":{\"x\":0.05},\"mapbox\":{\"style\":\"light\"}}},\"xaxis\":{\"anchor\":\"y\",\"domain\":[0.0,1.0],\"title\":{\"text\":\"Activity\"},\"categoryorder\":\"total descending\"},\"yaxis\":{\"anchor\":\"x\",\"domain\":[0.0,1.0],\"title\":{\"text\":\"Total Number of Items\"}},\"legend\":{\"title\":{\"text\":\"Debris Category\"},\"tracegroupgap\":0},\"margin\":{\"t\":60},\"barmode\":\"relative\",\"autosize\":false,\"width\":1000,\"height\":700,\"title\":{\"text\":\"Number of Debris Items Collected By Activity, 2013-23\"}},                        {\"responsive\": true}                    ).then(function(){\n",
       "                            \n",
       "var gd = document.getElementById('2922f52c-9a39-40cb-910a-88e7f3b960c8');\n",
       "var x = new MutationObserver(function (mutations, observer) {{\n",
       "        var display = window.getComputedStyle(gd).display;\n",
       "        if (!display || display === 'none') {{\n",
       "            console.log([gd, 'removed!']);\n",
       "            Plotly.purge(gd);\n",
       "            observer.disconnect();\n",
       "        }}\n",
       "}});\n",
       "\n",
       "// Listen for the removal of the full notebook cells\n",
       "var notebookContainer = gd.closest('#notebook-container');\n",
       "if (notebookContainer) {{\n",
       "    x.observe(notebookContainer, {childList: true});\n",
       "}}\n",
       "\n",
       "// Listen for the clearing of the current output cell\n",
       "var outputEl = gd.closest('.output');\n",
       "if (outputEl) {{\n",
       "    x.observe(outputEl, {childList: true});\n",
       "}}\n",
       "\n",
       "                        })                };                });            </script>        </div>"
      ]
     },
     "metadata": {},
     "output_type": "display_data"
    }
   ],
   "source": [
    "fig = graph_maker.activity_graph()\n",
    "fig.show()"
   ]
  },
  {
   "cell_type": "markdown",
   "id": "4b99daca-ec65-4283-a270-c60a89f1a8b5",
   "metadata": {},
   "source": [
    "Eating and drinking contributed to the most marine debris of all the recognizable activites (not including Various). After that comes smoking, and the vast majority of Smoking items were cigarette butts. Recreation, Dumping/Disaster, Hygiene and Fishing resulted in much fewer trash items than the other two recognizable activities.\n",
    "The single largest trash item from any recognizable activity was cigarett butts, despite the fact that only about 10% of Californians smoke but we all eat and drink."
   ]
  }
 ],
 "metadata": {
  "kernelspec": {
   "display_name": "Python 3 (ipykernel)",
   "language": "python",
   "name": "python3"
  },
  "language_info": {
   "codemirror_mode": {
    "name": "ipython",
    "version": 3
   },
   "file_extension": ".py",
   "mimetype": "text/x-python",
   "name": "python",
   "nbconvert_exporter": "python",
   "pygments_lexer": "ipython3",
   "version": "3.12.5"
  },
  "widgets": {
   "application/vnd.jupyter.widget-state+json": {
    "state": {},
    "version_major": 2,
    "version_minor": 0
   }
  }
 },
 "nbformat": 4,
 "nbformat_minor": 5
}
