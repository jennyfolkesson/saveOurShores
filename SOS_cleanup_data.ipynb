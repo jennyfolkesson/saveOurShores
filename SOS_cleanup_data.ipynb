{
 "cells": [
  {
   "attachments": {
    "0b4905f1-0d21-4b9b-8ef4-d3e5300ddc11.png": {
     "image/png": "[encoded data removed]"
    }
   },
   "cell_type": "markdown",
   "id": "af6bbee6-4899-4434-a299-c33c8a61f553",
   "metadata": {},
   "source": [
    "![SOS-side-by-side-Logo_Digital-4.png](attachment:0b4905f1-0d21-4b9b-8ef4-d3e5300ddc11.png)\n",
    "\n",
    "# Visualizations of Save Our Shores Cleanup Data 2013-2022\n",
    "\n",
    "[Save Our Shores](https://saveourshores.org) (SOS) is a non-profit dedicated to ocean conservation in the Monterey Bay through education, advocacy, and beach cleanups. SOS organize many cleanup events every year, and they also coordinate over 60 cleanup sites around the Monterey Bay Marine National Sanctuary for the Annual Coastal Cleanup Day in September every year. For each event they record data such as location, number of volunteers, duration, weight of trash and recycling, and types of items cleaned up, and data has been collected since 2013.\n",
    "\n",
    "This creates a rich data set that can be used to help drive policy changes, e.g. around single use plastic. The National Oceanic and Atmospheric Administration (NOAA) used the SOS data, along with other data sets, in their recent report [\"Marine debris on the shoreline of Monterey Bay National Marine Sanctuary: An assessment of behaviors contributing to marine debris, categories & composition, spatial distribution, and predictor variables\"](https://marinedebris.noaa.gov/other-reports/marine-debris-shoreline-monterey-bay-national-marine-sanctuary-assessment-behaviors). In it, they analyzed what types of trash are most prevalent, what activities they stem from, as well as exploring predictors of marine debris and suggesting recommendations.\n",
    "When possible, the debris categories in the SOS data set have been organized to match those in NOAA's Monterey Bay National Marine Sanctuary Marine Debris report. There are some open questions, such as ambiguous category names and unknown materials. For full transparency, the configuration YAML file for categorizing items, and the code used for extracting, transforming and loading data can be seen in [in this GitHub repository](https://github.com/jennyfolkesson/cleanupShores).\n",
    "\n",
    "A current focus for SOS is cigarette butt waste. [Cigarette butts are prevalent on our beaches and negatively impacts our ecosystems](https://www.theguardian.com/environment/2022/aug/18/cigarette-butts-how-the-no-1-most-littered-objects-are-choking-our-coasts). Filters were added to cigarette to alleviate concers about lung cancer risk, but [may in fact increase harm](https://www.ncbi.nlm.nih.gov/pmc/articles/PMC9340047) by giving smokers a false sense of security. Since cigarette butts don't seem to benefit smokers and they wreak havoc on the environment, it raises the question of why they are tolerated in the first place.\n",
    "\n",
    "In this notebook, the SOS data set is analyzed by intermingling code, graphs and a discussion of the findings. I will first show how the data is structured, followed by visualizing total debris numbers for all years grouped by material, activity and cleanup site. After that I look at the numbers longitudinally, followed by an analysis of the relationship between number of volunteers and number of debris items. I then revisit the longitudinal evaluation of debris plotted on a per volunteer basis. Finally I look at debris caused by smoking more specifically.\n",
    "\n",
    "Note: since many graphs are interactive, this document is best viewed as an html or with a notebook viewer. You can view this notebook online [here.](https://nbviewer.org/github/jennyfolkesson/saveOurShores/blob/main/SOS_cleanup_data.ipynb?flush_cache=True)"
   ]
  },
  {
   "cell_type": "code",
   "execution_count": null,
   "id": "9254f721-fdfc-44c3-823a-c5382f174f41",
   "metadata": {},
   "outputs": [],
   "source": [
    "import circlify\n",
    "import glob\n",
    "import numpy as np\n",
    "import os\n",
    "import pandas as pd\n",
    "import plotly\n",
    "import plotly.express as px\n",
    "import plotly.graph_objects as go\n",
    "from pprint import pprint\n",
    "import tabulate\n",
    "\n",
    "import cleanup as cleanup \n",
    "import graphs as graphs\n",
    "\n",
    "import plotly.io as pio\n",
    "from plotly.offline import init_notebook_mode\n",
    "\n",
    "pio.renderers.default = \"notebook_connected\"\n",
    "init_notebook_mode(connected=True)"
   ]
  },
  {
   "cell_type": "markdown",
   "id": "df8b8a90-7b26-41b5-8dcc-d658ba60d672",
   "metadata": {},
   "source": [
    "The SOS data has been stored in 1-2 xslx files for each year, with a wide variety of item names, types and site names. In some files rows and columns are flipped. The function call below will read the file where data from all years are combined, or create the file and save it if it is't in the directory already. The function call read_data will, in addition to individual xslx files, read a [config file](https://github.com/jennyfolkesson/saveOurShores/blob/main/column_categories.yml) which helps organize trash categories."
   ]
  },
  {
   "cell_type": "code",
   "execution_count": null,
   "id": "a423a964-c918-47c0-8e35-84ebd8e07a2a",
   "metadata": {},
   "outputs": [],
   "source": [
    "# The directory is named 2013-22 because I got it before I got data from 2023\n",
    "data_dir = '/Users/jenny.folkesson/Data/SOS Cleanup Data 2013-2022'\n",
    "sos_data, col_config = cleanup.read_data(data_dir)"
   ]
  },
  {
   "cell_type": "markdown",
   "id": "22facbf0-54e6-48bb-9d57-6d70c4608b09",
   "metadata": {},
   "source": [
    "Below you can see the structure of the combined data set for all years, which is is a Pandas DataFrame. The first five rows are displayed."
   ]
  },
  {
   "cell_type": "code",
   "execution_count": null,
   "id": "95098a54-9d6d-43fd-9ff4-f95d95613188",
   "metadata": {},
   "outputs": [],
   "source": [
    "sos_data.head()"
   ]
  },
  {
   "cell_type": "markdown",
   "id": "52e28345-5d41-4d18-89c6-d4ad449a04dd",
   "metadata": {},
   "source": [
    "There's also a config file that describes what each of the column names of the sos_data is in further detail. Each column name has following characteristics:\n",
    "\n",
    "* **name** Column name\n",
    "* **sources** Potential source names in various spreadsheets throughout the years\n",
    "* **type** Data type (datetime, str, int, float)\n",
    "* **required** Indicates if column is required to analyze the data (boolean)\n",
    "* **material** The material the debris item is made from (plastic, wood, glass, metal, mixed). NA for columns that are not items\n",
    "* **activity** The activity the debris item stems from (Various, Eating/Drinking, Dumping/Disaster, 'Smoking', 'Hygiene')"
   ]
  },
  {
   "cell_type": "code",
   "execution_count": null,
   "id": "6c22d93a-47f4-4451-a8c5-db8514decf3f",
   "metadata": {},
   "outputs": [],
   "source": [
    "col_config.head()"
   ]
  },
  {
   "cell_type": "markdown",
   "id": "aa3045a9-cbdd-41e7-8268-ffa7cddeca86",
   "metadata": {},
   "source": [
    "# Total Amount of Debris Collected by Save Our Shores in the Years 2013-23\n",
    "\n",
    "We'll start with an overview of the sum of all the debris collected throughout the years, including the most common trash categories, the most common cleanup sites, and trash categories organized by activity.\n",
    "\n",
    "## Debris Organized by Material\n",
    "\n",
    "The graph below shows the total amount of items for each debris category. This is a circle packing graph, where circle areas are proportional to amount they're describing. The location of the circles is determined by a heuristic that aims to arrange circles of varying sizes within a larger circle perimeter to maximize circle density. When circles are too small to display the text within them, the text has been removed with the motivation that larger circles require more immediate attention. Instead you can hover over the circle to see the item category and number if you're vieving an [interactive version of this document.](https://nbviewer.org/github/jennyfolkesson/saveOurShores/blob/main/SOS_cleanup_data.ipynb?flush_cache=True)\n",
    "The circles are color coded based on their material, with the categories **Mixed**, **Wood**, **Glass**, **Metal**, **Cloth** and **Plastic**."
   ]
  },
  {
   "cell_type": "code",
   "execution_count": null,
   "id": "9c469926-1592-4305-8002-fd40a2f5e583",
   "metadata": {},
   "outputs": [],
   "source": [
    "# Instantiate graph making object\n",
    "graph_maker = graphs.GraphMaker(data_dir, sos_data, col_config)"
   ]
  },
  {
   "cell_type": "code",
   "execution_count": null,
   "id": "b484de63-e5e6-499f-8be0-d1c525d3a217",
   "metadata": {},
   "outputs": [],
   "source": [
    "fig = graph_maker.circle_packing_graph(plot_colors=None)\n",
    "fig.show()"
   ]
  },
  {
   "cell_type": "markdown",
   "id": "f1bbfb5e-801c-4151-8d86-44b03c2f40d3",
   "metadata": {},
   "source": [
    "The circle packing graph above shows the total number of items cleaned up by Save Our Shores 2013-2023, organized by debris categories and color coded by material. The area of the circle is proportional to the number of items cleaned up. In circles too small to fit the item name and quanitity inside, you can hover over the center of the circle to find that information. More than one circle with the same category name (e.g. Bottle Caps) are differentiated by material.\n",
    "\n",
    "The color coding of the circles makes it obvious that plastic (in red) is by far the most common material of all the marine debris cleaned up by SOS. This aligns with findings that [80% of marine debris is made up of plastic](https://oceanliteracy.unesco.org/plastic-pollution-ocean/)."
   ]
  },
  {
   "cell_type": "markdown",
   "id": "cb4dc8d6-18b2-4785-b06f-416d0fd4ad11",
   "metadata": {},
   "source": [
    "## Debris Organized by Activity\n",
    "\n",
    "In [NOAA's marine debris report](https://marinedebris.noaa.gov/other-reports/marine-debris-shoreline-monterey-bay-national-marine-sanctuary-assessment-behaviors-contributing-marine-debris-categories-composition-spatial-distribution-and-predictor-variables), in Section 3, trash is organized into the following activities:\n",
    "\n",
    "* **Eating & Drinking:** Associated trash categories include utensils and plates, take-out food containers, bottles, straws, and wrappers.\n",
    "* **Smoking:** Trash left behind from smoking cigarettes, cigars, and vaping included butts, packaging, containers, and other smoking items.\n",
    "* **Personal Hygiene:** Items include any personal protective or sanitary products such as face masks, gloves, condoms, tampons, diapers and syringes.\n",
    "* **Recreation:** Items associated with recreation on the beach or elsewhere (other than fishing) include balloons, toys, clothing, and dog waste bags.\n",
    "* **Dumping and Disaster:** Industrial and household waste dumping includes trash that may originate from unintentional or illegal dumping. This category also includes items resulting from storm damage, coastal erosion, or degrading harbors. Items include appliances, construction\n",
    "material, and tires.\n",
    "* **Various:** Trash that could have originated from any one of the other six activities but could not be identified with a specific activity. Examples include packaging, caps and bottles that may not have contained beverages, and fragmented pieces of plastic, glass, or metal.\n",
    "\n",
    "Here, SOS cleanup data is categorized by activity and displayed in a bar graph. It's inspired by Figure 10 in Section 3 of NOAA's report, but the pie chart is replaced with a bar chart for (in my opinion) more easily interpretable results. Activity names are sligthy modified to **Eating/Drinking**, **Smoking**, **Hygiene**, **Recreation**, **Dumping/Disaster** and **Various**."
   ]
  },
  {
   "cell_type": "code",
   "execution_count": null,
   "id": "3eff386e-e893-4d8c-a8ec-57e7e28ec489",
   "metadata": {},
   "outputs": [],
   "source": [
    "fig = graph_maker.activity_graph()\n",
    "fig.show()"
   ]
  },
  {
   "cell_type": "markdown",
   "id": "64a15a1e-9732-4236-ac3c-684d651441e1",
   "metadata": {},
   "source": [
    "Eating and drinking contributed to the most marine debris of all the recognizable activites (which doesn't include Various). After that comes smoking, and the vast majority of Smoking items are cigarette butts. Recreation, Dumping/Disaster, Hygiene and Fishing resulted in much fewer debris items than the other two recognizable activities.\n",
    "\n",
    "The fact that the single largest trash item from any recognizable activity is cigarett butts is striking, since only about 10% of Californians smoke but we all eat and drink."
   ]
  },
  {
   "cell_type": "markdown",
   "id": "9be4b8da-9328-499e-a48e-d731575b0783",
   "metadata": {},
   "source": [
    "## Number of Debris Items by Cleanup Site\n",
    "\n",
    "There were multiple different names and spellings for what appeared to be the same sites. The configuration file which defines how site names are consolidated is [here](https://github.com/jennyfolkesson/cleanupShores/blob/main/site_categories.yml), but it may not be complete which means that some lesser known sites might still have repeat entries. This will have to be validated by Save Our Shores.\n",
    "Some sites were defined by geographic coordinates instead of site names. In those cases, the coordinates were matched to the known coordinates from the most common sites in an attempt to assign site names to them."
   ]
  },
  {
   "cell_type": "code",
   "execution_count": null,
   "id": "e28191e3-3a28-4312-b7d1-5457ecbd82cc",
   "metadata": {},
   "outputs": [],
   "source": [
    "fig = graph_maker.volunteers_by_site()\n",
    "fig.show()"
   ]
  },
  {
   "cell_type": "markdown",
   "id": "68783a25-d5cf-43b2-bb1c-67b705fe4a3f",
   "metadata": {},
   "source": [
    "# Longitudinal Evaluation Debris Data\n",
    "\n",
    "Here we'll look at the number of items cleaned up on a year by year basis for the years 2013-2023. We'll also look at the number of volunteers for each year. The data is grouped by year, and a column for the total number of volunteers is added. The total number of volunteers is defined as number of adults + 0.5 * number of youths in NOAA's marine debris report, and we'll follow that nomenclature here.\n",
    "\n",
    "## Total Number of Items by Debris Category\n",
    "\n",
    "First out we'll plot the number of debris items collected each year as a basic bar graph, where the bars are partitioned into the debris categories."
   ]
  },
  {
   "cell_type": "code",
   "execution_count": null,
   "id": "6f6954c3-7c9c-4e3b-bc76-3b7280bae752",
   "metadata": {
    "scrolled": true
   },
   "outputs": [],
   "source": [
    "fig = graph_maker.annual_total_bar()\n",
    "fig.show()"
   ]
  },
  {
   "cell_type": "markdown",
   "id": "46a94fbb-e79f-4669-9bbd-de2159cfb22e",
   "metadata": {},
   "source": [
    "The bar graph above shows the number of items cleaned up in the years 2013-2023 by category. Including all trash categories above looks pretty busy and makes it hard to compare sizes of different colors when they're stacked on top of each other. However you can click on the Debris Category squares in the legend to the right to exclude/include categories in the graph.\n",
    "\n",
    "\n",
    "## Top 5 Trash Categories\n",
    "Below is the same bar plot as above but with only the top 5 trash categories. This looks cleaner, however there is a difficulty comparing the sizes of each debris category when they're stacked on top of each other."
   ]
  },
  {
   "cell_type": "code",
   "execution_count": null,
   "id": "9c4791de-7392-4b60-9c0f-584c84fc22a9",
   "metadata": {},
   "outputs": [],
   "source": [
    "fig = graph_maker.annual_total_bar(item_nbr=5)\n",
    "fig.show()"
   ]
  },
  {
   "cell_type": "markdown",
   "id": "2be3fffa-977f-4e5f-8846-0ca0ea9981e4",
   "metadata": {},
   "source": [
    "## Total Number of Volunteers Each Year\n",
    "\n",
    "Total volunteers are defined as Adult Volunteers + 0.5 * Youth Volunteers, just like in the NOAA marine debris report."
   ]
  },
  {
   "cell_type": "code",
   "execution_count": null,
   "id": "2f4b4091-7b03-48ee-9e7b-892315171da8",
   "metadata": {},
   "outputs": [],
   "source": [
    "fig = graph_maker.annual_volunteers()\n",
    "fig.show()"
   ]
  },
  {
   "cell_type": "markdown",
   "id": "c9100df5-2483-4bc1-81f8-0bef70eb3cc3",
   "metadata": {},
   "source": [
    "The bar graph above shows the total number of volunteers over the years 2013-23. As you can see, 2020 had the least number of volunteers, most likely an effect of the COVID-19 pandemic. The number of volunteers has been growing since then but have yet to reach pre-pandemic levels."
   ]
  },
  {
   "cell_type": "markdown",
   "id": "2d4ebf8b-59c1-4aff-bd38-254714570a84",
   "metadata": {},
   "source": [
    "# Number of Volunteers vs Number of Debris Items\n",
    "\n",
    "It looks like total number of trash items and number of volunteers might be correlated. It would make sense that the more people are doing cleanup, the more things get cleaned up to a certain extent. Below is a scatter plot with the number of items vs number of volunteers, each summarized over a one year period. The line is an ordinary least squares regression trendline fitted to the data points."
   ]
  },
  {
   "cell_type": "code",
   "execution_count": null,
   "id": "e7f5ab03-a7af-4530-b9f6-31637f3dce49",
   "metadata": {},
   "outputs": [],
   "source": [
    "fig.data = []\n",
    "fig = px.scatter(graph_maker.annual_data, \n",
    "                 x='Total Volunteers', \n",
    "                 y='Total Items', \n",
    "                 trendline=\"ols\",\n",
    "                 title=\"Number of Items vs Number of Volunteers\",\n",
    "                )\n",
    "fig.update_layout(\n",
    "    autosize=False,\n",
    "    width=800,\n",
    "    height=500,\n",
    "    yaxis_title='Total Number of Items',\n",
    "    xaxis_title='Total Number of Volunteers',\n",
    ")\n",
    "fig.update_traces(marker_color=graphs.SOS_BLUE)\n",
    "fig.show()"
   ]
  },
  {
   "cell_type": "markdown",
   "id": "6b5cd336-4bf6-43be-a232-79ecdd39b0be",
   "metadata": {},
   "source": [
    "Below we'll compute the correlation statistics R squared, p-value and the coefficicents (constant and slope) of the trendline."
   ]
  },
  {
   "cell_type": "code",
   "execution_count": null,
   "id": "95b8c781-2171-4042-b69c-0f71d50e2fd5",
   "metadata": {},
   "outputs": [],
   "source": [
    "results = px.get_trendline_results(fig)\n",
    "\n",
    "stats = [[\"\", \"\"],\n",
    "         [\"R Squared\", \"\"],\n",
    "         [\"p-value\", \"\"],\n",
    "         [\"f(x)\", \"\"]]\n",
    "\n",
    "for idx in range(1):\n",
    "    stats[1][idx + 1] = \"{:.5f}\".format(results.px_fit_results[idx].rsquared)\n",
    "    stats[2][idx + 1] = \"{}\".format(results.px_fit_results[idx].pvalues[1])\n",
    "    params = results.px_fit_results[idx].params\n",
    "    stats[3][idx + 1] = \"{:.1f}x + {:.1f}\".format(params[1], params[0])\n",
    "\n",
    "table = tabulate.tabulate(stats, tablefmt='html')\n",
    "table"
   ]
  },
  {
   "cell_type": "markdown",
   "id": "62682438-955c-4ed6-9bea-6fab7b76a448",
   "metadata": {},
   "source": [
    "There's a significant correlation between number of volunteers and number of items collected for each year, which suggests that the number of items collected in a year might depend on the number of volunteers doing beach cleanups that year. \n",
    "The fewer debris items collected in 2020 may have been a result of fewer people being out during the pandemic, and not necessarily due to less littering.\n",
    "\n",
    "In NOAA's marine debris report, the variable with the strongest impact on the amount of marine debris was the number of collectors (here volunteers) in the Generalized Linear Mixed Model in Section 7. In fact, the effect was 7.5 times the variable with the second stongest effect (distance to river mouth). This emphasizes how the number of debris items collected depends on the number of collectors."
   ]
  },
  {
   "cell_type": "markdown",
   "id": "08e9ae67-a165-43f8-8c6a-958a2e07acc5",
   "metadata": {},
   "source": [
    "# Debris Items Per Volunteer\n",
    "\n",
    "## Grouped by Category\n",
    "Now that we know that there's a significant correlation between the number of debris items and the number of volunteers, let's plot the number of debris items per volunteer over time. By dividing number of items by number of volunteers we can to some extent factor out that effect. Here I'm making line graphs rather than bar plots, since line graphs provides a more direct way of comparison of amounts compared to bars stacked on top of each other."
   ]
  },
  {
   "cell_type": "code",
   "execution_count": null,
   "id": "589f512a-279f-44fc-bf17-c7f88acaf9ce",
   "metadata": {
    "scrolled": true
   },
   "outputs": [],
   "source": [
    "fig = graph_maker.item_per_volunteer()\n",
    "fig.show()"
   ]
  },
  {
   "cell_type": "markdown",
   "id": "784c1cf6-ea63-4eca-8f1a-0db9fe31d625",
   "metadata": {},
   "source": [
    "In the Top 5 Trash Categories graph, it looks like the number of cigarette butts have increased since 2020. But after dividing number of debris items by number of volunteers, it seems there might be a slight decreasing trend for cigarette butts from 2020 onwards. Unfortunately there seems to be an increasing number of plastic pieces on our shores.\n",
    "\n",
    "## Grouped by Material\n",
    "We'll group our data by trash material and look what's the most common material that's littering our coastline. This graph is similar to Figure 14 in NOAA's marine debris report, but instead of showing percentages of total number of trash items, we're plotting number of debris items grouped by their material per volunteer. Somewhat different categories are used here: wood and paper are labeled just 'wood'."
   ]
  },
  {
   "cell_type": "code",
   "execution_count": null,
   "id": "18f021a2-f0ff-4f0d-9b28-46006c1fc5f6",
   "metadata": {
    "scrolled": true
   },
   "outputs": [],
   "source": [
    "fig = graph_maker.material_per_volunteer()\n",
    "fig.show()"
   ]
  },
  {
   "cell_type": "markdown",
   "id": "ab264a33-a4a4-47b8-aa6c-2ffdf060e825",
   "metadata": {},
   "source": [
    "It is clear that plastic is by far the most common material among debris collected on our shorelines, and the amount of plastic may be increasing."
   ]
  },
  {
   "cell_type": "markdown",
   "id": "73e0d897-cfb4-4786-b52e-03f42b801514",
   "metadata": {},
   "source": [
    "# Debris Caused by Smoking\n",
    "\n",
    "The single most prevalent debris caused by recognizable item is by far cigarette butts. In this section, the influence of smoking on collected marine debris will be further explored.\n",
    "\n",
    "## Number of Cigarette Butts by Location 2013-2023\n",
    "\n",
    "The map below shows the number of cigarette butts cleaned up for each site which we have geographic coordinates for. Each circle represents a cleanup site and the size of the circle corresponds to the number of cigarette butts cleaned up."
   ]
  },
  {
   "cell_type": "code",
   "execution_count": null,
   "id": "739c1223-0bb6-4b4c-995e-feab2bb858e0",
   "metadata": {
    "scrolled": true
   },
   "outputs": [],
   "source": [
    "fig = graph_maker.cigarette_map()\n",
    "fig.show()"
   ]
  },
  {
   "cell_type": "markdown",
   "id": "79ea4b97-16a6-4ec0-a9f5-db91b995abff",
   "metadata": {
    "jp-MarkdownHeadingCollapsed": true
   },
   "source": [
    "The map above shows the sites where cigarette butts were collected in the years 2013-2023. The circles are centered on the cleanup site, and the size of the circles correspond to the number of cigarette butts cleaned up from that site. You can hover over the circle to get more information, and you can zoom in and out on the map by sliding down and up with two fingers on your trackpad. SLR stands for San Lorenzo River.\n",
    "\n",
    "This plot is limited to sites with known coordinates, and coordinates successfully located with the geopy package.\n",
    "(Note: I merged Corcoran Lagoon at 20th and 26th Ave to Corcoran Lagoon, and I merged two Del Monte Beach locations into one)."
   ]
  },
  {
   "cell_type": "markdown",
   "id": "9a4ea792-36cb-492d-a590-1d0e94e60bdc",
   "metadata": {},
   "source": [
    "## Debris Caused by Smoking, 2013-2023\n",
    "\n",
    "Let's look at the categories specifically related to smoking and see how they've changed over time. Since there is a correlation between number of items collected and number of volunteers, we'll look at number of items per volunteer for each year. The smoking related items in the data set are: **Cigarette Butts**, **Cigar Tips**, **E-Waste**, and **Tobacco**. The Tobacco category includes items such as packaging and wrappers. Since some data categories for some year were e.g. 'Other Tobacco (Packaging, Lighter, Etc.)' or 'Smoking, Tobacco, Vape Items (Not Butts)', this general Tobacco category may include some lighters and e-waste items."
   ]
  },
  {
   "cell_type": "code",
   "execution_count": null,
   "id": "c67c68c0-a4e3-42ae-8ace-b45130e05b2e",
   "metadata": {},
   "outputs": [],
   "source": [
    "fig = graph_maker.smoking_line_graph()\n",
    "fig.show()"
   ]
  },
  {
   "cell_type": "markdown",
   "id": "4b5f1fb1-80aa-4ad4-976c-8b84d9b11a09",
   "metadata": {},
   "source": [
    "Cigarette butts is by far the worst polluter among smoking categories and the second worst overall after plastic pieces.\n",
    "\n",
    "## Smoking Ban on State Beaches\n",
    "\n",
    "In 2020, a smoking ban on state beaches took effect. Here we separate the data into state beaches and not state beaches and look at the number of cigarette butts cleaned up per volunteer. The separation was made by searching for the keywords 'Beach' and 'State', so the cleanup site names needs to be verified to make sure 'State' is in the name if it's a state beach. Capitola and Cowell/Main beaches were excluded from the dataset since I believe there's been a ban on smoking there since 2004."
   ]
  },
  {
   "cell_type": "code",
   "execution_count": null,
   "id": "3695e579-5c1c-437e-adf3-c4b70a9c776b",
   "metadata": {},
   "outputs": [],
   "source": [
    "fig = graph_maker.smoking_state_beaches()\n",
    "fig.show()"
   ]
  },
  {
   "cell_type": "markdown",
   "id": "425b3f9e-faf5-4727-a769-9ae56208de7e",
   "metadata": {},
   "source": [
    "The dotted vertical line in the figure above is placed in between the aggregate results from 2019 and 2020 since the smoking ban on state beaches came into effect at the beginning of 2020. \n",
    "2020 was an unusual year and it's hard to tell what the effects of COVID-19 was on this data. But it looks like we may be seeing a decrease in the number of cigarette butts on both state beaches and otherwise after 2020, with fewer number of cigarette butts found on state beaches.\n",
    "What I don't know is if state beaches are being cleaned up by state employees or other organizations, and if so, if they report the number of debris items they collect."
   ]
  },
  {
   "cell_type": "markdown",
   "id": "33891102-d7e0-437e-a9b9-308b07aa57a8",
   "metadata": {},
   "source": [
    "# Discussion\n",
    "\n",
    "This notebook displays some of the key findings of the Save Our Shores coastal cleanup data, including totals of debris items grouped by material and activity, longitudinal analysis, as well as debris caused by smoking more specifically. It should be noted that (as often is the case) the bulk of the work consisted of data wrangling, and if you're interested in seeing how I extracted, transformed and loaded the data from non-standardized spreadsheets, please take a look at the [GitHub repository.](https://github.com/jennyfolkesson/saveOurShores/tree/main)\n",
    "\n",
    "It's clear from the data that plastic pollution is by far the most common marine debris material collected by Save Our Shores. This aligns with findings that oceans have massive plastic pollution problem, and is made even worse due to the fact that plastics don't break down (biodegrade), they break up into smaller and smaller pieces. Microplastics (plastic pieces with diameters <5mm) are [omnipresent and consumed by animals and humans alike.](https://www.ncbi.nlm.nih.gov/pmc/articles/PMC9920460/). This implies that there's an urgent need to take action to reduce plastic consumption, which is the root cause of this massive problem.\n",
    "\n",
    "Cigarette butts are by far the most common identifiable debris item collected on our beaches, and it's second only to plastic pieces (which is all types of plastic trash broken into smaller pieces) out of all debris categories. Despite a sligth potential downward trend in recent years of collected cigarette butts, they remain a massive cause of pollution globally, with [an estimated 4.5 trillion cigarette filters deposited into the environment annually.](https://ncbi.nlm.nih.gov/pmc/articles/PMC9340047/)\n",
    "Save Our Shores is working to ban the sale of single-use cigarette filters in Santa Cruz County in the fall of 2024, and if you support their cause please consider [signing this survey.](https://saveourshores.org/sea-change-in-60-seconds/)\n",
    "In short, cigarette butts are toxic pieces of single use plastics which fill no function other than giving smokers a false sense of security, and they have no place on our beaches or anywhere else."
   ]
  }
 ],
 "metadata": {
  "kernelspec": {
   "display_name": "Python 3 (ipykernel)",
   "language": "python",
   "name": "python3"
  },
  "language_info": {
   "codemirror_mode": {
    "name": "ipython",
    "version": 3
   },
   "file_extension": ".py",
   "mimetype": "text/x-python",
   "name": "python",
   "nbconvert_exporter": "python",
   "pygments_lexer": "ipython3",
   "version": "3.12.5"
  },
  "widgets": {
   "application/vnd.jupyter.widget-state+json": {
    "state": {},
    "version_major": 2,
    "version_minor": 0
   }
  }
 },
 "nbformat": 4,
 "nbformat_minor": 5
}
